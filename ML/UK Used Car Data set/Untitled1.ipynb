{
 "cells": [
  {
   "cell_type": "code",
   "execution_count": 3,
   "id": "afd00b04-8ea6-4d5a-ba6c-f3d5ab6dc5e7",
   "metadata": {},
   "outputs": [],
   "source": [
    "import pandas as pd\n",
    "import numpy as np\n",
    "\n",
    "from sklearn.model_selection import train_test_split\n",
    "from sklearn.compose import make_column_transformer\n",
    "from sklearn.impute import SimpleImputer\n",
    "from sklearn.preprocessing import LabelEncoder\n",
    "\n",
    "import seaborn as sns\n",
    "import matplotlib.pyplot as plt"
   ]
  },
  {
   "cell_type": "code",
   "execution_count": 5,
   "id": "9edefd2f-798d-4f19-a945-e68071eebc45",
   "metadata": {},
   "outputs": [],
   "source": [
    "df = pd.read_csv(\"../data/UK Used Car Data set/X_train.csv\")"
   ]
  },
  {
   "cell_type": "code",
   "execution_count": 6,
   "id": "02156174-e090-45a6-a501-1a4f8f74544e",
   "metadata": {},
   "outputs": [
    {
     "data": {
      "text/html": [
       "<div>\n",
       "<style scoped>\n",
       "    .dataframe tbody tr th:only-of-type {\n",
       "        vertical-align: middle;\n",
       "    }\n",
       "\n",
       "    .dataframe tbody tr th {\n",
       "        vertical-align: top;\n",
       "    }\n",
       "\n",
       "    .dataframe thead th {\n",
       "        text-align: right;\n",
       "    }\n",
       "</style>\n",
       "<table border=\"1\" class=\"dataframe\">\n",
       "  <thead>\n",
       "    <tr style=\"text-align: right;\">\n",
       "      <th></th>\n",
       "      <th>carID</th>\n",
       "      <th>brand</th>\n",
       "      <th>model</th>\n",
       "      <th>year</th>\n",
       "      <th>transmission</th>\n",
       "      <th>mileage</th>\n",
       "      <th>fuelType</th>\n",
       "      <th>tax</th>\n",
       "      <th>mpg</th>\n",
       "      <th>engineSize</th>\n",
       "    </tr>\n",
       "  </thead>\n",
       "  <tbody>\n",
       "    <tr>\n",
       "      <th>0</th>\n",
       "      <td>13207</td>\n",
       "      <td>hyundi</td>\n",
       "      <td>Santa Fe</td>\n",
       "      <td>2019</td>\n",
       "      <td>Semi-Auto</td>\n",
       "      <td>4223</td>\n",
       "      <td>Diesel</td>\n",
       "      <td>145.0</td>\n",
       "      <td>39.8</td>\n",
       "      <td>2.2</td>\n",
       "    </tr>\n",
       "    <tr>\n",
       "      <th>1</th>\n",
       "      <td>17314</td>\n",
       "      <td>vauxhall</td>\n",
       "      <td>GTC</td>\n",
       "      <td>2015</td>\n",
       "      <td>Manual</td>\n",
       "      <td>47870</td>\n",
       "      <td>Diesel</td>\n",
       "      <td>125.0</td>\n",
       "      <td>60.1</td>\n",
       "      <td>2.0</td>\n",
       "    </tr>\n",
       "    <tr>\n",
       "      <th>2</th>\n",
       "      <td>12342</td>\n",
       "      <td>audi</td>\n",
       "      <td>RS4</td>\n",
       "      <td>2019</td>\n",
       "      <td>Automatic</td>\n",
       "      <td>5151</td>\n",
       "      <td>Petrol</td>\n",
       "      <td>145.0</td>\n",
       "      <td>29.1</td>\n",
       "      <td>2.9</td>\n",
       "    </tr>\n",
       "    <tr>\n",
       "      <th>3</th>\n",
       "      <td>13426</td>\n",
       "      <td>vw</td>\n",
       "      <td>Scirocco</td>\n",
       "      <td>2016</td>\n",
       "      <td>Automatic</td>\n",
       "      <td>20423</td>\n",
       "      <td>Diesel</td>\n",
       "      <td>30.0</td>\n",
       "      <td>57.6</td>\n",
       "      <td>2.0</td>\n",
       "    </tr>\n",
       "    <tr>\n",
       "      <th>4</th>\n",
       "      <td>16004</td>\n",
       "      <td>skoda</td>\n",
       "      <td>Scala</td>\n",
       "      <td>2020</td>\n",
       "      <td>Semi-Auto</td>\n",
       "      <td>3569</td>\n",
       "      <td>Petrol</td>\n",
       "      <td>145.0</td>\n",
       "      <td>47.1</td>\n",
       "      <td>1.0</td>\n",
       "    </tr>\n",
       "  </tbody>\n",
       "</table>\n",
       "</div>"
      ],
      "text/plain": [
       "   carID     brand      model  year transmission  mileage fuelType    tax  \\\n",
       "0  13207    hyundi   Santa Fe  2019    Semi-Auto     4223   Diesel  145.0   \n",
       "1  17314  vauxhall        GTC  2015       Manual    47870   Diesel  125.0   \n",
       "2  12342      audi        RS4  2019    Automatic     5151   Petrol  145.0   \n",
       "3  13426        vw   Scirocco  2016    Automatic    20423   Diesel   30.0   \n",
       "4  16004     skoda      Scala  2020    Semi-Auto     3569   Petrol  145.0   \n",
       "\n",
       "    mpg  engineSize  \n",
       "0  39.8         2.2  \n",
       "1  60.1         2.0  \n",
       "2  29.1         2.9  \n",
       "3  57.6         2.0  \n",
       "4  47.1         1.0  "
      ]
     },
     "execution_count": 6,
     "metadata": {},
     "output_type": "execute_result"
    }
   ],
   "source": [
    "df.head()"
   ]
  },
  {
   "cell_type": "code",
   "execution_count": 22,
   "id": "f145af88-5217-4ad8-9282-f3acd70796dd",
   "metadata": {},
   "outputs": [
    {
     "name": "stdout",
     "output_type": "stream",
     "text": [
      "brand: brand\n",
      "merc        790\n",
      "vw          768\n",
      "ford        766\n",
      "bmw         638\n",
      "hyundi      511\n",
      "toyota      446\n",
      "skoda       425\n",
      "audi        343\n",
      "vauxhall    273\n",
      "Name: count, dtype: int64\n",
      "model: model\n",
      " Arteon         167\n",
      " Grand C-MAX    164\n",
      " Scirocco       163\n",
      " Prius          154\n",
      " Santa Fe       150\n",
      "               ... \n",
      " Eos              5\n",
      " Z3               5\n",
      " Getz             4\n",
      " CLK              4\n",
      " IQ               2\n",
      "Name: count, Length: 90, dtype: int64\n",
      "transmission: transmission\n",
      "Manual       1948\n",
      "Automatic    1660\n",
      "Semi-Auto    1351\n",
      "Other           1\n",
      "Name: count, dtype: int64\n",
      "fuelType: fuelType\n",
      "Diesel      2989\n",
      "Petrol      1754\n",
      "Hybrid       189\n",
      "Other         26\n",
      "Electric       2\n",
      "Name: count, dtype: int64\n"
     ]
    }
   ],
   "source": [
    "for label, content in df.items():\n",
    "    if pd.api.types.is_object_dtype(content):\n",
    "        print(\"{}: {}\".format(label, df[label].value_counts()))"
   ]
  },
  {
   "cell_type": "code",
   "execution_count": 23,
   "id": "231e3b1f-ac39-441f-a9f1-e3a8992390d9",
   "metadata": {},
   "outputs": [
    {
     "data": {
      "text/plain": [
       "array([' Santa Fe', ' GTC', ' RS4', ' Scirocco', ' Scala', ' V Class',\n",
       "       ' Prius', ' M4', ' Camry', ' KA', ' Vivaro', ' CLS Class',\n",
       "       ' Caravelle', ' Arteon', ' Shuttle', ' I40', ' IX20', ' 6 Series',\n",
       "       ' GL Class', ' S Class', ' S3', ' Yeti', ' Galaxy', ' Puma',\n",
       "       ' Edge', ' A8', ' SLK', ' Kamiq', ' RS6', ' CLA Class',\n",
       "       ' Land Cruiser', ' M Class', ' Q8', ' i3', ' Verso', ' Mustang',\n",
       "       ' IX35', ' Amarok', ' Avensis', ' Grand Tourneo Connect',\n",
       "       ' Antara', ' Tourneo Connect', ' Beetle', ' X4', ' CC', ' GT86',\n",
       "       ' X-CLASS', ' I800', ' i8', ' Caddy Maxi Life', ' Combo Life',\n",
       "       ' Rapid', ' SQ7', ' Grand C-MAX', ' Tourneo Custom', ' California',\n",
       "       ' Agila', ' A7', ' Zafira Tourer', ' G Class', ' Tiguan Allspace',\n",
       "       ' X6', ' M2', ' X7', ' 7 Series', ' Z4', ' RS5', ' Hilux',\n",
       "       ' GLS Class', ' GLB Class', ' M5', ' RS3', ' Caddy Life', ' SQ5',\n",
       "       ' Supra', ' 8 Series', ' Fusion', ' M6', ' M3', ' Jetta', ' S4',\n",
       "       ' R8', ' PROACE VERSO', ' Caddy', ' Getz', ' Eos', ' CLK', ' IQ',\n",
       "       ' Z3', ' Roomster'], dtype=object)"
      ]
     },
     "execution_count": 23,
     "metadata": {},
     "output_type": "execute_result"
    }
   ],
   "source": [
    "df.model.unique()"
   ]
  },
  {
   "cell_type": "code",
   "execution_count": null,
   "id": "621c8463-20b5-48d7-b148-4de5ec8a5578",
   "metadata": {},
   "outputs": [],
   "source": []
  }
 ],
 "metadata": {
  "kernelspec": {
   "display_name": "Python 3 (ipykernel)",
   "language": "python",
   "name": "python3"
  },
  "language_info": {
   "codemirror_mode": {
    "name": "ipython",
    "version": 3
   },
   "file_extension": ".py",
   "mimetype": "text/x-python",
   "name": "python",
   "nbconvert_exporter": "python",
   "pygments_lexer": "ipython3",
   "version": "3.9.18"
  }
 },
 "nbformat": 4,
 "nbformat_minor": 5
}
