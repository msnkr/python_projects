{
 "cells": [
  {
   "cell_type": "markdown",
   "id": "687081e1-d32e-40d2-bd04-8d17fe0400b0",
   "metadata": {},
   "source": [
    "# Car Listings Analysis\r\n",
    "\r\n",
    "## Updated Version\r\n",
    "This project involves the analysis of scraped data from **100,000 used car listings**, which have been separated into files corresponding to each car manufacturer. The data was initially collected to create a tool to predict the selling price of a friend's old car in comparison to other cars on the market. This idea was then expanded to create a more general car value regression model.\r\n",
    "\r\n",
    "## Previous Version\r\n",
    "The previous version of this project focused on two common cars on the British market: the **Ford Focus** and the **Mercedes C Class**. The aim was to determine the ideal time to sell certain cars, i.e., at what age and mileage there are significant drops in resale value. Comparisons were also made between the two car models, and a classifier was developed to distinguish between a Ford or Mercedes car. More makes and models can easily be added upon request.\r\n",
    "\r\n",
    "## Content\r\n",
    "The cleaned data set contains information on the following columns: \r\n",
    "- 'carID'\r\n",
    "- 'brand'\r\n",
    "- 'model'\r\n",
    "- 'year'\r\n",
    "- 'transmission'\r\n",
    "- 'mileage'\r\n",
    "- 'fuelType'\r\n",
    "- 'tax'\r\n",
    "- 'mpg'\r\n",
    "- 'engineSize'\r\n",
    "\r\n",
    "Duplicate listings have been removed and the columns have been cleaned. A notebook detailing the cleaning process and the original data is included for anyone interested in checking or improving the work.\r\n"
   ]
  },
  {
   "cell_type": "code",
   "execution_count": 39,
   "id": "27b6bea1-c8fc-44bd-9e9e-500aae8296c7",
   "metadata": {},
   "outputs": [],
   "source": [
    "import pandas as pd\n",
    "import numpy as np\n",
    "\n",
    "from catboost import CatBoostRegressor\n",
    "from sklearn.model_selection import train_test_split\n",
    "from sklearn.metrics import mean_squared_log_error\n",
    "\n",
    "import optuna"
   ]
  },
  {
   "cell_type": "code",
   "execution_count": 74,
   "id": "0a980a5c-a23b-4f1a-bbf3-f556bc03b06f",
   "metadata": {},
   "outputs": [],
   "source": [
    "X = pd.read_csv(\"../data/UK Used Car Data set/X_train.csv\")\n",
    "y = pd.read_csv(\"../data/UK Used Car Data set/y_train.csv\")"
   ]
  },
  {
   "cell_type": "code",
   "execution_count": 21,
   "id": "0cb3d077-936f-4e0b-b546-e01c8a5b1e53",
   "metadata": {},
   "outputs": [
    {
     "data": {
      "text/plain": [
       "carID             int64\n",
       "brand            object\n",
       "model            object\n",
       "year              int64\n",
       "transmission     object\n",
       "mileage           int64\n",
       "fuelType         object\n",
       "tax             float64\n",
       "mpg             float64\n",
       "engineSize      float64\n",
       "dtype: object"
      ]
     },
     "execution_count": 21,
     "metadata": {},
     "output_type": "execute_result"
    }
   ],
   "source": [
    "X.dtypes"
   ]
  },
  {
   "cell_type": "code",
   "execution_count": 22,
   "id": "1bc0236c-74f3-4446-a858-e42cd7e23bc3",
   "metadata": {},
   "outputs": [],
   "source": [
    "def preprocess(X):\n",
    "    for label, content in X.items():\n",
    "        if not pd.api.types.is_numeric_dtype(content):\n",
    "            dummies = pd.get_dummies(content, prefix=label)\n",
    "            X = pd.concat([X, dummies], axis=1)\n",
    "            X.drop(label, axis=1, inplace=True)\n",
    "\n",
    "    return X"
   ]
  },
  {
   "cell_type": "code",
   "execution_count": 23,
   "id": "87ecdea3-6369-4fc6-a532-339a935a7c88",
   "metadata": {},
   "outputs": [],
   "source": [
    "X = preprocess(X)"
   ]
  },
  {
   "cell_type": "code",
   "execution_count": 27,
   "id": "ac9e61d5-a0f6-479f-87fe-a9ff6223488c",
   "metadata": {},
   "outputs": [],
   "source": [
    "y.drop(\"carID\", axis=1, inplace=True)"
   ]
  },
  {
   "cell_type": "code",
   "execution_count": 31,
   "id": "dff9351a-b856-4709-b3ec-179e47f63af3",
   "metadata": {},
   "outputs": [],
   "source": [
    "X_train, X_test, y_train, y_test = train_test_split(X, y, test_size=0.4)"
   ]
  },
  {
   "cell_type": "code",
   "execution_count": 34,
   "id": "37d85a46-4c8a-48fc-b4fe-a11765332376",
   "metadata": {},
   "outputs": [],
   "source": [
    "model = CatBoostRegressor(eval_metric=\"RMSE\", early_stopping_rounds=100)"
   ]
  },
  {
   "cell_type": "code",
   "execution_count": 35,
   "id": "f0928a23-21b3-40bf-b13c-05b013316c9f",
   "metadata": {},
   "outputs": [
    {
     "data": {
      "application/vnd.jupyter.widget-view+json": {
       "model_id": "2ddf8264cbd74b36b07a3ca523f56658",
       "version_major": 2,
       "version_minor": 0
      },
      "text/plain": [
       "MetricVisualizer(layout=Layout(align_self='stretch', height='500px'))"
      ]
     },
     "metadata": {},
     "output_type": "display_data"
    }
   ],
   "source": [
    "model.fit(X_train, y_train, eval_set=(X_test, y_test), verbose=False, plot=True);"
   ]
  },
  {
   "cell_type": "code",
   "execution_count": 57,
   "id": "4eb521cb-5e2a-4b26-9606-4b8f4cd08a72",
   "metadata": {},
   "outputs": [],
   "source": [
    "y_preds = model.predict(X_test)"
   ]
  },
  {
   "cell_type": "code",
   "execution_count": 58,
   "id": "ac7d69d8-32e0-4113-aca6-c83df1e8067f",
   "metadata": {},
   "outputs": [
    {
     "data": {
      "text/plain": [
       "0.1515510116638285"
      ]
     },
     "execution_count": 58,
     "metadata": {},
     "output_type": "execute_result"
    }
   ],
   "source": [
    "mean_squared_log_error(y_test, y_preds, squared=False)"
   ]
  },
  {
   "cell_type": "code",
   "execution_count": 69,
   "id": "b232cff3-f014-470d-9cfc-6765304885ac",
   "metadata": {},
   "outputs": [],
   "source": [
    "test_df = pd.read_csv(\"../data/UK Used Car Data set/X_test.csv\")"
   ]
  },
  {
   "cell_type": "code",
   "execution_count": 75,
   "id": "b4da977d-a9ee-4476-bc50-fdcc0526874a",
   "metadata": {},
   "outputs": [],
   "source": [
    "test_df = preprocess(test_df)"
   ]
  },
  {
   "cell_type": "code",
   "execution_count": 78,
   "id": "a2ab778b-3224-44fa-8557-5d6f8ad3d7d9",
   "metadata": {},
   "outputs": [
    {
     "data": {
      "text/plain": [
       "{'brand', 'fuelType', 'model', 'transmission'}"
      ]
     },
     "execution_count": 78,
     "metadata": {},
     "output_type": "execute_result"
    }
   ],
   "source": [
    "set(X.columns) - set(test_df.columns)"
   ]
  },
  {
   "cell_type": "code",
   "execution_count": 84,
   "id": "f1a2d09c-aad3-4f1a-b5e1-62e6ee283647",
   "metadata": {},
   "outputs": [
    {
     "data": {
      "text/plain": [
       "(6, 10)"
      ]
     },
     "execution_count": 84,
     "metadata": {},
     "output_type": "execute_result"
    }
   ],
   "source": [
    "len(df.columns), len(X.columns)"
   ]
  },
  {
   "cell_type": "code",
   "execution_count": null,
   "id": "233216fc-6932-49e1-b053-f65e9c3e6a2d",
   "metadata": {},
   "outputs": [],
   "source": []
  }
 ],
 "metadata": {
  "kernelspec": {
   "display_name": "Python 3 (ipykernel)",
   "language": "python",
   "name": "python3"
  },
  "language_info": {
   "codemirror_mode": {
    "name": "ipython",
    "version": 3
   },
   "file_extension": ".py",
   "mimetype": "text/x-python",
   "name": "python",
   "nbconvert_exporter": "python",
   "pygments_lexer": "ipython3",
   "version": "3.9.18"
  }
 },
 "nbformat": 4,
 "nbformat_minor": 5
}
