{
 "cells": [
  {
   "cell_type": "code",
   "execution_count": null,
   "id": "ff7a0484",
   "metadata": {},
   "outputs": [],
   "source": [
    "import pandas as pd"
   ]
  },
  {
   "cell_type": "code",
   "execution_count": null,
   "id": "30840a26",
   "metadata": {},
   "outputs": [],
   "source": [
    "series = pd.Series([\"BMW\", \"Toyota\", \"Honda\"])"
   ]
  },
  {
   "cell_type": "code",
   "execution_count": null,
   "id": "c879aa2a",
   "metadata": {},
   "outputs": [],
   "source": [
    "series"
   ]
  },
  {
   "cell_type": "code",
   "execution_count": null,
   "id": "3e070359",
   "metadata": {},
   "outputs": [],
   "source": [
    "# Series is 1 - dimensional "
   ]
  },
  {
   "cell_type": "code",
   "execution_count": null,
   "id": "ccaaf537",
   "metadata": {},
   "outputs": [],
   "source": [
    "colors = pd.Series([\"Green\", \"Blue\", \"Yellow\"])\n",
    "colors"
   ]
  },
  {
   "cell_type": "code",
   "execution_count": null,
   "id": "3896999c",
   "metadata": {},
   "outputs": [],
   "source": [
    "# Dataframes are 2 - dimensional"
   ]
  },
  {
   "cell_type": "code",
   "execution_count": null,
   "id": "5439b0c6",
   "metadata": {},
   "outputs": [],
   "source": [
    "car_data = pd.DataFrame({\n",
    "    \"Car name\": series,\n",
    "    \"Color\": colors,\n",
    "})\n",
    "\n",
    "car_data"
   ]
  },
  {
   "cell_type": "code",
   "execution_count": null,
   "id": "29c83b7f",
   "metadata": {},
   "outputs": [],
   "source": [
    "# Import data"
   ]
  },
  {
   "cell_type": "code",
   "execution_count": null,
   "id": "d9b0fd1a",
   "metadata": {
    "scrolled": true
   },
   "outputs": [],
   "source": [
    "car_sales = pd.read_csv(\"7.1 car-sales.csv\")\n",
    "car_sales"
   ]
  },
  {
   "cell_type": "code",
   "execution_count": null,
   "id": "0c84aa6e",
   "metadata": {},
   "outputs": [],
   "source": [
    "# Export csv\n",
    "# car_sales.to_csv(\"exported-car-sales.csv\", index=False)"
   ]
  },
  {
   "cell_type": "markdown",
   "id": "c5d92a67",
   "metadata": {},
   "source": [
    "# Describe data"
   ]
  },
  {
   "cell_type": "code",
   "execution_count": null,
   "id": "c6133a38",
   "metadata": {},
   "outputs": [],
   "source": [
    "car_sales.dtypes"
   ]
  },
  {
   "cell_type": "code",
   "execution_count": null,
   "id": "1d0586e6",
   "metadata": {},
   "outputs": [],
   "source": [
    "car_columns = car_sales.columns"
   ]
  },
  {
   "cell_type": "code",
   "execution_count": null,
   "id": "4c78836f",
   "metadata": {},
   "outputs": [],
   "source": [
    "car_columns"
   ]
  },
  {
   "cell_type": "code",
   "execution_count": null,
   "id": "bdeb97bc",
   "metadata": {},
   "outputs": [],
   "source": [
    "car_sales.index"
   ]
  },
  {
   "cell_type": "code",
   "execution_count": null,
   "id": "d2203d61",
   "metadata": {},
   "outputs": [],
   "source": [
    "car_sales.describe()"
   ]
  },
  {
   "cell_type": "code",
   "execution_count": null,
   "id": "62c30534",
   "metadata": {},
   "outputs": [],
   "source": [
    "car_sales.info()"
   ]
  },
  {
   "cell_type": "code",
   "execution_count": null,
   "id": "8b13d50f",
   "metadata": {},
   "outputs": [],
   "source": [
    "car_prices = pd.Series([3000, 2000, 2000])\n",
    "car_prices.mean()"
   ]
  },
  {
   "cell_type": "code",
   "execution_count": null,
   "id": "bac2942e",
   "metadata": {},
   "outputs": [],
   "source": [
    "car_sales.sum()"
   ]
  },
  {
   "cell_type": "code",
   "execution_count": null,
   "id": "9eec4eaf",
   "metadata": {},
   "outputs": [],
   "source": [
    "car_sales[\"Doors\"].sum()"
   ]
  },
  {
   "cell_type": "code",
   "execution_count": null,
   "id": "168755f1",
   "metadata": {},
   "outputs": [],
   "source": [
    "len(car_sales)"
   ]
  },
  {
   "cell_type": "markdown",
   "id": "7a974819",
   "metadata": {},
   "source": [
    "# Viewing and selecting"
   ]
  },
  {
   "cell_type": "code",
   "execution_count": null,
   "id": "40d4802b",
   "metadata": {},
   "outputs": [],
   "source": [
    "car_sales.head()"
   ]
  },
  {
   "cell_type": "code",
   "execution_count": null,
   "id": "84a22800",
   "metadata": {},
   "outputs": [],
   "source": [
    "car_sales.head(3)"
   ]
  },
  {
   "cell_type": "code",
   "execution_count": null,
   "id": "e3d4be7c",
   "metadata": {},
   "outputs": [],
   "source": [
    "# loc and iloc"
   ]
  },
  {
   "cell_type": "code",
   "execution_count": null,
   "id": "5bdbaef6",
   "metadata": {},
   "outputs": [],
   "source": [
    "animals = pd.Series([\"cat\", \"dog\", \"snake\", \"panda\", \"bat\"], index=[0, 3, 6, 8, 5])"
   ]
  },
  {
   "cell_type": "code",
   "execution_count": null,
   "id": "494fa6dc",
   "metadata": {},
   "outputs": [],
   "source": [
    "animals"
   ]
  },
  {
   "cell_type": "code",
   "execution_count": null,
   "id": "1b30ba1b",
   "metadata": {},
   "outputs": [],
   "source": [
    "animals.loc[3]"
   ]
  },
  {
   "cell_type": "code",
   "execution_count": null,
   "id": "f13645bc",
   "metadata": {},
   "outputs": [],
   "source": [
    "animals.loc[8]"
   ]
  },
  {
   "cell_type": "code",
   "execution_count": null,
   "id": "c2fdcd41",
   "metadata": {},
   "outputs": [],
   "source": [
    "car_sales"
   ]
  },
  {
   "cell_type": "code",
   "execution_count": null,
   "id": "d8397de5",
   "metadata": {},
   "outputs": [],
   "source": [
    "car_sales.loc[3]"
   ]
  },
  {
   "cell_type": "code",
   "execution_count": null,
   "id": "f89b9144",
   "metadata": {},
   "outputs": [],
   "source": [
    "animals"
   ]
  },
  {
   "cell_type": "code",
   "execution_count": null,
   "id": "7b2b6188",
   "metadata": {},
   "outputs": [],
   "source": [
    "animals.iloc[3]"
   ]
  },
  {
   "cell_type": "code",
   "execution_count": null,
   "id": "d630ffb9",
   "metadata": {},
   "outputs": [],
   "source": [
    "# loc is location. iloc is position"
   ]
  },
  {
   "cell_type": "code",
   "execution_count": null,
   "id": "0f758554",
   "metadata": {},
   "outputs": [],
   "source": [
    "car_sales.iloc[3]"
   ]
  },
  {
   "cell_type": "code",
   "execution_count": null,
   "id": "4fb90b9e",
   "metadata": {},
   "outputs": [],
   "source": [
    "animals.iloc[:2]"
   ]
  },
  {
   "cell_type": "code",
   "execution_count": null,
   "id": "e8f47a27",
   "metadata": {},
   "outputs": [],
   "source": [
    "car_sales.loc[:3]"
   ]
  },
  {
   "cell_type": "code",
   "execution_count": null,
   "id": "66fce356",
   "metadata": {},
   "outputs": [],
   "source": [
    "car_sales[\"Colour\"]"
   ]
  },
  {
   "cell_type": "code",
   "execution_count": null,
   "id": "f123c821",
   "metadata": {},
   "outputs": [],
   "source": [
    "car_sales.Make"
   ]
  },
  {
   "cell_type": "code",
   "execution_count": null,
   "id": "05b468ea",
   "metadata": {},
   "outputs": [],
   "source": [
    "car_sales[car_sales[\"Make\"] == \"Honda\"]"
   ]
  },
  {
   "cell_type": "code",
   "execution_count": null,
   "id": "303a69cc",
   "metadata": {},
   "outputs": [],
   "source": [
    "car_sales[(car_sales[\"Odometer (KM)\"] > 50000) & (car_sales[\"Make\"] == \"Honda\")] "
   ]
  },
  {
   "cell_type": "code",
   "execution_count": null,
   "id": "da5f8f1c",
   "metadata": {},
   "outputs": [],
   "source": [
    "pd.crosstab(car_sales[\"Make\"], car_sales[\"Doors\"])"
   ]
  },
  {
   "cell_type": "code",
   "execution_count": null,
   "id": "6966cb1b",
   "metadata": {},
   "outputs": [],
   "source": [
    "car_sales[\"Doors\"].plot()"
   ]
  },
  {
   "cell_type": "code",
   "execution_count": null,
   "id": "f00770de",
   "metadata": {},
   "outputs": [],
   "source": [
    "car_sales[\"Odometer (KM)\"].hist()"
   ]
  },
  {
   "cell_type": "code",
   "execution_count": 106,
   "id": "2c4fd7af",
   "metadata": {},
   "outputs": [
    {
     "data": {
      "text/plain": [
       "0     $4,000.00\n",
       "1     $5,000.00\n",
       "2     $7,000.00\n",
       "3    $22,000.00\n",
       "4     $3,500.00\n",
       "5     $4,500.00\n",
       "6     $7,500.00\n",
       "7     $7,000.00\n",
       "8     $6,250.00\n",
       "9     $9,700.00\n",
       "Name: Price, dtype: object"
      ]
     },
     "execution_count": 106,
     "metadata": {},
     "output_type": "execute_result"
    }
   ],
   "source": [
    "car_sales = pd.read_csv(\"7.1 car-sales.csv\")\n",
    "car_sales.Price"
   ]
  },
  {
   "cell_type": "code",
   "execution_count": 107,
   "id": "ffc53ab9",
   "metadata": {},
   "outputs": [],
   "source": [
    "# car_sales.info()\n",
    "# car_sales[\"Price\"] = car_sales[\"Price\"].str.replace(\"\\$\", \"\", regex=True).str.replace(\"\\.\", \"\", regex=True).str.replace(\"\\,\", \"\", regex=True).astype(int)\n",
    "car_sales[\"Price\"] = car_sales[\"Price\"].replace(\"[\\$\\,\\.]\", \"\", regex=True).astype(int)\n",
    "car_sales[\"Price\"] = (car_sales[\"Price\"] / 100).astype(int)"
   ]
  },
  {
   "cell_type": "code",
   "execution_count": 108,
   "id": "f781539a",
   "metadata": {},
   "outputs": [
    {
     "data": {
      "text/plain": [
       "0     4000\n",
       "1     5000\n",
       "2     7000\n",
       "3    22000\n",
       "4     3500\n",
       "5     4500\n",
       "6     7500\n",
       "7     7000\n",
       "8     6250\n",
       "9     9700\n",
       "Name: Price, dtype: int32"
      ]
     },
     "execution_count": 108,
     "metadata": {},
     "output_type": "execute_result"
    }
   ],
   "source": [
    "car_sales[\"Price\"]"
   ]
  },
  {
   "cell_type": "code",
   "execution_count": null,
   "id": "d82eb68c",
   "metadata": {},
   "outputs": [],
   "source": []
  }
 ],
 "metadata": {
  "kernelspec": {
   "display_name": "Python 3 (ipykernel)",
   "language": "python",
   "name": "python3"
  },
  "language_info": {
   "codemirror_mode": {
    "name": "ipython",
    "version": 3
   },
   "file_extension": ".py",
   "mimetype": "text/x-python",
   "name": "python",
   "nbconvert_exporter": "python",
   "pygments_lexer": "ipython3",
   "version": "3.11.5"
  }
 },
 "nbformat": 4,
 "nbformat_minor": 5
}
