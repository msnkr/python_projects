{
 "cells": [
  {
   "cell_type": "code",
   "execution_count": 1,
   "id": "76efbf61-5140-42a4-9d94-3e5b2a3c0719",
   "metadata": {
    "tags": []
   },
   "outputs": [],
   "source": [
    "import pandas as pd\n",
    "df = pd.read_csv(\"FIFA23_official_data.csv\")"
   ]
  },
  {
   "cell_type": "code",
   "execution_count": null,
   "id": "bf45b570-e082-4759-8b03-0315b51bd071",
   "metadata": {
    "tags": []
   },
   "outputs": [],
   "source": [
    "df"
   ]
  },
  {
   "cell_type": "code",
   "execution_count": null,
   "id": "a0f709af-c5c5-4af7-b2b2-c3469cf7a05f",
   "metadata": {
    "tags": []
   },
   "outputs": [],
   "source": [
    "african_players = df[df[\"Nationality\"] == \"South Africa\"]"
   ]
  },
  {
   "cell_type": "code",
   "execution_count": null,
   "id": "8712271f-2362-4bb4-92f0-0e6743052890",
   "metadata": {
    "tags": []
   },
   "outputs": [],
   "source": [
    "african_players"
   ]
  },
  {
   "cell_type": "code",
   "execution_count": null,
   "id": "66a35cc7-dcc4-4394-a153-cbeb0dff44c5",
   "metadata": {
    "tags": []
   },
   "outputs": [],
   "source": [
    "african_players = df[(df[\"Nationality\"] == \"South Africa\") & (df[\"Age\"] > 24)]"
   ]
  },
  {
   "cell_type": "code",
   "execution_count": null,
   "id": "f2c31299-d3a8-47a6-824e-4125c49aefac",
   "metadata": {
    "tags": []
   },
   "outputs": [],
   "source": [
    "african_players"
   ]
  },
  {
   "cell_type": "code",
   "execution_count": null,
   "id": "6b754403-9bfb-49b0-b20f-f351d385bc41",
   "metadata": {
    "tags": []
   },
   "outputs": [],
   "source": [
    "over_30 = df[(df[\"Nationality\"] == \"South Africa\") & (df[\"Age\"] > 30)]"
   ]
  },
  {
   "cell_type": "code",
   "execution_count": null,
   "id": "b2c154d5-999a-4730-a0ee-79d422f45f4f",
   "metadata": {
    "tags": []
   },
   "outputs": [],
   "source": [
    "over_30"
   ]
  },
  {
   "cell_type": "code",
   "execution_count": null,
   "id": "800055a3-1f23-41f2-814d-7fd2a1e86a83",
   "metadata": {
    "tags": []
   },
   "outputs": [],
   "source": [
    "over_30.sort_values(\"Age\", ascending=False)\n",
    "over_30"
   ]
  },
  {
   "cell_type": "code",
   "execution_count": null,
   "id": "72ce8afb-94b8-4f00-8143-99ce5fc747b9",
   "metadata": {
    "tags": []
   },
   "outputs": [],
   "source": [
    "photos_african_30 = over_30[\"Photo\"]\n",
    "photos_african_30"
   ]
  },
  {
   "cell_type": "code",
   "execution_count": null,
   "id": "8d4df32b-489b-4125-8704-3bcb0f30d4a6",
   "metadata": {},
   "outputs": [],
   "source": [
    "potential = df.sort_values(\"Potential\", ascending=False)"
   ]
  },
  {
   "cell_type": "code",
   "execution_count": null,
   "id": "58e06777-759f-4109-8908-49adb6611e61",
   "metadata": {
    "tags": []
   },
   "outputs": [],
   "source": [
    "potential[\"Club\"].head()"
   ]
  },
  {
   "cell_type": "code",
   "execution_count": null,
   "id": "e1d85b3a-1b27-42d9-919d-614748b63e9b",
   "metadata": {
    "tags": []
   },
   "outputs": [],
   "source": [
    "potential_club = potential[\"Club\"]"
   ]
  },
  {
   "cell_type": "code",
   "execution_count": null,
   "id": "3b596ec0-d314-4456-a185-f9048c2cc224",
   "metadata": {
    "tags": []
   },
   "outputs": [],
   "source": [
    "potential_club"
   ]
  },
  {
   "cell_type": "code",
   "execution_count": null,
   "id": "b1822870-a2b4-4fcc-a6ce-c81044460e46",
   "metadata": {
    "tags": []
   },
   "outputs": [],
   "source": [
    "df[\"Age\"].hist()\n"
   ]
  },
  {
   "cell_type": "code",
   "execution_count": null,
   "id": "f30105f2-35ed-4d3e-86a2-db763cda9a16",
   "metadata": {
    "tags": []
   },
   "outputs": [],
   "source": [
    "african_players.iloc[0]"
   ]
  },
  {
   "cell_type": "code",
   "execution_count": null,
   "id": "3f977f97-4c3f-4303-a543-e237b3f4cabc",
   "metadata": {
    "tags": []
   },
   "outputs": [],
   "source": [
    "import matplotlib.pyplot as plt\n",
    "african_players[\"Height\"].hist(figsize=(20, 6))\n",
    "plt.title(\"Height\")\n",
    "plt.xlabel(\"Height\")\n",
    "plt.ylabel(\"Amount\")\n",
    "plt.show()"
   ]
  },
  {
   "cell_type": "code",
   "execution_count": null,
   "id": "28ddd911-7a31-48fa-8164-25bcd2173f05",
   "metadata": {},
   "outputs": [],
   "source": [
    "import matplotlib.pyplot as plt\n",
    "df[\"Nationality\"].hist(figsize=(200, 6))\n",
    "plt.title(\"Nationality\")\n",
    "plt.xlabel(\"Nationality\")\n",
    "plt.ylabel(\"From\")\n",
    "plt.show()"
   ]
  },
  {
   "cell_type": "code",
   "execution_count": null,
   "id": "c0124925-03c3-4538-aed0-0dc7bf367ca7",
   "metadata": {
    "tags": []
   },
   "outputs": [],
   "source": [
    "german_players = df[df[\"Nationality\"] == \"Germany\"]"
   ]
  },
  {
   "cell_type": "code",
   "execution_count": null,
   "id": "363807e5-721b-4510-b730-41e07a092a46",
   "metadata": {
    "tags": []
   },
   "outputs": [],
   "source": [
    "german_players"
   ]
  },
  {
   "cell_type": "code",
   "execution_count": 7,
   "id": "98392d5d-8d9d-4087-9e1b-95d3c1813b16",
   "metadata": {},
   "outputs": [
    {
     "data": {
      "text/html": [
       "<div>\n",
       "<style scoped>\n",
       "    .dataframe tbody tr th:only-of-type {\n",
       "        vertical-align: middle;\n",
       "    }\n",
       "\n",
       "    .dataframe tbody tr th {\n",
       "        vertical-align: top;\n",
       "    }\n",
       "\n",
       "    .dataframe thead th {\n",
       "        text-align: right;\n",
       "    }\n",
       "</style>\n",
       "<table border=\"1\" class=\"dataframe\">\n",
       "  <thead>\n",
       "    <tr style=\"text-align: right;\">\n",
       "      <th></th>\n",
       "      <th>Name</th>\n",
       "      <th>Wage</th>\n",
       "      <th>Value</th>\n",
       "    </tr>\n",
       "  </thead>\n",
       "  <tbody>\n",
       "    <tr>\n",
       "      <th>0</th>\n",
       "      <td>L. Goretzka</td>\n",
       "      <td>€115K</td>\n",
       "      <td>€91M</td>\n",
       "    </tr>\n",
       "    <tr>\n",
       "      <th>1</th>\n",
       "      <td>Bruno Fernandes</td>\n",
       "      <td>€190K</td>\n",
       "      <td>€78.5M</td>\n",
       "    </tr>\n",
       "    <tr>\n",
       "      <th>2</th>\n",
       "      <td>M. Acuña</td>\n",
       "      <td>€46K</td>\n",
       "      <td>€46.5M</td>\n",
       "    </tr>\n",
       "    <tr>\n",
       "      <th>3</th>\n",
       "      <td>K. De Bruyne</td>\n",
       "      <td>€350K</td>\n",
       "      <td>€107.5M</td>\n",
       "    </tr>\n",
       "    <tr>\n",
       "      <th>4</th>\n",
       "      <td>N. Barella</td>\n",
       "      <td>€110K</td>\n",
       "      <td>€89.5M</td>\n",
       "    </tr>\n",
       "    <tr>\n",
       "      <th>...</th>\n",
       "      <td>...</td>\n",
       "      <td>...</td>\n",
       "      <td>...</td>\n",
       "    </tr>\n",
       "    <tr>\n",
       "      <th>17655</th>\n",
       "      <td>Deng Xiongtao</td>\n",
       "      <td>€500</td>\n",
       "      <td>€100K</td>\n",
       "    </tr>\n",
       "    <tr>\n",
       "      <th>17656</th>\n",
       "      <td>22 Lim Jun Sub</td>\n",
       "      <td>€500</td>\n",
       "      <td>€100K</td>\n",
       "    </tr>\n",
       "    <tr>\n",
       "      <th>17657</th>\n",
       "      <td>A. Demir</td>\n",
       "      <td>€2K</td>\n",
       "      <td>€70K</td>\n",
       "    </tr>\n",
       "    <tr>\n",
       "      <th>17658</th>\n",
       "      <td>21 S. Czajor</td>\n",
       "      <td>€500</td>\n",
       "      <td>€90K</td>\n",
       "    </tr>\n",
       "    <tr>\n",
       "      <th>17659</th>\n",
       "      <td>21 F. Jakobsson</td>\n",
       "      <td>€500</td>\n",
       "      <td>€90K</td>\n",
       "    </tr>\n",
       "  </tbody>\n",
       "</table>\n",
       "<p>17660 rows × 3 columns</p>\n",
       "</div>"
      ],
      "text/plain": [
       "                  Name   Wage    Value\n",
       "0          L. Goretzka  €115K     €91M\n",
       "1      Bruno Fernandes  €190K   €78.5M\n",
       "2             M. Acuña   €46K   €46.5M\n",
       "3         K. De Bruyne  €350K  €107.5M\n",
       "4           N. Barella  €110K   €89.5M\n",
       "...                ...    ...      ...\n",
       "17655    Deng Xiongtao   €500    €100K\n",
       "17656   22 Lim Jun Sub   €500    €100K\n",
       "17657         A. Demir    €2K     €70K\n",
       "17658     21 S. Czajor   €500     €90K\n",
       "17659  21 F. Jakobsson   €500     €90K\n",
       "\n",
       "[17660 rows x 3 columns]"
      ]
     },
     "execution_count": 7,
     "metadata": {},
     "output_type": "execute_result"
    }
   ],
   "source": [
    "df1 = pd.DataFrame(df, columns=[\"Name\", \"Wage\", \"Value\"])"
   ]
  },
  {
   "cell_type": "code",
   "execution_count": 9,
   "id": "05514de1",
   "metadata": {},
   "outputs": [
    {
     "ename": "SyntaxError",
     "evalue": "unterminated string literal (detected at line 3) (3383567975.py, line 3)",
     "output_type": "error",
     "traceback": [
      "\u001b[1;36m  Cell \u001b[1;32mIn[9], line 3\u001b[1;36m\u001b[0m\n\u001b[1;33m    return x.replace(\"R\", \" )\u001b[0m\n\u001b[1;37m                          ^\u001b[0m\n\u001b[1;31mSyntaxError\u001b[0m\u001b[1;31m:\u001b[0m unterminated string literal (detected at line 3)\n"
     ]
    }
   ],
   "source": [
    "x = \"R1999\"\n",
    "if \"R\" in x:\n",
    "    return x.replace(\"R\",  \"\")"
   ]
  },
  {
   "cell_type": "code",
   "execution_count": null,
   "id": "7eb341d0",
   "metadata": {},
   "outputs": [],
   "source": []
  }
 ],
 "metadata": {
  "kernelspec": {
   "display_name": "Python 3 (ipykernel)",
   "language": "python",
   "name": "python3"
  },
  "language_info": {
   "codemirror_mode": {
    "name": "ipython",
    "version": 3
   },
   "file_extension": ".py",
   "mimetype": "text/x-python",
   "name": "python",
   "nbconvert_exporter": "python",
   "pygments_lexer": "ipython3",
   "version": "3.11.5"
  }
 },
 "nbformat": 4,
 "nbformat_minor": 5
}
