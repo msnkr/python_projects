{
 "cells": [
  {
   "cell_type": "code",
   "execution_count": 4,
   "id": "76efbf61-5140-42a4-9d94-3e5b2a3c0719",
   "metadata": {
    "tags": []
   },
   "outputs": [],
   "source": [
    "import pandas as pd\n",
    "df = pd.read_csv(\"FIFA23_official_data.csv\")"
   ]
  },
  {
   "cell_type": "code",
   "execution_count": null,
   "id": "bf45b570-e082-4759-8b03-0315b51bd071",
   "metadata": {
    "tags": []
   },
   "outputs": [],
   "source": [
    "df"
   ]
  },
  {
   "cell_type": "code",
   "execution_count": null,
   "id": "a0f709af-c5c5-4af7-b2b2-c3469cf7a05f",
   "metadata": {
    "tags": []
   },
   "outputs": [],
   "source": [
    "african_players = df[df[\"Nationality\"] == \"South Africa\"]"
   ]
  },
  {
   "cell_type": "code",
   "execution_count": null,
   "id": "8712271f-2362-4bb4-92f0-0e6743052890",
   "metadata": {
    "tags": []
   },
   "outputs": [],
   "source": [
    "african_players"
   ]
  },
  {
   "cell_type": "code",
   "execution_count": null,
   "id": "66a35cc7-dcc4-4394-a153-cbeb0dff44c5",
   "metadata": {
    "tags": []
   },
   "outputs": [],
   "source": [
    "african_players = df[(df[\"Nationality\"] == \"South Africa\") & (df[\"Age\"] > 24)]"
   ]
  },
  {
   "cell_type": "code",
   "execution_count": null,
   "id": "f2c31299-d3a8-47a6-824e-4125c49aefac",
   "metadata": {
    "tags": []
   },
   "outputs": [],
   "source": [
    "african_players"
   ]
  },
  {
   "cell_type": "code",
   "execution_count": null,
   "id": "6b754403-9bfb-49b0-b20f-f351d385bc41",
   "metadata": {
    "tags": []
   },
   "outputs": [],
   "source": [
    "over_30 = df[(df[\"Nationality\"] == \"South Africa\") & (df[\"Age\"] > 30)]"
   ]
  },
  {
   "cell_type": "code",
   "execution_count": null,
   "id": "b2c154d5-999a-4730-a0ee-79d422f45f4f",
   "metadata": {
    "tags": []
   },
   "outputs": [],
   "source": [
    "over_30"
   ]
  },
  {
   "cell_type": "code",
   "execution_count": null,
   "id": "800055a3-1f23-41f2-814d-7fd2a1e86a83",
   "metadata": {
    "tags": []
   },
   "outputs": [],
   "source": [
    "over_30.sort_values(\"Age\", ascending=False)\n",
    "over_30"
   ]
  },
  {
   "cell_type": "code",
   "execution_count": null,
   "id": "72ce8afb-94b8-4f00-8143-99ce5fc747b9",
   "metadata": {
    "tags": []
   },
   "outputs": [],
   "source": [
    "photos_african_30 = over_30[\"Photo\"]\n",
    "photos_african_30"
   ]
  },
  {
   "cell_type": "code",
   "execution_count": null,
   "id": "8d4df32b-489b-4125-8704-3bcb0f30d4a6",
   "metadata": {},
   "outputs": [],
   "source": [
    "potential = df.sort_values(\"Potential\", ascending=False)"
   ]
  },
  {
   "cell_type": "code",
   "execution_count": null,
   "id": "58e06777-759f-4109-8908-49adb6611e61",
   "metadata": {
    "tags": []
   },
   "outputs": [],
   "source": [
    "potential[\"Club\"].head()"
   ]
  },
  {
   "cell_type": "code",
   "execution_count": null,
   "id": "e1d85b3a-1b27-42d9-919d-614748b63e9b",
   "metadata": {
    "tags": []
   },
   "outputs": [],
   "source": [
    "potential_club = potential[\"Club\"]"
   ]
  },
  {
   "cell_type": "code",
   "execution_count": null,
   "id": "3b596ec0-d314-4456-a185-f9048c2cc224",
   "metadata": {
    "tags": []
   },
   "outputs": [],
   "source": [
    "potential_club"
   ]
  },
  {
   "cell_type": "code",
   "execution_count": null,
   "id": "b1822870-a2b4-4fcc-a6ce-c81044460e46",
   "metadata": {
    "tags": []
   },
   "outputs": [],
   "source": [
    "df[\"Age\"].hist()\n"
   ]
  },
  {
   "cell_type": "code",
   "execution_count": null,
   "id": "f30105f2-35ed-4d3e-86a2-db763cda9a16",
   "metadata": {
    "tags": []
   },
   "outputs": [],
   "source": [
    "african_players.iloc[0]"
   ]
  },
  {
   "cell_type": "code",
   "execution_count": null,
   "id": "3f977f97-4c3f-4303-a543-e237b3f4cabc",
   "metadata": {
    "tags": []
   },
   "outputs": [],
   "source": [
    "import matplotlib.pyplot as plt\n",
    "african_players[\"Height\"].hist(figsize=(20, 6))\n",
    "plt.title(\"Height\")\n",
    "plt.xlabel(\"Height\")\n",
    "plt.ylabel(\"Amount\")\n",
    "plt.show()"
   ]
  },
  {
   "cell_type": "code",
   "execution_count": null,
   "id": "28ddd911-7a31-48fa-8164-25bcd2173f05",
   "metadata": {},
   "outputs": [],
   "source": [
    "import matplotlib.pyplot as plt\n",
    "df[\"Nationality\"].hist(figsize=(200, 6))\n",
    "plt.title(\"Nationality\")\n",
    "plt.xlabel(\"Nationality\")\n",
    "plt.ylabel(\"From\")\n",
    "plt.show()"
   ]
  },
  {
   "cell_type": "code",
   "execution_count": null,
   "id": "c0124925-03c3-4538-aed0-0dc7bf367ca7",
   "metadata": {
    "tags": []
   },
   "outputs": [],
   "source": [
    "german_players = df[df[\"Nationality\"] == \"Germany\"]"
   ]
  },
  {
   "cell_type": "code",
   "execution_count": null,
   "id": "363807e5-721b-4510-b730-41e07a092a46",
   "metadata": {
    "tags": []
   },
   "outputs": [],
   "source": [
    "german_players"
   ]
  },
  {
   "cell_type": "code",
   "execution_count": 5,
   "id": "98392d5d-8d9d-4087-9e1b-95d3c1813b16",
   "metadata": {
    "tags": []
   },
   "outputs": [],
   "source": [
    "df1 = pd.DataFrame(df, columns=[\"Name\", \"Wage\", \"Value\"])"
   ]
  },
  {
   "cell_type": "code",
   "execution_count": null,
   "id": "e684987c",
   "metadata": {},
   "outputs": [],
   "source": [
    "import seaborn as sns\n",
    "sns.set()\n",
    "\n",
    "graph = sns.scatterplot(x=\"Wage\", y=\"Value\", data=df1)\n",
    "\n",
    "graph"
   ]
  },
  {
   "cell_type": "code",
   "execution_count": 69,
   "id": "24829e15",
   "metadata": {
    "tags": []
   },
   "outputs": [
    {
     "data": {
      "text/html": [
       "<div>\n",
       "<style scoped>\n",
       "    .dataframe tbody tr th:only-of-type {\n",
       "        vertical-align: middle;\n",
       "    }\n",
       "\n",
       "    .dataframe tbody tr th {\n",
       "        vertical-align: top;\n",
       "    }\n",
       "\n",
       "    .dataframe thead th {\n",
       "        text-align: right;\n",
       "    }\n",
       "</style>\n",
       "<table border=\"1\" class=\"dataframe\">\n",
       "  <thead>\n",
       "    <tr style=\"text-align: right;\">\n",
       "      <th></th>\n",
       "      <th>Name</th>\n",
       "      <th>Wage</th>\n",
       "      <th>Value</th>\n",
       "      <th>Difference</th>\n",
       "    </tr>\n",
       "  </thead>\n",
       "  <tbody>\n",
       "    <tr>\n",
       "      <th>75</th>\n",
       "      <td>K. Mbappé</td>\n",
       "      <td>230000.0</td>\n",
       "      <td>190500000.0</td>\n",
       "      <td>190270000.0</td>\n",
       "    </tr>\n",
       "    <tr>\n",
       "      <th>180</th>\n",
       "      <td>E. Haaland</td>\n",
       "      <td>220000.0</td>\n",
       "      <td>148000000.0</td>\n",
       "      <td>147780000.0</td>\n",
       "    </tr>\n",
       "    <tr>\n",
       "      <th>17</th>\n",
       "      <td>F. de Jong</td>\n",
       "      <td>230000.0</td>\n",
       "      <td>116500000.0</td>\n",
       "      <td>116270000.0</td>\n",
       "    </tr>\n",
       "    <tr>\n",
       "      <th>214</th>\n",
       "      <td>Pedri</td>\n",
       "      <td>115000.0</td>\n",
       "      <td>116000000.0</td>\n",
       "      <td>115885000.0</td>\n",
       "    </tr>\n",
       "    <tr>\n",
       "      <th>25</th>\n",
       "      <td>M. Salah</td>\n",
       "      <td>270000.0</td>\n",
       "      <td>115500000.0</td>\n",
       "      <td>115230000.0</td>\n",
       "    </tr>\n",
       "    <tr>\n",
       "      <th>...</th>\n",
       "      <td>...</td>\n",
       "      <td>...</td>\n",
       "      <td>...</td>\n",
       "      <td>...</td>\n",
       "    </tr>\n",
       "    <tr>\n",
       "      <th>8455</th>\n",
       "      <td>14 Índio</td>\n",
       "      <td>20000.0</td>\n",
       "      <td>0.0</td>\n",
       "      <td>-20000.0</td>\n",
       "    </tr>\n",
       "    <tr>\n",
       "      <th>2031</th>\n",
       "      <td>14 J. Zanetti</td>\n",
       "      <td>45000.0</td>\n",
       "      <td>1000.0</td>\n",
       "      <td>-44000.0</td>\n",
       "    </tr>\n",
       "    <tr>\n",
       "      <th>199</th>\n",
       "      <td>R. Kent</td>\n",
       "      <td>45000.0</td>\n",
       "      <td>0.0</td>\n",
       "      <td>-45000.0</td>\n",
       "    </tr>\n",
       "    <tr>\n",
       "      <th>1287</th>\n",
       "      <td>14 R. Giggs</td>\n",
       "      <td>60000.0</td>\n",
       "      <td>1000.0</td>\n",
       "      <td>-59000.0</td>\n",
       "    </tr>\n",
       "    <tr>\n",
       "      <th>997</th>\n",
       "      <td>Z. Ibrahimović</td>\n",
       "      <td>63000.0</td>\n",
       "      <td>0.0</td>\n",
       "      <td>-63000.0</td>\n",
       "    </tr>\n",
       "  </tbody>\n",
       "</table>\n",
       "<p>17660 rows × 4 columns</p>\n",
       "</div>"
      ],
      "text/plain": [
       "                Name      Wage        Value   Difference\n",
       "75         K. Mbappé  230000.0  190500000.0  190270000.0\n",
       "180       E. Haaland  220000.0  148000000.0  147780000.0\n",
       "17        F. de Jong  230000.0  116500000.0  116270000.0\n",
       "214            Pedri  115000.0  116000000.0  115885000.0\n",
       "25          M. Salah  270000.0  115500000.0  115230000.0\n",
       "...              ...       ...          ...          ...\n",
       "8455        14 Índio   20000.0          0.0     -20000.0\n",
       "2031   14 J. Zanetti   45000.0       1000.0     -44000.0\n",
       "199          R. Kent   45000.0          0.0     -45000.0\n",
       "1287     14 R. Giggs   60000.0       1000.0     -59000.0\n",
       "997   Z. Ibrahimović   63000.0          0.0     -63000.0\n",
       "\n",
       "[17660 rows x 4 columns]"
      ]
     },
     "execution_count": 69,
     "metadata": {},
     "output_type": "execute_result"
    }
   ],
   "source": [
    "def value_to_float(x):\n",
    "    if type(x) == float or type(x) == int:\n",
    "        return x\n",
    "    if 'K' in x:\n",
    "        if len(x) > 1:\n",
    "            return float(x.replace('K', '')) * 1000\n",
    "        return 1000.0\n",
    "    if 'M' in x:\n",
    "        if len(x) > 1:\n",
    "            return float(x.replace('M', '')) * 1000000\n",
    "        return 1000000.0\n",
    "    if 'B' in x:\n",
    "        return float(x.replace('B', '')) * 1000000000\n",
    "    return 0.0\n",
    "\n",
    "wage = df1[\"Wage\"].replace(\"[\\€]\", \"\", regex=True).apply(value_to_float)\n",
    "value = df1[\"Value\"].replace(\"[\\€]\", \"\", regex=True).apply(value_to_float)\n",
    "\n",
    "df1[\"Wage\"] = wage\n",
    "df1[\"Value\"] = value\n",
    "\n",
    "df1[\"Difference\"] = df1[\"Value\"] - df1[\"Wage\"]\n",
    "df1.sort_values(\"Difference\", ascending=False)\n"
   ]
  },
  {
   "cell_type": "code",
   "execution_count": 74,
   "id": "982fd71a",
   "metadata": {
    "tags": []
   },
   "outputs": [],
   "source": [
    "from bokeh.plotting import figure, show\n",
    "from bokeh.models import HoverTool\n",
    "from bokeh.models import ColumnDataSource\n",
    "\n",
    "source = ColumnDataSource(df1)\n",
    "\n",
    "TOOLTIPS = [\n",
    "    (\"Name\", \"@Name\"),\n",
    "    (\"(Wage,Value)\", \"(@Wage, @Value)\"),\n",
    "]\n",
    "\n",
    "p = figure(width=700, height=500, tooltips=TOOLTIPS,\n",
    "           title=\"Difference\")\n",
    "\n",
    "p.circle('Wage', 'Value', size=10, source=source)\n",
    "hover = HoverTool()\n",
    "p.add_tools(hover)\n",
    "\n",
    "show(p)"
   ]
  },
  {
   "cell_type": "code",
   "execution_count": 40,
   "id": "ff6f9e2b-13f2-4665-84f2-ae9c95d01701",
   "metadata": {
    "tags": []
   },
   "outputs": [],
   "source": []
  },
  {
   "cell_type": "code",
   "execution_count": null,
   "id": "fd8964d5-59de-4536-a44d-135535e491ca",
   "metadata": {},
   "outputs": [],
   "source": []
  }
 ],
 "metadata": {
  "kernelspec": {
   "display_name": "Python 3 (ipykernel)",
   "language": "python",
   "name": "python3"
  },
  "language_info": {
   "codemirror_mode": {
    "name": "ipython",
    "version": 3
   },
   "file_extension": ".py",
   "mimetype": "text/x-python",
   "name": "python",
   "nbconvert_exporter": "python",
   "pygments_lexer": "ipython3",
   "version": "3.11.5"
  }
 },
 "nbformat": 4,
 "nbformat_minor": 5
}
