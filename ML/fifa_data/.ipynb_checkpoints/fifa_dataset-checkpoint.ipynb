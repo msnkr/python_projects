{
 "cells": [
  {
   "cell_type": "code",
   "execution_count": 3,
   "id": "a6327b70",
   "metadata": {},
   "outputs": [
    {
     "name": "stdout",
     "output_type": "stream",
     "text": [
      " Volume in drive C has no label.\n",
      " Volume Serial Number is 4019-8BFC\n",
      "\n",
      " Directory of C:\\Users\\mahou\\Documents\n",
      "\n",
      "2023/11/28  21:18    <DIR>          .\n",
      "2023/11/28  21:18    <DIR>          ..\n",
      "2023/11/28  21:13    <DIR>          .ipynb_checkpoints\n",
      "2023/11/28  21:17    <DIR>          python_projects\n",
      "               0 File(s)              0 bytes\n",
      "               4 Dir(s)  176 956 010 496 bytes free\n"
     ]
    }
   ],
   "source": [
    "ls"
   ]
  },
  {
   "cell_type": "code",
   "execution_count": 4,
   "id": "3768c4b4",
   "metadata": {},
   "outputs": [
    {
     "name": "stdout",
     "output_type": "stream",
     "text": [
      "C:\\Users\\mahou\\Documents\\python_projects\\ML\\fifa_data\n"
     ]
    }
   ],
   "source": [
    "cd python_projects/ML/fifa_data/"
   ]
  },
  {
   "cell_type": "code",
   "execution_count": 6,
   "id": "d25d353b",
   "metadata": {},
   "outputs": [],
   "source": [
    "import pandas as pd\n",
    "df = pd.read_csv(\"FIFA23_official_data.csv\")"
   ]
  },
  {
   "cell_type": "code",
   "execution_count": 8,
   "id": "1c04328f",
   "metadata": {},
   "outputs": [
    {
     "data": {
      "text/html": [
       "<div>\n",
       "<style scoped>\n",
       "    .dataframe tbody tr th:only-of-type {\n",
       "        vertical-align: middle;\n",
       "    }\n",
       "\n",
       "    .dataframe tbody tr th {\n",
       "        vertical-align: top;\n",
       "    }\n",
       "\n",
       "    .dataframe thead th {\n",
       "        text-align: right;\n",
       "    }\n",
       "</style>\n",
       "<table border=\"1\" class=\"dataframe\">\n",
       "  <thead>\n",
       "    <tr style=\"text-align: right;\">\n",
       "      <th></th>\n",
       "      <th>ID</th>\n",
       "      <th>Age</th>\n",
       "      <th>Overall</th>\n",
       "      <th>Potential</th>\n",
       "      <th>Special</th>\n",
       "      <th>International Reputation</th>\n",
       "      <th>Weak Foot</th>\n",
       "      <th>Skill Moves</th>\n",
       "      <th>Kit Number</th>\n",
       "    </tr>\n",
       "  </thead>\n",
       "  <tbody>\n",
       "    <tr>\n",
       "      <th>count</th>\n",
       "      <td>17660.000000</td>\n",
       "      <td>17660.000000</td>\n",
       "      <td>17660.000000</td>\n",
       "      <td>17660.000000</td>\n",
       "      <td>17660.000000</td>\n",
       "      <td>17660.000000</td>\n",
       "      <td>17660.000000</td>\n",
       "      <td>17660.000000</td>\n",
       "      <td>17625.000000</td>\n",
       "    </tr>\n",
       "    <tr>\n",
       "      <th>mean</th>\n",
       "      <td>246319.424462</td>\n",
       "      <td>23.127746</td>\n",
       "      <td>63.369592</td>\n",
       "      <td>70.981200</td>\n",
       "      <td>1537.915855</td>\n",
       "      <td>1.106285</td>\n",
       "      <td>2.900340</td>\n",
       "      <td>2.297169</td>\n",
       "      <td>25.037957</td>\n",
       "    </tr>\n",
       "    <tr>\n",
       "      <th>std</th>\n",
       "      <td>31487.892861</td>\n",
       "      <td>4.639821</td>\n",
       "      <td>8.036268</td>\n",
       "      <td>6.529836</td>\n",
       "      <td>285.893809</td>\n",
       "      <td>0.407021</td>\n",
       "      <td>0.663523</td>\n",
       "      <td>0.754264</td>\n",
       "      <td>19.154116</td>\n",
       "    </tr>\n",
       "    <tr>\n",
       "      <th>min</th>\n",
       "      <td>16.000000</td>\n",
       "      <td>15.000000</td>\n",
       "      <td>43.000000</td>\n",
       "      <td>42.000000</td>\n",
       "      <td>749.000000</td>\n",
       "      <td>1.000000</td>\n",
       "      <td>1.000000</td>\n",
       "      <td>1.000000</td>\n",
       "      <td>1.000000</td>\n",
       "    </tr>\n",
       "    <tr>\n",
       "      <th>25%</th>\n",
       "      <td>240732.500000</td>\n",
       "      <td>20.000000</td>\n",
       "      <td>58.000000</td>\n",
       "      <td>67.000000</td>\n",
       "      <td>1387.000000</td>\n",
       "      <td>1.000000</td>\n",
       "      <td>3.000000</td>\n",
       "      <td>2.000000</td>\n",
       "      <td>11.000000</td>\n",
       "    </tr>\n",
       "    <tr>\n",
       "      <th>50%</th>\n",
       "      <td>257041.000000</td>\n",
       "      <td>22.000000</td>\n",
       "      <td>63.000000</td>\n",
       "      <td>71.000000</td>\n",
       "      <td>1548.000000</td>\n",
       "      <td>1.000000</td>\n",
       "      <td>3.000000</td>\n",
       "      <td>2.000000</td>\n",
       "      <td>22.000000</td>\n",
       "    </tr>\n",
       "    <tr>\n",
       "      <th>75%</th>\n",
       "      <td>263027.500000</td>\n",
       "      <td>26.000000</td>\n",
       "      <td>69.000000</td>\n",
       "      <td>75.000000</td>\n",
       "      <td>1727.000000</td>\n",
       "      <td>1.000000</td>\n",
       "      <td>3.000000</td>\n",
       "      <td>3.000000</td>\n",
       "      <td>32.000000</td>\n",
       "    </tr>\n",
       "    <tr>\n",
       "      <th>max</th>\n",
       "      <td>271340.000000</td>\n",
       "      <td>54.000000</td>\n",
       "      <td>91.000000</td>\n",
       "      <td>95.000000</td>\n",
       "      <td>2312.000000</td>\n",
       "      <td>5.000000</td>\n",
       "      <td>5.000000</td>\n",
       "      <td>5.000000</td>\n",
       "      <td>99.000000</td>\n",
       "    </tr>\n",
       "  </tbody>\n",
       "</table>\n",
       "</div>"
      ],
      "text/plain": [
       "                  ID           Age       Overall     Potential       Special  \\\n",
       "count   17660.000000  17660.000000  17660.000000  17660.000000  17660.000000   \n",
       "mean   246319.424462     23.127746     63.369592     70.981200   1537.915855   \n",
       "std     31487.892861      4.639821      8.036268      6.529836    285.893809   \n",
       "min        16.000000     15.000000     43.000000     42.000000    749.000000   \n",
       "25%    240732.500000     20.000000     58.000000     67.000000   1387.000000   \n",
       "50%    257041.000000     22.000000     63.000000     71.000000   1548.000000   \n",
       "75%    263027.500000     26.000000     69.000000     75.000000   1727.000000   \n",
       "max    271340.000000     54.000000     91.000000     95.000000   2312.000000   \n",
       "\n",
       "       International Reputation     Weak Foot   Skill Moves    Kit Number  \n",
       "count              17660.000000  17660.000000  17660.000000  17625.000000  \n",
       "mean                   1.106285      2.900340      2.297169     25.037957  \n",
       "std                    0.407021      0.663523      0.754264     19.154116  \n",
       "min                    1.000000      1.000000      1.000000      1.000000  \n",
       "25%                    1.000000      3.000000      2.000000     11.000000  \n",
       "50%                    1.000000      3.000000      2.000000     22.000000  \n",
       "75%                    1.000000      3.000000      3.000000     32.000000  \n",
       "max                    5.000000      5.000000      5.000000     99.000000  "
      ]
     },
     "execution_count": 8,
     "metadata": {},
     "output_type": "execute_result"
    }
   ],
   "source": [
    "df.describe()"
   ]
  },
  {
   "cell_type": "code",
   "execution_count": 9,
   "id": "af53f7b3",
   "metadata": {},
   "outputs": [
    {
     "data": {
      "text/plain": [
       "0    209658\n",
       "1    212198\n",
       "2    224334\n",
       "3    192985\n",
       "4    224232\n",
       "Name: ID, dtype: int64"
      ]
     },
     "execution_count": 9,
     "metadata": {},
     "output_type": "execute_result"
    }
   ],
   "source": [
    "df[\"Name\"].head()"
   ]
  },
  {
   "cell_type": "code",
   "execution_count": null,
   "id": "7979f5d4",
   "metadata": {},
   "outputs": [],
   "source": []
  }
 ],
 "metadata": {
  "kernelspec": {
   "display_name": "Python 3 (ipykernel)",
   "language": "python",
   "name": "python3"
  },
  "language_info": {
   "codemirror_mode": {
    "name": "ipython",
    "version": 3
   },
   "file_extension": ".py",
   "mimetype": "text/x-python",
   "name": "python",
   "nbconvert_exporter": "python",
   "pygments_lexer": "ipython3",
   "version": "3.11.5"
  }
 },
 "nbformat": 4,
 "nbformat_minor": 5
}
