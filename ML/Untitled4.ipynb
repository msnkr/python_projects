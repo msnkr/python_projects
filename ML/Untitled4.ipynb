{
 "cells": [
  {
   "cell_type": "code",
   "execution_count": 2,
   "id": "6843679f-33ae-4065-976d-46fcb1619067",
   "metadata": {},
   "outputs": [
    {
     "name": "stdout",
     "output_type": "stream",
     "text": [
      "1.2.3\n",
      "Python 3.9.19\n"
     ]
    }
   ],
   "source": [
    "import catboost\n",
    "print(catboost.__version__)\n",
    "!python --version"
   ]
  },
  {
   "cell_type": "code",
   "execution_count": 21,
   "id": "c550041a-76e7-4b43-801d-dfb4c425c88a",
   "metadata": {},
   "outputs": [],
   "source": [
    "import pandas as pd\n",
    "import numpy as np\n",
    "from catboost import datasets, CatBoostClassifier\n",
    "from sklearn.model_selection import train_test_split"
   ]
  },
  {
   "cell_type": "code",
   "execution_count": 6,
   "id": "a1c95cc8-d7a8-4b78-be9e-874642ce0580",
   "metadata": {},
   "outputs": [],
   "source": [
    "train_df, test_df = datasets.amazon()"
   ]
  },
  {
   "cell_type": "code",
   "execution_count": 10,
   "id": "ef97e989-cf49-4446-a7c5-2394b43efc16",
   "metadata": {},
   "outputs": [],
   "source": [
    "X = train_df.drop(\"ACTION\", axis=1)\n",
    "y = train_df[\"ACTION\"]"
   ]
  },
  {
   "cell_type": "code",
   "execution_count": 11,
   "id": "ae6a240f-8480-43db-a1f4-abef06233ca3",
   "metadata": {},
   "outputs": [
    {
     "data": {
      "text/plain": [
       "(32769, 9)"
      ]
     },
     "execution_count": 11,
     "metadata": {},
     "output_type": "execute_result"
    }
   ],
   "source": [
    "X.shape"
   ]
  },
  {
   "cell_type": "code",
   "execution_count": 13,
   "id": "35feef52-b62a-4c89-a702-19d4c29c4292",
   "metadata": {},
   "outputs": [
    {
     "data": {
      "text/plain": [
       "[0, 1, 2, 3, 4, 5, 6, 7, 8]"
      ]
     },
     "execution_count": 13,
     "metadata": {},
     "output_type": "execute_result"
    }
   ],
   "source": [
    "cat_features = list(range(0, X.shape[1]))\n",
    "cat_features"
   ]
  },
  {
   "cell_type": "code",
   "execution_count": 16,
   "id": "10ad11e3-4b14-4219-9374-b71eced49e3e",
   "metadata": {},
   "outputs": [
    {
     "name": "stdout",
     "output_type": "stream",
     "text": [
      "Labels {0, 1}\n",
      "Zero count = 1897, One count = 30872\n"
     ]
    }
   ],
   "source": [
    "print(\"Labels {}\".format(set(y)))\n",
    "print('Zero count = {}, One count = {}'.format(len(y) - sum(y), sum(y)))"
   ]
  },
  {
   "cell_type": "code",
   "execution_count": 17,
   "id": "b5653ca6-e93e-4908-81e4-9cddfb592820",
   "metadata": {},
   "outputs": [
    {
     "data": {
      "text/plain": [
       "ACTION\n",
       "1    30872\n",
       "0     1897\n",
       "Name: count, dtype: int64"
      ]
     },
     "execution_count": 17,
     "metadata": {},
     "output_type": "execute_result"
    }
   ],
   "source": [
    "y.value_counts()"
   ]
  },
  {
   "cell_type": "code",
   "execution_count": 19,
   "id": "03529d6b-91b9-4a9a-bd30-f04fd431fe2d",
   "metadata": {},
   "outputs": [],
   "source": [
    "X_train, X_test, y_train, y_test = train_test_split(X, y, test_size=0.2)"
   ]
  },
  {
   "cell_type": "code",
   "execution_count": 20,
   "id": "ee68b5dc-aac6-4962-a0e8-6d6817866c30",
   "metadata": {},
   "outputs": [
    {
     "data": {
      "text/plain": [
       "(26215, 9)"
      ]
     },
     "execution_count": 20,
     "metadata": {},
     "output_type": "execute_result"
    }
   ],
   "source": [
    "X_train.shape"
   ]
  },
  {
   "cell_type": "code",
   "execution_count": 45,
   "id": "b4b77901-ec52-4276-b326-5021c36ecd60",
   "metadata": {},
   "outputs": [],
   "source": [
    "model = CatBoostClassifier(iterations=100, learning_rate=0.1, loss_function=\"CrossEntropy\", verbose=5)"
   ]
  },
  {
   "cell_type": "code",
   "execution_count": 46,
   "id": "c353a9b7-d28f-44f9-afbe-232192fc2168",
   "metadata": {},
   "outputs": [
    {
     "name": "stdout",
     "output_type": "stream",
     "text": [
      "0:\tlearn: 0.6185801\ttest: 0.6189475\tbest: 0.6189475 (0)\ttotal: 15.7ms\tremaining: 1.56s\n",
      "1:\tlearn: 0.5578134\ttest: 0.5583341\tbest: 0.5583341 (1)\ttotal: 35.4ms\tremaining: 1.73s\n",
      "2:\tlearn: 0.5073469\ttest: 0.5082358\tbest: 0.5082358 (2)\ttotal: 45ms\tremaining: 1.45s\n",
      "3:\tlearn: 0.4649764\ttest: 0.4659873\tbest: 0.4659873 (3)\ttotal: 58.1ms\tremaining: 1.4s\n",
      "4:\tlearn: 0.4292649\ttest: 0.4304405\tbest: 0.4304405 (4)\ttotal: 71.2ms\tremaining: 1.35s\n",
      "5:\tlearn: 0.3988305\ttest: 0.4003035\tbest: 0.4003035 (5)\ttotal: 89.3ms\tremaining: 1.4s\n",
      "6:\tlearn: 0.3729700\ttest: 0.3748977\tbest: 0.3748977 (6)\ttotal: 98.7ms\tremaining: 1.31s\n",
      "7:\tlearn: 0.3507421\ttest: 0.3530027\tbest: 0.3530027 (7)\ttotal: 110ms\tremaining: 1.26s\n",
      "8:\tlearn: 0.3317391\ttest: 0.3344578\tbest: 0.3344578 (8)\ttotal: 119ms\tremaining: 1.2s\n",
      "9:\tlearn: 0.3150991\ttest: 0.3179260\tbest: 0.3179260 (9)\ttotal: 134ms\tremaining: 1.21s\n",
      "10:\tlearn: 0.3008348\ttest: 0.3040360\tbest: 0.3040360 (10)\ttotal: 145ms\tremaining: 1.18s\n",
      "11:\tlearn: 0.2872519\ttest: 0.2904966\tbest: 0.2904966 (11)\ttotal: 162ms\tremaining: 1.18s\n",
      "12:\tlearn: 0.2757277\ttest: 0.2788886\tbest: 0.2788886 (12)\ttotal: 176ms\tremaining: 1.18s\n",
      "13:\tlearn: 0.2656159\ttest: 0.2686408\tbest: 0.2686408 (13)\ttotal: 192ms\tremaining: 1.18s\n",
      "14:\tlearn: 0.2568894\ttest: 0.2599264\tbest: 0.2599264 (14)\ttotal: 207ms\tremaining: 1.17s\n",
      "15:\tlearn: 0.2493936\ttest: 0.2523163\tbest: 0.2523163 (15)\ttotal: 224ms\tremaining: 1.17s\n",
      "16:\tlearn: 0.2428273\ttest: 0.2457419\tbest: 0.2457419 (16)\ttotal: 242ms\tremaining: 1.18s\n",
      "17:\tlearn: 0.2377113\ttest: 0.2407752\tbest: 0.2407752 (17)\ttotal: 249ms\tremaining: 1.13s\n",
      "18:\tlearn: 0.2322243\ttest: 0.2353730\tbest: 0.2353730 (18)\ttotal: 264ms\tremaining: 1.13s\n",
      "19:\tlearn: 0.2285896\ttest: 0.2320092\tbest: 0.2320092 (19)\ttotal: 269ms\tremaining: 1.08s\n",
      "20:\tlearn: 0.2220967\ttest: 0.2251735\tbest: 0.2251735 (20)\ttotal: 285ms\tremaining: 1.07s\n",
      "21:\tlearn: 0.2165047\ttest: 0.2187854\tbest: 0.2187854 (21)\ttotal: 300ms\tremaining: 1.06s\n",
      "22:\tlearn: 0.2120275\ttest: 0.2139061\tbest: 0.2139061 (22)\ttotal: 309ms\tremaining: 1.03s\n",
      "23:\tlearn: 0.2079170\ttest: 0.2093291\tbest: 0.2093291 (23)\ttotal: 321ms\tremaining: 1.01s\n",
      "24:\tlearn: 0.2042357\ttest: 0.2051882\tbest: 0.2051882 (24)\ttotal: 336ms\tremaining: 1.01s\n",
      "25:\tlearn: 0.2014423\ttest: 0.2021275\tbest: 0.2021275 (25)\ttotal: 352ms\tremaining: 1s\n",
      "26:\tlearn: 0.1985356\ttest: 0.1987773\tbest: 0.1987773 (26)\ttotal: 368ms\tremaining: 995ms\n",
      "27:\tlearn: 0.1960907\ttest: 0.1960322\tbest: 0.1960322 (27)\ttotal: 384ms\tremaining: 987ms\n",
      "28:\tlearn: 0.1934158\ttest: 0.1928566\tbest: 0.1928566 (28)\ttotal: 400ms\tremaining: 979ms\n",
      "29:\tlearn: 0.1909825\ttest: 0.1900328\tbest: 0.1900328 (29)\ttotal: 416ms\tremaining: 970ms\n",
      "30:\tlearn: 0.1890388\ttest: 0.1878921\tbest: 0.1878921 (30)\ttotal: 432ms\tremaining: 962ms\n",
      "31:\tlearn: 0.1871923\ttest: 0.1858257\tbest: 0.1858257 (31)\ttotal: 452ms\tremaining: 961ms\n",
      "32:\tlearn: 0.1857991\ttest: 0.1842395\tbest: 0.1842395 (32)\ttotal: 468ms\tremaining: 950ms\n",
      "33:\tlearn: 0.1846913\ttest: 0.1829346\tbest: 0.1829346 (33)\ttotal: 484ms\tremaining: 939ms\n",
      "34:\tlearn: 0.1837611\ttest: 0.1818563\tbest: 0.1818563 (34)\ttotal: 500ms\tremaining: 928ms\n",
      "35:\tlearn: 0.1826295\ttest: 0.1806516\tbest: 0.1806516 (35)\ttotal: 515ms\tremaining: 915ms\n",
      "36:\tlearn: 0.1817566\ttest: 0.1796189\tbest: 0.1796189 (36)\ttotal: 530ms\tremaining: 902ms\n",
      "37:\tlearn: 0.1809836\ttest: 0.1788065\tbest: 0.1788065 (37)\ttotal: 545ms\tremaining: 889ms\n",
      "38:\tlearn: 0.1803556\ttest: 0.1782470\tbest: 0.1782470 (38)\ttotal: 562ms\tremaining: 879ms\n",
      "39:\tlearn: 0.1798704\ttest: 0.1775357\tbest: 0.1775357 (39)\ttotal: 578ms\tremaining: 867ms\n",
      "40:\tlearn: 0.1791319\ttest: 0.1767201\tbest: 0.1767201 (40)\ttotal: 596ms\tremaining: 858ms\n",
      "41:\tlearn: 0.1783077\ttest: 0.1757856\tbest: 0.1757856 (41)\ttotal: 612ms\tremaining: 845ms\n",
      "42:\tlearn: 0.1775966\ttest: 0.1749605\tbest: 0.1749605 (42)\ttotal: 625ms\tremaining: 829ms\n",
      "43:\tlearn: 0.1768742\ttest: 0.1742110\tbest: 0.1742110 (43)\ttotal: 647ms\tremaining: 823ms\n",
      "44:\tlearn: 0.1764888\ttest: 0.1738297\tbest: 0.1738297 (44)\ttotal: 665ms\tremaining: 813ms\n",
      "45:\tlearn: 0.1758968\ttest: 0.1731215\tbest: 0.1731215 (45)\ttotal: 683ms\tremaining: 802ms\n",
      "46:\tlearn: 0.1753369\ttest: 0.1724511\tbest: 0.1724511 (46)\ttotal: 705ms\tremaining: 795ms\n",
      "47:\tlearn: 0.1748377\ttest: 0.1717876\tbest: 0.1717876 (47)\ttotal: 730ms\tremaining: 791ms\n",
      "48:\tlearn: 0.1743697\ttest: 0.1712118\tbest: 0.1712118 (48)\ttotal: 747ms\tremaining: 778ms\n",
      "49:\tlearn: 0.1740807\ttest: 0.1708751\tbest: 0.1708751 (49)\ttotal: 764ms\tremaining: 764ms\n",
      "50:\tlearn: 0.1737489\ttest: 0.1705721\tbest: 0.1705721 (50)\ttotal: 780ms\tremaining: 749ms\n",
      "51:\tlearn: 0.1735062\ttest: 0.1703145\tbest: 0.1703145 (51)\ttotal: 797ms\tremaining: 735ms\n",
      "52:\tlearn: 0.1731908\ttest: 0.1700732\tbest: 0.1700732 (52)\ttotal: 812ms\tremaining: 720ms\n",
      "53:\tlearn: 0.1730384\ttest: 0.1699595\tbest: 0.1699595 (53)\ttotal: 827ms\tremaining: 705ms\n",
      "54:\tlearn: 0.1728512\ttest: 0.1698227\tbest: 0.1698227 (54)\ttotal: 842ms\tremaining: 689ms\n",
      "55:\tlearn: 0.1725523\ttest: 0.1695130\tbest: 0.1695130 (55)\ttotal: 863ms\tremaining: 678ms\n",
      "56:\tlearn: 0.1722833\ttest: 0.1692715\tbest: 0.1692715 (56)\ttotal: 881ms\tremaining: 665ms\n",
      "57:\tlearn: 0.1720886\ttest: 0.1690181\tbest: 0.1690181 (57)\ttotal: 897ms\tremaining: 650ms\n",
      "58:\tlearn: 0.1718883\ttest: 0.1688418\tbest: 0.1688418 (58)\ttotal: 914ms\tremaining: 635ms\n",
      "59:\tlearn: 0.1716924\ttest: 0.1687448\tbest: 0.1687448 (59)\ttotal: 930ms\tremaining: 620ms\n",
      "60:\tlearn: 0.1715019\ttest: 0.1685030\tbest: 0.1685030 (60)\ttotal: 946ms\tremaining: 605ms\n",
      "61:\tlearn: 0.1713665\ttest: 0.1682971\tbest: 0.1682971 (61)\ttotal: 962ms\tremaining: 589ms\n",
      "62:\tlearn: 0.1712018\ttest: 0.1681437\tbest: 0.1681437 (62)\ttotal: 978ms\tremaining: 574ms\n",
      "63:\tlearn: 0.1710414\ttest: 0.1680477\tbest: 0.1680477 (63)\ttotal: 994ms\tremaining: 559ms\n",
      "64:\tlearn: 0.1709150\ttest: 0.1679414\tbest: 0.1679414 (64)\ttotal: 1.01s\tremaining: 544ms\n",
      "65:\tlearn: 0.1708015\ttest: 0.1677791\tbest: 0.1677791 (65)\ttotal: 1.03s\tremaining: 529ms\n",
      "66:\tlearn: 0.1706403\ttest: 0.1676051\tbest: 0.1676051 (66)\ttotal: 1.04s\tremaining: 514ms\n",
      "67:\tlearn: 0.1705981\ttest: 0.1675380\tbest: 0.1675380 (67)\ttotal: 1.06s\tremaining: 498ms\n",
      "68:\tlearn: 0.1704873\ttest: 0.1674205\tbest: 0.1674205 (68)\ttotal: 1.08s\tremaining: 486ms\n",
      "69:\tlearn: 0.1704490\ttest: 0.1673753\tbest: 0.1673753 (69)\ttotal: 1.1s\tremaining: 472ms\n",
      "70:\tlearn: 0.1703472\ttest: 0.1673122\tbest: 0.1673122 (70)\ttotal: 1.12s\tremaining: 457ms\n",
      "71:\tlearn: 0.1702550\ttest: 0.1672152\tbest: 0.1672152 (71)\ttotal: 1.13s\tremaining: 441ms\n",
      "72:\tlearn: 0.1701129\ttest: 0.1670966\tbest: 0.1670966 (72)\ttotal: 1.15s\tremaining: 425ms\n",
      "73:\tlearn: 0.1700038\ttest: 0.1669782\tbest: 0.1669782 (73)\ttotal: 1.17s\tremaining: 409ms\n",
      "74:\tlearn: 0.1699096\ttest: 0.1669124\tbest: 0.1669124 (74)\ttotal: 1.18s\tremaining: 393ms\n",
      "75:\tlearn: 0.1697733\ttest: 0.1667477\tbest: 0.1667477 (75)\ttotal: 1.2s\tremaining: 378ms\n",
      "76:\tlearn: 0.1697467\ttest: 0.1667058\tbest: 0.1667058 (76)\ttotal: 1.21s\tremaining: 362ms\n",
      "77:\tlearn: 0.1695789\ttest: 0.1665752\tbest: 0.1665752 (77)\ttotal: 1.23s\tremaining: 346ms\n",
      "78:\tlearn: 0.1695433\ttest: 0.1665640\tbest: 0.1665640 (78)\ttotal: 1.24s\tremaining: 330ms\n",
      "79:\tlearn: 0.1694379\ttest: 0.1664319\tbest: 0.1664319 (79)\ttotal: 1.25s\tremaining: 314ms\n",
      "80:\tlearn: 0.1692607\ttest: 0.1662990\tbest: 0.1662990 (80)\ttotal: 1.27s\tremaining: 298ms\n",
      "81:\tlearn: 0.1692158\ttest: 0.1662307\tbest: 0.1662307 (81)\ttotal: 1.29s\tremaining: 283ms\n",
      "82:\tlearn: 0.1692001\ttest: 0.1662513\tbest: 0.1662307 (81)\ttotal: 1.31s\tremaining: 269ms\n",
      "83:\tlearn: 0.1690283\ttest: 0.1661997\tbest: 0.1661997 (83)\ttotal: 1.33s\tremaining: 254ms\n",
      "84:\tlearn: 0.1690160\ttest: 0.1661749\tbest: 0.1661749 (84)\ttotal: 1.35s\tremaining: 238ms\n",
      "85:\tlearn: 0.1689184\ttest: 0.1661189\tbest: 0.1661189 (85)\ttotal: 1.36s\tremaining: 222ms\n",
      "86:\tlearn: 0.1688582\ttest: 0.1660813\tbest: 0.1660813 (86)\ttotal: 1.38s\tremaining: 206ms\n",
      "87:\tlearn: 0.1686666\ttest: 0.1660300\tbest: 0.1660300 (87)\ttotal: 1.4s\tremaining: 190ms\n",
      "88:\tlearn: 0.1686240\ttest: 0.1660031\tbest: 0.1660031 (88)\ttotal: 1.41s\tremaining: 175ms\n",
      "89:\tlearn: 0.1685695\ttest: 0.1659222\tbest: 0.1659222 (89)\ttotal: 1.43s\tremaining: 159ms\n",
      "90:\tlearn: 0.1684928\ttest: 0.1658868\tbest: 0.1658868 (90)\ttotal: 1.44s\tremaining: 143ms\n",
      "91:\tlearn: 0.1684518\ttest: 0.1658680\tbest: 0.1658680 (91)\ttotal: 1.46s\tremaining: 127ms\n",
      "92:\tlearn: 0.1684053\ttest: 0.1658662\tbest: 0.1658662 (92)\ttotal: 1.47s\tremaining: 111ms\n",
      "93:\tlearn: 0.1683115\ttest: 0.1657898\tbest: 0.1657898 (93)\ttotal: 1.5s\tremaining: 95.5ms\n",
      "94:\tlearn: 0.1682697\ttest: 0.1657414\tbest: 0.1657414 (94)\ttotal: 1.52s\tremaining: 80.1ms\n",
      "95:\tlearn: 0.1682152\ttest: 0.1657468\tbest: 0.1657414 (94)\ttotal: 1.54s\tremaining: 64.4ms\n",
      "96:\tlearn: 0.1681814\ttest: 0.1656966\tbest: 0.1656966 (96)\ttotal: 1.57s\tremaining: 48.4ms\n",
      "97:\tlearn: 0.1681402\ttest: 0.1656626\tbest: 0.1656626 (97)\ttotal: 1.59s\tremaining: 32.4ms\n",
      "98:\tlearn: 0.1680642\ttest: 0.1655860\tbest: 0.1655860 (98)\ttotal: 1.61s\tremaining: 16.2ms\n",
      "99:\tlearn: 0.1680413\ttest: 0.1655407\tbest: 0.1655407 (99)\ttotal: 1.62s\tremaining: 0us\n",
      "\n",
      "bestTest = 0.1655407025\n",
      "bestIteration = 99\n",
      "\n"
     ]
    },
    {
     "data": {
      "text/plain": [
       "<catboost.core.CatBoostClassifier at 0x21b293e4ac0>"
      ]
     },
     "execution_count": 46,
     "metadata": {},
     "output_type": "execute_result"
    }
   ],
   "source": [
    "model.fit(X_train, y_train, cat_features=cat_features, eval_set=(X_test, y_test), verbose=True, plot=False)"
   ]
  },
  {
   "cell_type": "code",
   "execution_count": 47,
   "id": "e7db24e2-3ca8-4b4c-9ead-e471f83377af",
   "metadata": {},
   "outputs": [
    {
     "data": {
      "text/plain": [
       "True"
      ]
     },
     "execution_count": 47,
     "metadata": {},
     "output_type": "execute_result"
    }
   ],
   "source": [
    "model.is_fitted()"
   ]
  },
  {
   "cell_type": "code",
   "execution_count": 48,
   "id": "6e6cf379-2651-4753-847a-73b37c1a5d4f",
   "metadata": {},
   "outputs": [
    {
     "data": {
      "text/plain": [
       "{'iterations': 100,\n",
       " 'learning_rate': 0.1,\n",
       " 'loss_function': 'CrossEntropy',\n",
       " 'verbose': 5}"
      ]
     },
     "execution_count": 48,
     "metadata": {},
     "output_type": "execute_result"
    }
   ],
   "source": [
    "model.get_params()"
   ]
  },
  {
   "cell_type": "code",
   "execution_count": 49,
   "id": "ddad7681-351b-44b6-82e9-5b8a7b240059",
   "metadata": {},
   "outputs": [],
   "source": [
    "model = CatBoostClassifier(\n",
    "    iterations=10, learning_rate=0.1, \n",
    "    custom_loss=[\"AUC\", \"Accuracy\"]\n",
    ")"
   ]
  },
  {
   "cell_type": "code",
   "execution_count": 50,
   "id": "72f00da9-dbab-4c84-bd36-5ca3120263a2",
   "metadata": {},
   "outputs": [
    {
     "data": {
      "application/vnd.jupyter.widget-view+json": {
       "model_id": "1901de9bc7c64fd49462988fd35fe8f1",
       "version_major": 2,
       "version_minor": 0
      },
      "text/plain": [
       "MetricVisualizer(layout=Layout(align_self='stretch', height='500px'))"
      ]
     },
     "metadata": {},
     "output_type": "display_data"
    },
    {
     "data": {
      "text/plain": [
       "<catboost.core.CatBoostClassifier at 0x21b293fe370>"
      ]
     },
     "execution_count": 50,
     "metadata": {},
     "output_type": "execute_result"
    }
   ],
   "source": [
    "model.fit(X_train, y_train,\n",
    "          cat_features=cat_features,\n",
    "          eval_set=(X_test, y_test),\n",
    "          verbose=False,\n",
    "          plot=True\n",
    "         )"
   ]
  },
  {
   "cell_type": "code",
   "execution_count": 53,
   "id": "a3e77585-a42b-4abf-8fde-5c9ca4a1a3a8",
   "metadata": {},
   "outputs": [
    {
     "data": {
      "application/vnd.jupyter.widget-view+json": {
       "model_id": "edceb9f4c05744dcade63681c9f8edb3",
       "version_major": 2,
       "version_minor": 0
      },
      "text/plain": [
       "MetricVisualizer(layout=Layout(align_self='stretch', height='500px'))"
      ]
     },
     "metadata": {},
     "output_type": "display_data"
    },
    {
     "ename": "KeyboardInterrupt",
     "evalue": "",
     "output_type": "error",
     "traceback": [
      "\u001b[1;31m---------------------------------------------------------------------------\u001b[0m",
      "\u001b[1;31mKeyboardInterrupt\u001b[0m                         Traceback (most recent call last)",
      "Cell \u001b[1;32mIn[53], line 2\u001b[0m\n\u001b[0;32m      1\u001b[0m \u001b[38;5;28;01mfrom\u001b[39;00m \u001b[38;5;21;01mcatboost\u001b[39;00m \u001b[38;5;28;01mimport\u001b[39;00m MetricVisualizer\n\u001b[1;32m----> 2\u001b[0m \u001b[43mMetricVisualizer\u001b[49m\u001b[43m(\u001b[49m\u001b[43m[\u001b[49m\u001b[38;5;124;43m\"\u001b[39;49m\u001b[38;5;124;43mlearning_rate_0.01\u001b[39;49m\u001b[38;5;124;43m\"\u001b[39;49m\u001b[43m,\u001b[49m\u001b[43m \u001b[49m\u001b[38;5;124;43m\"\u001b[39;49m\u001b[38;5;124;43mlearning_rate_0.7\u001b[39;49m\u001b[38;5;124;43m\"\u001b[39;49m\u001b[43m]\u001b[49m\u001b[43m)\u001b[49m\u001b[38;5;241;43m.\u001b[39;49m\u001b[43mstart\u001b[49m\u001b[43m(\u001b[49m\u001b[43m)\u001b[49m\n",
      "File \u001b[1;32m~\\miniconda3\\envs\\catboost\\lib\\site-packages\\catboost\\widget\\ipythonwidget.py:46\u001b[0m, in \u001b[0;36mMetricVisualizer.start\u001b[1;34m(self)\u001b[0m\n\u001b[0;32m     44\u001b[0m display(\u001b[38;5;28mself\u001b[39m)\n\u001b[0;32m     45\u001b[0m \u001b[38;5;28mself\u001b[39m\u001b[38;5;241m.\u001b[39m_update_data()\n\u001b[1;32m---> 46\u001b[0m \u001b[38;5;28;01mwhile\u001b[39;00m \u001b[38;5;129;01mnot\u001b[39;00m \u001b[38;5;28;43mself\u001b[39;49m\u001b[38;5;241;43m.\u001b[39;49m\u001b[43m_need_to_stop\u001b[49m\u001b[38;5;241;43m.\u001b[39;49m\u001b[43mwait\u001b[49m\u001b[43m(\u001b[49m\u001b[38;5;241;43m1.0\u001b[39;49m\u001b[43m)\u001b[49m:\n\u001b[0;32m     47\u001b[0m     \u001b[38;5;28mself\u001b[39m\u001b[38;5;241m.\u001b[39m_update_data()\n\u001b[0;32m     49\u001b[0m \u001b[38;5;28;01mif\u001b[39;00m \u001b[38;5;28mself\u001b[39m\u001b[38;5;241m.\u001b[39m_update_after_stop_signal:\n",
      "File \u001b[1;32m~\\miniconda3\\envs\\catboost\\lib\\threading.py:581\u001b[0m, in \u001b[0;36mEvent.wait\u001b[1;34m(self, timeout)\u001b[0m\n\u001b[0;32m    579\u001b[0m signaled \u001b[38;5;241m=\u001b[39m \u001b[38;5;28mself\u001b[39m\u001b[38;5;241m.\u001b[39m_flag\n\u001b[0;32m    580\u001b[0m \u001b[38;5;28;01mif\u001b[39;00m \u001b[38;5;129;01mnot\u001b[39;00m signaled:\n\u001b[1;32m--> 581\u001b[0m     signaled \u001b[38;5;241m=\u001b[39m \u001b[38;5;28;43mself\u001b[39;49m\u001b[38;5;241;43m.\u001b[39;49m\u001b[43m_cond\u001b[49m\u001b[38;5;241;43m.\u001b[39;49m\u001b[43mwait\u001b[49m\u001b[43m(\u001b[49m\u001b[43mtimeout\u001b[49m\u001b[43m)\u001b[49m\n\u001b[0;32m    582\u001b[0m \u001b[38;5;28;01mreturn\u001b[39;00m signaled\n",
      "File \u001b[1;32m~\\miniconda3\\envs\\catboost\\lib\\threading.py:316\u001b[0m, in \u001b[0;36mCondition.wait\u001b[1;34m(self, timeout)\u001b[0m\n\u001b[0;32m    314\u001b[0m \u001b[38;5;28;01melse\u001b[39;00m:\n\u001b[0;32m    315\u001b[0m     \u001b[38;5;28;01mif\u001b[39;00m timeout \u001b[38;5;241m>\u001b[39m \u001b[38;5;241m0\u001b[39m:\n\u001b[1;32m--> 316\u001b[0m         gotit \u001b[38;5;241m=\u001b[39m \u001b[43mwaiter\u001b[49m\u001b[38;5;241;43m.\u001b[39;49m\u001b[43macquire\u001b[49m\u001b[43m(\u001b[49m\u001b[38;5;28;43;01mTrue\u001b[39;49;00m\u001b[43m,\u001b[49m\u001b[43m \u001b[49m\u001b[43mtimeout\u001b[49m\u001b[43m)\u001b[49m\n\u001b[0;32m    317\u001b[0m     \u001b[38;5;28;01melse\u001b[39;00m:\n\u001b[0;32m    318\u001b[0m         gotit \u001b[38;5;241m=\u001b[39m waiter\u001b[38;5;241m.\u001b[39macquire(\u001b[38;5;28;01mFalse\u001b[39;00m)\n",
      "\u001b[1;31mKeyboardInterrupt\u001b[0m: "
     ]
    }
   ],
   "source": [
    "from catboost import MetricVisualizer\n",
    "MetricVisualizer([\"learning_rate_0.01\", \"learning_rate_0.7\"]).start()"
   ]
  },
  {
   "cell_type": "code",
   "execution_count": null,
   "id": "332389f3-2f0e-476a-a75d-616845d8cd5d",
   "metadata": {},
   "outputs": [],
   "source": []
  }
 ],
 "metadata": {
  "kernelspec": {
   "display_name": "Python 3 (ipykernel)",
   "language": "python",
   "name": "python3"
  },
  "language_info": {
   "codemirror_mode": {
    "name": "ipython",
    "version": 3
   },
   "file_extension": ".py",
   "mimetype": "text/x-python",
   "name": "python",
   "nbconvert_exporter": "python",
   "pygments_lexer": "ipython3",
   "version": "3.9.19"
  }
 },
 "nbformat": 4,
 "nbformat_minor": 5
}
