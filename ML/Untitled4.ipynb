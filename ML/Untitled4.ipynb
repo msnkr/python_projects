{
 "cells": [
  {
   "cell_type": "code",
   "execution_count": 1,
   "id": "c550041a-76e7-4b43-801d-dfb4c425c88a",
   "metadata": {},
   "outputs": [],
   "source": [
    "import pandas as pd\n",
    "import numpy as np\n",
    "from catboost import datasets, CatBoostClassifier\n",
    "from sklearn.model_selection import train_test_split\n",
    "import optuna\n",
    "from sklearn.metrics import accuracy_score"
   ]
  },
  {
   "cell_type": "code",
   "execution_count": 7,
   "id": "b40342a3-859e-4a78-aedc-6e95aacdd441",
   "metadata": {},
   "outputs": [],
   "source": [
    "adult_train, adult_valid = datasets.adult()"
   ]
  },
  {
   "cell_type": "code",
   "execution_count": 40,
   "id": "d2db923b-4029-48fc-9ee3-215a955bc71e",
   "metadata": {},
   "outputs": [],
   "source": [
    "X = adult_train.drop(\"income\", axis=1)\n",
    "y = adult_train[\"income\"]"
   ]
  },
  {
   "cell_type": "code",
   "execution_count": 42,
   "id": "6d7fb5bd-1e16-4a08-9469-a86a2221cea0",
   "metadata": {},
   "outputs": [],
   "source": [
    "y.replace({\">50K\": 1, \"<=50K\": 0}, inplace=True)"
   ]
  },
  {
   "cell_type": "code",
   "execution_count": 43,
   "id": "0db29686-dceb-4658-8c5d-61e49e73a104",
   "metadata": {},
   "outputs": [],
   "source": [
    "def preprocess(df):\n",
    "    for label, content in df.items():\n",
    "        if not pd.api.types.is_numeric_dtype(content):\n",
    "            dummies = pd.get_dummies(content, prefix=label)\n",
    "            df = pd.concat([df, dummies], axis=1)\n",
    "            df.drop(label, axis=1, inplace=True)\n",
    "            \n",
    "    return df"
   ]
  },
  {
   "cell_type": "code",
   "execution_count": 51,
   "id": "7e80409d-1a0c-44e6-8d3e-a5607b920ca0",
   "metadata": {},
   "outputs": [],
   "source": [
    "X = preprocess(X)"
   ]
  },
  {
   "cell_type": "code",
   "execution_count": 52,
   "id": "e37df516-eedf-4c34-bb35-becea4e41737",
   "metadata": {},
   "outputs": [],
   "source": [
    "X_train, X_valid, y_train, y_valid = train_test_split(X, y, test_size=0.3)"
   ]
  },
  {
   "cell_type": "code",
   "execution_count": 57,
   "id": "163a5adf-3332-4338-90ec-d2596a297e46",
   "metadata": {},
   "outputs": [],
   "source": [
    "model = CatBoostClassifier()"
   ]
  },
  {
   "cell_type": "code",
   "execution_count": 58,
   "id": "ecdadc1f-dec6-4a5c-87db-1ac656b02179",
   "metadata": {},
   "outputs": [
    {
     "data": {
      "application/vnd.jupyter.widget-view+json": {
       "model_id": "e74ad304a33e4560b131159cc05ee9af",
       "version_major": 2,
       "version_minor": 0
      },
      "text/plain": [
       "MetricVisualizer(layout=Layout(align_self='stretch', height='500px'))"
      ]
     },
     "metadata": {},
     "output_type": "display_data"
    }
   ],
   "source": [
    "model.fit(X_train, y_train, eval_set=(X_valid, y_valid), verbose=False, plot=True);"
   ]
  },
  {
   "cell_type": "code",
   "execution_count": 59,
   "id": "28823df2-ea5f-4e92-b426-ddc05a58f11d",
   "metadata": {},
   "outputs": [],
   "source": [
    "y_preds = model.predict(X_valid)"
   ]
  },
  {
   "cell_type": "code",
   "execution_count": 60,
   "id": "3d405580-cdd3-438c-b69b-294392156f3f",
   "metadata": {},
   "outputs": [
    {
     "data": {
      "text/plain": [
       "0.8824854130412529"
      ]
     },
     "execution_count": 60,
     "metadata": {},
     "output_type": "execute_result"
    }
   ],
   "source": [
    "accuracy_score(y_valid, y_preds)"
   ]
  },
  {
   "cell_type": "code",
   "execution_count": 61,
   "id": "6c149954-935a-4192-adac-5620348d5a17",
   "metadata": {},
   "outputs": [],
   "source": [
    "def objective(trial):\n",
    "    X_train, X_valid, y_train, y_valid = train_test_split(X, y, test_size=0.4)\n",
    "\n",
    "    param = {\n",
    "        \"iterations\": trial.suggest_int(\"iterations\", 100, 1000),\n",
    "        \"learning_rate\": trial.suggest_float(\"learning_rate\", 0.01, 0.1),\n",
    "        \"depth\": trial.suggest_int(\"depth\", 4, 10),\n",
    "        \"l2_leaf_reg\": trial.suggest_int(\"l2_leaf_reg\", 4, 10)\n",
    "    }\n",
    "    \n",
    "    model = CatBoostClassifier(**param, verbose=False, early_stopping_rounds=50)\n",
    "    model.fit(X_train, y_train, eval_set=(X_valid, y_valid))\n",
    "    preds = model.predict(X_valid)\n",
    "    return accuracy_score(y_valid, preds)"
   ]
  },
  {
   "cell_type": "code",
   "execution_count": 62,
   "id": "ea6cf280-8ea7-4a01-b41a-d623c02da953",
   "metadata": {},
   "outputs": [
    {
     "name": "stderr",
     "output_type": "stream",
     "text": [
      "[I 2024-04-24 09:59:12,922] A new study created in memory with name: no-name-8d2b8e63-ce85-41fe-9a2a-03b9e3c9cc88\n"
     ]
    }
   ],
   "source": [
    "study = optuna.create_study(direction=\"maximize\")"
   ]
  },
  {
   "cell_type": "code",
   "execution_count": 65,
   "id": "58a16b0a-3949-45ea-92da-161ad68efcb2",
   "metadata": {},
   "outputs": [
    {
     "data": {
      "application/vnd.jupyter.widget-view+json": {
       "model_id": "7b57e2e50f9d4fcb8fdd78a0ce96f5c5",
       "version_major": 2,
       "version_minor": 0
      },
      "text/plain": [
       "  0%|          | 0/200 [00:00<?, ?it/s]"
      ]
     },
     "metadata": {},
     "output_type": "display_data"
    },
    {
     "name": "stdout",
     "output_type": "stream",
     "text": [
      "[I 2024-04-24 12:10:09,004] Trial 100 finished with value: 0.8704030710172744 and parameters: {'iterations': 625, 'learning_rate': 0.052280963731317576, 'depth': 5, 'l2_leaf_reg': 7}. Best is trial 80 with value: 0.8775431861804223.\n",
      "[I 2024-04-24 12:10:12,440] Trial 101 finished with value: 0.870172744721689 and parameters: {'iterations': 983, 'learning_rate': 0.0716549844826504, 'depth': 7, 'l2_leaf_reg': 6}. Best is trial 80 with value: 0.8775431861804223.\n",
      "[I 2024-04-24 12:10:15,143] Trial 102 finished with value: 0.870172744721689 and parameters: {'iterations': 932, 'learning_rate': 0.0767929621787917, 'depth': 7, 'l2_leaf_reg': 6}. Best is trial 80 with value: 0.8775431861804223.\n",
      "[I 2024-04-24 12:10:18,548] Trial 103 finished with value: 0.8717850287907869 and parameters: {'iterations': 832, 'learning_rate': 0.07807086639693767, 'depth': 8, 'l2_leaf_reg': 6}. Best is trial 80 with value: 0.8775431861804223.\n",
      "[I 2024-04-24 12:10:23,500] Trial 104 finished with value: 0.8733205374280231 and parameters: {'iterations': 958, 'learning_rate': 0.05711753908871241, 'depth': 7, 'l2_leaf_reg': 5}. Best is trial 80 with value: 0.8775431861804223.\n",
      "[I 2024-04-24 12:10:26,656] Trial 105 finished with value: 0.8757773512476008 and parameters: {'iterations': 903, 'learning_rate': 0.07432849011488628, 'depth': 7, 'l2_leaf_reg': 5}. Best is trial 80 with value: 0.8775431861804223.\n",
      "[I 2024-04-24 12:10:29,468] Trial 106 finished with value: 0.8696353166986565 and parameters: {'iterations': 904, 'learning_rate': 0.09101563188076187, 'depth': 7, 'l2_leaf_reg': 5}. Best is trial 80 with value: 0.8775431861804223.\n",
      "[I 2024-04-24 12:10:33,717] Trial 107 finished with value: 0.8704030710172744 and parameters: {'iterations': 875, 'learning_rate': 0.06774903222667661, 'depth': 6, 'l2_leaf_reg': 5}. Best is trial 80 with value: 0.8775431861804223.\n",
      "[I 2024-04-24 12:10:35,451] Trial 108 finished with value: 0.8691746641074856 and parameters: {'iterations': 272, 'learning_rate': 0.08762473971653711, 'depth': 5, 'l2_leaf_reg': 5}. Best is trial 80 with value: 0.8775431861804223.\n",
      "[I 2024-04-24 12:10:38,825] Trial 109 finished with value: 0.8689443378119002 and parameters: {'iterations': 972, 'learning_rate': 0.07937697639327279, 'depth': 8, 'l2_leaf_reg': 4}. Best is trial 80 with value: 0.8775431861804223.\n",
      "[I 2024-04-24 12:10:40,840] Trial 110 finished with value: 0.8706333973128599 and parameters: {'iterations': 793, 'learning_rate': 0.09444927479537982, 'depth': 7, 'l2_leaf_reg': 5}. Best is trial 80 with value: 0.8775431861804223.\n",
      "[I 2024-04-24 12:10:43,792] Trial 111 finished with value: 0.8712476007677543 and parameters: {'iterations': 940, 'learning_rate': 0.0735025077587535, 'depth': 7, 'l2_leaf_reg': 6}. Best is trial 80 with value: 0.8775431861804223.\n",
      "[I 2024-04-24 12:10:46,854] Trial 112 finished with value: 0.8753934740882917 and parameters: {'iterations': 919, 'learning_rate': 0.07431367704718088, 'depth': 7, 'l2_leaf_reg': 6}. Best is trial 80 with value: 0.8775431861804223.\n",
      "[I 2024-04-24 12:10:49,728] Trial 113 finished with value: 0.8680998080614204 and parameters: {'iterations': 893, 'learning_rate': 0.08261273914645276, 'depth': 7, 'l2_leaf_reg': 6}. Best is trial 80 with value: 0.8775431861804223.\n",
      "[I 2024-04-24 12:10:53,411] Trial 114 finished with value: 0.874088291746641 and parameters: {'iterations': 954, 'learning_rate': 0.07087875788380762, 'depth': 7, 'l2_leaf_reg': 6}. Best is trial 80 with value: 0.8775431861804223.\n",
      "[I 2024-04-24 12:10:57,488] Trial 115 finished with value: 0.8747024952015355 and parameters: {'iterations': 520, 'learning_rate': 0.07464555124435143, 'depth': 7, 'l2_leaf_reg': 7}. Best is trial 80 with value: 0.8775431861804223.\n",
      "[I 2024-04-24 12:11:00,863] Trial 116 finished with value: 0.8727063339731286 and parameters: {'iterations': 996, 'learning_rate': 0.06947083152124875, 'depth': 5, 'l2_leaf_reg': 10}. Best is trial 80 with value: 0.8775431861804223.\n",
      "[I 2024-04-24 12:11:04,315] Trial 117 finished with value: 0.8714779270633397 and parameters: {'iterations': 844, 'learning_rate': 0.06502705033295489, 'depth': 6, 'l2_leaf_reg': 6}. Best is trial 80 with value: 0.8775431861804223.\n",
      "[I 2024-04-24 12:11:07,861] Trial 118 finished with value: 0.8741650671785028 and parameters: {'iterations': 920, 'learning_rate': 0.08550052541059808, 'depth': 8, 'l2_leaf_reg': 5}. Best is trial 80 with value: 0.8775431861804223.\n",
      "[I 2024-04-24 12:11:10,860] Trial 119 finished with value: 0.8702495201535508 and parameters: {'iterations': 864, 'learning_rate': 0.06150649279575342, 'depth': 7, 'l2_leaf_reg': 6}. Best is trial 80 with value: 0.8775431861804223.\n",
      "[I 2024-04-24 12:11:13,469] Trial 120 finished with value: 0.870172744721689 and parameters: {'iterations': 975, 'learning_rate': 0.07936237234048665, 'depth': 4, 'l2_leaf_reg': 6}. Best is trial 80 with value: 0.8775431861804223.\n",
      "[I 2024-04-24 12:11:17,187] Trial 121 finished with value: 0.8735508637236085 and parameters: {'iterations': 911, 'learning_rate': 0.07234607489240637, 'depth': 7, 'l2_leaf_reg': 6}. Best is trial 80 with value: 0.8775431861804223.\n",
      "[I 2024-04-24 12:11:21,202] Trial 122 finished with value: 0.8763915547024952 and parameters: {'iterations': 757, 'learning_rate': 0.07588583740344698, 'depth': 7, 'l2_leaf_reg': 6}. Best is trial 80 with value: 0.8775431861804223.\n",
      "[I 2024-04-24 12:11:26,388] Trial 123 finished with value: 0.8722456813819578 and parameters: {'iterations': 758, 'learning_rate': 0.024222471451447805, 'depth': 7, 'l2_leaf_reg': 6}. Best is trial 80 with value: 0.8775431861804223.\n",
      "[I 2024-04-24 12:11:29,372] Trial 124 finished with value: 0.8754702495201535 and parameters: {'iterations': 820, 'learning_rate': 0.08113849059436791, 'depth': 7, 'l2_leaf_reg': 6}. Best is trial 80 with value: 0.8775431861804223.\n",
      "[I 2024-04-24 12:11:31,668] Trial 125 finished with value: 0.8674856046065259 and parameters: {'iterations': 749, 'learning_rate': 0.08166666058612283, 'depth': 7, 'l2_leaf_reg': 7}. Best is trial 80 with value: 0.8775431861804223.\n",
      "[I 2024-04-24 12:11:34,230] Trial 126 finished with value: 0.8713243761996161 and parameters: {'iterations': 716, 'learning_rate': 0.07588018768675071, 'depth': 5, 'l2_leaf_reg': 6}. Best is trial 80 with value: 0.8775431861804223.\n",
      "[I 2024-04-24 12:11:37,042] Trial 127 finished with value: 0.8714779270633397 and parameters: {'iterations': 808, 'learning_rate': 0.07780473163554656, 'depth': 6, 'l2_leaf_reg': 5}. Best is trial 80 with value: 0.8775431861804223.\n",
      "[I 2024-04-24 12:11:40,182] Trial 128 finished with value: 0.872552783109405 and parameters: {'iterations': 821, 'learning_rate': 0.08876809313559658, 'depth': 7, 'l2_leaf_reg': 6}. Best is trial 80 with value: 0.8775431861804223.\n",
      "[I 2024-04-24 12:11:42,400] Trial 129 finished with value: 0.8657965451055663 and parameters: {'iterations': 773, 'learning_rate': 0.08455946542206882, 'depth': 7, 'l2_leaf_reg': 6}. Best is trial 80 with value: 0.8775431861804223.\n",
      "[I 2024-04-24 12:11:45,821] Trial 130 finished with value: 0.8747792706333973 and parameters: {'iterations': 882, 'learning_rate': 0.0805978474219062, 'depth': 8, 'l2_leaf_reg': 7}. Best is trial 80 with value: 0.8775431861804223.\n",
      "[I 2024-04-24 12:11:48,898] Trial 131 finished with value: 0.8711708253358925 and parameters: {'iterations': 944, 'learning_rate': 0.0749631394584439, 'depth': 7, 'l2_leaf_reg': 6}. Best is trial 80 with value: 0.8775431861804223.\n",
      "[I 2024-04-24 12:11:51,570] Trial 132 finished with value: 0.8747792706333973 and parameters: {'iterations': 901, 'learning_rate': 0.08286859867357546, 'depth': 7, 'l2_leaf_reg': 6}. Best is trial 80 with value: 0.8775431861804223.\n",
      "[I 2024-04-24 12:11:54,881] Trial 133 finished with value: 0.874088291746641 and parameters: {'iterations': 726, 'learning_rate': 0.07040918665853814, 'depth': 7, 'l2_leaf_reg': 6}. Best is trial 80 with value: 0.8775431861804223.\n",
      "[I 2024-04-24 12:11:58,287] Trial 134 finished with value: 0.8737044145873321 and parameters: {'iterations': 854, 'learning_rate': 0.07862178532535713, 'depth': 7, 'l2_leaf_reg': 6}. Best is trial 80 with value: 0.8775431861804223.\n",
      "[I 2024-04-24 12:12:00,661] Trial 135 finished with value: 0.8704798464491362 and parameters: {'iterations': 706, 'learning_rate': 0.0769102519238512, 'depth': 7, 'l2_leaf_reg': 6}. Best is trial 80 with value: 0.8775431861804223.\n",
      "[I 2024-04-24 12:12:05,988] Trial 136 finished with value: 0.8677927063339731 and parameters: {'iterations': 679, 'learning_rate': 0.07247292194381515, 'depth': 10, 'l2_leaf_reg': 5}. Best is trial 80 with value: 0.8775431861804223.\n",
      "[I 2024-04-24 12:12:09,378] Trial 137 finished with value: 0.8724760076775432 and parameters: {'iterations': 791, 'learning_rate': 0.06783320718794851, 'depth': 5, 'l2_leaf_reg': 4}. Best is trial 80 with value: 0.8775431861804223.\n",
      "[I 2024-04-24 12:12:11,081] Trial 138 finished with value: 0.8680998080614204 and parameters: {'iterations': 832, 'learning_rate': 0.09026779854759356, 'depth': 6, 'l2_leaf_reg': 6}. Best is trial 80 with value: 0.8775431861804223.\n",
      "[I 2024-04-24 12:12:14,642] Trial 139 finished with value: 0.8697120921305183 and parameters: {'iterations': 932, 'learning_rate': 0.04287632741174059, 'depth': 7, 'l2_leaf_reg': 6}. Best is trial 80 with value: 0.8775431861804223.\n",
      "[I 2024-04-24 12:12:17,829] Trial 140 finished with value: 0.8719385796545106 and parameters: {'iterations': 958, 'learning_rate': 0.08660617250255348, 'depth': 7, 'l2_leaf_reg': 5}. Best is trial 80 with value: 0.8775431861804223.\n",
      "[I 2024-04-24 12:12:20,766] Trial 141 finished with value: 0.8754702495201535 and parameters: {'iterations': 874, 'learning_rate': 0.07436307475217079, 'depth': 7, 'l2_leaf_reg': 6}. Best is trial 80 with value: 0.8775431861804223.\n",
      "[I 2024-04-24 12:12:23,703] Trial 142 finished with value: 0.870556621880998 and parameters: {'iterations': 885, 'learning_rate': 0.07349330405666632, 'depth': 7, 'l2_leaf_reg': 6}. Best is trial 80 with value: 0.8775431861804223.\n",
      "[I 2024-04-24 12:12:26,983] Trial 143 finished with value: 0.8663339731285988 and parameters: {'iterations': 982, 'learning_rate': 0.048957584183407704, 'depth': 7, 'l2_leaf_reg': 6}. Best is trial 80 with value: 0.8775431861804223.\n",
      "[I 2024-04-24 12:12:29,764] Trial 144 finished with value: 0.8719385796545106 and parameters: {'iterations': 870, 'learning_rate': 0.07515032868712299, 'depth': 7, 'l2_leaf_reg': 6}. Best is trial 80 with value: 0.8775431861804223.\n",
      "[I 2024-04-24 12:12:32,544] Trial 145 finished with value: 0.8708637236084453 and parameters: {'iterations': 925, 'learning_rate': 0.0801560722665622, 'depth': 7, 'l2_leaf_reg': 6}. Best is trial 80 with value: 0.8775431861804223.\n",
      "[I 2024-04-24 12:12:35,669] Trial 146 finished with value: 0.8700191938579654 and parameters: {'iterations': 903, 'learning_rate': 0.07171103384061024, 'depth': 5, 'l2_leaf_reg': 6}. Best is trial 80 with value: 0.8775431861804223.\n",
      "[I 2024-04-24 12:12:38,246] Trial 147 finished with value: 0.8720921305182342 and parameters: {'iterations': 999, 'learning_rate': 0.08398565710755986, 'depth': 6, 'l2_leaf_reg': 6}. Best is trial 80 with value: 0.8775431861804223.\n",
      "[I 2024-04-24 12:12:41,214] Trial 148 finished with value: 0.8735508637236085 and parameters: {'iterations': 845, 'learning_rate': 0.05679881235129397, 'depth': 7, 'l2_leaf_reg': 5}. Best is trial 80 with value: 0.8775431861804223.\n",
      "[I 2024-04-24 12:12:49,400] Trial 149 finished with value: 0.8696353166986565 and parameters: {'iterations': 970, 'learning_rate': 0.03437482248728422, 'depth': 8, 'l2_leaf_reg': 7}. Best is trial 80 with value: 0.8775431861804223.\n",
      "[I 2024-04-24 12:12:51,883] Trial 150 finished with value: 0.8717850287907869 and parameters: {'iterations': 943, 'learning_rate': 0.0766961373090418, 'depth': 7, 'l2_leaf_reg': 6}. Best is trial 80 with value: 0.8775431861804223.\n",
      "[I 2024-04-24 12:12:54,664] Trial 151 finished with value: 0.8738579654510557 and parameters: {'iterations': 914, 'learning_rate': 0.07419365761080457, 'depth': 7, 'l2_leaf_reg': 6}. Best is trial 80 with value: 0.8775431861804223.\n",
      "[I 2024-04-24 12:12:57,226] Trial 152 finished with value: 0.86978886756238 and parameters: {'iterations': 865, 'learning_rate': 0.0690817897369706, 'depth': 7, 'l2_leaf_reg': 6}. Best is trial 80 with value: 0.8775431861804223.\n",
      "[I 2024-04-24 12:13:00,480] Trial 153 finished with value: 0.8727831094049904 and parameters: {'iterations': 890, 'learning_rate': 0.07785248230820531, 'depth': 7, 'l2_leaf_reg': 6}. Best is trial 80 with value: 0.8775431861804223.\n",
      "[I 2024-04-24 12:13:04,026] Trial 154 finished with value: 0.874088291746641 and parameters: {'iterations': 930, 'learning_rate': 0.07412206322956418, 'depth': 7, 'l2_leaf_reg': 6}. Best is trial 80 with value: 0.8775431861804223.\n",
      "[I 2024-04-24 12:13:07,154] Trial 155 finished with value: 0.8716314779270633 and parameters: {'iterations': 967, 'learning_rate': 0.07132293487381522, 'depth': 7, 'l2_leaf_reg': 6}. Best is trial 80 with value: 0.8775431861804223.\n",
      "[I 2024-04-24 12:13:10,981] Trial 156 finished with value: 0.8754702495201535 and parameters: {'iterations': 822, 'learning_rate': 0.08046918660765709, 'depth': 7, 'l2_leaf_reg': 5}. Best is trial 80 with value: 0.8775431861804223.\n",
      "[I 2024-04-24 12:13:14,980] Trial 157 finished with value: 0.8747792706333973 and parameters: {'iterations': 812, 'learning_rate': 0.08156713362602444, 'depth': 5, 'l2_leaf_reg': 5}. Best is trial 80 with value: 0.8775431861804223.\n",
      "[I 2024-04-24 12:13:18,541] Trial 158 finished with value: 0.8712476007677543 and parameters: {'iterations': 833, 'learning_rate': 0.08782283154541595, 'depth': 7, 'l2_leaf_reg': 5}. Best is trial 80 with value: 0.8775431861804223.\n",
      "[I 2024-04-24 12:13:26,118] Trial 159 finished with value: 0.8688675623800384 and parameters: {'iterations': 762, 'learning_rate': 0.01107747084533306, 'depth': 6, 'l2_leaf_reg': 5}. Best is trial 80 with value: 0.8775431861804223.\n",
      "[I 2024-04-24 12:13:32,132] Trial 160 finished with value: 0.8739347408829174 and parameters: {'iterations': 735, 'learning_rate': 0.07932297800820119, 'depth': 5, 'l2_leaf_reg': 4}. Best is trial 80 with value: 0.8775431861804223.\n",
      "[I 2024-04-24 12:13:35,982] Trial 161 finished with value: 0.8665642994241842 and parameters: {'iterations': 855, 'learning_rate': 0.07641205525313001, 'depth': 7, 'l2_leaf_reg': 6}. Best is trial 80 with value: 0.8775431861804223.\n",
      "[I 2024-04-24 12:13:39,042] Trial 162 finished with value: 0.8707101727447217 and parameters: {'iterations': 422, 'learning_rate': 0.08305779508596606, 'depth': 7, 'l2_leaf_reg': 5}. Best is trial 80 with value: 0.8775431861804223.\n",
      "[I 2024-04-24 12:13:42,542] Trial 163 finished with value: 0.8700959692898272 and parameters: {'iterations': 876, 'learning_rate': 0.08098010453946886, 'depth': 7, 'l2_leaf_reg': 6}. Best is trial 80 with value: 0.8775431861804223.\n",
      "[I 2024-04-24 12:13:48,655] Trial 164 finished with value: 0.8770057581573897 and parameters: {'iterations': 903, 'learning_rate': 0.07292136146999477, 'depth': 7, 'l2_leaf_reg': 6}. Best is trial 80 with value: 0.8775431861804223.\n",
      "[I 2024-04-24 12:13:52,162] Trial 165 finished with value: 0.8737811900191939 and parameters: {'iterations': 821, 'learning_rate': 0.09380079258153035, 'depth': 7, 'l2_leaf_reg': 6}. Best is trial 80 with value: 0.8775431861804223.\n",
      "[I 2024-04-24 12:13:57,489] Trial 166 finished with value: 0.8700959692898272 and parameters: {'iterations': 898, 'learning_rate': 0.03891221566197237, 'depth': 7, 'l2_leaf_reg': 5}. Best is trial 80 with value: 0.8775431861804223.\n",
      "[I 2024-04-24 12:14:00,629] Trial 167 finished with value: 0.8668714011516315 and parameters: {'iterations': 952, 'learning_rate': 0.08556878877302507, 'depth': 8, 'l2_leaf_reg': 6}. Best is trial 80 with value: 0.8775431861804223.\n",
      "[I 2024-04-24 12:14:04,034] Trial 168 finished with value: 0.8727063339731286 and parameters: {'iterations': 788, 'learning_rate': 0.09987269228807363, 'depth': 7, 'l2_leaf_reg': 6}. Best is trial 80 with value: 0.8775431861804223.\n",
      "[I 2024-04-24 12:14:07,283] Trial 169 finished with value: 0.8741650671785028 and parameters: {'iterations': 985, 'learning_rate': 0.0704261193091732, 'depth': 7, 'l2_leaf_reg': 5}. Best is trial 80 with value: 0.8775431861804223.\n",
      "[I 2024-04-24 12:14:10,376] Trial 170 finished with value: 0.8750095969289827 and parameters: {'iterations': 663, 'learning_rate': 0.06777889635612915, 'depth': 6, 'l2_leaf_reg': 5}. Best is trial 80 with value: 0.8775431861804223.\n",
      "[I 2024-04-24 12:14:13,782] Trial 171 finished with value: 0.8750095969289827 and parameters: {'iterations': 921, 'learning_rate': 0.07825906942793626, 'depth': 7, 'l2_leaf_reg': 6}. Best is trial 80 with value: 0.8775431861804223.\n",
      "[I 2024-04-24 12:14:17,560] Trial 172 finished with value: 0.8735508637236085 and parameters: {'iterations': 881, 'learning_rate': 0.07353744672227576, 'depth': 7, 'l2_leaf_reg': 6}. Best is trial 80 with value: 0.8775431861804223.\n",
      "[I 2024-04-24 12:14:20,598] Trial 173 finished with value: 0.8733205374280231 and parameters: {'iterations': 910, 'learning_rate': 0.07570979620751386, 'depth': 7, 'l2_leaf_reg': 6}. Best is trial 80 with value: 0.8775431861804223.\n",
      "[I 2024-04-24 12:14:24,285] Trial 174 finished with value: 0.8717850287907869 and parameters: {'iterations': 944, 'learning_rate': 0.07106509837627555, 'depth': 7, 'l2_leaf_reg': 6}. Best is trial 80 with value: 0.8775431861804223.\n",
      "[I 2024-04-24 12:14:28,065] Trial 175 finished with value: 0.8763147792706334 and parameters: {'iterations': 851, 'learning_rate': 0.07288718616572495, 'depth': 7, 'l2_leaf_reg': 6}. Best is trial 80 with value: 0.8775431861804223.\n",
      "[I 2024-04-24 12:14:33,831] Trial 176 finished with value: 0.8732437619961613 and parameters: {'iterations': 845, 'learning_rate': 0.06592964256441596, 'depth': 5, 'l2_leaf_reg': 6}. Best is trial 80 with value: 0.8775431861804223.\n",
      "[I 2024-04-24 12:14:37,267] Trial 177 finished with value: 0.8723224568138196 and parameters: {'iterations': 803, 'learning_rate': 0.07517349285087725, 'depth': 7, 'l2_leaf_reg': 6}. Best is trial 80 with value: 0.8775431861804223.\n",
      "[I 2024-04-24 12:14:40,168] Trial 178 finished with value: 0.8717850287907869 and parameters: {'iterations': 859, 'learning_rate': 0.07221995463542914, 'depth': 7, 'l2_leaf_reg': 6}. Best is trial 80 with value: 0.8775431861804223.\n",
      "[I 2024-04-24 12:14:43,433] Trial 179 finished with value: 0.8709404990403071 and parameters: {'iterations': 832, 'learning_rate': 0.07906558309646398, 'depth': 7, 'l2_leaf_reg': 6}. Best is trial 80 with value: 0.8775431861804223.\n",
      "[I 2024-04-24 12:14:46,448] Trial 180 finished with value: 0.868253358925144 and parameters: {'iterations': 621, 'learning_rate': 0.06969180957555218, 'depth': 7, 'l2_leaf_reg': 4}. Best is trial 80 with value: 0.8775431861804223.\n",
      "[I 2024-04-24 12:14:49,385] Trial 181 finished with value: 0.8710172744721689 and parameters: {'iterations': 886, 'learning_rate': 0.07303433866907434, 'depth': 7, 'l2_leaf_reg': 6}. Best is trial 80 with value: 0.8775431861804223.\n",
      "[I 2024-04-24 12:14:52,681] Trial 182 finished with value: 0.8679462571976967 and parameters: {'iterations': 905, 'learning_rate': 0.07551393723707155, 'depth': 7, 'l2_leaf_reg': 6}. Best is trial 80 with value: 0.8775431861804223.\n",
      "[I 2024-04-24 12:14:58,570] Trial 183 finished with value: 0.8740115163147792 and parameters: {'iterations': 870, 'learning_rate': 0.026875090355548, 'depth': 7, 'l2_leaf_reg': 6}. Best is trial 80 with value: 0.8775431861804223.\n",
      "[I 2024-04-24 12:15:02,741] Trial 184 finished with value: 0.8722456813819578 and parameters: {'iterations': 961, 'learning_rate': 0.06340921769744265, 'depth': 7, 'l2_leaf_reg': 8}. Best is trial 80 with value: 0.8775431861804223.\n",
      "[I 2024-04-24 12:15:05,678] Trial 185 finished with value: 0.8693282149712093 and parameters: {'iterations': 928, 'learning_rate': 0.07710361014996983, 'depth': 5, 'l2_leaf_reg': 6}. Best is trial 80 with value: 0.8775431861804223.\n",
      "[I 2024-04-24 12:15:08,068] Trial 186 finished with value: 0.872168905950096 and parameters: {'iterations': 997, 'learning_rate': 0.09662858364281803, 'depth': 7, 'l2_leaf_reg': 6}. Best is trial 80 with value: 0.8775431861804223.\n",
      "[I 2024-04-24 12:15:11,429] Trial 187 finished with value: 0.8689443378119002 and parameters: {'iterations': 777, 'learning_rate': 0.07282649853250225, 'depth': 7, 'l2_leaf_reg': 6}. Best is trial 80 with value: 0.8775431861804223.\n",
      "[I 2024-04-24 12:15:15,116] Trial 188 finished with value: 0.8694817658349329 and parameters: {'iterations': 701, 'learning_rate': 0.08100931196785138, 'depth': 9, 'l2_leaf_reg': 6}. Best is trial 80 with value: 0.8775431861804223.\n",
      "[I 2024-04-24 12:15:18,475] Trial 189 finished with value: 0.8712476007677543 and parameters: {'iterations': 977, 'learning_rate': 0.05460965718232105, 'depth': 7, 'l2_leaf_reg': 9}. Best is trial 80 with value: 0.8775431861804223.\n",
      "[I 2024-04-24 12:15:21,177] Trial 190 finished with value: 0.8695585412667947 and parameters: {'iterations': 892, 'learning_rate': 0.08367756858945628, 'depth': 7, 'l2_leaf_reg': 6}. Best is trial 80 with value: 0.8775431861804223.\n",
      "[I 2024-04-24 12:15:24,926] Trial 191 finished with value: 0.8710940499040307 and parameters: {'iterations': 854, 'learning_rate': 0.0678818745120367, 'depth': 5, 'l2_leaf_reg': 6}. Best is trial 80 with value: 0.8775431861804223.\n",
      "[I 2024-04-24 12:15:28,816] Trial 192 finished with value: 0.8783109404990403 and parameters: {'iterations': 815, 'learning_rate': 0.05948591057813345, 'depth': 5, 'l2_leaf_reg': 6}. Best is trial 192 with value: 0.8783109404990403.\n",
      "[I 2024-04-24 12:15:31,315] Trial 193 finished with value: 0.8732437619961613 and parameters: {'iterations': 839, 'learning_rate': 0.07431496839259523, 'depth': 5, 'l2_leaf_reg': 6}. Best is trial 192 with value: 0.8783109404990403.\n",
      "[I 2024-04-24 12:15:35,018] Trial 194 finished with value: 0.8763147792706334 and parameters: {'iterations': 810, 'learning_rate': 0.053383603493691624, 'depth': 5, 'l2_leaf_reg': 6}. Best is trial 192 with value: 0.8783109404990403.\n",
      "[I 2024-04-24 12:15:38,064] Trial 195 finished with value: 0.8723224568138196 and parameters: {'iterations': 796, 'learning_rate': 0.05056618862541846, 'depth': 5, 'l2_leaf_reg': 6}. Best is trial 192 with value: 0.8783109404990403.\n",
      "[I 2024-04-24 12:15:40,563] Trial 196 finished with value: 0.8708637236084453 and parameters: {'iterations': 816, 'learning_rate': 0.052657151856510584, 'depth': 5, 'l2_leaf_reg': 6}. Best is trial 192 with value: 0.8783109404990403.\n",
      "[I 2024-04-24 12:15:44,328] Trial 197 finished with value: 0.8712476007677543 and parameters: {'iterations': 768, 'learning_rate': 0.056381092328470515, 'depth': 5, 'l2_leaf_reg': 6}. Best is trial 192 with value: 0.8783109404990403.\n",
      "[I 2024-04-24 12:15:48,124] Trial 198 finished with value: 0.8711708253358925 and parameters: {'iterations': 808, 'learning_rate': 0.0610538881134099, 'depth': 5, 'l2_leaf_reg': 5}. Best is trial 192 with value: 0.8783109404990403.\n",
      "[I 2024-04-24 12:15:51,108] Trial 199 finished with value: 0.8789251439539347 and parameters: {'iterations': 748, 'learning_rate': 0.0783867986844927, 'depth': 5, 'l2_leaf_reg': 6}. Best is trial 199 with value: 0.8789251439539347.\n",
      "[I 2024-04-24 12:15:54,654] Trial 200 finished with value: 0.8680230326295585 and parameters: {'iterations': 749, 'learning_rate': 0.055641602924657106, 'depth': 4, 'l2_leaf_reg': 6}. Best is trial 199 with value: 0.8789251439539347.\n",
      "[I 2024-04-24 12:15:58,637] Trial 201 finished with value: 0.8712476007677543 and parameters: {'iterations': 754, 'learning_rate': 0.04913131490902884, 'depth': 5, 'l2_leaf_reg': 6}. Best is trial 199 with value: 0.8789251439539347.\n",
      "[I 2024-04-24 12:16:02,121] Trial 202 finished with value: 0.8704030710172744 and parameters: {'iterations': 728, 'learning_rate': 0.06018409414337846, 'depth': 5, 'l2_leaf_reg': 6}. Best is trial 199 with value: 0.8789251439539347.\n",
      "[I 2024-04-24 12:16:05,620] Trial 203 finished with value: 0.8703262955854126 and parameters: {'iterations': 827, 'learning_rate': 0.07742635157899012, 'depth': 5, 'l2_leaf_reg': 6}. Best is trial 199 with value: 0.8789251439539347.\n",
      "[I 2024-04-24 12:16:10,025] Trial 204 finished with value: 0.8747792706333973 and parameters: {'iterations': 867, 'learning_rate': 0.05286989999997024, 'depth': 5, 'l2_leaf_reg': 6}. Best is trial 199 with value: 0.8789251439539347.\n",
      "[I 2024-04-24 12:16:12,945] Trial 205 finished with value: 0.8717082533589251 and parameters: {'iterations': 784, 'learning_rate': 0.08012792785702916, 'depth': 5, 'l2_leaf_reg': 6}. Best is trial 199 with value: 0.8789251439539347.\n",
      "[I 2024-04-24 12:16:17,413] Trial 206 finished with value: 0.875700575815739 and parameters: {'iterations': 801, 'learning_rate': 0.04676552188589043, 'depth': 5, 'l2_leaf_reg': 5}. Best is trial 199 with value: 0.8789251439539347.\n",
      "[I 2024-04-24 12:16:21,630] Trial 207 finished with value: 0.8706333973128599 and parameters: {'iterations': 800, 'learning_rate': 0.03864337628784712, 'depth': 5, 'l2_leaf_reg': 5}. Best is trial 199 with value: 0.8789251439539347.\n",
      "[I 2024-04-24 12:16:25,567] Trial 208 finished with value: 0.8710172744721689 and parameters: {'iterations': 774, 'learning_rate': 0.04527616599168659, 'depth': 5, 'l2_leaf_reg': 5}. Best is trial 199 with value: 0.8789251439539347.\n",
      "[I 2024-04-24 12:16:29,363] Trial 209 finished with value: 0.8753166986564299 and parameters: {'iterations': 824, 'learning_rate': 0.042713216048947886, 'depth': 5, 'l2_leaf_reg': 5}. Best is trial 199 with value: 0.8789251439539347.\n",
      "[I 2024-04-24 12:16:32,909] Trial 210 finished with value: 0.8714779270633397 and parameters: {'iterations': 839, 'learning_rate': 0.05815346894091688, 'depth': 5, 'l2_leaf_reg': 5}. Best is trial 199 with value: 0.8789251439539347.\n",
      "[I 2024-04-24 12:16:36,970] Trial 211 finished with value: 0.8734740882917467 and parameters: {'iterations': 809, 'learning_rate': 0.043658961598914886, 'depth': 5, 'l2_leaf_reg': 6}. Best is trial 199 with value: 0.8789251439539347.\n",
      "[I 2024-04-24 12:16:40,064] Trial 212 finished with value: 0.8744721689059501 and parameters: {'iterations': 851, 'learning_rate': 0.0757551617688661, 'depth': 5, 'l2_leaf_reg': 6}. Best is trial 199 with value: 0.8789251439539347.\n",
      "[I 2024-04-24 12:16:43,016] Trial 213 finished with value: 0.8714779270633397 and parameters: {'iterations': 744, 'learning_rate': 0.08222106795745628, 'depth': 5, 'l2_leaf_reg': 5}. Best is trial 199 with value: 0.8789251439539347.\n",
      "[I 2024-04-24 12:16:46,874] Trial 214 finished with value: 0.8753166986564299 and parameters: {'iterations': 765, 'learning_rate': 0.04867454358398226, 'depth': 5, 'l2_leaf_reg': 6}. Best is trial 199 with value: 0.8789251439539347.\n",
      "[I 2024-04-24 12:16:48,015] Trial 215 finished with value: 0.8644913627639156 and parameters: {'iterations': 146, 'learning_rate': 0.04677912772537279, 'depth': 7, 'l2_leaf_reg': 6}. Best is trial 199 with value: 0.8789251439539347.\n",
      "[I 2024-04-24 12:16:50,811] Trial 216 finished with value: 0.8723224568138196 and parameters: {'iterations': 788, 'learning_rate': 0.07896983376330555, 'depth': 7, 'l2_leaf_reg': 5}. Best is trial 199 with value: 0.8789251439539347.\n",
      "[I 2024-04-24 12:16:54,841] Trial 217 finished with value: 0.8685604606525912 and parameters: {'iterations': 952, 'learning_rate': 0.042086176111414936, 'depth': 7, 'l2_leaf_reg': 4}. Best is trial 199 with value: 0.8789251439539347.\n",
      "[I 2024-04-24 12:16:57,856] Trial 218 finished with value: 0.8759309021113244 and parameters: {'iterations': 867, 'learning_rate': 0.0718511003209241, 'depth': 5, 'l2_leaf_reg': 6}. Best is trial 199 with value: 0.8789251439539347.\n",
      "[I 2024-04-24 12:17:00,887] Trial 219 finished with value: 0.8735508637236085 and parameters: {'iterations': 862, 'learning_rate': 0.07129687464404554, 'depth': 5, 'l2_leaf_reg': 6}. Best is trial 199 with value: 0.8789251439539347.\n",
      "[I 2024-04-24 12:17:02,402] Trial 220 finished with value: 0.8661036468330134 and parameters: {'iterations': 819, 'learning_rate': 0.08544498165876836, 'depth': 5, 'l2_leaf_reg': 5}. Best is trial 199 with value: 0.8789251439539347.\n",
      "[I 2024-04-24 12:17:04,776] Trial 221 finished with value: 0.8693282149712093 and parameters: {'iterations': 876, 'learning_rate': 0.07317553250265613, 'depth': 5, 'l2_leaf_reg': 6}. Best is trial 199 with value: 0.8789251439539347.\n",
      "[I 2024-04-24 12:17:09,025] Trial 222 finished with value: 0.8704030710172744 and parameters: {'iterations': 904, 'learning_rate': 0.07408960203181067, 'depth': 5, 'l2_leaf_reg': 6}. Best is trial 199 with value: 0.8789251439539347.\n",
      "[I 2024-04-24 12:17:11,384] Trial 223 finished with value: 0.8681765834932822 and parameters: {'iterations': 848, 'learning_rate': 0.07677670535860806, 'depth': 5, 'l2_leaf_reg': 6}. Best is trial 199 with value: 0.8789251439539347.\n",
      "[I 2024-04-24 12:17:13,962] Trial 224 finished with value: 0.8733973128598849 and parameters: {'iterations': 878, 'learning_rate': 0.07001760183713686, 'depth': 7, 'l2_leaf_reg': 6}. Best is trial 199 with value: 0.8789251439539347.\n",
      "[I 2024-04-24 12:17:17,305] Trial 225 finished with value: 0.8737811900191939 and parameters: {'iterations': 482, 'learning_rate': 0.07274097201802292, 'depth': 7, 'l2_leaf_reg': 6}. Best is trial 199 with value: 0.8789251439539347.\n",
      "[I 2024-04-24 12:17:19,835] Trial 226 finished with value: 0.8755470249520153 and parameters: {'iterations': 970, 'learning_rate': 0.09217771908840769, 'depth': 5, 'l2_leaf_reg': 6}. Best is trial 199 with value: 0.8789251439539347.\n",
      "[I 2024-04-24 12:17:22,491] Trial 227 finished with value: 0.8750095969289827 and parameters: {'iterations': 984, 'learning_rate': 0.0924701079035412, 'depth': 5, 'l2_leaf_reg': 6}. Best is trial 199 with value: 0.8789251439539347.\n",
      "[I 2024-04-24 12:17:25,568] Trial 228 finished with value: 0.8727063339731286 and parameters: {'iterations': 971, 'learning_rate': 0.09026753910058637, 'depth': 5, 'l2_leaf_reg': 6}. Best is trial 199 with value: 0.8789251439539347.\n",
      "[I 2024-04-24 12:17:28,661] Trial 229 finished with value: 0.8720921305182342 and parameters: {'iterations': 960, 'learning_rate': 0.08778049758848931, 'depth': 5, 'l2_leaf_reg': 6}. Best is trial 199 with value: 0.8789251439539347.\n",
      "[I 2024-04-24 12:17:31,223] Trial 230 finished with value: 0.872936660268714 and parameters: {'iterations': 836, 'learning_rate': 0.09856495083635569, 'depth': 5, 'l2_leaf_reg': 6}. Best is trial 199 with value: 0.8789251439539347.\n",
      "[I 2024-04-24 12:17:33,051] Trial 231 finished with value: 0.8687140115163148 and parameters: {'iterations': 935, 'learning_rate': 0.09495067631230797, 'depth': 5, 'l2_leaf_reg': 6}. Best is trial 199 with value: 0.8789251439539347.\n",
      "[I 2024-04-24 12:17:35,816] Trial 232 finished with value: 0.8715547024952015 and parameters: {'iterations': 894, 'learning_rate': 0.07163745471531795, 'depth': 7, 'l2_leaf_reg': 6}. Best is trial 199 with value: 0.8789251439539347.\n",
      "[I 2024-04-24 12:17:39,675] Trial 233 finished with value: 0.876852207293666 and parameters: {'iterations': 982, 'learning_rate': 0.05902917555165432, 'depth': 5, 'l2_leaf_reg': 6}. Best is trial 199 with value: 0.8789251439539347.\n",
      "[I 2024-04-24 12:17:44,345] Trial 234 finished with value: 0.8687140115163148 and parameters: {'iterations': 994, 'learning_rate': 0.059524949751692466, 'depth': 5, 'l2_leaf_reg': 6}. Best is trial 199 with value: 0.8789251439539347.\n",
      "[I 2024-04-24 12:17:47,095] Trial 235 finished with value: 0.8748560460652591 and parameters: {'iterations': 971, 'learning_rate': 0.08324512043485881, 'depth': 5, 'l2_leaf_reg': 6}. Best is trial 199 with value: 0.8789251439539347.\n",
      "[I 2024-04-24 12:17:50,578] Trial 236 finished with value: 0.8695585412667947 and parameters: {'iterations': 999, 'learning_rate': 0.05805014579478627, 'depth': 5, 'l2_leaf_reg': 6}. Best is trial 199 with value: 0.8789251439539347.\n",
      "[I 2024-04-24 12:17:54,218] Trial 237 finished with value: 0.8756238003838771 and parameters: {'iterations': 714, 'learning_rate': 0.054394249330380985, 'depth': 5, 'l2_leaf_reg': 6}. Best is trial 199 with value: 0.8789251439539347.\n",
      "[I 2024-04-24 12:17:57,702] Trial 238 finished with value: 0.8738579654510557 and parameters: {'iterations': 695, 'learning_rate': 0.05950869259724273, 'depth': 5, 'l2_leaf_reg': 6}. Best is trial 199 with value: 0.8789251439539347.\n",
      "[I 2024-04-24 12:18:01,388] Trial 239 finished with value: 0.8707869481765835 and parameters: {'iterations': 721, 'learning_rate': 0.054839103951067156, 'depth': 5, 'l2_leaf_reg': 6}. Best is trial 199 with value: 0.8789251439539347.\n",
      "[I 2024-04-24 12:18:04,981] Trial 240 finished with value: 0.8763147792706334 and parameters: {'iterations': 710, 'learning_rate': 0.052869616486016846, 'depth': 5, 'l2_leaf_reg': 6}. Best is trial 199 with value: 0.8789251439539347.\n",
      "[I 2024-04-24 12:18:08,215] Trial 241 finished with value: 0.8765451055662188 and parameters: {'iterations': 689, 'learning_rate': 0.053492634998906864, 'depth': 5, 'l2_leaf_reg': 6}. Best is trial 199 with value: 0.8789251439539347.\n",
      "[I 2024-04-24 12:18:11,714] Trial 242 finished with value: 0.8670249520153551 and parameters: {'iterations': 708, 'learning_rate': 0.04725736497920626, 'depth': 5, 'l2_leaf_reg': 6}. Best is trial 199 with value: 0.8789251439539347.\n",
      "[I 2024-04-24 12:18:15,197] Trial 243 finished with value: 0.8743186180422264 and parameters: {'iterations': 688, 'learning_rate': 0.05350109128640285, 'depth': 5, 'l2_leaf_reg': 6}. Best is trial 199 with value: 0.8789251439539347.\n",
      "[I 2024-04-24 12:18:18,384] Trial 244 finished with value: 0.8704030710172744 and parameters: {'iterations': 738, 'learning_rate': 0.05099816776930241, 'depth': 5, 'l2_leaf_reg': 6}. Best is trial 199 with value: 0.8789251439539347.\n",
      "[I 2024-04-24 12:18:21,618] Trial 245 finished with value: 0.8713243761996161 and parameters: {'iterations': 660, 'learning_rate': 0.05442082883758238, 'depth': 5, 'l2_leaf_reg': 6}. Best is trial 199 with value: 0.8789251439539347.\n",
      "[I 2024-04-24 12:18:25,211] Trial 246 finished with value: 0.8766986564299424 and parameters: {'iterations': 722, 'learning_rate': 0.05152156609697018, 'depth': 5, 'l2_leaf_reg': 6}. Best is trial 199 with value: 0.8789251439539347.\n",
      "[I 2024-04-24 12:18:28,726] Trial 247 finished with value: 0.8703262955854126 and parameters: {'iterations': 709, 'learning_rate': 0.05056734754359267, 'depth': 5, 'l2_leaf_reg': 6}. Best is trial 199 with value: 0.8789251439539347.\n",
      "[I 2024-04-24 12:18:32,115] Trial 248 finished with value: 0.8714011516314779 and parameters: {'iterations': 680, 'learning_rate': 0.051751393697969314, 'depth': 5, 'l2_leaf_reg': 6}. Best is trial 199 with value: 0.8789251439539347.\n",
      "[I 2024-04-24 12:18:35,693] Trial 249 finished with value: 0.8726295585412668 and parameters: {'iterations': 727, 'learning_rate': 0.05137072421941955, 'depth': 5, 'l2_leaf_reg': 6}. Best is trial 199 with value: 0.8789251439539347.\n",
      "[I 2024-04-24 12:18:39,317] Trial 250 finished with value: 0.8720921305182342 and parameters: {'iterations': 719, 'learning_rate': 0.05589521901785934, 'depth': 5, 'l2_leaf_reg': 6}. Best is trial 199 with value: 0.8789251439539347.\n",
      "[I 2024-04-24 12:18:42,910] Trial 251 finished with value: 0.8718618042226488 and parameters: {'iterations': 743, 'learning_rate': 0.05420394975650071, 'depth': 5, 'l2_leaf_reg': 7}. Best is trial 199 with value: 0.8789251439539347.\n",
      "[I 2024-04-24 12:18:46,081] Trial 252 finished with value: 0.8697120921305183 and parameters: {'iterations': 704, 'learning_rate': 0.057665349166480674, 'depth': 5, 'l2_leaf_reg': 6}. Best is trial 199 with value: 0.8789251439539347.\n",
      "[I 2024-04-24 12:18:49,752] Trial 253 finished with value: 0.870556621880998 and parameters: {'iterations': 735, 'learning_rate': 0.055083125077416153, 'depth': 5, 'l2_leaf_reg': 6}. Best is trial 199 with value: 0.8789251439539347.\n",
      "[I 2024-04-24 12:18:53,454] Trial 254 finished with value: 0.86978886756238 and parameters: {'iterations': 758, 'learning_rate': 0.05237036344837187, 'depth': 5, 'l2_leaf_reg': 6}. Best is trial 199 with value: 0.8789251439539347.\n",
      "[I 2024-04-24 12:18:56,719] Trial 255 finished with value: 0.8717850287907869 and parameters: {'iterations': 688, 'learning_rate': 0.04790362444725026, 'depth': 5, 'l2_leaf_reg': 4}. Best is trial 199 with value: 0.8789251439539347.\n",
      "[I 2024-04-24 12:19:00,640] Trial 256 finished with value: 0.8742418426103646 and parameters: {'iterations': 984, 'learning_rate': 0.05706594293517441, 'depth': 5, 'l2_leaf_reg': 6}. Best is trial 199 with value: 0.8789251439539347.\n",
      "[I 2024-04-24 12:19:05,342] Trial 257 finished with value: 0.8710172744721689 and parameters: {'iterations': 959, 'learning_rate': 0.045860662669660796, 'depth': 5, 'l2_leaf_reg': 6}. Best is trial 199 with value: 0.8789251439539347.\n",
      "[I 2024-04-24 12:19:08,544] Trial 258 finished with value: 0.8719385796545106 and parameters: {'iterations': 672, 'learning_rate': 0.05331764463970633, 'depth': 4, 'l2_leaf_reg': 6}. Best is trial 199 with value: 0.8789251439539347.\n",
      "[I 2024-04-24 12:19:11,700] Trial 259 finished with value: 0.8715547024952015 and parameters: {'iterations': 642, 'learning_rate': 0.05582487833350204, 'depth': 5, 'l2_leaf_reg': 6}. Best is trial 199 with value: 0.8789251439539347.\n",
      "[I 2024-04-24 12:19:15,340] Trial 260 finished with value: 0.8695585412667947 and parameters: {'iterations': 718, 'learning_rate': 0.05025698092553809, 'depth': 5, 'l2_leaf_reg': 7}. Best is trial 199 with value: 0.8789251439539347.\n",
      "[I 2024-04-24 12:19:17,855] Trial 261 finished with value: 0.8720921305182342 and parameters: {'iterations': 974, 'learning_rate': 0.09080070711584738, 'depth': 5, 'l2_leaf_reg': 6}. Best is trial 199 with value: 0.8789251439539347.\n",
      "[I 2024-04-24 12:19:21,588] Trial 262 finished with value: 0.8730902111324376 and parameters: {'iterations': 754, 'learning_rate': 0.06310112107345778, 'depth': 5, 'l2_leaf_reg': 6}. Best is trial 199 with value: 0.8789251439539347.\n",
      "[I 2024-04-24 12:19:25,634] Trial 263 finished with value: 0.8732437619961613 and parameters: {'iterations': 947, 'learning_rate': 0.08874553590191743, 'depth': 9, 'l2_leaf_reg': 6}. Best is trial 199 with value: 0.8789251439539347.\n",
      "[I 2024-04-24 12:19:27,430] Trial 264 finished with value: 0.8690978886756238 and parameters: {'iterations': 335, 'learning_rate': 0.053697375126850196, 'depth': 5, 'l2_leaf_reg': 6}. Best is trial 199 with value: 0.8789251439539347.\n",
      "[I 2024-04-24 12:19:31,539] Trial 265 finished with value: 0.8761612284069098 and parameters: {'iterations': 740, 'learning_rate': 0.044555969754849406, 'depth': 6, 'l2_leaf_reg': 6}. Best is trial 199 with value: 0.8789251439539347.\n",
      "[I 2024-04-24 12:19:35,475] Trial 266 finished with value: 0.8694049904030711 and parameters: {'iterations': 732, 'learning_rate': 0.04532527260384588, 'depth': 6, 'l2_leaf_reg': 6}. Best is trial 199 with value: 0.8789251439539347.\n",
      "[I 2024-04-24 12:19:39,193] Trial 267 finished with value: 0.8737811900191939 and parameters: {'iterations': 706, 'learning_rate': 0.040426103146756334, 'depth': 6, 'l2_leaf_reg': 6}. Best is trial 199 with value: 0.8789251439539347.\n",
      "[I 2024-04-24 12:19:43,520] Trial 268 finished with value: 0.8680998080614204 and parameters: {'iterations': 767, 'learning_rate': 0.04415581800092256, 'depth': 6, 'l2_leaf_reg': 6}. Best is trial 199 with value: 0.8789251439539347.\n",
      "[I 2024-04-24 12:19:47,629] Trial 269 finished with value: 0.8719385796545106 and parameters: {'iterations': 740, 'learning_rate': 0.04929915955246166, 'depth': 6, 'l2_leaf_reg': 6}. Best is trial 199 with value: 0.8789251439539347.\n",
      "[I 2024-04-24 12:19:50,003] Trial 270 finished with value: 0.8709404990403071 and parameters: {'iterations': 723, 'learning_rate': 0.09668281351528767, 'depth': 6, 'l2_leaf_reg': 6}. Best is trial 199 with value: 0.8789251439539347.\n",
      "[I 2024-04-24 12:19:53,456] Trial 271 finished with value: 0.8717082533589251 and parameters: {'iterations': 695, 'learning_rate': 0.042275302943234616, 'depth': 5, 'l2_leaf_reg': 6}. Best is trial 199 with value: 0.8789251439539347.\n",
      "[I 2024-04-24 12:19:56,314] Trial 272 finished with value: 0.8715547024952015 and parameters: {'iterations': 783, 'learning_rate': 0.09165396789506677, 'depth': 5, 'l2_leaf_reg': 5}. Best is trial 199 with value: 0.8789251439539347.\n",
      "[I 2024-04-24 12:20:00,095] Trial 273 finished with value: 0.8722456813819578 and parameters: {'iterations': 754, 'learning_rate': 0.05209800535520671, 'depth': 5, 'l2_leaf_reg': 6}. Best is trial 199 with value: 0.8789251439539347.\n",
      "[I 2024-04-24 12:20:02,938] Trial 274 finished with value: 0.8710940499040307 and parameters: {'iterations': 717, 'learning_rate': 0.05839412434557465, 'depth': 6, 'l2_leaf_reg': 6}. Best is trial 199 with value: 0.8789251439539347.\n",
      "[I 2024-04-24 12:20:06,093] Trial 275 finished with value: 0.8714779270633397 and parameters: {'iterations': 587, 'learning_rate': 0.04700986149513604, 'depth': 5, 'l2_leaf_reg': 4}. Best is trial 199 with value: 0.8789251439539347.\n",
      "[I 2024-04-24 12:20:10,655] Trial 276 finished with value: 0.8726295585412668 and parameters: {'iterations': 933, 'learning_rate': 0.05606908982426534, 'depth': 5, 'l2_leaf_reg': 6}. Best is trial 199 with value: 0.8789251439539347.\n",
      "[I 2024-04-24 12:20:12,857] Trial 277 finished with value: 0.8700959692898272 and parameters: {'iterations': 770, 'learning_rate': 0.09404946156905418, 'depth': 5, 'l2_leaf_reg': 6}. Best is trial 199 with value: 0.8789251439539347.\n",
      "[I 2024-04-24 12:20:16,435] Trial 278 finished with value: 0.872552783109405 and parameters: {'iterations': 736, 'learning_rate': 0.049357383838077355, 'depth': 4, 'l2_leaf_reg': 5}. Best is trial 199 with value: 0.8789251439539347.\n",
      "[I 2024-04-24 12:20:19,278] Trial 279 finished with value: 0.8759309021113244 and parameters: {'iterations': 907, 'learning_rate': 0.08618341353681809, 'depth': 6, 'l2_leaf_reg': 6}. Best is trial 199 with value: 0.8789251439539347.\n",
      "[I 2024-04-24 12:20:22,730] Trial 280 finished with value: 0.8722456813819578 and parameters: {'iterations': 912, 'learning_rate': 0.06176274600766708, 'depth': 6, 'l2_leaf_reg': 6}. Best is trial 199 with value: 0.8789251439539347.\n",
      "[I 2024-04-24 12:20:25,667] Trial 281 finished with value: 0.8717082533589251 and parameters: {'iterations': 887, 'learning_rate': 0.08659581353580449, 'depth': 6, 'l2_leaf_reg': 7}. Best is trial 199 with value: 0.8789251439539347.\n",
      "[I 2024-04-24 12:20:29,057] Trial 282 finished with value: 0.8731669865642995 and parameters: {'iterations': 861, 'learning_rate': 0.05361670342485249, 'depth': 6, 'l2_leaf_reg': 6}. Best is trial 199 with value: 0.8789251439539347.\n",
      "[I 2024-04-24 12:20:33,415] Trial 283 finished with value: 0.8732437619961613 and parameters: {'iterations': 923, 'learning_rate': 0.05649072682146888, 'depth': 6, 'l2_leaf_reg': 6}. Best is trial 199 with value: 0.8789251439539347.\n",
      "[I 2024-04-24 12:20:35,055] Trial 284 finished with value: 0.8714011516314779 and parameters: {'iterations': 264, 'learning_rate': 0.08405855406959736, 'depth': 6, 'l2_leaf_reg': 6}. Best is trial 199 with value: 0.8789251439539347.\n",
      "[I 2024-04-24 12:20:40,804] Trial 285 finished with value: 0.866641074856046 and parameters: {'iterations': 898, 'learning_rate': 0.08549106133212292, 'depth': 10, 'l2_leaf_reg': 5}. Best is trial 199 with value: 0.8789251439539347.\n",
      "[I 2024-04-24 12:20:45,365] Trial 286 finished with value: 0.8724760076775432 and parameters: {'iterations': 793, 'learning_rate': 0.04420091563226977, 'depth': 6, 'l2_leaf_reg': 6}. Best is trial 199 with value: 0.8789251439539347.\n",
      "[I 2024-04-24 12:20:47,630] Trial 287 finished with value: 0.8700191938579654 and parameters: {'iterations': 694, 'learning_rate': 0.0696061900425619, 'depth': 6, 'l2_leaf_reg': 6}. Best is trial 199 with value: 0.8789251439539347.\n",
      "[I 2024-04-24 12:20:51,958] Trial 288 finished with value: 0.870556621880998 and parameters: {'iterations': 879, 'learning_rate': 0.041287981023663295, 'depth': 5, 'l2_leaf_reg': 6}. Best is trial 199 with value: 0.8789251439539347.\n",
      "[I 2024-04-24 12:20:54,676] Trial 289 finished with value: 0.8752399232245681 and parameters: {'iterations': 752, 'learning_rate': 0.07610468655028976, 'depth': 5, 'l2_leaf_reg': 6}. Best is trial 199 with value: 0.8789251439539347.\n",
      "[I 2024-04-24 12:20:59,096] Trial 290 finished with value: 0.8704030710172744 and parameters: {'iterations': 858, 'learning_rate': 0.05146741960007381, 'depth': 5, 'l2_leaf_reg': 6}. Best is trial 199 with value: 0.8789251439539347.\n",
      "[I 2024-04-24 12:21:01,612] Trial 291 finished with value: 0.8707869481765835 and parameters: {'iterations': 896, 'learning_rate': 0.08804016120773697, 'depth': 5, 'l2_leaf_reg': 4}. Best is trial 199 with value: 0.8789251439539347.\n",
      "[I 2024-04-24 12:21:05,392] Trial 292 finished with value: 0.872168905950096 and parameters: {'iterations': 711, 'learning_rate': 0.06009185601019989, 'depth': 6, 'l2_leaf_reg': 5}. Best is trial 199 with value: 0.8789251439539347.\n",
      "[I 2024-04-24 12:21:08,469] Trial 293 finished with value: 0.8687140115163148 and parameters: {'iterations': 912, 'learning_rate': 0.07202611900288401, 'depth': 5, 'l2_leaf_reg': 6}. Best is trial 199 with value: 0.8789251439539347.\n",
      "[I 2024-04-24 12:21:12,328] Trial 294 finished with value: 0.8694049904030711 and parameters: {'iterations': 942, 'learning_rate': 0.0544229246072029, 'depth': 8, 'l2_leaf_reg': 6}. Best is trial 199 with value: 0.8789251439539347.\n",
      "[I 2024-04-24 12:21:15,796] Trial 295 finished with value: 0.8714779270633397 and parameters: {'iterations': 677, 'learning_rate': 0.04788681118360566, 'depth': 5, 'l2_leaf_reg': 6}. Best is trial 199 with value: 0.8789251439539347.\n",
      "[I 2024-04-24 12:21:19,748] Trial 296 finished with value: 0.8722456813819578 and parameters: {'iterations': 773, 'learning_rate': 0.07787413446734141, 'depth': 5, 'l2_leaf_reg': 6}. Best is trial 199 with value: 0.8789251439539347.\n",
      "[I 2024-04-24 12:21:23,856] Trial 297 finished with value: 0.8765451055662188 and parameters: {'iterations': 844, 'learning_rate': 0.05840703497427522, 'depth': 5, 'l2_leaf_reg': 5}. Best is trial 199 with value: 0.8789251439539347.\n",
      "[I 2024-04-24 12:21:27,793] Trial 298 finished with value: 0.8739347408829174 and parameters: {'iterations': 832, 'learning_rate': 0.05928440309165259, 'depth': 5, 'l2_leaf_reg': 5}. Best is trial 199 with value: 0.8789251439539347.\n",
      "[I 2024-04-24 12:21:30,948] Trial 299 finished with value: 0.8722456813819578 and parameters: {'iterations': 855, 'learning_rate': 0.07423149826117173, 'depth': 6, 'l2_leaf_reg': 8}. Best is trial 199 with value: 0.8789251439539347.\n"
     ]
    }
   ],
   "source": [
    "study.optimize(func=objective, n_trials=200, show_progress_bar=True)"
   ]
  },
  {
   "cell_type": "code",
   "execution_count": 66,
   "id": "5a26f7cf-cc1a-4072-b8fb-563b70b9bf9a",
   "metadata": {},
   "outputs": [
    {
     "data": {
      "application/vnd.plotly.v1+json": {
       "config": {
        "plotlyServerURL": "https://plot.ly"
       },
       "data": [
        {
         "mode": "markers",
         "name": "Objective Value",
         "type": "scatter",
         "x": [
          0,
          1,
          2,
          3,
          4,
          5,
          6,
          7,
          8,
          9,
          10,
          11,
          12,
          13,
          14,
          15,
          16,
          17,
          18,
          19,
          20,
          21,
          22,
          23,
          24,
          25,
          26,
          27,
          28,
          29,
          30,
          31,
          32,
          33,
          34,
          35,
          36,
          37,
          38,
          39,
          40,
          41,
          42,
          43,
          44,
          45,
          46,
          47,
          48,
          49,
          50,
          51,
          52,
          53,
          54,
          55,
          56,
          57,
          58,
          59,
          60,
          61,
          62,
          63,
          64,
          65,
          66,
          67,
          68,
          69,
          70,
          71,
          72,
          73,
          74,
          75,
          76,
          77,
          78,
          79,
          80,
          81,
          82,
          83,
          84,
          85,
          86,
          87,
          88,
          89,
          90,
          91,
          92,
          93,
          94,
          95,
          96,
          97,
          98,
          99,
          100,
          101,
          102,
          103,
          104,
          105,
          106,
          107,
          108,
          109,
          110,
          111,
          112,
          113,
          114,
          115,
          116,
          117,
          118,
          119,
          120,
          121,
          122,
          123,
          124,
          125,
          126,
          127,
          128,
          129,
          130,
          131,
          132,
          133,
          134,
          135,
          136,
          137,
          138,
          139,
          140,
          141,
          142,
          143,
          144,
          145,
          146,
          147,
          148,
          149,
          150,
          151,
          152,
          153,
          154,
          155,
          156,
          157,
          158,
          159,
          160,
          161,
          162,
          163,
          164,
          165,
          166,
          167,
          168,
          169,
          170,
          171,
          172,
          173,
          174,
          175,
          176,
          177,
          178,
          179,
          180,
          181,
          182,
          183,
          184,
          185,
          186,
          187,
          188,
          189,
          190,
          191,
          192,
          193,
          194,
          195,
          196,
          197,
          198,
          199,
          200,
          201,
          202,
          203,
          204,
          205,
          206,
          207,
          208,
          209,
          210,
          211,
          212,
          213,
          214,
          215,
          216,
          217,
          218,
          219,
          220,
          221,
          222,
          223,
          224,
          225,
          226,
          227,
          228,
          229,
          230,
          231,
          232,
          233,
          234,
          235,
          236,
          237,
          238,
          239,
          240,
          241,
          242,
          243,
          244,
          245,
          246,
          247,
          248,
          249,
          250,
          251,
          252,
          253,
          254,
          255,
          256,
          257,
          258,
          259,
          260,
          261,
          262,
          263,
          264,
          265,
          266,
          267,
          268,
          269,
          270,
          271,
          272,
          273,
          274,
          275,
          276,
          277,
          278,
          279,
          280,
          281,
          282,
          283,
          284,
          285,
          286,
          287,
          288,
          289,
          290,
          291,
          292,
          293,
          294,
          295,
          296,
          297,
          298,
          299
         ],
         "y": [
          0.8716314779270633,
          0.870172744721689,
          0.8702495201535508,
          0.8697120921305183,
          0.8741650671785028,
          0.8713243761996161,
          0.8642610364683301,
          0.8730134357005758,
          0.8747792706333973,
          0.8601919385796545,
          0.875700575815739,
          0.8743953934740883,
          0.8712476007677543,
          0.8752399232245681,
          0.8722456813819578,
          0.868637236084453,
          0.8692514395393474,
          0.8723224568138196,
          0.8696353166986565,
          0.8757773512476008,
          0.8720153550863724,
          0.8737811900191939,
          0.872936660268714,
          0.8751631477927063,
          0.8750863723608445,
          0.8700959692898272,
          0.8746257197696737,
          0.8727831094049904,
          0.868637236084453,
          0.8734740882917467,
          0.8697120921305183,
          0.8697120921305183,
          0.8739347408829174,
          0.8709404990403071,
          0.8687140115163148,
          0.8720921305182342,
          0.872552783109405,
          0.86978886756238,
          0.8684836852207294,
          0.876468330134357,
          0.8741650671785028,
          0.872936660268714,
          0.8763147792706334,
          0.8732437619961613,
          0.8738579654510557,
          0.8753166986564299,
          0.8661804222648752,
          0.874088291746641,
          0.8703262955854126,
          0.8754702495201535,
          0.8691746641074856,
          0.8758541266794626,
          0.8759309021113244,
          0.8706333973128599,
          0.8691746641074856,
          0.8688675623800384,
          0.8733973128598849,
          0.8714011516314779,
          0.8720153550863724,
          0.8730134357005758,
          0.8696353166986565,
          0.8716314779270633,
          0.8704030710172744,
          0.8692514395393474,
          0.8738579654510557,
          0.8734740882917467,
          0.870556621880998,
          0.8679462571976967,
          0.8735508637236085,
          0.874088291746641,
          0.8713243761996161,
          0.8710172744721689,
          0.8712476007677543,
          0.8736276391554703,
          0.8770057581573897,
          0.8700959692898272,
          0.8749328214971209,
          0.8740115163147792,
          0.8724760076775432,
          0.8684836852207294,
          0.8775431861804223,
          0.8727831094049904,
          0.8726295585412668,
          0.8703262955854126,
          0.8724760076775432,
          0.8727831094049904,
          0.8683301343570058,
          0.8743186180422264,
          0.8713243761996161,
          0.8735508637236085,
          0.8703262955854126,
          0.8723224568138196,
          0.8685604606525912,
          0.8730902111324376,
          0.8728598848368522,
          0.876852207293666,
          0.8751631477927063,
          0.8727063339731286,
          0.8737044145873321,
          0.872552783109405,
          0.8704030710172744,
          0.870172744721689,
          0.870172744721689,
          0.8717850287907869,
          0.8733205374280231,
          0.8757773512476008,
          0.8696353166986565,
          0.8704030710172744,
          0.8691746641074856,
          0.8689443378119002,
          0.8706333973128599,
          0.8712476007677543,
          0.8753934740882917,
          0.8680998080614204,
          0.874088291746641,
          0.8747024952015355,
          0.8727063339731286,
          0.8714779270633397,
          0.8741650671785028,
          0.8702495201535508,
          0.870172744721689,
          0.8735508637236085,
          0.8763915547024952,
          0.8722456813819578,
          0.8754702495201535,
          0.8674856046065259,
          0.8713243761996161,
          0.8714779270633397,
          0.872552783109405,
          0.8657965451055663,
          0.8747792706333973,
          0.8711708253358925,
          0.8747792706333973,
          0.874088291746641,
          0.8737044145873321,
          0.8704798464491362,
          0.8677927063339731,
          0.8724760076775432,
          0.8680998080614204,
          0.8697120921305183,
          0.8719385796545106,
          0.8754702495201535,
          0.870556621880998,
          0.8663339731285988,
          0.8719385796545106,
          0.8708637236084453,
          0.8700191938579654,
          0.8720921305182342,
          0.8735508637236085,
          0.8696353166986565,
          0.8717850287907869,
          0.8738579654510557,
          0.86978886756238,
          0.8727831094049904,
          0.874088291746641,
          0.8716314779270633,
          0.8754702495201535,
          0.8747792706333973,
          0.8712476007677543,
          0.8688675623800384,
          0.8739347408829174,
          0.8665642994241842,
          0.8707101727447217,
          0.8700959692898272,
          0.8770057581573897,
          0.8737811900191939,
          0.8700959692898272,
          0.8668714011516315,
          0.8727063339731286,
          0.8741650671785028,
          0.8750095969289827,
          0.8750095969289827,
          0.8735508637236085,
          0.8733205374280231,
          0.8717850287907869,
          0.8763147792706334,
          0.8732437619961613,
          0.8723224568138196,
          0.8717850287907869,
          0.8709404990403071,
          0.868253358925144,
          0.8710172744721689,
          0.8679462571976967,
          0.8740115163147792,
          0.8722456813819578,
          0.8693282149712093,
          0.872168905950096,
          0.8689443378119002,
          0.8694817658349329,
          0.8712476007677543,
          0.8695585412667947,
          0.8710940499040307,
          0.8783109404990403,
          0.8732437619961613,
          0.8763147792706334,
          0.8723224568138196,
          0.8708637236084453,
          0.8712476007677543,
          0.8711708253358925,
          0.8789251439539347,
          0.8680230326295585,
          0.8712476007677543,
          0.8704030710172744,
          0.8703262955854126,
          0.8747792706333973,
          0.8717082533589251,
          0.875700575815739,
          0.8706333973128599,
          0.8710172744721689,
          0.8753166986564299,
          0.8714779270633397,
          0.8734740882917467,
          0.8744721689059501,
          0.8714779270633397,
          0.8753166986564299,
          0.8644913627639156,
          0.8723224568138196,
          0.8685604606525912,
          0.8759309021113244,
          0.8735508637236085,
          0.8661036468330134,
          0.8693282149712093,
          0.8704030710172744,
          0.8681765834932822,
          0.8733973128598849,
          0.8737811900191939,
          0.8755470249520153,
          0.8750095969289827,
          0.8727063339731286,
          0.8720921305182342,
          0.872936660268714,
          0.8687140115163148,
          0.8715547024952015,
          0.876852207293666,
          0.8687140115163148,
          0.8748560460652591,
          0.8695585412667947,
          0.8756238003838771,
          0.8738579654510557,
          0.8707869481765835,
          0.8763147792706334,
          0.8765451055662188,
          0.8670249520153551,
          0.8743186180422264,
          0.8704030710172744,
          0.8713243761996161,
          0.8766986564299424,
          0.8703262955854126,
          0.8714011516314779,
          0.8726295585412668,
          0.8720921305182342,
          0.8718618042226488,
          0.8697120921305183,
          0.870556621880998,
          0.86978886756238,
          0.8717850287907869,
          0.8742418426103646,
          0.8710172744721689,
          0.8719385796545106,
          0.8715547024952015,
          0.8695585412667947,
          0.8720921305182342,
          0.8730902111324376,
          0.8732437619961613,
          0.8690978886756238,
          0.8761612284069098,
          0.8694049904030711,
          0.8737811900191939,
          0.8680998080614204,
          0.8719385796545106,
          0.8709404990403071,
          0.8717082533589251,
          0.8715547024952015,
          0.8722456813819578,
          0.8710940499040307,
          0.8714779270633397,
          0.8726295585412668,
          0.8700959692898272,
          0.872552783109405,
          0.8759309021113244,
          0.8722456813819578,
          0.8717082533589251,
          0.8731669865642995,
          0.8732437619961613,
          0.8714011516314779,
          0.866641074856046,
          0.8724760076775432,
          0.8700191938579654,
          0.870556621880998,
          0.8752399232245681,
          0.8704030710172744,
          0.8707869481765835,
          0.872168905950096,
          0.8687140115163148,
          0.8694049904030711,
          0.8714779270633397,
          0.8722456813819578,
          0.8765451055662188,
          0.8739347408829174,
          0.8722456813819578
         ]
        },
        {
         "mode": "lines",
         "name": "Best Value",
         "type": "scatter",
         "x": [
          0,
          1,
          2,
          3,
          4,
          5,
          6,
          7,
          8,
          9,
          10,
          11,
          12,
          13,
          14,
          15,
          16,
          17,
          18,
          19,
          20,
          21,
          22,
          23,
          24,
          25,
          26,
          27,
          28,
          29,
          30,
          31,
          32,
          33,
          34,
          35,
          36,
          37,
          38,
          39,
          40,
          41,
          42,
          43,
          44,
          45,
          46,
          47,
          48,
          49,
          50,
          51,
          52,
          53,
          54,
          55,
          56,
          57,
          58,
          59,
          60,
          61,
          62,
          63,
          64,
          65,
          66,
          67,
          68,
          69,
          70,
          71,
          72,
          73,
          74,
          75,
          76,
          77,
          78,
          79,
          80,
          81,
          82,
          83,
          84,
          85,
          86,
          87,
          88,
          89,
          90,
          91,
          92,
          93,
          94,
          95,
          96,
          97,
          98,
          99,
          100,
          101,
          102,
          103,
          104,
          105,
          106,
          107,
          108,
          109,
          110,
          111,
          112,
          113,
          114,
          115,
          116,
          117,
          118,
          119,
          120,
          121,
          122,
          123,
          124,
          125,
          126,
          127,
          128,
          129,
          130,
          131,
          132,
          133,
          134,
          135,
          136,
          137,
          138,
          139,
          140,
          141,
          142,
          143,
          144,
          145,
          146,
          147,
          148,
          149,
          150,
          151,
          152,
          153,
          154,
          155,
          156,
          157,
          158,
          159,
          160,
          161,
          162,
          163,
          164,
          165,
          166,
          167,
          168,
          169,
          170,
          171,
          172,
          173,
          174,
          175,
          176,
          177,
          178,
          179,
          180,
          181,
          182,
          183,
          184,
          185,
          186,
          187,
          188,
          189,
          190,
          191,
          192,
          193,
          194,
          195,
          196,
          197,
          198,
          199,
          200,
          201,
          202,
          203,
          204,
          205,
          206,
          207,
          208,
          209,
          210,
          211,
          212,
          213,
          214,
          215,
          216,
          217,
          218,
          219,
          220,
          221,
          222,
          223,
          224,
          225,
          226,
          227,
          228,
          229,
          230,
          231,
          232,
          233,
          234,
          235,
          236,
          237,
          238,
          239,
          240,
          241,
          242,
          243,
          244,
          245,
          246,
          247,
          248,
          249,
          250,
          251,
          252,
          253,
          254,
          255,
          256,
          257,
          258,
          259,
          260,
          261,
          262,
          263,
          264,
          265,
          266,
          267,
          268,
          269,
          270,
          271,
          272,
          273,
          274,
          275,
          276,
          277,
          278,
          279,
          280,
          281,
          282,
          283,
          284,
          285,
          286,
          287,
          288,
          289,
          290,
          291,
          292,
          293,
          294,
          295,
          296,
          297,
          298,
          299
         ],
         "y": [
          0.8716314779270633,
          0.8716314779270633,
          0.8716314779270633,
          0.8716314779270633,
          0.8741650671785028,
          0.8741650671785028,
          0.8741650671785028,
          0.8741650671785028,
          0.8747792706333973,
          0.8747792706333973,
          0.875700575815739,
          0.875700575815739,
          0.875700575815739,
          0.875700575815739,
          0.875700575815739,
          0.875700575815739,
          0.875700575815739,
          0.875700575815739,
          0.875700575815739,
          0.8757773512476008,
          0.8757773512476008,
          0.8757773512476008,
          0.8757773512476008,
          0.8757773512476008,
          0.8757773512476008,
          0.8757773512476008,
          0.8757773512476008,
          0.8757773512476008,
          0.8757773512476008,
          0.8757773512476008,
          0.8757773512476008,
          0.8757773512476008,
          0.8757773512476008,
          0.8757773512476008,
          0.8757773512476008,
          0.8757773512476008,
          0.8757773512476008,
          0.8757773512476008,
          0.8757773512476008,
          0.876468330134357,
          0.876468330134357,
          0.876468330134357,
          0.876468330134357,
          0.876468330134357,
          0.876468330134357,
          0.876468330134357,
          0.876468330134357,
          0.876468330134357,
          0.876468330134357,
          0.876468330134357,
          0.876468330134357,
          0.876468330134357,
          0.876468330134357,
          0.876468330134357,
          0.876468330134357,
          0.876468330134357,
          0.876468330134357,
          0.876468330134357,
          0.876468330134357,
          0.876468330134357,
          0.876468330134357,
          0.876468330134357,
          0.876468330134357,
          0.876468330134357,
          0.876468330134357,
          0.876468330134357,
          0.876468330134357,
          0.876468330134357,
          0.876468330134357,
          0.876468330134357,
          0.876468330134357,
          0.876468330134357,
          0.876468330134357,
          0.876468330134357,
          0.8770057581573897,
          0.8770057581573897,
          0.8770057581573897,
          0.8770057581573897,
          0.8770057581573897,
          0.8770057581573897,
          0.8775431861804223,
          0.8775431861804223,
          0.8775431861804223,
          0.8775431861804223,
          0.8775431861804223,
          0.8775431861804223,
          0.8775431861804223,
          0.8775431861804223,
          0.8775431861804223,
          0.8775431861804223,
          0.8775431861804223,
          0.8775431861804223,
          0.8775431861804223,
          0.8775431861804223,
          0.8775431861804223,
          0.8775431861804223,
          0.8775431861804223,
          0.8775431861804223,
          0.8775431861804223,
          0.8775431861804223,
          0.8775431861804223,
          0.8775431861804223,
          0.8775431861804223,
          0.8775431861804223,
          0.8775431861804223,
          0.8775431861804223,
          0.8775431861804223,
          0.8775431861804223,
          0.8775431861804223,
          0.8775431861804223,
          0.8775431861804223,
          0.8775431861804223,
          0.8775431861804223,
          0.8775431861804223,
          0.8775431861804223,
          0.8775431861804223,
          0.8775431861804223,
          0.8775431861804223,
          0.8775431861804223,
          0.8775431861804223,
          0.8775431861804223,
          0.8775431861804223,
          0.8775431861804223,
          0.8775431861804223,
          0.8775431861804223,
          0.8775431861804223,
          0.8775431861804223,
          0.8775431861804223,
          0.8775431861804223,
          0.8775431861804223,
          0.8775431861804223,
          0.8775431861804223,
          0.8775431861804223,
          0.8775431861804223,
          0.8775431861804223,
          0.8775431861804223,
          0.8775431861804223,
          0.8775431861804223,
          0.8775431861804223,
          0.8775431861804223,
          0.8775431861804223,
          0.8775431861804223,
          0.8775431861804223,
          0.8775431861804223,
          0.8775431861804223,
          0.8775431861804223,
          0.8775431861804223,
          0.8775431861804223,
          0.8775431861804223,
          0.8775431861804223,
          0.8775431861804223,
          0.8775431861804223,
          0.8775431861804223,
          0.8775431861804223,
          0.8775431861804223,
          0.8775431861804223,
          0.8775431861804223,
          0.8775431861804223,
          0.8775431861804223,
          0.8775431861804223,
          0.8775431861804223,
          0.8775431861804223,
          0.8775431861804223,
          0.8775431861804223,
          0.8775431861804223,
          0.8775431861804223,
          0.8775431861804223,
          0.8775431861804223,
          0.8775431861804223,
          0.8775431861804223,
          0.8775431861804223,
          0.8775431861804223,
          0.8775431861804223,
          0.8775431861804223,
          0.8775431861804223,
          0.8775431861804223,
          0.8775431861804223,
          0.8775431861804223,
          0.8775431861804223,
          0.8775431861804223,
          0.8775431861804223,
          0.8775431861804223,
          0.8775431861804223,
          0.8775431861804223,
          0.8775431861804223,
          0.8775431861804223,
          0.8775431861804223,
          0.8775431861804223,
          0.8775431861804223,
          0.8775431861804223,
          0.8775431861804223,
          0.8775431861804223,
          0.8783109404990403,
          0.8783109404990403,
          0.8783109404990403,
          0.8783109404990403,
          0.8783109404990403,
          0.8783109404990403,
          0.8783109404990403,
          0.8789251439539347,
          0.8789251439539347,
          0.8789251439539347,
          0.8789251439539347,
          0.8789251439539347,
          0.8789251439539347,
          0.8789251439539347,
          0.8789251439539347,
          0.8789251439539347,
          0.8789251439539347,
          0.8789251439539347,
          0.8789251439539347,
          0.8789251439539347,
          0.8789251439539347,
          0.8789251439539347,
          0.8789251439539347,
          0.8789251439539347,
          0.8789251439539347,
          0.8789251439539347,
          0.8789251439539347,
          0.8789251439539347,
          0.8789251439539347,
          0.8789251439539347,
          0.8789251439539347,
          0.8789251439539347,
          0.8789251439539347,
          0.8789251439539347,
          0.8789251439539347,
          0.8789251439539347,
          0.8789251439539347,
          0.8789251439539347,
          0.8789251439539347,
          0.8789251439539347,
          0.8789251439539347,
          0.8789251439539347,
          0.8789251439539347,
          0.8789251439539347,
          0.8789251439539347,
          0.8789251439539347,
          0.8789251439539347,
          0.8789251439539347,
          0.8789251439539347,
          0.8789251439539347,
          0.8789251439539347,
          0.8789251439539347,
          0.8789251439539347,
          0.8789251439539347,
          0.8789251439539347,
          0.8789251439539347,
          0.8789251439539347,
          0.8789251439539347,
          0.8789251439539347,
          0.8789251439539347,
          0.8789251439539347,
          0.8789251439539347,
          0.8789251439539347,
          0.8789251439539347,
          0.8789251439539347,
          0.8789251439539347,
          0.8789251439539347,
          0.8789251439539347,
          0.8789251439539347,
          0.8789251439539347,
          0.8789251439539347,
          0.8789251439539347,
          0.8789251439539347,
          0.8789251439539347,
          0.8789251439539347,
          0.8789251439539347,
          0.8789251439539347,
          0.8789251439539347,
          0.8789251439539347,
          0.8789251439539347,
          0.8789251439539347,
          0.8789251439539347,
          0.8789251439539347,
          0.8789251439539347,
          0.8789251439539347,
          0.8789251439539347,
          0.8789251439539347,
          0.8789251439539347,
          0.8789251439539347,
          0.8789251439539347,
          0.8789251439539347,
          0.8789251439539347,
          0.8789251439539347,
          0.8789251439539347,
          0.8789251439539347,
          0.8789251439539347,
          0.8789251439539347,
          0.8789251439539347,
          0.8789251439539347,
          0.8789251439539347,
          0.8789251439539347,
          0.8789251439539347,
          0.8789251439539347,
          0.8789251439539347,
          0.8789251439539347,
          0.8789251439539347,
          0.8789251439539347,
          0.8789251439539347
         ]
        },
        {
         "marker": {
          "color": "#cccccc"
         },
         "mode": "markers",
         "name": "Infeasible Trial",
         "showlegend": false,
         "type": "scatter",
         "x": [],
         "y": []
        }
       ],
       "layout": {
        "autosize": true,
        "template": {
         "data": {
          "bar": [
           {
            "error_x": {
             "color": "#2a3f5f"
            },
            "error_y": {
             "color": "#2a3f5f"
            },
            "marker": {
             "line": {
              "color": "#E5ECF6",
              "width": 0.5
             },
             "pattern": {
              "fillmode": "overlay",
              "size": 10,
              "solidity": 0.2
             }
            },
            "type": "bar"
           }
          ],
          "barpolar": [
           {
            "marker": {
             "line": {
              "color": "#E5ECF6",
              "width": 0.5
             },
             "pattern": {
              "fillmode": "overlay",
              "size": 10,
              "solidity": 0.2
             }
            },
            "type": "barpolar"
           }
          ],
          "carpet": [
           {
            "aaxis": {
             "endlinecolor": "#2a3f5f",
             "gridcolor": "white",
             "linecolor": "white",
             "minorgridcolor": "white",
             "startlinecolor": "#2a3f5f"
            },
            "baxis": {
             "endlinecolor": "#2a3f5f",
             "gridcolor": "white",
             "linecolor": "white",
             "minorgridcolor": "white",
             "startlinecolor": "#2a3f5f"
            },
            "type": "carpet"
           }
          ],
          "choropleth": [
           {
            "colorbar": {
             "outlinewidth": 0,
             "ticks": ""
            },
            "type": "choropleth"
           }
          ],
          "contour": [
           {
            "colorbar": {
             "outlinewidth": 0,
             "ticks": ""
            },
            "colorscale": [
             [
              0,
              "#0d0887"
             ],
             [
              0.1111111111111111,
              "#46039f"
             ],
             [
              0.2222222222222222,
              "#7201a8"
             ],
             [
              0.3333333333333333,
              "#9c179e"
             ],
             [
              0.4444444444444444,
              "#bd3786"
             ],
             [
              0.5555555555555556,
              "#d8576b"
             ],
             [
              0.6666666666666666,
              "#ed7953"
             ],
             [
              0.7777777777777778,
              "#fb9f3a"
             ],
             [
              0.8888888888888888,
              "#fdca26"
             ],
             [
              1,
              "#f0f921"
             ]
            ],
            "type": "contour"
           }
          ],
          "contourcarpet": [
           {
            "colorbar": {
             "outlinewidth": 0,
             "ticks": ""
            },
            "type": "contourcarpet"
           }
          ],
          "heatmap": [
           {
            "colorbar": {
             "outlinewidth": 0,
             "ticks": ""
            },
            "colorscale": [
             [
              0,
              "#0d0887"
             ],
             [
              0.1111111111111111,
              "#46039f"
             ],
             [
              0.2222222222222222,
              "#7201a8"
             ],
             [
              0.3333333333333333,
              "#9c179e"
             ],
             [
              0.4444444444444444,
              "#bd3786"
             ],
             [
              0.5555555555555556,
              "#d8576b"
             ],
             [
              0.6666666666666666,
              "#ed7953"
             ],
             [
              0.7777777777777778,
              "#fb9f3a"
             ],
             [
              0.8888888888888888,
              "#fdca26"
             ],
             [
              1,
              "#f0f921"
             ]
            ],
            "type": "heatmap"
           }
          ],
          "heatmapgl": [
           {
            "colorbar": {
             "outlinewidth": 0,
             "ticks": ""
            },
            "colorscale": [
             [
              0,
              "#0d0887"
             ],
             [
              0.1111111111111111,
              "#46039f"
             ],
             [
              0.2222222222222222,
              "#7201a8"
             ],
             [
              0.3333333333333333,
              "#9c179e"
             ],
             [
              0.4444444444444444,
              "#bd3786"
             ],
             [
              0.5555555555555556,
              "#d8576b"
             ],
             [
              0.6666666666666666,
              "#ed7953"
             ],
             [
              0.7777777777777778,
              "#fb9f3a"
             ],
             [
              0.8888888888888888,
              "#fdca26"
             ],
             [
              1,
              "#f0f921"
             ]
            ],
            "type": "heatmapgl"
           }
          ],
          "histogram": [
           {
            "marker": {
             "pattern": {
              "fillmode": "overlay",
              "size": 10,
              "solidity": 0.2
             }
            },
            "type": "histogram"
           }
          ],
          "histogram2d": [
           {
            "colorbar": {
             "outlinewidth": 0,
             "ticks": ""
            },
            "colorscale": [
             [
              0,
              "#0d0887"
             ],
             [
              0.1111111111111111,
              "#46039f"
             ],
             [
              0.2222222222222222,
              "#7201a8"
             ],
             [
              0.3333333333333333,
              "#9c179e"
             ],
             [
              0.4444444444444444,
              "#bd3786"
             ],
             [
              0.5555555555555556,
              "#d8576b"
             ],
             [
              0.6666666666666666,
              "#ed7953"
             ],
             [
              0.7777777777777778,
              "#fb9f3a"
             ],
             [
              0.8888888888888888,
              "#fdca26"
             ],
             [
              1,
              "#f0f921"
             ]
            ],
            "type": "histogram2d"
           }
          ],
          "histogram2dcontour": [
           {
            "colorbar": {
             "outlinewidth": 0,
             "ticks": ""
            },
            "colorscale": [
             [
              0,
              "#0d0887"
             ],
             [
              0.1111111111111111,
              "#46039f"
             ],
             [
              0.2222222222222222,
              "#7201a8"
             ],
             [
              0.3333333333333333,
              "#9c179e"
             ],
             [
              0.4444444444444444,
              "#bd3786"
             ],
             [
              0.5555555555555556,
              "#d8576b"
             ],
             [
              0.6666666666666666,
              "#ed7953"
             ],
             [
              0.7777777777777778,
              "#fb9f3a"
             ],
             [
              0.8888888888888888,
              "#fdca26"
             ],
             [
              1,
              "#f0f921"
             ]
            ],
            "type": "histogram2dcontour"
           }
          ],
          "mesh3d": [
           {
            "colorbar": {
             "outlinewidth": 0,
             "ticks": ""
            },
            "type": "mesh3d"
           }
          ],
          "parcoords": [
           {
            "line": {
             "colorbar": {
              "outlinewidth": 0,
              "ticks": ""
             }
            },
            "type": "parcoords"
           }
          ],
          "pie": [
           {
            "automargin": true,
            "type": "pie"
           }
          ],
          "scatter": [
           {
            "fillpattern": {
             "fillmode": "overlay",
             "size": 10,
             "solidity": 0.2
            },
            "type": "scatter"
           }
          ],
          "scatter3d": [
           {
            "line": {
             "colorbar": {
              "outlinewidth": 0,
              "ticks": ""
             }
            },
            "marker": {
             "colorbar": {
              "outlinewidth": 0,
              "ticks": ""
             }
            },
            "type": "scatter3d"
           }
          ],
          "scattercarpet": [
           {
            "marker": {
             "colorbar": {
              "outlinewidth": 0,
              "ticks": ""
             }
            },
            "type": "scattercarpet"
           }
          ],
          "scattergeo": [
           {
            "marker": {
             "colorbar": {
              "outlinewidth": 0,
              "ticks": ""
             }
            },
            "type": "scattergeo"
           }
          ],
          "scattergl": [
           {
            "marker": {
             "colorbar": {
              "outlinewidth": 0,
              "ticks": ""
             }
            },
            "type": "scattergl"
           }
          ],
          "scattermapbox": [
           {
            "marker": {
             "colorbar": {
              "outlinewidth": 0,
              "ticks": ""
             }
            },
            "type": "scattermapbox"
           }
          ],
          "scatterpolar": [
           {
            "marker": {
             "colorbar": {
              "outlinewidth": 0,
              "ticks": ""
             }
            },
            "type": "scatterpolar"
           }
          ],
          "scatterpolargl": [
           {
            "marker": {
             "colorbar": {
              "outlinewidth": 0,
              "ticks": ""
             }
            },
            "type": "scatterpolargl"
           }
          ],
          "scatterternary": [
           {
            "marker": {
             "colorbar": {
              "outlinewidth": 0,
              "ticks": ""
             }
            },
            "type": "scatterternary"
           }
          ],
          "surface": [
           {
            "colorbar": {
             "outlinewidth": 0,
             "ticks": ""
            },
            "colorscale": [
             [
              0,
              "#0d0887"
             ],
             [
              0.1111111111111111,
              "#46039f"
             ],
             [
              0.2222222222222222,
              "#7201a8"
             ],
             [
              0.3333333333333333,
              "#9c179e"
             ],
             [
              0.4444444444444444,
              "#bd3786"
             ],
             [
              0.5555555555555556,
              "#d8576b"
             ],
             [
              0.6666666666666666,
              "#ed7953"
             ],
             [
              0.7777777777777778,
              "#fb9f3a"
             ],
             [
              0.8888888888888888,
              "#fdca26"
             ],
             [
              1,
              "#f0f921"
             ]
            ],
            "type": "surface"
           }
          ],
          "table": [
           {
            "cells": {
             "fill": {
              "color": "#EBF0F8"
             },
             "line": {
              "color": "white"
             }
            },
            "header": {
             "fill": {
              "color": "#C8D4E3"
             },
             "line": {
              "color": "white"
             }
            },
            "type": "table"
           }
          ]
         },
         "layout": {
          "annotationdefaults": {
           "arrowcolor": "#2a3f5f",
           "arrowhead": 0,
           "arrowwidth": 1
          },
          "autotypenumbers": "strict",
          "coloraxis": {
           "colorbar": {
            "outlinewidth": 0,
            "ticks": ""
           }
          },
          "colorscale": {
           "diverging": [
            [
             0,
             "#8e0152"
            ],
            [
             0.1,
             "#c51b7d"
            ],
            [
             0.2,
             "#de77ae"
            ],
            [
             0.3,
             "#f1b6da"
            ],
            [
             0.4,
             "#fde0ef"
            ],
            [
             0.5,
             "#f7f7f7"
            ],
            [
             0.6,
             "#e6f5d0"
            ],
            [
             0.7,
             "#b8e186"
            ],
            [
             0.8,
             "#7fbc41"
            ],
            [
             0.9,
             "#4d9221"
            ],
            [
             1,
             "#276419"
            ]
           ],
           "sequential": [
            [
             0,
             "#0d0887"
            ],
            [
             0.1111111111111111,
             "#46039f"
            ],
            [
             0.2222222222222222,
             "#7201a8"
            ],
            [
             0.3333333333333333,
             "#9c179e"
            ],
            [
             0.4444444444444444,
             "#bd3786"
            ],
            [
             0.5555555555555556,
             "#d8576b"
            ],
            [
             0.6666666666666666,
             "#ed7953"
            ],
            [
             0.7777777777777778,
             "#fb9f3a"
            ],
            [
             0.8888888888888888,
             "#fdca26"
            ],
            [
             1,
             "#f0f921"
            ]
           ],
           "sequentialminus": [
            [
             0,
             "#0d0887"
            ],
            [
             0.1111111111111111,
             "#46039f"
            ],
            [
             0.2222222222222222,
             "#7201a8"
            ],
            [
             0.3333333333333333,
             "#9c179e"
            ],
            [
             0.4444444444444444,
             "#bd3786"
            ],
            [
             0.5555555555555556,
             "#d8576b"
            ],
            [
             0.6666666666666666,
             "#ed7953"
            ],
            [
             0.7777777777777778,
             "#fb9f3a"
            ],
            [
             0.8888888888888888,
             "#fdca26"
            ],
            [
             1,
             "#f0f921"
            ]
           ]
          },
          "colorway": [
           "#636efa",
           "#EF553B",
           "#00cc96",
           "#ab63fa",
           "#FFA15A",
           "#19d3f3",
           "#FF6692",
           "#B6E880",
           "#FF97FF",
           "#FECB52"
          ],
          "font": {
           "color": "#2a3f5f"
          },
          "geo": {
           "bgcolor": "white",
           "lakecolor": "white",
           "landcolor": "#E5ECF6",
           "showlakes": true,
           "showland": true,
           "subunitcolor": "white"
          },
          "hoverlabel": {
           "align": "left"
          },
          "hovermode": "closest",
          "mapbox": {
           "style": "light"
          },
          "paper_bgcolor": "white",
          "plot_bgcolor": "#E5ECF6",
          "polar": {
           "angularaxis": {
            "gridcolor": "white",
            "linecolor": "white",
            "ticks": ""
           },
           "bgcolor": "#E5ECF6",
           "radialaxis": {
            "gridcolor": "white",
            "linecolor": "white",
            "ticks": ""
           }
          },
          "scene": {
           "xaxis": {
            "backgroundcolor": "#E5ECF6",
            "gridcolor": "white",
            "gridwidth": 2,
            "linecolor": "white",
            "showbackground": true,
            "ticks": "",
            "zerolinecolor": "white"
           },
           "yaxis": {
            "backgroundcolor": "#E5ECF6",
            "gridcolor": "white",
            "gridwidth": 2,
            "linecolor": "white",
            "showbackground": true,
            "ticks": "",
            "zerolinecolor": "white"
           },
           "zaxis": {
            "backgroundcolor": "#E5ECF6",
            "gridcolor": "white",
            "gridwidth": 2,
            "linecolor": "white",
            "showbackground": true,
            "ticks": "",
            "zerolinecolor": "white"
           }
          },
          "shapedefaults": {
           "line": {
            "color": "#2a3f5f"
           }
          },
          "ternary": {
           "aaxis": {
            "gridcolor": "white",
            "linecolor": "white",
            "ticks": ""
           },
           "baxis": {
            "gridcolor": "white",
            "linecolor": "white",
            "ticks": ""
           },
           "bgcolor": "#E5ECF6",
           "caxis": {
            "gridcolor": "white",
            "linecolor": "white",
            "ticks": ""
           }
          },
          "title": {
           "x": 0.05
          },
          "xaxis": {
           "automargin": true,
           "gridcolor": "white",
           "linecolor": "white",
           "ticks": "",
           "title": {
            "standoff": 15
           },
           "zerolinecolor": "white",
           "zerolinewidth": 2
          },
          "yaxis": {
           "automargin": true,
           "gridcolor": "white",
           "linecolor": "white",
           "ticks": "",
           "title": {
            "standoff": 15
           },
           "zerolinecolor": "white",
           "zerolinewidth": 2
          }
         }
        },
        "title": {
         "text": "Optimization History Plot"
        },
        "xaxis": {
         "autorange": true,
         "range": [
          -18.246062992125985,
          317.246062992126
         ],
         "title": {
          "text": "Trial"
         },
         "type": "linear"
        },
        "yaxis": {
         "autorange": true,
         "range": [
          0.8586459944468255,
          0.8804710880867637
         ],
         "title": {
          "text": "Objective Value"
         },
         "type": "linear"
        }
       }
      },
      "image/png": "[encoded data removed]",
      "text/html": [
       "<div>                            <div id=\"9627ea76-de17-40ab-8416-18fef9c17b55\" class=\"plotly-graph-div\" style=\"height:525px; width:100%;\"></div>            <script type=\"text/javascript\">                require([\"plotly\"], function(Plotly) {                    window.PLOTLYENV=window.PLOTLYENV || {};                                    if (document.getElementById(\"9627ea76-de17-40ab-8416-18fef9c17b55\")) {                    Plotly.newPlot(                        \"9627ea76-de17-40ab-8416-18fef9c17b55\",                        [{\"mode\":\"markers\",\"name\":\"Objective Value\",\"x\":[0,1,2,3,4,5,6,7,8,9,10,11,12,13,14,15,16,17,18,19,20,21,22,23,24,25,26,27,28,29,30,31,32,33,34,35,36,37,38,39,40,41,42,43,44,45,46,47,48,49,50,51,52,53,54,55,56,57,58,59,60,61,62,63,64,65,66,67,68,69,70,71,72,73,74,75,76,77,78,79,80,81,82,83,84,85,86,87,88,89,90,91,92,93,94,95,96,97,98,99,100,101,102,103,104,105,106,107,108,109,110,111,112,113,114,115,116,117,118,119,120,121,122,123,124,125,126,127,128,129,130,131,132,133,134,135,136,137,138,139,140,141,142,143,144,145,146,147,148,149,150,151,152,153,154,155,156,157,158,159,160,161,162,163,164,165,166,167,168,169,170,171,172,173,174,175,176,177,178,179,180,181,182,183,184,185,186,187,188,189,190,191,192,193,194,195,196,197,198,199,200,201,202,203,204,205,206,207,208,209,210,211,212,213,214,215,216,217,218,219,220,221,222,223,224,225,226,227,228,229,230,231,232,233,234,235,236,237,238,239,240,241,242,243,244,245,246,247,248,249,250,251,252,253,254,255,256,257,258,259,260,261,262,263,264,265,266,267,268,269,270,271,272,273,274,275,276,277,278,279,280,281,282,283,284,285,286,287,288,289,290,291,292,293,294,295,296,297,298,299],\"y\":[0.8716314779270633,0.870172744721689,0.8702495201535508,0.8697120921305183,0.8741650671785028,0.8713243761996161,0.8642610364683301,0.8730134357005758,0.8747792706333973,0.8601919385796545,0.875700575815739,0.8743953934740883,0.8712476007677543,0.8752399232245681,0.8722456813819578,0.868637236084453,0.8692514395393474,0.8723224568138196,0.8696353166986565,0.8757773512476008,0.8720153550863724,0.8737811900191939,0.872936660268714,0.8751631477927063,0.8750863723608445,0.8700959692898272,0.8746257197696737,0.8727831094049904,0.868637236084453,0.8734740882917467,0.8697120921305183,0.8697120921305183,0.8739347408829174,0.8709404990403071,0.8687140115163148,0.8720921305182342,0.872552783109405,0.86978886756238,0.8684836852207294,0.876468330134357,0.8741650671785028,0.872936660268714,0.8763147792706334,0.8732437619961613,0.8738579654510557,0.8753166986564299,0.8661804222648752,0.874088291746641,0.8703262955854126,0.8754702495201535,0.8691746641074856,0.8758541266794626,0.8759309021113244,0.8706333973128599,0.8691746641074856,0.8688675623800384,0.8733973128598849,0.8714011516314779,0.8720153550863724,0.8730134357005758,0.8696353166986565,0.8716314779270633,0.8704030710172744,0.8692514395393474,0.8738579654510557,0.8734740882917467,0.870556621880998,0.8679462571976967,0.8735508637236085,0.874088291746641,0.8713243761996161,0.8710172744721689,0.8712476007677543,0.8736276391554703,0.8770057581573897,0.8700959692898272,0.8749328214971209,0.8740115163147792,0.8724760076775432,0.8684836852207294,0.8775431861804223,0.8727831094049904,0.8726295585412668,0.8703262955854126,0.8724760076775432,0.8727831094049904,0.8683301343570058,0.8743186180422264,0.8713243761996161,0.8735508637236085,0.8703262955854126,0.8723224568138196,0.8685604606525912,0.8730902111324376,0.8728598848368522,0.876852207293666,0.8751631477927063,0.8727063339731286,0.8737044145873321,0.872552783109405,0.8704030710172744,0.870172744721689,0.870172744721689,0.8717850287907869,0.8733205374280231,0.8757773512476008,0.8696353166986565,0.8704030710172744,0.8691746641074856,0.8689443378119002,0.8706333973128599,0.8712476007677543,0.8753934740882917,0.8680998080614204,0.874088291746641,0.8747024952015355,0.8727063339731286,0.8714779270633397,0.8741650671785028,0.8702495201535508,0.870172744721689,0.8735508637236085,0.8763915547024952,0.8722456813819578,0.8754702495201535,0.8674856046065259,0.8713243761996161,0.8714779270633397,0.872552783109405,0.8657965451055663,0.8747792706333973,0.8711708253358925,0.8747792706333973,0.874088291746641,0.8737044145873321,0.8704798464491362,0.8677927063339731,0.8724760076775432,0.8680998080614204,0.8697120921305183,0.8719385796545106,0.8754702495201535,0.870556621880998,0.8663339731285988,0.8719385796545106,0.8708637236084453,0.8700191938579654,0.8720921305182342,0.8735508637236085,0.8696353166986565,0.8717850287907869,0.8738579654510557,0.86978886756238,0.8727831094049904,0.874088291746641,0.8716314779270633,0.8754702495201535,0.8747792706333973,0.8712476007677543,0.8688675623800384,0.8739347408829174,0.8665642994241842,0.8707101727447217,0.8700959692898272,0.8770057581573897,0.8737811900191939,0.8700959692898272,0.8668714011516315,0.8727063339731286,0.8741650671785028,0.8750095969289827,0.8750095969289827,0.8735508637236085,0.8733205374280231,0.8717850287907869,0.8763147792706334,0.8732437619961613,0.8723224568138196,0.8717850287907869,0.8709404990403071,0.868253358925144,0.8710172744721689,0.8679462571976967,0.8740115163147792,0.8722456813819578,0.8693282149712093,0.872168905950096,0.8689443378119002,0.8694817658349329,0.8712476007677543,0.8695585412667947,0.8710940499040307,0.8783109404990403,0.8732437619961613,0.8763147792706334,0.8723224568138196,0.8708637236084453,0.8712476007677543,0.8711708253358925,0.8789251439539347,0.8680230326295585,0.8712476007677543,0.8704030710172744,0.8703262955854126,0.8747792706333973,0.8717082533589251,0.875700575815739,0.8706333973128599,0.8710172744721689,0.8753166986564299,0.8714779270633397,0.8734740882917467,0.8744721689059501,0.8714779270633397,0.8753166986564299,0.8644913627639156,0.8723224568138196,0.8685604606525912,0.8759309021113244,0.8735508637236085,0.8661036468330134,0.8693282149712093,0.8704030710172744,0.8681765834932822,0.8733973128598849,0.8737811900191939,0.8755470249520153,0.8750095969289827,0.8727063339731286,0.8720921305182342,0.872936660268714,0.8687140115163148,0.8715547024952015,0.876852207293666,0.8687140115163148,0.8748560460652591,0.8695585412667947,0.8756238003838771,0.8738579654510557,0.8707869481765835,0.8763147792706334,0.8765451055662188,0.8670249520153551,0.8743186180422264,0.8704030710172744,0.8713243761996161,0.8766986564299424,0.8703262955854126,0.8714011516314779,0.8726295585412668,0.8720921305182342,0.8718618042226488,0.8697120921305183,0.870556621880998,0.86978886756238,0.8717850287907869,0.8742418426103646,0.8710172744721689,0.8719385796545106,0.8715547024952015,0.8695585412667947,0.8720921305182342,0.8730902111324376,0.8732437619961613,0.8690978886756238,0.8761612284069098,0.8694049904030711,0.8737811900191939,0.8680998080614204,0.8719385796545106,0.8709404990403071,0.8717082533589251,0.8715547024952015,0.8722456813819578,0.8710940499040307,0.8714779270633397,0.8726295585412668,0.8700959692898272,0.872552783109405,0.8759309021113244,0.8722456813819578,0.8717082533589251,0.8731669865642995,0.8732437619961613,0.8714011516314779,0.866641074856046,0.8724760076775432,0.8700191938579654,0.870556621880998,0.8752399232245681,0.8704030710172744,0.8707869481765835,0.872168905950096,0.8687140115163148,0.8694049904030711,0.8714779270633397,0.8722456813819578,0.8765451055662188,0.8739347408829174,0.8722456813819578],\"type\":\"scatter\"},{\"mode\":\"lines\",\"name\":\"Best Value\",\"x\":[0,1,2,3,4,5,6,7,8,9,10,11,12,13,14,15,16,17,18,19,20,21,22,23,24,25,26,27,28,29,30,31,32,33,34,35,36,37,38,39,40,41,42,43,44,45,46,47,48,49,50,51,52,53,54,55,56,57,58,59,60,61,62,63,64,65,66,67,68,69,70,71,72,73,74,75,76,77,78,79,80,81,82,83,84,85,86,87,88,89,90,91,92,93,94,95,96,97,98,99,100,101,102,103,104,105,106,107,108,109,110,111,112,113,114,115,116,117,118,119,120,121,122,123,124,125,126,127,128,129,130,131,132,133,134,135,136,137,138,139,140,141,142,143,144,145,146,147,148,149,150,151,152,153,154,155,156,157,158,159,160,161,162,163,164,165,166,167,168,169,170,171,172,173,174,175,176,177,178,179,180,181,182,183,184,185,186,187,188,189,190,191,192,193,194,195,196,197,198,199,200,201,202,203,204,205,206,207,208,209,210,211,212,213,214,215,216,217,218,219,220,221,222,223,224,225,226,227,228,229,230,231,232,233,234,235,236,237,238,239,240,241,242,243,244,245,246,247,248,249,250,251,252,253,254,255,256,257,258,259,260,261,262,263,264,265,266,267,268,269,270,271,272,273,274,275,276,277,278,279,280,281,282,283,284,285,286,287,288,289,290,291,292,293,294,295,296,297,298,299],\"y\":[0.8716314779270633,0.8716314779270633,0.8716314779270633,0.8716314779270633,0.8741650671785028,0.8741650671785028,0.8741650671785028,0.8741650671785028,0.8747792706333973,0.8747792706333973,0.875700575815739,0.875700575815739,0.875700575815739,0.875700575815739,0.875700575815739,0.875700575815739,0.875700575815739,0.875700575815739,0.875700575815739,0.8757773512476008,0.8757773512476008,0.8757773512476008,0.8757773512476008,0.8757773512476008,0.8757773512476008,0.8757773512476008,0.8757773512476008,0.8757773512476008,0.8757773512476008,0.8757773512476008,0.8757773512476008,0.8757773512476008,0.8757773512476008,0.8757773512476008,0.8757773512476008,0.8757773512476008,0.8757773512476008,0.8757773512476008,0.8757773512476008,0.876468330134357,0.876468330134357,0.876468330134357,0.876468330134357,0.876468330134357,0.876468330134357,0.876468330134357,0.876468330134357,0.876468330134357,0.876468330134357,0.876468330134357,0.876468330134357,0.876468330134357,0.876468330134357,0.876468330134357,0.876468330134357,0.876468330134357,0.876468330134357,0.876468330134357,0.876468330134357,0.876468330134357,0.876468330134357,0.876468330134357,0.876468330134357,0.876468330134357,0.876468330134357,0.876468330134357,0.876468330134357,0.876468330134357,0.876468330134357,0.876468330134357,0.876468330134357,0.876468330134357,0.876468330134357,0.876468330134357,0.8770057581573897,0.8770057581573897,0.8770057581573897,0.8770057581573897,0.8770057581573897,0.8770057581573897,0.8775431861804223,0.8775431861804223,0.8775431861804223,0.8775431861804223,0.8775431861804223,0.8775431861804223,0.8775431861804223,0.8775431861804223,0.8775431861804223,0.8775431861804223,0.8775431861804223,0.8775431861804223,0.8775431861804223,0.8775431861804223,0.8775431861804223,0.8775431861804223,0.8775431861804223,0.8775431861804223,0.8775431861804223,0.8775431861804223,0.8775431861804223,0.8775431861804223,0.8775431861804223,0.8775431861804223,0.8775431861804223,0.8775431861804223,0.8775431861804223,0.8775431861804223,0.8775431861804223,0.8775431861804223,0.8775431861804223,0.8775431861804223,0.8775431861804223,0.8775431861804223,0.8775431861804223,0.8775431861804223,0.8775431861804223,0.8775431861804223,0.8775431861804223,0.8775431861804223,0.8775431861804223,0.8775431861804223,0.8775431861804223,0.8775431861804223,0.8775431861804223,0.8775431861804223,0.8775431861804223,0.8775431861804223,0.8775431861804223,0.8775431861804223,0.8775431861804223,0.8775431861804223,0.8775431861804223,0.8775431861804223,0.8775431861804223,0.8775431861804223,0.8775431861804223,0.8775431861804223,0.8775431861804223,0.8775431861804223,0.8775431861804223,0.8775431861804223,0.8775431861804223,0.8775431861804223,0.8775431861804223,0.8775431861804223,0.8775431861804223,0.8775431861804223,0.8775431861804223,0.8775431861804223,0.8775431861804223,0.8775431861804223,0.8775431861804223,0.8775431861804223,0.8775431861804223,0.8775431861804223,0.8775431861804223,0.8775431861804223,0.8775431861804223,0.8775431861804223,0.8775431861804223,0.8775431861804223,0.8775431861804223,0.8775431861804223,0.8775431861804223,0.8775431861804223,0.8775431861804223,0.8775431861804223,0.8775431861804223,0.8775431861804223,0.8775431861804223,0.8775431861804223,0.8775431861804223,0.8775431861804223,0.8775431861804223,0.8775431861804223,0.8775431861804223,0.8775431861804223,0.8775431861804223,0.8775431861804223,0.8775431861804223,0.8775431861804223,0.8775431861804223,0.8775431861804223,0.8775431861804223,0.8775431861804223,0.8775431861804223,0.8775431861804223,0.8775431861804223,0.8775431861804223,0.8775431861804223,0.8775431861804223,0.8783109404990403,0.8783109404990403,0.8783109404990403,0.8783109404990403,0.8783109404990403,0.8783109404990403,0.8783109404990403,0.8789251439539347,0.8789251439539347,0.8789251439539347,0.8789251439539347,0.8789251439539347,0.8789251439539347,0.8789251439539347,0.8789251439539347,0.8789251439539347,0.8789251439539347,0.8789251439539347,0.8789251439539347,0.8789251439539347,0.8789251439539347,0.8789251439539347,0.8789251439539347,0.8789251439539347,0.8789251439539347,0.8789251439539347,0.8789251439539347,0.8789251439539347,0.8789251439539347,0.8789251439539347,0.8789251439539347,0.8789251439539347,0.8789251439539347,0.8789251439539347,0.8789251439539347,0.8789251439539347,0.8789251439539347,0.8789251439539347,0.8789251439539347,0.8789251439539347,0.8789251439539347,0.8789251439539347,0.8789251439539347,0.8789251439539347,0.8789251439539347,0.8789251439539347,0.8789251439539347,0.8789251439539347,0.8789251439539347,0.8789251439539347,0.8789251439539347,0.8789251439539347,0.8789251439539347,0.8789251439539347,0.8789251439539347,0.8789251439539347,0.8789251439539347,0.8789251439539347,0.8789251439539347,0.8789251439539347,0.8789251439539347,0.8789251439539347,0.8789251439539347,0.8789251439539347,0.8789251439539347,0.8789251439539347,0.8789251439539347,0.8789251439539347,0.8789251439539347,0.8789251439539347,0.8789251439539347,0.8789251439539347,0.8789251439539347,0.8789251439539347,0.8789251439539347,0.8789251439539347,0.8789251439539347,0.8789251439539347,0.8789251439539347,0.8789251439539347,0.8789251439539347,0.8789251439539347,0.8789251439539347,0.8789251439539347,0.8789251439539347,0.8789251439539347,0.8789251439539347,0.8789251439539347,0.8789251439539347,0.8789251439539347,0.8789251439539347,0.8789251439539347,0.8789251439539347,0.8789251439539347,0.8789251439539347,0.8789251439539347,0.8789251439539347,0.8789251439539347,0.8789251439539347,0.8789251439539347,0.8789251439539347,0.8789251439539347,0.8789251439539347,0.8789251439539347,0.8789251439539347,0.8789251439539347,0.8789251439539347,0.8789251439539347],\"type\":\"scatter\"},{\"marker\":{\"color\":\"#cccccc\"},\"mode\":\"markers\",\"name\":\"Infeasible Trial\",\"showlegend\":false,\"x\":[],\"y\":[],\"type\":\"scatter\"}],                        {\"title\":{\"text\":\"Optimization History Plot\"},\"xaxis\":{\"title\":{\"text\":\"Trial\"}},\"yaxis\":{\"title\":{\"text\":\"Objective Value\"}},\"template\":{\"data\":{\"histogram2dcontour\":[{\"type\":\"histogram2dcontour\",\"colorbar\":{\"outlinewidth\":0,\"ticks\":\"\"},\"colorscale\":[[0.0,\"#0d0887\"],[0.1111111111111111,\"#46039f\"],[0.2222222222222222,\"#7201a8\"],[0.3333333333333333,\"#9c179e\"],[0.4444444444444444,\"#bd3786\"],[0.5555555555555556,\"#d8576b\"],[0.6666666666666666,\"#ed7953\"],[0.7777777777777778,\"#fb9f3a\"],[0.8888888888888888,\"#fdca26\"],[1.0,\"#f0f921\"]]}],\"choropleth\":[{\"type\":\"choropleth\",\"colorbar\":{\"outlinewidth\":0,\"ticks\":\"\"}}],\"histogram2d\":[{\"type\":\"histogram2d\",\"colorbar\":{\"outlinewidth\":0,\"ticks\":\"\"},\"colorscale\":[[0.0,\"#0d0887\"],[0.1111111111111111,\"#46039f\"],[0.2222222222222222,\"#7201a8\"],[0.3333333333333333,\"#9c179e\"],[0.4444444444444444,\"#bd3786\"],[0.5555555555555556,\"#d8576b\"],[0.6666666666666666,\"#ed7953\"],[0.7777777777777778,\"#fb9f3a\"],[0.8888888888888888,\"#fdca26\"],[1.0,\"#f0f921\"]]}],\"heatmap\":[{\"type\":\"heatmap\",\"colorbar\":{\"outlinewidth\":0,\"ticks\":\"\"},\"colorscale\":[[0.0,\"#0d0887\"],[0.1111111111111111,\"#46039f\"],[0.2222222222222222,\"#7201a8\"],[0.3333333333333333,\"#9c179e\"],[0.4444444444444444,\"#bd3786\"],[0.5555555555555556,\"#d8576b\"],[0.6666666666666666,\"#ed7953\"],[0.7777777777777778,\"#fb9f3a\"],[0.8888888888888888,\"#fdca26\"],[1.0,\"#f0f921\"]]}],\"heatmapgl\":[{\"type\":\"heatmapgl\",\"colorbar\":{\"outlinewidth\":0,\"ticks\":\"\"},\"colorscale\":[[0.0,\"#0d0887\"],[0.1111111111111111,\"#46039f\"],[0.2222222222222222,\"#7201a8\"],[0.3333333333333333,\"#9c179e\"],[0.4444444444444444,\"#bd3786\"],[0.5555555555555556,\"#d8576b\"],[0.6666666666666666,\"#ed7953\"],[0.7777777777777778,\"#fb9f3a\"],[0.8888888888888888,\"#fdca26\"],[1.0,\"#f0f921\"]]}],\"contourcarpet\":[{\"type\":\"contourcarpet\",\"colorbar\":{\"outlinewidth\":0,\"ticks\":\"\"}}],\"contour\":[{\"type\":\"contour\",\"colorbar\":{\"outlinewidth\":0,\"ticks\":\"\"},\"colorscale\":[[0.0,\"#0d0887\"],[0.1111111111111111,\"#46039f\"],[0.2222222222222222,\"#7201a8\"],[0.3333333333333333,\"#9c179e\"],[0.4444444444444444,\"#bd3786\"],[0.5555555555555556,\"#d8576b\"],[0.6666666666666666,\"#ed7953\"],[0.7777777777777778,\"#fb9f3a\"],[0.8888888888888888,\"#fdca26\"],[1.0,\"#f0f921\"]]}],\"surface\":[{\"type\":\"surface\",\"colorbar\":{\"outlinewidth\":0,\"ticks\":\"\"},\"colorscale\":[[0.0,\"#0d0887\"],[0.1111111111111111,\"#46039f\"],[0.2222222222222222,\"#7201a8\"],[0.3333333333333333,\"#9c179e\"],[0.4444444444444444,\"#bd3786\"],[0.5555555555555556,\"#d8576b\"],[0.6666666666666666,\"#ed7953\"],[0.7777777777777778,\"#fb9f3a\"],[0.8888888888888888,\"#fdca26\"],[1.0,\"#f0f921\"]]}],\"mesh3d\":[{\"type\":\"mesh3d\",\"colorbar\":{\"outlinewidth\":0,\"ticks\":\"\"}}],\"scatter\":[{\"fillpattern\":{\"fillmode\":\"overlay\",\"size\":10,\"solidity\":0.2},\"type\":\"scatter\"}],\"parcoords\":[{\"type\":\"parcoords\",\"line\":{\"colorbar\":{\"outlinewidth\":0,\"ticks\":\"\"}}}],\"scatterpolargl\":[{\"type\":\"scatterpolargl\",\"marker\":{\"colorbar\":{\"outlinewidth\":0,\"ticks\":\"\"}}}],\"bar\":[{\"error_x\":{\"color\":\"#2a3f5f\"},\"error_y\":{\"color\":\"#2a3f5f\"},\"marker\":{\"line\":{\"color\":\"#E5ECF6\",\"width\":0.5},\"pattern\":{\"fillmode\":\"overlay\",\"size\":10,\"solidity\":0.2}},\"type\":\"bar\"}],\"scattergeo\":[{\"type\":\"scattergeo\",\"marker\":{\"colorbar\":{\"outlinewidth\":0,\"ticks\":\"\"}}}],\"scatterpolar\":[{\"type\":\"scatterpolar\",\"marker\":{\"colorbar\":{\"outlinewidth\":0,\"ticks\":\"\"}}}],\"histogram\":[{\"marker\":{\"pattern\":{\"fillmode\":\"overlay\",\"size\":10,\"solidity\":0.2}},\"type\":\"histogram\"}],\"scattergl\":[{\"type\":\"scattergl\",\"marker\":{\"colorbar\":{\"outlinewidth\":0,\"ticks\":\"\"}}}],\"scatter3d\":[{\"type\":\"scatter3d\",\"line\":{\"colorbar\":{\"outlinewidth\":0,\"ticks\":\"\"}},\"marker\":{\"colorbar\":{\"outlinewidth\":0,\"ticks\":\"\"}}}],\"scattermapbox\":[{\"type\":\"scattermapbox\",\"marker\":{\"colorbar\":{\"outlinewidth\":0,\"ticks\":\"\"}}}],\"scatterternary\":[{\"type\":\"scatterternary\",\"marker\":{\"colorbar\":{\"outlinewidth\":0,\"ticks\":\"\"}}}],\"scattercarpet\":[{\"type\":\"scattercarpet\",\"marker\":{\"colorbar\":{\"outlinewidth\":0,\"ticks\":\"\"}}}],\"carpet\":[{\"aaxis\":{\"endlinecolor\":\"#2a3f5f\",\"gridcolor\":\"white\",\"linecolor\":\"white\",\"minorgridcolor\":\"white\",\"startlinecolor\":\"#2a3f5f\"},\"baxis\":{\"endlinecolor\":\"#2a3f5f\",\"gridcolor\":\"white\",\"linecolor\":\"white\",\"minorgridcolor\":\"white\",\"startlinecolor\":\"#2a3f5f\"},\"type\":\"carpet\"}],\"table\":[{\"cells\":{\"fill\":{\"color\":\"#EBF0F8\"},\"line\":{\"color\":\"white\"}},\"header\":{\"fill\":{\"color\":\"#C8D4E3\"},\"line\":{\"color\":\"white\"}},\"type\":\"table\"}],\"barpolar\":[{\"marker\":{\"line\":{\"color\":\"#E5ECF6\",\"width\":0.5},\"pattern\":{\"fillmode\":\"overlay\",\"size\":10,\"solidity\":0.2}},\"type\":\"barpolar\"}],\"pie\":[{\"automargin\":true,\"type\":\"pie\"}]},\"layout\":{\"autotypenumbers\":\"strict\",\"colorway\":[\"#636efa\",\"#EF553B\",\"#00cc96\",\"#ab63fa\",\"#FFA15A\",\"#19d3f3\",\"#FF6692\",\"#B6E880\",\"#FF97FF\",\"#FECB52\"],\"font\":{\"color\":\"#2a3f5f\"},\"hovermode\":\"closest\",\"hoverlabel\":{\"align\":\"left\"},\"paper_bgcolor\":\"white\",\"plot_bgcolor\":\"#E5ECF6\",\"polar\":{\"bgcolor\":\"#E5ECF6\",\"angularaxis\":{\"gridcolor\":\"white\",\"linecolor\":\"white\",\"ticks\":\"\"},\"radialaxis\":{\"gridcolor\":\"white\",\"linecolor\":\"white\",\"ticks\":\"\"}},\"ternary\":{\"bgcolor\":\"#E5ECF6\",\"aaxis\":{\"gridcolor\":\"white\",\"linecolor\":\"white\",\"ticks\":\"\"},\"baxis\":{\"gridcolor\":\"white\",\"linecolor\":\"white\",\"ticks\":\"\"},\"caxis\":{\"gridcolor\":\"white\",\"linecolor\":\"white\",\"ticks\":\"\"}},\"coloraxis\":{\"colorbar\":{\"outlinewidth\":0,\"ticks\":\"\"}},\"colorscale\":{\"sequential\":[[0.0,\"#0d0887\"],[0.1111111111111111,\"#46039f\"],[0.2222222222222222,\"#7201a8\"],[0.3333333333333333,\"#9c179e\"],[0.4444444444444444,\"#bd3786\"],[0.5555555555555556,\"#d8576b\"],[0.6666666666666666,\"#ed7953\"],[0.7777777777777778,\"#fb9f3a\"],[0.8888888888888888,\"#fdca26\"],[1.0,\"#f0f921\"]],\"sequentialminus\":[[0.0,\"#0d0887\"],[0.1111111111111111,\"#46039f\"],[0.2222222222222222,\"#7201a8\"],[0.3333333333333333,\"#9c179e\"],[0.4444444444444444,\"#bd3786\"],[0.5555555555555556,\"#d8576b\"],[0.6666666666666666,\"#ed7953\"],[0.7777777777777778,\"#fb9f3a\"],[0.8888888888888888,\"#fdca26\"],[1.0,\"#f0f921\"]],\"diverging\":[[0,\"#8e0152\"],[0.1,\"#c51b7d\"],[0.2,\"#de77ae\"],[0.3,\"#f1b6da\"],[0.4,\"#fde0ef\"],[0.5,\"#f7f7f7\"],[0.6,\"#e6f5d0\"],[0.7,\"#b8e186\"],[0.8,\"#7fbc41\"],[0.9,\"#4d9221\"],[1,\"#276419\"]]},\"xaxis\":{\"gridcolor\":\"white\",\"linecolor\":\"white\",\"ticks\":\"\",\"title\":{\"standoff\":15},\"zerolinecolor\":\"white\",\"automargin\":true,\"zerolinewidth\":2},\"yaxis\":{\"gridcolor\":\"white\",\"linecolor\":\"white\",\"ticks\":\"\",\"title\":{\"standoff\":15},\"zerolinecolor\":\"white\",\"automargin\":true,\"zerolinewidth\":2},\"scene\":{\"xaxis\":{\"backgroundcolor\":\"#E5ECF6\",\"gridcolor\":\"white\",\"linecolor\":\"white\",\"showbackground\":true,\"ticks\":\"\",\"zerolinecolor\":\"white\",\"gridwidth\":2},\"yaxis\":{\"backgroundcolor\":\"#E5ECF6\",\"gridcolor\":\"white\",\"linecolor\":\"white\",\"showbackground\":true,\"ticks\":\"\",\"zerolinecolor\":\"white\",\"gridwidth\":2},\"zaxis\":{\"backgroundcolor\":\"#E5ECF6\",\"gridcolor\":\"white\",\"linecolor\":\"white\",\"showbackground\":true,\"ticks\":\"\",\"zerolinecolor\":\"white\",\"gridwidth\":2}},\"shapedefaults\":{\"line\":{\"color\":\"#2a3f5f\"}},\"annotationdefaults\":{\"arrowcolor\":\"#2a3f5f\",\"arrowhead\":0,\"arrowwidth\":1},\"geo\":{\"bgcolor\":\"white\",\"landcolor\":\"#E5ECF6\",\"subunitcolor\":\"white\",\"showland\":true,\"showlakes\":true,\"lakecolor\":\"white\"},\"title\":{\"x\":0.05},\"mapbox\":{\"style\":\"light\"}}}},                        {\"responsive\": true}                    ).then(function(){\n",
       "                            \n",
       "var gd = document.getElementById('9627ea76-de17-40ab-8416-18fef9c17b55');\n",
       "var x = new MutationObserver(function (mutations, observer) {{\n",
       "        var display = window.getComputedStyle(gd).display;\n",
       "        if (!display || display === 'none') {{\n",
       "            console.log([gd, 'removed!']);\n",
       "            Plotly.purge(gd);\n",
       "            observer.disconnect();\n",
       "        }}\n",
       "}});\n",
       "\n",
       "// Listen for the removal of the full notebook cells\n",
       "var notebookContainer = gd.closest('#notebook-container');\n",
       "if (notebookContainer) {{\n",
       "    x.observe(notebookContainer, {childList: true});\n",
       "}}\n",
       "\n",
       "// Listen for the clearing of the current output cell\n",
       "var outputEl = gd.closest('.output');\n",
       "if (outputEl) {{\n",
       "    x.observe(outputEl, {childList: true});\n",
       "}}\n",
       "\n",
       "                        })                };                });            </script>        </div>"
      ]
     },
     "metadata": {},
     "output_type": "display_data"
    }
   ],
   "source": [
    "optuna.visualization.plot_optimization_history(study)"
   ]
  },
  {
   "cell_type": "code",
   "execution_count": null,
   "id": "b606b66d-5192-43aa-82ac-abd8f7827f22",
   "metadata": {},
   "outputs": [],
   "source": []
  }
 ],
 "metadata": {
  "kernelspec": {
   "display_name": "Python 3 (ipykernel)",
   "language": "python",
   "name": "python3"
  },
  "language_info": {
   "codemirror_mode": {
    "name": "ipython",
    "version": 3
   },
   "file_extension": ".py",
   "mimetype": "text/x-python",
   "name": "python",
   "nbconvert_exporter": "python",
   "pygments_lexer": "ipython3",
   "version": "3.9.18"
  }
 },
 "nbformat": 4,
 "nbformat_minor": 5
}
