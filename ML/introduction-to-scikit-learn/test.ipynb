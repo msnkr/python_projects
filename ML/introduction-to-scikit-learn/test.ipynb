{
 "cells": [
  {
   "cell_type": "code",
   "execution_count": null,
   "id": "4b02eaf1",
   "metadata": {},
   "outputs": [],
   "source": [
    "# Organize the data\n",
    "# Sort missing values\n",
    "# Change to numerical\n",
    "# Split the data\n",
    "# Instantiate the model\n",
    "# Make predictions"
   ]
  },
  {
   "cell_type": "code",
   "execution_count": 29,
   "id": "d4ea2485",
   "metadata": {},
   "outputs": [],
   "source": [
    "import numpy as np\n",
    "import pandas as pd\n",
    "from sklearn.compose import ColumnTransformer\n",
    "from sklearn.preprocessing import OneHotEncoder\n",
    "from sklearn.model_selection import train_test_split, RandomizedSearchCV\n",
    "from sklearn.ensemble import RandomForestRegressor\n",
    "from sklearn.impute import SimpleImputer\n",
    "from sklearn.pipeline import Pipeline"
   ]
  },
  {
   "cell_type": "code",
   "execution_count": 2,
   "id": "22c5e623",
   "metadata": {},
   "outputs": [
    {
     "data": {
      "text/plain": [
       "Make              object\n",
       "Colour            object\n",
       "Odometer (KM)    float64\n",
       "Doors            float64\n",
       "Price            float64\n",
       "dtype: object"
      ]
     },
     "execution_count": 2,
     "metadata": {},
     "output_type": "execute_result"
    }
   ],
   "source": [
    "data = pd.read_csv(\"car-sales-extended-missing-data.csv\")\n",
    "data.dtypes"
   ]
  },
  {
   "cell_type": "code",
   "execution_count": 3,
   "id": "27c24933",
   "metadata": {},
   "outputs": [],
   "source": [
    "data.dropna(subset=\"Price\", inplace=True)"
   ]
  },
  {
   "cell_type": "code",
   "execution_count": 4,
   "id": "6f48453b",
   "metadata": {},
   "outputs": [
    {
     "data": {
      "text/plain": [
       "Make             47\n",
       "Colour           46\n",
       "Odometer (KM)    48\n",
       "Doors            47\n",
       "Price             0\n",
       "dtype: int64"
      ]
     },
     "execution_count": 4,
     "metadata": {},
     "output_type": "execute_result"
    }
   ],
   "source": [
    "data.isna().sum()"
   ]
  },
  {
   "cell_type": "code",
   "execution_count": 7,
   "id": "e280fdde",
   "metadata": {},
   "outputs": [],
   "source": [
    "X = data.drop(\"Price\", axis=1)\n",
    "y = data[\"Price\"]"
   ]
  },
  {
   "cell_type": "code",
   "execution_count": 11,
   "id": "11bcc87c",
   "metadata": {},
   "outputs": [],
   "source": [
    "cat_features = [\"Make\", \"Colour\"]\n",
    "cat_imputer = SimpleImputer(strategy=\"constant\", fill_value=\"missing\")\n",
    "\n",
    "door_features = [\"Doors\"]\n",
    "door_imputer = SimpleImputer(strategy=\"constant\", fill_value=4)\n",
    "\n",
    "odo_features = [\"Odometer (KM)\"]\n",
    "odo_imputer = SimpleImputer(strategy=\"mean\")\n",
    "\n",
    "one_hot = OneHotEncoder()\n",
    "\n",
    "transformer = ColumnTransformer([\n",
    "    (\"cat\", cat_imputer, cat_features),\n",
    "    (\"door\", door_imputer, door_features),\n",
    "    (\"odo\", odo_imputer, odo_features)\n",
    "])"
   ]
  },
  {
   "cell_type": "code",
   "execution_count": 12,
   "id": "7dfd1990",
   "metadata": {},
   "outputs": [],
   "source": [
    "transformed_X = transformer.fit_transform(X)"
   ]
  },
  {
   "cell_type": "code",
   "execution_count": 13,
   "id": "86101e3e",
   "metadata": {},
   "outputs": [],
   "source": [
    "X_df = pd.DataFrame(data=transformed_X, columns=[\"Make\", \"Colour\", \"Doors\", \"Odometer (KM)\"])"
   ]
  },
  {
   "cell_type": "code",
   "execution_count": 14,
   "id": "ac1df7c4",
   "metadata": {},
   "outputs": [
    {
     "data": {
      "text/html": [
       "<div>\n",
       "<style scoped>\n",
       "    .dataframe tbody tr th:only-of-type {\n",
       "        vertical-align: middle;\n",
       "    }\n",
       "\n",
       "    .dataframe tbody tr th {\n",
       "        vertical-align: top;\n",
       "    }\n",
       "\n",
       "    .dataframe thead th {\n",
       "        text-align: right;\n",
       "    }\n",
       "</style>\n",
       "<table border=\"1\" class=\"dataframe\">\n",
       "  <thead>\n",
       "    <tr style=\"text-align: right;\">\n",
       "      <th></th>\n",
       "      <th>Make</th>\n",
       "      <th>Colour</th>\n",
       "      <th>Doors</th>\n",
       "      <th>Odometer (KM)</th>\n",
       "    </tr>\n",
       "  </thead>\n",
       "  <tbody>\n",
       "    <tr>\n",
       "      <th>0</th>\n",
       "      <td>Honda</td>\n",
       "      <td>White</td>\n",
       "      <td>4.0</td>\n",
       "      <td>35431.0</td>\n",
       "    </tr>\n",
       "    <tr>\n",
       "      <th>1</th>\n",
       "      <td>BMW</td>\n",
       "      <td>Blue</td>\n",
       "      <td>5.0</td>\n",
       "      <td>192714.0</td>\n",
       "    </tr>\n",
       "    <tr>\n",
       "      <th>2</th>\n",
       "      <td>Honda</td>\n",
       "      <td>White</td>\n",
       "      <td>4.0</td>\n",
       "      <td>84714.0</td>\n",
       "    </tr>\n",
       "    <tr>\n",
       "      <th>3</th>\n",
       "      <td>Toyota</td>\n",
       "      <td>White</td>\n",
       "      <td>4.0</td>\n",
       "      <td>154365.0</td>\n",
       "    </tr>\n",
       "    <tr>\n",
       "      <th>4</th>\n",
       "      <td>Nissan</td>\n",
       "      <td>Blue</td>\n",
       "      <td>3.0</td>\n",
       "      <td>181577.0</td>\n",
       "    </tr>\n",
       "  </tbody>\n",
       "</table>\n",
       "</div>"
      ],
      "text/plain": [
       "     Make Colour Doors Odometer (KM)\n",
       "0   Honda  White   4.0       35431.0\n",
       "1     BMW   Blue   5.0      192714.0\n",
       "2   Honda  White   4.0       84714.0\n",
       "3  Toyota  White   4.0      154365.0\n",
       "4  Nissan   Blue   3.0      181577.0"
      ]
     },
     "execution_count": 14,
     "metadata": {},
     "output_type": "execute_result"
    }
   ],
   "source": [
    "X_df.head()"
   ]
  },
  {
   "cell_type": "code",
   "execution_count": 18,
   "id": "752d132d",
   "metadata": {},
   "outputs": [],
   "source": [
    "one_hot = OneHotEncoder()\n",
    "\n",
    "column_data = [\"Make\", \"Colour\", \"Doors\", \"Odometer (KM)\"]\n",
    "transformer = ColumnTransformer([\n",
    "    (\"one_hot\", one_hot, column_data)\n",
    "], sparse_threshold=0, remainder=\"passthrough\")"
   ]
  },
  {
   "cell_type": "code",
   "execution_count": 22,
   "id": "1685ba54",
   "metadata": {},
   "outputs": [],
   "source": [
    "transformed_X = transformer.fit_transform(X_df)"
   ]
  },
  {
   "cell_type": "code",
   "execution_count": 23,
   "id": "a4b5a194",
   "metadata": {},
   "outputs": [],
   "source": [
    "X_train, X_test, y_train, y_test = train_test_split(transformed_X, y, test_size=0.2)\n",
    "model = RandomForestRegressor(n_jobs=-1).fit(X_train, y_train)"
   ]
  },
  {
   "cell_type": "code",
   "execution_count": 24,
   "id": "95133fa8",
   "metadata": {},
   "outputs": [
    {
     "data": {
      "text/plain": [
       "0.17042528493792275"
      ]
     },
     "execution_count": 24,
     "metadata": {},
     "output_type": "execute_result"
    }
   ],
   "source": [
    "model.score(X_test, y_test)"
   ]
  },
  {
   "cell_type": "code",
   "execution_count": 28,
   "id": "1b0ab6f3",
   "metadata": {},
   "outputs": [
    {
     "data": {
      "text/plain": [
       "{'bootstrap': True,\n",
       " 'ccp_alpha': 0.0,\n",
       " 'criterion': 'squared_error',\n",
       " 'max_depth': None,\n",
       " 'max_features': 1.0,\n",
       " 'max_leaf_nodes': None,\n",
       " 'max_samples': None,\n",
       " 'min_impurity_decrease': 0.0,\n",
       " 'min_samples_leaf': 1,\n",
       " 'min_samples_split': 2,\n",
       " 'min_weight_fraction_leaf': 0.0,\n",
       " 'n_estimators': 100,\n",
       " 'n_jobs': -1,\n",
       " 'oob_score': False,\n",
       " 'random_state': None,\n",
       " 'verbose': 0,\n",
       " 'warm_start': False}"
      ]
     },
     "execution_count": 28,
     "metadata": {},
     "output_type": "execute_result"
    }
   ],
   "source": [
    "model.get_params()"
   ]
  },
  {
   "cell_type": "code",
   "execution_count": 32,
   "id": "d3d0c372",
   "metadata": {},
   "outputs": [
    {
     "data": {
      "text/plain": [
       "Make             0\n",
       "Colour           0\n",
       "Doors            0\n",
       "Odometer (KM)    0\n",
       "dtype: int64"
      ]
     },
     "execution_count": 32,
     "metadata": {},
     "output_type": "execute_result"
    }
   ],
   "source": [
    "X_df.isna().sum()"
   ]
  },
  {
   "cell_type": "code",
   "execution_count": 35,
   "id": "328352fc",
   "metadata": {},
   "outputs": [
    {
     "name": "stdout",
     "output_type": "stream",
     "text": [
      "Fitting 5 folds for each of 20 candidates, totalling 100 fits\n",
      "[CV] END max_depth=6, max_features=6, min_samples_leaf=8, min_samples_split=10, n_estimators=100; total time=   1.9s\n",
      "[CV] END max_depth=6, max_features=6, min_samples_leaf=8, min_samples_split=10, n_estimators=100; total time=   0.0s\n",
      "[CV] END max_depth=6, max_features=6, min_samples_leaf=8, min_samples_split=10, n_estimators=100; total time=   0.1s\n",
      "[CV] END max_depth=6, max_features=6, min_samples_leaf=8, min_samples_split=10, n_estimators=100; total time=   0.0s\n",
      "[CV] END max_depth=6, max_features=6, min_samples_leaf=8, min_samples_split=10, n_estimators=100; total time=   0.1s\n",
      "[CV] END max_depth=2, max_features=10, min_samples_leaf=2, min_samples_split=10, n_estimators=400; total time=   0.3s\n",
      "[CV] END max_depth=2, max_features=10, min_samples_leaf=2, min_samples_split=10, n_estimators=400; total time=   0.4s\n",
      "[CV] END max_depth=2, max_features=10, min_samples_leaf=2, min_samples_split=10, n_estimators=400; total time=   0.3s\n",
      "[CV] END max_depth=2, max_features=10, min_samples_leaf=2, min_samples_split=10, n_estimators=400; total time=   0.4s\n",
      "[CV] END max_depth=2, max_features=10, min_samples_leaf=2, min_samples_split=10, n_estimators=400; total time=   0.3s\n",
      "[CV] END max_depth=2, max_features=8, min_samples_leaf=8, min_samples_split=8, n_estimators=1200; total time=   1.1s\n",
      "[CV] END max_depth=2, max_features=8, min_samples_leaf=8, min_samples_split=8, n_estimators=1200; total time=   1.0s\n",
      "[CV] END max_depth=2, max_features=8, min_samples_leaf=8, min_samples_split=8, n_estimators=1200; total time=   1.1s\n",
      "[CV] END max_depth=2, max_features=8, min_samples_leaf=8, min_samples_split=8, n_estimators=1200; total time=   1.0s\n",
      "[CV] END max_depth=2, max_features=8, min_samples_leaf=8, min_samples_split=8, n_estimators=1200; total time=   1.1s\n",
      "[CV] END max_depth=2, max_features=2, min_samples_leaf=10, min_samples_split=8, n_estimators=1000; total time=   0.9s\n",
      "[CV] END max_depth=2, max_features=2, min_samples_leaf=10, min_samples_split=8, n_estimators=1000; total time=   0.9s\n",
      "[CV] END max_depth=2, max_features=2, min_samples_leaf=10, min_samples_split=8, n_estimators=1000; total time=   0.9s\n",
      "[CV] END max_depth=2, max_features=2, min_samples_leaf=10, min_samples_split=8, n_estimators=1000; total time=   0.9s\n",
      "[CV] END max_depth=2, max_features=2, min_samples_leaf=10, min_samples_split=8, n_estimators=1000; total time=   0.8s\n",
      "[CV] END max_depth=6, max_features=2, min_samples_leaf=8, min_samples_split=4, n_estimators=100; total time=   0.1s\n",
      "[CV] END max_depth=6, max_features=2, min_samples_leaf=8, min_samples_split=4, n_estimators=100; total time=   0.0s\n",
      "[CV] END max_depth=6, max_features=2, min_samples_leaf=8, min_samples_split=4, n_estimators=100; total time=   0.0s\n",
      "[CV] END max_depth=6, max_features=2, min_samples_leaf=8, min_samples_split=4, n_estimators=100; total time=   0.0s\n",
      "[CV] END max_depth=6, max_features=2, min_samples_leaf=8, min_samples_split=4, n_estimators=100; total time=   0.0s\n",
      "[CV] END max_depth=2, max_features=6, min_samples_leaf=4, min_samples_split=6, n_estimators=400; total time=   0.3s\n",
      "[CV] END max_depth=2, max_features=6, min_samples_leaf=4, min_samples_split=6, n_estimators=400; total time=   0.3s\n",
      "[CV] END max_depth=2, max_features=6, min_samples_leaf=4, min_samples_split=6, n_estimators=400; total time=   0.3s\n",
      "[CV] END max_depth=2, max_features=6, min_samples_leaf=4, min_samples_split=6, n_estimators=400; total time=   0.3s\n",
      "[CV] END max_depth=2, max_features=6, min_samples_leaf=4, min_samples_split=6, n_estimators=400; total time=   0.3s\n",
      "[CV] END max_depth=10, max_features=6, min_samples_leaf=10, min_samples_split=8, n_estimators=400; total time=   0.3s\n",
      "[CV] END max_depth=10, max_features=6, min_samples_leaf=10, min_samples_split=8, n_estimators=400; total time=   0.3s\n",
      "[CV] END max_depth=10, max_features=6, min_samples_leaf=10, min_samples_split=8, n_estimators=400; total time=   0.3s\n",
      "[CV] END max_depth=10, max_features=6, min_samples_leaf=10, min_samples_split=8, n_estimators=400; total time=   0.3s\n",
      "[CV] END max_depth=10, max_features=6, min_samples_leaf=10, min_samples_split=8, n_estimators=400; total time=   0.3s\n",
      "[CV] END max_depth=6, max_features=2, min_samples_leaf=8, min_samples_split=8, n_estimators=100; total time=   0.0s\n",
      "[CV] END max_depth=6, max_features=2, min_samples_leaf=8, min_samples_split=8, n_estimators=100; total time=   0.0s\n",
      "[CV] END max_depth=6, max_features=2, min_samples_leaf=8, min_samples_split=8, n_estimators=100; total time=   0.0s\n",
      "[CV] END max_depth=6, max_features=2, min_samples_leaf=8, min_samples_split=8, n_estimators=100; total time=   0.0s\n",
      "[CV] END max_depth=6, max_features=2, min_samples_leaf=8, min_samples_split=8, n_estimators=100; total time=   0.1s\n",
      "[CV] END max_depth=2, max_features=2, min_samples_leaf=6, min_samples_split=2, n_estimators=1200; total time=   1.1s\n",
      "[CV] END max_depth=2, max_features=2, min_samples_leaf=6, min_samples_split=2, n_estimators=1200; total time=   1.1s\n",
      "[CV] END max_depth=2, max_features=2, min_samples_leaf=6, min_samples_split=2, n_estimators=1200; total time=   1.1s\n",
      "[CV] END max_depth=2, max_features=2, min_samples_leaf=6, min_samples_split=2, n_estimators=1200; total time=   1.0s\n",
      "[CV] END max_depth=2, max_features=2, min_samples_leaf=6, min_samples_split=2, n_estimators=1200; total time=   1.0s\n",
      "[CV] END max_depth=6, max_features=6, min_samples_leaf=4, min_samples_split=6, n_estimators=1000; total time=   0.9s\n",
      "[CV] END max_depth=6, max_features=6, min_samples_leaf=4, min_samples_split=6, n_estimators=1000; total time=   0.8s\n",
      "[CV] END max_depth=6, max_features=6, min_samples_leaf=4, min_samples_split=6, n_estimators=1000; total time=   0.9s\n",
      "[CV] END max_depth=6, max_features=6, min_samples_leaf=4, min_samples_split=6, n_estimators=1000; total time=   0.8s\n",
      "[CV] END max_depth=6, max_features=6, min_samples_leaf=4, min_samples_split=6, n_estimators=1000; total time=   0.8s\n",
      "[CV] END max_depth=14, max_features=2, min_samples_leaf=10, min_samples_split=8, n_estimators=1200; total time=   1.0s\n",
      "[CV] END max_depth=14, max_features=2, min_samples_leaf=10, min_samples_split=8, n_estimators=1200; total time=   1.1s\n",
      "[CV] END max_depth=14, max_features=2, min_samples_leaf=10, min_samples_split=8, n_estimators=1200; total time=   1.0s\n",
      "[CV] END max_depth=14, max_features=2, min_samples_leaf=10, min_samples_split=8, n_estimators=1200; total time=   1.0s\n",
      "[CV] END max_depth=14, max_features=2, min_samples_leaf=10, min_samples_split=8, n_estimators=1200; total time=   1.0s\n",
      "[CV] END max_depth=2, max_features=6, min_samples_leaf=6, min_samples_split=8, n_estimators=700; total time=   0.6s\n",
      "[CV] END max_depth=2, max_features=6, min_samples_leaf=6, min_samples_split=8, n_estimators=700; total time=   0.6s\n",
      "[CV] END max_depth=2, max_features=6, min_samples_leaf=6, min_samples_split=8, n_estimators=700; total time=   0.6s\n",
      "[CV] END max_depth=2, max_features=6, min_samples_leaf=6, min_samples_split=8, n_estimators=700; total time=   0.6s\n",
      "[CV] END max_depth=2, max_features=6, min_samples_leaf=6, min_samples_split=8, n_estimators=700; total time=   0.6s\n",
      "[CV] END max_depth=10, max_features=6, min_samples_leaf=8, min_samples_split=4, n_estimators=700; total time=   0.7s\n",
      "[CV] END max_depth=10, max_features=6, min_samples_leaf=8, min_samples_split=4, n_estimators=700; total time=   0.6s\n",
      "[CV] END max_depth=10, max_features=6, min_samples_leaf=8, min_samples_split=4, n_estimators=700; total time=   0.6s\n",
      "[CV] END max_depth=10, max_features=6, min_samples_leaf=8, min_samples_split=4, n_estimators=700; total time=   0.6s\n",
      "[CV] END max_depth=10, max_features=6, min_samples_leaf=8, min_samples_split=4, n_estimators=700; total time=   0.6s\n",
      "[CV] END max_depth=2, max_features=8, min_samples_leaf=2, min_samples_split=4, n_estimators=100; total time=   0.0s\n",
      "[CV] END max_depth=2, max_features=8, min_samples_leaf=2, min_samples_split=4, n_estimators=100; total time=   0.0s\n",
      "[CV] END max_depth=2, max_features=8, min_samples_leaf=2, min_samples_split=4, n_estimators=100; total time=   0.0s\n",
      "[CV] END max_depth=2, max_features=8, min_samples_leaf=2, min_samples_split=4, n_estimators=100; total time=   0.0s\n",
      "[CV] END max_depth=2, max_features=8, min_samples_leaf=2, min_samples_split=4, n_estimators=100; total time=   0.0s\n"
     ]
    },
    {
     "name": "stdout",
     "output_type": "stream",
     "text": [
      "[CV] END max_depth=10, max_features=4, min_samples_leaf=10, min_samples_split=2, n_estimators=1000; total time=   0.9s\n",
      "[CV] END max_depth=10, max_features=4, min_samples_leaf=10, min_samples_split=2, n_estimators=1000; total time=   0.9s\n",
      "[CV] END max_depth=10, max_features=4, min_samples_leaf=10, min_samples_split=2, n_estimators=1000; total time=   0.8s\n",
      "[CV] END max_depth=10, max_features=4, min_samples_leaf=10, min_samples_split=2, n_estimators=1000; total time=   0.8s\n",
      "[CV] END max_depth=10, max_features=4, min_samples_leaf=10, min_samples_split=2, n_estimators=1000; total time=   0.9s\n",
      "[CV] END max_depth=2, max_features=10, min_samples_leaf=10, min_samples_split=10, n_estimators=700; total time=   0.6s\n",
      "[CV] END max_depth=2, max_features=10, min_samples_leaf=10, min_samples_split=10, n_estimators=700; total time=   0.6s\n",
      "[CV] END max_depth=2, max_features=10, min_samples_leaf=10, min_samples_split=10, n_estimators=700; total time=   0.6s\n",
      "[CV] END max_depth=2, max_features=10, min_samples_leaf=10, min_samples_split=10, n_estimators=700; total time=   0.6s\n",
      "[CV] END max_depth=2, max_features=10, min_samples_leaf=10, min_samples_split=10, n_estimators=700; total time=   0.6s\n",
      "[CV] END max_depth=14, max_features=10, min_samples_leaf=6, min_samples_split=8, n_estimators=100; total time=   0.1s\n",
      "[CV] END max_depth=14, max_features=10, min_samples_leaf=6, min_samples_split=8, n_estimators=100; total time=   0.0s\n",
      "[CV] END max_depth=14, max_features=10, min_samples_leaf=6, min_samples_split=8, n_estimators=100; total time=   0.1s\n",
      "[CV] END max_depth=14, max_features=10, min_samples_leaf=6, min_samples_split=8, n_estimators=100; total time=   0.0s\n",
      "[CV] END max_depth=14, max_features=10, min_samples_leaf=6, min_samples_split=8, n_estimators=100; total time=   0.0s\n",
      "[CV] END max_depth=14, max_features=10, min_samples_leaf=6, min_samples_split=4, n_estimators=100; total time=   0.1s\n",
      "[CV] END max_depth=14, max_features=10, min_samples_leaf=6, min_samples_split=4, n_estimators=100; total time=   0.0s\n",
      "[CV] END max_depth=14, max_features=10, min_samples_leaf=6, min_samples_split=4, n_estimators=100; total time=   0.0s\n",
      "[CV] END max_depth=14, max_features=10, min_samples_leaf=6, min_samples_split=4, n_estimators=100; total time=   0.0s\n",
      "[CV] END max_depth=14, max_features=10, min_samples_leaf=6, min_samples_split=4, n_estimators=100; total time=   0.0s\n",
      "[CV] END max_depth=10, max_features=8, min_samples_leaf=2, min_samples_split=2, n_estimators=400; total time=   0.3s\n",
      "[CV] END max_depth=10, max_features=8, min_samples_leaf=2, min_samples_split=2, n_estimators=400; total time=   0.3s\n",
      "[CV] END max_depth=10, max_features=8, min_samples_leaf=2, min_samples_split=2, n_estimators=400; total time=   0.3s\n",
      "[CV] END max_depth=10, max_features=8, min_samples_leaf=2, min_samples_split=2, n_estimators=400; total time=   0.3s\n",
      "[CV] END max_depth=10, max_features=8, min_samples_leaf=2, min_samples_split=2, n_estimators=400; total time=   0.3s\n",
      "[CV] END max_depth=2, max_features=6, min_samples_leaf=8, min_samples_split=8, n_estimators=400; total time=   0.3s\n",
      "[CV] END max_depth=2, max_features=6, min_samples_leaf=8, min_samples_split=8, n_estimators=400; total time=   0.3s\n",
      "[CV] END max_depth=2, max_features=6, min_samples_leaf=8, min_samples_split=8, n_estimators=400; total time=   0.3s\n",
      "[CV] END max_depth=2, max_features=6, min_samples_leaf=8, min_samples_split=8, n_estimators=400; total time=   0.3s\n",
      "[CV] END max_depth=2, max_features=6, min_samples_leaf=8, min_samples_split=8, n_estimators=400; total time=   0.3s\n"
     ]
    }
   ],
   "source": [
    "param_distributions = {\n",
    "    \"n_estimators\": [100, 400, 700, 1000, 1200],\n",
    "    \"max_depth\": [2, 6, 10, 14],\n",
    "    \"min_samples_split\": [2, 4, 6, 8, 10],\n",
    "    \"min_samples_leaf\": [2, 4, 6, 8, 10],\n",
    "    \"max_features\": [2, 4, 6, 8, 10],\n",
    "}\n",
    "\n",
    "rs_model = RandomizedSearchCV(model, param_distributions, n_iter=20, cv=5, verbose=2).fit(X_test, y_test)"
   ]
  },
  {
   "cell_type": "code",
   "execution_count": 36,
   "id": "63108c56",
   "metadata": {},
   "outputs": [
    {
     "data": {
      "text/plain": [
       "{'n_estimators': 100,\n",
       " 'min_samples_split': 4,\n",
       " 'min_samples_leaf': 6,\n",
       " 'max_features': 10,\n",
       " 'max_depth': 14}"
      ]
     },
     "execution_count": 36,
     "metadata": {},
     "output_type": "execute_result"
    }
   ],
   "source": [
    "rs_model.best_params_"
   ]
  },
  {
   "cell_type": "code",
   "execution_count": 37,
   "id": "5c49accc",
   "metadata": {},
   "outputs": [
    {
     "data": {
      "text/plain": [
       "0.03576495568107152"
      ]
     },
     "execution_count": 37,
     "metadata": {},
     "output_type": "execute_result"
    }
   ],
   "source": [
    "rs_model.score(X_test, y_test)"
   ]
  },
  {
   "cell_type": "code",
   "execution_count": null,
   "id": "7e7d6683",
   "metadata": {},
   "outputs": [],
   "source": []
  }
 ],
 "metadata": {
  "kernelspec": {
   "display_name": "Python 3 (ipykernel)",
   "language": "python",
   "name": "python3"
  },
  "language_info": {
   "codemirror_mode": {
    "name": "ipython",
    "version": 3
   },
   "file_extension": ".py",
   "mimetype": "text/x-python",
   "name": "python",
   "nbconvert_exporter": "python",
   "pygments_lexer": "ipython3",
   "version": "3.11.5"
  }
 },
 "nbformat": 4,
 "nbformat_minor": 5
}
