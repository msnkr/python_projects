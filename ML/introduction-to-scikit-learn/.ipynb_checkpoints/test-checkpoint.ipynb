{
 "cells": [
  {
   "cell_type": "code",
   "execution_count": null,
   "id": "91317df9",
   "metadata": {},
   "outputs": [],
   "source": [
    "# Organize the data\n",
    "# Sort missing values\n",
    "# Change to numerical\n",
    "# Split the data\n",
    "# Instantiate the model\n",
    "# Make predictions"
   ]
  },
  {
   "cell_type": "code",
   "execution_count": 1,
   "id": "6fb532c4",
   "metadata": {},
   "outputs": [],
   "source": [
    "import numpy as np\n",
    "import pandas as pd\n",
    "from sklearn.compose import ColumnTransformer\n",
    "from sklearn.preprocessing import OneHotEncoder\n",
    "from sklearn.model_selection import train_test_split, RandomizedSearchCV\n",
    "from sklearn.ensemble import RandomForestRegressor, RandomForestClassifier\n",
    "from sklearn.impute import SimpleImputer\n",
    "from sklearn.pipeline import Pipeline\n",
    "from joblib import dump, load\n",
    "import matplotlib.pyplot as plt"
   ]
  },
  {
   "cell_type": "code",
   "execution_count": null,
   "id": "5870765d",
   "metadata": {},
   "outputs": [],
   "source": [
    "data = pd.read_csv(\"car-sales-extended-missing-data.csv\")\n",
    "data.dtypes"
   ]
  },
  {
   "cell_type": "code",
   "execution_count": null,
   "id": "68dc79f6",
   "metadata": {},
   "outputs": [],
   "source": [
    "data.dropna(subset=\"Price\", inplace=True)"
   ]
  },
  {
   "cell_type": "code",
   "execution_count": null,
   "id": "cb54133b",
   "metadata": {},
   "outputs": [],
   "source": [
    "data.isna().sum()"
   ]
  },
  {
   "cell_type": "code",
   "execution_count": null,
   "id": "515fca30",
   "metadata": {},
   "outputs": [],
   "source": [
    "X = data.drop(\"Price\", axis=1)\n",
    "y = data[\"Price\"]"
   ]
  },
  {
   "cell_type": "code",
   "execution_count": null,
   "id": "6cb0a632",
   "metadata": {},
   "outputs": [],
   "source": [
    "cat_features = [\"Make\", \"Colour\"]\n",
    "cat_imputer = SimpleImputer(strategy=\"constant\", fill_value=\"missing\")\n",
    "\n",
    "door_features = [\"Doors\"]\n",
    "door_imputer = SimpleImputer(strategy=\"constant\", fill_value=4)\n",
    "\n",
    "odo_features = [\"Odometer (KM)\"]\n",
    "odo_imputer = SimpleImputer(strategy=\"mean\")\n",
    "\n",
    "one_hot = OneHotEncoder()\n",
    "\n",
    "transformer = ColumnTransformer([\n",
    "    (\"cat\", cat_imputer, cat_features),\n",
    "    (\"door\", door_imputer, door_features),\n",
    "    (\"odo\", odo_imputer, odo_features)\n",
    "])"
   ]
  },
  {
   "cell_type": "code",
   "execution_count": null,
   "id": "3adffd5d",
   "metadata": {},
   "outputs": [],
   "source": [
    "transformed_X = transformer.fit_transform(X)"
   ]
  },
  {
   "cell_type": "code",
   "execution_count": null,
   "id": "d7ce4b43",
   "metadata": {},
   "outputs": [],
   "source": [
    "X_df = pd.DataFrame(data=transformed_X, columns=[\"Make\", \"Colour\", \"Doors\", \"Odometer (KM)\"])"
   ]
  },
  {
   "cell_type": "code",
   "execution_count": null,
   "id": "8438bbcb",
   "metadata": {},
   "outputs": [],
   "source": [
    "X_df.head()"
   ]
  },
  {
   "cell_type": "code",
   "execution_count": null,
   "id": "6a294444",
   "metadata": {},
   "outputs": [],
   "source": [
    "one_hot = OneHotEncoder()\n",
    "\n",
    "column_data = [\"Make\", \"Colour\", \"Doors\", \"Odometer (KM)\"]\n",
    "transformer = ColumnTransformer([\n",
    "    (\"one_hot\", one_hot, column_data)\n",
    "], sparse_threshold=0, remainder=\"passthrough\")"
   ]
  },
  {
   "cell_type": "code",
   "execution_count": null,
   "id": "5cc9d95a",
   "metadata": {},
   "outputs": [],
   "source": [
    "transformed_X = transformer.fit_transform(X_df)"
   ]
  },
  {
   "cell_type": "code",
   "execution_count": null,
   "id": "188bafaf",
   "metadata": {},
   "outputs": [],
   "source": [
    "X_train, X_test, y_train, y_test = train_test_split(transformed_X, y, test_size=0.2)\n",
    "model = RandomForestRegressor(n_jobs=-1).fit(X_train, y_train)"
   ]
  },
  {
   "cell_type": "code",
   "execution_count": null,
   "id": "af7edbbb",
   "metadata": {},
   "outputs": [],
   "source": [
    "model.score(X_test, y_test)"
   ]
  },
  {
   "cell_type": "code",
   "execution_count": null,
   "id": "3d150081",
   "metadata": {},
   "outputs": [],
   "source": [
    "model.get_params()"
   ]
  },
  {
   "cell_type": "code",
   "execution_count": null,
   "id": "e3e81482",
   "metadata": {},
   "outputs": [],
   "source": [
    "X_df.isna().sum()"
   ]
  },
  {
   "cell_type": "code",
   "execution_count": null,
   "id": "5efa8a5b",
   "metadata": {},
   "outputs": [],
   "source": [
    "param_distributions = {\n",
    "    \"n_estimators\": [100, 400, 700, 1000, 1200],\n",
    "    \"max_depth\": [2, 6, 10, 14],\n",
    "    \"min_samples_split\": [2, 4, 6, 8, 10],\n",
    "    \"min_samples_leaf\": [2, 4, 6, 8, 10],\n",
    "    \"max_features\": [2, 4, 6, 8, 10],\n",
    "}\n",
    "\n",
    "rs_model = RandomizedSearchCV(model, param_distributions, n_iter=20, cv=5, verbose=2).fit(X_test, y_test)"
   ]
  },
  {
   "cell_type": "code",
   "execution_count": null,
   "id": "eec1fd9d",
   "metadata": {},
   "outputs": [],
   "source": [
    "rs_model.best_params_"
   ]
  },
  {
   "cell_type": "code",
   "execution_count": null,
   "id": "b4532c54",
   "metadata": {},
   "outputs": [],
   "source": [
    "rs_model.score(X_test, y_test)"
   ]
  },
  {
   "cell_type": "code",
   "execution_count": null,
   "id": "a8bce4e0",
   "metadata": {},
   "outputs": [],
   "source": [
    "dump(rs_model, filename=\"test.joblib\")"
   ]
  },
  {
   "cell_type": "markdown",
   "id": "3acacdd8",
   "metadata": {},
   "source": [
    "# Try using Pipline()"
   ]
  },
  {
   "cell_type": "code",
   "execution_count": null,
   "id": "3fda1b0a",
   "metadata": {},
   "outputs": [],
   "source": [
    "import numpy as np\n",
    "import pandas as pd\n",
    "from sklearn.compose import ColumnTransformer\n",
    "from sklearn.preprocessing import OneHotEncoder\n",
    "from sklearn.model_selection import train_test_split, RandomizedSearchCV, GridSearchCV\n",
    "from sklearn.ensemble import RandomForestRegressor\n",
    "from sklearn.impute import SimpleImputer\n",
    "from sklearn.pipeline import Pipeline\n",
    "from joblib import dump, load"
   ]
  },
  {
   "cell_type": "code",
   "execution_count": null,
   "id": "cd180400",
   "metadata": {},
   "outputs": [],
   "source": [
    "data = pd.read_csv(\"car-sales-extended-missing-data.csv\")\n",
    "data.isna().sum()"
   ]
  },
  {
   "cell_type": "code",
   "execution_count": null,
   "id": "848b6968",
   "metadata": {},
   "outputs": [],
   "source": [
    "data.dropna(subset=\"Price\", inplace=True)\n",
    "data.isna().sum()"
   ]
  },
  {
   "cell_type": "code",
   "execution_count": null,
   "id": "c17b5333",
   "metadata": {},
   "outputs": [],
   "source": [
    "cat_features = [\"Make\", \"Colour\"]\n",
    "cat_transformer = Pipeline(steps=[\n",
    "    (\"imputer\", SimpleImputer(strategy=\"constant\", fill_value=\"missing\")),\n",
    "    (\"one_hot\", OneHotEncoder(handle_unknown=\"ignore\"))\n",
    "])\n",
    "\n",
    "door_feature = [\"Doors\"]\n",
    "door_transformer = Pipeline(steps=[\n",
    "    (\"imputer\", SimpleImputer(strategy=\"constant\", fill_value=4))\n",
    "])\n",
    "\n",
    "odometer_feature = [\"Odometer (KM)\"]\n",
    "odometer_transformer = Pipeline(steps=[\n",
    "    (\"imputer\", SimpleImputer(strategy=\"mean\"))\n",
    "])"
   ]
  },
  {
   "cell_type": "code",
   "execution_count": null,
   "id": "45049777",
   "metadata": {},
   "outputs": [],
   "source": [
    "preprocessor = ColumnTransformer(transformers=[\n",
    "    (\"cat_imputer\", cat_transformer, cat_features),\n",
    "    (\"door_imputer\", door_transformer, door_feature),\n",
    "    (\"odometer_imputer\", odometer_transformer, odometer_feature)\n",
    "])"
   ]
  },
  {
   "cell_type": "code",
   "execution_count": null,
   "id": "3e359b69",
   "metadata": {},
   "outputs": [],
   "source": [
    "model = Pipeline(steps=[\n",
    "    (\"preprocessor\", preprocessor),\n",
    "    (\"model\", RandomForestRegressor(n_jobs=-1))\n",
    "])"
   ]
  },
  {
   "cell_type": "code",
   "execution_count": null,
   "id": "2733ee39",
   "metadata": {},
   "outputs": [],
   "source": [
    "X = data.drop(\"Price\", axis=1)\n",
    "y = data[\"Price\"]\n",
    "\n",
    "X_train, X_test, y_train, y_test = train_test_split(X, y, test_size=0.2)"
   ]
  },
  {
   "cell_type": "code",
   "execution_count": null,
   "id": "ca179480",
   "metadata": {},
   "outputs": [],
   "source": [
    "model.fit(X_train, y_train)"
   ]
  },
  {
   "cell_type": "code",
   "execution_count": null,
   "id": "c43cea72",
   "metadata": {},
   "outputs": [],
   "source": [
    "model.score(X_test, y_test)"
   ]
  },
  {
   "cell_type": "code",
   "execution_count": null,
   "id": "3194cdfd",
   "metadata": {},
   "outputs": [],
   "source": [
    "pipe_grid = {\n",
    "#     \"preprocessor__num__imputer__strategy\": ['most_frequent','mean', 'median'], # note the double underscore after each prefix \"preprocessor__\"\n",
    "    \"model__n_estimators\": [800],\n",
    "    \"model__max_depth\": [3],\n",
    "    \"model__max_features\": [12],\n",
    "    \"model__min_samples_split\": [6]\n",
    "}\n",
    "\n",
    "gs_model = GridSearchCV(model, pipe_grid, cv=5, verbose=2, n_jobs=-1)"
   ]
  },
  {
   "cell_type": "code",
   "execution_count": null,
   "id": "d5caa9c4",
   "metadata": {},
   "outputs": [],
   "source": [
    "gs_model.fit(X_test, y_test)"
   ]
  },
  {
   "cell_type": "code",
   "execution_count": null,
   "id": "3e604ee8",
   "metadata": {},
   "outputs": [],
   "source": [
    "gs_model.score(X_test, y_test)"
   ]
  },
  {
   "cell_type": "code",
   "execution_count": null,
   "id": "2ada642c",
   "metadata": {},
   "outputs": [],
   "source": [
    "gs_model.best_params_"
   ]
  },
  {
   "cell_type": "code",
   "execution_count": null,
   "id": "44663b11",
   "metadata": {},
   "outputs": [],
   "source": [
    "dump(gs_model, \"gs_RandomForstRegressor.joblib\")"
   ]
  },
  {
   "cell_type": "code",
   "execution_count": null,
   "id": "36d7247e",
   "metadata": {},
   "outputs": [],
   "source": [
    "# Try heart disease data"
   ]
  },
  {
   "cell_type": "code",
   "execution_count": null,
   "id": "6e3afa29",
   "metadata": {},
   "outputs": [],
   "source": [
    "heart_disease = pd.read_csv(\"heart-disease.csv\")\n",
    "heart_disease.head()"
   ]
  },
  {
   "cell_type": "code",
   "execution_count": null,
   "id": "b393a7e2",
   "metadata": {},
   "outputs": [],
   "source": [
    "X = heart_disease.drop(\"target\", axis=1)\n",
    "y = heart_disease[\"target\"]\n",
    "\n",
    "X_train, X_test, y_train, y_test = train_test_split(X, y, test_size=0.2)\n",
    "clf = RandomForestClassifier().fit(X_train, y_train)\n",
    "clf.score(X_test, y_test)"
   ]
  },
  {
   "cell_type": "code",
   "execution_count": null,
   "id": "34c3dd8e",
   "metadata": {},
   "outputs": [],
   "source": [
    "clf.get_params()"
   ]
  },
  {
   "cell_type": "code",
   "execution_count": null,
   "id": "d48676f7",
   "metadata": {},
   "outputs": [],
   "source": [
    "grid = {\n",
    "    \"max_depth\": [2, 4, 6, 8, 10],\n",
    "    \"max_features\": [2, 4, 6, 8, 10],\n",
    "    \"max_leaf_nodes\": [2, 4, 6, 8, 10],\n",
    "    \"min_samples_leaf\": [2, 4, 6, 8, 10],\n",
    "    \"min_samples_split\": [2, 4, 6, 8, 10],\n",
    "    \"n_estimators\": [100, 200, 500, 800, 1000, 1200]\n",
    "}\n",
    "\n",
    "rs_clf = RandomizedSearchCV(clf, grid, cv=5, n_iter=50, n_jobs=-1, verbose=1).fit(X_train, y_train)"
   ]
  },
  {
   "cell_type": "code",
   "execution_count": null,
   "id": "f25d9ab6",
   "metadata": {},
   "outputs": [],
   "source": [
    "rs_clf.best_params_"
   ]
  },
  {
   "cell_type": "code",
   "execution_count": null,
   "id": "651f2da4",
   "metadata": {},
   "outputs": [],
   "source": [
    "rs_clf.score(X_test, y_test)"
   ]
  },
  {
   "cell_type": "code",
   "execution_count": null,
   "id": "e858edde",
   "metadata": {},
   "outputs": [],
   "source": [
    "dump(rs_clf, \"rs_clf.joblib\")"
   ]
  },
  {
   "cell_type": "code",
   "execution_count": null,
   "id": "01f69a34",
   "metadata": {},
   "outputs": [],
   "source": [
    "# Plot something\n",
    "\n",
    "heart_disease = pd.read_csv(\"heart-disease.csv\")\n",
    "heart_disease.head()"
   ]
  },
  {
   "cell_type": "code",
   "execution_count": null,
   "id": "e4fff56d",
   "metadata": {},
   "outputs": [],
   "source": [
    "fig, (ax1, ax2) = plt.subplots(nrows=1, ncols=2, figsize=(12, 6), sharex=True)\n",
    "\n",
    "ax1.scatter(heart_disease[\"age\"], heart_disease[\"thalach\"], c=heart_disease[\"target\"])\n",
    "\n",
    "ax1.legend([\"Target\"])\n",
    "ax1.set(ylabel=\"Thalach\", xlabel=\"Age\")\n",
    "\n",
    "\n",
    "ax2.scatter(heart_disease[\"age\"], heart_disease[\"chol\"], c=heart_disease[\"target\"])\n",
    "ax2.legend([\"Target\"])\n",
    "ax2.set(xlabel=\"Age\", ylabel=\"Chol\");"
   ]
  },
  {
   "cell_type": "code",
   "execution_count": 18,
   "id": "8c63b2e0",
   "metadata": {
    "scrolled": false
   },
   "outputs": [
    {
     "data": {
      "text/plain": [
       "0.9305053191489362"
      ]
     },
     "execution_count": 18,
     "metadata": {},
     "output_type": "execute_result"
    }
   ],
   "source": [
    "# Try another data set\n",
    "from sklearn.datasets import load_iris\n",
    "\n",
    "iris = load_iris()\n",
    "iris_df = pd.DataFrame(data=iris[\"data\"], columns=iris[\"feature_names\"])\n",
    "iris_df[\"target\"] = pd.Series(iris[\"target\"])\n",
    "\n",
    "X = iris_df.drop(\"target\", axis=1)\n",
    "y = iris_df[\"target\"]\n",
    "\n",
    "X_train, X_test, y_train, y_test = train_test_split(X, y, test_size=0.2)\n",
    "clf = RandomForestRegressor().fit(X_train, y_train)\n",
    "clf.score(X_test, y_test)"
   ]
  },
  {
   "cell_type": "code",
   "execution_count": 19,
   "id": "66317f44",
   "metadata": {},
   "outputs": [
    {
     "data": {
      "text/plain": [
       "{'bootstrap': True,\n",
       " 'ccp_alpha': 0.0,\n",
       " 'criterion': 'squared_error',\n",
       " 'max_depth': None,\n",
       " 'max_features': 1.0,\n",
       " 'max_leaf_nodes': None,\n",
       " 'max_samples': None,\n",
       " 'min_impurity_decrease': 0.0,\n",
       " 'min_samples_leaf': 1,\n",
       " 'min_samples_split': 2,\n",
       " 'min_weight_fraction_leaf': 0.0,\n",
       " 'n_estimators': 100,\n",
       " 'n_jobs': None,\n",
       " 'oob_score': False,\n",
       " 'random_state': None,\n",
       " 'verbose': 0,\n",
       " 'warm_start': False}"
      ]
     },
     "execution_count": 19,
     "metadata": {},
     "output_type": "execute_result"
    }
   ],
   "source": [
    "clf.get_params()"
   ]
  },
  {
   "cell_type": "code",
   "execution_count": 23,
   "id": "1002fc58",
   "metadata": {},
   "outputs": [],
   "source": [
    "grid = {\n",
    "    \"max_depth\": [2, 5, 7, 9, 12, 18],\n",
    "    \"max_features\": [2, 5, 7, 9, 12, 18],\n",
    "    \"max_leaf_nodes\": [2, 5, 7, 9, 12, 18],\n",
    "    \"min_samples_leaf\": [2, 5, 7, 9, 12, 18],\n",
    "    \"min_samples_split\": [2, 5, 7, 9, 12, 18],\n",
    "    \"n_estimators\": [100, 300, 500, 800, 1000]\n",
    "}\n",
    "\n",
    "rs_clf = RandomizedSearchCV(clf, grid, n_iter=50, n_jobs=-1, cv=5,).fit(X_train, y_train)"
   ]
  },
  {
   "cell_type": "code",
   "execution_count": 24,
   "id": "38f608aa",
   "metadata": {},
   "outputs": [
    {
     "data": {
      "text/plain": [
       "0.9323602090468806"
      ]
     },
     "execution_count": 24,
     "metadata": {},
     "output_type": "execute_result"
    }
   ],
   "source": [
    "rs_clf.score(X_test, y_test)"
   ]
  }
 ],
 "metadata": {
  "kernelspec": {
   "display_name": "Python 3 (ipykernel)",
   "language": "python",
   "name": "python3"
  },
  "language_info": {
   "codemirror_mode": {
    "name": "ipython",
    "version": 3
   },
   "file_extension": ".py",
   "mimetype": "text/x-python",
   "name": "python",
   "nbconvert_exporter": "python",
   "pygments_lexer": "ipython3",
   "version": "3.11.5"
  }
 },
 "nbformat": 4,
 "nbformat_minor": 5
}
