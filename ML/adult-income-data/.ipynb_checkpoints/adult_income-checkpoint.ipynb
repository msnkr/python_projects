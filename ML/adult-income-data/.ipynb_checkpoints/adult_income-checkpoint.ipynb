{
 "cells": [
  {
   "cell_type": "code",
   "execution_count": null,
   "id": "c83bacb1",
   "metadata": {},
   "outputs": [],
   "source": [
    "# Imports\n",
    "import pandas as pd\n",
    "import numpy as np\n",
    "import matplotlib.pyplot as plt\n",
    "from sklearn.preprocessing import OneHotEncoder\n",
    "from sklearn.compose import ColumnTransformer"
   ]
  },
  {
   "cell_type": "code",
   "execution_count": null,
   "id": "366d4783",
   "metadata": {},
   "outputs": [],
   "source": [
    "# Load the data\n",
    "income = pd.read_csv(\"adult.csv\")\n",
    "income.head()"
   ]
  },
  {
   "cell_type": "code",
   "execution_count": null,
   "id": "3a0535d2",
   "metadata": {},
   "outputs": [],
   "source": [
    "income.dtypes"
   ]
  },
  {
   "cell_type": "code",
   "execution_count": null,
   "id": "3cf5db97",
   "metadata": {},
   "outputs": [],
   "source": [
    "X = income.drop(\"income\", axis=1)\n",
    "y = income[\"income\"]\n",
    "X.head()"
   ]
  },
  {
   "cell_type": "code",
   "execution_count": null,
   "id": "1c55d531",
   "metadata": {},
   "outputs": [],
   "source": [
    "cat_data = [\"workclass\", \n",
    "            \"education\", \n",
    "            \"marital-status\", \n",
    "            \"occupation\", \n",
    "            \"relationship\", \n",
    "            \"race\", \n",
    "            \"gender\", \n",
    "            \"native-country\"]\n",
    "\n",
    "\n",
    "one_hot = OneHotEncoder()\n",
    "transformer = ColumnTransformer([(\"one_hot\", one_hot, cat_data)], remainder=\"passthrough\", sparse_threshold=0)\n",
    "\n",
    "transformed_X = transformer_X.fit_transform(X)"
   ]
  },
  {
   "cell_type": "code",
   "execution_count": null,
   "id": "c9a9d396",
   "metadata": {},
   "outputs": [],
   "source": [
    "print(transformed_X)"
   ]
  },
  {
   "cell_type": "code",
   "execution_count": null,
   "id": "7f903558",
   "metadata": {},
   "outputs": [],
   "source": []
  }
 ],
 "metadata": {
  "kernelspec": {
   "display_name": "Python 3 (ipykernel)",
   "language": "python",
   "name": "python3"
  },
  "language_info": {
   "codemirror_mode": {
    "name": "ipython",
    "version": 3
   },
   "file_extension": ".py",
   "mimetype": "text/x-python",
   "name": "python",
   "nbconvert_exporter": "python",
   "pygments_lexer": "ipython3",
   "version": "3.11.5"
  }
 },
 "nbformat": 4,
 "nbformat_minor": 5
}
