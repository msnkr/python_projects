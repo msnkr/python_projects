# Test the XGBRegressor model
from sklearn.metrics import mean_absolute_error, mean_squared_error, r2_score

# Generate predictions
y_pred = regt.predict(X_test)

# Calculate and print evaluation metrics
mae = mean_absolute_error(y_test, y_pred)
mse = mean_squared_error(y_test, y_pred)
r2 = r2_score(y_test, y_pred)

print("Mean Absolute Error (MAE):", mae)
print("Mean Squared Error (MSE):", mse)
print("R-squared (R²):", r2)

# Assert that R² is within an acceptable range (e.g., > 0.5 for a decent model)
assert r2 > 0.5, "R-squared is too low, model performance is unsatisfactory."