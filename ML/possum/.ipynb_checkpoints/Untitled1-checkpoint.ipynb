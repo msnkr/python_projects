{
 "cells": [
  {
   "cell_type": "code",
   "execution_count": 49,
   "id": "1cc25deb-cf15-44ed-8b58-44e248ad1596",
   "metadata": {},
   "outputs": [],
   "source": [
    "import pandas as pd\n",
    "import numpy as np\n",
    "\n",
    "from sklearn.model_selection import train_test_split\n",
    "from sklearn.impute import SimpleImputer\n",
    "from sklearn.compose import make_column_transformer\n",
    "from sklearn.preprocessing import LabelEncoder\n",
    "import seaborn as sns"
   ]
  },
  {
   "cell_type": "code",
   "execution_count": 50,
   "id": "6c17b874-70f6-424c-9930-478f113feffc",
   "metadata": {},
   "outputs": [],
   "source": [
    "sns.set_palette(sns.color_palette(\"pastel\"))"
   ]
  },
  {
   "cell_type": "code",
   "execution_count": 51,
   "id": "1cbf0524-cd3a-4eb5-83d6-b5380da3b84f",
   "metadata": {},
   "outputs": [
    {
     "data": {
      "text/html": [
       "<div>\n",
       "<style scoped>\n",
       "    .dataframe tbody tr th:only-of-type {\n",
       "        vertical-align: middle;\n",
       "    }\n",
       "\n",
       "    .dataframe tbody tr th {\n",
       "        vertical-align: top;\n",
       "    }\n",
       "\n",
       "    .dataframe thead th {\n",
       "        text-align: right;\n",
       "    }\n",
       "</style>\n",
       "<table border=\"1\" class=\"dataframe\">\n",
       "  <thead>\n",
       "    <tr style=\"text-align: right;\">\n",
       "      <th></th>\n",
       "      <th>case</th>\n",
       "      <th>site</th>\n",
       "      <th>Pop</th>\n",
       "      <th>sex</th>\n",
       "      <th>age</th>\n",
       "      <th>hdlngth</th>\n",
       "      <th>skullw</th>\n",
       "      <th>totlngth</th>\n",
       "      <th>taill</th>\n",
       "      <th>footlgth</th>\n",
       "      <th>earconch</th>\n",
       "      <th>eye</th>\n",
       "      <th>chest</th>\n",
       "      <th>belly</th>\n",
       "    </tr>\n",
       "  </thead>\n",
       "  <tbody>\n",
       "    <tr>\n",
       "      <th>0</th>\n",
       "      <td>1</td>\n",
       "      <td>1</td>\n",
       "      <td>Vic</td>\n",
       "      <td>m</td>\n",
       "      <td>8.0</td>\n",
       "      <td>94.1</td>\n",
       "      <td>60.4</td>\n",
       "      <td>89.0</td>\n",
       "      <td>36.0</td>\n",
       "      <td>74.5</td>\n",
       "      <td>54.5</td>\n",
       "      <td>15.2</td>\n",
       "      <td>28.0</td>\n",
       "      <td>36.0</td>\n",
       "    </tr>\n",
       "    <tr>\n",
       "      <th>1</th>\n",
       "      <td>2</td>\n",
       "      <td>1</td>\n",
       "      <td>Vic</td>\n",
       "      <td>f</td>\n",
       "      <td>6.0</td>\n",
       "      <td>92.5</td>\n",
       "      <td>57.6</td>\n",
       "      <td>91.5</td>\n",
       "      <td>36.5</td>\n",
       "      <td>72.5</td>\n",
       "      <td>51.2</td>\n",
       "      <td>16.0</td>\n",
       "      <td>28.5</td>\n",
       "      <td>33.0</td>\n",
       "    </tr>\n",
       "    <tr>\n",
       "      <th>2</th>\n",
       "      <td>3</td>\n",
       "      <td>1</td>\n",
       "      <td>Vic</td>\n",
       "      <td>f</td>\n",
       "      <td>6.0</td>\n",
       "      <td>94.0</td>\n",
       "      <td>60.0</td>\n",
       "      <td>95.5</td>\n",
       "      <td>39.0</td>\n",
       "      <td>75.4</td>\n",
       "      <td>51.9</td>\n",
       "      <td>15.5</td>\n",
       "      <td>30.0</td>\n",
       "      <td>34.0</td>\n",
       "    </tr>\n",
       "    <tr>\n",
       "      <th>3</th>\n",
       "      <td>4</td>\n",
       "      <td>1</td>\n",
       "      <td>Vic</td>\n",
       "      <td>f</td>\n",
       "      <td>6.0</td>\n",
       "      <td>93.2</td>\n",
       "      <td>57.1</td>\n",
       "      <td>92.0</td>\n",
       "      <td>38.0</td>\n",
       "      <td>76.1</td>\n",
       "      <td>52.2</td>\n",
       "      <td>15.2</td>\n",
       "      <td>28.0</td>\n",
       "      <td>34.0</td>\n",
       "    </tr>\n",
       "    <tr>\n",
       "      <th>4</th>\n",
       "      <td>5</td>\n",
       "      <td>1</td>\n",
       "      <td>Vic</td>\n",
       "      <td>f</td>\n",
       "      <td>2.0</td>\n",
       "      <td>91.5</td>\n",
       "      <td>56.3</td>\n",
       "      <td>85.5</td>\n",
       "      <td>36.0</td>\n",
       "      <td>71.0</td>\n",
       "      <td>53.2</td>\n",
       "      <td>15.1</td>\n",
       "      <td>28.5</td>\n",
       "      <td>33.0</td>\n",
       "    </tr>\n",
       "  </tbody>\n",
       "</table>\n",
       "</div>"
      ],
      "text/plain": [
       "   case  site  Pop sex  age  hdlngth  skullw  totlngth  taill  footlgth  \\\n",
       "0     1     1  Vic   m  8.0     94.1    60.4      89.0   36.0      74.5   \n",
       "1     2     1  Vic   f  6.0     92.5    57.6      91.5   36.5      72.5   \n",
       "2     3     1  Vic   f  6.0     94.0    60.0      95.5   39.0      75.4   \n",
       "3     4     1  Vic   f  6.0     93.2    57.1      92.0   38.0      76.1   \n",
       "4     5     1  Vic   f  2.0     91.5    56.3      85.5   36.0      71.0   \n",
       "\n",
       "   earconch   eye  chest  belly  \n",
       "0      54.5  15.2   28.0   36.0  \n",
       "1      51.2  16.0   28.5   33.0  \n",
       "2      51.9  15.5   30.0   34.0  \n",
       "3      52.2  15.2   28.0   34.0  \n",
       "4      53.2  15.1   28.5   33.0  "
      ]
     },
     "execution_count": 51,
     "metadata": {},
     "output_type": "execute_result"
    }
   ],
   "source": [
    "df = pd.read_csv(\"../data/possum.csv\")\n",
    "df.head()"
   ]
  },
  {
   "cell_type": "code",
   "execution_count": 52,
   "id": "890bd80e-91f0-4836-a1d7-7ea749aa13eb",
   "metadata": {},
   "outputs": [
    {
     "data": {
      "text/plain": [
       "case        0.000000\n",
       "site        0.000000\n",
       "Pop         0.000000\n",
       "sex         0.000000\n",
       "age         0.019231\n",
       "hdlngth     0.000000\n",
       "skullw      0.000000\n",
       "totlngth    0.000000\n",
       "taill       0.000000\n",
       "footlgth    0.009615\n",
       "earconch    0.000000\n",
       "eye         0.000000\n",
       "chest       0.000000\n",
       "belly       0.000000\n",
       "dtype: float64"
      ]
     },
     "execution_count": 52,
     "metadata": {},
     "output_type": "execute_result"
    }
   ],
   "source": [
    "df.isna().mean()"
   ]
  },
  {
   "cell_type": "code",
   "execution_count": 53,
   "id": "3e8fc67b-04b0-4bc6-bcf3-130a87d6d34d",
   "metadata": {},
   "outputs": [
    {
     "data": {
      "image/png": "[encoded data removed]",
      "text/plain": [
       "<Figure size 640x480 with 1 Axes>"
      ]
     },
     "metadata": {},
     "output_type": "display_data"
    }
   ],
   "source": [
    "sns.histplot(data=df, x=\"age\", kde=True, bins=10);"
   ]
  },
  {
   "cell_type": "markdown",
   "id": "d95bde0b-ee7c-48bc-8e95-d4623dfae5a2",
   "metadata": {},
   "source": [
    "Age takes a slant to the left so lets use median for the missing values"
   ]
  },
  {
   "cell_type": "code",
   "execution_count": 54,
   "id": "bbad535f-09dd-47e2-9e4b-94693e2da403",
   "metadata": {},
   "outputs": [
    {
     "data": {
      "image/png": "[encoded data removed]",
      "text/plain": [
       "<Figure size 640x480 with 1 Axes>"
      ]
     },
     "metadata": {},
     "output_type": "display_data"
    }
   ],
   "source": [
    "sns.histplot(data=df, x=\"footlgth\", kde=True, bins=10);"
   ]
  },
  {
   "cell_type": "markdown",
   "id": "fcf4679f-323c-4f26-935c-05cf01254912",
   "metadata": {},
   "source": [
    "Lets say footlgth takes a skew to the left so lets use the median"
   ]
  },
  {
   "cell_type": "code",
   "execution_count": 55,
   "id": "2b8fdb94-780d-4589-a7e1-9313cb44f15a",
   "metadata": {},
   "outputs": [],
   "source": [
    "X = df.drop(\"hdlngth\", axis=1)\n",
    "y = df[\"hdlngth\"]"
   ]
  },
  {
   "cell_type": "code",
   "execution_count": 56,
   "id": "9c5cf772-0824-4306-b22c-75cf32a453bd",
   "metadata": {},
   "outputs": [],
   "source": [
    "X_train, X_test, y_train, y_test = train_test_split(X, y, test_size=0.3)"
   ]
  },
  {
   "cell_type": "code",
   "execution_count": 57,
   "id": "5c849179-1185-4c13-9bb7-4866c58286d5",
   "metadata": {},
   "outputs": [],
   "source": [
    "ct = make_column_transformer(\n",
    "    (SimpleImputer(strategy=\"median\"), [\"footlgth\", \"age\"]),\n",
    "                            remainder=\"passthrough\")"
   ]
  },
  {
   "cell_type": "code",
   "execution_count": 58,
   "id": "d7948809-98b7-4c23-8f26-b2a92f966a9d",
   "metadata": {},
   "outputs": [],
   "source": [
    "ct.set_output(transform=\"pandas\");"
   ]
  },
  {
   "cell_type": "code",
   "execution_count": 59,
   "id": "3f40d6e6-cc3a-42c6-a26a-7a30979d19ff",
   "metadata": {},
   "outputs": [],
   "source": [
    "ct.fit(X_train);"
   ]
  },
  {
   "cell_type": "code",
   "execution_count": 60,
   "id": "7a6f2627-b3af-4711-b02c-0af8c34fc56a",
   "metadata": {},
   "outputs": [],
   "source": [
    "X_train = ct.transform(X_train)\n",
    "X_test = ct.transform(X_test)"
   ]
  },
  {
   "cell_type": "code",
   "execution_count": 61,
   "id": "8ae56cac-fe50-4f3d-9a2c-d42886641e4a",
   "metadata": {},
   "outputs": [
    {
     "data": {
      "text/plain": [
       "simpleimputer__footlgth    0.0\n",
       "simpleimputer__age         0.0\n",
       "remainder__case            0.0\n",
       "remainder__site            0.0\n",
       "remainder__Pop             0.0\n",
       "remainder__sex             0.0\n",
       "remainder__skullw          0.0\n",
       "remainder__totlngth        0.0\n",
       "remainder__taill           0.0\n",
       "remainder__earconch        0.0\n",
       "remainder__eye             0.0\n",
       "remainder__chest           0.0\n",
       "remainder__belly           0.0\n",
       "dtype: float64"
      ]
     },
     "execution_count": 61,
     "metadata": {},
     "output_type": "execute_result"
    }
   ],
   "source": [
    "X_train.isna().mean()"
   ]
  },
  {
   "cell_type": "code",
   "execution_count": 63,
   "id": "cd1d59a5-8b9d-42a9-8948-2573875e2bdc",
   "metadata": {},
   "outputs": [
    {
     "data": {
      "text/plain": [
       "array(['simpleimputer__footlgth', 'simpleimputer__age', 'remainder__case',\n",
       "       'remainder__site', 'remainder__Pop', 'remainder__sex',\n",
       "       'remainder__skullw', 'remainder__totlngth', 'remainder__taill',\n",
       "       'remainder__earconch', 'remainder__eye', 'remainder__chest',\n",
       "       'remainder__belly'], dtype=object)"
      ]
     },
     "execution_count": 63,
     "metadata": {},
     "output_type": "execute_result"
    }
   ],
   "source": [
    "ct.get_feature_names_out()"
   ]
  },
  {
   "cell_type": "code",
   "execution_count": 64,
   "id": "b7de3d64-1b5f-44ed-a322-772de35ef6d6",
   "metadata": {},
   "outputs": [
    {
     "data": {
      "text/plain": [
       "simpleimputer__footlgth    float64\n",
       "simpleimputer__age         float64\n",
       "remainder__case              int64\n",
       "remainder__site              int64\n",
       "remainder__Pop              object\n",
       "remainder__sex              object\n",
       "remainder__skullw          float64\n",
       "remainder__totlngth        float64\n",
       "remainder__taill           float64\n",
       "remainder__earconch        float64\n",
       "remainder__eye             float64\n",
       "remainder__chest           float64\n",
       "remainder__belly           float64\n",
       "dtype: object"
      ]
     },
     "execution_count": 64,
     "metadata": {},
     "output_type": "execute_result"
    }
   ],
   "source": [
    "X_train.dtypes"
   ]
  }
 ],
 "metadata": {
  "kernelspec": {
   "display_name": "Python 3 (ipykernel)",
   "language": "python",
   "name": "python3"
  },
  "language_info": {
   "codemirror_mode": {
    "name": "ipython",
    "version": 3
   },
   "file_extension": ".py",
   "mimetype": "text/x-python",
   "name": "python",
   "nbconvert_exporter": "python",
   "pygments_lexer": "ipython3",
   "version": "3.9.18"
  }
 },
 "nbformat": 4,
 "nbformat_minor": 5
}
