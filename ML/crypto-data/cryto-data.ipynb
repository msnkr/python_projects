{
 "cells": [
  {
   "cell_type": "code",
   "execution_count": 1,
   "id": "1c77eb17",
   "metadata": {},
   "outputs": [],
   "source": [
    "import pandas as pd\n",
    "import numpy as np\n",
    "import matplotlib.pyplot as plt"
   ]
  },
  {
   "cell_type": "code",
   "execution_count": 108,
   "id": "50d98b4c",
   "metadata": {},
   "outputs": [
    {
     "data": {
      "text/html": [
       "<div>\n",
       "<style scoped>\n",
       "    .dataframe tbody tr th:only-of-type {\n",
       "        vertical-align: middle;\n",
       "    }\n",
       "\n",
       "    .dataframe tbody tr th {\n",
       "        vertical-align: top;\n",
       "    }\n",
       "\n",
       "    .dataframe thead th {\n",
       "        text-align: right;\n",
       "    }\n",
       "</style>\n",
       "<table border=\"1\" class=\"dataframe\">\n",
       "  <thead>\n",
       "    <tr style=\"text-align: right;\">\n",
       "      <th></th>\n",
       "      <th>Date</th>\n",
       "      <th>Open</th>\n",
       "      <th>High</th>\n",
       "      <th>Low</th>\n",
       "      <th>Close</th>\n",
       "      <th>Adj Close</th>\n",
       "      <th>Volume</th>\n",
       "    </tr>\n",
       "  </thead>\n",
       "  <tbody>\n",
       "    <tr>\n",
       "      <th>0</th>\n",
       "      <td>2014-12-29</td>\n",
       "      <td>310.914001</td>\n",
       "      <td>320.434998</td>\n",
       "      <td>257.612000</td>\n",
       "      <td>264.195007</td>\n",
       "      <td>264.195007</td>\n",
       "      <td>118523600</td>\n",
       "    </tr>\n",
       "    <tr>\n",
       "      <th>1</th>\n",
       "      <td>2015-01-05</td>\n",
       "      <td>265.084015</td>\n",
       "      <td>298.753998</td>\n",
       "      <td>265.039001</td>\n",
       "      <td>265.660004</td>\n",
       "      <td>265.660004</td>\n",
       "      <td>164241500</td>\n",
       "    </tr>\n",
       "    <tr>\n",
       "      <th>2</th>\n",
       "      <td>2015-01-12</td>\n",
       "      <td>266.145996</td>\n",
       "      <td>272.203003</td>\n",
       "      <td>171.509995</td>\n",
       "      <td>210.339005</td>\n",
       "      <td>210.339005</td>\n",
       "      <td>363112212</td>\n",
       "    </tr>\n",
       "    <tr>\n",
       "      <th>3</th>\n",
       "      <td>2015-01-19</td>\n",
       "      <td>211.470993</td>\n",
       "      <td>255.074005</td>\n",
       "      <td>205.153000</td>\n",
       "      <td>253.718002</td>\n",
       "      <td>253.718002</td>\n",
       "      <td>189165500</td>\n",
       "    </tr>\n",
       "    <tr>\n",
       "      <th>4</th>\n",
       "      <td>2015-01-26</td>\n",
       "      <td>254.078995</td>\n",
       "      <td>309.384003</td>\n",
       "      <td>212.014999</td>\n",
       "      <td>226.972000</td>\n",
       "      <td>226.972000</td>\n",
       "      <td>306840500</td>\n",
       "    </tr>\n",
       "  </tbody>\n",
       "</table>\n",
       "</div>"
      ],
      "text/plain": [
       "         Date        Open        High         Low       Close   Adj Close  \\\n",
       "0  2014-12-29  310.914001  320.434998  257.612000  264.195007  264.195007   \n",
       "1  2015-01-05  265.084015  298.753998  265.039001  265.660004  265.660004   \n",
       "2  2015-01-12  266.145996  272.203003  171.509995  210.339005  210.339005   \n",
       "3  2015-01-19  211.470993  255.074005  205.153000  253.718002  253.718002   \n",
       "4  2015-01-26  254.078995  309.384003  212.014999  226.972000  226.972000   \n",
       "\n",
       "      Volume  \n",
       "0  118523600  \n",
       "1  164241500  \n",
       "2  363112212  \n",
       "3  189165500  \n",
       "4  306840500  "
      ]
     },
     "execution_count": 108,
     "metadata": {},
     "output_type": "execute_result"
    }
   ],
   "source": [
    "# Get data\n",
    "data = pd.read_csv(\"BTC-USD.csv\")\n",
    "data.head()"
   ]
  },
  {
   "cell_type": "code",
   "execution_count": 81,
   "id": "fa79f39e",
   "metadata": {},
   "outputs": [],
   "source": [
    "# Get the data over 2020\n",
    "data_over_2020 = data[data['Date'].dt.year > 2020]"
   ]
  },
  {
   "cell_type": "code",
   "execution_count": 118,
   "id": "539ea0a7",
   "metadata": {},
   "outputs": [
    {
     "data": {
      "text/plain": [
       "['Solarize_Light2',\n",
       " '_classic_test_patch',\n",
       " '_mpl-gallery',\n",
       " '_mpl-gallery-nogrid',\n",
       " 'bmh',\n",
       " 'classic',\n",
       " 'dark_background',\n",
       " 'fast',\n",
       " 'fivethirtyeight',\n",
       " 'ggplot',\n",
       " 'grayscale',\n",
       " 'seaborn-v0_8',\n",
       " 'seaborn-v0_8-bright',\n",
       " 'seaborn-v0_8-colorblind',\n",
       " 'seaborn-v0_8-dark',\n",
       " 'seaborn-v0_8-dark-palette',\n",
       " 'seaborn-v0_8-darkgrid',\n",
       " 'seaborn-v0_8-deep',\n",
       " 'seaborn-v0_8-muted',\n",
       " 'seaborn-v0_8-notebook',\n",
       " 'seaborn-v0_8-paper',\n",
       " 'seaborn-v0_8-pastel',\n",
       " 'seaborn-v0_8-poster',\n",
       " 'seaborn-v0_8-talk',\n",
       " 'seaborn-v0_8-ticks',\n",
       " 'seaborn-v0_8-white',\n",
       " 'seaborn-v0_8-whitegrid',\n",
       " 'tableau-colorblind10']"
      ]
     },
     "execution_count": 118,
     "metadata": {},
     "output_type": "execute_result"
    }
   ],
   "source": [
    "plt.style.available"
   ]
  },
  {
   "cell_type": "code",
   "execution_count": 126,
   "id": "ff873adb",
   "metadata": {},
   "outputs": [
    {
     "ename": "SyntaxError",
     "evalue": "invalid syntax (242652182.py, line 20)",
     "output_type": "error",
     "traceback": [
      "\u001b[1;36m  Cell \u001b[1;32mIn[126], line 20\u001b[1;36m\u001b[0m\n\u001b[1;33m    ax1.legend(*)\u001b[0m\n\u001b[1;37m                ^\u001b[0m\n\u001b[1;31mSyntaxError\u001b[0m\u001b[1;31m:\u001b[0m invalid syntax\n"
     ]
    }
   ],
   "source": [
    "# Plot the data for high and low\n",
    "plt.style.use(\"dark_background\")\n",
    "fig, (ax1, ax2) = plt.subplots(nrows=2, ncols=1  ,figsize=(10, 6), sharex=True)\n",
    "\n",
    "ax1_high = ax1.plot(data_over_2020[\"Date\"], data_over_2020[\"High\"], c=\"red\")\n",
    "ax1_low = ax1.plot(data_over_2020[\"Date\"], data_over_2020[\"Low\"]);\n",
    "\n",
    "ax2_open = ax2.plot(data_over_2020[\"Date\"], data_over_2020[\"Open\"], c=\"red\")\n",
    "ax2_close = ax2.plot(data_over_2020[\"Date\"], data_over_2020[\"Close\"])\n",
    "\n",
    "ax1.set(title=\"High vs Low\")\n",
    "ax2.set(title=\"Open vs Close\")\n",
    "\n",
    "ax1.axhline(data_over_2020[\"High\"].mean(), linestyle=\"--\", c=\"red\")\n",
    "ax1.axhline(data_over_2020[\"Low\"].mean(), linestyle=\"--\");\n",
    "\n",
    "ax2.axhline(data_over_2020[\"High\"].mean(), linestyle=\"--\", c=\"red\")\n",
    "ax2.axhline(data_over_2020[\"Low\"].mean(), linestyle=\"--\");\n"
   ]
  },
  {
   "cell_type": "code",
   "execution_count": null,
   "id": "50b4d4af",
   "metadata": {},
   "outputs": [],
   "source": []
  }
 ],
 "metadata": {
  "kernelspec": {
   "display_name": "Python 3 (ipykernel)",
   "language": "python",
   "name": "python3"
  },
  "language_info": {
   "codemirror_mode": {
    "name": "ipython",
    "version": 3
   },
   "file_extension": ".py",
   "mimetype": "text/x-python",
   "name": "python",
   "nbconvert_exporter": "python",
   "pygments_lexer": "ipython3",
   "version": "3.11.5"
  }
 },
 "nbformat": 4,
 "nbformat_minor": 5
}
