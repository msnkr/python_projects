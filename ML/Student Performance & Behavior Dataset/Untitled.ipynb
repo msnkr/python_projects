{
 "cells": [
  {
   "cell_type": "code",
   "execution_count": null,
   "id": "851e593a-23dd-4425-a0c3-fe0292a546bb",
   "metadata": {},
   "outputs": [],
   "source": [
    "import pandas as pd\n",
    "import numpy as np\n",
    "import matplotlib.pyplot as plt\n",
    "import seaborn as sn\n",
    "from sklearn.model_selection import train_test_split"
   ]
  },
  {
   "cell_type": "code",
   "execution_count": null,
   "id": "ff424957-6119-44eb-84d3-b92ded3168e0",
   "metadata": {},
   "outputs": [],
   "source": [
    "plt.rcParams[\"figure.figsize\"] = [14, 8]"
   ]
  },
  {
   "cell_type": "code",
   "execution_count": null,
   "id": "2ec8ccd1-375a-47d1-bc42-41aad1b03258",
   "metadata": {},
   "outputs": [],
   "source": [
    "df = pd.read_csv(\"./archive/Students_Grading_Dataset.csv\")"
   ]
  },
  {
   "cell_type": "code",
   "execution_count": null,
   "id": "203669af-e433-4011-8cfa-625b3edfab46",
   "metadata": {},
   "outputs": [],
   "source": [
    "df.head()"
   ]
  },
  {
   "cell_type": "code",
   "execution_count": null,
   "id": "d6311dbc-f895-4751-a253-e4ab4acc16ed",
   "metadata": {},
   "outputs": [],
   "source": [
    "len(df)"
   ]
  },
  {
   "cell_type": "code",
   "execution_count": null,
   "id": "afc07e77",
   "metadata": {},
   "outputs": [],
   "source": [
    "df.drop([\"Student_ID\", \"First_Name\", \"Last_Name\", \"Email\"], inplace=True, axis=1)\n"
   ]
  },
  {
   "cell_type": "code",
   "execution_count": null,
   "id": "509b68ff-b940-4767-8bc5-7f35b6b62108",
   "metadata": {},
   "outputs": [],
   "source": [
    "df[\"Department\"].value_counts()"
   ]
  },
  {
   "cell_type": "code",
   "execution_count": null,
   "id": "ea825af8-2d48-4aca-b917-864bc913ff53",
   "metadata": {},
   "outputs": [],
   "source": [
    "sn.histplot(x=df[\"Department\"], kde=True, hue=df[\"Gender\"]);"
   ]
  },
  {
   "cell_type": "code",
   "execution_count": null,
   "id": "7d28d5f9-c183-46f2-a5dd-c3f9a0e4b15a",
   "metadata": {},
   "outputs": [],
   "source": [
    "df.Gender.value_counts()"
   ]
  },
  {
   "cell_type": "code",
   "execution_count": null,
   "id": "848ba07f-bf0c-4916-be66-ae79fea5dfb7",
   "metadata": {},
   "outputs": [],
   "source": [
    "df.isna().any()"
   ]
  },
  {
   "cell_type": "code",
   "execution_count": null,
   "id": "58713cbf-8ecb-4230-8fa9-22eeeb918717",
   "metadata": {},
   "outputs": [],
   "source": [
    "sn.histplot(x=df[\"Stress_Level (1-10)\"], kde=True, hue=df[\"Gender\"], binwidth=1);"
   ]
  },
  {
   "cell_type": "code",
   "execution_count": null,
   "id": "4e1bc718-1c99-4841-89d3-71d388f9960e",
   "metadata": {},
   "outputs": [],
   "source": [
    "sn.histplot(x=df[\"Stress_Level (1-10)\"], kde=True, hue=df[\"Family_Income_Level\"], binwidth=1);"
   ]
  },
  {
   "cell_type": "code",
   "execution_count": null,
   "id": "2956a6a8",
   "metadata": {},
   "outputs": [],
   "source": [
    "sn.scatterplot(x=df[\"Projects_Score\"], y=df[\"Study_Hours_per_Week\"], hue=df[\"Attendance (%)\"]);"
   ]
  },
  {
   "cell_type": "code",
   "execution_count": null,
   "id": "d389e9b0",
   "metadata": {},
   "outputs": [],
   "source": [
    "fig, ax = plt.subplots(1, 2)\n",
    "\n",
    "sn.scatterplot(x=df[\"Midterm_Score\"], y=df[\"Final_Score\"], hue=df[\"Family_Income_Level\"], ax=ax[0])\n",
    "\n",
    "sn.scatterplot(x=df[\"Midterm_Score\"], y=df[\"Final_Score\"], hue=df[\"Extracurricular_Activities\"], ax=ax[1])\n",
    "plt.tight_layout()"
   ]
  },
  {
   "cell_type": "code",
   "execution_count": null,
   "id": "4c1b4b60",
   "metadata": {},
   "outputs": [],
   "source": [
    "fig, ax = plt.subplots(1, 2)\n",
    "\n",
    "sn.scatterplot(x=df[\"Midterm_Score\"], y=df[\"Final_Score\"], hue=df[\"Parent_Education_Level\"], ax=ax[0])\n",
    "\n",
    "sn.scatterplot(x=df[\"Midterm_Score\"], y=df[\"Final_Score\"], hue=df[\"Quizzes_Avg\"], ax=ax[1])\n",
    "plt.tight_layout()"
   ]
  },
  {
   "cell_type": "code",
   "execution_count": null,
   "id": "387953d1",
   "metadata": {},
   "outputs": [],
   "source": [
    "df.isna().any()"
   ]
  },
  {
   "cell_type": "code",
   "execution_count": null,
   "id": "133c1192",
   "metadata": {},
   "outputs": [],
   "source": [
    "df.isna().sum()"
   ]
  },
  {
   "cell_type": "code",
   "execution_count": null,
   "id": "500ea0d6",
   "metadata": {},
   "outputs": [],
   "source": [
    "df[\"Assignments_Avg\"].fillna(df[\"Assignments_Avg\"].mean(), inplace=True)"
   ]
  },
  {
   "cell_type": "code",
   "execution_count": null,
   "id": "773a5442",
   "metadata": {},
   "outputs": [],
   "source": [
    "df[\"Attendance (%)\"].fillna(df[\"Attendance (%)\"].mean(), inplace=True)"
   ]
  },
  {
   "cell_type": "code",
   "execution_count": null,
   "id": "54dde782",
   "metadata": {},
   "outputs": [],
   "source": [
    "sn.histplot(x=df[\"Parent_Education_Level\"], hue=df[\"Family_Income_Level\"]);"
   ]
  },
  {
   "cell_type": "code",
   "execution_count": null,
   "id": "646900f9",
   "metadata": {},
   "outputs": [],
   "source": [
    "df.isna().sum()"
   ]
  },
  {
   "cell_type": "markdown",
   "id": "809adca4",
   "metadata": {},
   "source": [
    "Lets fill Parent_Education_Level with blank for now\n"
   ]
  },
  {
   "cell_type": "code",
   "execution_count": null,
   "id": "0b95df92",
   "metadata": {},
   "outputs": [],
   "source": [
    "known_data = df[df[\"Parent_Education_Level\"].notna()]\n",
    "missing_data = df[df[\"Parent_Education_Level\"].isna()]"
   ]
  },
  {
   "cell_type": "code",
   "execution_count": null,
   "id": "b7c6961f",
   "metadata": {},
   "outputs": [],
   "source": [
    "len(known_data), len(missing_data)"
   ]
  },
  {
   "cell_type": "code",
   "execution_count": null,
   "id": "afbf4611",
   "metadata": {},
   "outputs": [],
   "source": [
    "cat_labels = [label for label, content in df.items() if pd.api.types.is_object_dtype(content)]"
   ]
  },
  {
   "cell_type": "code",
   "execution_count": null,
   "id": "919923a1",
   "metadata": {},
   "outputs": [],
   "source": [
    "cat_labels"
   ]
  },
  {
   "cell_type": "code",
   "execution_count": null,
   "id": "be2fd869",
   "metadata": {},
   "outputs": [],
   "source": []
  }
 ],
 "metadata": {
  "kernelspec": {
   "display_name": "py38",
   "language": "python",
   "name": "python3"
  },
  "language_info": {
   "codemirror_mode": {
    "name": "ipython",
    "version": 3
   },
   "file_extension": ".py",
   "mimetype": "text/x-python",
   "name": "python",
   "nbconvert_exporter": "python",
   "pygments_lexer": "ipython3",
   "version": "3.8.20"
  }
 },
 "nbformat": 4,
 "nbformat_minor": 5
}
