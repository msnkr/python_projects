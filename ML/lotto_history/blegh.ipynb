{
 "cells": [
  {
   "cell_type": "code",
   "execution_count": 1,
   "id": "cf764aa2-307f-41e7-950d-d6f52b1873bc",
   "metadata": {},
   "outputs": [],
   "source": [
    "import pandas as pd\n",
    "import numpy as np\n",
    "import matplotlib.pyplot as plt"
   ]
  },
  {
   "cell_type": "code",
   "execution_count": 2,
   "id": "70d96db8-1433-4a50-8bd2-627484746655",
   "metadata": {},
   "outputs": [
    {
     "data": {
      "text/plain": [
       "Date          2016-01-022016-01-062016-01-092016-01-132016-0...\n",
       "Ball_1                                                     4389\n",
       "Ball_2                                                     8592\n",
       "Ball_3                                                    12674\n",
       "Ball_4                                                    17043\n",
       "Ball_5                                                    20897\n",
       "Ball_6                                                    25090\n",
       "Ball_Bonus                                                14276\n",
       "dtype: object"
      ]
     },
     "execution_count": 2,
     "metadata": {},
     "output_type": "execute_result"
    }
   ],
   "source": [
    "df = pd.read_csv(\"../data/lotto_history.csv\")\n",
    "df.sum()"
   ]
  },
  {
   "cell_type": "code",
   "execution_count": 3,
   "id": "2a40288c-9dce-4294-817b-07646e3b0e7e",
   "metadata": {},
   "outputs": [
    {
     "data": {
      "text/html": [
       "<div>\n",
       "<style scoped>\n",
       "    .dataframe tbody tr th:only-of-type {\n",
       "        vertical-align: middle;\n",
       "    }\n",
       "\n",
       "    .dataframe tbody tr th {\n",
       "        vertical-align: top;\n",
       "    }\n",
       "\n",
       "    .dataframe thead th {\n",
       "        text-align: right;\n",
       "    }\n",
       "</style>\n",
       "<table border=\"1\" class=\"dataframe\">\n",
       "  <thead>\n",
       "    <tr style=\"text-align: right;\">\n",
       "      <th></th>\n",
       "      <th>Date</th>\n",
       "      <th>Ball_1</th>\n",
       "      <th>Ball_2</th>\n",
       "      <th>Ball_3</th>\n",
       "      <th>Ball_4</th>\n",
       "      <th>Ball_5</th>\n",
       "      <th>Ball_6</th>\n",
       "      <th>Ball_Bonus</th>\n",
       "    </tr>\n",
       "  </thead>\n",
       "  <tbody>\n",
       "    <tr>\n",
       "      <th>0</th>\n",
       "      <td>2016-01-02</td>\n",
       "      <td>12</td>\n",
       "      <td>25</td>\n",
       "      <td>29</td>\n",
       "      <td>40</td>\n",
       "      <td>48</td>\n",
       "      <td>56</td>\n",
       "      <td>52</td>\n",
       "    </tr>\n",
       "    <tr>\n",
       "      <th>1</th>\n",
       "      <td>2016-01-06</td>\n",
       "      <td>8</td>\n",
       "      <td>30</td>\n",
       "      <td>40</td>\n",
       "      <td>50</td>\n",
       "      <td>54</td>\n",
       "      <td>57</td>\n",
       "      <td>13</td>\n",
       "    </tr>\n",
       "    <tr>\n",
       "      <th>2</th>\n",
       "      <td>2016-01-09</td>\n",
       "      <td>26</td>\n",
       "      <td>27</td>\n",
       "      <td>46</td>\n",
       "      <td>47</td>\n",
       "      <td>52</td>\n",
       "      <td>58</td>\n",
       "      <td>48</td>\n",
       "    </tr>\n",
       "    <tr>\n",
       "      <th>3</th>\n",
       "      <td>2016-01-13</td>\n",
       "      <td>4</td>\n",
       "      <td>12</td>\n",
       "      <td>38</td>\n",
       "      <td>46</td>\n",
       "      <td>57</td>\n",
       "      <td>59</td>\n",
       "      <td>8</td>\n",
       "    </tr>\n",
       "    <tr>\n",
       "      <th>4</th>\n",
       "      <td>2016-01-16</td>\n",
       "      <td>1</td>\n",
       "      <td>8</td>\n",
       "      <td>12</td>\n",
       "      <td>25</td>\n",
       "      <td>43</td>\n",
       "      <td>52</td>\n",
       "      <td>38</td>\n",
       "    </tr>\n",
       "  </tbody>\n",
       "</table>\n",
       "</div>"
      ],
      "text/plain": [
       "         Date  Ball_1  Ball_2  Ball_3  Ball_4  Ball_5  Ball_6  Ball_Bonus\n",
       "0  2016-01-02      12      25      29      40      48      56          52\n",
       "1  2016-01-06       8      30      40      50      54      57          13\n",
       "2  2016-01-09      26      27      46      47      52      58          48\n",
       "3  2016-01-13       4      12      38      46      57      59           8\n",
       "4  2016-01-16       1       8      12      25      43      52          38"
      ]
     },
     "execution_count": 3,
     "metadata": {},
     "output_type": "execute_result"
    }
   ],
   "source": [
    "df.head()"
   ]
  },
  {
   "cell_type": "code",
   "execution_count": 37,
   "id": "65717dca-2a1b-4b9b-a7fa-17d8c60c1c70",
   "metadata": {},
   "outputs": [
    {
     "data": {
      "text/plain": [
       "Ball_1\n",
       "1     46\n",
       "4     43\n",
       "2     41\n",
       "5     37\n",
       "3     34\n",
       "7     33\n",
       "8     27\n",
       "6     26\n",
       "10    23\n",
       "11    21\n",
       "13    15\n",
       "12    15\n",
       "14    13\n",
       "15    12\n",
       "9     12\n",
       "16    11\n",
       "18    11\n",
       "20    10\n",
       "19     8\n",
       "23     6\n",
       "17     6\n",
       "21     5\n",
       "22     5\n",
       "24     4\n",
       "25     4\n",
       "26     3\n",
       "30     3\n",
       "29     2\n",
       "27     2\n",
       "34     2\n",
       "33     1\n",
       "39     1\n",
       "36     1\n",
       "28     1\n",
       "32     1\n",
       "Name: count, dtype: int64"
      ]
     },
     "execution_count": 37,
     "metadata": {},
     "output_type": "execute_result"
    }
   ],
   "source": [
    "df[\"Ball_1\"].value_counts()"
   ]
  },
  {
   "cell_type": "code",
   "execution_count": 18,
   "id": "e571dfba-a05f-491a-95fb-b9f250ba62ff",
   "metadata": {},
   "outputs": [
    {
     "data": {
      "text/plain": [
       "29"
      ]
     },
     "execution_count": 18,
     "metadata": {},
     "output_type": "execute_result"
    }
   ],
   "source": [
    "df[\"Ball_2\"].value_counts()[8]"
   ]
  },
  {
   "cell_type": "code",
   "execution_count": 20,
   "id": "1b32e411",
   "metadata": {},
   "outputs": [
    {
     "data": {
      "text/plain": [
       "22"
      ]
     },
     "execution_count": 20,
     "metadata": {},
     "output_type": "execute_result"
    }
   ],
   "source": [
    "df[\"Ball_3\"].value_counts()[21]"
   ]
  },
  {
   "cell_type": "code",
   "execution_count": 36,
   "id": "aa4c618a",
   "metadata": {},
   "outputs": [
    {
     "data": {
      "text/plain": [
       "Ball_4\n",
       "39    25\n",
       "32    24\n",
       "38    21\n",
       "42    21\n",
       "36    20\n",
       "34    20\n",
       "37    19\n",
       "35    18\n",
       "45    18\n",
       "41    17\n",
       "29    16\n",
       "43    15\n",
       "40    15\n",
       "31    14\n",
       "26    14\n",
       "47    13\n",
       "46    12\n",
       "23    12\n",
       "27    12\n",
       "24    12\n",
       "30    11\n",
       "44    11\n",
       "19    11\n",
       "33    11\n",
       "25    10\n",
       "28     9\n",
       "50     8\n",
       "52     7\n",
       "48     6\n",
       "51     6\n",
       "22     6\n",
       "49     6\n",
       "17     5\n",
       "53     5\n",
       "20     5\n",
       "12     4\n",
       "11     3\n",
       "54     3\n",
       "21     3\n",
       "18     3\n",
       "16     2\n",
       "9      2\n",
       "10     2\n",
       "55     2\n",
       "57     2\n",
       "4      1\n",
       "15     1\n",
       "14     1\n",
       "13     1\n",
       "Name: count, dtype: int64"
      ]
     },
     "execution_count": 36,
     "metadata": {},
     "output_type": "execute_result"
    }
   ],
   "source": [
    "df[\"Ball_4\"].value_counts()"
   ]
  },
  {
   "cell_type": "code",
   "execution_count": 35,
   "id": "8a27f10d",
   "metadata": {},
   "outputs": [
    {
     "data": {
      "text/plain": [
       "Ball_5\n",
       "40    25\n",
       "52    25\n",
       "41    24\n",
       "46    23\n",
       "51    23\n",
       "54    23\n",
       "47    22\n",
       "42    20\n",
       "43    20\n",
       "48    19\n",
       "44    19\n",
       "55    18\n",
       "45    18\n",
       "37    17\n",
       "49    16\n",
       "35    15\n",
       "56    14\n",
       "38    14\n",
       "53    12\n",
       "50    12\n",
       "32    10\n",
       "39     9\n",
       "33     9\n",
       "36     9\n",
       "34     9\n",
       "29     7\n",
       "31     7\n",
       "28     6\n",
       "30     6\n",
       "27     5\n",
       "57     4\n",
       "25     4\n",
       "24     3\n",
       "23     3\n",
       "58     3\n",
       "26     2\n",
       "21     2\n",
       "20     2\n",
       "12     1\n",
       "15     1\n",
       "19     1\n",
       "13     1\n",
       "17     1\n",
       "14     1\n",
       "Name: count, dtype: int64"
      ]
     },
     "execution_count": 35,
     "metadata": {},
     "output_type": "execute_result"
    }
   ],
   "source": [
    "df[\"Ball_5\"].value_counts()"
   ]
  },
  {
   "cell_type": "code",
   "execution_count": 34,
   "id": "e7cfbb85",
   "metadata": {},
   "outputs": [
    {
     "data": {
      "text/plain": [
       "37"
      ]
     },
     "execution_count": 34,
     "metadata": {},
     "output_type": "execute_result"
    }
   ],
   "source": [
    "df[\"Ball_6\"].value_counts()[56]"
   ]
  },
  {
   "cell_type": "code",
   "execution_count": 31,
   "id": "a69fd688",
   "metadata": {},
   "outputs": [
    {
     "data": {
      "text/plain": [
       "17"
      ]
     },
     "execution_count": 31,
     "metadata": {},
     "output_type": "execute_result"
    }
   ],
   "source": [
    "df[\"Ball_Bonus\"].value_counts()[38]"
   ]
  },
  {
   "cell_type": "code",
   "execution_count": null,
   "id": "75c2ebe2",
   "metadata": {},
   "outputs": [],
   "source": []
  }
 ],
 "metadata": {
  "kernelspec": {
   "display_name": "Python 3 (ipykernel)",
   "language": "python",
   "name": "python3"
  },
  "language_info": {
   "codemirror_mode": {
    "name": "ipython",
    "version": 3
   },
   "file_extension": ".py",
   "mimetype": "text/x-python",
   "name": "python",
   "nbconvert_exporter": "python",
   "pygments_lexer": "ipython3",
   "version": "3.11.5"
  }
 },
 "nbformat": 4,
 "nbformat_minor": 5
}
