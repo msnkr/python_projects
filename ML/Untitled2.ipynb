{
 "cells": [
  {
   "cell_type": "code",
   "execution_count": 20,
   "id": "3501c365-4c2a-4126-b1b6-3880b02a21d3",
   "metadata": {},
   "outputs": [],
   "source": [
    "import tensorflow as tf\n",
    "from tensorflow.keras.models import Sequential\n",
    "from tensorflow.keras.layers import Dense\n",
    "\n",
    "from sklearn.model_selection import train_test_split\n",
    "from sklearn.datasets import load_iris\n",
    "from sklearn.preprocessing import StandardScaler\n",
    "\n",
    "import numpy as np\n",
    "import pandas as pd"
   ]
  },
  {
   "cell_type": "code",
   "execution_count": 21,
   "id": "44c87a99-9300-420d-bd76-597fb1bec40e",
   "metadata": {},
   "outputs": [],
   "source": [
    "df = pd.read_csv(\"data/heart.csv\")"
   ]
  },
  {
   "cell_type": "code",
   "execution_count": 22,
   "id": "0ddd9538-e4f4-4cca-bc57-20294da44822",
   "metadata": {},
   "outputs": [
    {
     "data": {
      "text/html": [
       "<div>\n",
       "<style scoped>\n",
       "    .dataframe tbody tr th:only-of-type {\n",
       "        vertical-align: middle;\n",
       "    }\n",
       "\n",
       "    .dataframe tbody tr th {\n",
       "        vertical-align: top;\n",
       "    }\n",
       "\n",
       "    .dataframe thead th {\n",
       "        text-align: right;\n",
       "    }\n",
       "</style>\n",
       "<table border=\"1\" class=\"dataframe\">\n",
       "  <thead>\n",
       "    <tr style=\"text-align: right;\">\n",
       "      <th></th>\n",
       "      <th>age</th>\n",
       "      <th>sex</th>\n",
       "      <th>cp</th>\n",
       "      <th>trestbps</th>\n",
       "      <th>chol</th>\n",
       "      <th>fbs</th>\n",
       "      <th>restecg</th>\n",
       "      <th>thalach</th>\n",
       "      <th>exang</th>\n",
       "      <th>oldpeak</th>\n",
       "      <th>slope</th>\n",
       "      <th>ca</th>\n",
       "      <th>thal</th>\n",
       "      <th>target</th>\n",
       "    </tr>\n",
       "  </thead>\n",
       "  <tbody>\n",
       "    <tr>\n",
       "      <th>0</th>\n",
       "      <td>52</td>\n",
       "      <td>1</td>\n",
       "      <td>0</td>\n",
       "      <td>125</td>\n",
       "      <td>212</td>\n",
       "      <td>0</td>\n",
       "      <td>1</td>\n",
       "      <td>168</td>\n",
       "      <td>0</td>\n",
       "      <td>1.0</td>\n",
       "      <td>2</td>\n",
       "      <td>2</td>\n",
       "      <td>3</td>\n",
       "      <td>0</td>\n",
       "    </tr>\n",
       "    <tr>\n",
       "      <th>1</th>\n",
       "      <td>53</td>\n",
       "      <td>1</td>\n",
       "      <td>0</td>\n",
       "      <td>140</td>\n",
       "      <td>203</td>\n",
       "      <td>1</td>\n",
       "      <td>0</td>\n",
       "      <td>155</td>\n",
       "      <td>1</td>\n",
       "      <td>3.1</td>\n",
       "      <td>0</td>\n",
       "      <td>0</td>\n",
       "      <td>3</td>\n",
       "      <td>0</td>\n",
       "    </tr>\n",
       "    <tr>\n",
       "      <th>2</th>\n",
       "      <td>70</td>\n",
       "      <td>1</td>\n",
       "      <td>0</td>\n",
       "      <td>145</td>\n",
       "      <td>174</td>\n",
       "      <td>0</td>\n",
       "      <td>1</td>\n",
       "      <td>125</td>\n",
       "      <td>1</td>\n",
       "      <td>2.6</td>\n",
       "      <td>0</td>\n",
       "      <td>0</td>\n",
       "      <td>3</td>\n",
       "      <td>0</td>\n",
       "    </tr>\n",
       "    <tr>\n",
       "      <th>3</th>\n",
       "      <td>61</td>\n",
       "      <td>1</td>\n",
       "      <td>0</td>\n",
       "      <td>148</td>\n",
       "      <td>203</td>\n",
       "      <td>0</td>\n",
       "      <td>1</td>\n",
       "      <td>161</td>\n",
       "      <td>0</td>\n",
       "      <td>0.0</td>\n",
       "      <td>2</td>\n",
       "      <td>1</td>\n",
       "      <td>3</td>\n",
       "      <td>0</td>\n",
       "    </tr>\n",
       "    <tr>\n",
       "      <th>4</th>\n",
       "      <td>62</td>\n",
       "      <td>0</td>\n",
       "      <td>0</td>\n",
       "      <td>138</td>\n",
       "      <td>294</td>\n",
       "      <td>1</td>\n",
       "      <td>1</td>\n",
       "      <td>106</td>\n",
       "      <td>0</td>\n",
       "      <td>1.9</td>\n",
       "      <td>1</td>\n",
       "      <td>3</td>\n",
       "      <td>2</td>\n",
       "      <td>0</td>\n",
       "    </tr>\n",
       "  </tbody>\n",
       "</table>\n",
       "</div>"
      ],
      "text/plain": [
       "   age  sex  cp  trestbps  chol  fbs  restecg  thalach  exang  oldpeak  slope  ca  thal  target\n",
       "0   52    1   0       125   212    0        1      168      0      1.0      2   2     3       0\n",
       "1   53    1   0       140   203    1        0      155      1      3.1      0   0     3       0\n",
       "2   70    1   0       145   174    0        1      125      1      2.6      0   0     3       0\n",
       "3   61    1   0       148   203    0        1      161      0      0.0      2   1     3       0\n",
       "4   62    0   0       138   294    1        1      106      0      1.9      1   3     2       0"
      ]
     },
     "execution_count": 22,
     "metadata": {},
     "output_type": "execute_result"
    }
   ],
   "source": [
    "df.head()"
   ]
  },
  {
   "cell_type": "code",
   "execution_count": 23,
   "id": "1bb9b3d4-aa60-4e00-9bbd-aec11d9275b5",
   "metadata": {},
   "outputs": [
    {
     "data": {
      "text/plain": [
       "age         0\n",
       "sex         0\n",
       "cp          0\n",
       "trestbps    0\n",
       "chol        0\n",
       "fbs         0\n",
       "restecg     0\n",
       "thalach     0\n",
       "exang       0\n",
       "oldpeak     0\n",
       "slope       0\n",
       "ca          0\n",
       "thal        0\n",
       "target      0\n",
       "dtype: int64"
      ]
     },
     "execution_count": 23,
     "metadata": {},
     "output_type": "execute_result"
    }
   ],
   "source": [
    "df.isna().sum()"
   ]
  },
  {
   "cell_type": "code",
   "execution_count": 24,
   "id": "950e6113-890d-4a5c-89a5-65bec9fe3f3c",
   "metadata": {},
   "outputs": [],
   "source": [
    "X = df.drop(\"target\", axis=1)\n",
    "y = df[\"target\"]"
   ]
  },
  {
   "cell_type": "code",
   "execution_count": 25,
   "id": "c28fa424-83f5-4f8d-8414-608d815135f8",
   "metadata": {},
   "outputs": [],
   "source": [
    "scaler = StandardScaler()\n",
    "\n",
    "scaled_data = scaler.fit_transform(X)"
   ]
  },
  {
   "cell_type": "code",
   "execution_count": 29,
   "id": "14bc2001-6491-4822-842f-8634ec052f46",
   "metadata": {},
   "outputs": [
    {
     "data": {
      "text/plain": [
       "array([[-0.26843658,  0.66150409, -0.91575542, ...,  0.99543334,\n",
       "         1.20922066,  1.08985168],\n",
       "       [-0.15815703,  0.66150409, -0.91575542, ..., -2.24367514,\n",
       "        -0.73197147,  1.08985168],\n",
       "       [ 1.71659547,  0.66150409, -0.91575542, ..., -2.24367514,\n",
       "        -0.73197147,  1.08985168],\n",
       "       ...,\n",
       "       [-0.81983438,  0.66150409, -0.91575542, ..., -0.6241209 ,\n",
       "         0.23862459, -0.52212231],\n",
       "       [-0.4889957 , -1.51170646, -0.91575542, ...,  0.99543334,\n",
       "        -0.73197147, -0.52212231],\n",
       "       [-0.04787747,  0.66150409, -0.91575542, ..., -0.6241209 ,\n",
       "         0.23862459,  1.08985168]])"
      ]
     },
     "execution_count": 29,
     "metadata": {},
     "output_type": "execute_result"
    }
   ],
   "source": [
    "scaled_data"
   ]
  },
  {
   "cell_type": "code",
   "execution_count": 30,
   "id": "8d33ba26-85e1-4ecf-b4fa-eb1e65127beb",
   "metadata": {},
   "outputs": [],
   "source": [
    "X_train, X_test, y_train, y_test = train_test_split(scaled_data, y, test_size=0.2)"
   ]
  },
  {
   "cell_type": "code",
   "execution_count": 72,
   "id": "61c6ad7d-9bb4-4147-9c66-252d978e6df8",
   "metadata": {},
   "outputs": [],
   "source": [
    "model = Sequential([\n",
    "    Dense(64, activation=\"relu\", input_shape=(13,)),\n",
    "    Dense(32, activation=\"relu\"),\n",
    "    Dense(16, activation=\"relu\"),\n",
    "    Dense(1, activation=\"sigmoid\")\n",
    "])"
   ]
  },
  {
   "cell_type": "code",
   "execution_count": 73,
   "id": "24a75ab4-baf9-42bc-affd-f017e124dcfe",
   "metadata": {},
   "outputs": [],
   "source": [
    "model.compile(optimizer=\"adam\", loss=\"binary_crossentropy\", metrics=[\"accuracy\"])"
   ]
  },
  {
   "cell_type": "code",
   "execution_count": 74,
   "id": "3cd3ca94-ddaa-4205-b9dc-b8dcd86889d7",
   "metadata": {},
   "outputs": [
    {
     "name": "stdout",
     "output_type": "stream",
     "text": [
      "Epoch 1/10\n",
      "26/26 [==============================] - 1s 12ms/step - loss: 0.6282 - accuracy: 0.7049\n",
      "Epoch 2/10\n",
      "26/26 [==============================] - 0s 10ms/step - loss: 0.4562 - accuracy: 0.8378\n",
      "Epoch 3/10\n",
      "26/26 [==============================] - 0s 11ms/step - loss: 0.3561 - accuracy: 0.8476\n",
      "Epoch 4/10\n",
      "26/26 [==============================] - 0s 11ms/step - loss: 0.3140 - accuracy: 0.8878\n",
      "Epoch 5/10\n",
      "26/26 [==============================] - 0s 13ms/step - loss: 0.2865 - accuracy: 0.8915\n",
      "Epoch 6/10\n",
      "26/26 [==============================] - 0s 10ms/step - loss: 0.2640 - accuracy: 0.9098\n",
      "Epoch 7/10\n",
      "26/26 [==============================] - 0s 12ms/step - loss: 0.2463 - accuracy: 0.9171\n",
      "Epoch 8/10\n",
      "26/26 [==============================] - 0s 12ms/step - loss: 0.2287 - accuracy: 0.9195\n",
      "Epoch 9/10\n",
      "26/26 [==============================] - 0s 12ms/step - loss: 0.2104 - accuracy: 0.9317\n",
      "Epoch 10/10\n",
      "26/26 [==============================] - 0s 13ms/step - loss: 0.1918 - accuracy: 0.9476\n"
     ]
    }
   ],
   "source": [
    "model.fit(X_train, y_train, epochs=10);"
   ]
  },
  {
   "cell_type": "code",
   "execution_count": 75,
   "id": "79e1a3e7-05d7-4a5f-8126-311ca4405761",
   "metadata": {},
   "outputs": [
    {
     "name": "stdout",
     "output_type": "stream",
     "text": [
      "7/7 [==============================] - 0s 9ms/step - loss: 0.2065 - accuracy: 0.9366\n"
     ]
    }
   ],
   "source": [
    "loss, accuracy = model.evaluate(X_test, y_test)"
   ]
  },
  {
   "cell_type": "code",
   "execution_count": 76,
   "id": "416d6600-2ffd-4f7d-a89d-c21879e0183b",
   "metadata": {},
   "outputs": [
    {
     "data": {
      "text/plain": [
       "0.2064933031797409"
      ]
     },
     "execution_count": 76,
     "metadata": {},
     "output_type": "execute_result"
    }
   ],
   "source": [
    "loss"
   ]
  },
  {
   "cell_type": "code",
   "execution_count": 77,
   "id": "8aeb4ebc-3f60-4813-b070-8f49535e21ef",
   "metadata": {},
   "outputs": [
    {
     "data": {
      "text/plain": [
       "0.9365853667259216"
      ]
     },
     "execution_count": 77,
     "metadata": {},
     "output_type": "execute_result"
    }
   ],
   "source": [
    "accuracy"
   ]
  },
  {
   "cell_type": "markdown",
   "id": "997b38f7-0521-4a24-9d84-708617b701a5",
   "metadata": {},
   "source": [
    "# Lets try a regression model"
   ]
  },
  {
   "cell_type": "code",
   "execution_count": null,
   "id": "43d013c8-e27d-4965-ae61-bd31a8649f1b",
   "metadata": {},
   "outputs": [],
   "source": [
    "from sklearn.datasets import fetch_california_housing"
   ]
  },
  {
   "cell_type": "code",
   "execution_count": null,
   "id": "a3c6bdb6-460b-4983-b97c-9a80a8c1c24c",
   "metadata": {},
   "outputs": [],
   "source": [
    "cali = fetch_california_housing(as_frame=True)\n",
    "df = pd.DataFrame(cali.data, columns=cali.feature_names)\n",
    "df[\"target\"] = pd.Series(cali.target)"
   ]
  },
  {
   "cell_type": "code",
   "execution_count": 93,
   "id": "d3db9091-5ae6-4eda-8768-7721bd3f45ae",
   "metadata": {},
   "outputs": [
    {
     "data": {
      "text/plain": [
       "MedInc        0\n",
       "HouseAge      0\n",
       "AveRooms      0\n",
       "AveBedrms     0\n",
       "Population    0\n",
       "AveOccup      0\n",
       "Latitude      0\n",
       "Longitude     0\n",
       "target        0\n",
       "dtype: int64"
      ]
     },
     "execution_count": 93,
     "metadata": {},
     "output_type": "execute_result"
    }
   ],
   "source": [
    "df.isna().sum()"
   ]
  },
  {
   "cell_type": "code",
   "execution_count": 94,
   "id": "4badcd68-b52c-4519-925f-f6e2cd73ad32",
   "metadata": {},
   "outputs": [
    {
     "data": {
      "text/plain": [
       "MedInc        float64\n",
       "HouseAge      float64\n",
       "AveRooms      float64\n",
       "AveBedrms     float64\n",
       "Population    float64\n",
       "AveOccup      float64\n",
       "Latitude      float64\n",
       "Longitude     float64\n",
       "target        float64\n",
       "dtype: object"
      ]
     },
     "execution_count": 94,
     "metadata": {},
     "output_type": "execute_result"
    }
   ],
   "source": [
    "df.dtypes"
   ]
  },
  {
   "cell_type": "code",
   "execution_count": 95,
   "id": "66681581-4d98-4dbc-8b59-0df388ea6480",
   "metadata": {},
   "outputs": [],
   "source": [
    "X = df.drop(\"target\", axis=1)\n",
    "y = df.target"
   ]
  },
  {
   "cell_type": "code",
   "execution_count": 97,
   "id": "15aa9d8e-f418-464f-804b-90e5712d9cd1",
   "metadata": {},
   "outputs": [],
   "source": [
    "X_scaled = scaler.fit_transform(X)"
   ]
  },
  {
   "cell_type": "code",
   "execution_count": 100,
   "id": "f7251eaf-6d25-4ced-bf41-909ae2c47120",
   "metadata": {},
   "outputs": [],
   "source": [
    "X_train, X_test, y_train, y_test = train_test_split(X_scaled, y, test_size=0.2)"
   ]
  },
  {
   "cell_type": "code",
   "execution_count": 103,
   "id": "c39271a5-4973-45f7-b52e-47e0b9391789",
   "metadata": {},
   "outputs": [],
   "source": [
    "model = Sequential([\n",
    "    Dense(64, activation=\"relu\", input_shape=[X_train.shape[1]]),\n",
    "    Dense(64, activation=\"relu\"),\n",
    "    Dense(1)\n",
    "])"
   ]
  },
  {
   "cell_type": "code",
   "execution_count": 104,
   "id": "9596ab95-2301-4a87-a8d1-d417d8d6feb0",
   "metadata": {},
   "outputs": [],
   "source": [
    "model.compile(optimizer=\"adam\", loss=\"mean_squared_error\")"
   ]
  },
  {
   "cell_type": "code",
   "execution_count": 109,
   "id": "75d0fff1-9c61-4a1c-a5cb-c473749aa21b",
   "metadata": {},
   "outputs": [
    {
     "name": "stdout",
     "output_type": "stream",
     "text": [
      "Epoch 1/100\n",
      "413/413 [==============================] - 4s 10ms/step - loss: 0.2961 - val_loss: 0.2793\n",
      "Epoch 2/100\n",
      "413/413 [==============================] - 5s 12ms/step - loss: 0.2789 - val_loss: 0.2688\n",
      "Epoch 3/100\n",
      "413/413 [==============================] - 4s 11ms/step - loss: 0.2687 - val_loss: 0.2679\n",
      "Epoch 4/100\n",
      "413/413 [==============================] - 4s 10ms/step - loss: 0.2670 - val_loss: 0.2704\n",
      "Epoch 5/100\n",
      "413/413 [==============================] - 4s 11ms/step - loss: 0.2665 - val_loss: 0.2772\n",
      "Epoch 6/100\n",
      "413/413 [==============================] - 5s 11ms/step - loss: 0.2730 - val_loss: 0.2672\n",
      "Epoch 7/100\n",
      "413/413 [==============================] - 5s 12ms/step - loss: 0.2673 - val_loss: 0.2763\n",
      "Epoch 8/100\n",
      "413/413 [==============================] - 5s 11ms/step - loss: 0.2638 - val_loss: 0.2690\n",
      "Epoch 9/100\n",
      "413/413 [==============================] - 5s 11ms/step - loss: 0.2655 - val_loss: 0.2817\n",
      "Epoch 10/100\n",
      "413/413 [==============================] - 5s 11ms/step - loss: 0.2595 - val_loss: 0.2750\n",
      "Epoch 11/100\n",
      "413/413 [==============================] - 4s 10ms/step - loss: 0.2617 - val_loss: 0.2637\n",
      "Epoch 12/100\n",
      "413/413 [==============================] - 4s 9ms/step - loss: 0.2608 - val_loss: 0.2621\n",
      "Epoch 13/100\n",
      "413/413 [==============================] - 4s 9ms/step - loss: 0.2601 - val_loss: 0.2671\n",
      "Epoch 14/100\n",
      "413/413 [==============================] - 4s 9ms/step - loss: 0.2605 - val_loss: 0.2578\n",
      "Epoch 15/100\n",
      "413/413 [==============================] - 4s 9ms/step - loss: 0.2556 - val_loss: 0.2602\n",
      "Epoch 16/100\n",
      "413/413 [==============================] - 4s 9ms/step - loss: 0.2552 - val_loss: 0.2619\n",
      "Epoch 17/100\n",
      "413/413 [==============================] - 4s 9ms/step - loss: 0.2631 - val_loss: 0.2739\n",
      "Epoch 18/100\n",
      "413/413 [==============================] - 4s 9ms/step - loss: 0.2500 - val_loss: 0.2581\n",
      "Epoch 19/100\n",
      "413/413 [==============================] - 4s 9ms/step - loss: 0.2505 - val_loss: 0.2618\n",
      "Epoch 20/100\n",
      "413/413 [==============================] - 4s 9ms/step - loss: 0.2511 - val_loss: 0.2733\n",
      "Epoch 21/100\n",
      "413/413 [==============================] - 4s 9ms/step - loss: 0.2555 - val_loss: 0.2629\n",
      "Epoch 22/100\n",
      "413/413 [==============================] - 4s 9ms/step - loss: 0.2474 - val_loss: 0.2668\n",
      "Epoch 23/100\n",
      "413/413 [==============================] - 4s 9ms/step - loss: 0.2518 - val_loss: 0.2593\n",
      "Epoch 24/100\n",
      "413/413 [==============================] - 4s 9ms/step - loss: 0.2462 - val_loss: 0.2604\n",
      "Epoch 25/100\n",
      "413/413 [==============================] - 4s 9ms/step - loss: 0.2443 - val_loss: 0.2523\n",
      "Epoch 26/100\n",
      "413/413 [==============================] - 4s 9ms/step - loss: 0.2423 - val_loss: 0.2589\n",
      "Epoch 27/100\n",
      "413/413 [==============================] - 4s 9ms/step - loss: 0.2464 - val_loss: 0.2560\n",
      "Epoch 28/100\n",
      "413/413 [==============================] - 4s 9ms/step - loss: 0.2448 - val_loss: 0.2609\n",
      "Epoch 29/100\n",
      "413/413 [==============================] - 4s 9ms/step - loss: 0.2436 - val_loss: 0.2713\n",
      "Epoch 30/100\n",
      "413/413 [==============================] - 4s 9ms/step - loss: 0.2423 - val_loss: 0.2563\n",
      "Epoch 31/100\n",
      "413/413 [==============================] - 4s 9ms/step - loss: 0.2400 - val_loss: 0.2557\n",
      "Epoch 32/100\n",
      "413/413 [==============================] - 4s 9ms/step - loss: 0.2402 - val_loss: 0.2599\n",
      "Epoch 33/100\n",
      "413/413 [==============================] - 4s 9ms/step - loss: 0.2407 - val_loss: 0.2710\n",
      "Epoch 34/100\n",
      "413/413 [==============================] - 4s 9ms/step - loss: 0.2403 - val_loss: 0.2596\n",
      "Epoch 35/100\n",
      "413/413 [==============================] - 4s 9ms/step - loss: 0.2458 - val_loss: 0.2610\n",
      "Epoch 36/100\n",
      "413/413 [==============================] - 4s 9ms/step - loss: 0.2388 - val_loss: 0.2648\n",
      "Epoch 37/100\n",
      "413/413 [==============================] - 4s 9ms/step - loss: 0.2360 - val_loss: 0.2664\n",
      "Epoch 38/100\n",
      "413/413 [==============================] - 4s 9ms/step - loss: 0.2365 - val_loss: 0.2537\n",
      "Epoch 39/100\n",
      "413/413 [==============================] - 4s 9ms/step - loss: 0.2362 - val_loss: 0.2614\n",
      "Epoch 40/100\n",
      "413/413 [==============================] - 4s 9ms/step - loss: 0.2380 - val_loss: 0.2549\n",
      "Epoch 41/100\n",
      "413/413 [==============================] - 4s 9ms/step - loss: 0.2351 - val_loss: 0.2553\n",
      "Epoch 42/100\n",
      "413/413 [==============================] - 4s 9ms/step - loss: 0.2327 - val_loss: 0.2539\n",
      "Epoch 43/100\n",
      "413/413 [==============================] - 4s 9ms/step - loss: 0.2355 - val_loss: 0.2580\n",
      "Epoch 44/100\n",
      "413/413 [==============================] - 4s 9ms/step - loss: 0.2360 - val_loss: 0.2587\n",
      "Epoch 45/100\n",
      "413/413 [==============================] - 3s 8ms/step - loss: 0.2308 - val_loss: 0.2699\n",
      "Epoch 46/100\n",
      "413/413 [==============================] - 3s 7ms/step - loss: 0.2329 - val_loss: 0.2572\n",
      "Epoch 47/100\n",
      "413/413 [==============================] - 3s 7ms/step - loss: 0.2290 - val_loss: 0.2571\n",
      "Epoch 48/100\n",
      "413/413 [==============================] - 4s 9ms/step - loss: 0.2306 - val_loss: 0.2618\n",
      "Epoch 49/100\n",
      "413/413 [==============================] - 4s 9ms/step - loss: 0.2293 - val_loss: 0.2602\n",
      "Epoch 50/100\n",
      "413/413 [==============================] - 4s 9ms/step - loss: 0.2289 - val_loss: 0.2674\n",
      "Epoch 51/100\n",
      "413/413 [==============================] - 4s 9ms/step - loss: 0.2320 - val_loss: 0.2585\n",
      "Epoch 52/100\n",
      "413/413 [==============================] - 4s 9ms/step - loss: 0.2284 - val_loss: 0.2685\n",
      "Epoch 53/100\n",
      "413/413 [==============================] - 4s 9ms/step - loss: 0.2272 - val_loss: 0.2620\n",
      "Epoch 54/100\n",
      "413/413 [==============================] - 4s 9ms/step - loss: 0.2260 - val_loss: 0.2680\n",
      "Epoch 55/100\n",
      "413/413 [==============================] - 4s 9ms/step - loss: 0.2265 - val_loss: 0.2676\n",
      "Epoch 56/100\n",
      "413/413 [==============================] - 4s 9ms/step - loss: 0.2259 - val_loss: 0.2522\n",
      "Epoch 57/100\n",
      "413/413 [==============================] - 4s 9ms/step - loss: 0.2239 - val_loss: 0.2585\n",
      "Epoch 58/100\n",
      "413/413 [==============================] - 4s 9ms/step - loss: 0.2235 - val_loss: 0.2563\n",
      "Epoch 59/100\n",
      "413/413 [==============================] - 4s 9ms/step - loss: 0.2233 - val_loss: 0.2587\n",
      "Epoch 60/100\n",
      "413/413 [==============================] - 4s 9ms/step - loss: 0.2228 - val_loss: 0.2519\n",
      "Epoch 61/100\n",
      "413/413 [==============================] - 4s 9ms/step - loss: 0.2220 - val_loss: 0.2559\n",
      "Epoch 62/100\n",
      "413/413 [==============================] - 4s 9ms/step - loss: 0.2220 - val_loss: 0.2578\n",
      "Epoch 63/100\n",
      "413/413 [==============================] - 4s 9ms/step - loss: 0.2222 - val_loss: 0.2702\n",
      "Epoch 64/100\n",
      "413/413 [==============================] - 4s 9ms/step - loss: 0.2200 - val_loss: 0.2572\n",
      "Epoch 65/100\n",
      "413/413 [==============================] - 4s 9ms/step - loss: 0.2217 - val_loss: 0.2672\n",
      "Epoch 66/100\n",
      "413/413 [==============================] - 4s 9ms/step - loss: 0.2208 - val_loss: 0.2536\n",
      "Epoch 67/100\n",
      "413/413 [==============================] - 4s 9ms/step - loss: 0.2218 - val_loss: 0.2547\n",
      "Epoch 68/100\n",
      "413/413 [==============================] - 4s 9ms/step - loss: 0.2222 - val_loss: 0.2686\n",
      "Epoch 69/100\n",
      "413/413 [==============================] - 4s 9ms/step - loss: 0.2203 - val_loss: 0.2547\n",
      "Epoch 70/100\n",
      "413/413 [==============================] - 4s 9ms/step - loss: 0.2186 - val_loss: 0.2651\n",
      "Epoch 71/100\n",
      "413/413 [==============================] - 4s 9ms/step - loss: 0.2181 - val_loss: 0.2586\n",
      "Epoch 72/100\n",
      "413/413 [==============================] - 4s 9ms/step - loss: 0.2193 - val_loss: 0.2600\n",
      "Epoch 73/100\n",
      "413/413 [==============================] - 4s 10ms/step - loss: 0.2181 - val_loss: 0.2529\n",
      "Epoch 74/100\n",
      "413/413 [==============================] - 4s 9ms/step - loss: 0.2158 - val_loss: 0.2592\n",
      "Epoch 75/100\n",
      "413/413 [==============================] - 4s 9ms/step - loss: 0.2163 - val_loss: 0.2639\n",
      "Epoch 76/100\n",
      "413/413 [==============================] - 4s 9ms/step - loss: 0.2169 - val_loss: 0.2574\n",
      "Epoch 77/100\n",
      "413/413 [==============================] - 4s 9ms/step - loss: 0.2163 - val_loss: 0.2588\n",
      "Epoch 78/100\n",
      "413/413 [==============================] - 4s 10ms/step - loss: 0.2139 - val_loss: 0.2565\n",
      "Epoch 79/100\n",
      "413/413 [==============================] - 4s 10ms/step - loss: 0.2139 - val_loss: 0.2511\n",
      "Epoch 80/100\n",
      "413/413 [==============================] - 4s 10ms/step - loss: 0.2119 - val_loss: 0.2666\n",
      "Epoch 81/100\n",
      "413/413 [==============================] - 4s 10ms/step - loss: 0.2136 - val_loss: 0.2533\n",
      "Epoch 82/100\n",
      "413/413 [==============================] - 4s 9ms/step - loss: 0.2107 - val_loss: 0.2533\n",
      "Epoch 83/100\n",
      "413/413 [==============================] - 4s 9ms/step - loss: 0.2104 - val_loss: 0.2646\n",
      "Epoch 84/100\n",
      "413/413 [==============================] - 4s 10ms/step - loss: 0.2103 - val_loss: 0.2534\n",
      "Epoch 85/100\n",
      "413/413 [==============================] - 4s 10ms/step - loss: 0.2104 - val_loss: 0.2577\n",
      "Epoch 86/100\n",
      "413/413 [==============================] - 4s 10ms/step - loss: 0.2103 - val_loss: 0.2541\n",
      "Epoch 87/100\n",
      "413/413 [==============================] - 4s 9ms/step - loss: 0.2122 - val_loss: 0.2576\n",
      "Epoch 88/100\n",
      "413/413 [==============================] - 4s 9ms/step - loss: 0.2120 - val_loss: 0.2513\n",
      "Epoch 89/100\n",
      "413/413 [==============================] - 4s 9ms/step - loss: 0.2126 - val_loss: 0.2568\n",
      "Epoch 90/100\n",
      "413/413 [==============================] - 3s 8ms/step - loss: 0.2108 - val_loss: 0.2585\n",
      "Epoch 91/100\n",
      "413/413 [==============================] - 4s 9ms/step - loss: 0.2092 - val_loss: 0.2602\n",
      "Epoch 92/100\n",
      "413/413 [==============================] - 4s 9ms/step - loss: 0.2078 - val_loss: 0.2633\n",
      "Epoch 93/100\n",
      "413/413 [==============================] - 4s 9ms/step - loss: 0.2086 - val_loss: 0.2579\n",
      "Epoch 94/100\n",
      "413/413 [==============================] - 4s 9ms/step - loss: 0.2076 - val_loss: 0.2599\n",
      "Epoch 95/100\n",
      "413/413 [==============================] - 4s 9ms/step - loss: 0.2068 - val_loss: 0.2509\n",
      "Epoch 96/100\n",
      "413/413 [==============================] - 4s 10ms/step - loss: 0.2068 - val_loss: 0.2609\n",
      "Epoch 97/100\n",
      "413/413 [==============================] - 4s 9ms/step - loss: 0.2059 - val_loss: 0.2572\n",
      "Epoch 98/100\n",
      "413/413 [==============================] - 4s 9ms/step - loss: 0.2065 - val_loss: 0.2617\n",
      "Epoch 99/100\n",
      "413/413 [==============================] - 4s 9ms/step - loss: 0.2062 - val_loss: 0.2584\n",
      "Epoch 100/100\n",
      "413/413 [==============================] - 4s 10ms/step - loss: 0.2057 - val_loss: 0.2625\n"
     ]
    },
    {
     "data": {
      "text/plain": [
       "<keras.callbacks.History at 0x17d8dfca910>"
      ]
     },
     "execution_count": 109,
     "metadata": {},
     "output_type": "execute_result"
    }
   ],
   "source": [
    "model.fit(X_train, y_train, epochs=100, validation_split=0.2)"
   ]
  },
  {
   "cell_type": "code",
   "execution_count": 110,
   "id": "b91964a1-8764-43aa-bdce-69e2d431d193",
   "metadata": {},
   "outputs": [
    {
     "name": "stdout",
     "output_type": "stream",
     "text": [
      "129/129 [==============================] - 1s 4ms/step - loss: 0.2707\n"
     ]
    },
    {
     "data": {
      "text/plain": [
       "0.2707062065601349"
      ]
     },
     "execution_count": 110,
     "metadata": {},
     "output_type": "execute_result"
    }
   ],
   "source": [
    "model.evaluate(X_test, y_test)"
   ]
  },
  {
   "cell_type": "code",
   "execution_count": null,
   "id": "488946b1-4552-4f8a-9cb8-55c1433c7862",
   "metadata": {},
   "outputs": [],
   "source": []
  }
 ],
 "metadata": {
  "kernelspec": {
   "display_name": "Python 3 (ipykernel)",
   "language": "python",
   "name": "python3"
  },
  "language_info": {
   "codemirror_mode": {
    "name": "ipython",
    "version": 3
   },
   "file_extension": ".py",
   "mimetype": "text/x-python",
   "name": "python",
   "nbconvert_exporter": "python",
   "pygments_lexer": "ipython3",
   "version": "3.9.18"
  }
 },
 "nbformat": 4,
 "nbformat_minor": 5
}
