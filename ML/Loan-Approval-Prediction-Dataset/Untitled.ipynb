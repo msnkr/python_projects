{
 "cells": [
  {
   "cell_type": "markdown",
   "id": "b86b7789",
   "metadata": {},
   "source": [
    "##### About Dataset\n",
    "\n",
    "The loan approval dataset is a collection of financial records and associated information used to determine the eligibility of individuals or organizations for obtaining loans from a lending institution. It includes various factors such as cibil score, income, employment status, loan term, loan amount, assets value, and loan status. This dataset is commonly used in machine learning and data analysis to develop models and algorithms that predict the likelihood of loan approval based on the given features.\n"
   ]
  },
  {
   "cell_type": "code",
   "execution_count": 2,
   "id": "806779c0",
   "metadata": {},
   "outputs": [],
   "source": [
    "import pandas as pd\n",
    "import numpy as np"
   ]
  },
  {
   "cell_type": "code",
   "execution_count": 3,
   "id": "d42115cb",
   "metadata": {},
   "outputs": [],
   "source": [
    "df = pd.read_csv(\"./archive/loan_approval_dataset.csv\")"
   ]
  },
  {
   "cell_type": "code",
   "execution_count": 4,
   "id": "547872f2",
   "metadata": {},
   "outputs": [
    {
     "data": {
      "text/html": [
       "<div>\n",
       "<style scoped>\n",
       "    .dataframe tbody tr th:only-of-type {\n",
       "        vertical-align: middle;\n",
       "    }\n",
       "\n",
       "    .dataframe tbody tr th {\n",
       "        vertical-align: top;\n",
       "    }\n",
       "\n",
       "    .dataframe thead th {\n",
       "        text-align: right;\n",
       "    }\n",
       "</style>\n",
       "<table border=\"1\" class=\"dataframe\">\n",
       "  <thead>\n",
       "    <tr style=\"text-align: right;\">\n",
       "      <th></th>\n",
       "      <th>loan_id</th>\n",
       "      <th>no_of_dependents</th>\n",
       "      <th>education</th>\n",
       "      <th>self_employed</th>\n",
       "      <th>income_annum</th>\n",
       "      <th>loan_amount</th>\n",
       "      <th>loan_term</th>\n",
       "      <th>cibil_score</th>\n",
       "      <th>residential_assets_value</th>\n",
       "      <th>commercial_assets_value</th>\n",
       "      <th>luxury_assets_value</th>\n",
       "      <th>bank_asset_value</th>\n",
       "      <th>loan_status</th>\n",
       "    </tr>\n",
       "  </thead>\n",
       "  <tbody>\n",
       "    <tr>\n",
       "      <th>0</th>\n",
       "      <td>1</td>\n",
       "      <td>2</td>\n",
       "      <td>Graduate</td>\n",
       "      <td>No</td>\n",
       "      <td>9600000</td>\n",
       "      <td>29900000</td>\n",
       "      <td>12</td>\n",
       "      <td>778</td>\n",
       "      <td>2400000</td>\n",
       "      <td>17600000</td>\n",
       "      <td>22700000</td>\n",
       "      <td>8000000</td>\n",
       "      <td>Approved</td>\n",
       "    </tr>\n",
       "    <tr>\n",
       "      <th>1</th>\n",
       "      <td>2</td>\n",
       "      <td>0</td>\n",
       "      <td>Not Graduate</td>\n",
       "      <td>Yes</td>\n",
       "      <td>4100000</td>\n",
       "      <td>12200000</td>\n",
       "      <td>8</td>\n",
       "      <td>417</td>\n",
       "      <td>2700000</td>\n",
       "      <td>2200000</td>\n",
       "      <td>8800000</td>\n",
       "      <td>3300000</td>\n",
       "      <td>Rejected</td>\n",
       "    </tr>\n",
       "    <tr>\n",
       "      <th>2</th>\n",
       "      <td>3</td>\n",
       "      <td>3</td>\n",
       "      <td>Graduate</td>\n",
       "      <td>No</td>\n",
       "      <td>9100000</td>\n",
       "      <td>29700000</td>\n",
       "      <td>20</td>\n",
       "      <td>506</td>\n",
       "      <td>7100000</td>\n",
       "      <td>4500000</td>\n",
       "      <td>33300000</td>\n",
       "      <td>12800000</td>\n",
       "      <td>Rejected</td>\n",
       "    </tr>\n",
       "    <tr>\n",
       "      <th>3</th>\n",
       "      <td>4</td>\n",
       "      <td>3</td>\n",
       "      <td>Graduate</td>\n",
       "      <td>No</td>\n",
       "      <td>8200000</td>\n",
       "      <td>30700000</td>\n",
       "      <td>8</td>\n",
       "      <td>467</td>\n",
       "      <td>18200000</td>\n",
       "      <td>3300000</td>\n",
       "      <td>23300000</td>\n",
       "      <td>7900000</td>\n",
       "      <td>Rejected</td>\n",
       "    </tr>\n",
       "    <tr>\n",
       "      <th>4</th>\n",
       "      <td>5</td>\n",
       "      <td>5</td>\n",
       "      <td>Not Graduate</td>\n",
       "      <td>Yes</td>\n",
       "      <td>9800000</td>\n",
       "      <td>24200000</td>\n",
       "      <td>20</td>\n",
       "      <td>382</td>\n",
       "      <td>12400000</td>\n",
       "      <td>8200000</td>\n",
       "      <td>29400000</td>\n",
       "      <td>5000000</td>\n",
       "      <td>Rejected</td>\n",
       "    </tr>\n",
       "  </tbody>\n",
       "</table>\n",
       "</div>"
      ],
      "text/plain": [
       "   loan_id   no_of_dependents      education  self_employed   income_annum  \\\n",
       "0        1                  2       Graduate             No        9600000   \n",
       "1        2                  0   Not Graduate            Yes        4100000   \n",
       "2        3                  3       Graduate             No        9100000   \n",
       "3        4                  3       Graduate             No        8200000   \n",
       "4        5                  5   Not Graduate            Yes        9800000   \n",
       "\n",
       "    loan_amount   loan_term   cibil_score   residential_assets_value  \\\n",
       "0      29900000          12           778                    2400000   \n",
       "1      12200000           8           417                    2700000   \n",
       "2      29700000          20           506                    7100000   \n",
       "3      30700000           8           467                   18200000   \n",
       "4      24200000          20           382                   12400000   \n",
       "\n",
       "    commercial_assets_value   luxury_assets_value   bank_asset_value  \\\n",
       "0                  17600000              22700000            8000000   \n",
       "1                   2200000               8800000            3300000   \n",
       "2                   4500000              33300000           12800000   \n",
       "3                   3300000              23300000            7900000   \n",
       "4                   8200000              29400000            5000000   \n",
       "\n",
       "   loan_status  \n",
       "0     Approved  \n",
       "1     Rejected  \n",
       "2     Rejected  \n",
       "3     Rejected  \n",
       "4     Rejected  "
      ]
     },
     "execution_count": 4,
     "metadata": {},
     "output_type": "execute_result"
    }
   ],
   "source": [
    "df.head()"
   ]
  },
  {
   "cell_type": "code",
   "execution_count": 5,
   "id": "eb4ea058",
   "metadata": {},
   "outputs": [],
   "source": [
    "df.drop(\"loan_id\", axis=1, inplace=True)"
   ]
  },
  {
   "cell_type": "code",
   "execution_count": 6,
   "id": "55929e00",
   "metadata": {},
   "outputs": [
    {
     "data": {
      "text/plain": [
       " no_of_dependents            0\n",
       " education                   0\n",
       " self_employed               0\n",
       " income_annum                0\n",
       " loan_amount                 0\n",
       " loan_term                   0\n",
       " cibil_score                 0\n",
       " residential_assets_value    0\n",
       " commercial_assets_value     0\n",
       " luxury_assets_value         0\n",
       " bank_asset_value            0\n",
       " loan_status                 0\n",
       "dtype: int64"
      ]
     },
     "execution_count": 6,
     "metadata": {},
     "output_type": "execute_result"
    }
   ],
   "source": [
    "df.isna().sum()"
   ]
  },
  {
   "cell_type": "code",
   "execution_count": 7,
   "id": "0b1edd0f",
   "metadata": {},
   "outputs": [
    {
     "data": {
      "text/plain": [
       " no_of_dependents             int64\n",
       " education                   object\n",
       " self_employed               object\n",
       " income_annum                 int64\n",
       " loan_amount                  int64\n",
       " loan_term                    int64\n",
       " cibil_score                  int64\n",
       " residential_assets_value     int64\n",
       " commercial_assets_value      int64\n",
       " luxury_assets_value          int64\n",
       " bank_asset_value             int64\n",
       " loan_status                 object\n",
       "dtype: object"
      ]
     },
     "execution_count": 7,
     "metadata": {},
     "output_type": "execute_result"
    }
   ],
   "source": [
    "df.dtypes"
   ]
  },
  {
   "cell_type": "code",
   "execution_count": 8,
   "id": "868f837a",
   "metadata": {},
   "outputs": [],
   "source": [
    "from sklearn.preprocessing import LabelEncoder\n",
    "\n",
    "enc = LabelEncoder()"
   ]
  },
  {
   "cell_type": "code",
   "execution_count": 9,
   "id": "f1638257",
   "metadata": {},
   "outputs": [],
   "source": [
    "for label, content in df.items():\n",
    "    if pd.api.types.is_object_dtype(content):\n",
    "        df[label] = enc.fit_transform(content)"
   ]
  },
  {
   "cell_type": "code",
   "execution_count": 10,
   "id": "db733ff4",
   "metadata": {},
   "outputs": [
    {
     "data": {
      "text/plain": [
       " no_of_dependents            int64\n",
       " education                   int32\n",
       " self_employed               int32\n",
       " income_annum                int64\n",
       " loan_amount                 int64\n",
       " loan_term                   int64\n",
       " cibil_score                 int64\n",
       " residential_assets_value    int64\n",
       " commercial_assets_value     int64\n",
       " luxury_assets_value         int64\n",
       " bank_asset_value            int64\n",
       " loan_status                 int32\n",
       "dtype: object"
      ]
     },
     "execution_count": 10,
     "metadata": {},
     "output_type": "execute_result"
    }
   ],
   "source": [
    "df.dtypes"
   ]
  },
  {
   "cell_type": "code",
   "execution_count": 11,
   "id": "16743d69",
   "metadata": {},
   "outputs": [],
   "source": [
    "X = df.drop(\" loan_status\", axis=1)\n",
    "y = df[\" loan_status\"]"
   ]
  },
  {
   "cell_type": "code",
   "execution_count": 12,
   "id": "a5a60342",
   "metadata": {},
   "outputs": [],
   "source": [
    "from sklearn.model_selection import train_test_split\n",
    "\n",
    "X_train, X_test, y_train, y_test = train_test_split(X, y, test_size=0.2, random_state=42)"
   ]
  },
  {
   "cell_type": "code",
   "execution_count": 13,
   "id": "e3a7a2e1",
   "metadata": {},
   "outputs": [],
   "source": [
    "from sklearn.ensemble import RandomForestClassifier\n",
    "\n",
    "model = RandomForestClassifier(n_estimators=10000)"
   ]
  },
  {
   "cell_type": "code",
   "execution_count": 14,
   "id": "ff73348f",
   "metadata": {},
   "outputs": [
    {
     "data": {
      "text/html": [
       "<style>#sk-container-id-1 {color: black;}#sk-container-id-1 pre{padding: 0;}#sk-container-id-1 div.sk-toggleable {background-color: white;}#sk-container-id-1 label.sk-toggleable__label {cursor: pointer;display: block;width: 100%;margin-bottom: 0;padding: 0.3em;box-sizing: border-box;text-align: center;}#sk-container-id-1 label.sk-toggleable__label-arrow:before {content: \"▸\";float: left;margin-right: 0.25em;color: #696969;}#sk-container-id-1 label.sk-toggleable__label-arrow:hover:before {color: black;}#sk-container-id-1 div.sk-estimator:hover label.sk-toggleable__label-arrow:before {color: black;}#sk-container-id-1 div.sk-toggleable__content {max-height: 0;max-width: 0;overflow: hidden;text-align: left;background-color: #f0f8ff;}#sk-container-id-1 div.sk-toggleable__content pre {margin: 0.2em;color: black;border-radius: 0.25em;background-color: #f0f8ff;}#sk-container-id-1 input.sk-toggleable__control:checked~div.sk-toggleable__content {max-height: 200px;max-width: 100%;overflow: auto;}#sk-container-id-1 input.sk-toggleable__control:checked~label.sk-toggleable__label-arrow:before {content: \"▾\";}#sk-container-id-1 div.sk-estimator input.sk-toggleable__control:checked~label.sk-toggleable__label {background-color: #d4ebff;}#sk-container-id-1 div.sk-label input.sk-toggleable__control:checked~label.sk-toggleable__label {background-color: #d4ebff;}#sk-container-id-1 input.sk-hidden--visually {border: 0;clip: rect(1px 1px 1px 1px);clip: rect(1px, 1px, 1px, 1px);height: 1px;margin: -1px;overflow: hidden;padding: 0;position: absolute;width: 1px;}#sk-container-id-1 div.sk-estimator {font-family: monospace;background-color: #f0f8ff;border: 1px dotted black;border-radius: 0.25em;box-sizing: border-box;margin-bottom: 0.5em;}#sk-container-id-1 div.sk-estimator:hover {background-color: #d4ebff;}#sk-container-id-1 div.sk-parallel-item::after {content: \"\";width: 100%;border-bottom: 1px solid gray;flex-grow: 1;}#sk-container-id-1 div.sk-label:hover label.sk-toggleable__label {background-color: #d4ebff;}#sk-container-id-1 div.sk-serial::before {content: \"\";position: absolute;border-left: 1px solid gray;box-sizing: border-box;top: 0;bottom: 0;left: 50%;z-index: 0;}#sk-container-id-1 div.sk-serial {display: flex;flex-direction: column;align-items: center;background-color: white;padding-right: 0.2em;padding-left: 0.2em;position: relative;}#sk-container-id-1 div.sk-item {position: relative;z-index: 1;}#sk-container-id-1 div.sk-parallel {display: flex;align-items: stretch;justify-content: center;background-color: white;position: relative;}#sk-container-id-1 div.sk-item::before, #sk-container-id-1 div.sk-parallel-item::before {content: \"\";position: absolute;border-left: 1px solid gray;box-sizing: border-box;top: 0;bottom: 0;left: 50%;z-index: -1;}#sk-container-id-1 div.sk-parallel-item {display: flex;flex-direction: column;z-index: 1;position: relative;background-color: white;}#sk-container-id-1 div.sk-parallel-item:first-child::after {align-self: flex-end;width: 50%;}#sk-container-id-1 div.sk-parallel-item:last-child::after {align-self: flex-start;width: 50%;}#sk-container-id-1 div.sk-parallel-item:only-child::after {width: 0;}#sk-container-id-1 div.sk-dashed-wrapped {border: 1px dashed gray;margin: 0 0.4em 0.5em 0.4em;box-sizing: border-box;padding-bottom: 0.4em;background-color: white;}#sk-container-id-1 div.sk-label label {font-family: monospace;font-weight: bold;display: inline-block;line-height: 1.2em;}#sk-container-id-1 div.sk-label-container {text-align: center;}#sk-container-id-1 div.sk-container {/* jupyter's `normalize.less` sets `[hidden] { display: none; }` but bootstrap.min.css set `[hidden] { display: none !important; }` so we also need the `!important` here to be able to override the default hidden behavior on the sphinx rendered scikit-learn.org. See: https://github.com/scikit-learn/scikit-learn/issues/21755 */display: inline-block !important;position: relative;}#sk-container-id-1 div.sk-text-repr-fallback {display: none;}</style><div id=\"sk-container-id-1\" class=\"sk-top-container\"><div class=\"sk-text-repr-fallback\"><pre>RandomForestClassifier(n_estimators=10000)</pre><b>In a Jupyter environment, please rerun this cell to show the HTML representation or trust the notebook. <br />On GitHub, the HTML representation is unable to render, please try loading this page with nbviewer.org.</b></div><div class=\"sk-container\" hidden><div class=\"sk-item\"><div class=\"sk-estimator sk-toggleable\"><input class=\"sk-toggleable__control sk-hidden--visually\" id=\"sk-estimator-id-1\" type=\"checkbox\" checked><label for=\"sk-estimator-id-1\" class=\"sk-toggleable__label sk-toggleable__label-arrow\">RandomForestClassifier</label><div class=\"sk-toggleable__content\"><pre>RandomForestClassifier(n_estimators=10000)</pre></div></div></div></div></div>"
      ],
      "text/plain": [
       "RandomForestClassifier(n_estimators=10000)"
      ]
     },
     "execution_count": 14,
     "metadata": {},
     "output_type": "execute_result"
    }
   ],
   "source": [
    "model.fit(X_train, y_train)"
   ]
  },
  {
   "cell_type": "code",
   "execution_count": 15,
   "id": "aef00137",
   "metadata": {},
   "outputs": [
    {
     "data": {
      "text/plain": [
       "0.9800936768149883"
      ]
     },
     "execution_count": 15,
     "metadata": {},
     "output_type": "execute_result"
    }
   ],
   "source": [
    "model.score(X_test, y_test)"
   ]
  },
  {
   "cell_type": "code",
   "execution_count": 16,
   "id": "a8ceced7",
   "metadata": {},
   "outputs": [],
   "source": [
    "feature_importances = pd.Series(model.feature_importances_, model.feature_names_in_)\n"
   ]
  },
  {
   "cell_type": "code",
   "execution_count": 17,
   "id": "7488ffce",
   "metadata": {},
   "outputs": [],
   "source": [
    "import seaborn as sn"
   ]
  },
  {
   "cell_type": "code",
   "execution_count": 18,
   "id": "0bc031de",
   "metadata": {},
   "outputs": [
    {
     "data": {
      "image/png": "[encoded data removed]",
      "text/plain": [
       "<Figure size 640x480 with 1 Axes>"
      ]
     },
     "metadata": {},
     "output_type": "display_data"
    }
   ],
   "source": [
    "sn.barplot(x=feature_importances.values, y=feature_importances.index, width=1);"
   ]
  },
  {
   "cell_type": "code",
   "execution_count": 19,
   "id": "5e872496",
   "metadata": {},
   "outputs": [],
   "source": [
    "y_preds = model.predict(X_test)"
   ]
  },
  {
   "cell_type": "code",
   "execution_count": 20,
   "id": "3d49d510",
   "metadata": {},
   "outputs": [],
   "source": [
    "from sklearn.metrics import confusion_matrix"
   ]
  },
  {
   "cell_type": "code",
   "execution_count": 21,
   "id": "c886c615",
   "metadata": {},
   "outputs": [
    {
     "data": {
      "image/png": "[encoded data removed]",
      "text/plain": [
       "<Figure size 640x480 with 2 Axes>"
      ]
     },
     "metadata": {},
     "output_type": "display_data"
    }
   ],
   "source": [
    "sn.heatmap(confusion_matrix(y_pred=y_preds, y_true=y_test), linewidths=1, annot=True, fmt=\"d\");"
   ]
  },
  {
   "cell_type": "code",
   "execution_count": 22,
   "id": "a8727e8f",
   "metadata": {},
   "outputs": [
    {
     "data": {
      "text/plain": [
       " no_of_dependents            0.007997\n",
       " education                   0.002262\n",
       " self_employed               0.002727\n",
       " income_annum                0.017875\n",
       " loan_amount                 0.029337\n",
       " loan_term                   0.061394\n",
       " cibil_score                 0.812511\n",
       " residential_assets_value    0.017516\n",
       " commercial_assets_value     0.015530\n",
       " luxury_assets_value         0.017704\n",
       " bank_asset_value            0.015146\n",
       "dtype: float64"
      ]
     },
     "execution_count": 22,
     "metadata": {},
     "output_type": "execute_result"
    }
   ],
   "source": [
    "feature_importances"
   ]
  },
  {
   "cell_type": "code",
   "execution_count": 23,
   "id": "e35aee9a",
   "metadata": {},
   "outputs": [],
   "source": [
    "from sklearn.neighbors import KNeighborsClassifier\n",
    "\n",
    "model = KNeighborsClassifier()"
   ]
  },
  {
   "cell_type": "code",
   "execution_count": 24,
   "id": "701e804b",
   "metadata": {},
   "outputs": [
    {
     "data": {
      "text/html": [
       "<style>#sk-container-id-2 {color: black;}#sk-container-id-2 pre{padding: 0;}#sk-container-id-2 div.sk-toggleable {background-color: white;}#sk-container-id-2 label.sk-toggleable__label {cursor: pointer;display: block;width: 100%;margin-bottom: 0;padding: 0.3em;box-sizing: border-box;text-align: center;}#sk-container-id-2 label.sk-toggleable__label-arrow:before {content: \"▸\";float: left;margin-right: 0.25em;color: #696969;}#sk-container-id-2 label.sk-toggleable__label-arrow:hover:before {color: black;}#sk-container-id-2 div.sk-estimator:hover label.sk-toggleable__label-arrow:before {color: black;}#sk-container-id-2 div.sk-toggleable__content {max-height: 0;max-width: 0;overflow: hidden;text-align: left;background-color: #f0f8ff;}#sk-container-id-2 div.sk-toggleable__content pre {margin: 0.2em;color: black;border-radius: 0.25em;background-color: #f0f8ff;}#sk-container-id-2 input.sk-toggleable__control:checked~div.sk-toggleable__content {max-height: 200px;max-width: 100%;overflow: auto;}#sk-container-id-2 input.sk-toggleable__control:checked~label.sk-toggleable__label-arrow:before {content: \"▾\";}#sk-container-id-2 div.sk-estimator input.sk-toggleable__control:checked~label.sk-toggleable__label {background-color: #d4ebff;}#sk-container-id-2 div.sk-label input.sk-toggleable__control:checked~label.sk-toggleable__label {background-color: #d4ebff;}#sk-container-id-2 input.sk-hidden--visually {border: 0;clip: rect(1px 1px 1px 1px);clip: rect(1px, 1px, 1px, 1px);height: 1px;margin: -1px;overflow: hidden;padding: 0;position: absolute;width: 1px;}#sk-container-id-2 div.sk-estimator {font-family: monospace;background-color: #f0f8ff;border: 1px dotted black;border-radius: 0.25em;box-sizing: border-box;margin-bottom: 0.5em;}#sk-container-id-2 div.sk-estimator:hover {background-color: #d4ebff;}#sk-container-id-2 div.sk-parallel-item::after {content: \"\";width: 100%;border-bottom: 1px solid gray;flex-grow: 1;}#sk-container-id-2 div.sk-label:hover label.sk-toggleable__label {background-color: #d4ebff;}#sk-container-id-2 div.sk-serial::before {content: \"\";position: absolute;border-left: 1px solid gray;box-sizing: border-box;top: 0;bottom: 0;left: 50%;z-index: 0;}#sk-container-id-2 div.sk-serial {display: flex;flex-direction: column;align-items: center;background-color: white;padding-right: 0.2em;padding-left: 0.2em;position: relative;}#sk-container-id-2 div.sk-item {position: relative;z-index: 1;}#sk-container-id-2 div.sk-parallel {display: flex;align-items: stretch;justify-content: center;background-color: white;position: relative;}#sk-container-id-2 div.sk-item::before, #sk-container-id-2 div.sk-parallel-item::before {content: \"\";position: absolute;border-left: 1px solid gray;box-sizing: border-box;top: 0;bottom: 0;left: 50%;z-index: -1;}#sk-container-id-2 div.sk-parallel-item {display: flex;flex-direction: column;z-index: 1;position: relative;background-color: white;}#sk-container-id-2 div.sk-parallel-item:first-child::after {align-self: flex-end;width: 50%;}#sk-container-id-2 div.sk-parallel-item:last-child::after {align-self: flex-start;width: 50%;}#sk-container-id-2 div.sk-parallel-item:only-child::after {width: 0;}#sk-container-id-2 div.sk-dashed-wrapped {border: 1px dashed gray;margin: 0 0.4em 0.5em 0.4em;box-sizing: border-box;padding-bottom: 0.4em;background-color: white;}#sk-container-id-2 div.sk-label label {font-family: monospace;font-weight: bold;display: inline-block;line-height: 1.2em;}#sk-container-id-2 div.sk-label-container {text-align: center;}#sk-container-id-2 div.sk-container {/* jupyter's `normalize.less` sets `[hidden] { display: none; }` but bootstrap.min.css set `[hidden] { display: none !important; }` so we also need the `!important` here to be able to override the default hidden behavior on the sphinx rendered scikit-learn.org. See: https://github.com/scikit-learn/scikit-learn/issues/21755 */display: inline-block !important;position: relative;}#sk-container-id-2 div.sk-text-repr-fallback {display: none;}</style><div id=\"sk-container-id-2\" class=\"sk-top-container\"><div class=\"sk-text-repr-fallback\"><pre>KNeighborsClassifier()</pre><b>In a Jupyter environment, please rerun this cell to show the HTML representation or trust the notebook. <br />On GitHub, the HTML representation is unable to render, please try loading this page with nbviewer.org.</b></div><div class=\"sk-container\" hidden><div class=\"sk-item\"><div class=\"sk-estimator sk-toggleable\"><input class=\"sk-toggleable__control sk-hidden--visually\" id=\"sk-estimator-id-2\" type=\"checkbox\" checked><label for=\"sk-estimator-id-2\" class=\"sk-toggleable__label sk-toggleable__label-arrow\">KNeighborsClassifier</label><div class=\"sk-toggleable__content\"><pre>KNeighborsClassifier()</pre></div></div></div></div></div>"
      ],
      "text/plain": [
       "KNeighborsClassifier()"
      ]
     },
     "execution_count": 24,
     "metadata": {},
     "output_type": "execute_result"
    }
   ],
   "source": [
    "model.fit(X_train, y_train)"
   ]
  },
  {
   "cell_type": "code",
   "execution_count": 25,
   "id": "b959fce0",
   "metadata": {},
   "outputs": [
    {
     "data": {
      "text/plain": [
       "0.5784543325526932"
      ]
     },
     "execution_count": 25,
     "metadata": {},
     "output_type": "execute_result"
    }
   ],
   "source": [
    "model.score(X_test, y_test)"
   ]
  },
  {
   "cell_type": "code",
   "execution_count": null,
   "id": "986d749c",
   "metadata": {},
   "outputs": [],
   "source": [
    "from xgboost import XGBClassifier\n",
    "\n",
    "model = XGBClassifier()"
   ]
  },
  {
   "cell_type": "code",
   "execution_count": 27,
   "id": "560767b3",
   "metadata": {},
   "outputs": [
    {
     "data": {
      "text/html": [
       "<style>#sk-container-id-3 {color: black;}#sk-container-id-3 pre{padding: 0;}#sk-container-id-3 div.sk-toggleable {background-color: white;}#sk-container-id-3 label.sk-toggleable__label {cursor: pointer;display: block;width: 100%;margin-bottom: 0;padding: 0.3em;box-sizing: border-box;text-align: center;}#sk-container-id-3 label.sk-toggleable__label-arrow:before {content: \"▸\";float: left;margin-right: 0.25em;color: #696969;}#sk-container-id-3 label.sk-toggleable__label-arrow:hover:before {color: black;}#sk-container-id-3 div.sk-estimator:hover label.sk-toggleable__label-arrow:before {color: black;}#sk-container-id-3 div.sk-toggleable__content {max-height: 0;max-width: 0;overflow: hidden;text-align: left;background-color: #f0f8ff;}#sk-container-id-3 div.sk-toggleable__content pre {margin: 0.2em;color: black;border-radius: 0.25em;background-color: #f0f8ff;}#sk-container-id-3 input.sk-toggleable__control:checked~div.sk-toggleable__content {max-height: 200px;max-width: 100%;overflow: auto;}#sk-container-id-3 input.sk-toggleable__control:checked~label.sk-toggleable__label-arrow:before {content: \"▾\";}#sk-container-id-3 div.sk-estimator input.sk-toggleable__control:checked~label.sk-toggleable__label {background-color: #d4ebff;}#sk-container-id-3 div.sk-label input.sk-toggleable__control:checked~label.sk-toggleable__label {background-color: #d4ebff;}#sk-container-id-3 input.sk-hidden--visually {border: 0;clip: rect(1px 1px 1px 1px);clip: rect(1px, 1px, 1px, 1px);height: 1px;margin: -1px;overflow: hidden;padding: 0;position: absolute;width: 1px;}#sk-container-id-3 div.sk-estimator {font-family: monospace;background-color: #f0f8ff;border: 1px dotted black;border-radius: 0.25em;box-sizing: border-box;margin-bottom: 0.5em;}#sk-container-id-3 div.sk-estimator:hover {background-color: #d4ebff;}#sk-container-id-3 div.sk-parallel-item::after {content: \"\";width: 100%;border-bottom: 1px solid gray;flex-grow: 1;}#sk-container-id-3 div.sk-label:hover label.sk-toggleable__label {background-color: #d4ebff;}#sk-container-id-3 div.sk-serial::before {content: \"\";position: absolute;border-left: 1px solid gray;box-sizing: border-box;top: 0;bottom: 0;left: 50%;z-index: 0;}#sk-container-id-3 div.sk-serial {display: flex;flex-direction: column;align-items: center;background-color: white;padding-right: 0.2em;padding-left: 0.2em;position: relative;}#sk-container-id-3 div.sk-item {position: relative;z-index: 1;}#sk-container-id-3 div.sk-parallel {display: flex;align-items: stretch;justify-content: center;background-color: white;position: relative;}#sk-container-id-3 div.sk-item::before, #sk-container-id-3 div.sk-parallel-item::before {content: \"\";position: absolute;border-left: 1px solid gray;box-sizing: border-box;top: 0;bottom: 0;left: 50%;z-index: -1;}#sk-container-id-3 div.sk-parallel-item {display: flex;flex-direction: column;z-index: 1;position: relative;background-color: white;}#sk-container-id-3 div.sk-parallel-item:first-child::after {align-self: flex-end;width: 50%;}#sk-container-id-3 div.sk-parallel-item:last-child::after {align-self: flex-start;width: 50%;}#sk-container-id-3 div.sk-parallel-item:only-child::after {width: 0;}#sk-container-id-3 div.sk-dashed-wrapped {border: 1px dashed gray;margin: 0 0.4em 0.5em 0.4em;box-sizing: border-box;padding-bottom: 0.4em;background-color: white;}#sk-container-id-3 div.sk-label label {font-family: monospace;font-weight: bold;display: inline-block;line-height: 1.2em;}#sk-container-id-3 div.sk-label-container {text-align: center;}#sk-container-id-3 div.sk-container {/* jupyter's `normalize.less` sets `[hidden] { display: none; }` but bootstrap.min.css set `[hidden] { display: none !important; }` so we also need the `!important` here to be able to override the default hidden behavior on the sphinx rendered scikit-learn.org. See: https://github.com/scikit-learn/scikit-learn/issues/21755 */display: inline-block !important;position: relative;}#sk-container-id-3 div.sk-text-repr-fallback {display: none;}</style><div id=\"sk-container-id-3\" class=\"sk-top-container\"><div class=\"sk-text-repr-fallback\"><pre>XGBClassifier(base_score=None, booster=None, callbacks=None,\n",
       "              colsample_bylevel=None, colsample_bynode=None,\n",
       "              colsample_bytree=None, device=None, early_stopping_rounds=None,\n",
       "              enable_categorical=False, eval_metric=None, feature_types=None,\n",
       "              gamma=None, grow_policy=None, importance_type=None,\n",
       "              interaction_constraints=None, learning_rate=None, max_bin=None,\n",
       "              max_cat_threshold=None, max_cat_to_onehot=None,\n",
       "              max_delta_step=None, max_depth=None, max_leaves=None,\n",
       "              min_child_weight=None, missing=nan, monotone_constraints=None,\n",
       "              multi_strategy=None, n_estimators=None, n_jobs=None,\n",
       "              num_parallel_tree=None, random_state=None, ...)</pre><b>In a Jupyter environment, please rerun this cell to show the HTML representation or trust the notebook. <br />On GitHub, the HTML representation is unable to render, please try loading this page with nbviewer.org.</b></div><div class=\"sk-container\" hidden><div class=\"sk-item\"><div class=\"sk-estimator sk-toggleable\"><input class=\"sk-toggleable__control sk-hidden--visually\" id=\"sk-estimator-id-3\" type=\"checkbox\" checked><label for=\"sk-estimator-id-3\" class=\"sk-toggleable__label sk-toggleable__label-arrow\">XGBClassifier</label><div class=\"sk-toggleable__content\"><pre>XGBClassifier(base_score=None, booster=None, callbacks=None,\n",
       "              colsample_bylevel=None, colsample_bynode=None,\n",
       "              colsample_bytree=None, device=None, early_stopping_rounds=None,\n",
       "              enable_categorical=False, eval_metric=None, feature_types=None,\n",
       "              gamma=None, grow_policy=None, importance_type=None,\n",
       "              interaction_constraints=None, learning_rate=None, max_bin=None,\n",
       "              max_cat_threshold=None, max_cat_to_onehot=None,\n",
       "              max_delta_step=None, max_depth=None, max_leaves=None,\n",
       "              min_child_weight=None, missing=nan, monotone_constraints=None,\n",
       "              multi_strategy=None, n_estimators=None, n_jobs=None,\n",
       "              num_parallel_tree=None, random_state=None, ...)</pre></div></div></div></div></div>"
      ],
      "text/plain": [
       "XGBClassifier(base_score=None, booster=None, callbacks=None,\n",
       "              colsample_bylevel=None, colsample_bynode=None,\n",
       "              colsample_bytree=None, device=None, early_stopping_rounds=None,\n",
       "              enable_categorical=False, eval_metric=None, feature_types=None,\n",
       "              gamma=None, grow_policy=None, importance_type=None,\n",
       "              interaction_constraints=None, learning_rate=None, max_bin=None,\n",
       "              max_cat_threshold=None, max_cat_to_onehot=None,\n",
       "              max_delta_step=None, max_depth=None, max_leaves=None,\n",
       "              min_child_weight=None, missing=nan, monotone_constraints=None,\n",
       "              multi_strategy=None, n_estimators=None, n_jobs=None,\n",
       "              num_parallel_tree=None, random_state=None, ...)"
      ]
     },
     "execution_count": 27,
     "metadata": {},
     "output_type": "execute_result"
    }
   ],
   "source": [
    "model.fit(X_train, y_train)"
   ]
  },
  {
   "cell_type": "code",
   "execution_count": 28,
   "id": "78228d59",
   "metadata": {},
   "outputs": [
    {
     "data": {
      "text/plain": [
       "0.9824355971896955"
      ]
     },
     "execution_count": 28,
     "metadata": {},
     "output_type": "execute_result"
    }
   ],
   "source": [
    "model.score(X_test, y_test)"
   ]
  },
  {
   "cell_type": "code",
   "execution_count": 31,
   "id": "9b6b7721",
   "metadata": {},
   "outputs": [],
   "source": [
    "import optuna"
   ]
  },
  {
   "cell_type": "code",
   "execution_count": 39,
   "id": "5c3cbb39",
   "metadata": {},
   "outputs": [],
   "source": [
    "def objective(trial):\n",
    "    params = {\n",
    "    \"learning_rate\": trial.suggest_float(\"learning_rate\", 0, 1),\n",
    "    \"max_depth\": trial.suggest_int(\"max_depth\", 8, 12),\n",
    "    \"max_leaves\": trial.suggest_int(\"max_leaves\", 2, 8),\n",
    "    \"num_parallel_tree\": trial.suggest_int(\"num_parallel_tree\", 2, 4),\n",
    "    \"n_estimators\": trial.suggest_int(\"n_estimators\", 200, 1000)\n",
    "}\n",
    "    model = XGBClassifier(**params)\n",
    "    model.fit(X_train, y_train)\n",
    "    return model.score(X_test, y_test)\n"
   ]
  },
  {
   "cell_type": "code",
   "execution_count": 40,
   "id": "a61858c9",
   "metadata": {},
   "outputs": [
    {
     "name": "stderr",
     "output_type": "stream",
     "text": [
      "[I 2025-04-11 09:05:33,240] A new study created in memory with name: no-name-7314d441-14c1-4eef-833b-590361dcf0d4\n"
     ]
    }
   ],
   "source": [
    "study = optuna.create_study(direction=\"maximize\")"
   ]
  },
  {
   "cell_type": "code",
   "execution_count": 42,
   "id": "23fdedff",
   "metadata": {},
   "outputs": [
    {
     "data": {
      "application/vnd.jupyter.widget-view+json": {
       "model_id": "2737a63bee2f4fdebb503a7746618d6f",
       "version_major": 2,
       "version_minor": 0
      },
      "text/plain": [
       "  0%|          | 0/300 [00:00<?, ?it/s]"
      ]
     },
     "metadata": {},
     "output_type": "display_data"
    },
    {
     "name": "stdout",
     "output_type": "stream",
     "text": [
      "[I 2025-04-11 09:06:32,005] Trial 102 finished with value: 0.9789227166276346 and parameters: {'learning_rate': 0.4327598807487135, 'max_depth': 12, 'max_leaves': 7, 'num_parallel_tree': 3, 'n_estimators': 516}. Best is trial 35 with value: 0.9812646370023419.\n",
      "[I 2025-04-11 09:06:32,409] Trial 104 finished with value: 0.9765807962529274 and parameters: {'learning_rate': 0.9980360524109642, 'max_depth': 12, 'max_leaves': 7, 'num_parallel_tree': 3, 'n_estimators': 697}. Best is trial 35 with value: 0.9812646370023419.\n",
      "[I 2025-04-11 09:06:32,571] Trial 106 finished with value: 0.977751756440281 and parameters: {'learning_rate': 0.9736570970646059, 'max_depth': 12, 'max_leaves': 7, 'num_parallel_tree': 3, 'n_estimators': 713}. Best is trial 35 with value: 0.9812646370023419.\n",
      "[I 2025-04-11 09:06:33,440] Trial 107 finished with value: 0.9800936768149883 and parameters: {'learning_rate': 0.9018178120641562, 'max_depth': 12, 'max_leaves': 7, 'num_parallel_tree': 3, 'n_estimators': 844}. Best is trial 35 with value: 0.9812646370023419.\n",
      "[I 2025-04-11 09:06:34,165] Trial 105 finished with value: 0.9789227166276346 and parameters: {'learning_rate': 0.5623890073086094, 'max_depth': 12, 'max_leaves': 7, 'num_parallel_tree': 3, 'n_estimators': 843}. Best is trial 35 with value: 0.9812646370023419.\n",
      "[I 2025-04-11 09:06:34,448] Trial 101 finished with value: 0.9765807962529274 and parameters: {'learning_rate': 0.44339887546805007, 'max_depth': 12, 'max_leaves': 7, 'num_parallel_tree': 3, 'n_estimators': 809}. Best is trial 35 with value: 0.9812646370023419.\n",
      "[I 2025-04-11 09:06:34,740] Trial 103 finished with value: 0.977751756440281 and parameters: {'learning_rate': 0.4342557417923443, 'max_depth': 12, 'max_leaves': 7, 'num_parallel_tree': 3, 'n_estimators': 854}. Best is trial 35 with value: 0.9812646370023419.\n",
      "[I 2025-04-11 09:06:34,911] Trial 100 finished with value: 0.977751756440281 and parameters: {'learning_rate': 0.4358296356833867, 'max_depth': 12, 'max_leaves': 7, 'num_parallel_tree': 3, 'n_estimators': 869}. Best is trial 35 with value: 0.9812646370023419.\n",
      "[I 2025-04-11 09:06:36,781] Trial 115 finished with value: 0.9765807962529274 and parameters: {'learning_rate': 0.3891070259803487, 'max_depth': 11, 'max_leaves': 7, 'num_parallel_tree': 2, 'n_estimators': 306}. Best is trial 35 with value: 0.9812646370023419.\n",
      "[I 2025-04-11 09:06:37,941] Trial 108 finished with value: 0.977751756440281 and parameters: {'learning_rate': 0.3838949307733258, 'max_depth': 12, 'max_leaves': 7, 'num_parallel_tree': 3, 'n_estimators': 718}. Best is trial 35 with value: 0.9812646370023419.\n",
      "[I 2025-04-11 09:06:38,365] Trial 109 finished with value: 0.977751756440281 and parameters: {'learning_rate': 0.6554750563178455, 'max_depth': 12, 'max_leaves': 7, 'num_parallel_tree': 3, 'n_estimators': 828}. Best is trial 35 with value: 0.9812646370023419.\n",
      "[I 2025-04-11 09:06:38,674] Trial 110 finished with value: 0.9800936768149883 and parameters: {'learning_rate': 0.5632849050101143, 'max_depth': 11, 'max_leaves': 7, 'num_parallel_tree': 3, 'n_estimators': 811}. Best is trial 35 with value: 0.9812646370023419.\n",
      "[I 2025-04-11 09:06:38,999] Trial 111 finished with value: 0.9812646370023419 and parameters: {'learning_rate': 0.9078564998296426, 'max_depth': 12, 'max_leaves': 7, 'num_parallel_tree': 3, 'n_estimators': 835}. Best is trial 35 with value: 0.9812646370023419.\n",
      "[I 2025-04-11 09:06:39,552] Trial 112 finished with value: 0.9824355971896955 and parameters: {'learning_rate': 0.9176348437646387, 'max_depth': 12, 'max_leaves': 7, 'num_parallel_tree': 3, 'n_estimators': 781}. Best is trial 112 with value: 0.9824355971896955.\n",
      "[I 2025-04-11 09:06:40,307] Trial 114 finished with value: 0.9800936768149883 and parameters: {'learning_rate': 0.9246870566059435, 'max_depth': 11, 'max_leaves': 7, 'num_parallel_tree': 3, 'n_estimators': 819}. Best is trial 112 with value: 0.9824355971896955.\n",
      "[I 2025-04-11 09:06:41,223] Trial 113 finished with value: 0.9754098360655737 and parameters: {'learning_rate': 0.35719703626874527, 'max_depth': 12, 'max_leaves': 7, 'num_parallel_tree': 3, 'n_estimators': 830}. Best is trial 112 with value: 0.9824355971896955.\n",
      "[I 2025-04-11 09:06:42,037] Trial 119 finished with value: 0.9754098360655737 and parameters: {'learning_rate': 0.5706940696422546, 'max_depth': 11, 'max_leaves': 2, 'num_parallel_tree': 3, 'n_estimators': 899}. Best is trial 112 with value: 0.9824355971896955.\n",
      "[I 2025-04-11 09:06:42,398] Trial 118 finished with value: 0.9742388758782201 and parameters: {'learning_rate': 0.9107035250886653, 'max_depth': 12, 'max_leaves': 4, 'num_parallel_tree': 3, 'n_estimators': 578}. Best is trial 112 with value: 0.9824355971896955.\n",
      "[I 2025-04-11 09:06:43,198] Trial 116 finished with value: 0.9765807962529274 and parameters: {'learning_rate': 0.3564948489627246, 'max_depth': 12, 'max_leaves': 7, 'num_parallel_tree': 3, 'n_estimators': 782}. Best is trial 112 with value: 0.9824355971896955.\n",
      "[I 2025-04-11 09:06:44,203] Trial 117 finished with value: 0.9754098360655737 and parameters: {'learning_rate': 0.6427677324954252, 'max_depth': 12, 'max_leaves': 7, 'num_parallel_tree': 3, 'n_estimators': 803}. Best is trial 112 with value: 0.9824355971896955.\n",
      "[I 2025-04-11 09:06:44,838] Trial 120 finished with value: 0.9836065573770492 and parameters: {'learning_rate': 0.9113858588282673, 'max_depth': 11, 'max_leaves': 7, 'num_parallel_tree': 3, 'n_estimators': 872}. Best is trial 120 with value: 0.9836065573770492.\n",
      "[I 2025-04-11 09:06:45,399] Trial 121 finished with value: 0.9765807962529274 and parameters: {'learning_rate': 0.5999890781824245, 'max_depth': 11, 'max_leaves': 7, 'num_parallel_tree': 3, 'n_estimators': 781}. Best is trial 120 with value: 0.9836065573770492.\n",
      "[I 2025-04-11 09:06:46,083] Trial 122 finished with value: 0.9765807962529274 and parameters: {'learning_rate': 0.9451566143974409, 'max_depth': 11, 'max_leaves': 7, 'num_parallel_tree': 3, 'n_estimators': 884}. Best is trial 120 with value: 0.9836065573770492.\n",
      "[I 2025-04-11 09:06:46,458] Trial 123 finished with value: 0.977751756440281 and parameters: {'learning_rate': 0.5583432029736409, 'max_depth': 11, 'max_leaves': 4, 'num_parallel_tree': 3, 'n_estimators': 780}. Best is trial 120 with value: 0.9836065573770492.\n",
      "[I 2025-04-11 09:06:47,380] Trial 124 finished with value: 0.977751756440281 and parameters: {'learning_rate': 0.9306905546057754, 'max_depth': 11, 'max_leaves': 7, 'num_parallel_tree': 3, 'n_estimators': 785}. Best is trial 120 with value: 0.9836065573770492.\n",
      "[I 2025-04-11 09:06:47,763] Trial 125 finished with value: 0.9754098360655737 and parameters: {'learning_rate': 0.9558060559979343, 'max_depth': 11, 'max_leaves': 7, 'num_parallel_tree': 3, 'n_estimators': 787}. Best is trial 120 with value: 0.9836065573770492.\n",
      "[I 2025-04-11 09:06:48,611] Trial 126 finished with value: 0.9789227166276346 and parameters: {'learning_rate': 0.8918117664846588, 'max_depth': 11, 'max_leaves': 7, 'num_parallel_tree': 3, 'n_estimators': 798}. Best is trial 120 with value: 0.9836065573770492.\n",
      "[I 2025-04-11 09:06:49,644] Trial 127 finished with value: 0.9765807962529274 and parameters: {'learning_rate': 0.5931872163671895, 'max_depth': 11, 'max_leaves': 7, 'num_parallel_tree': 3, 'n_estimators': 776}. Best is trial 120 with value: 0.9836065573770492.\n",
      "[I 2025-04-11 09:06:50,250] Trial 128 finished with value: 0.9812646370023419 and parameters: {'learning_rate': 0.9070140005562319, 'max_depth': 11, 'max_leaves': 7, 'num_parallel_tree': 3, 'n_estimators': 881}. Best is trial 120 with value: 0.9836065573770492.\n",
      "[I 2025-04-11 09:06:50,871] Trial 129 finished with value: 0.9812646370023419 and parameters: {'learning_rate': 0.9017786151054193, 'max_depth': 11, 'max_leaves': 7, 'num_parallel_tree': 3, 'n_estimators': 888}. Best is trial 120 with value: 0.9836065573770492.\n",
      "[I 2025-04-11 09:06:51,578] Trial 130 finished with value: 0.977751756440281 and parameters: {'learning_rate': 0.8893251990504261, 'max_depth': 11, 'max_leaves': 7, 'num_parallel_tree': 3, 'n_estimators': 874}. Best is trial 120 with value: 0.9836065573770492.\n",
      "[I 2025-04-11 09:06:52,156] Trial 131 finished with value: 0.9789227166276346 and parameters: {'learning_rate': 0.891159064530887, 'max_depth': 11, 'max_leaves': 7, 'num_parallel_tree': 3, 'n_estimators': 916}. Best is trial 120 with value: 0.9836065573770492.\n",
      "[I 2025-04-11 09:06:52,306] Trial 132 finished with value: 0.977751756440281 and parameters: {'learning_rate': 0.8709452225674442, 'max_depth': 12, 'max_leaves': 7, 'num_parallel_tree': 3, 'n_estimators': 729}. Best is trial 120 with value: 0.9836065573770492.\n",
      "[I 2025-04-11 09:06:53,448] Trial 134 finished with value: 0.9824355971896955 and parameters: {'learning_rate': 0.8491035772581764, 'max_depth': 12, 'max_leaves': 7, 'num_parallel_tree': 3, 'n_estimators': 730}. Best is trial 120 with value: 0.9836065573770492.\n",
      "[I 2025-04-11 09:06:53,590] Trial 133 finished with value: 0.977751756440281 and parameters: {'learning_rate': 0.8534853936084649, 'max_depth': 12, 'max_leaves': 7, 'num_parallel_tree': 3, 'n_estimators': 929}. Best is trial 120 with value: 0.9836065573770492.\n",
      "[I 2025-04-11 09:06:55,346] Trial 135 finished with value: 0.9789227166276346 and parameters: {'learning_rate': 0.831970873571901, 'max_depth': 12, 'max_leaves': 7, 'num_parallel_tree': 3, 'n_estimators': 914}. Best is trial 120 with value: 0.9836065573770492.\n",
      "[I 2025-04-11 09:06:56,124] Trial 136 finished with value: 0.9789227166276346 and parameters: {'learning_rate': 0.8404438419199289, 'max_depth': 12, 'max_leaves': 7, 'num_parallel_tree': 3, 'n_estimators': 978}. Best is trial 120 with value: 0.9836065573770492.\n",
      "[I 2025-04-11 09:06:56,630] Trial 137 finished with value: 0.977751756440281 and parameters: {'learning_rate': 0.8329262337689687, 'max_depth': 11, 'max_leaves': 7, 'num_parallel_tree': 3, 'n_estimators': 935}. Best is trial 120 with value: 0.9836065573770492.\n",
      "[I 2025-04-11 09:06:56,913] Trial 138 finished with value: 0.9789227166276346 and parameters: {'learning_rate': 0.8447296033596078, 'max_depth': 12, 'max_leaves': 7, 'num_parallel_tree': 3, 'n_estimators': 838}. Best is trial 120 with value: 0.9836065573770492.\n",
      "[I 2025-04-11 09:06:58,064] Trial 140 finished with value: 0.977751756440281 and parameters: {'learning_rate': 0.8425598967951702, 'max_depth': 12, 'max_leaves': 7, 'num_parallel_tree': 3, 'n_estimators': 955}. Best is trial 120 with value: 0.9836065573770492.\n",
      "[I 2025-04-11 09:06:58,143] Trial 139 finished with value: 0.9789227166276346 and parameters: {'learning_rate': 0.8293602809127175, 'max_depth': 12, 'max_leaves': 7, 'num_parallel_tree': 3, 'n_estimators': 972}. Best is trial 120 with value: 0.9836065573770492.\n",
      "[I 2025-04-11 09:06:59,267] Trial 141 finished with value: 0.9836065573770492 and parameters: {'learning_rate': 0.8486237198802052, 'max_depth': 12, 'max_leaves': 7, 'num_parallel_tree': 3, 'n_estimators': 957}. Best is trial 120 with value: 0.9836065573770492.\n",
      "[I 2025-04-11 09:06:59,611] Trial 142 finished with value: 0.977751756440281 and parameters: {'learning_rate': 0.8325986332481331, 'max_depth': 12, 'max_leaves': 7, 'num_parallel_tree': 3, 'n_estimators': 968}. Best is trial 120 with value: 0.9836065573770492.\n",
      "[I 2025-04-11 09:07:00,008] Trial 143 finished with value: 0.9765807962529274 and parameters: {'learning_rate': 0.8512534020889938, 'max_depth': 12, 'max_leaves': 7, 'num_parallel_tree': 3, 'n_estimators': 672}. Best is trial 120 with value: 0.9836065573770492.\n",
      "[I 2025-04-11 09:07:00,343] Trial 145 finished with value: 0.9742388758782201 and parameters: {'learning_rate': 0.9156913439544005, 'max_depth': 12, 'max_leaves': 6, 'num_parallel_tree': 3, 'n_estimators': 496}. Best is trial 120 with value: 0.9836065573770492.\n",
      "[I 2025-04-11 09:07:01,387] Trial 149 finished with value: 0.9742388758782201 and parameters: {'learning_rate': 0.963079834483652, 'max_depth': 12, 'max_leaves': 7, 'num_parallel_tree': 3, 'n_estimators': 260}. Best is trial 120 with value: 0.9836065573770492.\n",
      "[I 2025-04-11 09:07:02,300] Trial 144 finished with value: 0.9800936768149883 and parameters: {'learning_rate': 0.7984854492278852, 'max_depth': 12, 'max_leaves': 7, 'num_parallel_tree': 3, 'n_estimators': 950}. Best is trial 120 with value: 0.9836065573770492.\n",
      "[I 2025-04-11 09:07:02,727] Trial 146 finished with value: 0.9765807962529274 and parameters: {'learning_rate': 0.9685699093665922, 'max_depth': 12, 'max_leaves': 6, 'num_parallel_tree': 3, 'n_estimators': 959}. Best is trial 120 with value: 0.9836065573770492.\n",
      "[I 2025-04-11 09:07:02,900] Trial 147 finished with value: 0.9800936768149883 and parameters: {'learning_rate': 0.8117974316981886, 'max_depth': 12, 'max_leaves': 7, 'num_parallel_tree': 3, 'n_estimators': 686}. Best is trial 120 with value: 0.9836065573770492.\n",
      "[I 2025-04-11 09:07:03,868] Trial 148 finished with value: 0.977751756440281 and parameters: {'learning_rate': 0.9231979806051976, 'max_depth': 12, 'max_leaves': 7, 'num_parallel_tree': 3, 'n_estimators': 897}. Best is trial 120 with value: 0.9836065573770492.\n",
      "[I 2025-04-11 09:07:05,027] Trial 150 finished with value: 0.9824355971896955 and parameters: {'learning_rate': 0.809184947846627, 'max_depth': 12, 'max_leaves': 7, 'num_parallel_tree': 3, 'n_estimators': 860}. Best is trial 120 with value: 0.9836065573770492.\n",
      "[I 2025-04-11 09:07:05,823] Trial 151 finished with value: 0.9847775175644028 and parameters: {'learning_rate': 0.8064489846310308, 'max_depth': 12, 'max_leaves': 7, 'num_parallel_tree': 3, 'n_estimators': 950}. Best is trial 151 with value: 0.9847775175644028.\n",
      "[I 2025-04-11 09:07:05,895] Trial 152 finished with value: 0.9754098360655737 and parameters: {'learning_rate': 0.7951318339937854, 'max_depth': 12, 'max_leaves': 7, 'num_parallel_tree': 3, 'n_estimators': 889}. Best is trial 151 with value: 0.9847775175644028.\n",
      "[I 2025-04-11 09:07:07,738] Trial 155 finished with value: 0.977751756440281 and parameters: {'learning_rate': 0.9381652728946982, 'max_depth': 11, 'max_leaves': 7, 'num_parallel_tree': 3, 'n_estimators': 886}. Best is trial 151 with value: 0.9847775175644028.\n",
      "[I 2025-04-11 09:07:08,308] Trial 153 finished with value: 0.9824355971896955 and parameters: {'learning_rate': 0.803004548682874, 'max_depth': 12, 'max_leaves': 7, 'num_parallel_tree': 4, 'n_estimators': 894}. Best is trial 151 with value: 0.9847775175644028.\n",
      "[I 2025-04-11 09:07:09,213] Trial 154 finished with value: 0.9789227166276346 and parameters: {'learning_rate': 0.8072912489539705, 'max_depth': 11, 'max_leaves': 7, 'num_parallel_tree': 4, 'n_estimators': 895}. Best is trial 151 with value: 0.9847775175644028.\n",
      "[I 2025-04-11 09:07:09,840] Trial 156 finished with value: 0.9800936768149883 and parameters: {'learning_rate': 0.7521044535743678, 'max_depth': 11, 'max_leaves': 7, 'num_parallel_tree': 4, 'n_estimators': 894}. Best is trial 151 with value: 0.9847775175644028.\n",
      "[I 2025-04-11 09:07:10,251] Trial 158 finished with value: 0.9754098360655737 and parameters: {'learning_rate': 0.8662376049575831, 'max_depth': 12, 'max_leaves': 7, 'num_parallel_tree': 3, 'n_estimators': 855}. Best is trial 151 with value: 0.9847775175644028.\n",
      "[I 2025-04-11 09:07:10,625] Trial 157 finished with value: 0.9765807962529274 and parameters: {'learning_rate': 0.8807338305833302, 'max_depth': 11, 'max_leaves': 7, 'num_parallel_tree': 4, 'n_estimators': 883}. Best is trial 151 with value: 0.9847775175644028.\n",
      "[I 2025-04-11 09:07:12,622] Trial 160 finished with value: 0.9789227166276346 and parameters: {'learning_rate': 0.751959149649472, 'max_depth': 12, 'max_leaves': 7, 'num_parallel_tree': 4, 'n_estimators': 858}. Best is trial 151 with value: 0.9847775175644028.\n",
      "[I 2025-04-11 09:07:13,281] Trial 159 finished with value: 0.9789227166276346 and parameters: {'learning_rate': 0.8762665683008195, 'max_depth': 12, 'max_leaves': 7, 'num_parallel_tree': 4, 'n_estimators': 992}. Best is trial 151 with value: 0.9847775175644028.\n",
      "[I 2025-04-11 09:07:14,553] Trial 161 finished with value: 0.9800936768149883 and parameters: {'learning_rate': 0.8741462198589592, 'max_depth': 12, 'max_leaves': 7, 'num_parallel_tree': 4, 'n_estimators': 855}. Best is trial 151 with value: 0.9847775175644028.\n",
      "[I 2025-04-11 09:07:16,335] Trial 165 finished with value: 0.9789227166276346 and parameters: {'learning_rate': 0.8743523317750359, 'max_depth': 12, 'max_leaves': 7, 'num_parallel_tree': 3, 'n_estimators': 930}. Best is trial 151 with value: 0.9847775175644028.\n",
      "[I 2025-04-11 09:07:16,494] Trial 162 finished with value: 0.9789227166276346 and parameters: {'learning_rate': 0.865187369591071, 'max_depth': 12, 'max_leaves': 7, 'num_parallel_tree': 4, 'n_estimators': 999}. Best is trial 151 with value: 0.9847775175644028.\n",
      "[I 2025-04-11 09:07:17,518] Trial 164 finished with value: 0.9754098360655737 and parameters: {'learning_rate': 0.8611313984852099, 'max_depth': 12, 'max_leaves': 7, 'num_parallel_tree': 4, 'n_estimators': 867}. Best is trial 151 with value: 0.9847775175644028.\n",
      "[I 2025-04-11 09:07:18,098] Trial 163 finished with value: 0.9742388758782201 and parameters: {'learning_rate': 0.745210784041019, 'max_depth': 12, 'max_leaves': 7, 'num_parallel_tree': 4, 'n_estimators': 997}. Best is trial 151 with value: 0.9847775175644028.\n",
      "[I 2025-04-11 09:07:18,472] Trial 166 finished with value: 0.9765807962529274 and parameters: {'learning_rate': 0.8714990306320975, 'max_depth': 12, 'max_leaves': 7, 'num_parallel_tree': 4, 'n_estimators': 872}. Best is trial 151 with value: 0.9847775175644028.\n",
      "[I 2025-04-11 09:07:20,586] Trial 173 finished with value: 0.9789227166276346 and parameters: {'learning_rate': 0.5224475953768307, 'max_depth': 12, 'max_leaves': 7, 'num_parallel_tree': 3, 'n_estimators': 308}. Best is trial 151 with value: 0.9847775175644028.\n",
      "[I 2025-04-11 09:07:20,885] Trial 174 finished with value: 0.9765807962529274 and parameters: {'learning_rate': 0.5144443854240894, 'max_depth': 12, 'max_leaves': 7, 'num_parallel_tree': 3, 'n_estimators': 300}. Best is trial 151 with value: 0.9847775175644028.\n",
      "[I 2025-04-11 09:07:21,246] Trial 167 finished with value: 0.977751756440281 and parameters: {'learning_rate': 0.695326050365283, 'max_depth': 12, 'max_leaves': 7, 'num_parallel_tree': 4, 'n_estimators': 912}. Best is trial 151 with value: 0.9847775175644028.\n",
      "[I 2025-04-11 09:07:21,531] Trial 168 finished with value: 0.9765807962529274 and parameters: {'learning_rate': 0.692699270578294, 'max_depth': 12, 'max_leaves': 7, 'num_parallel_tree': 4, 'n_estimators': 867}. Best is trial 151 with value: 0.9847775175644028.\n",
      "[I 2025-04-11 09:07:21,886] Trial 169 finished with value: 0.9765807962529274 and parameters: {'learning_rate': 0.5200307319029592, 'max_depth': 12, 'max_leaves': 7, 'num_parallel_tree': 3, 'n_estimators': 872}. Best is trial 151 with value: 0.9847775175644028.\n",
      "[I 2025-04-11 09:07:22,426] Trial 170 finished with value: 0.9800936768149883 and parameters: {'learning_rate': 0.9065018523553944, 'max_depth': 12, 'max_leaves': 7, 'num_parallel_tree': 3, 'n_estimators': 867}. Best is trial 151 with value: 0.9847775175644028.\n",
      "[I 2025-04-11 09:07:23,510] Trial 171 finished with value: 0.977751756440281 and parameters: {'learning_rate': 0.517379860792308, 'max_depth': 12, 'max_leaves': 7, 'num_parallel_tree': 3, 'n_estimators': 908}. Best is trial 151 with value: 0.9847775175644028.\n",
      "[I 2025-04-11 09:07:23,723] Trial 172 finished with value: 0.9789227166276346 and parameters: {'learning_rate': 0.9036455689928423, 'max_depth': 12, 'max_leaves': 7, 'num_parallel_tree': 3, 'n_estimators': 918}. Best is trial 151 with value: 0.9847775175644028.\n",
      "[I 2025-04-11 09:07:24,696] Trial 177 finished with value: 0.9765807962529274 and parameters: {'learning_rate': 0.9066868271165328, 'max_depth': 12, 'max_leaves': 8, 'num_parallel_tree': 3, 'n_estimators': 438}. Best is trial 151 with value: 0.9847775175644028.\n",
      "[I 2025-04-11 09:07:25,516] Trial 179 finished with value: 0.9765807962529274 and parameters: {'learning_rate': 0.6693378058090486, 'max_depth': 12, 'max_leaves': 7, 'num_parallel_tree': 3, 'n_estimators': 461}. Best is trial 151 with value: 0.9847775175644028.\n",
      "[I 2025-04-11 09:07:26,724] Trial 176 finished with value: 0.9812646370023419 and parameters: {'learning_rate': 0.9013152118930094, 'max_depth': 12, 'max_leaves': 7, 'num_parallel_tree': 3, 'n_estimators': 911}. Best is trial 151 with value: 0.9847775175644028.\n",
      "[I 2025-04-11 09:07:27,057] Trial 175 finished with value: 0.9800936768149883 and parameters: {'learning_rate': 0.6800924815855328, 'max_depth': 12, 'max_leaves': 7, 'num_parallel_tree': 3, 'n_estimators': 910}. Best is trial 151 with value: 0.9847775175644028.\n",
      "[I 2025-04-11 09:07:27,380] Trial 180 finished with value: 0.9789227166276346 and parameters: {'learning_rate': 0.7885664967650383, 'max_depth': 12, 'max_leaves': 7, 'num_parallel_tree': 3, 'n_estimators': 723}. Best is trial 151 with value: 0.9847775175644028.\n",
      "[I 2025-04-11 09:07:27,544] Trial 178 finished with value: 0.9824355971896955 and parameters: {'learning_rate': 0.9097159232020521, 'max_depth': 12, 'max_leaves': 7, 'num_parallel_tree': 3, 'n_estimators': 944}. Best is trial 151 with value: 0.9847775175644028.\n",
      "[I 2025-04-11 09:07:28,614] Trial 181 finished with value: 0.977751756440281 and parameters: {'learning_rate': 0.6611193189373936, 'max_depth': 12, 'max_leaves': 7, 'num_parallel_tree': 3, 'n_estimators': 722}. Best is trial 151 with value: 0.9847775175644028.\n",
      "[I 2025-04-11 09:07:28,786] Trial 182 finished with value: 0.977751756440281 and parameters: {'learning_rate': 0.6715637578191859, 'max_depth': 12, 'max_leaves': 7, 'num_parallel_tree': 3, 'n_estimators': 728}. Best is trial 151 with value: 0.9847775175644028.\n",
      "[I 2025-04-11 09:07:30,069] Trial 183 finished with value: 0.9754098360655737 and parameters: {'learning_rate': 0.4775721683561214, 'max_depth': 12, 'max_leaves': 7, 'num_parallel_tree': 3, 'n_estimators': 726}. Best is trial 151 with value: 0.9847775175644028.\n",
      "[I 2025-04-11 09:07:30,478] Trial 184 finished with value: 0.977751756440281 and parameters: {'learning_rate': 0.7829349040764224, 'max_depth': 11, 'max_leaves': 7, 'num_parallel_tree': 3, 'n_estimators': 729}. Best is trial 151 with value: 0.9847775175644028.\n",
      "[I 2025-04-11 09:07:32,542] Trial 185 finished with value: 0.9800936768149883 and parameters: {'learning_rate': 0.7793452356955056, 'max_depth': 11, 'max_leaves': 7, 'num_parallel_tree': 3, 'n_estimators': 946}. Best is trial 151 with value: 0.9847775175644028.\n",
      "[I 2025-04-11 09:07:32,836] Trial 187 finished with value: 0.9789227166276346 and parameters: {'learning_rate': 0.9436902487206682, 'max_depth': 11, 'max_leaves': 7, 'num_parallel_tree': 3, 'n_estimators': 938}. Best is trial 151 with value: 0.9847775175644028.\n",
      "[I 2025-04-11 09:07:33,004] Trial 186 finished with value: 0.9789227166276346 and parameters: {'learning_rate': 0.4700258024974656, 'max_depth': 11, 'max_leaves': 7, 'num_parallel_tree': 3, 'n_estimators': 823}. Best is trial 151 with value: 0.9847775175644028.\n",
      "[I 2025-04-11 09:07:33,032] Trial 188 finished with value: 0.977751756440281 and parameters: {'learning_rate': 0.9382225396881665, 'max_depth': 12, 'max_leaves': 7, 'num_parallel_tree': 3, 'n_estimators': 946}. Best is trial 151 with value: 0.9847775175644028.\n",
      "[I 2025-04-11 09:07:34,373] Trial 190 finished with value: 0.9754098360655737 and parameters: {'learning_rate': 0.9433625420278458, 'max_depth': 11, 'max_leaves': 7, 'num_parallel_tree': 3, 'n_estimators': 951}. Best is trial 151 with value: 0.9847775175644028.\n",
      "[I 2025-04-11 09:07:34,901] Trial 193 finished with value: 0.9789227166276346 and parameters: {'learning_rate': 0.9395480686204559, 'max_depth': 12, 'max_leaves': 7, 'num_parallel_tree': 3, 'n_estimators': 275}. Best is trial 151 with value: 0.9847775175644028.\n",
      "[I 2025-04-11 09:07:35,388] Trial 189 finished with value: 0.977751756440281 and parameters: {'learning_rate': 0.47066405027337793, 'max_depth': 12, 'max_leaves': 7, 'num_parallel_tree': 3, 'n_estimators': 951}. Best is trial 151 with value: 0.9847775175644028.\n",
      "[I 2025-04-11 09:07:35,931] Trial 191 finished with value: 0.9800936768149883 and parameters: {'learning_rate': 0.9274050941121061, 'max_depth': 11, 'max_leaves': 7, 'num_parallel_tree': 3, 'n_estimators': 942}. Best is trial 151 with value: 0.9847775175644028.\n",
      "[I 2025-04-11 09:07:36,308] Trial 192 finished with value: 0.9742388758782201 and parameters: {'learning_rate': 0.9449940982352787, 'max_depth': 11, 'max_leaves': 7, 'num_parallel_tree': 3, 'n_estimators': 928}. Best is trial 151 with value: 0.9847775175644028.\n",
      "[I 2025-04-11 09:07:37,148] Trial 194 finished with value: 0.9789227166276346 and parameters: {'learning_rate': 0.9996420905668594, 'max_depth': 12, 'max_leaves': 7, 'num_parallel_tree': 3, 'n_estimators': 629}. Best is trial 151 with value: 0.9847775175644028.\n",
      "[I 2025-04-11 09:07:37,368] Trial 196 finished with value: 0.977751756440281 and parameters: {'learning_rate': 0.920358555591268, 'max_depth': 12, 'max_leaves': 7, 'num_parallel_tree': 3, 'n_estimators': 625}. Best is trial 151 with value: 0.9847775175644028.\n",
      "[I 2025-04-11 09:07:38,327] Trial 201 finished with value: 0.9789227166276346 and parameters: {'learning_rate': 0.8950837046523976, 'max_depth': 12, 'max_leaves': 7, 'num_parallel_tree': 3, 'n_estimators': 258}. Best is trial 151 with value: 0.9847775175644028.\n",
      "[I 2025-04-11 09:07:38,660] Trial 197 finished with value: 0.9742388758782201 and parameters: {'learning_rate': 0.9186312272452771, 'max_depth': 12, 'max_leaves': 6, 'num_parallel_tree': 3, 'n_estimators': 612}. Best is trial 151 with value: 0.9847775175644028.\n",
      "[I 2025-04-11 09:07:38,955] Trial 195 finished with value: 0.977751756440281 and parameters: {'learning_rate': 0.9923279943395847, 'max_depth': 12, 'max_leaves': 7, 'num_parallel_tree': 3, 'n_estimators': 927}. Best is trial 151 with value: 0.9847775175644028.\n",
      "[I 2025-04-11 09:07:40,246] Trial 198 finished with value: 0.977751756440281 and parameters: {'learning_rate': 0.9863868647775468, 'max_depth': 12, 'max_leaves': 7, 'num_parallel_tree': 3, 'n_estimators': 841}. Best is trial 151 with value: 0.9847775175644028.\n",
      "[I 2025-04-11 09:07:40,512] Trial 199 finished with value: 0.9836065573770492 and parameters: {'learning_rate': 0.9176655258765736, 'max_depth': 12, 'max_leaves': 7, 'num_parallel_tree': 3, 'n_estimators': 768}. Best is trial 151 with value: 0.9847775175644028.\n",
      "[I 2025-04-11 09:07:41,105] Trial 200 finished with value: 0.9800936768149883 and parameters: {'learning_rate': 0.8167343772825012, 'max_depth': 12, 'max_leaves': 7, 'num_parallel_tree': 3, 'n_estimators': 765}. Best is trial 151 with value: 0.9847775175644028.\n",
      "[I 2025-04-11 09:07:42,440] Trial 203 finished with value: 0.9824355971896955 and parameters: {'learning_rate': 0.8153129883339513, 'max_depth': 9, 'max_leaves': 7, 'num_parallel_tree': 3, 'n_estimators': 760}. Best is trial 151 with value: 0.9847775175644028.\n",
      "[I 2025-04-11 09:07:43,198] Trial 204 finished with value: 0.9789227166276346 and parameters: {'learning_rate': 0.8208378164839192, 'max_depth': 12, 'max_leaves': 7, 'num_parallel_tree': 3, 'n_estimators': 704}. Best is trial 151 with value: 0.9847775175644028.\n",
      "[I 2025-04-11 09:07:43,664] Trial 202 finished with value: 0.9765807962529274 and parameters: {'learning_rate': 0.09469662164536252, 'max_depth': 12, 'max_leaves': 7, 'num_parallel_tree': 3, 'n_estimators': 759}. Best is trial 151 with value: 0.9847775175644028.\n",
      "[I 2025-04-11 09:07:44,024] Trial 205 finished with value: 0.977751756440281 and parameters: {'learning_rate': 0.6350154186906384, 'max_depth': 9, 'max_leaves': 7, 'num_parallel_tree': 3, 'n_estimators': 758}. Best is trial 151 with value: 0.9847775175644028.\n",
      "[I 2025-04-11 09:07:44,314] Trial 206 finished with value: 0.9730679156908665 and parameters: {'learning_rate': 0.6282183922940068, 'max_depth': 9, 'max_leaves': 7, 'num_parallel_tree': 3, 'n_estimators': 767}. Best is trial 151 with value: 0.9847775175644028.\n",
      "[I 2025-04-11 09:07:45,354] Trial 207 finished with value: 0.9754098360655737 and parameters: {'learning_rate': 0.8187498709511728, 'max_depth': 12, 'max_leaves': 7, 'num_parallel_tree': 3, 'n_estimators': 770}. Best is trial 151 with value: 0.9847775175644028.\n",
      "[I 2025-04-11 09:07:45,842] Trial 208 finished with value: 0.9765807962529274 and parameters: {'learning_rate': 0.6343635639671108, 'max_depth': 12, 'max_leaves': 7, 'num_parallel_tree': 3, 'n_estimators': 762}. Best is trial 151 with value: 0.9847775175644028.\n",
      "[I 2025-04-11 09:07:46,145] Trial 209 finished with value: 0.9789227166276346 and parameters: {'learning_rate': 0.8902925024766389, 'max_depth': 12, 'max_leaves': 7, 'num_parallel_tree': 3, 'n_estimators': 764}. Best is trial 151 with value: 0.9847775175644028.\n",
      "[I 2025-04-11 09:07:47,364] Trial 210 finished with value: 0.9789227166276346 and parameters: {'learning_rate': 0.8941236614317724, 'max_depth': 10, 'max_leaves': 7, 'num_parallel_tree': 3, 'n_estimators': 755}. Best is trial 151 with value: 0.9847775175644028.\n",
      "[I 2025-04-11 09:07:48,119] Trial 211 finished with value: 0.9800936768149883 and parameters: {'learning_rate': 0.8948329663226058, 'max_depth': 10, 'max_leaves': 7, 'num_parallel_tree': 3, 'n_estimators': 767}. Best is trial 151 with value: 0.9847775175644028.\n",
      "[I 2025-04-11 09:07:48,666] Trial 212 finished with value: 0.977751756440281 and parameters: {'learning_rate': 0.8886323482911633, 'max_depth': 9, 'max_leaves': 7, 'num_parallel_tree': 3, 'n_estimators': 770}. Best is trial 151 with value: 0.9847775175644028.\n",
      "[I 2025-04-11 09:07:49,385] Trial 214 finished with value: 0.9789227166276346 and parameters: {'learning_rate': 0.8904642106568958, 'max_depth': 9, 'max_leaves': 7, 'num_parallel_tree': 3, 'n_estimators': 803}. Best is trial 151 with value: 0.9847775175644028.\n",
      "[I 2025-04-11 09:07:50,083] Trial 213 finished with value: 0.9800936768149883 and parameters: {'learning_rate': 0.8974908556045988, 'max_depth': 9, 'max_leaves': 7, 'num_parallel_tree': 3, 'n_estimators': 977}. Best is trial 151 with value: 0.9847775175644028.\n",
      "[I 2025-04-11 09:07:50,105] Trial 217 finished with value: 0.9789227166276346 and parameters: {'learning_rate': 0.8969657404640281, 'max_depth': 9, 'max_leaves': 7, 'num_parallel_tree': 3, 'n_estimators': 582}. Best is trial 151 with value: 0.9847775175644028.\n",
      "[I 2025-04-11 09:07:51,074] Trial 216 finished with value: 0.977751756440281 and parameters: {'learning_rate': 0.8928631320697059, 'max_depth': 9, 'max_leaves': 7, 'num_parallel_tree': 3, 'n_estimators': 799}. Best is trial 151 with value: 0.9847775175644028.\n",
      "[I 2025-04-11 09:07:51,076] Trial 215 finished with value: 0.9824355971896955 and parameters: {'learning_rate': 0.8850036248831298, 'max_depth': 10, 'max_leaves': 7, 'num_parallel_tree': 3, 'n_estimators': 896}. Best is trial 151 with value: 0.9847775175644028.\n",
      "[I 2025-04-11 09:07:52,766] Trial 218 finished with value: 0.9812646370023419 and parameters: {'learning_rate': 0.7066216646427023, 'max_depth': 9, 'max_leaves': 7, 'num_parallel_tree': 3, 'n_estimators': 807}. Best is trial 151 with value: 0.9847775175644028.\n",
      "[I 2025-04-11 09:07:53,233] Trial 219 finished with value: 0.9836065573770492 and parameters: {'learning_rate': 0.8486238768564045, 'max_depth': 9, 'max_leaves': 7, 'num_parallel_tree': 3, 'n_estimators': 797}. Best is trial 151 with value: 0.9847775175644028.\n",
      "[I 2025-04-11 09:07:53,805] Trial 220 finished with value: 0.9742388758782201 and parameters: {'learning_rate': 0.8553999396176976, 'max_depth': 12, 'max_leaves': 7, 'num_parallel_tree': 3, 'n_estimators': 794}. Best is trial 151 with value: 0.9847775175644028.\n",
      "[I 2025-04-11 09:07:54,399] Trial 222 finished with value: 0.9765807962529274 and parameters: {'learning_rate': 0.7652272023052968, 'max_depth': 12, 'max_leaves': 7, 'num_parallel_tree': 3, 'n_estimators': 581}. Best is trial 151 with value: 0.9847775175644028.\n",
      "[I 2025-04-11 09:07:55,424] Trial 223 finished with value: 0.9765807962529274 and parameters: {'learning_rate': 0.858587040490134, 'max_depth': 12, 'max_leaves': 7, 'num_parallel_tree': 3, 'n_estimators': 738}. Best is trial 151 with value: 0.9847775175644028.\n",
      "[I 2025-04-11 09:07:55,886] Trial 221 finished with value: 0.9800936768149883 and parameters: {'learning_rate': 0.8501544131636768, 'max_depth': 12, 'max_leaves': 7, 'num_parallel_tree': 3, 'n_estimators': 972}. Best is trial 151 with value: 0.9847775175644028.\n",
      "[I 2025-04-11 09:07:57,191] Trial 224 finished with value: 0.9824355971896955 and parameters: {'learning_rate': 0.8484933020340552, 'max_depth': 12, 'max_leaves': 7, 'num_parallel_tree': 3, 'n_estimators': 902}. Best is trial 151 with value: 0.9847775175644028.\n",
      "[I 2025-04-11 09:07:57,315] Trial 225 finished with value: 0.9800936768149883 and parameters: {'learning_rate': 0.8563969073143723, 'max_depth': 10, 'max_leaves': 7, 'num_parallel_tree': 3, 'n_estimators': 916}. Best is trial 151 with value: 0.9847775175644028.\n",
      "[I 2025-04-11 09:07:59,153] Trial 226 finished with value: 0.9836065573770492 and parameters: {'learning_rate': 0.849025758051074, 'max_depth': 12, 'max_leaves': 7, 'num_parallel_tree': 3, 'n_estimators': 901}. Best is trial 151 with value: 0.9847775175644028.\n",
      "[I 2025-04-11 09:07:59,619] Trial 227 finished with value: 0.977751756440281 and parameters: {'learning_rate': 0.710629094604308, 'max_depth': 9, 'max_leaves': 7, 'num_parallel_tree': 3, 'n_estimators': 824}. Best is trial 151 with value: 0.9847775175644028.\n",
      "[I 2025-04-11 09:08:00,033] Trial 228 finished with value: 0.9812646370023419 and parameters: {'learning_rate': 0.7171599636565982, 'max_depth': 9, 'max_leaves': 7, 'num_parallel_tree': 3, 'n_estimators': 817}. Best is trial 151 with value: 0.9847775175644028.\n",
      "[I 2025-04-11 09:08:00,348] Trial 229 finished with value: 0.9812646370023419 and parameters: {'learning_rate': 0.8464556529249385, 'max_depth': 9, 'max_leaves': 7, 'num_parallel_tree': 3, 'n_estimators': 817}. Best is trial 151 with value: 0.9847775175644028.\n",
      "[I 2025-04-11 09:08:01,350] Trial 230 finished with value: 0.9824355971896955 and parameters: {'learning_rate': 0.7226703950761912, 'max_depth': 9, 'max_leaves': 7, 'num_parallel_tree': 3, 'n_estimators': 834}. Best is trial 151 with value: 0.9847775175644028.\n",
      "[I 2025-04-11 09:08:02,164] Trial 231 finished with value: 0.977751756440281 and parameters: {'learning_rate': 0.703916986173772, 'max_depth': 9, 'max_leaves': 7, 'num_parallel_tree': 3, 'n_estimators': 902}. Best is trial 151 with value: 0.9847775175644028.\n",
      "[I 2025-04-11 09:08:02,820] Trial 233 finished with value: 0.9765807962529274 and parameters: {'learning_rate': 0.8351925575433355, 'max_depth': 9, 'max_leaves': 7, 'num_parallel_tree': 3, 'n_estimators': 817}. Best is trial 151 with value: 0.9847775175644028.\n",
      "[I 2025-04-11 09:08:03,115] Trial 232 finished with value: 0.9789227166276346 and parameters: {'learning_rate': 0.7102826005596794, 'max_depth': 9, 'max_leaves': 7, 'num_parallel_tree': 3, 'n_estimators': 816}. Best is trial 151 with value: 0.9847775175644028.\n",
      "[I 2025-04-11 09:08:04,644] Trial 234 finished with value: 0.9812646370023419 and parameters: {'learning_rate': 0.8020964616487485, 'max_depth': 12, 'max_leaves': 7, 'num_parallel_tree': 3, 'n_estimators': 885}. Best is trial 151 with value: 0.9847775175644028.\n",
      "[I 2025-04-11 09:08:05,098] Trial 235 finished with value: 0.9754098360655737 and parameters: {'learning_rate': 0.8356194964433461, 'max_depth': 9, 'max_leaves': 7, 'num_parallel_tree': 3, 'n_estimators': 887}. Best is trial 151 with value: 0.9847775175644028.\n",
      "[I 2025-04-11 09:08:05,412] Trial 236 finished with value: 0.9789227166276346 and parameters: {'learning_rate': 0.7178506027715387, 'max_depth': 9, 'max_leaves': 7, 'num_parallel_tree': 3, 'n_estimators': 812}. Best is trial 151 with value: 0.9847775175644028.\n",
      "[I 2025-04-11 09:08:05,969] Trial 237 finished with value: 0.9847775175644028 and parameters: {'learning_rate': 0.7991118433612125, 'max_depth': 9, 'max_leaves': 7, 'num_parallel_tree': 3, 'n_estimators': 900}. Best is trial 151 with value: 0.9847775175644028.\n",
      "[I 2025-04-11 09:08:06,624] Trial 238 finished with value: 0.9789227166276346 and parameters: {'learning_rate': 0.8100842267823779, 'max_depth': 9, 'max_leaves': 7, 'num_parallel_tree': 3, 'n_estimators': 813}. Best is trial 151 with value: 0.9847775175644028.\n",
      "[I 2025-04-11 09:08:07,448] Trial 239 finished with value: 0.9812646370023419 and parameters: {'learning_rate': 0.8019919207891563, 'max_depth': 9, 'max_leaves': 7, 'num_parallel_tree': 3, 'n_estimators': 818}. Best is trial 151 with value: 0.9847775175644028.\n",
      "[I 2025-04-11 09:08:08,159] Trial 240 finished with value: 0.9800936768149883 and parameters: {'learning_rate': 0.8150722657423218, 'max_depth': 9, 'max_leaves': 7, 'num_parallel_tree': 3, 'n_estimators': 841}. Best is trial 151 with value: 0.9847775175644028.\n",
      "[I 2025-04-11 09:08:08,486] Trial 241 finished with value: 0.9812646370023419 and parameters: {'learning_rate': 0.8091234570672657, 'max_depth': 9, 'max_leaves': 7, 'num_parallel_tree': 3, 'n_estimators': 843}. Best is trial 151 with value: 0.9847775175644028.\n",
      "[I 2025-04-11 09:08:10,000] Trial 242 finished with value: 0.9800936768149883 and parameters: {'learning_rate': 0.8038820822664152, 'max_depth': 9, 'max_leaves': 7, 'num_parallel_tree': 3, 'n_estimators': 844}. Best is trial 151 with value: 0.9847775175644028.\n",
      "[I 2025-04-11 09:08:10,498] Trial 243 finished with value: 0.9824355971896955 and parameters: {'learning_rate': 0.8010422965651058, 'max_depth': 9, 'max_leaves': 7, 'num_parallel_tree': 3, 'n_estimators': 840}. Best is trial 151 with value: 0.9847775175644028.\n",
      "[I 2025-04-11 09:08:10,806] Trial 244 finished with value: 0.9754098360655737 and parameters: {'learning_rate': 0.7971890612425495, 'max_depth': 9, 'max_leaves': 7, 'num_parallel_tree': 3, 'n_estimators': 841}. Best is trial 151 with value: 0.9847775175644028.\n",
      "[I 2025-04-11 09:08:11,422] Trial 245 finished with value: 0.9800936768149883 and parameters: {'learning_rate': 0.806303626166097, 'max_depth': 9, 'max_leaves': 7, 'num_parallel_tree': 3, 'n_estimators': 848}. Best is trial 151 with value: 0.9847775175644028.\n",
      "[I 2025-04-11 09:08:12,020] Trial 246 finished with value: 0.977751756440281 and parameters: {'learning_rate': 0.7702668912129189, 'max_depth': 9, 'max_leaves': 7, 'num_parallel_tree': 3, 'n_estimators': 842}. Best is trial 151 with value: 0.9847775175644028.\n",
      "[I 2025-04-11 09:08:12,848] Trial 247 finished with value: 0.9800936768149883 and parameters: {'learning_rate': 0.7734885548611679, 'max_depth': 9, 'max_leaves': 7, 'num_parallel_tree': 3, 'n_estimators': 849}. Best is trial 151 with value: 0.9847775175644028.\n",
      "[I 2025-04-11 09:08:13,680] Trial 248 finished with value: 0.9765807962529274 and parameters: {'learning_rate': 0.7501518691698292, 'max_depth': 9, 'max_leaves': 7, 'num_parallel_tree': 3, 'n_estimators': 853}. Best is trial 151 with value: 0.9847775175644028.\n",
      "[I 2025-04-11 09:08:14,062] Trial 249 finished with value: 0.9765807962529274 and parameters: {'learning_rate': 0.8676931041183773, 'max_depth': 9, 'max_leaves': 7, 'num_parallel_tree': 3, 'n_estimators': 901}. Best is trial 151 with value: 0.9847775175644028.\n",
      "[I 2025-04-11 09:08:15,639] Trial 250 finished with value: 0.9765807962529274 and parameters: {'learning_rate': 0.7479150364928867, 'max_depth': 9, 'max_leaves': 7, 'num_parallel_tree': 3, 'n_estimators': 898}. Best is trial 151 with value: 0.9847775175644028.\n",
      "[I 2025-04-11 09:08:16,061] Trial 251 finished with value: 0.9789227166276346 and parameters: {'learning_rate': 0.7670301561835472, 'max_depth': 9, 'max_leaves': 7, 'num_parallel_tree': 3, 'n_estimators': 879}. Best is trial 151 with value: 0.9847775175644028.\n",
      "[I 2025-04-11 09:08:16,425] Trial 252 finished with value: 0.9800936768149883 and parameters: {'learning_rate': 0.7780246642939957, 'max_depth': 9, 'max_leaves': 7, 'num_parallel_tree': 3, 'n_estimators': 898}. Best is trial 151 with value: 0.9847775175644028.\n",
      "[I 2025-04-11 09:08:17,152] Trial 253 finished with value: 0.9789227166276346 and parameters: {'learning_rate': 0.7556524029846853, 'max_depth': 9, 'max_leaves': 7, 'num_parallel_tree': 3, 'n_estimators': 900}. Best is trial 151 with value: 0.9847775175644028.\n",
      "[I 2025-04-11 09:08:17,800] Trial 254 finished with value: 0.977751756440281 and parameters: {'learning_rate': 0.7388639684748537, 'max_depth': 9, 'max_leaves': 7, 'num_parallel_tree': 3, 'n_estimators': 902}. Best is trial 151 with value: 0.9847775175644028.\n",
      "[I 2025-04-11 09:08:18,513] Trial 255 finished with value: 0.977751756440281 and parameters: {'learning_rate': 0.7501353157407135, 'max_depth': 9, 'max_leaves': 7, 'num_parallel_tree': 3, 'n_estimators': 903}. Best is trial 151 with value: 0.9847775175644028.\n",
      "[I 2025-04-11 09:08:19,403] Trial 257 finished with value: 0.9812646370023419 and parameters: {'learning_rate': 0.9121799337118128, 'max_depth': 9, 'max_leaves': 7, 'num_parallel_tree': 3, 'n_estimators': 881}. Best is trial 151 with value: 0.9847775175644028.\n",
      "[I 2025-04-11 09:08:19,547] Trial 256 finished with value: 0.977751756440281 and parameters: {'learning_rate': 0.7309717260450254, 'max_depth': 9, 'max_leaves': 7, 'num_parallel_tree': 3, 'n_estimators': 899}. Best is trial 151 with value: 0.9847775175644028.\n",
      "[I 2025-04-11 09:08:21,312] Trial 258 finished with value: 0.9765807962529274 and parameters: {'learning_rate': 0.7291645820669265, 'max_depth': 9, 'max_leaves': 7, 'num_parallel_tree': 3, 'n_estimators': 876}. Best is trial 151 with value: 0.9847775175644028.\n",
      "[I 2025-04-11 09:08:21,359] Trial 259 finished with value: 0.9812646370023419 and parameters: {'learning_rate': 0.9175681169383544, 'max_depth': 9, 'max_leaves': 7, 'num_parallel_tree': 3, 'n_estimators': 870}. Best is trial 151 with value: 0.9847775175644028.\n",
      "[I 2025-04-11 09:08:21,834] Trial 260 finished with value: 0.9789227166276346 and parameters: {'learning_rate': 0.9185392100261077, 'max_depth': 9, 'max_leaves': 7, 'num_parallel_tree': 3, 'n_estimators': 872}. Best is trial 151 with value: 0.9847775175644028.\n",
      "[I 2025-04-11 09:08:22,559] Trial 261 finished with value: 0.9789227166276346 and parameters: {'learning_rate': 0.9242619992247254, 'max_depth': 9, 'max_leaves': 7, 'num_parallel_tree': 3, 'n_estimators': 867}. Best is trial 151 with value: 0.9847775175644028.\n",
      "[I 2025-04-11 09:08:23,177] Trial 262 finished with value: 0.9789227166276346 and parameters: {'learning_rate': 0.914829999183268, 'max_depth': 12, 'max_leaves': 7, 'num_parallel_tree': 3, 'n_estimators': 861}. Best is trial 151 with value: 0.9847775175644028.\n",
      "[I 2025-04-11 09:08:23,956] Trial 263 finished with value: 0.9836065573770492 and parameters: {'learning_rate': 0.9178415096852325, 'max_depth': 12, 'max_leaves': 7, 'num_parallel_tree': 3, 'n_estimators': 872}. Best is trial 151 with value: 0.9847775175644028.\n",
      "[I 2025-04-11 09:08:24,566] Trial 264 finished with value: 0.9754098360655737 and parameters: {'learning_rate': 0.8773924687658169, 'max_depth': 12, 'max_leaves': 5, 'num_parallel_tree': 3, 'n_estimators': 791}. Best is trial 151 with value: 0.9847775175644028.\n",
      "[I 2025-04-11 09:08:25,216] Trial 265 finished with value: 0.9812646370023419 and parameters: {'learning_rate': 0.9153686351100675, 'max_depth': 12, 'max_leaves': 7, 'num_parallel_tree': 3, 'n_estimators': 929}. Best is trial 151 with value: 0.9847775175644028.\n",
      "[I 2025-04-11 09:08:26,380] Trial 266 finished with value: 0.9800936768149883 and parameters: {'learning_rate': 0.9231088852254499, 'max_depth': 12, 'max_leaves': 7, 'num_parallel_tree': 3, 'n_estimators': 792}. Best is trial 151 with value: 0.9847775175644028.\n",
      "[I 2025-04-11 09:08:26,605] Trial 267 finished with value: 0.9789227166276346 and parameters: {'learning_rate': 0.8319507925614961, 'max_depth': 12, 'max_leaves': 7, 'num_parallel_tree': 3, 'n_estimators': 793}. Best is trial 151 with value: 0.9847775175644028.\n",
      "[I 2025-04-11 09:08:26,989] Trial 268 finished with value: 0.977751756440281 and parameters: {'learning_rate': 0.832240133395905, 'max_depth': 12, 'max_leaves': 7, 'num_parallel_tree': 3, 'n_estimators': 794}. Best is trial 151 with value: 0.9847775175644028.\n",
      "[I 2025-04-11 09:08:27,607] Trial 269 finished with value: 0.9800936768149883 and parameters: {'learning_rate': 0.8744443791917688, 'max_depth': 12, 'max_leaves': 7, 'num_parallel_tree': 3, 'n_estimators': 789}. Best is trial 151 with value: 0.9847775175644028.\n",
      "[I 2025-04-11 09:08:28,387] Trial 270 finished with value: 0.9789227166276346 and parameters: {'learning_rate': 0.8311341946540417, 'max_depth': 12, 'max_leaves': 7, 'num_parallel_tree': 3, 'n_estimators': 788}. Best is trial 151 with value: 0.9847775175644028.\n",
      "[I 2025-04-11 09:08:29,649] Trial 271 finished with value: 0.9800936768149883 and parameters: {'learning_rate': 0.8761213845986828, 'max_depth': 12, 'max_leaves': 7, 'num_parallel_tree': 3, 'n_estimators': 925}. Best is trial 151 with value: 0.9847775175644028.\n",
      "[I 2025-04-11 09:08:30,057] Trial 275 finished with value: 0.9707259953161592 and parameters: {'learning_rate': 0.9654420003565194, 'max_depth': 12, 'max_leaves': 2, 'num_parallel_tree': 3, 'n_estimators': 925}. Best is trial 151 with value: 0.9847775175644028.\n",
      "[I 2025-04-11 09:08:30,444] Trial 276 finished with value: 0.9707259953161592 and parameters: {'learning_rate': 0.9685993205268707, 'max_depth': 12, 'max_leaves': 2, 'num_parallel_tree': 3, 'n_estimators': 924}. Best is trial 151 with value: 0.9847775175644028.\n",
      "[I 2025-04-11 09:08:30,676] Trial 272 finished with value: 0.9754098360655737 and parameters: {'learning_rate': 0.8323057820702117, 'max_depth': 12, 'max_leaves': 7, 'num_parallel_tree': 3, 'n_estimators': 926}. Best is trial 151 with value: 0.9847775175644028.\n",
      "[I 2025-04-11 09:08:31,060] Trial 273 finished with value: 0.9765807962529274 and parameters: {'learning_rate': 0.9557503087686493, 'max_depth': 12, 'max_leaves': 7, 'num_parallel_tree': 3, 'n_estimators': 884}. Best is trial 151 with value: 0.9847775175644028.\n",
      "[I 2025-04-11 09:08:32,265] Trial 274 finished with value: 0.977751756440281 and parameters: {'learning_rate': 0.9634266339369766, 'max_depth': 12, 'max_leaves': 7, 'num_parallel_tree': 3, 'n_estimators': 922}. Best is trial 151 with value: 0.9847775175644028.\n",
      "[I 2025-04-11 09:08:33,529] Trial 277 finished with value: 0.9789227166276346 and parameters: {'learning_rate': 0.8653571614446324, 'max_depth': 12, 'max_leaves': 7, 'num_parallel_tree': 3, 'n_estimators': 928}. Best is trial 151 with value: 0.9847775175644028.\n",
      "[I 2025-04-11 09:08:34,291] Trial 280 finished with value: 0.9765807962529274 and parameters: {'learning_rate': 0.8533302057490788, 'max_depth': 12, 'max_leaves': 6, 'num_parallel_tree': 2, 'n_estimators': 915}. Best is trial 151 with value: 0.9847775175644028.\n",
      "[I 2025-04-11 09:08:34,311] Trial 278 finished with value: 0.9742388758782201 and parameters: {'learning_rate': 0.8577707495157324, 'max_depth': 12, 'max_leaves': 7, 'num_parallel_tree': 3, 'n_estimators': 917}. Best is trial 151 with value: 0.9847775175644028.\n",
      "[I 2025-04-11 09:08:35,309] Trial 283 finished with value: 0.9800936768149883 and parameters: {'learning_rate': 0.8574913659995143, 'max_depth': 10, 'max_leaves': 6, 'num_parallel_tree': 2, 'n_estimators': 958}. Best is trial 151 with value: 0.9847775175644028.\n",
      "[I 2025-04-11 09:08:35,489] Trial 279 finished with value: 0.9742388758782201 and parameters: {'learning_rate': 0.9530732074297137, 'max_depth': 12, 'max_leaves': 7, 'num_parallel_tree': 3, 'n_estimators': 913}. Best is trial 151 with value: 0.9847775175644028.\n",
      "[I 2025-04-11 09:08:36,208] Trial 281 finished with value: 0.9765807962529274 and parameters: {'learning_rate': 0.8564575164308093, 'max_depth': 10, 'max_leaves': 6, 'num_parallel_tree': 3, 'n_estimators': 888}. Best is trial 151 with value: 0.9847775175644028.\n",
      "[I 2025-04-11 09:08:36,393] Trial 282 finished with value: 0.977751756440281 and parameters: {'learning_rate': 0.8575693992486552, 'max_depth': 10, 'max_leaves': 7, 'num_parallel_tree': 3, 'n_estimators': 888}. Best is trial 151 with value: 0.9847775175644028.\n",
      "[I 2025-04-11 09:08:37,554] Trial 284 finished with value: 0.9754098360655737 and parameters: {'learning_rate': 0.8516189080754919, 'max_depth': 10, 'max_leaves': 6, 'num_parallel_tree': 3, 'n_estimators': 831}. Best is trial 151 with value: 0.9847775175644028.\n",
      "[I 2025-04-11 09:08:39,362] Trial 285 finished with value: 0.9800936768149883 and parameters: {'learning_rate': 0.7871080024754189, 'max_depth': 12, 'max_leaves': 6, 'num_parallel_tree': 3, 'n_estimators': 961}. Best is trial 151 with value: 0.9847775175644028.\n",
      "[I 2025-04-11 09:08:39,608] Trial 287 finished with value: 0.9754098360655737 and parameters: {'learning_rate': 0.8833465104133, 'max_depth': 10, 'max_leaves': 7, 'num_parallel_tree': 3, 'n_estimators': 859}. Best is trial 151 with value: 0.9847775175644028.\n",
      "[I 2025-04-11 09:08:39,747] Trial 286 finished with value: 0.977751756440281 and parameters: {'learning_rate': 0.854667114906685, 'max_depth': 10, 'max_leaves': 7, 'num_parallel_tree': 3, 'n_estimators': 860}. Best is trial 151 with value: 0.9847775175644028.\n",
      "[I 2025-04-11 09:08:40,772] Trial 288 finished with value: 0.977751756440281 and parameters: {'learning_rate': 0.7914050762539496, 'max_depth': 12, 'max_leaves': 7, 'num_parallel_tree': 3, 'n_estimators': 886}. Best is trial 151 with value: 0.9847775175644028.\n",
      "[I 2025-04-11 09:08:41,057] Trial 289 finished with value: 0.9754098360655737 and parameters: {'learning_rate': 0.7870667853046672, 'max_depth': 10, 'max_leaves': 8, 'num_parallel_tree': 3, 'n_estimators': 887}. Best is trial 151 with value: 0.9847775175644028.\n",
      "[I 2025-04-11 09:08:41,565] Trial 290 finished with value: 0.977751756440281 and parameters: {'learning_rate': 0.7909552321228941, 'max_depth': 12, 'max_leaves': 7, 'num_parallel_tree': 3, 'n_estimators': 832}. Best is trial 151 with value: 0.9847775175644028.\n",
      "[I 2025-04-11 09:08:41,906] Trial 291 finished with value: 0.9789227166276346 and parameters: {'learning_rate': 0.7873432646231191, 'max_depth': 12, 'max_leaves': 7, 'num_parallel_tree': 3, 'n_estimators': 857}. Best is trial 151 with value: 0.9847775175644028.\n",
      "[I 2025-04-11 09:08:43,111] Trial 292 finished with value: 0.9789227166276346 and parameters: {'learning_rate': 0.7869410370936705, 'max_depth': 12, 'max_leaves': 7, 'num_parallel_tree': 3, 'n_estimators': 872}. Best is trial 151 with value: 0.9847775175644028.\n",
      "[I 2025-04-11 09:08:44,651] Trial 293 finished with value: 0.9765807962529274 and parameters: {'learning_rate': 0.8833523221706034, 'max_depth': 12, 'max_leaves': 7, 'num_parallel_tree': 3, 'n_estimators': 832}. Best is trial 151 with value: 0.9847775175644028.\n",
      "[I 2025-04-11 09:08:44,821] Trial 294 finished with value: 0.977751756440281 and parameters: {'learning_rate': 0.935618568346131, 'max_depth': 12, 'max_leaves': 7, 'num_parallel_tree': 3, 'n_estimators': 830}. Best is trial 151 with value: 0.9847775175644028.\n",
      "[I 2025-04-11 09:08:45,119] Trial 295 finished with value: 0.9754098360655737 and parameters: {'learning_rate': 0.904458166838389, 'max_depth': 12, 'max_leaves': 8, 'num_parallel_tree': 3, 'n_estimators': 834}. Best is trial 151 with value: 0.9847775175644028.\n",
      "[I 2025-04-11 09:08:45,753] Trial 296 finished with value: 0.9800936768149883 and parameters: {'learning_rate': 0.9059907727741444, 'max_depth': 12, 'max_leaves': 7, 'num_parallel_tree': 3, 'n_estimators': 744}. Best is trial 151 with value: 0.9847775175644028.\n",
      "[I 2025-04-11 09:08:46,159] Trial 297 finished with value: 0.9800936768149883 and parameters: {'learning_rate': 0.8998268738584105, 'max_depth': 12, 'max_leaves': 4, 'num_parallel_tree': 3, 'n_estimators': 829}. Best is trial 151 with value: 0.9847775175644028.\n",
      "[I 2025-04-11 09:08:47,121] Trial 298 finished with value: 0.9765807962529274 and parameters: {'learning_rate': 0.9351989533207873, 'max_depth': 12, 'max_leaves': 4, 'num_parallel_tree': 3, 'n_estimators': 941}. Best is trial 151 with value: 0.9847775175644028.\n",
      "[I 2025-04-11 09:08:47,742] Trial 299 finished with value: 0.9812646370023419 and parameters: {'learning_rate': 0.9022827597162703, 'max_depth': 12, 'max_leaves': 7, 'num_parallel_tree': 3, 'n_estimators': 947}. Best is trial 151 with value: 0.9847775175644028.\n",
      "[I 2025-04-11 09:08:48,834] Trial 300 finished with value: 0.9800936768149883 and parameters: {'learning_rate': 0.897328699946022, 'max_depth': 12, 'max_leaves': 7, 'num_parallel_tree': 3, 'n_estimators': 938}. Best is trial 151 with value: 0.9847775175644028.\n",
      "[I 2025-04-11 09:08:49,483] Trial 301 finished with value: 0.9789227166276346 and parameters: {'learning_rate': 0.9056101183005014, 'max_depth': 12, 'max_leaves': 7, 'num_parallel_tree': 3, 'n_estimators': 739}. Best is trial 151 with value: 0.9847775175644028.\n",
      "[I 2025-04-11 09:08:49,707] Trial 302 finished with value: 0.9800936768149883 and parameters: {'learning_rate': 0.9039090389901987, 'max_depth': 12, 'max_leaves': 7, 'num_parallel_tree': 3, 'n_estimators': 739}. Best is trial 151 with value: 0.9847775175644028.\n",
      "[I 2025-04-11 09:08:50,243] Trial 303 finished with value: 0.9765807962529274 and parameters: {'learning_rate': 0.825648531448545, 'max_depth': 12, 'max_leaves': 7, 'num_parallel_tree': 3, 'n_estimators': 777}. Best is trial 151 with value: 0.9847775175644028.\n",
      "[I 2025-04-11 09:08:51,105] Trial 305 finished with value: 0.9754098360655737 and parameters: {'learning_rate': 0.8194529371931056, 'max_depth': 12, 'max_leaves': 7, 'num_parallel_tree': 3, 'n_estimators': 776}. Best is trial 151 with value: 0.9847775175644028.\n",
      "[I 2025-04-11 09:08:51,660] Trial 304 finished with value: 0.9800936768149883 and parameters: {'learning_rate': 0.8186925085629324, 'max_depth': 12, 'max_leaves': 7, 'num_parallel_tree': 3, 'n_estimators': 944}. Best is trial 151 with value: 0.9847775175644028.\n",
      "[I 2025-04-11 09:08:52,715] Trial 306 finished with value: 0.9742388758782201 and parameters: {'learning_rate': 0.8212330155922056, 'max_depth': 12, 'max_leaves': 7, 'num_parallel_tree': 3, 'n_estimators': 906}. Best is trial 151 with value: 0.9847775175644028.\n",
      "[I 2025-04-11 09:08:53,204] Trial 307 finished with value: 0.977751756440281 and parameters: {'learning_rate': 0.8240969003204075, 'max_depth': 12, 'max_leaves': 7, 'num_parallel_tree': 3, 'n_estimators': 870}. Best is trial 151 with value: 0.9847775175644028.\n",
      "[I 2025-04-11 09:08:53,799] Trial 308 finished with value: 0.9800936768149883 and parameters: {'learning_rate': 0.8159501849390159, 'max_depth': 12, 'max_leaves': 7, 'num_parallel_tree': 3, 'n_estimators': 776}. Best is trial 151 with value: 0.9847775175644028.\n",
      "[I 2025-04-11 09:08:55,087] Trial 309 finished with value: 0.977751756440281 and parameters: {'learning_rate': 0.8282590341534609, 'max_depth': 12, 'max_leaves': 7, 'num_parallel_tree': 3, 'n_estimators': 909}. Best is trial 151 with value: 0.9847775175644028.\n",
      "[I 2025-04-11 09:08:55,362] Trial 310 finished with value: 0.9754098360655737 and parameters: {'learning_rate': 0.8214794003423164, 'max_depth': 12, 'max_leaves': 7, 'num_parallel_tree': 3, 'n_estimators': 906}. Best is trial 151 with value: 0.9847775175644028.\n",
      "[I 2025-04-11 09:08:55,767] Trial 311 finished with value: 0.9800936768149883 and parameters: {'learning_rate': 0.8119869323132137, 'max_depth': 12, 'max_leaves': 7, 'num_parallel_tree': 3, 'n_estimators': 871}. Best is trial 151 with value: 0.9847775175644028.\n",
      "[I 2025-04-11 09:08:56,766] Trial 312 finished with value: 0.9800936768149883 and parameters: {'learning_rate': 0.8183478243932096, 'max_depth': 12, 'max_leaves': 7, 'num_parallel_tree': 3, 'n_estimators': 906}. Best is trial 151 with value: 0.9847775175644028.\n",
      "[I 2025-04-11 09:08:57,569] Trial 313 finished with value: 0.9800936768149883 and parameters: {'learning_rate': 0.6888378860269786, 'max_depth': 12, 'max_leaves': 7, 'num_parallel_tree': 3, 'n_estimators': 907}. Best is trial 151 with value: 0.9847775175644028.\n",
      "[I 2025-04-11 09:08:58,432] Trial 314 finished with value: 0.9789227166276346 and parameters: {'learning_rate': 0.6920987559758779, 'max_depth': 9, 'max_leaves': 7, 'num_parallel_tree': 3, 'n_estimators': 865}. Best is trial 151 with value: 0.9847775175644028.\n",
      "[I 2025-04-11 09:08:58,565] Trial 315 finished with value: 0.9789227166276346 and parameters: {'learning_rate': 0.6937808312034439, 'max_depth': 9, 'max_leaves': 7, 'num_parallel_tree': 3, 'n_estimators': 807}. Best is trial 151 with value: 0.9847775175644028.\n",
      "[I 2025-04-11 09:08:59,652] Trial 316 finished with value: 0.977751756440281 and parameters: {'learning_rate': 0.8804116772080159, 'max_depth': 9, 'max_leaves': 7, 'num_parallel_tree': 3, 'n_estimators': 980}. Best is trial 151 with value: 0.9847775175644028.\n",
      "[I 2025-04-11 09:09:00,672] Trial 318 finished with value: 0.9789227166276346 and parameters: {'learning_rate': 0.6889502816857613, 'max_depth': 9, 'max_leaves': 7, 'num_parallel_tree': 3, 'n_estimators': 805}. Best is trial 151 with value: 0.9847775175644028.\n",
      "[I 2025-04-11 09:09:01,101] Trial 317 finished with value: 0.9800936768149883 and parameters: {'learning_rate': 0.8778213365970591, 'max_depth': 9, 'max_leaves': 7, 'num_parallel_tree': 3, 'n_estimators': 980}. Best is trial 151 with value: 0.9847775175644028.\n",
      "[I 2025-04-11 09:09:01,674] Trial 319 finished with value: 0.977751756440281 and parameters: {'learning_rate': 0.8722308039441627, 'max_depth': 9, 'max_leaves': 7, 'num_parallel_tree': 3, 'n_estimators': 986}. Best is trial 151 with value: 0.9847775175644028.\n",
      "[I 2025-04-11 09:09:02,597] Trial 321 finished with value: 0.9812646370023419 and parameters: {'learning_rate': 0.8770479115335349, 'max_depth': 9, 'max_leaves': 7, 'num_parallel_tree': 3, 'n_estimators': 805}. Best is trial 151 with value: 0.9847775175644028.\n",
      "[I 2025-04-11 09:09:02,766] Trial 320 finished with value: 0.9789227166276346 and parameters: {'learning_rate': 0.8779509310484671, 'max_depth': 9, 'max_leaves': 7, 'num_parallel_tree': 3, 'n_estimators': 974}. Best is trial 151 with value: 0.9847775175644028.\n",
      "[I 2025-04-11 09:09:03,544] Trial 322 finished with value: 0.977751756440281 and parameters: {'learning_rate': 0.930698567437989, 'max_depth': 9, 'max_leaves': 7, 'num_parallel_tree': 3, 'n_estimators': 810}. Best is trial 151 with value: 0.9847775175644028.\n",
      "[I 2025-04-11 09:09:04,072] Trial 323 finished with value: 0.9800936768149883 and parameters: {'learning_rate': 0.8752870339928633, 'max_depth': 11, 'max_leaves': 7, 'num_parallel_tree': 3, 'n_estimators': 887}. Best is trial 151 with value: 0.9847775175644028.\n",
      "[I 2025-04-11 09:09:05,038] Trial 324 finished with value: 0.9800936768149883 and parameters: {'learning_rate': 0.8776240553800418, 'max_depth': 11, 'max_leaves': 7, 'num_parallel_tree': 3, 'n_estimators': 855}. Best is trial 151 with value: 0.9847775175644028.\n",
      "[I 2025-04-11 09:09:06,180] Trial 325 finished with value: 0.9800936768149883 and parameters: {'learning_rate': 0.9294234842866348, 'max_depth': 11, 'max_leaves': 7, 'num_parallel_tree': 3, 'n_estimators': 890}. Best is trial 151 with value: 0.9847775175644028.\n",
      "[I 2025-04-11 09:09:06,440] Trial 326 finished with value: 0.977751756440281 and parameters: {'learning_rate': 0.936802817012957, 'max_depth': 12, 'max_leaves': 7, 'num_parallel_tree': 3, 'n_estimators': 853}. Best is trial 151 with value: 0.9847775175644028.\n",
      "[I 2025-04-11 09:09:07,211] Trial 327 finished with value: 0.9800936768149883 and parameters: {'learning_rate': 0.9231358950807589, 'max_depth': 11, 'max_leaves': 7, 'num_parallel_tree': 3, 'n_estimators': 889}. Best is trial 151 with value: 0.9847775175644028.\n",
      "[I 2025-04-11 09:09:07,471] Trial 329 finished with value: 0.977751756440281 and parameters: {'learning_rate': 0.9282305509682043, 'max_depth': 11, 'max_leaves': 7, 'num_parallel_tree': 3, 'n_estimators': 708}. Best is trial 151 with value: 0.9847775175644028.\n",
      "[I 2025-04-11 09:09:08,153] Trial 328 finished with value: 0.9789227166276346 and parameters: {'learning_rate': 0.8442916598641057, 'max_depth': 11, 'max_leaves': 7, 'num_parallel_tree': 3, 'n_estimators': 850}. Best is trial 151 with value: 0.9847775175644028.\n",
      "[I 2025-04-11 09:09:09,026] Trial 330 finished with value: 0.9800936768149883 and parameters: {'learning_rate': 0.8437266793331519, 'max_depth': 11, 'max_leaves': 7, 'num_parallel_tree': 3, 'n_estimators': 853}. Best is trial 151 with value: 0.9847775175644028.\n",
      "[I 2025-04-11 09:09:09,659] Trial 331 finished with value: 0.9789227166276346 and parameters: {'learning_rate': 0.843275826311097, 'max_depth': 12, 'max_leaves': 7, 'num_parallel_tree': 3, 'n_estimators': 860}. Best is trial 151 with value: 0.9847775175644028.\n",
      "[I 2025-04-11 09:09:10,577] Trial 332 finished with value: 0.977751756440281 and parameters: {'learning_rate': 0.9358715981677846, 'max_depth': 12, 'max_leaves': 7, 'num_parallel_tree': 3, 'n_estimators': 881}. Best is trial 151 with value: 0.9847775175644028.\n",
      "[I 2025-04-11 09:09:11,201] Trial 334 finished with value: 0.9765807962529274 and parameters: {'learning_rate': 0.7636320185934988, 'max_depth': 12, 'max_leaves': 3, 'num_parallel_tree': 3, 'n_estimators': 879}. Best is trial 151 with value: 0.9847775175644028.\n",
      "[I 2025-04-11 09:09:11,697] Trial 333 finished with value: 0.977751756440281 and parameters: {'learning_rate': 0.8418643491514531, 'max_depth': 12, 'max_leaves': 7, 'num_parallel_tree': 3, 'n_estimators': 861}. Best is trial 151 with value: 0.9847775175644028.\n",
      "[I 2025-04-11 09:09:12,083] Trial 335 finished with value: 0.9754098360655737 and parameters: {'learning_rate': 0.8488101875552334, 'max_depth': 12, 'max_leaves': 3, 'num_parallel_tree': 3, 'n_estimators': 875}. Best is trial 151 with value: 0.9847775175644028.\n",
      "[I 2025-04-11 09:09:12,970] Trial 336 finished with value: 0.9789227166276346 and parameters: {'learning_rate': 0.8411251479513748, 'max_depth': 12, 'max_leaves': 7, 'num_parallel_tree': 3, 'n_estimators': 878}. Best is trial 151 with value: 0.9847775175644028.\n",
      "[I 2025-04-11 09:09:14,066] Trial 337 finished with value: 0.9765807962529274 and parameters: {'learning_rate': 0.8428270392099712, 'max_depth': 12, 'max_leaves': 7, 'num_parallel_tree': 3, 'n_estimators': 963}. Best is trial 151 with value: 0.9847775175644028.\n",
      "[I 2025-04-11 09:09:14,583] Trial 338 finished with value: 0.9812646370023419 and parameters: {'learning_rate': 0.8450817670548545, 'max_depth': 12, 'max_leaves': 7, 'num_parallel_tree': 3, 'n_estimators': 877}. Best is trial 151 with value: 0.9847775175644028.\n",
      "[I 2025-04-11 09:09:15,418] Trial 339 finished with value: 0.9789227166276346 and parameters: {'learning_rate': 0.7733259787103559, 'max_depth': 12, 'max_leaves': 8, 'num_parallel_tree': 3, 'n_estimators': 881}. Best is trial 151 with value: 0.9847775175644028.\n",
      "[I 2025-04-11 09:09:16,355] Trial 340 finished with value: 0.977751756440281 and parameters: {'learning_rate': 0.8973630178548709, 'max_depth': 12, 'max_leaves': 8, 'num_parallel_tree': 3, 'n_estimators': 961}. Best is trial 151 with value: 0.9847775175644028.\n",
      "[I 2025-04-11 09:09:16,872] Trial 343 finished with value: 0.9812646370023419 and parameters: {'learning_rate': 0.8979441111631714, 'max_depth': 12, 'max_leaves': 7, 'num_parallel_tree': 3, 'n_estimators': 752}. Best is trial 151 with value: 0.9847775175644028.\n",
      "[I 2025-04-11 09:09:17,187] Trial 341 finished with value: 0.9765807962529274 and parameters: {'learning_rate': 0.9050151465725566, 'max_depth': 12, 'max_leaves': 5, 'num_parallel_tree': 3, 'n_estimators': 956}. Best is trial 151 with value: 0.9847775175644028.\n",
      "[I 2025-04-11 09:09:17,642] Trial 342 finished with value: 0.977751756440281 and parameters: {'learning_rate': 0.9088491848045127, 'max_depth': 12, 'max_leaves': 8, 'num_parallel_tree': 3, 'n_estimators': 961}. Best is trial 151 with value: 0.9847775175644028.\n",
      "[I 2025-04-11 09:09:18,003] Trial 344 finished with value: 0.977751756440281 and parameters: {'learning_rate': 0.8942542700630793, 'max_depth': 12, 'max_leaves': 5, 'num_parallel_tree': 3, 'n_estimators': 747}. Best is trial 151 with value: 0.9847775175644028.\n",
      "[I 2025-04-11 09:09:19,389] Trial 345 finished with value: 0.9742388758782201 and parameters: {'learning_rate': 0.8896061760693331, 'max_depth': 12, 'max_leaves': 5, 'num_parallel_tree': 3, 'n_estimators': 827}. Best is trial 151 with value: 0.9847775175644028.\n",
      "[I 2025-04-11 09:09:19,622] Trial 346 finished with value: 0.9789227166276346 and parameters: {'learning_rate': 0.8913186446521346, 'max_depth': 12, 'max_leaves': 5, 'num_parallel_tree': 3, 'n_estimators': 751}. Best is trial 151 with value: 0.9847775175644028.\n",
      "[I 2025-04-11 09:09:20,439] Trial 347 finished with value: 0.9824355971896955 and parameters: {'learning_rate': 0.9100846490134581, 'max_depth': 12, 'max_leaves': 7, 'num_parallel_tree': 3, 'n_estimators': 760}. Best is trial 151 with value: 0.9847775175644028.\n",
      "[I 2025-04-11 09:09:21,263] Trial 348 finished with value: 0.9754098360655737 and parameters: {'learning_rate': 0.9545454393498923, 'max_depth': 12, 'max_leaves': 7, 'num_parallel_tree': 3, 'n_estimators': 749}. Best is trial 151 with value: 0.9847775175644028.\n",
      "[I 2025-04-11 09:09:21,427] Trial 349 finished with value: 0.9812646370023419 and parameters: {'learning_rate': 0.9464929201837959, 'max_depth': 12, 'max_leaves': 7, 'num_parallel_tree': 3, 'n_estimators': 688}. Best is trial 151 with value: 0.9847775175644028.\n",
      "[I 2025-04-11 09:09:22,308] Trial 352 finished with value: 0.9754098360655737 and parameters: {'learning_rate': 0.9585229251710651, 'max_depth': 12, 'max_leaves': 7, 'num_parallel_tree': 3, 'n_estimators': 687}. Best is trial 151 with value: 0.9847775175644028.\n",
      "[I 2025-04-11 09:09:23,149] Trial 351 finished with value: 0.9742388758782201 and parameters: {'learning_rate': 0.9562046752949519, 'max_depth': 12, 'max_leaves': 7, 'num_parallel_tree': 3, 'n_estimators': 914}. Best is trial 151 with value: 0.9847775175644028.\n",
      "[I 2025-04-11 09:09:23,204] Trial 350 finished with value: 0.9800936768149883 and parameters: {'learning_rate': 0.7963031999517475, 'max_depth': 12, 'max_leaves': 7, 'num_parallel_tree': 3, 'n_estimators': 939}. Best is trial 151 with value: 0.9847775175644028.\n",
      "[I 2025-04-11 09:09:24,728] Trial 355 finished with value: 0.9765807962529274 and parameters: {'learning_rate': 0.9501792009408265, 'max_depth': 12, 'max_leaves': 7, 'num_parallel_tree': 3, 'n_estimators': 683}. Best is trial 151 with value: 0.9847775175644028.\n",
      "[I 2025-04-11 09:09:25,113] Trial 353 finished with value: 0.9789227166276346 and parameters: {'learning_rate': 0.9488268254884324, 'max_depth': 9, 'max_leaves': 7, 'num_parallel_tree': 3, 'n_estimators': 937}. Best is trial 151 with value: 0.9847775175644028.\n",
      "[I 2025-04-11 09:09:25,193] Trial 357 finished with value: 0.977751756440281 and parameters: {'learning_rate': 0.9188385044817122, 'max_depth': 12, 'max_leaves': 7, 'num_parallel_tree': 3, 'n_estimators': 556}. Best is trial 151 with value: 0.9847775175644028.\n",
      "[I 2025-04-11 09:09:25,592] Trial 354 finished with value: 0.9812646370023419 and parameters: {'learning_rate': 0.8047052869403601, 'max_depth': 9, 'max_leaves': 7, 'num_parallel_tree': 3, 'n_estimators': 938}. Best is trial 151 with value: 0.9847775175644028.\n",
      "[I 2025-04-11 09:09:26,084] Trial 356 finished with value: 0.9789227166276346 and parameters: {'learning_rate': 0.7962923036846815, 'max_depth': 12, 'max_leaves': 7, 'num_parallel_tree': 3, 'n_estimators': 686}. Best is trial 151 with value: 0.9847775175644028.\n",
      "[I 2025-04-11 09:09:27,349] Trial 358 finished with value: 0.9800936768149883 and parameters: {'learning_rate': 0.8036147954366754, 'max_depth': 12, 'max_leaves': 7, 'num_parallel_tree': 3, 'n_estimators': 771}. Best is trial 151 with value: 0.9847775175644028.\n",
      "[I 2025-04-11 09:09:28,035] Trial 359 finished with value: 0.9812646370023419 and parameters: {'learning_rate': 0.8047985957852186, 'max_depth': 12, 'max_leaves': 7, 'num_parallel_tree': 3, 'n_estimators': 720}. Best is trial 151 with value: 0.9847775175644028.\n",
      "[I 2025-04-11 09:09:28,262] Trial 360 finished with value: 0.9789227166276346 and parameters: {'learning_rate': 0.9233957165260844, 'max_depth': 12, 'max_leaves': 7, 'num_parallel_tree': 3, 'n_estimators': 779}. Best is trial 151 with value: 0.9847775175644028.\n",
      "[I 2025-04-11 09:09:28,962] Trial 363 finished with value: 0.9812646370023419 and parameters: {'learning_rate': 0.8026945507641771, 'max_depth': 12, 'max_leaves': 7, 'num_parallel_tree': 3, 'n_estimators': 521}. Best is trial 151 with value: 0.9847775175644028.\n",
      "[I 2025-04-11 09:09:29,567] Trial 361 finished with value: 0.9789227166276346 and parameters: {'learning_rate': 0.9193568990605837, 'max_depth': 12, 'max_leaves': 7, 'num_parallel_tree': 3, 'n_estimators': 721}. Best is trial 151 with value: 0.9847775175644028.\n",
      "[I 2025-04-11 09:09:30,154] Trial 362 finished with value: 0.9789227166276346 and parameters: {'learning_rate': 0.9203987669190443, 'max_depth': 12, 'max_leaves': 7, 'num_parallel_tree': 3, 'n_estimators': 768}. Best is trial 151 with value: 0.9847775175644028.\n",
      "[I 2025-04-11 09:09:30,620] Trial 364 finished with value: 0.9754098360655737 and parameters: {'learning_rate': 0.864600391368925, 'max_depth': 12, 'max_leaves': 7, 'num_parallel_tree': 3, 'n_estimators': 767}. Best is trial 151 with value: 0.9847775175644028.\n",
      "[I 2025-04-11 09:09:31,167] Trial 365 finished with value: 0.9789227166276346 and parameters: {'learning_rate': 0.8654235090957986, 'max_depth': 12, 'max_leaves': 7, 'num_parallel_tree': 3, 'n_estimators': 771}. Best is trial 151 with value: 0.9847775175644028.\n",
      "[I 2025-04-11 09:09:32,199] Trial 366 finished with value: 0.9789227166276346 and parameters: {'learning_rate': 0.8601485258718891, 'max_depth': 12, 'max_leaves': 7, 'num_parallel_tree': 3, 'n_estimators': 730}. Best is trial 151 with value: 0.9847775175644028.\n",
      "[I 2025-04-11 09:09:33,484] Trial 367 finished with value: 0.9765807962529274 and parameters: {'learning_rate': 0.8691861287843364, 'max_depth': 12, 'max_leaves': 7, 'num_parallel_tree': 3, 'n_estimators': 899}. Best is trial 151 with value: 0.9847775175644028.\n",
      "[I 2025-04-11 09:09:33,808] Trial 368 finished with value: 0.9754098360655737 and parameters: {'learning_rate': 0.8684248659348577, 'max_depth': 12, 'max_leaves': 7, 'num_parallel_tree': 3, 'n_estimators': 905}. Best is trial 151 with value: 0.9847775175644028.\n",
      "[I 2025-04-11 09:09:34,518] Trial 369 finished with value: 0.9765807962529274 and parameters: {'learning_rate': 0.8644515492154242, 'max_depth': 12, 'max_leaves': 6, 'num_parallel_tree': 3, 'n_estimators': 895}. Best is trial 151 with value: 0.9847775175644028.\n",
      "[I 2025-04-11 09:09:35,183] Trial 370 finished with value: 0.9742388758782201 and parameters: {'learning_rate': 0.8661889143675015, 'max_depth': 12, 'max_leaves': 6, 'num_parallel_tree': 3, 'n_estimators': 906}. Best is trial 151 with value: 0.9847775175644028.\n",
      "[I 2025-04-11 09:09:35,886] Trial 371 finished with value: 0.9789227166276346 and parameters: {'learning_rate': 0.8581005363907815, 'max_depth': 12, 'max_leaves': 6, 'num_parallel_tree': 3, 'n_estimators': 926}. Best is trial 151 with value: 0.9847775175644028.\n",
      "[I 2025-04-11 09:09:36,278] Trial 372 finished with value: 0.9765807962529274 and parameters: {'learning_rate': 0.85840165602235, 'max_depth': 12, 'max_leaves': 7, 'num_parallel_tree': 3, 'n_estimators': 897}. Best is trial 151 with value: 0.9847775175644028.\n",
      "[I 2025-04-11 09:09:36,687] Trial 373 finished with value: 0.9765807962529274 and parameters: {'learning_rate': 0.9798051159476501, 'max_depth': 12, 'max_leaves': 6, 'num_parallel_tree': 3, 'n_estimators': 898}. Best is trial 151 with value: 0.9847775175644028.\n",
      "[I 2025-04-11 09:09:37,774] Trial 374 finished with value: 0.9765807962529274 and parameters: {'learning_rate': 0.8809942433603436, 'max_depth': 12, 'max_leaves': 7, 'num_parallel_tree': 3, 'n_estimators': 896}. Best is trial 151 with value: 0.9847775175644028.\n",
      "[I 2025-04-11 09:09:39,043] Trial 375 finished with value: 0.9789227166276346 and parameters: {'learning_rate': 0.8796533600352857, 'max_depth': 12, 'max_leaves': 7, 'num_parallel_tree': 3, 'n_estimators': 896}. Best is trial 151 with value: 0.9847775175644028.\n",
      "[I 2025-04-11 09:09:39,500] Trial 376 finished with value: 0.9754098360655737 and parameters: {'learning_rate': 0.8869255488814174, 'max_depth': 12, 'max_leaves': 6, 'num_parallel_tree': 3, 'n_estimators': 923}. Best is trial 151 with value: 0.9847775175644028.\n",
      "[I 2025-04-11 09:09:40,248] Trial 377 finished with value: 0.9812646370023419 and parameters: {'learning_rate': 0.8854023636087458, 'max_depth': 12, 'max_leaves': 7, 'num_parallel_tree': 3, 'n_estimators': 927}. Best is trial 151 with value: 0.9847775175644028.\n",
      "[I 2025-04-11 09:09:40,844] Trial 378 finished with value: 0.9742388758782201 and parameters: {'learning_rate': 0.9812709195893085, 'max_depth': 12, 'max_leaves': 7, 'num_parallel_tree': 3, 'n_estimators': 928}. Best is trial 151 with value: 0.9847775175644028.\n",
      "[I 2025-04-11 09:09:41,724] Trial 380 finished with value: 0.9812646370023419 and parameters: {'learning_rate': 0.7665685166552689, 'max_depth': 10, 'max_leaves': 7, 'num_parallel_tree': 3, 'n_estimators': 839}. Best is trial 151 with value: 0.9847775175644028.\n",
      "[I 2025-04-11 09:09:41,885] Trial 379 finished with value: 0.9789227166276346 and parameters: {'learning_rate': 0.769038827310338, 'max_depth': 12, 'max_leaves': 7, 'num_parallel_tree': 3, 'n_estimators': 921}. Best is trial 151 with value: 0.9847775175644028.\n",
      "[I 2025-04-11 09:09:42,581] Trial 381 finished with value: 0.977751756440281 and parameters: {'learning_rate': 0.769944539596605, 'max_depth': 10, 'max_leaves': 7, 'num_parallel_tree': 3, 'n_estimators': 923}. Best is trial 151 with value: 0.9847775175644028.\n",
      "[I 2025-04-11 09:09:43,402] Trial 382 finished with value: 0.9742388758782201 and parameters: {'learning_rate': 0.7744180607564135, 'max_depth': 11, 'max_leaves': 7, 'num_parallel_tree': 3, 'n_estimators': 864}. Best is trial 151 with value: 0.9847775175644028.\n",
      "[I 2025-04-11 09:09:44,607] Trial 383 finished with value: 0.9765807962529274 and parameters: {'learning_rate': 0.767766006005995, 'max_depth': 10, 'max_leaves': 7, 'num_parallel_tree': 3, 'n_estimators': 861}. Best is trial 151 with value: 0.9847775175644028.\n",
      "[I 2025-04-11 09:09:44,729] Trial 384 finished with value: 0.9812646370023419 and parameters: {'learning_rate': 0.9108052500923821, 'max_depth': 10, 'max_leaves': 7, 'num_parallel_tree': 3, 'n_estimators': 842}. Best is trial 151 with value: 0.9847775175644028.\n",
      "[I 2025-04-11 09:09:45,469] Trial 385 finished with value: 0.9765807962529274 and parameters: {'learning_rate': 0.7633345035836431, 'max_depth': 11, 'max_leaves': 7, 'num_parallel_tree': 3, 'n_estimators': 786}. Best is trial 151 with value: 0.9847775175644028.\n",
      "[I 2025-04-11 09:09:46,110] Trial 386 finished with value: 0.9836065573770492 and parameters: {'learning_rate': 0.9092852677975375, 'max_depth': 12, 'max_leaves': 7, 'num_parallel_tree': 3, 'n_estimators': 846}. Best is trial 151 with value: 0.9847775175644028.\n",
      "[I 2025-04-11 09:09:47,168] Trial 387 finished with value: 0.9754098360655737 and parameters: {'learning_rate': 0.8347472147661417, 'max_depth': 11, 'max_leaves': 7, 'num_parallel_tree': 3, 'n_estimators': 864}. Best is trial 151 with value: 0.9847775175644028.\n",
      "[I 2025-04-11 09:09:47,810] Trial 389 finished with value: 0.9812646370023419 and parameters: {'learning_rate': 0.9172703836341226, 'max_depth': 11, 'max_leaves': 7, 'num_parallel_tree': 3, 'n_estimators': 863}. Best is trial 151 with value: 0.9847775175644028.\n",
      "[I 2025-04-11 09:09:47,915] Trial 388 finished with value: 0.9543325526932084 and parameters: {'learning_rate': 0.001026658072970088, 'max_depth': 11, 'max_leaves': 7, 'num_parallel_tree': 3, 'n_estimators': 839}. Best is trial 151 with value: 0.9847775175644028.\n",
      "[I 2025-04-11 09:09:48,756] Trial 390 finished with value: 0.9800936768149883 and parameters: {'learning_rate': 0.9072023751952328, 'max_depth': 9, 'max_leaves': 7, 'num_parallel_tree': 3, 'n_estimators': 855}. Best is trial 151 with value: 0.9847775175644028.\n",
      "[I 2025-04-11 09:09:50,203] Trial 392 finished with value: 0.9754098360655737 and parameters: {'learning_rate': 0.8331692873660103, 'max_depth': 9, 'max_leaves': 7, 'num_parallel_tree': 3, 'n_estimators': 873}. Best is trial 151 with value: 0.9847775175644028.\n",
      "[I 2025-04-11 09:09:50,378] Trial 393 finished with value: 0.9765807962529274 and parameters: {'learning_rate': 0.8349901321752092, 'max_depth': 9, 'max_leaves': 7, 'num_parallel_tree': 3, 'n_estimators': 755}. Best is trial 151 with value: 0.9847775175644028.\n",
      "[I 2025-04-11 09:09:50,701] Trial 391 finished with value: 0.9543325526932084 and parameters: {'learning_rate': 0.0006473583195685251, 'max_depth': 9, 'max_leaves': 7, 'num_parallel_tree': 3, 'n_estimators': 840}. Best is trial 151 with value: 0.9847775175644028.\n",
      "[I 2025-04-11 09:09:51,228] Trial 394 finished with value: 0.9789227166276346 and parameters: {'learning_rate': 0.8341422608337655, 'max_depth': 9, 'max_leaves': 7, 'num_parallel_tree': 3, 'n_estimators': 828}. Best is trial 151 with value: 0.9847775175644028.\n",
      "[I 2025-04-11 09:09:51,775] Trial 395 finished with value: 0.977751756440281 and parameters: {'learning_rate': 0.9350493432146058, 'max_depth': 9, 'max_leaves': 7, 'num_parallel_tree': 3, 'n_estimators': 828}. Best is trial 151 with value: 0.9847775175644028.\n",
      "[I 2025-04-11 09:09:52,276] Trial 397 finished with value: 0.9800936768149883 and parameters: {'learning_rate': 0.8276668976735346, 'max_depth': 9, 'max_leaves': 7, 'num_parallel_tree': 3, 'n_estimators': 825}. Best is trial 151 with value: 0.9847775175644028.\n",
      "[I 2025-04-11 09:09:52,325] Trial 396 finished with value: 0.9754098360655737 and parameters: {'learning_rate': 0.8254060850613754, 'max_depth': 9, 'max_leaves': 7, 'num_parallel_tree': 3, 'n_estimators': 833}. Best is trial 151 with value: 0.9847775175644028.\n",
      "[I 2025-04-11 09:09:52,357] Trial 398 finished with value: 0.977751756440281 and parameters: {'learning_rate': 0.04160200793614499, 'max_depth': 12, 'max_leaves': 7, 'num_parallel_tree': 2, 'n_estimators': 828}. Best is trial 151 with value: 0.9847775175644028.\n",
      "[I 2025-04-11 09:09:52,658] Trial 399 finished with value: 0.977751756440281 and parameters: {'learning_rate': 0.8388571158049501, 'max_depth': 12, 'max_leaves': 7, 'num_parallel_tree': 2, 'n_estimators': 833}. Best is trial 151 with value: 0.9847775175644028.\n"
     ]
    }
   ],
   "source": [
    "study.optimize(objective, n_trials=300, n_jobs=-1, show_progress_bar=True)"
   ]
  },
  {
   "cell_type": "code",
   "execution_count": 43,
   "id": "5f05daa3",
   "metadata": {},
   "outputs": [
    {
     "data": {
      "text/plain": [
       "{'learning_rate': 0.8064489846310308,\n",
       " 'max_depth': 12,\n",
       " 'max_leaves': 7,\n",
       " 'num_parallel_tree': 3,\n",
       " 'n_estimators': 950}"
      ]
     },
     "execution_count": 43,
     "metadata": {},
     "output_type": "execute_result"
    }
   ],
   "source": [
    "study.best_params"
   ]
  },
  {
   "cell_type": "code",
   "execution_count": 44,
   "id": "1fd539d3",
   "metadata": {},
   "outputs": [],
   "source": [
    "new_params = study.best_params"
   ]
  },
  {
   "cell_type": "code",
   "execution_count": null,
   "id": "7b50cf4f",
   "metadata": {},
   "outputs": [],
   "source": [
    "model = XGBClassifier(**new_params)"
   ]
  },
  {
   "cell_type": "code",
   "execution_count": 46,
   "id": "1ddc6ff8",
   "metadata": {},
   "outputs": [
    {
     "data": {
      "text/html": [
       "<style>#sk-container-id-4 {color: black;}#sk-container-id-4 pre{padding: 0;}#sk-container-id-4 div.sk-toggleable {background-color: white;}#sk-container-id-4 label.sk-toggleable__label {cursor: pointer;display: block;width: 100%;margin-bottom: 0;padding: 0.3em;box-sizing: border-box;text-align: center;}#sk-container-id-4 label.sk-toggleable__label-arrow:before {content: \"▸\";float: left;margin-right: 0.25em;color: #696969;}#sk-container-id-4 label.sk-toggleable__label-arrow:hover:before {color: black;}#sk-container-id-4 div.sk-estimator:hover label.sk-toggleable__label-arrow:before {color: black;}#sk-container-id-4 div.sk-toggleable__content {max-height: 0;max-width: 0;overflow: hidden;text-align: left;background-color: #f0f8ff;}#sk-container-id-4 div.sk-toggleable__content pre {margin: 0.2em;color: black;border-radius: 0.25em;background-color: #f0f8ff;}#sk-container-id-4 input.sk-toggleable__control:checked~div.sk-toggleable__content {max-height: 200px;max-width: 100%;overflow: auto;}#sk-container-id-4 input.sk-toggleable__control:checked~label.sk-toggleable__label-arrow:before {content: \"▾\";}#sk-container-id-4 div.sk-estimator input.sk-toggleable__control:checked~label.sk-toggleable__label {background-color: #d4ebff;}#sk-container-id-4 div.sk-label input.sk-toggleable__control:checked~label.sk-toggleable__label {background-color: #d4ebff;}#sk-container-id-4 input.sk-hidden--visually {border: 0;clip: rect(1px 1px 1px 1px);clip: rect(1px, 1px, 1px, 1px);height: 1px;margin: -1px;overflow: hidden;padding: 0;position: absolute;width: 1px;}#sk-container-id-4 div.sk-estimator {font-family: monospace;background-color: #f0f8ff;border: 1px dotted black;border-radius: 0.25em;box-sizing: border-box;margin-bottom: 0.5em;}#sk-container-id-4 div.sk-estimator:hover {background-color: #d4ebff;}#sk-container-id-4 div.sk-parallel-item::after {content: \"\";width: 100%;border-bottom: 1px solid gray;flex-grow: 1;}#sk-container-id-4 div.sk-label:hover label.sk-toggleable__label {background-color: #d4ebff;}#sk-container-id-4 div.sk-serial::before {content: \"\";position: absolute;border-left: 1px solid gray;box-sizing: border-box;top: 0;bottom: 0;left: 50%;z-index: 0;}#sk-container-id-4 div.sk-serial {display: flex;flex-direction: column;align-items: center;background-color: white;padding-right: 0.2em;padding-left: 0.2em;position: relative;}#sk-container-id-4 div.sk-item {position: relative;z-index: 1;}#sk-container-id-4 div.sk-parallel {display: flex;align-items: stretch;justify-content: center;background-color: white;position: relative;}#sk-container-id-4 div.sk-item::before, #sk-container-id-4 div.sk-parallel-item::before {content: \"\";position: absolute;border-left: 1px solid gray;box-sizing: border-box;top: 0;bottom: 0;left: 50%;z-index: -1;}#sk-container-id-4 div.sk-parallel-item {display: flex;flex-direction: column;z-index: 1;position: relative;background-color: white;}#sk-container-id-4 div.sk-parallel-item:first-child::after {align-self: flex-end;width: 50%;}#sk-container-id-4 div.sk-parallel-item:last-child::after {align-self: flex-start;width: 50%;}#sk-container-id-4 div.sk-parallel-item:only-child::after {width: 0;}#sk-container-id-4 div.sk-dashed-wrapped {border: 1px dashed gray;margin: 0 0.4em 0.5em 0.4em;box-sizing: border-box;padding-bottom: 0.4em;background-color: white;}#sk-container-id-4 div.sk-label label {font-family: monospace;font-weight: bold;display: inline-block;line-height: 1.2em;}#sk-container-id-4 div.sk-label-container {text-align: center;}#sk-container-id-4 div.sk-container {/* jupyter's `normalize.less` sets `[hidden] { display: none; }` but bootstrap.min.css set `[hidden] { display: none !important; }` so we also need the `!important` here to be able to override the default hidden behavior on the sphinx rendered scikit-learn.org. See: https://github.com/scikit-learn/scikit-learn/issues/21755 */display: inline-block !important;position: relative;}#sk-container-id-4 div.sk-text-repr-fallback {display: none;}</style><div id=\"sk-container-id-4\" class=\"sk-top-container\"><div class=\"sk-text-repr-fallback\"><pre>XGBClassifier(base_score=None, booster=None, callbacks=None,\n",
       "              colsample_bylevel=None, colsample_bynode=None,\n",
       "              colsample_bytree=None, device=None, early_stopping_rounds=None,\n",
       "              enable_categorical=False, eval_metric=None, feature_types=None,\n",
       "              gamma=None, grow_policy=None, importance_type=None,\n",
       "              interaction_constraints=None, learning_rate=0.8064489846310308,\n",
       "              max_bin=None, max_cat_threshold=None, max_cat_to_onehot=None,\n",
       "              max_delta_step=None, max_depth=12, max_leaves=7,\n",
       "              min_child_weight=None, missing=nan, monotone_constraints=None,\n",
       "              multi_strategy=None, n_estimators=950, n_jobs=None,\n",
       "              num_parallel_tree=3, random_state=None, ...)</pre><b>In a Jupyter environment, please rerun this cell to show the HTML representation or trust the notebook. <br />On GitHub, the HTML representation is unable to render, please try loading this page with nbviewer.org.</b></div><div class=\"sk-container\" hidden><div class=\"sk-item\"><div class=\"sk-estimator sk-toggleable\"><input class=\"sk-toggleable__control sk-hidden--visually\" id=\"sk-estimator-id-4\" type=\"checkbox\" checked><label for=\"sk-estimator-id-4\" class=\"sk-toggleable__label sk-toggleable__label-arrow\">XGBClassifier</label><div class=\"sk-toggleable__content\"><pre>XGBClassifier(base_score=None, booster=None, callbacks=None,\n",
       "              colsample_bylevel=None, colsample_bynode=None,\n",
       "              colsample_bytree=None, device=None, early_stopping_rounds=None,\n",
       "              enable_categorical=False, eval_metric=None, feature_types=None,\n",
       "              gamma=None, grow_policy=None, importance_type=None,\n",
       "              interaction_constraints=None, learning_rate=0.8064489846310308,\n",
       "              max_bin=None, max_cat_threshold=None, max_cat_to_onehot=None,\n",
       "              max_delta_step=None, max_depth=12, max_leaves=7,\n",
       "              min_child_weight=None, missing=nan, monotone_constraints=None,\n",
       "              multi_strategy=None, n_estimators=950, n_jobs=None,\n",
       "              num_parallel_tree=3, random_state=None, ...)</pre></div></div></div></div></div>"
      ],
      "text/plain": [
       "XGBClassifier(base_score=None, booster=None, callbacks=None,\n",
       "              colsample_bylevel=None, colsample_bynode=None,\n",
       "              colsample_bytree=None, device=None, early_stopping_rounds=None,\n",
       "              enable_categorical=False, eval_metric=None, feature_types=None,\n",
       "              gamma=None, grow_policy=None, importance_type=None,\n",
       "              interaction_constraints=None, learning_rate=0.8064489846310308,\n",
       "              max_bin=None, max_cat_threshold=None, max_cat_to_onehot=None,\n",
       "              max_delta_step=None, max_depth=12, max_leaves=7,\n",
       "              min_child_weight=None, missing=nan, monotone_constraints=None,\n",
       "              multi_strategy=None, n_estimators=950, n_jobs=None,\n",
       "              num_parallel_tree=3, random_state=None, ...)"
      ]
     },
     "execution_count": 46,
     "metadata": {},
     "output_type": "execute_result"
    }
   ],
   "source": [
    "model.fit(X_train, y_train)"
   ]
  },
  {
   "cell_type": "code",
   "execution_count": null,
   "id": "4954f4ca",
   "metadata": {},
   "outputs": [
    {
     "data": {
      "text/plain": [
       "0.9847775175644028"
      ]
     },
     "execution_count": 47,
     "metadata": {},
     "output_type": "execute_result"
    }
   ],
   "source": [
    "model.score(X_test, y_test)"
   ]
  },
  {
   "cell_type": "code",
   "execution_count": null,
   "id": "a013c9ec",
   "metadata": {},
   "outputs": [],
   "source": []
  }
 ],
 "metadata": {
  "kernelspec": {
   "display_name": "py38",
   "language": "python",
   "name": "python3"
  },
  "language_info": {
   "codemirror_mode": {
    "name": "ipython",
    "version": 3
   },
   "file_extension": ".py",
   "mimetype": "text/x-python",
   "name": "python",
   "nbconvert_exporter": "python",
   "pygments_lexer": "ipython3",
   "version": "3.8.20"
  }
 },
 "nbformat": 4,
 "nbformat_minor": 5
}
