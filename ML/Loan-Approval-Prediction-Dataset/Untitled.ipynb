{
 "cells": [
  {
   "cell_type": "markdown",
   "id": "b86b7789",
   "metadata": {},
   "source": [
    "##### About Dataset\n",
    "\n",
    "The loan approval dataset is a collection of financial records and associated information used to determine the eligibility of individuals or organizations for obtaining loans from a lending institution. It includes various factors such as cibil score, income, employment status, loan term, loan amount, assets value, and loan status. This dataset is commonly used in machine learning and data analysis to develop models and algorithms that predict the likelihood of loan approval based on the given features.\n"
   ]
  },
  {
   "cell_type": "code",
   "execution_count": 1,
   "id": "806779c0",
   "metadata": {},
   "outputs": [],
   "source": [
    "import pandas as pd\n",
    "import numpy as np"
   ]
  },
  {
   "cell_type": "code",
   "execution_count": 2,
   "id": "d42115cb",
   "metadata": {},
   "outputs": [],
   "source": [
    "df = pd.read_csv(\"./archive/loan_approval_dataset.csv\")"
   ]
  },
  {
   "cell_type": "code",
   "execution_count": 3,
   "id": "547872f2",
   "metadata": {},
   "outputs": [
    {
     "data": {
      "text/html": [
       "<div>\n",
       "<style scoped>\n",
       "    .dataframe tbody tr th:only-of-type {\n",
       "        vertical-align: middle;\n",
       "    }\n",
       "\n",
       "    .dataframe tbody tr th {\n",
       "        vertical-align: top;\n",
       "    }\n",
       "\n",
       "    .dataframe thead th {\n",
       "        text-align: right;\n",
       "    }\n",
       "</style>\n",
       "<table border=\"1\" class=\"dataframe\">\n",
       "  <thead>\n",
       "    <tr style=\"text-align: right;\">\n",
       "      <th></th>\n",
       "      <th>loan_id</th>\n",
       "      <th>no_of_dependents</th>\n",
       "      <th>education</th>\n",
       "      <th>self_employed</th>\n",
       "      <th>income_annum</th>\n",
       "      <th>loan_amount</th>\n",
       "      <th>loan_term</th>\n",
       "      <th>cibil_score</th>\n",
       "      <th>residential_assets_value</th>\n",
       "      <th>commercial_assets_value</th>\n",
       "      <th>luxury_assets_value</th>\n",
       "      <th>bank_asset_value</th>\n",
       "      <th>loan_status</th>\n",
       "    </tr>\n",
       "  </thead>\n",
       "  <tbody>\n",
       "    <tr>\n",
       "      <th>0</th>\n",
       "      <td>1</td>\n",
       "      <td>2</td>\n",
       "      <td>Graduate</td>\n",
       "      <td>No</td>\n",
       "      <td>9600000</td>\n",
       "      <td>29900000</td>\n",
       "      <td>12</td>\n",
       "      <td>778</td>\n",
       "      <td>2400000</td>\n",
       "      <td>17600000</td>\n",
       "      <td>22700000</td>\n",
       "      <td>8000000</td>\n",
       "      <td>Approved</td>\n",
       "    </tr>\n",
       "    <tr>\n",
       "      <th>1</th>\n",
       "      <td>2</td>\n",
       "      <td>0</td>\n",
       "      <td>Not Graduate</td>\n",
       "      <td>Yes</td>\n",
       "      <td>4100000</td>\n",
       "      <td>12200000</td>\n",
       "      <td>8</td>\n",
       "      <td>417</td>\n",
       "      <td>2700000</td>\n",
       "      <td>2200000</td>\n",
       "      <td>8800000</td>\n",
       "      <td>3300000</td>\n",
       "      <td>Rejected</td>\n",
       "    </tr>\n",
       "    <tr>\n",
       "      <th>2</th>\n",
       "      <td>3</td>\n",
       "      <td>3</td>\n",
       "      <td>Graduate</td>\n",
       "      <td>No</td>\n",
       "      <td>9100000</td>\n",
       "      <td>29700000</td>\n",
       "      <td>20</td>\n",
       "      <td>506</td>\n",
       "      <td>7100000</td>\n",
       "      <td>4500000</td>\n",
       "      <td>33300000</td>\n",
       "      <td>12800000</td>\n",
       "      <td>Rejected</td>\n",
       "    </tr>\n",
       "    <tr>\n",
       "      <th>3</th>\n",
       "      <td>4</td>\n",
       "      <td>3</td>\n",
       "      <td>Graduate</td>\n",
       "      <td>No</td>\n",
       "      <td>8200000</td>\n",
       "      <td>30700000</td>\n",
       "      <td>8</td>\n",
       "      <td>467</td>\n",
       "      <td>18200000</td>\n",
       "      <td>3300000</td>\n",
       "      <td>23300000</td>\n",
       "      <td>7900000</td>\n",
       "      <td>Rejected</td>\n",
       "    </tr>\n",
       "    <tr>\n",
       "      <th>4</th>\n",
       "      <td>5</td>\n",
       "      <td>5</td>\n",
       "      <td>Not Graduate</td>\n",
       "      <td>Yes</td>\n",
       "      <td>9800000</td>\n",
       "      <td>24200000</td>\n",
       "      <td>20</td>\n",
       "      <td>382</td>\n",
       "      <td>12400000</td>\n",
       "      <td>8200000</td>\n",
       "      <td>29400000</td>\n",
       "      <td>5000000</td>\n",
       "      <td>Rejected</td>\n",
       "    </tr>\n",
       "  </tbody>\n",
       "</table>\n",
       "</div>"
      ],
      "text/plain": [
       "   loan_id   no_of_dependents      education  self_employed   income_annum  \\\n",
       "0        1                  2       Graduate             No        9600000   \n",
       "1        2                  0   Not Graduate            Yes        4100000   \n",
       "2        3                  3       Graduate             No        9100000   \n",
       "3        4                  3       Graduate             No        8200000   \n",
       "4        5                  5   Not Graduate            Yes        9800000   \n",
       "\n",
       "    loan_amount   loan_term   cibil_score   residential_assets_value  \\\n",
       "0      29900000          12           778                    2400000   \n",
       "1      12200000           8           417                    2700000   \n",
       "2      29700000          20           506                    7100000   \n",
       "3      30700000           8           467                   18200000   \n",
       "4      24200000          20           382                   12400000   \n",
       "\n",
       "    commercial_assets_value   luxury_assets_value   bank_asset_value  \\\n",
       "0                  17600000              22700000            8000000   \n",
       "1                   2200000               8800000            3300000   \n",
       "2                   4500000              33300000           12800000   \n",
       "3                   3300000              23300000            7900000   \n",
       "4                   8200000              29400000            5000000   \n",
       "\n",
       "   loan_status  \n",
       "0     Approved  \n",
       "1     Rejected  \n",
       "2     Rejected  \n",
       "3     Rejected  \n",
       "4     Rejected  "
      ]
     },
     "execution_count": 3,
     "metadata": {},
     "output_type": "execute_result"
    }
   ],
   "source": [
    "df.head()"
   ]
  },
  {
   "cell_type": "code",
   "execution_count": 4,
   "id": "eb4ea058",
   "metadata": {},
   "outputs": [],
   "source": [
    "df.drop(\"loan_id\", axis=1, inplace=True)"
   ]
  },
  {
   "cell_type": "code",
   "execution_count": 5,
   "id": "55929e00",
   "metadata": {},
   "outputs": [
    {
     "data": {
      "text/plain": [
       " no_of_dependents            0\n",
       " education                   0\n",
       " self_employed               0\n",
       " income_annum                0\n",
       " loan_amount                 0\n",
       " loan_term                   0\n",
       " cibil_score                 0\n",
       " residential_assets_value    0\n",
       " commercial_assets_value     0\n",
       " luxury_assets_value         0\n",
       " bank_asset_value            0\n",
       " loan_status                 0\n",
       "dtype: int64"
      ]
     },
     "execution_count": 5,
     "metadata": {},
     "output_type": "execute_result"
    }
   ],
   "source": [
    "df.isna().sum()"
   ]
  },
  {
   "cell_type": "code",
   "execution_count": 6,
   "id": "0b1edd0f",
   "metadata": {},
   "outputs": [
    {
     "data": {
      "text/plain": [
       " no_of_dependents             int64\n",
       " education                   object\n",
       " self_employed               object\n",
       " income_annum                 int64\n",
       " loan_amount                  int64\n",
       " loan_term                    int64\n",
       " cibil_score                  int64\n",
       " residential_assets_value     int64\n",
       " commercial_assets_value      int64\n",
       " luxury_assets_value          int64\n",
       " bank_asset_value             int64\n",
       " loan_status                 object\n",
       "dtype: object"
      ]
     },
     "execution_count": 6,
     "metadata": {},
     "output_type": "execute_result"
    }
   ],
   "source": [
    "df.dtypes"
   ]
  },
  {
   "cell_type": "code",
   "execution_count": 7,
   "id": "868f837a",
   "metadata": {},
   "outputs": [],
   "source": [
    "from sklearn.preprocessing import LabelEncoder\n",
    "\n",
    "enc = LabelEncoder()"
   ]
  },
  {
   "cell_type": "code",
   "execution_count": 8,
   "id": "f1638257",
   "metadata": {},
   "outputs": [],
   "source": [
    "for label, content in df.items():\n",
    "    if pd.api.types.is_object_dtype(content):\n",
    "        df[label] = enc.fit_transform(content)"
   ]
  },
  {
   "cell_type": "code",
   "execution_count": 9,
   "id": "db733ff4",
   "metadata": {},
   "outputs": [
    {
     "data": {
      "text/plain": [
       " no_of_dependents            int64\n",
       " education                   int32\n",
       " self_employed               int32\n",
       " income_annum                int64\n",
       " loan_amount                 int64\n",
       " loan_term                   int64\n",
       " cibil_score                 int64\n",
       " residential_assets_value    int64\n",
       " commercial_assets_value     int64\n",
       " luxury_assets_value         int64\n",
       " bank_asset_value            int64\n",
       " loan_status                 int32\n",
       "dtype: object"
      ]
     },
     "execution_count": 9,
     "metadata": {},
     "output_type": "execute_result"
    }
   ],
   "source": [
    "df.dtypes"
   ]
  },
  {
   "cell_type": "code",
   "execution_count": 10,
   "id": "16743d69",
   "metadata": {},
   "outputs": [],
   "source": [
    "X = df.drop(\" loan_status\", axis=1)\n",
    "y = df[\" loan_status\"]"
   ]
  },
  {
   "cell_type": "code",
   "execution_count": 11,
   "id": "a5a60342",
   "metadata": {},
   "outputs": [],
   "source": [
    "from sklearn.model_selection import train_test_split\n",
    "\n",
    "X_train, X_test, y_train, y_test = train_test_split(X, y, test_size=0.2, random_state=42)"
   ]
  },
  {
   "cell_type": "code",
   "execution_count": 12,
   "id": "e3a7a2e1",
   "metadata": {},
   "outputs": [],
   "source": [
    "from sklearn.ensemble import RandomForestClassifier\n",
    "\n",
    "model = RandomForestClassifier(n_estimators=10000)"
   ]
  },
  {
   "cell_type": "code",
   "execution_count": 13,
   "id": "ff73348f",
   "metadata": {},
   "outputs": [
    {
     "data": {
      "text/html": [
       "<style>#sk-container-id-1 {color: black;}#sk-container-id-1 pre{padding: 0;}#sk-container-id-1 div.sk-toggleable {background-color: white;}#sk-container-id-1 label.sk-toggleable__label {cursor: pointer;display: block;width: 100%;margin-bottom: 0;padding: 0.3em;box-sizing: border-box;text-align: center;}#sk-container-id-1 label.sk-toggleable__label-arrow:before {content: \"▸\";float: left;margin-right: 0.25em;color: #696969;}#sk-container-id-1 label.sk-toggleable__label-arrow:hover:before {color: black;}#sk-container-id-1 div.sk-estimator:hover label.sk-toggleable__label-arrow:before {color: black;}#sk-container-id-1 div.sk-toggleable__content {max-height: 0;max-width: 0;overflow: hidden;text-align: left;background-color: #f0f8ff;}#sk-container-id-1 div.sk-toggleable__content pre {margin: 0.2em;color: black;border-radius: 0.25em;background-color: #f0f8ff;}#sk-container-id-1 input.sk-toggleable__control:checked~div.sk-toggleable__content {max-height: 200px;max-width: 100%;overflow: auto;}#sk-container-id-1 input.sk-toggleable__control:checked~label.sk-toggleable__label-arrow:before {content: \"▾\";}#sk-container-id-1 div.sk-estimator input.sk-toggleable__control:checked~label.sk-toggleable__label {background-color: #d4ebff;}#sk-container-id-1 div.sk-label input.sk-toggleable__control:checked~label.sk-toggleable__label {background-color: #d4ebff;}#sk-container-id-1 input.sk-hidden--visually {border: 0;clip: rect(1px 1px 1px 1px);clip: rect(1px, 1px, 1px, 1px);height: 1px;margin: -1px;overflow: hidden;padding: 0;position: absolute;width: 1px;}#sk-container-id-1 div.sk-estimator {font-family: monospace;background-color: #f0f8ff;border: 1px dotted black;border-radius: 0.25em;box-sizing: border-box;margin-bottom: 0.5em;}#sk-container-id-1 div.sk-estimator:hover {background-color: #d4ebff;}#sk-container-id-1 div.sk-parallel-item::after {content: \"\";width: 100%;border-bottom: 1px solid gray;flex-grow: 1;}#sk-container-id-1 div.sk-label:hover label.sk-toggleable__label {background-color: #d4ebff;}#sk-container-id-1 div.sk-serial::before {content: \"\";position: absolute;border-left: 1px solid gray;box-sizing: border-box;top: 0;bottom: 0;left: 50%;z-index: 0;}#sk-container-id-1 div.sk-serial {display: flex;flex-direction: column;align-items: center;background-color: white;padding-right: 0.2em;padding-left: 0.2em;position: relative;}#sk-container-id-1 div.sk-item {position: relative;z-index: 1;}#sk-container-id-1 div.sk-parallel {display: flex;align-items: stretch;justify-content: center;background-color: white;position: relative;}#sk-container-id-1 div.sk-item::before, #sk-container-id-1 div.sk-parallel-item::before {content: \"\";position: absolute;border-left: 1px solid gray;box-sizing: border-box;top: 0;bottom: 0;left: 50%;z-index: -1;}#sk-container-id-1 div.sk-parallel-item {display: flex;flex-direction: column;z-index: 1;position: relative;background-color: white;}#sk-container-id-1 div.sk-parallel-item:first-child::after {align-self: flex-end;width: 50%;}#sk-container-id-1 div.sk-parallel-item:last-child::after {align-self: flex-start;width: 50%;}#sk-container-id-1 div.sk-parallel-item:only-child::after {width: 0;}#sk-container-id-1 div.sk-dashed-wrapped {border: 1px dashed gray;margin: 0 0.4em 0.5em 0.4em;box-sizing: border-box;padding-bottom: 0.4em;background-color: white;}#sk-container-id-1 div.sk-label label {font-family: monospace;font-weight: bold;display: inline-block;line-height: 1.2em;}#sk-container-id-1 div.sk-label-container {text-align: center;}#sk-container-id-1 div.sk-container {/* jupyter's `normalize.less` sets `[hidden] { display: none; }` but bootstrap.min.css set `[hidden] { display: none !important; }` so we also need the `!important` here to be able to override the default hidden behavior on the sphinx rendered scikit-learn.org. See: https://github.com/scikit-learn/scikit-learn/issues/21755 */display: inline-block !important;position: relative;}#sk-container-id-1 div.sk-text-repr-fallback {display: none;}</style><div id=\"sk-container-id-1\" class=\"sk-top-container\"><div class=\"sk-text-repr-fallback\"><pre>RandomForestClassifier(n_estimators=10000)</pre><b>In a Jupyter environment, please rerun this cell to show the HTML representation or trust the notebook. <br />On GitHub, the HTML representation is unable to render, please try loading this page with nbviewer.org.</b></div><div class=\"sk-container\" hidden><div class=\"sk-item\"><div class=\"sk-estimator sk-toggleable\"><input class=\"sk-toggleable__control sk-hidden--visually\" id=\"sk-estimator-id-1\" type=\"checkbox\" checked><label for=\"sk-estimator-id-1\" class=\"sk-toggleable__label sk-toggleable__label-arrow\">RandomForestClassifier</label><div class=\"sk-toggleable__content\"><pre>RandomForestClassifier(n_estimators=10000)</pre></div></div></div></div></div>"
      ],
      "text/plain": [
       "RandomForestClassifier(n_estimators=10000)"
      ]
     },
     "execution_count": 13,
     "metadata": {},
     "output_type": "execute_result"
    }
   ],
   "source": [
    "model.fit(X_train, y_train)"
   ]
  },
  {
   "cell_type": "code",
   "execution_count": 14,
   "id": "aef00137",
   "metadata": {},
   "outputs": [
    {
     "data": {
      "text/plain": [
       "0.9800936768149883"
      ]
     },
     "execution_count": 14,
     "metadata": {},
     "output_type": "execute_result"
    }
   ],
   "source": [
    "model.score(X_test, y_test)"
   ]
  },
  {
   "cell_type": "code",
   "execution_count": 15,
   "id": "a8ceced7",
   "metadata": {},
   "outputs": [],
   "source": [
    "feature_importances = pd.Series(model.feature_importances_, model.feature_names_in_)\n"
   ]
  },
  {
   "cell_type": "code",
   "execution_count": 16,
   "id": "7488ffce",
   "metadata": {},
   "outputs": [],
   "source": [
    "import seaborn as sn"
   ]
  },
  {
   "cell_type": "code",
   "execution_count": 17,
   "id": "0bc031de",
   "metadata": {},
   "outputs": [
    {
     "data": {
      "image/png": "[encoded data removed]",
      "text/plain": [
       "<Figure size 640x480 with 1 Axes>"
      ]
     },
     "metadata": {},
     "output_type": "display_data"
    }
   ],
   "source": [
    "sn.barplot(x=feature_importances.values, y=feature_importances.index, width=1);"
   ]
  },
  {
   "cell_type": "code",
   "execution_count": 18,
   "id": "5e872496",
   "metadata": {},
   "outputs": [],
   "source": [
    "y_preds = model.predict(X_test)"
   ]
  },
  {
   "cell_type": "code",
   "execution_count": 19,
   "id": "3d49d510",
   "metadata": {},
   "outputs": [],
   "source": [
    "from sklearn.metrics import confusion_matrix"
   ]
  },
  {
   "cell_type": "code",
   "execution_count": 20,
   "id": "c886c615",
   "metadata": {},
   "outputs": [
    {
     "data": {
      "image/png": "[encoded data removed]",
      "text/plain": [
       "<Figure size 640x480 with 2 Axes>"
      ]
     },
     "metadata": {},
     "output_type": "display_data"
    }
   ],
   "source": [
    "sn.heatmap(confusion_matrix(y_pred=y_preds, y_true=y_test), linewidths=1, annot=True, fmt=\"d\");"
   ]
  },
  {
   "cell_type": "code",
   "execution_count": 21,
   "id": "a8727e8f",
   "metadata": {},
   "outputs": [
    {
     "data": {
      "text/plain": [
       " no_of_dependents            0.008006\n",
       " education                   0.002248\n",
       " self_employed               0.002730\n",
       " income_annum                0.017813\n",
       " loan_amount                 0.029117\n",
       " loan_term                   0.061320\n",
       " cibil_score                 0.812998\n",
       " residential_assets_value    0.017520\n",
       " commercial_assets_value     0.015715\n",
       " luxury_assets_value         0.017557\n",
       " bank_asset_value            0.014975\n",
       "dtype: float64"
      ]
     },
     "execution_count": 21,
     "metadata": {},
     "output_type": "execute_result"
    }
   ],
   "source": [
    "feature_importances"
   ]
  },
  {
   "cell_type": "code",
   "execution_count": 22,
   "id": "e35aee9a",
   "metadata": {},
   "outputs": [],
   "source": [
    "from sklearn.neighbors import KNeighborsClassifier\n",
    "\n",
    "model = KNeighborsClassifier()"
   ]
  },
  {
   "cell_type": "code",
   "execution_count": 23,
   "id": "701e804b",
   "metadata": {},
   "outputs": [
    {
     "data": {
      "text/html": [
       "<style>#sk-container-id-2 {color: black;}#sk-container-id-2 pre{padding: 0;}#sk-container-id-2 div.sk-toggleable {background-color: white;}#sk-container-id-2 label.sk-toggleable__label {cursor: pointer;display: block;width: 100%;margin-bottom: 0;padding: 0.3em;box-sizing: border-box;text-align: center;}#sk-container-id-2 label.sk-toggleable__label-arrow:before {content: \"▸\";float: left;margin-right: 0.25em;color: #696969;}#sk-container-id-2 label.sk-toggleable__label-arrow:hover:before {color: black;}#sk-container-id-2 div.sk-estimator:hover label.sk-toggleable__label-arrow:before {color: black;}#sk-container-id-2 div.sk-toggleable__content {max-height: 0;max-width: 0;overflow: hidden;text-align: left;background-color: #f0f8ff;}#sk-container-id-2 div.sk-toggleable__content pre {margin: 0.2em;color: black;border-radius: 0.25em;background-color: #f0f8ff;}#sk-container-id-2 input.sk-toggleable__control:checked~div.sk-toggleable__content {max-height: 200px;max-width: 100%;overflow: auto;}#sk-container-id-2 input.sk-toggleable__control:checked~label.sk-toggleable__label-arrow:before {content: \"▾\";}#sk-container-id-2 div.sk-estimator input.sk-toggleable__control:checked~label.sk-toggleable__label {background-color: #d4ebff;}#sk-container-id-2 div.sk-label input.sk-toggleable__control:checked~label.sk-toggleable__label {background-color: #d4ebff;}#sk-container-id-2 input.sk-hidden--visually {border: 0;clip: rect(1px 1px 1px 1px);clip: rect(1px, 1px, 1px, 1px);height: 1px;margin: -1px;overflow: hidden;padding: 0;position: absolute;width: 1px;}#sk-container-id-2 div.sk-estimator {font-family: monospace;background-color: #f0f8ff;border: 1px dotted black;border-radius: 0.25em;box-sizing: border-box;margin-bottom: 0.5em;}#sk-container-id-2 div.sk-estimator:hover {background-color: #d4ebff;}#sk-container-id-2 div.sk-parallel-item::after {content: \"\";width: 100%;border-bottom: 1px solid gray;flex-grow: 1;}#sk-container-id-2 div.sk-label:hover label.sk-toggleable__label {background-color: #d4ebff;}#sk-container-id-2 div.sk-serial::before {content: \"\";position: absolute;border-left: 1px solid gray;box-sizing: border-box;top: 0;bottom: 0;left: 50%;z-index: 0;}#sk-container-id-2 div.sk-serial {display: flex;flex-direction: column;align-items: center;background-color: white;padding-right: 0.2em;padding-left: 0.2em;position: relative;}#sk-container-id-2 div.sk-item {position: relative;z-index: 1;}#sk-container-id-2 div.sk-parallel {display: flex;align-items: stretch;justify-content: center;background-color: white;position: relative;}#sk-container-id-2 div.sk-item::before, #sk-container-id-2 div.sk-parallel-item::before {content: \"\";position: absolute;border-left: 1px solid gray;box-sizing: border-box;top: 0;bottom: 0;left: 50%;z-index: -1;}#sk-container-id-2 div.sk-parallel-item {display: flex;flex-direction: column;z-index: 1;position: relative;background-color: white;}#sk-container-id-2 div.sk-parallel-item:first-child::after {align-self: flex-end;width: 50%;}#sk-container-id-2 div.sk-parallel-item:last-child::after {align-self: flex-start;width: 50%;}#sk-container-id-2 div.sk-parallel-item:only-child::after {width: 0;}#sk-container-id-2 div.sk-dashed-wrapped {border: 1px dashed gray;margin: 0 0.4em 0.5em 0.4em;box-sizing: border-box;padding-bottom: 0.4em;background-color: white;}#sk-container-id-2 div.sk-label label {font-family: monospace;font-weight: bold;display: inline-block;line-height: 1.2em;}#sk-container-id-2 div.sk-label-container {text-align: center;}#sk-container-id-2 div.sk-container {/* jupyter's `normalize.less` sets `[hidden] { display: none; }` but bootstrap.min.css set `[hidden] { display: none !important; }` so we also need the `!important` here to be able to override the default hidden behavior on the sphinx rendered scikit-learn.org. See: https://github.com/scikit-learn/scikit-learn/issues/21755 */display: inline-block !important;position: relative;}#sk-container-id-2 div.sk-text-repr-fallback {display: none;}</style><div id=\"sk-container-id-2\" class=\"sk-top-container\"><div class=\"sk-text-repr-fallback\"><pre>KNeighborsClassifier()</pre><b>In a Jupyter environment, please rerun this cell to show the HTML representation or trust the notebook. <br />On GitHub, the HTML representation is unable to render, please try loading this page with nbviewer.org.</b></div><div class=\"sk-container\" hidden><div class=\"sk-item\"><div class=\"sk-estimator sk-toggleable\"><input class=\"sk-toggleable__control sk-hidden--visually\" id=\"sk-estimator-id-2\" type=\"checkbox\" checked><label for=\"sk-estimator-id-2\" class=\"sk-toggleable__label sk-toggleable__label-arrow\">KNeighborsClassifier</label><div class=\"sk-toggleable__content\"><pre>KNeighborsClassifier()</pre></div></div></div></div></div>"
      ],
      "text/plain": [
       "KNeighborsClassifier()"
      ]
     },
     "execution_count": 23,
     "metadata": {},
     "output_type": "execute_result"
    }
   ],
   "source": [
    "model.fit(X_train, y_train)"
   ]
  },
  {
   "cell_type": "code",
   "execution_count": 24,
   "id": "b959fce0",
   "metadata": {},
   "outputs": [
    {
     "data": {
      "text/plain": [
       "0.5784543325526932"
      ]
     },
     "execution_count": 24,
     "metadata": {},
     "output_type": "execute_result"
    }
   ],
   "source": [
    "model.score(X_test, y_test)"
   ]
  },
  {
   "cell_type": "code",
   "execution_count": 25,
   "id": "986d749c",
   "metadata": {},
   "outputs": [],
   "source": [
    "from xgboost import XGBClassifier\n",
    "\n",
    "model = XGBClassifier()"
   ]
  },
  {
   "cell_type": "code",
   "execution_count": 26,
   "id": "560767b3",
   "metadata": {},
   "outputs": [
    {
     "data": {
      "text/html": [
       "<style>#sk-container-id-3 {color: black;}#sk-container-id-3 pre{padding: 0;}#sk-container-id-3 div.sk-toggleable {background-color: white;}#sk-container-id-3 label.sk-toggleable__label {cursor: pointer;display: block;width: 100%;margin-bottom: 0;padding: 0.3em;box-sizing: border-box;text-align: center;}#sk-container-id-3 label.sk-toggleable__label-arrow:before {content: \"▸\";float: left;margin-right: 0.25em;color: #696969;}#sk-container-id-3 label.sk-toggleable__label-arrow:hover:before {color: black;}#sk-container-id-3 div.sk-estimator:hover label.sk-toggleable__label-arrow:before {color: black;}#sk-container-id-3 div.sk-toggleable__content {max-height: 0;max-width: 0;overflow: hidden;text-align: left;background-color: #f0f8ff;}#sk-container-id-3 div.sk-toggleable__content pre {margin: 0.2em;color: black;border-radius: 0.25em;background-color: #f0f8ff;}#sk-container-id-3 input.sk-toggleable__control:checked~div.sk-toggleable__content {max-height: 200px;max-width: 100%;overflow: auto;}#sk-container-id-3 input.sk-toggleable__control:checked~label.sk-toggleable__label-arrow:before {content: \"▾\";}#sk-container-id-3 div.sk-estimator input.sk-toggleable__control:checked~label.sk-toggleable__label {background-color: #d4ebff;}#sk-container-id-3 div.sk-label input.sk-toggleable__control:checked~label.sk-toggleable__label {background-color: #d4ebff;}#sk-container-id-3 input.sk-hidden--visually {border: 0;clip: rect(1px 1px 1px 1px);clip: rect(1px, 1px, 1px, 1px);height: 1px;margin: -1px;overflow: hidden;padding: 0;position: absolute;width: 1px;}#sk-container-id-3 div.sk-estimator {font-family: monospace;background-color: #f0f8ff;border: 1px dotted black;border-radius: 0.25em;box-sizing: border-box;margin-bottom: 0.5em;}#sk-container-id-3 div.sk-estimator:hover {background-color: #d4ebff;}#sk-container-id-3 div.sk-parallel-item::after {content: \"\";width: 100%;border-bottom: 1px solid gray;flex-grow: 1;}#sk-container-id-3 div.sk-label:hover label.sk-toggleable__label {background-color: #d4ebff;}#sk-container-id-3 div.sk-serial::before {content: \"\";position: absolute;border-left: 1px solid gray;box-sizing: border-box;top: 0;bottom: 0;left: 50%;z-index: 0;}#sk-container-id-3 div.sk-serial {display: flex;flex-direction: column;align-items: center;background-color: white;padding-right: 0.2em;padding-left: 0.2em;position: relative;}#sk-container-id-3 div.sk-item {position: relative;z-index: 1;}#sk-container-id-3 div.sk-parallel {display: flex;align-items: stretch;justify-content: center;background-color: white;position: relative;}#sk-container-id-3 div.sk-item::before, #sk-container-id-3 div.sk-parallel-item::before {content: \"\";position: absolute;border-left: 1px solid gray;box-sizing: border-box;top: 0;bottom: 0;left: 50%;z-index: -1;}#sk-container-id-3 div.sk-parallel-item {display: flex;flex-direction: column;z-index: 1;position: relative;background-color: white;}#sk-container-id-3 div.sk-parallel-item:first-child::after {align-self: flex-end;width: 50%;}#sk-container-id-3 div.sk-parallel-item:last-child::after {align-self: flex-start;width: 50%;}#sk-container-id-3 div.sk-parallel-item:only-child::after {width: 0;}#sk-container-id-3 div.sk-dashed-wrapped {border: 1px dashed gray;margin: 0 0.4em 0.5em 0.4em;box-sizing: border-box;padding-bottom: 0.4em;background-color: white;}#sk-container-id-3 div.sk-label label {font-family: monospace;font-weight: bold;display: inline-block;line-height: 1.2em;}#sk-container-id-3 div.sk-label-container {text-align: center;}#sk-container-id-3 div.sk-container {/* jupyter's `normalize.less` sets `[hidden] { display: none; }` but bootstrap.min.css set `[hidden] { display: none !important; }` so we also need the `!important` here to be able to override the default hidden behavior on the sphinx rendered scikit-learn.org. See: https://github.com/scikit-learn/scikit-learn/issues/21755 */display: inline-block !important;position: relative;}#sk-container-id-3 div.sk-text-repr-fallback {display: none;}</style><div id=\"sk-container-id-3\" class=\"sk-top-container\"><div class=\"sk-text-repr-fallback\"><pre>XGBClassifier(base_score=None, booster=None, callbacks=None,\n",
       "              colsample_bylevel=None, colsample_bynode=None,\n",
       "              colsample_bytree=None, device=None, early_stopping_rounds=None,\n",
       "              enable_categorical=False, eval_metric=None, feature_types=None,\n",
       "              gamma=None, grow_policy=None, importance_type=None,\n",
       "              interaction_constraints=None, learning_rate=None, max_bin=None,\n",
       "              max_cat_threshold=None, max_cat_to_onehot=None,\n",
       "              max_delta_step=None, max_depth=None, max_leaves=None,\n",
       "              min_child_weight=None, missing=nan, monotone_constraints=None,\n",
       "              multi_strategy=None, n_estimators=None, n_jobs=None,\n",
       "              num_parallel_tree=None, random_state=None, ...)</pre><b>In a Jupyter environment, please rerun this cell to show the HTML representation or trust the notebook. <br />On GitHub, the HTML representation is unable to render, please try loading this page with nbviewer.org.</b></div><div class=\"sk-container\" hidden><div class=\"sk-item\"><div class=\"sk-estimator sk-toggleable\"><input class=\"sk-toggleable__control sk-hidden--visually\" id=\"sk-estimator-id-3\" type=\"checkbox\" checked><label for=\"sk-estimator-id-3\" class=\"sk-toggleable__label sk-toggleable__label-arrow\">XGBClassifier</label><div class=\"sk-toggleable__content\"><pre>XGBClassifier(base_score=None, booster=None, callbacks=None,\n",
       "              colsample_bylevel=None, colsample_bynode=None,\n",
       "              colsample_bytree=None, device=None, early_stopping_rounds=None,\n",
       "              enable_categorical=False, eval_metric=None, feature_types=None,\n",
       "              gamma=None, grow_policy=None, importance_type=None,\n",
       "              interaction_constraints=None, learning_rate=None, max_bin=None,\n",
       "              max_cat_threshold=None, max_cat_to_onehot=None,\n",
       "              max_delta_step=None, max_depth=None, max_leaves=None,\n",
       "              min_child_weight=None, missing=nan, monotone_constraints=None,\n",
       "              multi_strategy=None, n_estimators=None, n_jobs=None,\n",
       "              num_parallel_tree=None, random_state=None, ...)</pre></div></div></div></div></div>"
      ],
      "text/plain": [
       "XGBClassifier(base_score=None, booster=None, callbacks=None,\n",
       "              colsample_bylevel=None, colsample_bynode=None,\n",
       "              colsample_bytree=None, device=None, early_stopping_rounds=None,\n",
       "              enable_categorical=False, eval_metric=None, feature_types=None,\n",
       "              gamma=None, grow_policy=None, importance_type=None,\n",
       "              interaction_constraints=None, learning_rate=None, max_bin=None,\n",
       "              max_cat_threshold=None, max_cat_to_onehot=None,\n",
       "              max_delta_step=None, max_depth=None, max_leaves=None,\n",
       "              min_child_weight=None, missing=nan, monotone_constraints=None,\n",
       "              multi_strategy=None, n_estimators=None, n_jobs=None,\n",
       "              num_parallel_tree=None, random_state=None, ...)"
      ]
     },
     "execution_count": 26,
     "metadata": {},
     "output_type": "execute_result"
    }
   ],
   "source": [
    "model.fit(X_train, y_train)"
   ]
  },
  {
   "cell_type": "code",
   "execution_count": 27,
   "id": "78228d59",
   "metadata": {},
   "outputs": [
    {
     "data": {
      "text/plain": [
       "0.9824355971896955"
      ]
     },
     "execution_count": 27,
     "metadata": {},
     "output_type": "execute_result"
    }
   ],
   "source": [
    "model.score(X_test, y_test)"
   ]
  },
  {
   "cell_type": "code",
   "execution_count": 28,
   "id": "9b6b7721",
   "metadata": {},
   "outputs": [],
   "source": [
    "import optuna"
   ]
  },
  {
   "cell_type": "code",
   "execution_count": 29,
   "id": "5c3cbb39",
   "metadata": {},
   "outputs": [],
   "source": [
    "def objective(trial):\n",
    "    params = {\n",
    "    \"learning_rate\": trial.suggest_float(\"learning_rate\", 0, 1),\n",
    "    \"max_depth\": trial.suggest_int(\"max_depth\", 8, 12),\n",
    "    \"max_leaves\": trial.suggest_int(\"max_leaves\", 2, 8),\n",
    "    \"num_parallel_tree\": trial.suggest_int(\"num_parallel_tree\", 2, 4),\n",
    "    \"n_estimators\": trial.suggest_int(\"n_estimators\", 200, 1000)\n",
    "}\n",
    "    model = XGBClassifier(**params)\n",
    "    model.fit(X_train, y_train)\n",
    "    return model.score(X_test, y_test)\n"
   ]
  },
  {
   "cell_type": "code",
   "execution_count": 30,
   "id": "a61858c9",
   "metadata": {},
   "outputs": [
    {
     "name": "stderr",
     "output_type": "stream",
     "text": [
      "[I 2025-04-11 11:28:38,547] A new study created in memory with name: no-name-cae1d859-6807-4758-9a0a-863f31e8c0cc\n"
     ]
    }
   ],
   "source": [
    "study = optuna.create_study(direction=\"maximize\")"
   ]
  },
  {
   "cell_type": "code",
   "execution_count": 31,
   "id": "23fdedff",
   "metadata": {},
   "outputs": [
    {
     "data": {
      "application/vnd.jupyter.widget-view+json": {
       "model_id": "c30171b21a09469b9ca72d8c8b88c049",
       "version_major": 2,
       "version_minor": 0
      },
      "text/plain": [
       "  0%|          | 0/100 [00:00<?, ?it/s]"
      ]
     },
     "metadata": {},
     "output_type": "display_data"
    },
    {
     "name": "stdout",
     "output_type": "stream",
     "text": [
      "[I 2025-04-11 11:28:39,915] Trial 5 finished with value: 0.968384074941452 and parameters: {'learning_rate': 0.00910235470729337, 'max_depth': 8, 'max_leaves': 5, 'num_parallel_tree': 2, 'n_estimators': 228}. Best is trial 5 with value: 0.968384074941452.\n",
      "[I 2025-04-11 11:28:40,078] Trial 7 finished with value: 0.9730679156908665 and parameters: {'learning_rate': 0.252698175903153, 'max_depth': 12, 'max_leaves': 2, 'num_parallel_tree': 2, 'n_estimators': 531}. Best is trial 7 with value: 0.9730679156908665.\n",
      "[I 2025-04-11 11:28:41,627] Trial 4 finished with value: 0.9754098360655737 and parameters: {'learning_rate': 0.06087651953371809, 'max_depth': 12, 'max_leaves': 8, 'num_parallel_tree': 4, 'n_estimators': 259}. Best is trial 4 with value: 0.9754098360655737.\n",
      "[I 2025-04-11 11:28:42,084] Trial 1 finished with value: 0.9789227166276346 and parameters: {'learning_rate': 0.3178678566231, 'max_depth': 8, 'max_leaves': 7, 'num_parallel_tree': 2, 'n_estimators': 604}. Best is trial 1 with value: 0.9789227166276346.\n",
      "[I 2025-04-11 11:28:42,245] Trial 2 finished with value: 0.9730679156908665 and parameters: {'learning_rate': 0.531248913929034, 'max_depth': 9, 'max_leaves': 4, 'num_parallel_tree': 4, 'n_estimators': 497}. Best is trial 1 with value: 0.9789227166276346.\n",
      "[I 2025-04-11 11:28:42,749] Trial 3 finished with value: 0.9754098360655737 and parameters: {'learning_rate': 0.10587658380431175, 'max_depth': 11, 'max_leaves': 8, 'num_parallel_tree': 3, 'n_estimators': 444}. Best is trial 1 with value: 0.9789227166276346.\n",
      "[I 2025-04-11 11:28:43,076] Trial 11 finished with value: 0.9730679156908665 and parameters: {'learning_rate': 0.20725465190692094, 'max_depth': 11, 'max_leaves': 2, 'num_parallel_tree': 2, 'n_estimators': 378}. Best is trial 1 with value: 0.9789227166276346.\n",
      "[I 2025-04-11 11:28:43,151] Trial 0 finished with value: 0.977751756440281 and parameters: {'learning_rate': 0.06203331384198674, 'max_depth': 9, 'max_leaves': 6, 'num_parallel_tree': 2, 'n_estimators': 869}. Best is trial 1 with value: 0.9789227166276346.\n",
      "[I 2025-04-11 11:28:43,910] Trial 10 finished with value: 0.9742388758782201 and parameters: {'learning_rate': 0.04242131479818212, 'max_depth': 12, 'max_leaves': 6, 'num_parallel_tree': 3, 'n_estimators': 310}. Best is trial 1 with value: 0.9789227166276346.\n",
      "[I 2025-04-11 11:28:44,884] Trial 13 finished with value: 0.9789227166276346 and parameters: {'learning_rate': 0.6331479773266425, 'max_depth': 8, 'max_leaves': 6, 'num_parallel_tree': 2, 'n_estimators': 423}. Best is trial 1 with value: 0.9789227166276346.\n",
      "[I 2025-04-11 11:28:44,977] Trial 6 finished with value: 0.9789227166276346 and parameters: {'learning_rate': 0.830134962998304, 'max_depth': 11, 'max_leaves': 7, 'num_parallel_tree': 4, 'n_estimators': 786}. Best is trial 1 with value: 0.9789227166276346.\n",
      "[I 2025-04-11 11:28:46,787] Trial 12 finished with value: 0.9742388758782201 and parameters: {'learning_rate': 0.6744950884524858, 'max_depth': 8, 'max_leaves': 5, 'num_parallel_tree': 3, 'n_estimators': 712}. Best is trial 1 with value: 0.9789227166276346.\n",
      "[I 2025-04-11 11:28:47,534] Trial 8 finished with value: 0.9765807962529274 and parameters: {'learning_rate': 0.5487505441668263, 'max_depth': 8, 'max_leaves': 5, 'num_parallel_tree': 4, 'n_estimators': 917}. Best is trial 1 with value: 0.9789227166276346.\n",
      "[I 2025-04-11 11:28:47,805] Trial 9 finished with value: 0.9754098360655737 and parameters: {'learning_rate': 0.5072060323301134, 'max_depth': 10, 'max_leaves': 8, 'num_parallel_tree': 4, 'n_estimators': 886}. Best is trial 1 with value: 0.9789227166276346.\n",
      "[I 2025-04-11 11:28:49,188] Trial 17 finished with value: 0.9800936768149883 and parameters: {'learning_rate': 0.9175568531512337, 'max_depth': 9, 'max_leaves': 7, 'num_parallel_tree': 3, 'n_estimators': 733}. Best is trial 17 with value: 0.9800936768149883.\n",
      "[I 2025-04-11 11:28:49,374] Trial 14 finished with value: 0.9730679156908665 and parameters: {'learning_rate': 0.8867538508289092, 'max_depth': 11, 'max_leaves': 6, 'num_parallel_tree': 4, 'n_estimators': 856}. Best is trial 17 with value: 0.9800936768149883.\n",
      "[I 2025-04-11 11:28:50,557] Trial 18 finished with value: 0.9765807962529274 and parameters: {'learning_rate': 0.9384998982065346, 'max_depth': 10, 'max_leaves': 7, 'num_parallel_tree': 4, 'n_estimators': 737}. Best is trial 17 with value: 0.9800936768149883.\n",
      "[I 2025-04-11 11:28:51,654] Trial 15 finished with value: 0.9765807962529274 and parameters: {'learning_rate': 0.17263813203385836, 'max_depth': 11, 'max_leaves': 7, 'num_parallel_tree': 4, 'n_estimators': 838}. Best is trial 17 with value: 0.9800936768149883.\n",
      "[I 2025-04-11 11:28:52,056] Trial 21 finished with value: 0.9800936768149883 and parameters: {'learning_rate': 0.9057754342262516, 'max_depth': 10, 'max_leaves': 7, 'num_parallel_tree': 3, 'n_estimators': 688}. Best is trial 17 with value: 0.9800936768149883.\n",
      "[I 2025-04-11 11:28:52,527] Trial 19 finished with value: 0.9765807962529274 and parameters: {'learning_rate': 0.9951016580239413, 'max_depth': 10, 'max_leaves': 7, 'num_parallel_tree': 4, 'n_estimators': 722}. Best is trial 17 with value: 0.9800936768149883.\n",
      "[I 2025-04-11 11:28:53,240] Trial 20 finished with value: 0.9824355971896955 and parameters: {'learning_rate': 0.8845754292985321, 'max_depth': 10, 'max_leaves': 7, 'num_parallel_tree': 4, 'n_estimators': 681}. Best is trial 20 with value: 0.9824355971896955.\n",
      "[I 2025-04-11 11:28:53,617] Trial 16 finished with value: 0.977751756440281 and parameters: {'learning_rate': 0.18416408664679507, 'max_depth': 9, 'max_leaves': 7, 'num_parallel_tree': 4, 'n_estimators': 918}. Best is trial 20 with value: 0.9824355971896955.\n",
      "[I 2025-04-11 11:28:53,710] Trial 22 finished with value: 0.9800936768149883 and parameters: {'learning_rate': 0.9675382721231766, 'max_depth': 9, 'max_leaves': 7, 'num_parallel_tree': 3, 'n_estimators': 661}. Best is trial 20 with value: 0.9824355971896955.\n",
      "[I 2025-04-11 11:28:54,723] Trial 23 finished with value: 0.9765807962529274 and parameters: {'learning_rate': 0.3631879945799965, 'max_depth': 9, 'max_leaves': 7, 'num_parallel_tree': 3, 'n_estimators': 647}. Best is trial 20 with value: 0.9824355971896955.\n",
      "[I 2025-04-11 11:28:55,995] Trial 24 finished with value: 0.977751756440281 and parameters: {'learning_rate': 0.2984854005689865, 'max_depth': 9, 'max_leaves': 7, 'num_parallel_tree': 3, 'n_estimators': 626}. Best is trial 20 with value: 0.9824355971896955.\n",
      "[I 2025-04-11 11:28:57,013] Trial 25 finished with value: 0.977751756440281 and parameters: {'learning_rate': 0.38679000912353123, 'max_depth': 9, 'max_leaves': 7, 'num_parallel_tree': 3, 'n_estimators': 638}. Best is trial 20 with value: 0.9824355971896955.\n",
      "[I 2025-04-11 11:28:57,609] Trial 29 finished with value: 0.9765807962529274 and parameters: {'learning_rate': 0.7889647517168843, 'max_depth': 9, 'max_leaves': 4, 'num_parallel_tree': 3, 'n_estimators': 625}. Best is trial 20 with value: 0.9824355971896955.\n",
      "[I 2025-04-11 11:28:57,692] Trial 30 finished with value: 0.977751756440281 and parameters: {'learning_rate': 0.7663836824015526, 'max_depth': 10, 'max_leaves': 4, 'num_parallel_tree': 3, 'n_estimators': 631}. Best is trial 20 with value: 0.9824355971896955.\n",
      "[I 2025-04-11 11:28:57,798] Trial 31 finished with value: 0.9742388758782201 and parameters: {'learning_rate': 0.7762333446577658, 'max_depth': 10, 'max_leaves': 3, 'num_parallel_tree': 3, 'n_estimators': 551}. Best is trial 20 with value: 0.9824355971896955.\n",
      "[I 2025-04-11 11:28:58,346] Trial 26 finished with value: 0.9730679156908665 and parameters: {'learning_rate': 0.7501919198097539, 'max_depth': 9, 'max_leaves': 4, 'num_parallel_tree': 3, 'n_estimators': 990}. Best is trial 20 with value: 0.9824355971896955.\n",
      "[I 2025-04-11 11:28:58,862] Trial 27 finished with value: 0.977751756440281 and parameters: {'learning_rate': 0.7599893226133501, 'max_depth': 9, 'max_leaves': 4, 'num_parallel_tree': 3, 'n_estimators': 994}. Best is trial 20 with value: 0.9824355971896955.\n",
      "[I 2025-04-11 11:28:59,578] Trial 28 finished with value: 0.9789227166276346 and parameters: {'learning_rate': 0.780494303706767, 'max_depth': 9, 'max_leaves': 4, 'num_parallel_tree': 3, 'n_estimators': 995}. Best is trial 20 with value: 0.9824355971896955.\n",
      "[I 2025-04-11 11:28:59,623] Trial 32 finished with value: 0.9742388758782201 and parameters: {'learning_rate': 0.7773919594877541, 'max_depth': 10, 'max_leaves': 4, 'num_parallel_tree': 3, 'n_estimators': 557}. Best is trial 20 with value: 0.9824355971896955.\n",
      "[I 2025-04-11 11:29:01,650] Trial 35 finished with value: 0.977751756440281 and parameters: {'learning_rate': 0.7016397210373542, 'max_depth': 10, 'max_leaves': 8, 'num_parallel_tree': 3, 'n_estimators': 553}. Best is trial 20 with value: 0.9824355971896955.\n",
      "[I 2025-04-11 11:29:02,632] Trial 36 finished with value: 0.9765807962529274 and parameters: {'learning_rate': 0.8712969235205874, 'max_depth': 10, 'max_leaves': 6, 'num_parallel_tree': 3, 'n_estimators': 795}. Best is trial 20 with value: 0.9824355971896955.\n",
      "[I 2025-04-11 11:29:02,819] Trial 33 finished with value: 0.9754098360655737 and parameters: {'learning_rate': 0.7729285065188304, 'max_depth': 10, 'max_leaves': 4, 'num_parallel_tree': 3, 'n_estimators': 1000}. Best is trial 20 with value: 0.9824355971896955.\n",
      "[I 2025-04-11 11:29:03,134] Trial 37 finished with value: 0.977751756440281 and parameters: {'learning_rate': 0.8783090940448167, 'max_depth': 10, 'max_leaves': 6, 'num_parallel_tree': 3, 'n_estimators': 770}. Best is trial 20 with value: 0.9824355971896955.\n",
      "[I 2025-04-11 11:29:03,178] Trial 38 finished with value: 0.9789227166276346 and parameters: {'learning_rate': 0.8936061735985057, 'max_depth': 10, 'max_leaves': 6, 'num_parallel_tree': 3, 'n_estimators': 688}. Best is trial 20 with value: 0.9824355971896955.\n",
      "[I 2025-04-11 11:29:03,819] Trial 34 finished with value: 0.9765807962529274 and parameters: {'learning_rate': 0.7446258322504886, 'max_depth': 10, 'max_leaves': 8, 'num_parallel_tree': 3, 'n_estimators': 974}. Best is trial 20 with value: 0.9824355971896955.\n",
      "[I 2025-04-11 11:29:04,385] Trial 40 finished with value: 0.977751756440281 and parameters: {'learning_rate': 0.9938352330412838, 'max_depth': 10, 'max_leaves': 8, 'num_parallel_tree': 3, 'n_estimators': 779}. Best is trial 20 with value: 0.9824355971896955.\n",
      "[I 2025-04-11 11:29:04,650] Trial 39 finished with value: 0.9765807962529274 and parameters: {'learning_rate': 0.990695571892742, 'max_depth': 10, 'max_leaves': 8, 'num_parallel_tree': 3, 'n_estimators': 801}. Best is trial 20 with value: 0.9824355971896955.\n",
      "[I 2025-04-11 11:29:06,016] Trial 42 finished with value: 0.977751756440281 and parameters: {'learning_rate': 0.9989960633075659, 'max_depth': 10, 'max_leaves': 8, 'num_parallel_tree': 2, 'n_estimators': 687}. Best is trial 20 with value: 0.9824355971896955.\n",
      "[I 2025-04-11 11:29:06,219] Trial 43 finished with value: 0.977751756440281 and parameters: {'learning_rate': 0.9990501584899696, 'max_depth': 8, 'max_leaves': 8, 'num_parallel_tree': 2, 'n_estimators': 683}. Best is trial 20 with value: 0.9824355971896955.\n",
      "[I 2025-04-11 11:29:06,490] Trial 41 finished with value: 0.977751756440281 and parameters: {'learning_rate': 0.8996866710461227, 'max_depth': 10, 'max_leaves': 6, 'num_parallel_tree': 3, 'n_estimators': 689}. Best is trial 20 with value: 0.9824355971896955.\n",
      "[I 2025-04-11 11:29:06,655] Trial 45 finished with value: 0.977751756440281 and parameters: {'learning_rate': 0.9769481117268581, 'max_depth': 8, 'max_leaves': 8, 'num_parallel_tree': 2, 'n_estimators': 673}. Best is trial 20 with value: 0.9824355971896955.\n",
      "[I 2025-04-11 11:29:06,854] Trial 44 finished with value: 0.9765807962529274 and parameters: {'learning_rate': 0.9989605445194916, 'max_depth': 8, 'max_leaves': 8, 'num_parallel_tree': 2, 'n_estimators': 707}. Best is trial 20 with value: 0.9824355971896955.\n",
      "[I 2025-04-11 11:29:07,403] Trial 46 finished with value: 0.9754098360655737 and parameters: {'learning_rate': 0.9977170173658738, 'max_depth': 8, 'max_leaves': 8, 'num_parallel_tree': 2, 'n_estimators': 684}. Best is trial 20 with value: 0.9824355971896955.\n",
      "[I 2025-04-11 11:29:07,953] Trial 47 finished with value: 0.9789227166276346 and parameters: {'learning_rate': 0.9366346376004809, 'max_depth': 8, 'max_leaves': 8, 'num_parallel_tree': 2, 'n_estimators': 674}. Best is trial 20 with value: 0.9824355971896955.\n",
      "[I 2025-04-11 11:29:08,253] Trial 48 finished with value: 0.9789227166276346 and parameters: {'learning_rate': 0.9482780114076115, 'max_depth': 8, 'max_leaves': 7, 'num_parallel_tree': 2, 'n_estimators': 686}. Best is trial 20 with value: 0.9824355971896955.\n",
      "[I 2025-04-11 11:29:08,921] Trial 50 finished with value: 0.9800936768149883 and parameters: {'learning_rate': 0.9154839166353552, 'max_depth': 8, 'max_leaves': 7, 'num_parallel_tree': 2, 'n_estimators': 476}. Best is trial 20 with value: 0.9824355971896955.\n",
      "[I 2025-04-11 11:29:09,188] Trial 49 finished with value: 0.9765807962529274 and parameters: {'learning_rate': 0.9330488962920276, 'max_depth': 8, 'max_leaves': 7, 'num_parallel_tree': 2, 'n_estimators': 582}. Best is trial 20 with value: 0.9824355971896955.\n",
      "[I 2025-04-11 11:29:09,238] Trial 51 finished with value: 0.9765807962529274 and parameters: {'learning_rate': 0.9412886316471393, 'max_depth': 8, 'max_leaves': 7, 'num_parallel_tree': 2, 'n_estimators': 491}. Best is trial 20 with value: 0.9824355971896955.\n",
      "[I 2025-04-11 11:29:09,489] Trial 52 finished with value: 0.977751756440281 and parameters: {'learning_rate': 0.83646378297056, 'max_depth': 8, 'max_leaves': 7, 'num_parallel_tree': 2, 'n_estimators': 495}. Best is trial 20 with value: 0.9824355971896955.\n",
      "[I 2025-04-11 11:29:10,122] Trial 53 finished with value: 0.9789227166276346 and parameters: {'learning_rate': 0.5897165423080956, 'max_depth': 11, 'max_leaves': 7, 'num_parallel_tree': 2, 'n_estimators': 589}. Best is trial 20 with value: 0.9824355971896955.\n",
      "[I 2025-04-11 11:29:12,325] Trial 55 finished with value: 0.9789227166276346 and parameters: {'learning_rate': 0.593122878974119, 'max_depth': 11, 'max_leaves': 7, 'num_parallel_tree': 4, 'n_estimators': 500}. Best is trial 20 with value: 0.9824355971896955.\n",
      "[I 2025-04-11 11:29:12,642] Trial 54 finished with value: 0.977751756440281 and parameters: {'learning_rate': 0.5844509098772498, 'max_depth': 11, 'max_leaves': 7, 'num_parallel_tree': 4, 'n_estimators': 589}. Best is trial 20 with value: 0.9824355971896955.\n",
      "[I 2025-04-11 11:29:12,842] Trial 56 finished with value: 0.9800936768149883 and parameters: {'learning_rate': 0.5705825430634696, 'max_depth': 11, 'max_leaves': 7, 'num_parallel_tree': 4, 'n_estimators': 511}. Best is trial 20 with value: 0.9824355971896955.\n",
      "[I 2025-04-11 11:29:13,026] Trial 57 finished with value: 0.977751756440281 and parameters: {'learning_rate': 0.8403434142697654, 'max_depth': 11, 'max_leaves': 5, 'num_parallel_tree': 4, 'n_estimators': 491}. Best is trial 20 with value: 0.9824355971896955.\n",
      "[I 2025-04-11 11:29:13,306] Trial 58 finished with value: 0.9812646370023419 and parameters: {'learning_rate': 0.8498593272641399, 'max_depth': 11, 'max_leaves': 7, 'num_parallel_tree': 4, 'n_estimators': 495}. Best is trial 20 with value: 0.9824355971896955.\n",
      "[I 2025-04-11 11:29:13,493] Trial 60 finished with value: 0.9754098360655737 and parameters: {'learning_rate': 0.5981079065920497, 'max_depth': 11, 'max_leaves': 7, 'num_parallel_tree': 4, 'n_estimators': 431}. Best is trial 20 with value: 0.9824355971896955.\n",
      "[I 2025-04-11 11:29:13,609] Trial 59 finished with value: 0.9800936768149883 and parameters: {'learning_rate': 0.8332229053756625, 'max_depth': 11, 'max_leaves': 7, 'num_parallel_tree': 4, 'n_estimators': 507}. Best is trial 20 with value: 0.9824355971896955.\n",
      "[I 2025-04-11 11:29:13,981] Trial 61 finished with value: 0.9754098360655737 and parameters: {'learning_rate': 0.8322434443737318, 'max_depth': 9, 'max_leaves': 6, 'num_parallel_tree': 4, 'n_estimators': 427}. Best is trial 20 with value: 0.9824355971896955.\n",
      "[I 2025-04-11 11:29:15,762] Trial 62 finished with value: 0.9765807962529274 and parameters: {'learning_rate': 0.4467358430464087, 'max_depth': 9, 'max_leaves': 6, 'num_parallel_tree': 4, 'n_estimators': 323}. Best is trial 20 with value: 0.9824355971896955.\n",
      "[I 2025-04-11 11:29:16,129] Trial 63 finished with value: 0.9789227166276346 and parameters: {'learning_rate': 0.8544934623943063, 'max_depth': 9, 'max_leaves': 6, 'num_parallel_tree': 4, 'n_estimators': 373}. Best is trial 20 with value: 0.9824355971896955.\n",
      "[I 2025-04-11 11:29:16,729] Trial 64 finished with value: 0.9765807962529274 and parameters: {'learning_rate': 0.4571951724361171, 'max_depth': 9, 'max_leaves': 5, 'num_parallel_tree': 4, 'n_estimators': 415}. Best is trial 20 with value: 0.9824355971896955.\n",
      "[I 2025-04-11 11:29:16,801] Trial 67 finished with value: 0.9754098360655737 and parameters: {'learning_rate': 0.8132457939303992, 'max_depth': 12, 'max_leaves': 6, 'num_parallel_tree': 4, 'n_estimators': 382}. Best is trial 20 with value: 0.9824355971896955.\n",
      "[I 2025-04-11 11:29:17,130] Trial 65 finished with value: 0.9765807962529274 and parameters: {'learning_rate': 0.41862714851461524, 'max_depth': 12, 'max_leaves': 6, 'num_parallel_tree': 4, 'n_estimators': 405}. Best is trial 20 with value: 0.9824355971896955.\n",
      "[I 2025-04-11 11:29:17,197] Trial 66 finished with value: 0.9765807962529274 and parameters: {'learning_rate': 0.8327206830996221, 'max_depth': 9, 'max_leaves': 6, 'num_parallel_tree': 4, 'n_estimators': 442}. Best is trial 20 with value: 0.9824355971896955.\n",
      "[I 2025-04-11 11:29:17,347] Trial 68 finished with value: 0.9754098360655737 and parameters: {'learning_rate': 0.4419952838126443, 'max_depth': 12, 'max_leaves': 6, 'num_parallel_tree': 4, 'n_estimators': 378}. Best is trial 20 with value: 0.9824355971896955.\n",
      "[I 2025-04-11 11:29:17,698] Trial 69 finished with value: 0.9765807962529274 and parameters: {'learning_rate': 0.44589464159827397, 'max_depth': 12, 'max_leaves': 6, 'num_parallel_tree': 4, 'n_estimators': 376}. Best is trial 20 with value: 0.9824355971896955.\n",
      "[I 2025-04-11 11:29:19,599] Trial 70 finished with value: 0.9800936768149883 and parameters: {'learning_rate': 0.8997881374874013, 'max_depth': 12, 'max_leaves': 7, 'num_parallel_tree': 4, 'n_estimators': 460}. Best is trial 20 with value: 0.9824355971896955.\n",
      "[I 2025-04-11 11:29:20,471] Trial 76 finished with value: 0.977751756440281 and parameters: {'learning_rate': 0.7146726409094928, 'max_depth': 11, 'max_leaves': 7, 'num_parallel_tree': 3, 'n_estimators': 469}. Best is trial 20 with value: 0.9824355971896955.\n",
      "[I 2025-04-11 11:29:20,699] Trial 73 finished with value: 0.9789227166276346 and parameters: {'learning_rate': 0.9144392793570265, 'max_depth': 12, 'max_leaves': 7, 'num_parallel_tree': 4, 'n_estimators': 459}. Best is trial 20 with value: 0.9824355971896955.\n",
      "[I 2025-04-11 11:29:21,122] Trial 74 finished with value: 0.9824355971896955 and parameters: {'learning_rate': 0.909865039157582, 'max_depth': 12, 'max_leaves': 7, 'num_parallel_tree': 4, 'n_estimators': 465}. Best is trial 20 with value: 0.9824355971896955.\n",
      "[I 2025-04-11 11:29:21,784] Trial 71 finished with value: 0.9789227166276346 and parameters: {'learning_rate': 0.9203486856132699, 'max_depth': 11, 'max_leaves': 7, 'num_parallel_tree': 4, 'n_estimators': 752}. Best is trial 20 with value: 0.9824355971896955.\n",
      "[I 2025-04-11 11:29:22,051] Trial 75 finished with value: 0.9789227166276346 and parameters: {'learning_rate': 0.7055464225479805, 'max_depth': 12, 'max_leaves': 7, 'num_parallel_tree': 3, 'n_estimators': 760}. Best is trial 20 with value: 0.9824355971896955.\n",
      "[I 2025-04-11 11:29:22,406] Trial 77 finished with value: 0.9789227166276346 and parameters: {'learning_rate': 0.7146074987034066, 'max_depth': 11, 'max_leaves': 7, 'num_parallel_tree': 3, 'n_estimators': 745}. Best is trial 20 with value: 0.9824355971896955.\n",
      "[I 2025-04-11 11:29:23,069] Trial 72 finished with value: 0.9800936768149883 and parameters: {'learning_rate': 0.7158003543834969, 'max_depth': 11, 'max_leaves': 7, 'num_parallel_tree': 4, 'n_estimators': 752}. Best is trial 20 with value: 0.9824355971896955.\n",
      "[I 2025-04-11 11:29:24,943] Trial 80 finished with value: 0.9789227166276346 and parameters: {'learning_rate': 0.9609006480739409, 'max_depth': 11, 'max_leaves': 7, 'num_parallel_tree': 4, 'n_estimators': 522}. Best is trial 20 with value: 0.9824355971896955.\n",
      "[I 2025-04-11 11:29:25,176] Trial 82 finished with value: 0.9754098360655737 and parameters: {'learning_rate': 0.954272822398104, 'max_depth': 10, 'max_leaves': 7, 'num_parallel_tree': 3, 'n_estimators': 524}. Best is trial 20 with value: 0.9824355971896955.\n",
      "[I 2025-04-11 11:29:25,621] Trial 81 finished with value: 0.9789227166276346 and parameters: {'learning_rate': 0.9599466753610253, 'max_depth': 11, 'max_leaves': 7, 'num_parallel_tree': 3, 'n_estimators': 752}. Best is trial 20 with value: 0.9824355971896955.\n",
      "[I 2025-04-11 11:29:25,862] Trial 78 finished with value: 0.977751756440281 and parameters: {'learning_rate': 0.7017673513424741, 'max_depth': 11, 'max_leaves': 7, 'num_parallel_tree': 4, 'n_estimators': 738}. Best is trial 20 with value: 0.9824355971896955.\n",
      "[I 2025-04-11 11:29:26,005] Trial 84 finished with value: 0.9800936768149883 and parameters: {'learning_rate': 0.8736416311491773, 'max_depth': 10, 'max_leaves': 7, 'num_parallel_tree': 3, 'n_estimators': 540}. Best is trial 20 with value: 0.9824355971896955.\n",
      "[I 2025-04-11 11:29:26,063] Trial 83 finished with value: 0.9765807962529274 and parameters: {'learning_rate': 0.9635965370105122, 'max_depth': 10, 'max_leaves': 7, 'num_parallel_tree': 3, 'n_estimators': 611}. Best is trial 20 with value: 0.9824355971896955.\n",
      "[I 2025-04-11 11:29:26,576] Trial 79 finished with value: 0.9836065573770492 and parameters: {'learning_rate': 0.9177869491689862, 'max_depth': 11, 'max_leaves': 7, 'num_parallel_tree': 4, 'n_estimators': 745}. Best is trial 79 with value: 0.9836065573770492.\n",
      "[I 2025-04-11 11:29:27,073] Trial 85 finished with value: 0.977751756440281 and parameters: {'learning_rate': 0.9634168626159113, 'max_depth': 10, 'max_leaves': 7, 'num_parallel_tree': 3, 'n_estimators': 605}. Best is trial 79 with value: 0.9836065573770492.\n",
      "[I 2025-04-11 11:29:28,930] Trial 86 finished with value: 0.9742388758782201 and parameters: {'learning_rate': 0.8706630584466551, 'max_depth': 10, 'max_leaves': 8, 'num_parallel_tree': 3, 'n_estimators': 612}. Best is trial 79 with value: 0.9836065573770492.\n",
      "[I 2025-04-11 11:29:29,559] Trial 87 finished with value: 0.9742388758782201 and parameters: {'learning_rate': 0.6554321135875529, 'max_depth': 10, 'max_leaves': 8, 'num_parallel_tree': 3, 'n_estimators': 654}. Best is trial 79 with value: 0.9836065573770492.\n",
      "[I 2025-04-11 11:29:30,665] Trial 89 finished with value: 0.9789227166276346 and parameters: {'learning_rate': 0.8735245699472817, 'max_depth': 10, 'max_leaves': 8, 'num_parallel_tree': 4, 'n_estimators': 614}. Best is trial 79 with value: 0.9836065573770492.\n",
      "[I 2025-04-11 11:29:30,726] Trial 88 finished with value: 0.977751756440281 and parameters: {'learning_rate': 0.8691840117214792, 'max_depth': 10, 'max_leaves': 8, 'num_parallel_tree': 4, 'n_estimators': 651}. Best is trial 79 with value: 0.9836065573770492.\n",
      "[I 2025-04-11 11:29:31,594] Trial 92 finished with value: 0.9789227166276346 and parameters: {'learning_rate': 0.8630298973435166, 'max_depth': 10, 'max_leaves': 8, 'num_parallel_tree': 4, 'n_estimators': 654}. Best is trial 79 with value: 0.9836065573770492.\n",
      "[I 2025-04-11 11:29:31,761] Trial 91 finished with value: 0.9800936768149883 and parameters: {'learning_rate': 0.8108207277402195, 'max_depth': 10, 'max_leaves': 8, 'num_parallel_tree': 4, 'n_estimators': 722}. Best is trial 79 with value: 0.9836065573770492.\n",
      "[I 2025-04-11 11:29:33,012] Trial 95 finished with value: 0.9718969555035128 and parameters: {'learning_rate': 0.12388900129831731, 'max_depth': 9, 'max_leaves': 2, 'num_parallel_tree': 4, 'n_estimators': 808}. Best is trial 79 with value: 0.9836065573770492.\n",
      "[I 2025-04-11 11:29:33,379] Trial 93 finished with value: 0.977751756440281 and parameters: {'learning_rate': 0.8024897697717379, 'max_depth': 9, 'max_leaves': 8, 'num_parallel_tree': 4, 'n_estimators': 823}. Best is trial 79 with value: 0.9836065573770492.\n",
      "[I 2025-04-11 11:29:33,768] Trial 90 finished with value: 0.9765807962529274 and parameters: {'learning_rate': 0.10706274490300383, 'max_depth': 10, 'max_leaves': 8, 'num_parallel_tree': 4, 'n_estimators': 653}. Best is trial 79 with value: 0.9836065573770492.\n",
      "[I 2025-04-11 11:29:33,846] Trial 97 finished with value: 0.9730679156908665 and parameters: {'learning_rate': 0.810733574273957, 'max_depth': 9, 'max_leaves': 2, 'num_parallel_tree': 4, 'n_estimators': 713}. Best is trial 79 with value: 0.9836065573770492.\n",
      "[I 2025-04-11 11:29:34,113] Trial 96 finished with value: 0.9707259953161592 and parameters: {'learning_rate': 0.802413637475317, 'max_depth': 9, 'max_leaves': 2, 'num_parallel_tree': 4, 'n_estimators': 809}. Best is trial 79 with value: 0.9836065573770492.\n",
      "[I 2025-04-11 11:29:34,280] Trial 94 finished with value: 0.977751756440281 and parameters: {'learning_rate': 0.8088806681119061, 'max_depth': 9, 'max_leaves': 8, 'num_parallel_tree': 4, 'n_estimators': 653}. Best is trial 79 with value: 0.9836065573770492.\n",
      "[I 2025-04-11 11:29:34,630] Trial 99 finished with value: 0.9730679156908665 and parameters: {'learning_rate': 0.911442566192119, 'max_depth': 11, 'max_leaves': 2, 'num_parallel_tree': 4, 'n_estimators': 811}. Best is trial 79 with value: 0.9836065573770492.\n",
      "[I 2025-04-11 11:29:35,498] Trial 98 finished with value: 0.9812646370023419 and parameters: {'learning_rate': 0.8044833733204547, 'max_depth': 11, 'max_leaves': 7, 'num_parallel_tree': 4, 'n_estimators': 822}. Best is trial 79 with value: 0.9836065573770492.\n"
     ]
    }
   ],
   "source": [
    "study.optimize(objective, n_trials=100, n_jobs=-1, show_progress_bar=True)"
   ]
  },
  {
   "cell_type": "code",
   "execution_count": 32,
   "id": "5f05daa3",
   "metadata": {},
   "outputs": [
    {
     "data": {
      "text/plain": [
       "{'learning_rate': 0.9177869491689862,\n",
       " 'max_depth': 11,\n",
       " 'max_leaves': 7,\n",
       " 'num_parallel_tree': 4,\n",
       " 'n_estimators': 745}"
      ]
     },
     "execution_count": 32,
     "metadata": {},
     "output_type": "execute_result"
    }
   ],
   "source": [
    "study.best_params"
   ]
  },
  {
   "cell_type": "code",
   "execution_count": 33,
   "id": "1fd539d3",
   "metadata": {},
   "outputs": [],
   "source": [
    "new_params = study.best_params"
   ]
  },
  {
   "cell_type": "code",
   "execution_count": 34,
   "id": "7b50cf4f",
   "metadata": {},
   "outputs": [],
   "source": [
    "model = XGBClassifier(**new_params)"
   ]
  },
  {
   "cell_type": "code",
   "execution_count": 35,
   "id": "1ddc6ff8",
   "metadata": {},
   "outputs": [
    {
     "data": {
      "text/html": [
       "<style>#sk-container-id-4 {color: black;}#sk-container-id-4 pre{padding: 0;}#sk-container-id-4 div.sk-toggleable {background-color: white;}#sk-container-id-4 label.sk-toggleable__label {cursor: pointer;display: block;width: 100%;margin-bottom: 0;padding: 0.3em;box-sizing: border-box;text-align: center;}#sk-container-id-4 label.sk-toggleable__label-arrow:before {content: \"▸\";float: left;margin-right: 0.25em;color: #696969;}#sk-container-id-4 label.sk-toggleable__label-arrow:hover:before {color: black;}#sk-container-id-4 div.sk-estimator:hover label.sk-toggleable__label-arrow:before {color: black;}#sk-container-id-4 div.sk-toggleable__content {max-height: 0;max-width: 0;overflow: hidden;text-align: left;background-color: #f0f8ff;}#sk-container-id-4 div.sk-toggleable__content pre {margin: 0.2em;color: black;border-radius: 0.25em;background-color: #f0f8ff;}#sk-container-id-4 input.sk-toggleable__control:checked~div.sk-toggleable__content {max-height: 200px;max-width: 100%;overflow: auto;}#sk-container-id-4 input.sk-toggleable__control:checked~label.sk-toggleable__label-arrow:before {content: \"▾\";}#sk-container-id-4 div.sk-estimator input.sk-toggleable__control:checked~label.sk-toggleable__label {background-color: #d4ebff;}#sk-container-id-4 div.sk-label input.sk-toggleable__control:checked~label.sk-toggleable__label {background-color: #d4ebff;}#sk-container-id-4 input.sk-hidden--visually {border: 0;clip: rect(1px 1px 1px 1px);clip: rect(1px, 1px, 1px, 1px);height: 1px;margin: -1px;overflow: hidden;padding: 0;position: absolute;width: 1px;}#sk-container-id-4 div.sk-estimator {font-family: monospace;background-color: #f0f8ff;border: 1px dotted black;border-radius: 0.25em;box-sizing: border-box;margin-bottom: 0.5em;}#sk-container-id-4 div.sk-estimator:hover {background-color: #d4ebff;}#sk-container-id-4 div.sk-parallel-item::after {content: \"\";width: 100%;border-bottom: 1px solid gray;flex-grow: 1;}#sk-container-id-4 div.sk-label:hover label.sk-toggleable__label {background-color: #d4ebff;}#sk-container-id-4 div.sk-serial::before {content: \"\";position: absolute;border-left: 1px solid gray;box-sizing: border-box;top: 0;bottom: 0;left: 50%;z-index: 0;}#sk-container-id-4 div.sk-serial {display: flex;flex-direction: column;align-items: center;background-color: white;padding-right: 0.2em;padding-left: 0.2em;position: relative;}#sk-container-id-4 div.sk-item {position: relative;z-index: 1;}#sk-container-id-4 div.sk-parallel {display: flex;align-items: stretch;justify-content: center;background-color: white;position: relative;}#sk-container-id-4 div.sk-item::before, #sk-container-id-4 div.sk-parallel-item::before {content: \"\";position: absolute;border-left: 1px solid gray;box-sizing: border-box;top: 0;bottom: 0;left: 50%;z-index: -1;}#sk-container-id-4 div.sk-parallel-item {display: flex;flex-direction: column;z-index: 1;position: relative;background-color: white;}#sk-container-id-4 div.sk-parallel-item:first-child::after {align-self: flex-end;width: 50%;}#sk-container-id-4 div.sk-parallel-item:last-child::after {align-self: flex-start;width: 50%;}#sk-container-id-4 div.sk-parallel-item:only-child::after {width: 0;}#sk-container-id-4 div.sk-dashed-wrapped {border: 1px dashed gray;margin: 0 0.4em 0.5em 0.4em;box-sizing: border-box;padding-bottom: 0.4em;background-color: white;}#sk-container-id-4 div.sk-label label {font-family: monospace;font-weight: bold;display: inline-block;line-height: 1.2em;}#sk-container-id-4 div.sk-label-container {text-align: center;}#sk-container-id-4 div.sk-container {/* jupyter's `normalize.less` sets `[hidden] { display: none; }` but bootstrap.min.css set `[hidden] { display: none !important; }` so we also need the `!important` here to be able to override the default hidden behavior on the sphinx rendered scikit-learn.org. See: https://github.com/scikit-learn/scikit-learn/issues/21755 */display: inline-block !important;position: relative;}#sk-container-id-4 div.sk-text-repr-fallback {display: none;}</style><div id=\"sk-container-id-4\" class=\"sk-top-container\"><div class=\"sk-text-repr-fallback\"><pre>XGBClassifier(base_score=None, booster=None, callbacks=None,\n",
       "              colsample_bylevel=None, colsample_bynode=None,\n",
       "              colsample_bytree=None, device=None, early_stopping_rounds=None,\n",
       "              enable_categorical=False, eval_metric=None, feature_types=None,\n",
       "              gamma=None, grow_policy=None, importance_type=None,\n",
       "              interaction_constraints=None, learning_rate=0.9177869491689862,\n",
       "              max_bin=None, max_cat_threshold=None, max_cat_to_onehot=None,\n",
       "              max_delta_step=None, max_depth=11, max_leaves=7,\n",
       "              min_child_weight=None, missing=nan, monotone_constraints=None,\n",
       "              multi_strategy=None, n_estimators=745, n_jobs=None,\n",
       "              num_parallel_tree=4, random_state=None, ...)</pre><b>In a Jupyter environment, please rerun this cell to show the HTML representation or trust the notebook. <br />On GitHub, the HTML representation is unable to render, please try loading this page with nbviewer.org.</b></div><div class=\"sk-container\" hidden><div class=\"sk-item\"><div class=\"sk-estimator sk-toggleable\"><input class=\"sk-toggleable__control sk-hidden--visually\" id=\"sk-estimator-id-4\" type=\"checkbox\" checked><label for=\"sk-estimator-id-4\" class=\"sk-toggleable__label sk-toggleable__label-arrow\">XGBClassifier</label><div class=\"sk-toggleable__content\"><pre>XGBClassifier(base_score=None, booster=None, callbacks=None,\n",
       "              colsample_bylevel=None, colsample_bynode=None,\n",
       "              colsample_bytree=None, device=None, early_stopping_rounds=None,\n",
       "              enable_categorical=False, eval_metric=None, feature_types=None,\n",
       "              gamma=None, grow_policy=None, importance_type=None,\n",
       "              interaction_constraints=None, learning_rate=0.9177869491689862,\n",
       "              max_bin=None, max_cat_threshold=None, max_cat_to_onehot=None,\n",
       "              max_delta_step=None, max_depth=11, max_leaves=7,\n",
       "              min_child_weight=None, missing=nan, monotone_constraints=None,\n",
       "              multi_strategy=None, n_estimators=745, n_jobs=None,\n",
       "              num_parallel_tree=4, random_state=None, ...)</pre></div></div></div></div></div>"
      ],
      "text/plain": [
       "XGBClassifier(base_score=None, booster=None, callbacks=None,\n",
       "              colsample_bylevel=None, colsample_bynode=None,\n",
       "              colsample_bytree=None, device=None, early_stopping_rounds=None,\n",
       "              enable_categorical=False, eval_metric=None, feature_types=None,\n",
       "              gamma=None, grow_policy=None, importance_type=None,\n",
       "              interaction_constraints=None, learning_rate=0.9177869491689862,\n",
       "              max_bin=None, max_cat_threshold=None, max_cat_to_onehot=None,\n",
       "              max_delta_step=None, max_depth=11, max_leaves=7,\n",
       "              min_child_weight=None, missing=nan, monotone_constraints=None,\n",
       "              multi_strategy=None, n_estimators=745, n_jobs=None,\n",
       "              num_parallel_tree=4, random_state=None, ...)"
      ]
     },
     "execution_count": 35,
     "metadata": {},
     "output_type": "execute_result"
    }
   ],
   "source": [
    "model.fit(X_train, y_train)"
   ]
  },
  {
   "cell_type": "code",
   "execution_count": 36,
   "id": "4954f4ca",
   "metadata": {},
   "outputs": [
    {
     "data": {
      "text/plain": [
       "0.9836065573770492"
      ]
     },
     "execution_count": 36,
     "metadata": {},
     "output_type": "execute_result"
    }
   ],
   "source": [
    "model.score(X_test, y_test)"
   ]
  },
  {
   "cell_type": "code",
   "execution_count": 37,
   "id": "5310beef",
   "metadata": {},
   "outputs": [],
   "source": [
    "import matplotlib.pyplot as plt"
   ]
  },
  {
   "cell_type": "code",
   "execution_count": 38,
   "id": "a013c9ec",
   "metadata": {},
   "outputs": [
    {
     "data": {
      "application/vnd.plotly.v1+json": {
       "config": {
        "plotlyServerURL": "https://plot.ly"
       },
       "data": [
        {
         "mode": "markers",
         "name": "Objective Value",
         "type": "scatter",
         "x": [
          0,
          1,
          2,
          3,
          4,
          5,
          6,
          7,
          8,
          9,
          10,
          11,
          12,
          13,
          14,
          15,
          16,
          17,
          18,
          19,
          20,
          21,
          22,
          23,
          24,
          25,
          26,
          27,
          28,
          29,
          30,
          31,
          32,
          33,
          34,
          35,
          36,
          37,
          38,
          39,
          40,
          41,
          42,
          43,
          44,
          45,
          46,
          47,
          48,
          49,
          50,
          51,
          52,
          53,
          54,
          55,
          56,
          57,
          58,
          59,
          60,
          61,
          62,
          63,
          64,
          65,
          66,
          67,
          68,
          69,
          70,
          71,
          72,
          73,
          74,
          75,
          76,
          77,
          78,
          79,
          80,
          81,
          82,
          83,
          84,
          85,
          86,
          87,
          88,
          89,
          90,
          91,
          92,
          93,
          94,
          95,
          96,
          97,
          98,
          99
         ],
         "y": [
          0.977751756440281,
          0.9789227166276346,
          0.9730679156908665,
          0.9754098360655737,
          0.9754098360655737,
          0.968384074941452,
          0.9789227166276346,
          0.9730679156908665,
          0.9765807962529274,
          0.9754098360655737,
          0.9742388758782201,
          0.9730679156908665,
          0.9742388758782201,
          0.9789227166276346,
          0.9730679156908665,
          0.9765807962529274,
          0.977751756440281,
          0.9800936768149883,
          0.9765807962529274,
          0.9765807962529274,
          0.9824355971896955,
          0.9800936768149883,
          0.9800936768149883,
          0.9765807962529274,
          0.977751756440281,
          0.977751756440281,
          0.9730679156908665,
          0.977751756440281,
          0.9789227166276346,
          0.9765807962529274,
          0.977751756440281,
          0.9742388758782201,
          0.9742388758782201,
          0.9754098360655737,
          0.9765807962529274,
          0.977751756440281,
          0.9765807962529274,
          0.977751756440281,
          0.9789227166276346,
          0.9765807962529274,
          0.977751756440281,
          0.977751756440281,
          0.977751756440281,
          0.977751756440281,
          0.9765807962529274,
          0.977751756440281,
          0.9754098360655737,
          0.9789227166276346,
          0.9789227166276346,
          0.9765807962529274,
          0.9800936768149883,
          0.9765807962529274,
          0.977751756440281,
          0.9789227166276346,
          0.977751756440281,
          0.9789227166276346,
          0.9800936768149883,
          0.977751756440281,
          0.9812646370023419,
          0.9800936768149883,
          0.9754098360655737,
          0.9754098360655737,
          0.9765807962529274,
          0.9789227166276346,
          0.9765807962529274,
          0.9765807962529274,
          0.9765807962529274,
          0.9754098360655737,
          0.9754098360655737,
          0.9765807962529274,
          0.9800936768149883,
          0.9789227166276346,
          0.9800936768149883,
          0.9789227166276346,
          0.9824355971896955,
          0.9789227166276346,
          0.977751756440281,
          0.9789227166276346,
          0.977751756440281,
          0.9836065573770492,
          0.9789227166276346,
          0.9789227166276346,
          0.9754098360655737,
          0.9765807962529274,
          0.9800936768149883,
          0.977751756440281,
          0.9742388758782201,
          0.9742388758782201,
          0.977751756440281,
          0.9789227166276346,
          0.9765807962529274,
          0.9800936768149883,
          0.9789227166276346,
          0.977751756440281,
          0.977751756440281,
          0.9718969555035128,
          0.9707259953161592,
          0.9730679156908665,
          0.9812646370023419,
          0.9730679156908665
         ]
        },
        {
         "mode": "lines",
         "name": "Best Value",
         "type": "scatter",
         "x": [
          0,
          1,
          2,
          3,
          4,
          5,
          6,
          7,
          8,
          9,
          10,
          11,
          12,
          13,
          14,
          15,
          16,
          17,
          18,
          19,
          20,
          21,
          22,
          23,
          24,
          25,
          26,
          27,
          28,
          29,
          30,
          31,
          32,
          33,
          34,
          35,
          36,
          37,
          38,
          39,
          40,
          41,
          42,
          43,
          44,
          45,
          46,
          47,
          48,
          49,
          50,
          51,
          52,
          53,
          54,
          55,
          56,
          57,
          58,
          59,
          60,
          61,
          62,
          63,
          64,
          65,
          66,
          67,
          68,
          69,
          70,
          71,
          72,
          73,
          74,
          75,
          76,
          77,
          78,
          79,
          80,
          81,
          82,
          83,
          84,
          85,
          86,
          87,
          88,
          89,
          90,
          91,
          92,
          93,
          94,
          95,
          96,
          97,
          98,
          99
         ],
         "y": [
          0.977751756440281,
          0.9789227166276346,
          0.9789227166276346,
          0.9789227166276346,
          0.9789227166276346,
          0.9789227166276346,
          0.9789227166276346,
          0.9789227166276346,
          0.9789227166276346,
          0.9789227166276346,
          0.9789227166276346,
          0.9789227166276346,
          0.9789227166276346,
          0.9789227166276346,
          0.9789227166276346,
          0.9789227166276346,
          0.9789227166276346,
          0.9800936768149883,
          0.9800936768149883,
          0.9800936768149883,
          0.9824355971896955,
          0.9824355971896955,
          0.9824355971896955,
          0.9824355971896955,
          0.9824355971896955,
          0.9824355971896955,
          0.9824355971896955,
          0.9824355971896955,
          0.9824355971896955,
          0.9824355971896955,
          0.9824355971896955,
          0.9824355971896955,
          0.9824355971896955,
          0.9824355971896955,
          0.9824355971896955,
          0.9824355971896955,
          0.9824355971896955,
          0.9824355971896955,
          0.9824355971896955,
          0.9824355971896955,
          0.9824355971896955,
          0.9824355971896955,
          0.9824355971896955,
          0.9824355971896955,
          0.9824355971896955,
          0.9824355971896955,
          0.9824355971896955,
          0.9824355971896955,
          0.9824355971896955,
          0.9824355971896955,
          0.9824355971896955,
          0.9824355971896955,
          0.9824355971896955,
          0.9824355971896955,
          0.9824355971896955,
          0.9824355971896955,
          0.9824355971896955,
          0.9824355971896955,
          0.9824355971896955,
          0.9824355971896955,
          0.9824355971896955,
          0.9824355971896955,
          0.9824355971896955,
          0.9824355971896955,
          0.9824355971896955,
          0.9824355971896955,
          0.9824355971896955,
          0.9824355971896955,
          0.9824355971896955,
          0.9824355971896955,
          0.9824355971896955,
          0.9824355971896955,
          0.9824355971896955,
          0.9824355971896955,
          0.9824355971896955,
          0.9824355971896955,
          0.9824355971896955,
          0.9824355971896955,
          0.9824355971896955,
          0.9836065573770492,
          0.9836065573770492,
          0.9836065573770492,
          0.9836065573770492,
          0.9836065573770492,
          0.9836065573770492,
          0.9836065573770492,
          0.9836065573770492,
          0.9836065573770492,
          0.9836065573770492,
          0.9836065573770492,
          0.9836065573770492,
          0.9836065573770492,
          0.9836065573770492,
          0.9836065573770492,
          0.9836065573770492,
          0.9836065573770492,
          0.9836065573770492,
          0.9836065573770492,
          0.9836065573770492,
          0.9836065573770492
         ]
        },
        {
         "marker": {
          "color": "#cccccc"
         },
         "mode": "markers",
         "name": "Infeasible Trial",
         "showlegend": false,
         "type": "scatter",
         "x": [],
         "y": []
        }
       ],
       "layout": {
        "template": {
         "data": {
          "bar": [
           {
            "error_x": {
             "color": "#2a3f5f"
            },
            "error_y": {
             "color": "#2a3f5f"
            },
            "marker": {
             "line": {
              "color": "#E5ECF6",
              "width": 0.5
             },
             "pattern": {
              "fillmode": "overlay",
              "size": 10,
              "solidity": 0.2
             }
            },
            "type": "bar"
           }
          ],
          "barpolar": [
           {
            "marker": {
             "line": {
              "color": "#E5ECF6",
              "width": 0.5
             },
             "pattern": {
              "fillmode": "overlay",
              "size": 10,
              "solidity": 0.2
             }
            },
            "type": "barpolar"
           }
          ],
          "carpet": [
           {
            "aaxis": {
             "endlinecolor": "#2a3f5f",
             "gridcolor": "white",
             "linecolor": "white",
             "minorgridcolor": "white",
             "startlinecolor": "#2a3f5f"
            },
            "baxis": {
             "endlinecolor": "#2a3f5f",
             "gridcolor": "white",
             "linecolor": "white",
             "minorgridcolor": "white",
             "startlinecolor": "#2a3f5f"
            },
            "type": "carpet"
           }
          ],
          "choropleth": [
           {
            "colorbar": {
             "outlinewidth": 0,
             "ticks": ""
            },
            "type": "choropleth"
           }
          ],
          "contour": [
           {
            "colorbar": {
             "outlinewidth": 0,
             "ticks": ""
            },
            "colorscale": [
             [
              0,
              "#0d0887"
             ],
             [
              0.1111111111111111,
              "#46039f"
             ],
             [
              0.2222222222222222,
              "#7201a8"
             ],
             [
              0.3333333333333333,
              "#9c179e"
             ],
             [
              0.4444444444444444,
              "#bd3786"
             ],
             [
              0.5555555555555556,
              "#d8576b"
             ],
             [
              0.6666666666666666,
              "#ed7953"
             ],
             [
              0.7777777777777778,
              "#fb9f3a"
             ],
             [
              0.8888888888888888,
              "#fdca26"
             ],
             [
              1,
              "#f0f921"
             ]
            ],
            "type": "contour"
           }
          ],
          "contourcarpet": [
           {
            "colorbar": {
             "outlinewidth": 0,
             "ticks": ""
            },
            "type": "contourcarpet"
           }
          ],
          "heatmap": [
           {
            "colorbar": {
             "outlinewidth": 0,
             "ticks": ""
            },
            "colorscale": [
             [
              0,
              "#0d0887"
             ],
             [
              0.1111111111111111,
              "#46039f"
             ],
             [
              0.2222222222222222,
              "#7201a8"
             ],
             [
              0.3333333333333333,
              "#9c179e"
             ],
             [
              0.4444444444444444,
              "#bd3786"
             ],
             [
              0.5555555555555556,
              "#d8576b"
             ],
             [
              0.6666666666666666,
              "#ed7953"
             ],
             [
              0.7777777777777778,
              "#fb9f3a"
             ],
             [
              0.8888888888888888,
              "#fdca26"
             ],
             [
              1,
              "#f0f921"
             ]
            ],
            "type": "heatmap"
           }
          ],
          "heatmapgl": [
           {
            "colorbar": {
             "outlinewidth": 0,
             "ticks": ""
            },
            "colorscale": [
             [
              0,
              "#0d0887"
             ],
             [
              0.1111111111111111,
              "#46039f"
             ],
             [
              0.2222222222222222,
              "#7201a8"
             ],
             [
              0.3333333333333333,
              "#9c179e"
             ],
             [
              0.4444444444444444,
              "#bd3786"
             ],
             [
              0.5555555555555556,
              "#d8576b"
             ],
             [
              0.6666666666666666,
              "#ed7953"
             ],
             [
              0.7777777777777778,
              "#fb9f3a"
             ],
             [
              0.8888888888888888,
              "#fdca26"
             ],
             [
              1,
              "#f0f921"
             ]
            ],
            "type": "heatmapgl"
           }
          ],
          "histogram": [
           {
            "marker": {
             "pattern": {
              "fillmode": "overlay",
              "size": 10,
              "solidity": 0.2
             }
            },
            "type": "histogram"
           }
          ],
          "histogram2d": [
           {
            "colorbar": {
             "outlinewidth": 0,
             "ticks": ""
            },
            "colorscale": [
             [
              0,
              "#0d0887"
             ],
             [
              0.1111111111111111,
              "#46039f"
             ],
             [
              0.2222222222222222,
              "#7201a8"
             ],
             [
              0.3333333333333333,
              "#9c179e"
             ],
             [
              0.4444444444444444,
              "#bd3786"
             ],
             [
              0.5555555555555556,
              "#d8576b"
             ],
             [
              0.6666666666666666,
              "#ed7953"
             ],
             [
              0.7777777777777778,
              "#fb9f3a"
             ],
             [
              0.8888888888888888,
              "#fdca26"
             ],
             [
              1,
              "#f0f921"
             ]
            ],
            "type": "histogram2d"
           }
          ],
          "histogram2dcontour": [
           {
            "colorbar": {
             "outlinewidth": 0,
             "ticks": ""
            },
            "colorscale": [
             [
              0,
              "#0d0887"
             ],
             [
              0.1111111111111111,
              "#46039f"
             ],
             [
              0.2222222222222222,
              "#7201a8"
             ],
             [
              0.3333333333333333,
              "#9c179e"
             ],
             [
              0.4444444444444444,
              "#bd3786"
             ],
             [
              0.5555555555555556,
              "#d8576b"
             ],
             [
              0.6666666666666666,
              "#ed7953"
             ],
             [
              0.7777777777777778,
              "#fb9f3a"
             ],
             [
              0.8888888888888888,
              "#fdca26"
             ],
             [
              1,
              "#f0f921"
             ]
            ],
            "type": "histogram2dcontour"
           }
          ],
          "mesh3d": [
           {
            "colorbar": {
             "outlinewidth": 0,
             "ticks": ""
            },
            "type": "mesh3d"
           }
          ],
          "parcoords": [
           {
            "line": {
             "colorbar": {
              "outlinewidth": 0,
              "ticks": ""
             }
            },
            "type": "parcoords"
           }
          ],
          "pie": [
           {
            "automargin": true,
            "type": "pie"
           }
          ],
          "scatter": [
           {
            "fillpattern": {
             "fillmode": "overlay",
             "size": 10,
             "solidity": 0.2
            },
            "type": "scatter"
           }
          ],
          "scatter3d": [
           {
            "line": {
             "colorbar": {
              "outlinewidth": 0,
              "ticks": ""
             }
            },
            "marker": {
             "colorbar": {
              "outlinewidth": 0,
              "ticks": ""
             }
            },
            "type": "scatter3d"
           }
          ],
          "scattercarpet": [
           {
            "marker": {
             "colorbar": {
              "outlinewidth": 0,
              "ticks": ""
             }
            },
            "type": "scattercarpet"
           }
          ],
          "scattergeo": [
           {
            "marker": {
             "colorbar": {
              "outlinewidth": 0,
              "ticks": ""
             }
            },
            "type": "scattergeo"
           }
          ],
          "scattergl": [
           {
            "marker": {
             "colorbar": {
              "outlinewidth": 0,
              "ticks": ""
             }
            },
            "type": "scattergl"
           }
          ],
          "scattermapbox": [
           {
            "marker": {
             "colorbar": {
              "outlinewidth": 0,
              "ticks": ""
             }
            },
            "type": "scattermapbox"
           }
          ],
          "scatterpolar": [
           {
            "marker": {
             "colorbar": {
              "outlinewidth": 0,
              "ticks": ""
             }
            },
            "type": "scatterpolar"
           }
          ],
          "scatterpolargl": [
           {
            "marker": {
             "colorbar": {
              "outlinewidth": 0,
              "ticks": ""
             }
            },
            "type": "scatterpolargl"
           }
          ],
          "scatterternary": [
           {
            "marker": {
             "colorbar": {
              "outlinewidth": 0,
              "ticks": ""
             }
            },
            "type": "scatterternary"
           }
          ],
          "surface": [
           {
            "colorbar": {
             "outlinewidth": 0,
             "ticks": ""
            },
            "colorscale": [
             [
              0,
              "#0d0887"
             ],
             [
              0.1111111111111111,
              "#46039f"
             ],
             [
              0.2222222222222222,
              "#7201a8"
             ],
             [
              0.3333333333333333,
              "#9c179e"
             ],
             [
              0.4444444444444444,
              "#bd3786"
             ],
             [
              0.5555555555555556,
              "#d8576b"
             ],
             [
              0.6666666666666666,
              "#ed7953"
             ],
             [
              0.7777777777777778,
              "#fb9f3a"
             ],
             [
              0.8888888888888888,
              "#fdca26"
             ],
             [
              1,
              "#f0f921"
             ]
            ],
            "type": "surface"
           }
          ],
          "table": [
           {
            "cells": {
             "fill": {
              "color": "#EBF0F8"
             },
             "line": {
              "color": "white"
             }
            },
            "header": {
             "fill": {
              "color": "#C8D4E3"
             },
             "line": {
              "color": "white"
             }
            },
            "type": "table"
           }
          ]
         },
         "layout": {
          "annotationdefaults": {
           "arrowcolor": "#2a3f5f",
           "arrowhead": 0,
           "arrowwidth": 1
          },
          "autotypenumbers": "strict",
          "coloraxis": {
           "colorbar": {
            "outlinewidth": 0,
            "ticks": ""
           }
          },
          "colorscale": {
           "diverging": [
            [
             0,
             "#8e0152"
            ],
            [
             0.1,
             "#c51b7d"
            ],
            [
             0.2,
             "#de77ae"
            ],
            [
             0.3,
             "#f1b6da"
            ],
            [
             0.4,
             "#fde0ef"
            ],
            [
             0.5,
             "#f7f7f7"
            ],
            [
             0.6,
             "#e6f5d0"
            ],
            [
             0.7,
             "#b8e186"
            ],
            [
             0.8,
             "#7fbc41"
            ],
            [
             0.9,
             "#4d9221"
            ],
            [
             1,
             "#276419"
            ]
           ],
           "sequential": [
            [
             0,
             "#0d0887"
            ],
            [
             0.1111111111111111,
             "#46039f"
            ],
            [
             0.2222222222222222,
             "#7201a8"
            ],
            [
             0.3333333333333333,
             "#9c179e"
            ],
            [
             0.4444444444444444,
             "#bd3786"
            ],
            [
             0.5555555555555556,
             "#d8576b"
            ],
            [
             0.6666666666666666,
             "#ed7953"
            ],
            [
             0.7777777777777778,
             "#fb9f3a"
            ],
            [
             0.8888888888888888,
             "#fdca26"
            ],
            [
             1,
             "#f0f921"
            ]
           ],
           "sequentialminus": [
            [
             0,
             "#0d0887"
            ],
            [
             0.1111111111111111,
             "#46039f"
            ],
            [
             0.2222222222222222,
             "#7201a8"
            ],
            [
             0.3333333333333333,
             "#9c179e"
            ],
            [
             0.4444444444444444,
             "#bd3786"
            ],
            [
             0.5555555555555556,
             "#d8576b"
            ],
            [
             0.6666666666666666,
             "#ed7953"
            ],
            [
             0.7777777777777778,
             "#fb9f3a"
            ],
            [
             0.8888888888888888,
             "#fdca26"
            ],
            [
             1,
             "#f0f921"
            ]
           ]
          },
          "colorway": [
           "#636efa",
           "#EF553B",
           "#00cc96",
           "#ab63fa",
           "#FFA15A",
           "#19d3f3",
           "#FF6692",
           "#B6E880",
           "#FF97FF",
           "#FECB52"
          ],
          "font": {
           "color": "#2a3f5f"
          },
          "geo": {
           "bgcolor": "white",
           "lakecolor": "white",
           "landcolor": "#E5ECF6",
           "showlakes": true,
           "showland": true,
           "subunitcolor": "white"
          },
          "hoverlabel": {
           "align": "left"
          },
          "hovermode": "closest",
          "mapbox": {
           "style": "light"
          },
          "paper_bgcolor": "white",
          "plot_bgcolor": "#E5ECF6",
          "polar": {
           "angularaxis": {
            "gridcolor": "white",
            "linecolor": "white",
            "ticks": ""
           },
           "bgcolor": "#E5ECF6",
           "radialaxis": {
            "gridcolor": "white",
            "linecolor": "white",
            "ticks": ""
           }
          },
          "scene": {
           "xaxis": {
            "backgroundcolor": "#E5ECF6",
            "gridcolor": "white",
            "gridwidth": 2,
            "linecolor": "white",
            "showbackground": true,
            "ticks": "",
            "zerolinecolor": "white"
           },
           "yaxis": {
            "backgroundcolor": "#E5ECF6",
            "gridcolor": "white",
            "gridwidth": 2,
            "linecolor": "white",
            "showbackground": true,
            "ticks": "",
            "zerolinecolor": "white"
           },
           "zaxis": {
            "backgroundcolor": "#E5ECF6",
            "gridcolor": "white",
            "gridwidth": 2,
            "linecolor": "white",
            "showbackground": true,
            "ticks": "",
            "zerolinecolor": "white"
           }
          },
          "shapedefaults": {
           "line": {
            "color": "#2a3f5f"
           }
          },
          "ternary": {
           "aaxis": {
            "gridcolor": "white",
            "linecolor": "white",
            "ticks": ""
           },
           "baxis": {
            "gridcolor": "white",
            "linecolor": "white",
            "ticks": ""
           },
           "bgcolor": "#E5ECF6",
           "caxis": {
            "gridcolor": "white",
            "linecolor": "white",
            "ticks": ""
           }
          },
          "title": {
           "x": 0.05
          },
          "xaxis": {
           "automargin": true,
           "gridcolor": "white",
           "linecolor": "white",
           "ticks": "",
           "title": {
            "standoff": 15
           },
           "zerolinecolor": "white",
           "zerolinewidth": 2
          },
          "yaxis": {
           "automargin": true,
           "gridcolor": "white",
           "linecolor": "white",
           "ticks": "",
           "title": {
            "standoff": 15
           },
           "zerolinecolor": "white",
           "zerolinewidth": 2
          }
         }
        },
        "title": {
         "text": "Optimization History Plot"
        },
        "xaxis": {
         "title": {
          "text": "Trial"
         }
        },
        "yaxis": {
         "title": {
          "text": "Objective Value"
         }
        }
       }
      }
     },
     "metadata": {},
     "output_type": "display_data"
    }
   ],
   "source": [
    "optuna.visualization.plot_optimization_history(study)"
   ]
  },
  {
   "cell_type": "code",
   "execution_count": 39,
   "id": "183f0992",
   "metadata": {},
   "outputs": [
    {
     "data": {
      "application/vnd.plotly.v1+json": {
       "config": {
        "plotlyServerURL": "https://plot.ly"
       },
       "data": [
        {
         "base": [
          "2025-04-11T11:28:38.582479",
          "2025-04-11T11:28:38.593954",
          "2025-04-11T11:28:38.595949",
          "2025-04-11T11:28:38.606944",
          "2025-04-11T11:28:38.612122",
          "2025-04-11T11:28:38.615104",
          "2025-04-11T11:28:38.629065",
          "2025-04-11T11:28:38.632060",
          "2025-04-11T11:28:39.927651",
          "2025-04-11T11:28:40.087377",
          "2025-04-11T11:28:41.652613",
          "2025-04-11T11:28:42.102118",
          "2025-04-11T11:28:42.261522",
          "2025-04-11T11:28:42.763097",
          "2025-04-11T11:28:43.093130",
          "2025-04-11T11:28:43.162389",
          "2025-04-11T11:28:43.924047",
          "2025-04-11T11:28:44.892871",
          "2025-04-11T11:28:44.977666",
          "2025-04-11T11:28:46.804904",
          "2025-04-11T11:28:47.546659",
          "2025-04-11T11:28:47.807029",
          "2025-04-11T11:28:49.199005",
          "2025-04-11T11:28:49.374518",
          "2025-04-11T11:28:50.565249",
          "2025-04-11T11:28:51.674640",
          "2025-04-11T11:28:52.070491",
          "2025-04-11T11:28:52.543167",
          "2025-04-11T11:28:53.255455",
          "2025-04-11T11:28:53.623544",
          "2025-04-11T11:28:53.710222",
          "2025-04-11T11:28:54.729714",
          "2025-04-11T11:28:56.005247",
          "2025-04-11T11:28:57.020750",
          "2025-04-11T11:28:57.630346",
          "2025-04-11T11:28:57.708143",
          "2025-04-11T11:28:57.813638",
          "2025-04-11T11:28:58.359002",
          "2025-04-11T11:28:58.874028",
          "2025-04-11T11:28:59.584505",
          "2025-04-11T11:28:59.628826",
          "2025-04-11T11:29:01.668388",
          "2025-04-11T11:29:02.641189",
          "2025-04-11T11:29:02.828712",
          "2025-04-11T11:29:03.140211",
          "2025-04-11T11:29:03.182404",
          "2025-04-11T11:29:03.828338",
          "2025-04-11T11:29:04.385695",
          "2025-04-11T11:29:04.650471",
          "2025-04-11T11:29:06.030077",
          "2025-04-11T11:29:06.219411",
          "2025-04-11T11:29:06.510574",
          "2025-04-11T11:29:06.673969",
          "2025-04-11T11:29:06.869102",
          "2025-04-11T11:29:07.420797",
          "2025-04-11T11:29:07.960861",
          "2025-04-11T11:29:08.272428",
          "2025-04-11T11:29:08.926472",
          "2025-04-11T11:29:09.188926",
          "2025-04-11T11:29:09.256060",
          "2025-04-11T11:29:09.500738",
          "2025-04-11T11:29:10.126708",
          "2025-04-11T11:29:12.345173",
          "2025-04-11T11:29:12.659815",
          "2025-04-11T11:29:12.842360",
          "2025-04-11T11:29:13.042811",
          "2025-04-11T11:29:13.314179",
          "2025-04-11T11:29:13.493193",
          "2025-04-11T11:29:13.628202",
          "2025-04-11T11:29:13.985412",
          "2025-04-11T11:29:15.773583",
          "2025-04-11T11:29:16.129169",
          "2025-04-11T11:29:16.747708",
          "2025-04-11T11:29:16.813274",
          "2025-04-11T11:29:17.144028",
          "2025-04-11T11:29:17.197001",
          "2025-04-11T11:29:17.365874",
          "2025-04-11T11:29:17.704537",
          "2025-04-11T11:29:19.618124",
          "2025-04-11T11:29:20.483560",
          "2025-04-11T11:29:20.706108",
          "2025-04-11T11:29:21.122553",
          "2025-04-11T11:29:21.789827",
          "2025-04-11T11:29:22.051732",
          "2025-04-11T11:29:22.416222",
          "2025-04-11T11:29:23.081870",
          "2025-04-11T11:29:24.950357",
          "2025-04-11T11:29:25.180489",
          "2025-04-11T11:29:25.627679",
          "2025-04-11T11:29:25.863801",
          "2025-04-11T11:29:26.022348",
          "2025-04-11T11:29:26.072382",
          "2025-04-11T11:29:26.582285",
          "2025-04-11T11:29:27.079340",
          "2025-04-11T11:29:28.945390",
          "2025-04-11T11:29:29.559201",
          "2025-04-11T11:29:30.676291",
          "2025-04-11T11:29:30.726990",
          "2025-04-11T11:29:31.610441",
          "2025-04-11T11:29:31.773555"
         ],
         "hovertemplate": "%{text}<extra>COMPLETE</extra>",
         "marker": {
          "color": "blue"
         },
         "name": "COMPLETE",
         "orientation": "h",
         "text": [
          "{<br>  \"number\": 0,<br>  \"values\": [<br>    0.977751756440281<br>  ],<br>  \"params\": {<br>    \"learning_rate\": 0.06203331384198674,<br>    \"max_depth\": 9,<br>    \"max_leaves\": 6,<br>    \"num_parallel_tree\": 2,<br>    \"n_estimators\": 869<br>  }<br>}",
          "{<br>  \"number\": 1,<br>  \"values\": [<br>    0.9789227166276346<br>  ],<br>  \"params\": {<br>    \"learning_rate\": 0.3178678566231,<br>    \"max_depth\": 8,<br>    \"max_leaves\": 7,<br>    \"num_parallel_tree\": 2,<br>    \"n_estimators\": 604<br>  }<br>}",
          "{<br>  \"number\": 2,<br>  \"values\": [<br>    0.9730679156908665<br>  ],<br>  \"params\": {<br>    \"learning_rate\": 0.531248913929034,<br>    \"max_depth\": 9,<br>    \"max_leaves\": 4,<br>    \"num_parallel_tree\": 4,<br>    \"n_estimators\": 497<br>  }<br>}",
          "{<br>  \"number\": 3,<br>  \"values\": [<br>    0.9754098360655737<br>  ],<br>  \"params\": {<br>    \"learning_rate\": 0.10587658380431175,<br>    \"max_depth\": 11,<br>    \"max_leaves\": 8,<br>    \"num_parallel_tree\": 3,<br>    \"n_estimators\": 444<br>  }<br>}",
          "{<br>  \"number\": 4,<br>  \"values\": [<br>    0.9754098360655737<br>  ],<br>  \"params\": {<br>    \"learning_rate\": 0.06087651953371809,<br>    \"max_depth\": 12,<br>    \"max_leaves\": 8,<br>    \"num_parallel_tree\": 4,<br>    \"n_estimators\": 259<br>  }<br>}",
          "{<br>  \"number\": 5,<br>  \"values\": [<br>    0.968384074941452<br>  ],<br>  \"params\": {<br>    \"learning_rate\": 0.00910235470729337,<br>    \"max_depth\": 8,<br>    \"max_leaves\": 5,<br>    \"num_parallel_tree\": 2,<br>    \"n_estimators\": 228<br>  }<br>}",
          "{<br>  \"number\": 6,<br>  \"values\": [<br>    0.9789227166276346<br>  ],<br>  \"params\": {<br>    \"learning_rate\": 0.830134962998304,<br>    \"max_depth\": 11,<br>    \"max_leaves\": 7,<br>    \"num_parallel_tree\": 4,<br>    \"n_estimators\": 786<br>  }<br>}",
          "{<br>  \"number\": 7,<br>  \"values\": [<br>    0.9730679156908665<br>  ],<br>  \"params\": {<br>    \"learning_rate\": 0.252698175903153,<br>    \"max_depth\": 12,<br>    \"max_leaves\": 2,<br>    \"num_parallel_tree\": 2,<br>    \"n_estimators\": 531<br>  }<br>}",
          "{<br>  \"number\": 8,<br>  \"values\": [<br>    0.9765807962529274<br>  ],<br>  \"params\": {<br>    \"learning_rate\": 0.5487505441668263,<br>    \"max_depth\": 8,<br>    \"max_leaves\": 5,<br>    \"num_parallel_tree\": 4,<br>    \"n_estimators\": 917<br>  }<br>}",
          "{<br>  \"number\": 9,<br>  \"values\": [<br>    0.9754098360655737<br>  ],<br>  \"params\": {<br>    \"learning_rate\": 0.5072060323301134,<br>    \"max_depth\": 10,<br>    \"max_leaves\": 8,<br>    \"num_parallel_tree\": 4,<br>    \"n_estimators\": 886<br>  }<br>}",
          "{<br>  \"number\": 10,<br>  \"values\": [<br>    0.9742388758782201<br>  ],<br>  \"params\": {<br>    \"learning_rate\": 0.04242131479818212,<br>    \"max_depth\": 12,<br>    \"max_leaves\": 6,<br>    \"num_parallel_tree\": 3,<br>    \"n_estimators\": 310<br>  }<br>}",
          "{<br>  \"number\": 11,<br>  \"values\": [<br>    0.9730679156908665<br>  ],<br>  \"params\": {<br>    \"learning_rate\": 0.20725465190692094,<br>    \"max_depth\": 11,<br>    \"max_leaves\": 2,<br>    \"num_parallel_tree\": 2,<br>    \"n_estimators\": 378<br>  }<br>}",
          "{<br>  \"number\": 12,<br>  \"values\": [<br>    0.9742388758782201<br>  ],<br>  \"params\": {<br>    \"learning_rate\": 0.6744950884524858,<br>    \"max_depth\": 8,<br>    \"max_leaves\": 5,<br>    \"num_parallel_tree\": 3,<br>    \"n_estimators\": 712<br>  }<br>}",
          "{<br>  \"number\": 13,<br>  \"values\": [<br>    0.9789227166276346<br>  ],<br>  \"params\": {<br>    \"learning_rate\": 0.6331479773266425,<br>    \"max_depth\": 8,<br>    \"max_leaves\": 6,<br>    \"num_parallel_tree\": 2,<br>    \"n_estimators\": 423<br>  }<br>}",
          "{<br>  \"number\": 14,<br>  \"values\": [<br>    0.9730679156908665<br>  ],<br>  \"params\": {<br>    \"learning_rate\": 0.8867538508289092,<br>    \"max_depth\": 11,<br>    \"max_leaves\": 6,<br>    \"num_parallel_tree\": 4,<br>    \"n_estimators\": 856<br>  }<br>}",
          "{<br>  \"number\": 15,<br>  \"values\": [<br>    0.9765807962529274<br>  ],<br>  \"params\": {<br>    \"learning_rate\": 0.17263813203385836,<br>    \"max_depth\": 11,<br>    \"max_leaves\": 7,<br>    \"num_parallel_tree\": 4,<br>    \"n_estimators\": 838<br>  }<br>}",
          "{<br>  \"number\": 16,<br>  \"values\": [<br>    0.977751756440281<br>  ],<br>  \"params\": {<br>    \"learning_rate\": 0.18416408664679507,<br>    \"max_depth\": 9,<br>    \"max_leaves\": 7,<br>    \"num_parallel_tree\": 4,<br>    \"n_estimators\": 918<br>  }<br>}",
          "{<br>  \"number\": 17,<br>  \"values\": [<br>    0.9800936768149883<br>  ],<br>  \"params\": {<br>    \"learning_rate\": 0.9175568531512337,<br>    \"max_depth\": 9,<br>    \"max_leaves\": 7,<br>    \"num_parallel_tree\": 3,<br>    \"n_estimators\": 733<br>  }<br>}",
          "{<br>  \"number\": 18,<br>  \"values\": [<br>    0.9765807962529274<br>  ],<br>  \"params\": {<br>    \"learning_rate\": 0.9384998982065346,<br>    \"max_depth\": 10,<br>    \"max_leaves\": 7,<br>    \"num_parallel_tree\": 4,<br>    \"n_estimators\": 737<br>  }<br>}",
          "{<br>  \"number\": 19,<br>  \"values\": [<br>    0.9765807962529274<br>  ],<br>  \"params\": {<br>    \"learning_rate\": 0.9951016580239413,<br>    \"max_depth\": 10,<br>    \"max_leaves\": 7,<br>    \"num_parallel_tree\": 4,<br>    \"n_estimators\": 722<br>  }<br>}",
          "{<br>  \"number\": 20,<br>  \"values\": [<br>    0.9824355971896955<br>  ],<br>  \"params\": {<br>    \"learning_rate\": 0.8845754292985321,<br>    \"max_depth\": 10,<br>    \"max_leaves\": 7,<br>    \"num_parallel_tree\": 4,<br>    \"n_estimators\": 681<br>  }<br>}",
          "{<br>  \"number\": 21,<br>  \"values\": [<br>    0.9800936768149883<br>  ],<br>  \"params\": {<br>    \"learning_rate\": 0.9057754342262516,<br>    \"max_depth\": 10,<br>    \"max_leaves\": 7,<br>    \"num_parallel_tree\": 3,<br>    \"n_estimators\": 688<br>  }<br>}",
          "{<br>  \"number\": 22,<br>  \"values\": [<br>    0.9800936768149883<br>  ],<br>  \"params\": {<br>    \"learning_rate\": 0.9675382721231766,<br>    \"max_depth\": 9,<br>    \"max_leaves\": 7,<br>    \"num_parallel_tree\": 3,<br>    \"n_estimators\": 661<br>  }<br>}",
          "{<br>  \"number\": 23,<br>  \"values\": [<br>    0.9765807962529274<br>  ],<br>  \"params\": {<br>    \"learning_rate\": 0.3631879945799965,<br>    \"max_depth\": 9,<br>    \"max_leaves\": 7,<br>    \"num_parallel_tree\": 3,<br>    \"n_estimators\": 647<br>  }<br>}",
          "{<br>  \"number\": 24,<br>  \"values\": [<br>    0.977751756440281<br>  ],<br>  \"params\": {<br>    \"learning_rate\": 0.2984854005689865,<br>    \"max_depth\": 9,<br>    \"max_leaves\": 7,<br>    \"num_parallel_tree\": 3,<br>    \"n_estimators\": 626<br>  }<br>}",
          "{<br>  \"number\": 25,<br>  \"values\": [<br>    0.977751756440281<br>  ],<br>  \"params\": {<br>    \"learning_rate\": 0.38679000912353123,<br>    \"max_depth\": 9,<br>    \"max_leaves\": 7,<br>    \"num_parallel_tree\": 3,<br>    \"n_estimators\": 638<br>  }<br>}",
          "{<br>  \"number\": 26,<br>  \"values\": [<br>    0.9730679156908665<br>  ],<br>  \"params\": {<br>    \"learning_rate\": 0.7501919198097539,<br>    \"max_depth\": 9,<br>    \"max_leaves\": 4,<br>    \"num_parallel_tree\": 3,<br>    \"n_estimators\": 990<br>  }<br>}",
          "{<br>  \"number\": 27,<br>  \"values\": [<br>    0.977751756440281<br>  ],<br>  \"params\": {<br>    \"learning_rate\": 0.7599893226133501,<br>    \"max_depth\": 9,<br>    \"max_leaves\": 4,<br>    \"num_parallel_tree\": 3,<br>    \"n_estimators\": 994<br>  }<br>}",
          "{<br>  \"number\": 28,<br>  \"values\": [<br>    0.9789227166276346<br>  ],<br>  \"params\": {<br>    \"learning_rate\": 0.780494303706767,<br>    \"max_depth\": 9,<br>    \"max_leaves\": 4,<br>    \"num_parallel_tree\": 3,<br>    \"n_estimators\": 995<br>  }<br>}",
          "{<br>  \"number\": 29,<br>  \"values\": [<br>    0.9765807962529274<br>  ],<br>  \"params\": {<br>    \"learning_rate\": 0.7889647517168843,<br>    \"max_depth\": 9,<br>    \"max_leaves\": 4,<br>    \"num_parallel_tree\": 3,<br>    \"n_estimators\": 625<br>  }<br>}",
          "{<br>  \"number\": 30,<br>  \"values\": [<br>    0.977751756440281<br>  ],<br>  \"params\": {<br>    \"learning_rate\": 0.7663836824015526,<br>    \"max_depth\": 10,<br>    \"max_leaves\": 4,<br>    \"num_parallel_tree\": 3,<br>    \"n_estimators\": 631<br>  }<br>}",
          "{<br>  \"number\": 31,<br>  \"values\": [<br>    0.9742388758782201<br>  ],<br>  \"params\": {<br>    \"learning_rate\": 0.7762333446577658,<br>    \"max_depth\": 10,<br>    \"max_leaves\": 3,<br>    \"num_parallel_tree\": 3,<br>    \"n_estimators\": 551<br>  }<br>}",
          "{<br>  \"number\": 32,<br>  \"values\": [<br>    0.9742388758782201<br>  ],<br>  \"params\": {<br>    \"learning_rate\": 0.7773919594877541,<br>    \"max_depth\": 10,<br>    \"max_leaves\": 4,<br>    \"num_parallel_tree\": 3,<br>    \"n_estimators\": 557<br>  }<br>}",
          "{<br>  \"number\": 33,<br>  \"values\": [<br>    0.9754098360655737<br>  ],<br>  \"params\": {<br>    \"learning_rate\": 0.7729285065188304,<br>    \"max_depth\": 10,<br>    \"max_leaves\": 4,<br>    \"num_parallel_tree\": 3,<br>    \"n_estimators\": 1000<br>  }<br>}",
          "{<br>  \"number\": 34,<br>  \"values\": [<br>    0.9765807962529274<br>  ],<br>  \"params\": {<br>    \"learning_rate\": 0.7446258322504886,<br>    \"max_depth\": 10,<br>    \"max_leaves\": 8,<br>    \"num_parallel_tree\": 3,<br>    \"n_estimators\": 974<br>  }<br>}",
          "{<br>  \"number\": 35,<br>  \"values\": [<br>    0.977751756440281<br>  ],<br>  \"params\": {<br>    \"learning_rate\": 0.7016397210373542,<br>    \"max_depth\": 10,<br>    \"max_leaves\": 8,<br>    \"num_parallel_tree\": 3,<br>    \"n_estimators\": 553<br>  }<br>}",
          "{<br>  \"number\": 36,<br>  \"values\": [<br>    0.9765807962529274<br>  ],<br>  \"params\": {<br>    \"learning_rate\": 0.8712969235205874,<br>    \"max_depth\": 10,<br>    \"max_leaves\": 6,<br>    \"num_parallel_tree\": 3,<br>    \"n_estimators\": 795<br>  }<br>}",
          "{<br>  \"number\": 37,<br>  \"values\": [<br>    0.977751756440281<br>  ],<br>  \"params\": {<br>    \"learning_rate\": 0.8783090940448167,<br>    \"max_depth\": 10,<br>    \"max_leaves\": 6,<br>    \"num_parallel_tree\": 3,<br>    \"n_estimators\": 770<br>  }<br>}",
          "{<br>  \"number\": 38,<br>  \"values\": [<br>    0.9789227166276346<br>  ],<br>  \"params\": {<br>    \"learning_rate\": 0.8936061735985057,<br>    \"max_depth\": 10,<br>    \"max_leaves\": 6,<br>    \"num_parallel_tree\": 3,<br>    \"n_estimators\": 688<br>  }<br>}",
          "{<br>  \"number\": 39,<br>  \"values\": [<br>    0.9765807962529274<br>  ],<br>  \"params\": {<br>    \"learning_rate\": 0.990695571892742,<br>    \"max_depth\": 10,<br>    \"max_leaves\": 8,<br>    \"num_parallel_tree\": 3,<br>    \"n_estimators\": 801<br>  }<br>}",
          "{<br>  \"number\": 40,<br>  \"values\": [<br>    0.977751756440281<br>  ],<br>  \"params\": {<br>    \"learning_rate\": 0.9938352330412838,<br>    \"max_depth\": 10,<br>    \"max_leaves\": 8,<br>    \"num_parallel_tree\": 3,<br>    \"n_estimators\": 779<br>  }<br>}",
          "{<br>  \"number\": 41,<br>  \"values\": [<br>    0.977751756440281<br>  ],<br>  \"params\": {<br>    \"learning_rate\": 0.8996866710461227,<br>    \"max_depth\": 10,<br>    \"max_leaves\": 6,<br>    \"num_parallel_tree\": 3,<br>    \"n_estimators\": 689<br>  }<br>}",
          "{<br>  \"number\": 42,<br>  \"values\": [<br>    0.977751756440281<br>  ],<br>  \"params\": {<br>    \"learning_rate\": 0.9989960633075659,<br>    \"max_depth\": 10,<br>    \"max_leaves\": 8,<br>    \"num_parallel_tree\": 2,<br>    \"n_estimators\": 687<br>  }<br>}",
          "{<br>  \"number\": 43,<br>  \"values\": [<br>    0.977751756440281<br>  ],<br>  \"params\": {<br>    \"learning_rate\": 0.9990501584899696,<br>    \"max_depth\": 8,<br>    \"max_leaves\": 8,<br>    \"num_parallel_tree\": 2,<br>    \"n_estimators\": 683<br>  }<br>}",
          "{<br>  \"number\": 44,<br>  \"values\": [<br>    0.9765807962529274<br>  ],<br>  \"params\": {<br>    \"learning_rate\": 0.9989605445194916,<br>    \"max_depth\": 8,<br>    \"max_leaves\": 8,<br>    \"num_parallel_tree\": 2,<br>    \"n_estimators\": 707<br>  }<br>}",
          "{<br>  \"number\": 45,<br>  \"values\": [<br>    0.977751756440281<br>  ],<br>  \"params\": {<br>    \"learning_rate\": 0.9769481117268581,<br>    \"max_depth\": 8,<br>    \"max_leaves\": 8,<br>    \"num_parallel_tree\": 2,<br>    \"n_estimators\": 673<br>  }<br>}",
          "{<br>  \"number\": 46,<br>  \"values\": [<br>    0.9754098360655737<br>  ],<br>  \"params\": {<br>    \"learning_rate\": 0.9977170173658738,<br>    \"max_depth\": 8,<br>    \"max_leaves\": 8,<br>    \"num_parallel_tree\": 2,<br>    \"n_estimators\": 684<br>  }<br>}",
          "{<br>  \"number\": 47,<br>  \"values\": [<br>    0.9789227166276346<br>  ],<br>  \"params\": {<br>    \"learning_rate\": 0.9366346376004809,<br>    \"max_depth\": 8,<br>    \"max_leaves\": 8,<br>    \"num_parallel_tree\": 2,<br>    \"n_estimators\": 674<br>  }<br>}",
          "{<br>  \"number\": 48,<br>  \"values\": [<br>    0.9789227166276346<br>  ],<br>  \"params\": {<br>    \"learning_rate\": 0.9482780114076115,<br>    \"max_depth\": 8,<br>    \"max_leaves\": 7,<br>    \"num_parallel_tree\": 2,<br>    \"n_estimators\": 686<br>  }<br>}",
          "{<br>  \"number\": 49,<br>  \"values\": [<br>    0.9765807962529274<br>  ],<br>  \"params\": {<br>    \"learning_rate\": 0.9330488962920276,<br>    \"max_depth\": 8,<br>    \"max_leaves\": 7,<br>    \"num_parallel_tree\": 2,<br>    \"n_estimators\": 582<br>  }<br>}",
          "{<br>  \"number\": 50,<br>  \"values\": [<br>    0.9800936768149883<br>  ],<br>  \"params\": {<br>    \"learning_rate\": 0.9154839166353552,<br>    \"max_depth\": 8,<br>    \"max_leaves\": 7,<br>    \"num_parallel_tree\": 2,<br>    \"n_estimators\": 476<br>  }<br>}",
          "{<br>  \"number\": 51,<br>  \"values\": [<br>    0.9765807962529274<br>  ],<br>  \"params\": {<br>    \"learning_rate\": 0.9412886316471393,<br>    \"max_depth\": 8,<br>    \"max_leaves\": 7,<br>    \"num_parallel_tree\": 2,<br>    \"n_estimators\": 491<br>  }<br>}",
          "{<br>  \"number\": 52,<br>  \"values\": [<br>    0.977751756440281<br>  ],<br>  \"params\": {<br>    \"learning_rate\": 0.83646378297056,<br>    \"max_depth\": 8,<br>    \"max_leaves\": 7,<br>    \"num_parallel_tree\": 2,<br>    \"n_estimators\": 495<br>  }<br>}",
          "{<br>  \"number\": 53,<br>  \"values\": [<br>    0.9789227166276346<br>  ],<br>  \"params\": {<br>    \"learning_rate\": 0.5897165423080956,<br>    \"max_depth\": 11,<br>    \"max_leaves\": 7,<br>    \"num_parallel_tree\": 2,<br>    \"n_estimators\": 589<br>  }<br>}",
          "{<br>  \"number\": 54,<br>  \"values\": [<br>    0.977751756440281<br>  ],<br>  \"params\": {<br>    \"learning_rate\": 0.5844509098772498,<br>    \"max_depth\": 11,<br>    \"max_leaves\": 7,<br>    \"num_parallel_tree\": 4,<br>    \"n_estimators\": 589<br>  }<br>}",
          "{<br>  \"number\": 55,<br>  \"values\": [<br>    0.9789227166276346<br>  ],<br>  \"params\": {<br>    \"learning_rate\": 0.593122878974119,<br>    \"max_depth\": 11,<br>    \"max_leaves\": 7,<br>    \"num_parallel_tree\": 4,<br>    \"n_estimators\": 500<br>  }<br>}",
          "{<br>  \"number\": 56,<br>  \"values\": [<br>    0.9800936768149883<br>  ],<br>  \"params\": {<br>    \"learning_rate\": 0.5705825430634696,<br>    \"max_depth\": 11,<br>    \"max_leaves\": 7,<br>    \"num_parallel_tree\": 4,<br>    \"n_estimators\": 511<br>  }<br>}",
          "{<br>  \"number\": 57,<br>  \"values\": [<br>    0.977751756440281<br>  ],<br>  \"params\": {<br>    \"learning_rate\": 0.8403434142697654,<br>    \"max_depth\": 11,<br>    \"max_leaves\": 5,<br>    \"num_parallel_tree\": 4,<br>    \"n_estimators\": 491<br>  }<br>}",
          "{<br>  \"number\": 58,<br>  \"values\": [<br>    0.9812646370023419<br>  ],<br>  \"params\": {<br>    \"learning_rate\": 0.8498593272641399,<br>    \"max_depth\": 11,<br>    \"max_leaves\": 7,<br>    \"num_parallel_tree\": 4,<br>    \"n_estimators\": 495<br>  }<br>}",
          "{<br>  \"number\": 59,<br>  \"values\": [<br>    0.9800936768149883<br>  ],<br>  \"params\": {<br>    \"learning_rate\": 0.8332229053756625,<br>    \"max_depth\": 11,<br>    \"max_leaves\": 7,<br>    \"num_parallel_tree\": 4,<br>    \"n_estimators\": 507<br>  }<br>}",
          "{<br>  \"number\": 60,<br>  \"values\": [<br>    0.9754098360655737<br>  ],<br>  \"params\": {<br>    \"learning_rate\": 0.5981079065920497,<br>    \"max_depth\": 11,<br>    \"max_leaves\": 7,<br>    \"num_parallel_tree\": 4,<br>    \"n_estimators\": 431<br>  }<br>}",
          "{<br>  \"number\": 61,<br>  \"values\": [<br>    0.9754098360655737<br>  ],<br>  \"params\": {<br>    \"learning_rate\": 0.8322434443737318,<br>    \"max_depth\": 9,<br>    \"max_leaves\": 6,<br>    \"num_parallel_tree\": 4,<br>    \"n_estimators\": 427<br>  }<br>}",
          "{<br>  \"number\": 62,<br>  \"values\": [<br>    0.9765807962529274<br>  ],<br>  \"params\": {<br>    \"learning_rate\": 0.4467358430464087,<br>    \"max_depth\": 9,<br>    \"max_leaves\": 6,<br>    \"num_parallel_tree\": 4,<br>    \"n_estimators\": 323<br>  }<br>}",
          "{<br>  \"number\": 63,<br>  \"values\": [<br>    0.9789227166276346<br>  ],<br>  \"params\": {<br>    \"learning_rate\": 0.8544934623943063,<br>    \"max_depth\": 9,<br>    \"max_leaves\": 6,<br>    \"num_parallel_tree\": 4,<br>    \"n_estimators\": 373<br>  }<br>}",
          "{<br>  \"number\": 64,<br>  \"values\": [<br>    0.9765807962529274<br>  ],<br>  \"params\": {<br>    \"learning_rate\": 0.4571951724361171,<br>    \"max_depth\": 9,<br>    \"max_leaves\": 5,<br>    \"num_parallel_tree\": 4,<br>    \"n_estimators\": 415<br>  }<br>}",
          "{<br>  \"number\": 65,<br>  \"values\": [<br>    0.9765807962529274<br>  ],<br>  \"params\": {<br>    \"learning_rate\": 0.41862714851461524,<br>    \"max_depth\": 12,<br>    \"max_leaves\": 6,<br>    \"num_parallel_tree\": 4,<br>    \"n_estimators\": 405<br>  }<br>}",
          "{<br>  \"number\": 66,<br>  \"values\": [<br>    0.9765807962529274<br>  ],<br>  \"params\": {<br>    \"learning_rate\": 0.8327206830996221,<br>    \"max_depth\": 9,<br>    \"max_leaves\": 6,<br>    \"num_parallel_tree\": 4,<br>    \"n_estimators\": 442<br>  }<br>}",
          "{<br>  \"number\": 67,<br>  \"values\": [<br>    0.9754098360655737<br>  ],<br>  \"params\": {<br>    \"learning_rate\": 0.8132457939303992,<br>    \"max_depth\": 12,<br>    \"max_leaves\": 6,<br>    \"num_parallel_tree\": 4,<br>    \"n_estimators\": 382<br>  }<br>}",
          "{<br>  \"number\": 68,<br>  \"values\": [<br>    0.9754098360655737<br>  ],<br>  \"params\": {<br>    \"learning_rate\": 0.4419952838126443,<br>    \"max_depth\": 12,<br>    \"max_leaves\": 6,<br>    \"num_parallel_tree\": 4,<br>    \"n_estimators\": 378<br>  }<br>}",
          "{<br>  \"number\": 69,<br>  \"values\": [<br>    0.9765807962529274<br>  ],<br>  \"params\": {<br>    \"learning_rate\": 0.44589464159827397,<br>    \"max_depth\": 12,<br>    \"max_leaves\": 6,<br>    \"num_parallel_tree\": 4,<br>    \"n_estimators\": 376<br>  }<br>}",
          "{<br>  \"number\": 70,<br>  \"values\": [<br>    0.9800936768149883<br>  ],<br>  \"params\": {<br>    \"learning_rate\": 0.8997881374874013,<br>    \"max_depth\": 12,<br>    \"max_leaves\": 7,<br>    \"num_parallel_tree\": 4,<br>    \"n_estimators\": 460<br>  }<br>}",
          "{<br>  \"number\": 71,<br>  \"values\": [<br>    0.9789227166276346<br>  ],<br>  \"params\": {<br>    \"learning_rate\": 0.9203486856132699,<br>    \"max_depth\": 11,<br>    \"max_leaves\": 7,<br>    \"num_parallel_tree\": 4,<br>    \"n_estimators\": 752<br>  }<br>}",
          "{<br>  \"number\": 72,<br>  \"values\": [<br>    0.9800936768149883<br>  ],<br>  \"params\": {<br>    \"learning_rate\": 0.7158003543834969,<br>    \"max_depth\": 11,<br>    \"max_leaves\": 7,<br>    \"num_parallel_tree\": 4,<br>    \"n_estimators\": 752<br>  }<br>}",
          "{<br>  \"number\": 73,<br>  \"values\": [<br>    0.9789227166276346<br>  ],<br>  \"params\": {<br>    \"learning_rate\": 0.9144392793570265,<br>    \"max_depth\": 12,<br>    \"max_leaves\": 7,<br>    \"num_parallel_tree\": 4,<br>    \"n_estimators\": 459<br>  }<br>}",
          "{<br>  \"number\": 74,<br>  \"values\": [<br>    0.9824355971896955<br>  ],<br>  \"params\": {<br>    \"learning_rate\": 0.909865039157582,<br>    \"max_depth\": 12,<br>    \"max_leaves\": 7,<br>    \"num_parallel_tree\": 4,<br>    \"n_estimators\": 465<br>  }<br>}",
          "{<br>  \"number\": 75,<br>  \"values\": [<br>    0.9789227166276346<br>  ],<br>  \"params\": {<br>    \"learning_rate\": 0.7055464225479805,<br>    \"max_depth\": 12,<br>    \"max_leaves\": 7,<br>    \"num_parallel_tree\": 3,<br>    \"n_estimators\": 760<br>  }<br>}",
          "{<br>  \"number\": 76,<br>  \"values\": [<br>    0.977751756440281<br>  ],<br>  \"params\": {<br>    \"learning_rate\": 0.7146726409094928,<br>    \"max_depth\": 11,<br>    \"max_leaves\": 7,<br>    \"num_parallel_tree\": 3,<br>    \"n_estimators\": 469<br>  }<br>}",
          "{<br>  \"number\": 77,<br>  \"values\": [<br>    0.9789227166276346<br>  ],<br>  \"params\": {<br>    \"learning_rate\": 0.7146074987034066,<br>    \"max_depth\": 11,<br>    \"max_leaves\": 7,<br>    \"num_parallel_tree\": 3,<br>    \"n_estimators\": 745<br>  }<br>}",
          "{<br>  \"number\": 78,<br>  \"values\": [<br>    0.977751756440281<br>  ],<br>  \"params\": {<br>    \"learning_rate\": 0.7017673513424741,<br>    \"max_depth\": 11,<br>    \"max_leaves\": 7,<br>    \"num_parallel_tree\": 4,<br>    \"n_estimators\": 738<br>  }<br>}",
          "{<br>  \"number\": 79,<br>  \"values\": [<br>    0.9836065573770492<br>  ],<br>  \"params\": {<br>    \"learning_rate\": 0.9177869491689862,<br>    \"max_depth\": 11,<br>    \"max_leaves\": 7,<br>    \"num_parallel_tree\": 4,<br>    \"n_estimators\": 745<br>  }<br>}",
          "{<br>  \"number\": 80,<br>  \"values\": [<br>    0.9789227166276346<br>  ],<br>  \"params\": {<br>    \"learning_rate\": 0.9609006480739409,<br>    \"max_depth\": 11,<br>    \"max_leaves\": 7,<br>    \"num_parallel_tree\": 4,<br>    \"n_estimators\": 522<br>  }<br>}",
          "{<br>  \"number\": 81,<br>  \"values\": [<br>    0.9789227166276346<br>  ],<br>  \"params\": {<br>    \"learning_rate\": 0.9599466753610253,<br>    \"max_depth\": 11,<br>    \"max_leaves\": 7,<br>    \"num_parallel_tree\": 3,<br>    \"n_estimators\": 752<br>  }<br>}",
          "{<br>  \"number\": 82,<br>  \"values\": [<br>    0.9754098360655737<br>  ],<br>  \"params\": {<br>    \"learning_rate\": 0.954272822398104,<br>    \"max_depth\": 10,<br>    \"max_leaves\": 7,<br>    \"num_parallel_tree\": 3,<br>    \"n_estimators\": 524<br>  }<br>}",
          "{<br>  \"number\": 83,<br>  \"values\": [<br>    0.9765807962529274<br>  ],<br>  \"params\": {<br>    \"learning_rate\": 0.9635965370105122,<br>    \"max_depth\": 10,<br>    \"max_leaves\": 7,<br>    \"num_parallel_tree\": 3,<br>    \"n_estimators\": 611<br>  }<br>}",
          "{<br>  \"number\": 84,<br>  \"values\": [<br>    0.9800936768149883<br>  ],<br>  \"params\": {<br>    \"learning_rate\": 0.8736416311491773,<br>    \"max_depth\": 10,<br>    \"max_leaves\": 7,<br>    \"num_parallel_tree\": 3,<br>    \"n_estimators\": 540<br>  }<br>}",
          "{<br>  \"number\": 85,<br>  \"values\": [<br>    0.977751756440281<br>  ],<br>  \"params\": {<br>    \"learning_rate\": 0.9634168626159113,<br>    \"max_depth\": 10,<br>    \"max_leaves\": 7,<br>    \"num_parallel_tree\": 3,<br>    \"n_estimators\": 605<br>  }<br>}",
          "{<br>  \"number\": 86,<br>  \"values\": [<br>    0.9742388758782201<br>  ],<br>  \"params\": {<br>    \"learning_rate\": 0.8706630584466551,<br>    \"max_depth\": 10,<br>    \"max_leaves\": 8,<br>    \"num_parallel_tree\": 3,<br>    \"n_estimators\": 612<br>  }<br>}",
          "{<br>  \"number\": 87,<br>  \"values\": [<br>    0.9742388758782201<br>  ],<br>  \"params\": {<br>    \"learning_rate\": 0.6554321135875529,<br>    \"max_depth\": 10,<br>    \"max_leaves\": 8,<br>    \"num_parallel_tree\": 3,<br>    \"n_estimators\": 654<br>  }<br>}",
          "{<br>  \"number\": 88,<br>  \"values\": [<br>    0.977751756440281<br>  ],<br>  \"params\": {<br>    \"learning_rate\": 0.8691840117214792,<br>    \"max_depth\": 10,<br>    \"max_leaves\": 8,<br>    \"num_parallel_tree\": 4,<br>    \"n_estimators\": 651<br>  }<br>}",
          "{<br>  \"number\": 89,<br>  \"values\": [<br>    0.9789227166276346<br>  ],<br>  \"params\": {<br>    \"learning_rate\": 0.8735245699472817,<br>    \"max_depth\": 10,<br>    \"max_leaves\": 8,<br>    \"num_parallel_tree\": 4,<br>    \"n_estimators\": 614<br>  }<br>}",
          "{<br>  \"number\": 90,<br>  \"values\": [<br>    0.9765807962529274<br>  ],<br>  \"params\": {<br>    \"learning_rate\": 0.10706274490300383,<br>    \"max_depth\": 10,<br>    \"max_leaves\": 8,<br>    \"num_parallel_tree\": 4,<br>    \"n_estimators\": 653<br>  }<br>}",
          "{<br>  \"number\": 91,<br>  \"values\": [<br>    0.9800936768149883<br>  ],<br>  \"params\": {<br>    \"learning_rate\": 0.8108207277402195,<br>    \"max_depth\": 10,<br>    \"max_leaves\": 8,<br>    \"num_parallel_tree\": 4,<br>    \"n_estimators\": 722<br>  }<br>}",
          "{<br>  \"number\": 92,<br>  \"values\": [<br>    0.9789227166276346<br>  ],<br>  \"params\": {<br>    \"learning_rate\": 0.8630298973435166,<br>    \"max_depth\": 10,<br>    \"max_leaves\": 8,<br>    \"num_parallel_tree\": 4,<br>    \"n_estimators\": 654<br>  }<br>}",
          "{<br>  \"number\": 93,<br>  \"values\": [<br>    0.977751756440281<br>  ],<br>  \"params\": {<br>    \"learning_rate\": 0.8024897697717379,<br>    \"max_depth\": 9,<br>    \"max_leaves\": 8,<br>    \"num_parallel_tree\": 4,<br>    \"n_estimators\": 823<br>  }<br>}",
          "{<br>  \"number\": 94,<br>  \"values\": [<br>    0.977751756440281<br>  ],<br>  \"params\": {<br>    \"learning_rate\": 0.8088806681119061,<br>    \"max_depth\": 9,<br>    \"max_leaves\": 8,<br>    \"num_parallel_tree\": 4,<br>    \"n_estimators\": 653<br>  }<br>}",
          "{<br>  \"number\": 95,<br>  \"values\": [<br>    0.9718969555035128<br>  ],<br>  \"params\": {<br>    \"learning_rate\": 0.12388900129831731,<br>    \"max_depth\": 9,<br>    \"max_leaves\": 2,<br>    \"num_parallel_tree\": 4,<br>    \"n_estimators\": 808<br>  }<br>}",
          "{<br>  \"number\": 96,<br>  \"values\": [<br>    0.9707259953161592<br>  ],<br>  \"params\": {<br>    \"learning_rate\": 0.802413637475317,<br>    \"max_depth\": 9,<br>    \"max_leaves\": 2,<br>    \"num_parallel_tree\": 4,<br>    \"n_estimators\": 809<br>  }<br>}",
          "{<br>  \"number\": 97,<br>  \"values\": [<br>    0.9730679156908665<br>  ],<br>  \"params\": {<br>    \"learning_rate\": 0.810733574273957,<br>    \"max_depth\": 9,<br>    \"max_leaves\": 2,<br>    \"num_parallel_tree\": 4,<br>    \"n_estimators\": 713<br>  }<br>}",
          "{<br>  \"number\": 98,<br>  \"values\": [<br>    0.9812646370023419<br>  ],<br>  \"params\": {<br>    \"learning_rate\": 0.8044833733204547,<br>    \"max_depth\": 11,<br>    \"max_leaves\": 7,<br>    \"num_parallel_tree\": 4,<br>    \"n_estimators\": 822<br>  }<br>}",
          "{<br>  \"number\": 99,<br>  \"values\": [<br>    0.9730679156908665<br>  ],<br>  \"params\": {<br>    \"learning_rate\": 0.911442566192119,<br>    \"max_depth\": 11,<br>    \"max_leaves\": 2,<br>    \"num_parallel_tree\": 4,<br>    \"n_estimators\": 811<br>  }<br>}"
         ],
         "textposition": "none",
         "type": "bar",
         "x": [
          4569.052,
          3490.5499999999997,
          3649.951,
          4142.584,
          3015.45,
          1300.446,
          6348.601000000001,
          1430.955,
          7607.317,
          7717.009,
          2258.2529999999997,
          974.699,
          4526.37,
          2121.1820000000002,
          6281.388,
          8492.336,
          9693.557,
          4296.008,
          5579.768999999999,
          5722.9890000000005,
          5693.487,
          4249.052,
          4510.068,
          5347.861,
          5430.094999999999,
          5339.0019999999995,
          6275.719,
          6319.222,
          6307.585999999999,
          3986.4289999999996,
          3982.2999999999997,
          3068.973,
          3618.6690000000003,
          5798.66,
          6189.259,
          3942.548,
          4819.208,
          4775.089999999999,
          4303.335,
          5065.966,
          4756.869,
          4822.366,
          3375.077,
          3390.699,
          3714.487,
          3472.802,
          3574.666,
          3567.0890000000004,
          3602.594,
          3158.849,
          2701.699,
          2728.408,
          2815.1670000000004,
          3237.45,
          5221.564,
          4364.531,
          4569.932,
          4099.64,
          4117.299,
          4353.901,
          3992.455,
          3853.716,
          3416.9700000000003,
          3469.3540000000003,
          3887.3959999999997,
          4087.484,
          3882.822,
          3308.58,
          3718.918,
          3712.189,
          3825.643,
          5654.8189999999995,
          6321.526000000001,
          3875.505,
          3978.525,
          4854.731,
          3105.7830000000004,
          4702.1410000000005,
          6244.403,
          6092.524,
          4237.219,
          4482.705,
          3386.4770000000003,
          4012.164,
          3589.466,
          3990.717,
          3979.909,
          4378.712,
          5099.311,
          4801.285,
          7745.707,
          5689.0109999999995,
          5012.292,
          6300.4,
          5335.084,
          3453.4660000000003,
          3437.482,
          3119.817,
          3888.078,
          2845.533
         ],
         "y": [
          0,
          1,
          2,
          3,
          4,
          5,
          6,
          7,
          8,
          9,
          10,
          11,
          12,
          13,
          14,
          15,
          16,
          17,
          18,
          19,
          20,
          21,
          22,
          23,
          24,
          25,
          26,
          27,
          28,
          29,
          30,
          31,
          32,
          33,
          34,
          35,
          36,
          37,
          38,
          39,
          40,
          41,
          42,
          43,
          44,
          45,
          46,
          47,
          48,
          49,
          50,
          51,
          52,
          53,
          54,
          55,
          56,
          57,
          58,
          59,
          60,
          61,
          62,
          63,
          64,
          65,
          66,
          67,
          68,
          69,
          70,
          71,
          72,
          73,
          74,
          75,
          76,
          77,
          78,
          79,
          80,
          81,
          82,
          83,
          84,
          85,
          86,
          87,
          88,
          89,
          90,
          91,
          92,
          93,
          94,
          95,
          96,
          97,
          98,
          99
         ]
        }
       ],
       "layout": {
        "showlegend": true,
        "template": {
         "data": {
          "bar": [
           {
            "error_x": {
             "color": "#2a3f5f"
            },
            "error_y": {
             "color": "#2a3f5f"
            },
            "marker": {
             "line": {
              "color": "#E5ECF6",
              "width": 0.5
             },
             "pattern": {
              "fillmode": "overlay",
              "size": 10,
              "solidity": 0.2
             }
            },
            "type": "bar"
           }
          ],
          "barpolar": [
           {
            "marker": {
             "line": {
              "color": "#E5ECF6",
              "width": 0.5
             },
             "pattern": {
              "fillmode": "overlay",
              "size": 10,
              "solidity": 0.2
             }
            },
            "type": "barpolar"
           }
          ],
          "carpet": [
           {
            "aaxis": {
             "endlinecolor": "#2a3f5f",
             "gridcolor": "white",
             "linecolor": "white",
             "minorgridcolor": "white",
             "startlinecolor": "#2a3f5f"
            },
            "baxis": {
             "endlinecolor": "#2a3f5f",
             "gridcolor": "white",
             "linecolor": "white",
             "minorgridcolor": "white",
             "startlinecolor": "#2a3f5f"
            },
            "type": "carpet"
           }
          ],
          "choropleth": [
           {
            "colorbar": {
             "outlinewidth": 0,
             "ticks": ""
            },
            "type": "choropleth"
           }
          ],
          "contour": [
           {
            "colorbar": {
             "outlinewidth": 0,
             "ticks": ""
            },
            "colorscale": [
             [
              0,
              "#0d0887"
             ],
             [
              0.1111111111111111,
              "#46039f"
             ],
             [
              0.2222222222222222,
              "#7201a8"
             ],
             [
              0.3333333333333333,
              "#9c179e"
             ],
             [
              0.4444444444444444,
              "#bd3786"
             ],
             [
              0.5555555555555556,
              "#d8576b"
             ],
             [
              0.6666666666666666,
              "#ed7953"
             ],
             [
              0.7777777777777778,
              "#fb9f3a"
             ],
             [
              0.8888888888888888,
              "#fdca26"
             ],
             [
              1,
              "#f0f921"
             ]
            ],
            "type": "contour"
           }
          ],
          "contourcarpet": [
           {
            "colorbar": {
             "outlinewidth": 0,
             "ticks": ""
            },
            "type": "contourcarpet"
           }
          ],
          "heatmap": [
           {
            "colorbar": {
             "outlinewidth": 0,
             "ticks": ""
            },
            "colorscale": [
             [
              0,
              "#0d0887"
             ],
             [
              0.1111111111111111,
              "#46039f"
             ],
             [
              0.2222222222222222,
              "#7201a8"
             ],
             [
              0.3333333333333333,
              "#9c179e"
             ],
             [
              0.4444444444444444,
              "#bd3786"
             ],
             [
              0.5555555555555556,
              "#d8576b"
             ],
             [
              0.6666666666666666,
              "#ed7953"
             ],
             [
              0.7777777777777778,
              "#fb9f3a"
             ],
             [
              0.8888888888888888,
              "#fdca26"
             ],
             [
              1,
              "#f0f921"
             ]
            ],
            "type": "heatmap"
           }
          ],
          "heatmapgl": [
           {
            "colorbar": {
             "outlinewidth": 0,
             "ticks": ""
            },
            "colorscale": [
             [
              0,
              "#0d0887"
             ],
             [
              0.1111111111111111,
              "#46039f"
             ],
             [
              0.2222222222222222,
              "#7201a8"
             ],
             [
              0.3333333333333333,
              "#9c179e"
             ],
             [
              0.4444444444444444,
              "#bd3786"
             ],
             [
              0.5555555555555556,
              "#d8576b"
             ],
             [
              0.6666666666666666,
              "#ed7953"
             ],
             [
              0.7777777777777778,
              "#fb9f3a"
             ],
             [
              0.8888888888888888,
              "#fdca26"
             ],
             [
              1,
              "#f0f921"
             ]
            ],
            "type": "heatmapgl"
           }
          ],
          "histogram": [
           {
            "marker": {
             "pattern": {
              "fillmode": "overlay",
              "size": 10,
              "solidity": 0.2
             }
            },
            "type": "histogram"
           }
          ],
          "histogram2d": [
           {
            "colorbar": {
             "outlinewidth": 0,
             "ticks": ""
            },
            "colorscale": [
             [
              0,
              "#0d0887"
             ],
             [
              0.1111111111111111,
              "#46039f"
             ],
             [
              0.2222222222222222,
              "#7201a8"
             ],
             [
              0.3333333333333333,
              "#9c179e"
             ],
             [
              0.4444444444444444,
              "#bd3786"
             ],
             [
              0.5555555555555556,
              "#d8576b"
             ],
             [
              0.6666666666666666,
              "#ed7953"
             ],
             [
              0.7777777777777778,
              "#fb9f3a"
             ],
             [
              0.8888888888888888,
              "#fdca26"
             ],
             [
              1,
              "#f0f921"
             ]
            ],
            "type": "histogram2d"
           }
          ],
          "histogram2dcontour": [
           {
            "colorbar": {
             "outlinewidth": 0,
             "ticks": ""
            },
            "colorscale": [
             [
              0,
              "#0d0887"
             ],
             [
              0.1111111111111111,
              "#46039f"
             ],
             [
              0.2222222222222222,
              "#7201a8"
             ],
             [
              0.3333333333333333,
              "#9c179e"
             ],
             [
              0.4444444444444444,
              "#bd3786"
             ],
             [
              0.5555555555555556,
              "#d8576b"
             ],
             [
              0.6666666666666666,
              "#ed7953"
             ],
             [
              0.7777777777777778,
              "#fb9f3a"
             ],
             [
              0.8888888888888888,
              "#fdca26"
             ],
             [
              1,
              "#f0f921"
             ]
            ],
            "type": "histogram2dcontour"
           }
          ],
          "mesh3d": [
           {
            "colorbar": {
             "outlinewidth": 0,
             "ticks": ""
            },
            "type": "mesh3d"
           }
          ],
          "parcoords": [
           {
            "line": {
             "colorbar": {
              "outlinewidth": 0,
              "ticks": ""
             }
            },
            "type": "parcoords"
           }
          ],
          "pie": [
           {
            "automargin": true,
            "type": "pie"
           }
          ],
          "scatter": [
           {
            "fillpattern": {
             "fillmode": "overlay",
             "size": 10,
             "solidity": 0.2
            },
            "type": "scatter"
           }
          ],
          "scatter3d": [
           {
            "line": {
             "colorbar": {
              "outlinewidth": 0,
              "ticks": ""
             }
            },
            "marker": {
             "colorbar": {
              "outlinewidth": 0,
              "ticks": ""
             }
            },
            "type": "scatter3d"
           }
          ],
          "scattercarpet": [
           {
            "marker": {
             "colorbar": {
              "outlinewidth": 0,
              "ticks": ""
             }
            },
            "type": "scattercarpet"
           }
          ],
          "scattergeo": [
           {
            "marker": {
             "colorbar": {
              "outlinewidth": 0,
              "ticks": ""
             }
            },
            "type": "scattergeo"
           }
          ],
          "scattergl": [
           {
            "marker": {
             "colorbar": {
              "outlinewidth": 0,
              "ticks": ""
             }
            },
            "type": "scattergl"
           }
          ],
          "scattermapbox": [
           {
            "marker": {
             "colorbar": {
              "outlinewidth": 0,
              "ticks": ""
             }
            },
            "type": "scattermapbox"
           }
          ],
          "scatterpolar": [
           {
            "marker": {
             "colorbar": {
              "outlinewidth": 0,
              "ticks": ""
             }
            },
            "type": "scatterpolar"
           }
          ],
          "scatterpolargl": [
           {
            "marker": {
             "colorbar": {
              "outlinewidth": 0,
              "ticks": ""
             }
            },
            "type": "scatterpolargl"
           }
          ],
          "scatterternary": [
           {
            "marker": {
             "colorbar": {
              "outlinewidth": 0,
              "ticks": ""
             }
            },
            "type": "scatterternary"
           }
          ],
          "surface": [
           {
            "colorbar": {
             "outlinewidth": 0,
             "ticks": ""
            },
            "colorscale": [
             [
              0,
              "#0d0887"
             ],
             [
              0.1111111111111111,
              "#46039f"
             ],
             [
              0.2222222222222222,
              "#7201a8"
             ],
             [
              0.3333333333333333,
              "#9c179e"
             ],
             [
              0.4444444444444444,
              "#bd3786"
             ],
             [
              0.5555555555555556,
              "#d8576b"
             ],
             [
              0.6666666666666666,
              "#ed7953"
             ],
             [
              0.7777777777777778,
              "#fb9f3a"
             ],
             [
              0.8888888888888888,
              "#fdca26"
             ],
             [
              1,
              "#f0f921"
             ]
            ],
            "type": "surface"
           }
          ],
          "table": [
           {
            "cells": {
             "fill": {
              "color": "#EBF0F8"
             },
             "line": {
              "color": "white"
             }
            },
            "header": {
             "fill": {
              "color": "#C8D4E3"
             },
             "line": {
              "color": "white"
             }
            },
            "type": "table"
           }
          ]
         },
         "layout": {
          "annotationdefaults": {
           "arrowcolor": "#2a3f5f",
           "arrowhead": 0,
           "arrowwidth": 1
          },
          "autotypenumbers": "strict",
          "coloraxis": {
           "colorbar": {
            "outlinewidth": 0,
            "ticks": ""
           }
          },
          "colorscale": {
           "diverging": [
            [
             0,
             "#8e0152"
            ],
            [
             0.1,
             "#c51b7d"
            ],
            [
             0.2,
             "#de77ae"
            ],
            [
             0.3,
             "#f1b6da"
            ],
            [
             0.4,
             "#fde0ef"
            ],
            [
             0.5,
             "#f7f7f7"
            ],
            [
             0.6,
             "#e6f5d0"
            ],
            [
             0.7,
             "#b8e186"
            ],
            [
             0.8,
             "#7fbc41"
            ],
            [
             0.9,
             "#4d9221"
            ],
            [
             1,
             "#276419"
            ]
           ],
           "sequential": [
            [
             0,
             "#0d0887"
            ],
            [
             0.1111111111111111,
             "#46039f"
            ],
            [
             0.2222222222222222,
             "#7201a8"
            ],
            [
             0.3333333333333333,
             "#9c179e"
            ],
            [
             0.4444444444444444,
             "#bd3786"
            ],
            [
             0.5555555555555556,
             "#d8576b"
            ],
            [
             0.6666666666666666,
             "#ed7953"
            ],
            [
             0.7777777777777778,
             "#fb9f3a"
            ],
            [
             0.8888888888888888,
             "#fdca26"
            ],
            [
             1,
             "#f0f921"
            ]
           ],
           "sequentialminus": [
            [
             0,
             "#0d0887"
            ],
            [
             0.1111111111111111,
             "#46039f"
            ],
            [
             0.2222222222222222,
             "#7201a8"
            ],
            [
             0.3333333333333333,
             "#9c179e"
            ],
            [
             0.4444444444444444,
             "#bd3786"
            ],
            [
             0.5555555555555556,
             "#d8576b"
            ],
            [
             0.6666666666666666,
             "#ed7953"
            ],
            [
             0.7777777777777778,
             "#fb9f3a"
            ],
            [
             0.8888888888888888,
             "#fdca26"
            ],
            [
             1,
             "#f0f921"
            ]
           ]
          },
          "colorway": [
           "#636efa",
           "#EF553B",
           "#00cc96",
           "#ab63fa",
           "#FFA15A",
           "#19d3f3",
           "#FF6692",
           "#B6E880",
           "#FF97FF",
           "#FECB52"
          ],
          "font": {
           "color": "#2a3f5f"
          },
          "geo": {
           "bgcolor": "white",
           "lakecolor": "white",
           "landcolor": "#E5ECF6",
           "showlakes": true,
           "showland": true,
           "subunitcolor": "white"
          },
          "hoverlabel": {
           "align": "left"
          },
          "hovermode": "closest",
          "mapbox": {
           "style": "light"
          },
          "paper_bgcolor": "white",
          "plot_bgcolor": "#E5ECF6",
          "polar": {
           "angularaxis": {
            "gridcolor": "white",
            "linecolor": "white",
            "ticks": ""
           },
           "bgcolor": "#E5ECF6",
           "radialaxis": {
            "gridcolor": "white",
            "linecolor": "white",
            "ticks": ""
           }
          },
          "scene": {
           "xaxis": {
            "backgroundcolor": "#E5ECF6",
            "gridcolor": "white",
            "gridwidth": 2,
            "linecolor": "white",
            "showbackground": true,
            "ticks": "",
            "zerolinecolor": "white"
           },
           "yaxis": {
            "backgroundcolor": "#E5ECF6",
            "gridcolor": "white",
            "gridwidth": 2,
            "linecolor": "white",
            "showbackground": true,
            "ticks": "",
            "zerolinecolor": "white"
           },
           "zaxis": {
            "backgroundcolor": "#E5ECF6",
            "gridcolor": "white",
            "gridwidth": 2,
            "linecolor": "white",
            "showbackground": true,
            "ticks": "",
            "zerolinecolor": "white"
           }
          },
          "shapedefaults": {
           "line": {
            "color": "#2a3f5f"
           }
          },
          "ternary": {
           "aaxis": {
            "gridcolor": "white",
            "linecolor": "white",
            "ticks": ""
           },
           "baxis": {
            "gridcolor": "white",
            "linecolor": "white",
            "ticks": ""
           },
           "bgcolor": "#E5ECF6",
           "caxis": {
            "gridcolor": "white",
            "linecolor": "white",
            "ticks": ""
           }
          },
          "title": {
           "x": 0.05
          },
          "xaxis": {
           "automargin": true,
           "gridcolor": "white",
           "linecolor": "white",
           "ticks": "",
           "title": {
            "standoff": 15
           },
           "zerolinecolor": "white",
           "zerolinewidth": 2
          },
          "yaxis": {
           "automargin": true,
           "gridcolor": "white",
           "linecolor": "white",
           "ticks": "",
           "title": {
            "standoff": 15
           },
           "zerolinecolor": "white",
           "zerolinewidth": 2
          }
         }
        },
        "title": {
         "text": "Timeline Plot"
        },
        "xaxis": {
         "title": {
          "text": "Datetime"
         },
         "type": "date"
        },
        "yaxis": {
         "title": {
          "text": "Trial"
         }
        }
       }
      }
     },
     "metadata": {},
     "output_type": "display_data"
    }
   ],
   "source": [
    "optuna.visualization.plot_timeline(study)"
   ]
  },
  {
   "cell_type": "code",
   "execution_count": null,
   "id": "f5f28e1d",
   "metadata": {},
   "outputs": [],
   "source": []
  }
 ],
 "metadata": {
  "kernelspec": {
   "display_name": "py38",
   "language": "python",
   "name": "python3"
  },
  "language_info": {
   "codemirror_mode": {
    "name": "ipython",
    "version": 3
   },
   "file_extension": ".py",
   "mimetype": "text/x-python",
   "name": "python",
   "nbconvert_exporter": "python",
   "pygments_lexer": "ipython3",
   "version": "3.8.20"
  }
 },
 "nbformat": 4,
 "nbformat_minor": 5
}
