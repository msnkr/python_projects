{
 "cells": [
  {
   "cell_type": "code",
   "execution_count": 7,
   "id": "3501c365-4c2a-4126-b1b6-3880b02a21d3",
   "metadata": {},
   "outputs": [],
   "source": [
    "import tensorflow as tf\n",
    "from tensorflow.keras.models import Sequential\n",
    "from tensorflow.keras.layers import Dense, Flatten, Dropout\n",
    "\n",
    "from sklearn.model_selection import train_test_split\n",
    "from sklearn.datasets import load_iris\n",
    "from sklearn.preprocessing import StandardScaler\n",
    "\n",
    "import numpy as np\n",
    "import pandas as pd"
   ]
  },
  {
   "cell_type": "code",
   "execution_count": 165,
   "id": "44c87a99-9300-420d-bd76-597fb1bec40e",
   "metadata": {},
   "outputs": [],
   "source": [
    "df = pd.read_csv(\"data/heart.csv\")"
   ]
  },
  {
   "cell_type": "code",
   "execution_count": 166,
   "id": "0ddd9538-e4f4-4cca-bc57-20294da44822",
   "metadata": {},
   "outputs": [
    {
     "data": {
      "text/html": [
       "<div>\n",
       "<style scoped>\n",
       "    .dataframe tbody tr th:only-of-type {\n",
       "        vertical-align: middle;\n",
       "    }\n",
       "\n",
       "    .dataframe tbody tr th {\n",
       "        vertical-align: top;\n",
       "    }\n",
       "\n",
       "    .dataframe thead th {\n",
       "        text-align: right;\n",
       "    }\n",
       "</style>\n",
       "<table border=\"1\" class=\"dataframe\">\n",
       "  <thead>\n",
       "    <tr style=\"text-align: right;\">\n",
       "      <th></th>\n",
       "      <th>age</th>\n",
       "      <th>sex</th>\n",
       "      <th>cp</th>\n",
       "      <th>trestbps</th>\n",
       "      <th>chol</th>\n",
       "      <th>fbs</th>\n",
       "      <th>restecg</th>\n",
       "      <th>thalach</th>\n",
       "      <th>exang</th>\n",
       "      <th>oldpeak</th>\n",
       "      <th>slope</th>\n",
       "      <th>ca</th>\n",
       "      <th>thal</th>\n",
       "      <th>target</th>\n",
       "    </tr>\n",
       "  </thead>\n",
       "  <tbody>\n",
       "    <tr>\n",
       "      <th>0</th>\n",
       "      <td>52</td>\n",
       "      <td>1</td>\n",
       "      <td>0</td>\n",
       "      <td>125</td>\n",
       "      <td>212</td>\n",
       "      <td>0</td>\n",
       "      <td>1</td>\n",
       "      <td>168</td>\n",
       "      <td>0</td>\n",
       "      <td>1.0</td>\n",
       "      <td>2</td>\n",
       "      <td>2</td>\n",
       "      <td>3</td>\n",
       "      <td>0</td>\n",
       "    </tr>\n",
       "    <tr>\n",
       "      <th>1</th>\n",
       "      <td>53</td>\n",
       "      <td>1</td>\n",
       "      <td>0</td>\n",
       "      <td>140</td>\n",
       "      <td>203</td>\n",
       "      <td>1</td>\n",
       "      <td>0</td>\n",
       "      <td>155</td>\n",
       "      <td>1</td>\n",
       "      <td>3.1</td>\n",
       "      <td>0</td>\n",
       "      <td>0</td>\n",
       "      <td>3</td>\n",
       "      <td>0</td>\n",
       "    </tr>\n",
       "    <tr>\n",
       "      <th>2</th>\n",
       "      <td>70</td>\n",
       "      <td>1</td>\n",
       "      <td>0</td>\n",
       "      <td>145</td>\n",
       "      <td>174</td>\n",
       "      <td>0</td>\n",
       "      <td>1</td>\n",
       "      <td>125</td>\n",
       "      <td>1</td>\n",
       "      <td>2.6</td>\n",
       "      <td>0</td>\n",
       "      <td>0</td>\n",
       "      <td>3</td>\n",
       "      <td>0</td>\n",
       "    </tr>\n",
       "    <tr>\n",
       "      <th>3</th>\n",
       "      <td>61</td>\n",
       "      <td>1</td>\n",
       "      <td>0</td>\n",
       "      <td>148</td>\n",
       "      <td>203</td>\n",
       "      <td>0</td>\n",
       "      <td>1</td>\n",
       "      <td>161</td>\n",
       "      <td>0</td>\n",
       "      <td>0.0</td>\n",
       "      <td>2</td>\n",
       "      <td>1</td>\n",
       "      <td>3</td>\n",
       "      <td>0</td>\n",
       "    </tr>\n",
       "    <tr>\n",
       "      <th>4</th>\n",
       "      <td>62</td>\n",
       "      <td>0</td>\n",
       "      <td>0</td>\n",
       "      <td>138</td>\n",
       "      <td>294</td>\n",
       "      <td>1</td>\n",
       "      <td>1</td>\n",
       "      <td>106</td>\n",
       "      <td>0</td>\n",
       "      <td>1.9</td>\n",
       "      <td>1</td>\n",
       "      <td>3</td>\n",
       "      <td>2</td>\n",
       "      <td>0</td>\n",
       "    </tr>\n",
       "  </tbody>\n",
       "</table>\n",
       "</div>"
      ],
      "text/plain": [
       "   age  sex  cp  trestbps  chol  fbs  restecg  thalach  exang  oldpeak  slope  ca  thal  target\n",
       "0   52    1   0       125   212    0        1      168      0      1.0      2   2     3       0\n",
       "1   53    1   0       140   203    1        0      155      1      3.1      0   0     3       0\n",
       "2   70    1   0       145   174    0        1      125      1      2.6      0   0     3       0\n",
       "3   61    1   0       148   203    0        1      161      0      0.0      2   1     3       0\n",
       "4   62    0   0       138   294    1        1      106      0      1.9      1   3     2       0"
      ]
     },
     "execution_count": 166,
     "metadata": {},
     "output_type": "execute_result"
    }
   ],
   "source": [
    "df.head()"
   ]
  },
  {
   "cell_type": "code",
   "execution_count": 167,
   "id": "1bb9b3d4-aa60-4e00-9bbd-aec11d9275b5",
   "metadata": {},
   "outputs": [
    {
     "data": {
      "text/plain": [
       "age         0\n",
       "sex         0\n",
       "cp          0\n",
       "trestbps    0\n",
       "chol        0\n",
       "fbs         0\n",
       "restecg     0\n",
       "thalach     0\n",
       "exang       0\n",
       "oldpeak     0\n",
       "slope       0\n",
       "ca          0\n",
       "thal        0\n",
       "target      0\n",
       "dtype: int64"
      ]
     },
     "execution_count": 167,
     "metadata": {},
     "output_type": "execute_result"
    }
   ],
   "source": [
    "df.isna().sum()"
   ]
  },
  {
   "cell_type": "code",
   "execution_count": 168,
   "id": "950e6113-890d-4a5c-89a5-65bec9fe3f3c",
   "metadata": {},
   "outputs": [],
   "source": [
    "X = df.drop(\"target\", axis=1)\n",
    "y = df[\"target\"]"
   ]
  },
  {
   "cell_type": "code",
   "execution_count": 169,
   "id": "c28fa424-83f5-4f8d-8414-608d815135f8",
   "metadata": {},
   "outputs": [],
   "source": [
    "scaler = StandardScaler()\n",
    "\n",
    "scaled_data = scaler.fit_transform(X)"
   ]
  },
  {
   "cell_type": "code",
   "execution_count": 170,
   "id": "14bc2001-6491-4822-842f-8634ec052f46",
   "metadata": {},
   "outputs": [
    {
     "data": {
      "text/plain": [
       "array([[-0.26843658,  0.66150409, -0.91575542, ...,  0.99543334,\n",
       "         1.20922066,  1.08985168],\n",
       "       [-0.15815703,  0.66150409, -0.91575542, ..., -2.24367514,\n",
       "        -0.73197147,  1.08985168],\n",
       "       [ 1.71659547,  0.66150409, -0.91575542, ..., -2.24367514,\n",
       "        -0.73197147,  1.08985168],\n",
       "       ...,\n",
       "       [-0.81983438,  0.66150409, -0.91575542, ..., -0.6241209 ,\n",
       "         0.23862459, -0.52212231],\n",
       "       [-0.4889957 , -1.51170646, -0.91575542, ...,  0.99543334,\n",
       "        -0.73197147, -0.52212231],\n",
       "       [-0.04787747,  0.66150409, -0.91575542, ..., -0.6241209 ,\n",
       "         0.23862459,  1.08985168]])"
      ]
     },
     "execution_count": 170,
     "metadata": {},
     "output_type": "execute_result"
    }
   ],
   "source": [
    "scaled_data"
   ]
  },
  {
   "cell_type": "code",
   "execution_count": 171,
   "id": "8d33ba26-85e1-4ecf-b4fa-eb1e65127beb",
   "metadata": {},
   "outputs": [],
   "source": [
    "X_train, X_test, y_train, y_test = train_test_split(scaled_data, y, test_size=0.2)"
   ]
  },
  {
   "cell_type": "code",
   "execution_count": 172,
   "id": "61c6ad7d-9bb4-4147-9c66-252d978e6df8",
   "metadata": {},
   "outputs": [],
   "source": [
    "model = Sequential([\n",
    "    Dense(64, activation=\"relu\", input_shape=(13,)),\n",
    "    Dense(32, activation=\"relu\"),\n",
    "    Dense(16, activation=\"relu\"),\n",
    "    Dense(1, activation=\"sigmoid\")\n",
    "])"
   ]
  },
  {
   "cell_type": "code",
   "execution_count": 173,
   "id": "24a75ab4-baf9-42bc-affd-f017e124dcfe",
   "metadata": {},
   "outputs": [],
   "source": [
    "model.compile(optimizer=\"adam\", loss=\"binary_crossentropy\", metrics=[\"accuracy\"])"
   ]
  },
  {
   "cell_type": "code",
   "execution_count": 174,
   "id": "3cd3ca94-ddaa-4205-b9dc-b8dcd86889d7",
   "metadata": {},
   "outputs": [
    {
     "name": "stdout",
     "output_type": "stream",
     "text": [
      "Epoch 1/10\n",
      "26/26 [==============================] - 1s 11ms/step - loss: 0.5844 - accuracy: 0.7793\n",
      "Epoch 2/10\n",
      "26/26 [==============================] - 0s 13ms/step - loss: 0.4394 - accuracy: 0.8341\n",
      "Epoch 3/10\n",
      "26/26 [==============================] - 0s 13ms/step - loss: 0.3596 - accuracy: 0.8573\n",
      "Epoch 4/10\n",
      "26/26 [==============================] - 0s 12ms/step - loss: 0.3191 - accuracy: 0.8793\n",
      "Epoch 5/10\n",
      "26/26 [==============================] - 0s 11ms/step - loss: 0.2907 - accuracy: 0.8854\n",
      "Epoch 6/10\n",
      "26/26 [==============================] - 0s 14ms/step - loss: 0.2693 - accuracy: 0.8902\n",
      "Epoch 7/10\n",
      "26/26 [==============================] - 0s 11ms/step - loss: 0.2492 - accuracy: 0.9024\n",
      "Epoch 8/10\n",
      "26/26 [==============================] - 0s 14ms/step - loss: 0.2309 - accuracy: 0.9037\n",
      "Epoch 9/10\n",
      "26/26 [==============================] - 0s 14ms/step - loss: 0.2117 - accuracy: 0.9159\n",
      "Epoch 10/10\n",
      "26/26 [==============================] - 0s 13ms/step - loss: 0.1940 - accuracy: 0.9207\n"
     ]
    }
   ],
   "source": [
    "model.fit(X_train, y_train, epochs=10);"
   ]
  },
  {
   "cell_type": "code",
   "execution_count": 175,
   "id": "79e1a3e7-05d7-4a5f-8126-311ca4405761",
   "metadata": {},
   "outputs": [
    {
     "name": "stdout",
     "output_type": "stream",
     "text": [
      "7/7 [==============================] - 0s 9ms/step - loss: 0.2088 - accuracy: 0.9073\n"
     ]
    }
   ],
   "source": [
    "loss, accuracy = model.evaluate(X_test, y_test)"
   ]
  },
  {
   "cell_type": "code",
   "execution_count": 176,
   "id": "416d6600-2ffd-4f7d-a89d-c21879e0183b",
   "metadata": {},
   "outputs": [
    {
     "data": {
      "text/plain": [
       "0.20880086719989777"
      ]
     },
     "execution_count": 176,
     "metadata": {},
     "output_type": "execute_result"
    }
   ],
   "source": [
    "loss"
   ]
  },
  {
   "cell_type": "code",
   "execution_count": 177,
   "id": "8aeb4ebc-3f60-4813-b070-8f49535e21ef",
   "metadata": {},
   "outputs": [
    {
     "data": {
      "text/plain": [
       "0.9073171019554138"
      ]
     },
     "execution_count": 177,
     "metadata": {},
     "output_type": "execute_result"
    }
   ],
   "source": [
    "accuracy"
   ]
  },
  {
   "cell_type": "markdown",
   "id": "997b38f7-0521-4a24-9d84-708617b701a5",
   "metadata": {},
   "source": [
    "# Lets try a regression model"
   ]
  },
  {
   "cell_type": "code",
   "execution_count": null,
   "id": "43d013c8-e27d-4965-ae61-bd31a8649f1b",
   "metadata": {},
   "outputs": [],
   "source": [
    "from sklearn.datasets import fetch_california_housing"
   ]
  },
  {
   "cell_type": "code",
   "execution_count": null,
   "id": "a3c6bdb6-460b-4983-b97c-9a80a8c1c24c",
   "metadata": {},
   "outputs": [],
   "source": [
    "cali = fetch_california_housing(as_frame=True)\n",
    "df = pd.DataFrame(cali.data, columns=cali.feature_names)\n",
    "df[\"target\"] = pd.Series(cali.target)"
   ]
  },
  {
   "cell_type": "code",
   "execution_count": 93,
   "id": "d3db9091-5ae6-4eda-8768-7721bd3f45ae",
   "metadata": {},
   "outputs": [
    {
     "data": {
      "text/plain": [
       "MedInc        0\n",
       "HouseAge      0\n",
       "AveRooms      0\n",
       "AveBedrms     0\n",
       "Population    0\n",
       "AveOccup      0\n",
       "Latitude      0\n",
       "Longitude     0\n",
       "target        0\n",
       "dtype: int64"
      ]
     },
     "execution_count": 93,
     "metadata": {},
     "output_type": "execute_result"
    }
   ],
   "source": [
    "df.isna().sum()"
   ]
  },
  {
   "cell_type": "code",
   "execution_count": 94,
   "id": "4badcd68-b52c-4519-925f-f6e2cd73ad32",
   "metadata": {},
   "outputs": [
    {
     "data": {
      "text/plain": [
       "MedInc        float64\n",
       "HouseAge      float64\n",
       "AveRooms      float64\n",
       "AveBedrms     float64\n",
       "Population    float64\n",
       "AveOccup      float64\n",
       "Latitude      float64\n",
       "Longitude     float64\n",
       "target        float64\n",
       "dtype: object"
      ]
     },
     "execution_count": 94,
     "metadata": {},
     "output_type": "execute_result"
    }
   ],
   "source": [
    "df.dtypes"
   ]
  },
  {
   "cell_type": "code",
   "execution_count": 95,
   "id": "66681581-4d98-4dbc-8b59-0df388ea6480",
   "metadata": {},
   "outputs": [],
   "source": [
    "X = df.drop(\"target\", axis=1)\n",
    "y = df.target"
   ]
  },
  {
   "cell_type": "code",
   "execution_count": 97,
   "id": "15aa9d8e-f418-464f-804b-90e5712d9cd1",
   "metadata": {},
   "outputs": [],
   "source": [
    "X_scaled = scaler.fit_transform(X)"
   ]
  },
  {
   "cell_type": "code",
   "execution_count": 100,
   "id": "f7251eaf-6d25-4ced-bf41-909ae2c47120",
   "metadata": {},
   "outputs": [],
   "source": [
    "X_train, X_test, y_train, y_test = train_test_split(X_scaled, y, test_size=0.2)"
   ]
  },
  {
   "cell_type": "code",
   "execution_count": 103,
   "id": "c39271a5-4973-45f7-b52e-47e0b9391789",
   "metadata": {},
   "outputs": [],
   "source": [
    "model = Sequential([\n",
    "    Dense(64, activation=\"relu\", input_shape=[X_train.shape[1]]),\n",
    "    Dense(64, activation=\"relu\"),\n",
    "    Dense(1)\n",
    "])"
   ]
  },
  {
   "cell_type": "code",
   "execution_count": 182,
   "id": "9596ab95-2301-4a87-a8d1-d417d8d6feb0",
   "metadata": {},
   "outputs": [],
   "source": [
    "model.compile(optimizer=\"adam\", loss=\"mae\")"
   ]
  },
  {
   "cell_type": "code",
   "execution_count": 183,
   "id": "75d0fff1-9c61-4a1c-a5cb-c473749aa21b",
   "metadata": {},
   "outputs": [
    {
     "name": "stdout",
     "output_type": "stream",
     "text": [
      "Epoch 1/100\n",
      "21/21 [==============================] - 1s 19ms/step - loss: 0.1262 - val_loss: 0.0786\n",
      "Epoch 2/100\n",
      "21/21 [==============================] - 0s 12ms/step - loss: 0.1086 - val_loss: 0.0728\n",
      "Epoch 3/100\n",
      "21/21 [==============================] - 0s 14ms/step - loss: 0.0984 - val_loss: 0.0688\n",
      "Epoch 4/100\n",
      "21/21 [==============================] - 0s 13ms/step - loss: 0.0905 - val_loss: 0.0647\n",
      "Epoch 5/100\n",
      "21/21 [==============================] - 0s 15ms/step - loss: 0.0835 - val_loss: 0.0630\n",
      "Epoch 6/100\n",
      "21/21 [==============================] - 0s 13ms/step - loss: 0.0754 - val_loss: 0.0580\n",
      "Epoch 7/100\n",
      "21/21 [==============================] - 0s 14ms/step - loss: 0.0693 - val_loss: 0.0559\n",
      "Epoch 8/100\n",
      "21/21 [==============================] - 0s 16ms/step - loss: 0.0648 - val_loss: 0.0530\n",
      "Epoch 9/100\n",
      "21/21 [==============================] - 0s 17ms/step - loss: 0.0597 - val_loss: 0.0497\n",
      "Epoch 10/100\n",
      "21/21 [==============================] - 0s 14ms/step - loss: 0.0553 - val_loss: 0.0467\n",
      "Epoch 11/100\n",
      "21/21 [==============================] - 0s 12ms/step - loss: 0.0518 - val_loss: 0.0433\n",
      "Epoch 12/100\n",
      "21/21 [==============================] - 0s 15ms/step - loss: 0.0484 - val_loss: 0.0404\n",
      "Epoch 13/100\n",
      "21/21 [==============================] - 0s 11ms/step - loss: 0.0454 - val_loss: 0.0388\n",
      "Epoch 14/100\n",
      "21/21 [==============================] - 0s 15ms/step - loss: 0.0421 - val_loss: 0.0346\n",
      "Epoch 15/100\n",
      "21/21 [==============================] - 0s 13ms/step - loss: 0.0388 - val_loss: 0.0345\n",
      "Epoch 16/100\n",
      "21/21 [==============================] - 0s 15ms/step - loss: 0.0354 - val_loss: 0.0311\n",
      "Epoch 17/100\n",
      "21/21 [==============================] - 0s 15ms/step - loss: 0.0325 - val_loss: 0.0300\n",
      "Epoch 18/100\n",
      "21/21 [==============================] - 0s 16ms/step - loss: 0.0299 - val_loss: 0.0282\n",
      "Epoch 19/100\n",
      "21/21 [==============================] - 0s 14ms/step - loss: 0.0279 - val_loss: 0.0272\n",
      "Epoch 20/100\n",
      "21/21 [==============================] - 0s 13ms/step - loss: 0.0265 - val_loss: 0.0264\n",
      "Epoch 21/100\n",
      "21/21 [==============================] - 0s 15ms/step - loss: 0.0253 - val_loss: 0.0246\n",
      "Epoch 22/100\n",
      "21/21 [==============================] - 0s 15ms/step - loss: 0.0241 - val_loss: 0.0237\n",
      "Epoch 23/100\n",
      "21/21 [==============================] - 0s 13ms/step - loss: 0.0231 - val_loss: 0.0229\n",
      "Epoch 24/100\n",
      "21/21 [==============================] - 0s 14ms/step - loss: 0.0225 - val_loss: 0.0225\n",
      "Epoch 25/100\n",
      "21/21 [==============================] - 0s 15ms/step - loss: 0.0219 - val_loss: 0.0213\n",
      "Epoch 26/100\n",
      "21/21 [==============================] - 0s 17ms/step - loss: 0.0215 - val_loss: 0.0210\n",
      "Epoch 27/100\n",
      "21/21 [==============================] - 0s 12ms/step - loss: 0.0211 - val_loss: 0.0205\n",
      "Epoch 28/100\n",
      "21/21 [==============================] - 0s 12ms/step - loss: 0.0208 - val_loss: 0.0202\n",
      "Epoch 29/100\n",
      "21/21 [==============================] - 0s 17ms/step - loss: 0.0205 - val_loss: 0.0200\n",
      "Epoch 30/100\n",
      "21/21 [==============================] - 0s 16ms/step - loss: 0.0203 - val_loss: 0.0198\n",
      "Epoch 31/100\n",
      "21/21 [==============================] - 0s 14ms/step - loss: 0.0201 - val_loss: 0.0197\n",
      "Epoch 32/100\n",
      "21/21 [==============================] - 0s 14ms/step - loss: 0.0199 - val_loss: 0.0195\n",
      "Epoch 33/100\n",
      "21/21 [==============================] - 0s 16ms/step - loss: 0.0197 - val_loss: 0.0193\n",
      "Epoch 34/100\n",
      "21/21 [==============================] - 0s 15ms/step - loss: 0.0196 - val_loss: 0.0192\n",
      "Epoch 35/100\n",
      "21/21 [==============================] - 0s 17ms/step - loss: 0.0195 - val_loss: 0.0192\n",
      "Epoch 36/100\n",
      "21/21 [==============================] - 0s 14ms/step - loss: 0.0194 - val_loss: 0.0191\n",
      "Epoch 37/100\n",
      "21/21 [==============================] - 0s 18ms/step - loss: 0.0193 - val_loss: 0.0190\n",
      "Epoch 38/100\n",
      "21/21 [==============================] - 0s 15ms/step - loss: 0.0193 - val_loss: 0.0188\n",
      "Epoch 39/100\n",
      "21/21 [==============================] - 0s 16ms/step - loss: 0.0192 - val_loss: 0.0188\n",
      "Epoch 40/100\n",
      "21/21 [==============================] - 0s 14ms/step - loss: 0.0191 - val_loss: 0.0187\n",
      "Epoch 41/100\n",
      "21/21 [==============================] - 0s 17ms/step - loss: 0.0191 - val_loss: 0.0187\n",
      "Epoch 42/100\n",
      "21/21 [==============================] - 0s 14ms/step - loss: 0.0190 - val_loss: 0.0187\n",
      "Epoch 43/100\n",
      "21/21 [==============================] - 0s 15ms/step - loss: 0.0190 - val_loss: 0.0186\n",
      "Epoch 44/100\n",
      "21/21 [==============================] - 0s 14ms/step - loss: 0.0189 - val_loss: 0.0186\n",
      "Epoch 45/100\n",
      "21/21 [==============================] - 0s 15ms/step - loss: 0.0189 - val_loss: 0.0186\n",
      "Epoch 46/100\n",
      "21/21 [==============================] - 0s 17ms/step - loss: 0.0189 - val_loss: 0.0185\n",
      "Epoch 47/100\n",
      "21/21 [==============================] - 0s 13ms/step - loss: 0.0188 - val_loss: 0.0185\n",
      "Epoch 48/100\n",
      "21/21 [==============================] - 0s 12ms/step - loss: 0.0188 - val_loss: 0.0185\n",
      "Epoch 49/100\n",
      "21/21 [==============================] - 0s 11ms/step - loss: 0.0188 - val_loss: 0.0185\n",
      "Epoch 50/100\n",
      "21/21 [==============================] - 0s 12ms/step - loss: 0.0187 - val_loss: 0.0185\n",
      "Epoch 51/100\n",
      "21/21 [==============================] - 0s 14ms/step - loss: 0.0187 - val_loss: 0.0184\n",
      "Epoch 52/100\n",
      "21/21 [==============================] - 0s 16ms/step - loss: 0.0187 - val_loss: 0.0184\n",
      "Epoch 53/100\n",
      "21/21 [==============================] - 0s 14ms/step - loss: 0.0187 - val_loss: 0.0184\n",
      "Epoch 54/100\n",
      "21/21 [==============================] - 0s 15ms/step - loss: 0.0187 - val_loss: 0.0184\n",
      "Epoch 55/100\n",
      "21/21 [==============================] - 0s 14ms/step - loss: 0.0186 - val_loss: 0.0184\n",
      "Epoch 56/100\n",
      "21/21 [==============================] - 0s 14ms/step - loss: 0.0186 - val_loss: 0.0184\n",
      "Epoch 57/100\n",
      "21/21 [==============================] - 0s 12ms/step - loss: 0.0186 - val_loss: 0.0184\n",
      "Epoch 58/100\n",
      "21/21 [==============================] - 0s 14ms/step - loss: 0.0186 - val_loss: 0.0183\n",
      "Epoch 59/100\n",
      "21/21 [==============================] - 0s 12ms/step - loss: 0.0186 - val_loss: 0.0183\n",
      "Epoch 60/100\n",
      "21/21 [==============================] - 0s 13ms/step - loss: 0.0186 - val_loss: 0.0183\n",
      "Epoch 61/100\n",
      "21/21 [==============================] - 0s 10ms/step - loss: 0.0186 - val_loss: 0.0183\n",
      "Epoch 62/100\n",
      "21/21 [==============================] - 0s 11ms/step - loss: 0.0186 - val_loss: 0.0183\n",
      "Epoch 63/100\n",
      "21/21 [==============================] - 0s 11ms/step - loss: 0.0185 - val_loss: 0.0183\n",
      "Epoch 64/100\n",
      "21/21 [==============================] - 0s 11ms/step - loss: 0.0185 - val_loss: 0.0183\n",
      "Epoch 65/100\n",
      "21/21 [==============================] - 0s 11ms/step - loss: 0.0185 - val_loss: 0.0183\n",
      "Epoch 66/100\n",
      "21/21 [==============================] - 0s 11ms/step - loss: 0.0185 - val_loss: 0.0183\n",
      "Epoch 67/100\n",
      "21/21 [==============================] - 0s 12ms/step - loss: 0.0185 - val_loss: 0.0183\n",
      "Epoch 68/100\n",
      "21/21 [==============================] - 0s 12ms/step - loss: 0.0185 - val_loss: 0.0183\n",
      "Epoch 69/100\n",
      "21/21 [==============================] - 0s 13ms/step - loss: 0.0185 - val_loss: 0.0183\n",
      "Epoch 70/100\n",
      "21/21 [==============================] - 0s 14ms/step - loss: 0.0185 - val_loss: 0.0182\n",
      "Epoch 71/100\n",
      "21/21 [==============================] - 0s 12ms/step - loss: 0.0185 - val_loss: 0.0182\n",
      "Epoch 72/100\n",
      "21/21 [==============================] - 0s 11ms/step - loss: 0.0185 - val_loss: 0.0182\n",
      "Epoch 73/100\n",
      "21/21 [==============================] - 0s 12ms/step - loss: 0.0185 - val_loss: 0.0182\n",
      "Epoch 74/100\n",
      "21/21 [==============================] - 0s 10ms/step - loss: 0.0185 - val_loss: 0.0182\n",
      "Epoch 75/100\n",
      "21/21 [==============================] - 0s 12ms/step - loss: 0.0185 - val_loss: 0.0182\n",
      "Epoch 76/100\n",
      "21/21 [==============================] - 0s 11ms/step - loss: 0.0184 - val_loss: 0.0182\n",
      "Epoch 77/100\n",
      "21/21 [==============================] - 0s 11ms/step - loss: 0.0184 - val_loss: 0.0182\n",
      "Epoch 78/100\n",
      "21/21 [==============================] - 0s 12ms/step - loss: 0.0184 - val_loss: 0.0182\n",
      "Epoch 79/100\n",
      "21/21 [==============================] - 0s 11ms/step - loss: 0.0184 - val_loss: 0.0182\n",
      "Epoch 80/100\n",
      "21/21 [==============================] - 0s 12ms/step - loss: 0.0184 - val_loss: 0.0182\n",
      "Epoch 81/100\n",
      "21/21 [==============================] - 0s 10ms/step - loss: 0.0184 - val_loss: 0.0182\n",
      "Epoch 82/100\n",
      "21/21 [==============================] - 0s 11ms/step - loss: 0.0184 - val_loss: 0.0182\n",
      "Epoch 83/100\n",
      "21/21 [==============================] - 0s 11ms/step - loss: 0.0184 - val_loss: 0.0182\n",
      "Epoch 84/100\n",
      "21/21 [==============================] - 0s 11ms/step - loss: 0.0184 - val_loss: 0.0182\n",
      "Epoch 85/100\n",
      "21/21 [==============================] - 0s 11ms/step - loss: 0.0184 - val_loss: 0.0182\n",
      "Epoch 86/100\n",
      "21/21 [==============================] - 0s 11ms/step - loss: 0.0184 - val_loss: 0.0182\n",
      "Epoch 87/100\n",
      "21/21 [==============================] - 0s 11ms/step - loss: 0.0184 - val_loss: 0.0182\n",
      "Epoch 88/100\n",
      "21/21 [==============================] - 0s 11ms/step - loss: 0.0184 - val_loss: 0.0182\n",
      "Epoch 89/100\n",
      "21/21 [==============================] - 0s 11ms/step - loss: 0.0184 - val_loss: 0.0182\n",
      "Epoch 90/100\n",
      "21/21 [==============================] - 0s 11ms/step - loss: 0.0184 - val_loss: 0.0182\n",
      "Epoch 91/100\n",
      "21/21 [==============================] - 0s 11ms/step - loss: 0.0184 - val_loss: 0.0182\n",
      "Epoch 92/100\n",
      "21/21 [==============================] - 0s 11ms/step - loss: 0.0184 - val_loss: 0.0182\n",
      "Epoch 93/100\n",
      "21/21 [==============================] - 0s 11ms/step - loss: 0.0184 - val_loss: 0.0182\n",
      "Epoch 94/100\n",
      "21/21 [==============================] - 0s 11ms/step - loss: 0.0184 - val_loss: 0.0182\n",
      "Epoch 95/100\n",
      "21/21 [==============================] - 0s 11ms/step - loss: 0.0184 - val_loss: 0.0182\n",
      "Epoch 96/100\n",
      "21/21 [==============================] - 0s 10ms/step - loss: 0.0184 - val_loss: 0.0182\n",
      "Epoch 97/100\n",
      "21/21 [==============================] - 0s 11ms/step - loss: 0.0184 - val_loss: 0.0182\n",
      "Epoch 98/100\n",
      "21/21 [==============================] - 0s 12ms/step - loss: 0.0184 - val_loss: 0.0182\n",
      "Epoch 99/100\n",
      "21/21 [==============================] - 0s 11ms/step - loss: 0.0184 - val_loss: 0.0182\n",
      "Epoch 100/100\n",
      "21/21 [==============================] - 0s 11ms/step - loss: 0.0184 - val_loss: 0.0182\n"
     ]
    },
    {
     "data": {
      "text/plain": [
       "<keras.callbacks.History at 0x17d91ac4970>"
      ]
     },
     "execution_count": 183,
     "metadata": {},
     "output_type": "execute_result"
    }
   ],
   "source": [
    "model.fit(X_train, y_train, epochs=100, validation_split=0.2)"
   ]
  },
  {
   "cell_type": "code",
   "execution_count": 184,
   "id": "b91964a1-8764-43aa-bdce-69e2d431d193",
   "metadata": {},
   "outputs": [
    {
     "name": "stdout",
     "output_type": "stream",
     "text": [
      "7/7 [==============================] - 0s 6ms/step - loss: 0.0147\n"
     ]
    },
    {
     "data": {
      "text/plain": [
       "0.014689899049699306"
      ]
     },
     "execution_count": 184,
     "metadata": {},
     "output_type": "execute_result"
    }
   ],
   "source": [
    "model.evaluate(X_test, y_test)"
   ]
  },
  {
   "cell_type": "code",
   "execution_count": 2,
   "id": "e2d2c865-c1f7-464e-beb4-988f3d016786",
   "metadata": {},
   "outputs": [],
   "source": [
    "mnist = tf.keras.datasets.mnist"
   ]
  },
  {
   "cell_type": "code",
   "execution_count": 4,
   "id": "0fdc937c-cb93-4b41-aa9e-a465a4e3b5bc",
   "metadata": {},
   "outputs": [
    {
     "name": "stdout",
     "output_type": "stream",
     "text": [
      "Downloading data from https://storage.googleapis.com/tensorflow/tf-keras-datasets/mnist.npz\n",
      "11490434/11490434 [==============================] - 5s 0us/step\n"
     ]
    }
   ],
   "source": [
    "(X_train, y_train), (X_test, y_test) = mnist.load_data()"
   ]
  },
  {
   "cell_type": "code",
   "execution_count": 5,
   "id": "eab71b87-99e3-46c6-b977-6586edd81af1",
   "metadata": {},
   "outputs": [],
   "source": [
    "X_train, X_test = X_train / 255, X_test / 255.0"
   ]
  },
  {
   "cell_type": "code",
   "execution_count": 26,
   "id": "590fb6b6-9bf0-4e32-a215-594af53c87b3",
   "metadata": {},
   "outputs": [],
   "source": [
    "model = Sequential([\n",
    "    Flatten(input_shape=(28, 28)),\n",
    "    Dense(128, activation=\"relu\"),\n",
    "    Dropout(0.2),\n",
    "    Dense(10),\n",
    "])"
   ]
  },
  {
   "cell_type": "code",
   "execution_count": 27,
   "id": "c18b89f0-8848-405b-9d91-6fe54b0a11e8",
   "metadata": {},
   "outputs": [
    {
     "data": {
      "text/plain": [
       "array([[ 0.5654353 ,  0.06812111, -0.69708675, -0.01568498,  0.5699701 ,\n",
       "        -0.04040892, -0.3178453 ,  0.00785166,  0.19648081, -0.20636703]],\n",
       "      dtype=float32)"
      ]
     },
     "execution_count": 27,
     "metadata": {},
     "output_type": "execute_result"
    }
   ],
   "source": [
    "predictions = model(X_train[:1]).numpy()\n",
    "predictions"
   ]
  },
  {
   "cell_type": "code",
   "execution_count": 28,
   "id": "aa13f3ff-42ed-4a06-8158-68cac42d8b41",
   "metadata": {},
   "outputs": [
    {
     "data": {
      "text/plain": [
       "array([[0.16286159, 0.09904621, 0.04607998, 0.09108384, 0.1636018 ,\n",
       "        0.0888595 , 0.06733095, 0.09325308, 0.11261176, 0.07527126]],\n",
       "      dtype=float32)"
      ]
     },
     "execution_count": 28,
     "metadata": {},
     "output_type": "execute_result"
    }
   ],
   "source": [
    "tf.nn.softmax(predictions).numpy()"
   ]
  },
  {
   "cell_type": "code",
   "execution_count": 29,
   "id": "e0be8b95-a792-462d-84ac-a8e659796043",
   "metadata": {},
   "outputs": [],
   "source": [
    "loss_fn = tf.keras.losses.SparseCategoricalCrossentropy(from_logits=True)"
   ]
  },
  {
   "cell_type": "code",
   "execution_count": 30,
   "id": "16804f86-813e-4a44-9347-55bba93f4b87",
   "metadata": {},
   "outputs": [
    {
     "data": {
      "text/plain": [
       "2.4206986"
      ]
     },
     "execution_count": 30,
     "metadata": {},
     "output_type": "execute_result"
    }
   ],
   "source": [
    "loss_fn(y_train[:1], predictions).numpy()"
   ]
  },
  {
   "cell_type": "code",
   "execution_count": 31,
   "id": "002817ad-54c0-49af-b8a1-afc6f52c1b8c",
   "metadata": {},
   "outputs": [],
   "source": [
    "model.compile(optimizer=\"adam\", loss=loss_fn, metrics=[\"accuracy\"])"
   ]
  },
  {
   "cell_type": "code",
   "execution_count": 33,
   "id": "c30266dd-44eb-4c04-8654-eee99aa24371",
   "metadata": {},
   "outputs": [
    {
     "name": "stdout",
     "output_type": "stream",
     "text": [
      "Epoch 1/10\n",
      "1875/1875 [==============================] - 24s 12ms/step - loss: 0.2923 - accuracy: 0.9148\n",
      "Epoch 2/10\n",
      "1875/1875 [==============================] - 23s 12ms/step - loss: 0.1402 - accuracy: 0.9586\n",
      "Epoch 3/10\n",
      "1875/1875 [==============================] - 23s 12ms/step - loss: 0.1082 - accuracy: 0.9672\n",
      "Epoch 4/10\n",
      "1875/1875 [==============================] - 24s 13ms/step - loss: 0.0858 - accuracy: 0.9735\n",
      "Epoch 5/10\n",
      "1875/1875 [==============================] - 24s 13ms/step - loss: 0.0733 - accuracy: 0.9769\n",
      "Epoch 6/10\n",
      "1875/1875 [==============================] - 23s 12ms/step - loss: 0.0648 - accuracy: 0.9792\n",
      "Epoch 7/10\n",
      "1875/1875 [==============================] - 24s 13ms/step - loss: 0.0579 - accuracy: 0.9805\n",
      "Epoch 8/10\n",
      "1875/1875 [==============================] - 23s 12ms/step - loss: 0.0511 - accuracy: 0.9832\n",
      "Epoch 9/10\n",
      "1875/1875 [==============================] - 22s 12ms/step - loss: 0.0489 - accuracy: 0.9845\n",
      "Epoch 10/10\n",
      "1875/1875 [==============================] - 22s 12ms/step - loss: 0.0433 - accuracy: 0.9860\n"
     ]
    },
    {
     "data": {
      "text/plain": [
       "<keras.callbacks.History at 0x16955ddf7c0>"
      ]
     },
     "execution_count": 33,
     "metadata": {},
     "output_type": "execute_result"
    }
   ],
   "source": [
    "model.fit(X_train, y_train, epochs=10)"
   ]
  },
  {
   "cell_type": "code",
   "execution_count": 36,
   "id": "87850d6a-be60-4070-96e5-7329fbe70131",
   "metadata": {},
   "outputs": [
    {
     "name": "stdout",
     "output_type": "stream",
     "text": [
      "313/313 - 1s - loss: 0.0703 - accuracy: 0.9789 - 1s/epoch - 4ms/step\n"
     ]
    },
    {
     "data": {
      "text/plain": [
       "[0.07027527689933777, 0.9789000749588013]"
      ]
     },
     "execution_count": 36,
     "metadata": {},
     "output_type": "execute_result"
    }
   ],
   "source": [
    "model.evaluate(X_test, y_test, verbose=2)"
   ]
  },
  {
   "cell_type": "code",
   "execution_count": 41,
   "id": "9f732b7b-c511-4eda-bfab-2e24c3a1ac09",
   "metadata": {},
   "outputs": [],
   "source": [
    "predictions = Sequential([\n",
    "    model, tf.keras.layers.Softmax()\n",
    "])"
   ]
  },
  {
   "cell_type": "code",
   "execution_count": 42,
   "id": "f4f8ee5e-8dc5-4db8-8f3f-b861a2898ca4",
   "metadata": {},
   "outputs": [],
   "source": [
    "prediction = predictions(X_train[:5])"
   ]
  },
  {
   "cell_type": "code",
   "execution_count": 45,
   "id": "a7e12dbe-d36a-4f4f-981a-2b21d5658552",
   "metadata": {},
   "outputs": [
    {
     "data": {
      "text/plain": [
       "<tf.Tensor: shape=(5, 10), dtype=float32, numpy=\n",
       "array([[8.7418916e-14, 3.1502252e-11, 7.5430622e-14, 1.9278312e-02,\n",
       "        2.2004169e-26, 9.8072171e-01, 8.6424779e-15, 8.8423312e-13,\n",
       "        2.3121465e-14, 1.1677584e-11],\n",
       "       [9.9999964e-01, 5.5998345e-11, 4.1627010e-07, 1.4710679e-09,\n",
       "        8.9442226e-17, 1.1528281e-09, 2.1874089e-09, 2.3599811e-09,\n",
       "        3.5852265e-12, 1.5798988e-09],\n",
       "       [2.1368203e-14, 9.6745680e-07, 1.3291342e-06, 6.5890593e-10,\n",
       "        9.9999607e-01, 3.8207194e-08, 2.1012889e-11, 3.3537694e-07,\n",
       "        1.8003109e-07, 1.0183006e-06],\n",
       "       [4.9702984e-09, 9.9999881e-01, 1.5185840e-08, 1.9551048e-10,\n",
       "        7.4396851e-08, 3.9580342e-10, 2.2960664e-09, 6.2934339e-07,\n",
       "        4.3004258e-07, 5.8446645e-13],\n",
       "       [1.0373136e-13, 3.0537774e-07, 2.7178577e-11, 3.0439798e-05,\n",
       "        2.5325595e-05, 1.2245444e-09, 4.6136950e-14, 1.0561679e-05,\n",
       "        4.4103672e-06, 9.9992895e-01]], dtype=float32)>"
      ]
     },
     "execution_count": 45,
     "metadata": {},
     "output_type": "execute_result"
    }
   ],
   "source": [
    "prediction"
   ]
  },
  {
   "cell_type": "code",
   "execution_count": null,
   "id": "7a298b9b-02fb-4e8a-aae8-566c6764452d",
   "metadata": {},
   "outputs": [],
   "source": []
  }
 ],
 "metadata": {
  "kernelspec": {
   "display_name": "Python 3 (ipykernel)",
   "language": "python",
   "name": "python3"
  },
  "language_info": {
   "codemirror_mode": {
    "name": "ipython",
    "version": 3
   },
   "file_extension": ".py",
   "mimetype": "text/x-python",
   "name": "python",
   "nbconvert_exporter": "python",
   "pygments_lexer": "ipython3",
   "version": "3.9.18"
  }
 },
 "nbformat": 4,
 "nbformat_minor": 5
}
