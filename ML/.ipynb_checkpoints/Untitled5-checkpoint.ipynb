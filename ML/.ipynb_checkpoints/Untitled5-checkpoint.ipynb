{
 "cells": [
  {
   "cell_type": "code",
   "execution_count": 32,
   "id": "840206db-f749-4940-a427-d9c7b0d45d19",
   "metadata": {},
   "outputs": [],
   "source": [
    "from sklearn.datasets import load_diabetes\n",
    "import optuna\n",
    "from catboost import CatBoostClassifier\n",
    "from sklearn.model_selection import train_test_split\n",
    "from sklearn.metrics import confusion_matrix, accuracy_score\n",
    "import seaborn as sn\n",
    "import pandas as pd"
   ]
  },
  {
   "cell_type": "code",
   "execution_count": 10,
   "id": "a99add08-3c24-445a-a88b-203d2551b5b2",
   "metadata": {},
   "outputs": [
    {
     "data": {
      "text/html": [
       "<div>\n",
       "<style scoped>\n",
       "    .dataframe tbody tr th:only-of-type {\n",
       "        vertical-align: middle;\n",
       "    }\n",
       "\n",
       "    .dataframe tbody tr th {\n",
       "        vertical-align: top;\n",
       "    }\n",
       "\n",
       "    .dataframe thead th {\n",
       "        text-align: right;\n",
       "    }\n",
       "</style>\n",
       "<table border=\"1\" class=\"dataframe\">\n",
       "  <thead>\n",
       "    <tr style=\"text-align: right;\">\n",
       "      <th></th>\n",
       "      <th>age</th>\n",
       "      <th>sex</th>\n",
       "      <th>cp</th>\n",
       "      <th>trestbps</th>\n",
       "      <th>chol</th>\n",
       "      <th>fbs</th>\n",
       "      <th>restecg</th>\n",
       "      <th>thalach</th>\n",
       "      <th>exang</th>\n",
       "      <th>oldpeak</th>\n",
       "      <th>slope</th>\n",
       "      <th>ca</th>\n",
       "      <th>thal</th>\n",
       "      <th>target</th>\n",
       "    </tr>\n",
       "  </thead>\n",
       "  <tbody>\n",
       "    <tr>\n",
       "      <th>0</th>\n",
       "      <td>52</td>\n",
       "      <td>1</td>\n",
       "      <td>0</td>\n",
       "      <td>125</td>\n",
       "      <td>212</td>\n",
       "      <td>0</td>\n",
       "      <td>1</td>\n",
       "      <td>168</td>\n",
       "      <td>0</td>\n",
       "      <td>1.0</td>\n",
       "      <td>2</td>\n",
       "      <td>2</td>\n",
       "      <td>3</td>\n",
       "      <td>0</td>\n",
       "    </tr>\n",
       "    <tr>\n",
       "      <th>1</th>\n",
       "      <td>53</td>\n",
       "      <td>1</td>\n",
       "      <td>0</td>\n",
       "      <td>140</td>\n",
       "      <td>203</td>\n",
       "      <td>1</td>\n",
       "      <td>0</td>\n",
       "      <td>155</td>\n",
       "      <td>1</td>\n",
       "      <td>3.1</td>\n",
       "      <td>0</td>\n",
       "      <td>0</td>\n",
       "      <td>3</td>\n",
       "      <td>0</td>\n",
       "    </tr>\n",
       "    <tr>\n",
       "      <th>2</th>\n",
       "      <td>70</td>\n",
       "      <td>1</td>\n",
       "      <td>0</td>\n",
       "      <td>145</td>\n",
       "      <td>174</td>\n",
       "      <td>0</td>\n",
       "      <td>1</td>\n",
       "      <td>125</td>\n",
       "      <td>1</td>\n",
       "      <td>2.6</td>\n",
       "      <td>0</td>\n",
       "      <td>0</td>\n",
       "      <td>3</td>\n",
       "      <td>0</td>\n",
       "    </tr>\n",
       "    <tr>\n",
       "      <th>3</th>\n",
       "      <td>61</td>\n",
       "      <td>1</td>\n",
       "      <td>0</td>\n",
       "      <td>148</td>\n",
       "      <td>203</td>\n",
       "      <td>0</td>\n",
       "      <td>1</td>\n",
       "      <td>161</td>\n",
       "      <td>0</td>\n",
       "      <td>0.0</td>\n",
       "      <td>2</td>\n",
       "      <td>1</td>\n",
       "      <td>3</td>\n",
       "      <td>0</td>\n",
       "    </tr>\n",
       "    <tr>\n",
       "      <th>4</th>\n",
       "      <td>62</td>\n",
       "      <td>0</td>\n",
       "      <td>0</td>\n",
       "      <td>138</td>\n",
       "      <td>294</td>\n",
       "      <td>1</td>\n",
       "      <td>1</td>\n",
       "      <td>106</td>\n",
       "      <td>0</td>\n",
       "      <td>1.9</td>\n",
       "      <td>1</td>\n",
       "      <td>3</td>\n",
       "      <td>2</td>\n",
       "      <td>0</td>\n",
       "    </tr>\n",
       "  </tbody>\n",
       "</table>\n",
       "</div>"
      ],
      "text/plain": [
       "   age  sex  cp  trestbps  chol  fbs  restecg  thalach  exang  oldpeak  slope  \\\n",
       "0   52    1   0       125   212    0        1      168      0      1.0      2   \n",
       "1   53    1   0       140   203    1        0      155      1      3.1      0   \n",
       "2   70    1   0       145   174    0        1      125      1      2.6      0   \n",
       "3   61    1   0       148   203    0        1      161      0      0.0      2   \n",
       "4   62    0   0       138   294    1        1      106      0      1.9      1   \n",
       "\n",
       "   ca  thal  target  \n",
       "0   2     3       0  \n",
       "1   0     3       0  \n",
       "2   0     3       0  \n",
       "3   1     3       0  \n",
       "4   3     2       0  "
      ]
     },
     "execution_count": 10,
     "metadata": {},
     "output_type": "execute_result"
    }
   ],
   "source": [
    "df = pd.read_csv(\"data/heart.csv\")\n",
    "df.head()"
   ]
  },
  {
   "cell_type": "code",
   "execution_count": 12,
   "id": "af3b0484-74bf-4bd1-aff9-c0fe974ae1c1",
   "metadata": {},
   "outputs": [
    {
     "data": {
      "text/plain": [
       "age         0\n",
       "sex         0\n",
       "cp          0\n",
       "trestbps    0\n",
       "chol        0\n",
       "fbs         0\n",
       "restecg     0\n",
       "thalach     0\n",
       "exang       0\n",
       "oldpeak     0\n",
       "slope       0\n",
       "ca          0\n",
       "thal        0\n",
       "target      0\n",
       "dtype: int64"
      ]
     },
     "execution_count": 12,
     "metadata": {},
     "output_type": "execute_result"
    }
   ],
   "source": [
    "df.isna().sum()"
   ]
  },
  {
   "cell_type": "code",
   "execution_count": 13,
   "id": "fbb79095-bd0e-494b-8d94-25edab751ef6",
   "metadata": {},
   "outputs": [
    {
     "data": {
      "text/plain": [
       "age           int64\n",
       "sex           int64\n",
       "cp            int64\n",
       "trestbps      int64\n",
       "chol          int64\n",
       "fbs           int64\n",
       "restecg       int64\n",
       "thalach       int64\n",
       "exang         int64\n",
       "oldpeak     float64\n",
       "slope         int64\n",
       "ca            int64\n",
       "thal          int64\n",
       "target        int64\n",
       "dtype: object"
      ]
     },
     "execution_count": 13,
     "metadata": {},
     "output_type": "execute_result"
    }
   ],
   "source": [
    "df.dtypes"
   ]
  },
  {
   "cell_type": "code",
   "execution_count": 14,
   "id": "b1598f8e-a2bb-443d-83bf-db0a0891d13a",
   "metadata": {},
   "outputs": [],
   "source": [
    "X = df.drop(\"target\", axis=1)\n",
    "y = df[\"target\"]"
   ]
  },
  {
   "cell_type": "code",
   "execution_count": 47,
   "id": "4252bb0f-95db-47f7-ae6d-f1c3962ff85b",
   "metadata": {},
   "outputs": [],
   "source": [
    "def objective(trial):\n",
    "    X_train, X_valid, y_train, y_valid = train_test_split(X, y, test_size=0.3)\n",
    "\n",
    "    param = {\n",
    "        \"iterations\": trial.suggest_int(\"iterations\", 100, 200),\n",
    "        \"depth\": trial.suggest_int(\"depth\", 1, 10),\n",
    "        \"l2_leaf_reg\": trial.suggest_int(\"l2_leaf_reg\",1, 10),\n",
    "        \"learning_rate\": trial.suggest_float(\"learning_rate\", 0.01, 0.1),\n",
    "    }\n",
    "\n",
    "    cb = CatBoostClassifier(**param, verbose=False, early_stopping_rounds=5)\n",
    "    cb.fit(X_train, y_train, eval_set=(X_valid, y_valid))\n",
    "    accuracy = accuracy_score(y_valid, cb.predict(X_valid))\n",
    "    return accuracy"
   ]
  },
  {
   "cell_type": "code",
   "execution_count": 48,
   "id": "9dba55f6-31cb-4448-8079-9240044427d1",
   "metadata": {},
   "outputs": [
    {
     "name": "stderr",
     "output_type": "stream",
     "text": [
      "[I 2024-04-22 12:41:47,769] A new study created in memory with name: no-name-993bcc6a-f9be-4736-9f68-9dd70d19ad44\n"
     ]
    }
   ],
   "source": [
    "study = optuna.create_study(direction=\"maximize\")"
   ]
  },
  {
   "cell_type": "code",
   "execution_count": 55,
   "id": "91b3b96f-8d54-49f6-944c-89eb266a2f3c",
   "metadata": {},
   "outputs": [
    {
     "data": {
      "application/vnd.jupyter.widget-view+json": {
       "model_id": "468829ad39704112bbd016251736437c",
       "version_major": 2,
       "version_minor": 0
      },
      "text/plain": [
       "  0%|          | 0/100 [00:00<?, ?it/s]"
      ]
     },
     "metadata": {},
     "output_type": "display_data"
    },
    {
     "name": "stdout",
     "output_type": "stream",
     "text": [
      "[I 2024-04-22 12:56:44,953] Trial 100 finished with value: 0.9188311688311688 and parameters: {'iterations': 157, 'depth': 5, 'l2_leaf_reg': 9, 'learning_rate': 0.09996168615882928}. Best is trial 34 with value: 1.0.\n",
      "[I 2024-04-22 12:56:45,527] Trial 101 finished with value: 0.9675324675324676 and parameters: {'iterations': 152, 'depth': 9, 'l2_leaf_reg': 6, 'learning_rate': 0.09414244135232396}. Best is trial 34 with value: 1.0.\n",
      "[I 2024-04-22 12:56:46,137] Trial 102 finished with value: 0.9772727272727273 and parameters: {'iterations': 160, 'depth': 9, 'l2_leaf_reg': 4, 'learning_rate': 0.09073710833825714}. Best is trial 34 with value: 1.0.\n",
      "[I 2024-04-22 12:56:47,153] Trial 103 finished with value: 0.987012987012987 and parameters: {'iterations': 155, 'depth': 10, 'l2_leaf_reg': 6, 'learning_rate': 0.09323219215707997}. Best is trial 34 with value: 1.0.\n",
      "[I 2024-04-22 12:56:48,122] Trial 104 finished with value: 0.974025974025974 and parameters: {'iterations': 144, 'depth': 10, 'l2_leaf_reg': 7, 'learning_rate': 0.0977583170821964}. Best is trial 34 with value: 1.0.\n",
      "[I 2024-04-22 12:56:48,604] Trial 105 finished with value: 0.9707792207792207 and parameters: {'iterations': 133, 'depth': 9, 'l2_leaf_reg': 6, 'learning_rate': 0.09568918368879442}. Best is trial 34 with value: 1.0.\n",
      "[I 2024-04-22 12:56:49,576] Trial 106 finished with value: 0.974025974025974 and parameters: {'iterations': 147, 'depth': 10, 'l2_leaf_reg': 7, 'learning_rate': 0.08758872241010728}. Best is trial 34 with value: 1.0.\n",
      "[I 2024-04-22 12:56:49,952] Trial 107 finished with value: 0.9837662337662337 and parameters: {'iterations': 169, 'depth': 8, 'l2_leaf_reg': 5, 'learning_rate': 0.09178619890607448}. Best is trial 34 with value: 1.0.\n",
      "[I 2024-04-22 12:56:50,555] Trial 108 finished with value: 0.9707792207792207 and parameters: {'iterations': 165, 'depth': 9, 'l2_leaf_reg': 8, 'learning_rate': 0.09748726406978139}. Best is trial 34 with value: 1.0.\n",
      "[I 2024-04-22 12:56:51,423] Trial 109 finished with value: 0.9805194805194806 and parameters: {'iterations': 126, 'depth': 10, 'l2_leaf_reg': 7, 'learning_rate': 0.0950181084383368}. Best is trial 34 with value: 1.0.\n",
      "[I 2024-04-22 12:56:52,453] Trial 110 finished with value: 0.974025974025974 and parameters: {'iterations': 142, 'depth': 10, 'l2_leaf_reg': 10, 'learning_rate': 0.06453906418275672}. Best is trial 34 with value: 1.0.\n",
      "[I 2024-04-22 12:56:53,723] Trial 111 finished with value: 0.9805194805194806 and parameters: {'iterations': 192, 'depth': 10, 'l2_leaf_reg': 7, 'learning_rate': 0.0999848815862381}. Best is trial 34 with value: 1.0.\n",
      "[I 2024-04-22 12:56:54,988] Trial 112 finished with value: 0.974025974025974 and parameters: {'iterations': 193, 'depth': 10, 'l2_leaf_reg': 7, 'learning_rate': 0.09758240519239172}. Best is trial 34 with value: 1.0.\n",
      "[I 2024-04-22 12:56:56,271] Trial 113 finished with value: 0.9805194805194806 and parameters: {'iterations': 184, 'depth': 10, 'l2_leaf_reg': 6, 'learning_rate': 0.09285714775461633}. Best is trial 34 with value: 1.0.\n",
      "[I 2024-04-22 12:56:56,912] Trial 114 finished with value: 0.961038961038961 and parameters: {'iterations': 190, 'depth': 9, 'l2_leaf_reg': 8, 'learning_rate': 0.05622532701727647}. Best is trial 34 with value: 1.0.\n",
      "[I 2024-04-22 12:56:58,242] Trial 115 finished with value: 0.9935064935064936 and parameters: {'iterations': 188, 'depth': 10, 'l2_leaf_reg': 7, 'learning_rate': 0.09985917136212667}. Best is trial 34 with value: 1.0.\n",
      "[I 2024-04-22 12:56:59,226] Trial 116 finished with value: 0.9383116883116883 and parameters: {'iterations': 158, 'depth': 10, 'l2_leaf_reg': 8, 'learning_rate': 0.051102681680259755}. Best is trial 34 with value: 1.0.\n",
      "[I 2024-04-22 12:56:59,930] Trial 117 finished with value: 0.974025974025974 and parameters: {'iterations': 197, 'depth': 9, 'l2_leaf_reg': 7, 'learning_rate': 0.09012032321113878}. Best is trial 34 with value: 1.0.\n",
      "[I 2024-04-22 12:57:00,179] Trial 118 finished with value: 0.9415584415584416 and parameters: {'iterations': 152, 'depth': 7, 'l2_leaf_reg': 9, 'learning_rate': 0.0957824181403449}. Best is trial 34 with value: 1.0.\n",
      "[I 2024-04-22 12:57:01,498] Trial 119 finished with value: 0.9902597402597403 and parameters: {'iterations': 188, 'depth': 10, 'l2_leaf_reg': 10, 'learning_rate': 0.09746156667305693}. Best is trial 34 with value: 1.0.\n",
      "[I 2024-04-22 12:57:02,293] Trial 120 finished with value: 0.9805194805194806 and parameters: {'iterations': 113, 'depth': 10, 'l2_leaf_reg': 2, 'learning_rate': 0.09983321825277909}. Best is trial 34 with value: 1.0.\n",
      "[I 2024-04-22 12:57:03,487] Trial 121 finished with value: 0.9837662337662337 and parameters: {'iterations': 177, 'depth': 10, 'l2_leaf_reg': 7, 'learning_rate': 0.09466510689253124}. Best is trial 34 with value: 1.0.\n",
      "[I 2024-04-22 12:57:04,716] Trial 122 finished with value: 0.9902597402597403 and parameters: {'iterations': 187, 'depth': 10, 'l2_leaf_reg': 7, 'learning_rate': 0.09798777019293782}. Best is trial 34 with value: 1.0.\n",
      "[I 2024-04-22 12:57:05,599] Trial 123 finished with value: 0.9675324675324676 and parameters: {'iterations': 135, 'depth': 10, 'l2_leaf_reg': 7, 'learning_rate': 0.09860330853489267}. Best is trial 34 with value: 1.0.\n",
      "[I 2024-04-22 12:57:06,266] Trial 124 finished with value: 0.9805194805194806 and parameters: {'iterations': 191, 'depth': 9, 'l2_leaf_reg': 6, 'learning_rate': 0.09603324994159504}. Best is trial 34 with value: 1.0.\n",
      "[I 2024-04-22 12:57:07,375] Trial 125 finished with value: 0.987012987012987 and parameters: {'iterations': 161, 'depth': 10, 'l2_leaf_reg': 8, 'learning_rate': 0.09258178806554683}. Best is trial 34 with value: 1.0.\n",
      "[I 2024-04-22 12:57:08,610] Trial 126 finished with value: 1.0 and parameters: {'iterations': 183, 'depth': 10, 'l2_leaf_reg': 7, 'learning_rate': 0.09990340286143873}. Best is trial 34 with value: 1.0.\n",
      "[I 2024-04-22 12:57:09,847] Trial 127 finished with value: 0.9837662337662337 and parameters: {'iterations': 185, 'depth': 10, 'l2_leaf_reg': 8, 'learning_rate': 0.09437038796529285}. Best is trial 34 with value: 1.0.\n",
      "[I 2024-04-22 12:57:10,957] Trial 128 finished with value: 0.9935064935064936 and parameters: {'iterations': 163, 'depth': 10, 'l2_leaf_reg': 6, 'learning_rate': 0.08944320312790963}. Best is trial 34 with value: 1.0.\n",
      "[I 2024-04-22 12:57:12,004] Trial 129 finished with value: 0.9805194805194806 and parameters: {'iterations': 163, 'depth': 10, 'l2_leaf_reg': 7, 'learning_rate': 0.07018806921443525}. Best is trial 34 with value: 1.0.\n",
      "[I 2024-04-22 12:57:13,225] Trial 130 finished with value: 0.9805194805194806 and parameters: {'iterations': 182, 'depth': 10, 'l2_leaf_reg': 9, 'learning_rate': 0.08994163141324914}. Best is trial 34 with value: 1.0.\n",
      "[I 2024-04-22 12:57:14,355] Trial 131 finished with value: 0.9772727272727273 and parameters: {'iterations': 155, 'depth': 10, 'l2_leaf_reg': 6, 'learning_rate': 0.09725633712860529}. Best is trial 34 with value: 1.0.\n",
      "[I 2024-04-22 12:57:15,535] Trial 132 finished with value: 0.9415584415584416 and parameters: {'iterations': 159, 'depth': 10, 'l2_leaf_reg': 6, 'learning_rate': 0.09976161267700134}. Best is trial 34 with value: 1.0.\n",
      "[I 2024-04-22 12:57:16,188] Trial 133 finished with value: 0.9902597402597403 and parameters: {'iterations': 167, 'depth': 9, 'l2_leaf_reg': 5, 'learning_rate': 0.0914254709733271}. Best is trial 34 with value: 1.0.\n",
      "[I 2024-04-22 12:57:17,595] Trial 134 finished with value: 0.9902597402597403 and parameters: {'iterations': 173, 'depth': 10, 'l2_leaf_reg': 6, 'learning_rate': 0.09387322332154961}. Best is trial 34 with value: 1.0.\n",
      "[I 2024-04-22 12:57:18,133] Trial 135 finished with value: 0.9902597402597403 and parameters: {'iterations': 131, 'depth': 9, 'l2_leaf_reg': 7, 'learning_rate': 0.09577805337493978}. Best is trial 34 with value: 1.0.\n",
      "[I 2024-04-22 12:57:19,290] Trial 136 finished with value: 0.9935064935064936 and parameters: {'iterations': 157, 'depth': 10, 'l2_leaf_reg': 7, 'learning_rate': 0.08847386068093153}. Best is trial 34 with value: 1.0.\n",
      "[I 2024-04-22 12:57:20,521] Trial 137 finished with value: 0.9805194805194806 and parameters: {'iterations': 157, 'depth': 10, 'l2_leaf_reg': 7, 'learning_rate': 0.08747706440698769}. Best is trial 34 with value: 1.0.\n",
      "[I 2024-04-22 12:57:21,795] Trial 138 finished with value: 0.9772727272727273 and parameters: {'iterations': 150, 'depth': 10, 'l2_leaf_reg': 7, 'learning_rate': 0.0826557604219518}. Best is trial 34 with value: 1.0.\n",
      "[I 2024-04-22 12:57:23,106] Trial 139 finished with value: 0.9512987012987013 and parameters: {'iterations': 164, 'depth': 10, 'l2_leaf_reg': 8, 'learning_rate': 0.08510295963965903}. Best is trial 34 with value: 1.0.\n",
      "[I 2024-04-22 12:57:24,325] Trial 140 finished with value: 0.974025974025974 and parameters: {'iterations': 178, 'depth': 10, 'l2_leaf_reg': 10, 'learning_rate': 0.05870732717089927}. Best is trial 34 with value: 1.0.\n",
      "[I 2024-04-22 12:57:25,387] Trial 141 finished with value: 0.9837662337662337 and parameters: {'iterations': 153, 'depth': 10, 'l2_leaf_reg': 7, 'learning_rate': 0.07711617763206619}. Best is trial 34 with value: 1.0.\n",
      "[I 2024-04-22 12:57:26,496] Trial 142 finished with value: 0.9935064935064936 and parameters: {'iterations': 160, 'depth': 10, 'l2_leaf_reg': 6, 'learning_rate': 0.08859467622972261}. Best is trial 34 with value: 1.0.\n",
      "[I 2024-04-22 12:57:27,527] Trial 143 finished with value: 0.9675324675324676 and parameters: {'iterations': 160, 'depth': 10, 'l2_leaf_reg': 7, 'learning_rate': 0.08960519790514404}. Best is trial 34 with value: 1.0.\n",
      "[I 2024-04-22 12:57:28,621] Trial 144 finished with value: 0.9902597402597403 and parameters: {'iterations': 162, 'depth': 10, 'l2_leaf_reg': 6, 'learning_rate': 0.08034360085271568}. Best is trial 34 with value: 1.0.\n",
      "[I 2024-04-22 12:57:29,917] Trial 145 finished with value: 0.974025974025974 and parameters: {'iterations': 195, 'depth': 10, 'l2_leaf_reg': 8, 'learning_rate': 0.099976369422907}. Best is trial 34 with value: 1.0.\n",
      "[I 2024-04-22 12:57:31,026] Trial 146 finished with value: 0.9935064935064936 and parameters: {'iterations': 166, 'depth': 10, 'l2_leaf_reg': 7, 'learning_rate': 0.09717613348430765}. Best is trial 34 with value: 1.0.\n",
      "[I 2024-04-22 12:57:32,198] Trial 147 finished with value: 0.974025974025974 and parameters: {'iterations': 182, 'depth': 10, 'l2_leaf_reg': 10, 'learning_rate': 0.09178293180712763}. Best is trial 34 with value: 1.0.\n",
      "[I 2024-04-22 12:57:33,276] Trial 148 finished with value: 0.987012987012987 and parameters: {'iterations': 168, 'depth': 10, 'l2_leaf_reg': 9, 'learning_rate': 0.0881118723142584}. Best is trial 34 with value: 1.0.\n",
      "[I 2024-04-22 12:57:33,432] Trial 149 finished with value: 0.922077922077922 and parameters: {'iterations': 171, 'depth': 4, 'l2_leaf_reg': 7, 'learning_rate': 0.09649998823452258}. Best is trial 34 with value: 1.0.\n",
      "[I 2024-04-22 12:57:34,010] Trial 150 finished with value: 0.9707792207792207 and parameters: {'iterations': 165, 'depth': 9, 'l2_leaf_reg': 5, 'learning_rate': 0.05386707915944057}. Best is trial 34 with value: 1.0.\n",
      "[I 2024-04-22 12:57:35,088] Trial 151 finished with value: 0.9805194805194806 and parameters: {'iterations': 161, 'depth': 10, 'l2_leaf_reg': 7, 'learning_rate': 0.09714948604285831}. Best is trial 34 with value: 1.0.\n",
      "[I 2024-04-22 12:57:36,135] Trial 152 finished with value: 0.9707792207792207 and parameters: {'iterations': 157, 'depth': 10, 'l2_leaf_reg': 7, 'learning_rate': 0.09830961579491965}. Best is trial 34 with value: 1.0.\n",
      "[I 2024-04-22 12:57:37,338] Trial 153 finished with value: 0.9902597402597403 and parameters: {'iterations': 189, 'depth': 10, 'l2_leaf_reg': 7, 'learning_rate': 0.07303014880850718}. Best is trial 34 with value: 1.0.\n",
      "[I 2024-04-22 12:57:38,259] Trial 154 finished with value: 0.9837662337662337 and parameters: {'iterations': 135, 'depth': 10, 'l2_leaf_reg': 6, 'learning_rate': 0.09503418454982046}. Best is trial 34 with value: 1.0.\n",
      "[I 2024-04-22 12:57:39,071] Trial 155 finished with value: 0.9512987012987013 and parameters: {'iterations': 127, 'depth': 10, 'l2_leaf_reg': 7, 'learning_rate': 0.09273099295675938}. Best is trial 34 with value: 1.0.\n",
      "[I 2024-04-22 12:57:39,196] Trial 156 finished with value: 0.8506493506493507 and parameters: {'iterations': 163, 'depth': 1, 'l2_leaf_reg': 7, 'learning_rate': 0.09765996834533942}. Best is trial 34 with value: 1.0.\n",
      "[I 2024-04-22 12:57:40,165] Trial 157 finished with value: 0.9415584415584416 and parameters: {'iterations': 159, 'depth': 10, 'l2_leaf_reg': 6, 'learning_rate': 0.011948677891764181}. Best is trial 34 with value: 1.0.\n",
      "[I 2024-04-22 12:57:40,696] Trial 158 finished with value: 0.974025974025974 and parameters: {'iterations': 154, 'depth': 9, 'l2_leaf_reg': 8, 'learning_rate': 0.0954259131803913}. Best is trial 34 with value: 1.0.\n",
      "[I 2024-04-22 12:57:41,618] Trial 159 finished with value: 1.0 and parameters: {'iterations': 140, 'depth': 10, 'l2_leaf_reg': 7, 'learning_rate': 0.09996153243394648}. Best is trial 34 with value: 1.0.\n",
      "[I 2024-04-22 12:57:42,508] Trial 160 finished with value: 0.9642857142857143 and parameters: {'iterations': 137, 'depth': 10, 'l2_leaf_reg': 8, 'learning_rate': 0.06795261875571329}. Best is trial 34 with value: 1.0.\n",
      "[I 2024-04-22 12:57:43,414] Trial 161 finished with value: 0.961038961038961 and parameters: {'iterations': 134, 'depth': 10, 'l2_leaf_reg': 7, 'learning_rate': 0.09860114627017155}. Best is trial 34 with value: 1.0.\n",
      "[I 2024-04-22 12:57:44,414] Trial 162 finished with value: 0.961038961038961 and parameters: {'iterations': 150, 'depth': 10, 'l2_leaf_reg': 7, 'learning_rate': 0.0999072546482014}. Best is trial 34 with value: 1.0.\n",
      "[I 2024-04-22 12:57:45,351] Trial 163 finished with value: 0.9707792207792207 and parameters: {'iterations': 141, 'depth': 10, 'l2_leaf_reg': 7, 'learning_rate': 0.09603663785152958}. Best is trial 34 with value: 1.0.\n",
      "[I 2024-04-22 12:57:46,257] Trial 164 finished with value: 0.9577922077922078 and parameters: {'iterations': 138, 'depth': 10, 'l2_leaf_reg': 7, 'learning_rate': 0.09367621710661535}. Best is trial 34 with value: 1.0.\n",
      "[I 2024-04-22 12:57:47,132] Trial 165 finished with value: 0.9512987012987013 and parameters: {'iterations': 130, 'depth': 10, 'l2_leaf_reg': 10, 'learning_rate': 0.09808918622389452}. Best is trial 34 with value: 1.0.\n",
      "[I 2024-04-22 12:57:47,991] Trial 166 finished with value: 0.987012987012987 and parameters: {'iterations': 139, 'depth': 10, 'l2_leaf_reg': 7, 'learning_rate': 0.05613455050646126}. Best is trial 34 with value: 1.0.\n",
      "[I 2024-04-22 12:57:48,460] Trial 167 finished with value: 0.961038961038961 and parameters: {'iterations': 132, 'depth': 9, 'l2_leaf_reg': 6, 'learning_rate': 0.06317409448292312}. Best is trial 34 with value: 1.0.\n",
      "[I 2024-04-22 12:57:49,491] Trial 168 finished with value: 0.9935064935064936 and parameters: {'iterations': 157, 'depth': 10, 'l2_leaf_reg': 8, 'learning_rate': 0.09656493678012631}. Best is trial 34 with value: 1.0.\n",
      "[I 2024-04-22 12:57:50,584] Trial 169 finished with value: 0.9675324675324676 and parameters: {'iterations': 166, 'depth': 10, 'l2_leaf_reg': 8, 'learning_rate': 0.09276551030101503}. Best is trial 34 with value: 1.0.\n",
      "[I 2024-04-22 12:57:51,662] Trial 170 finished with value: 0.9545454545454546 and parameters: {'iterations': 158, 'depth': 10, 'l2_leaf_reg': 8, 'learning_rate': 0.09091180441155892}. Best is trial 34 with value: 1.0.\n",
      "[I 2024-04-22 12:57:52,693] Trial 171 finished with value: 0.9837662337662337 and parameters: {'iterations': 157, 'depth': 10, 'l2_leaf_reg': 8, 'learning_rate': 0.09996696240739042}. Best is trial 34 with value: 1.0.\n",
      "[I 2024-04-22 12:57:53,724] Trial 172 finished with value: 0.9902597402597403 and parameters: {'iterations': 161, 'depth': 10, 'l2_leaf_reg': 7, 'learning_rate': 0.09650241143483976}. Best is trial 34 with value: 1.0.\n",
      "[I 2024-04-22 12:57:54,740] Trial 173 finished with value: 0.9837662337662337 and parameters: {'iterations': 155, 'depth': 10, 'l2_leaf_reg': 9, 'learning_rate': 0.09802736452744723}. Best is trial 34 with value: 1.0.\n",
      "[I 2024-04-22 12:57:55,989] Trial 174 finished with value: 1.0 and parameters: {'iterations': 186, 'depth': 10, 'l2_leaf_reg': 8, 'learning_rate': 0.0944256065156209}. Best is trial 34 with value: 1.0.\n",
      "[I 2024-04-22 12:57:57,083] Trial 175 finished with value: 0.9448051948051948 and parameters: {'iterations': 186, 'depth': 10, 'l2_leaf_reg': 8, 'learning_rate': 0.032013216495075554}. Best is trial 34 with value: 1.0.\n",
      "[I 2024-04-22 12:57:58,286] Trial 176 finished with value: 0.974025974025974 and parameters: {'iterations': 184, 'depth': 10, 'l2_leaf_reg': 8, 'learning_rate': 0.09451055497243474}. Best is trial 34 with value: 1.0.\n",
      "[I 2024-04-22 12:57:59,504] Trial 177 finished with value: 0.9772727272727273 and parameters: {'iterations': 190, 'depth': 10, 'l2_leaf_reg': 9, 'learning_rate': 0.09625079642042633}. Best is trial 34 with value: 1.0.\n",
      "[I 2024-04-22 12:58:00,129] Trial 178 finished with value: 0.9318181818181818 and parameters: {'iterations': 187, 'depth': 9, 'l2_leaf_reg': 9, 'learning_rate': 0.08905235366186588}. Best is trial 34 with value: 1.0.\n",
      "[I 2024-04-22 12:58:01,207] Trial 179 finished with value: 0.9935064935064936 and parameters: {'iterations': 164, 'depth': 10, 'l2_leaf_reg': 8, 'learning_rate': 0.08674492325570773}. Best is trial 34 with value: 1.0.\n",
      "[I 2024-04-22 12:58:02,254] Trial 180 finished with value: 0.974025974025974 and parameters: {'iterations': 163, 'depth': 10, 'l2_leaf_reg': 8, 'learning_rate': 0.08553966445142062}. Best is trial 34 with value: 1.0.\n",
      "[I 2024-04-22 12:58:03,316] Trial 181 finished with value: 0.9967532467532467 and parameters: {'iterations': 165, 'depth': 10, 'l2_leaf_reg': 8, 'learning_rate': 0.08691642400104113}. Best is trial 34 with value: 1.0.\n",
      "[I 2024-04-22 12:58:04,394] Trial 182 finished with value: 0.987012987012987 and parameters: {'iterations': 167, 'depth': 10, 'l2_leaf_reg': 8, 'learning_rate': 0.08353556882165374}. Best is trial 34 with value: 1.0.\n",
      "[I 2024-04-22 12:58:04,597] Trial 183 finished with value: 0.948051948051948 and parameters: {'iterations': 170, 'depth': 6, 'l2_leaf_reg': 8, 'learning_rate': 0.08666307891699714}. Best is trial 34 with value: 1.0.\n",
      "[I 2024-04-22 12:58:05,675] Trial 184 finished with value: 0.9675324675324676 and parameters: {'iterations': 165, 'depth': 10, 'l2_leaf_reg': 8, 'learning_rate': 0.08143381892589634}. Best is trial 34 with value: 1.0.\n",
      "[I 2024-04-22 12:58:06,706] Trial 185 finished with value: 0.9902597402597403 and parameters: {'iterations': 160, 'depth': 10, 'l2_leaf_reg': 7, 'learning_rate': 0.08824026313473822}. Best is trial 34 with value: 1.0.\n",
      "[I 2024-04-22 12:58:07,737] Trial 186 finished with value: 0.9805194805194806 and parameters: {'iterations': 164, 'depth': 10, 'l2_leaf_reg': 10, 'learning_rate': 0.09038203879312957}. Best is trial 34 with value: 1.0.\n",
      "[I 2024-04-22 12:58:08,814] Trial 187 finished with value: 0.9512987012987013 and parameters: {'iterations': 162, 'depth': 10, 'l2_leaf_reg': 8, 'learning_rate': 0.09797339412682347}. Best is trial 34 with value: 1.0.\n",
      "[I 2024-04-22 12:58:09,908] Trial 188 finished with value: 0.9512987012987013 and parameters: {'iterations': 168, 'depth': 10, 'l2_leaf_reg': 9, 'learning_rate': 0.0944273057430274}. Best is trial 34 with value: 1.0.\n",
      "[I 2024-04-22 12:58:10,033] Trial 189 finished with value: 0.8896103896103896 and parameters: {'iterations': 159, 'depth': 2, 'l2_leaf_reg': 7, 'learning_rate': 0.052130168233182}. Best is trial 34 with value: 1.0.\n",
      "[I 2024-04-22 12:58:11,236] Trial 190 finished with value: 0.9935064935064936 and parameters: {'iterations': 184, 'depth': 10, 'l2_leaf_reg': 10, 'learning_rate': 0.0841407790329034}. Best is trial 34 with value: 1.0.\n",
      "[I 2024-04-22 12:58:12,407] Trial 191 finished with value: 0.9675324675324676 and parameters: {'iterations': 182, 'depth': 10, 'l2_leaf_reg': 10, 'learning_rate': 0.08381662945499817}. Best is trial 34 with value: 1.0.\n",
      "[I 2024-04-22 12:58:13,626] Trial 192 finished with value: 0.9805194805194806 and parameters: {'iterations': 184, 'depth': 10, 'l2_leaf_reg': 10, 'learning_rate': 0.08700797470842489}. Best is trial 34 with value: 1.0.\n",
      "[I 2024-04-22 12:58:14,860] Trial 193 finished with value: 1.0 and parameters: {'iterations': 187, 'depth': 10, 'l2_leaf_reg': 10, 'learning_rate': 0.08462272983060609}. Best is trial 34 with value: 1.0.\n",
      "[I 2024-04-22 12:58:16,110] Trial 194 finished with value: 0.987012987012987 and parameters: {'iterations': 188, 'depth': 10, 'l2_leaf_reg': 10, 'learning_rate': 0.08442797092238098}. Best is trial 34 with value: 1.0.\n",
      "[I 2024-04-22 12:58:17,281] Trial 195 finished with value: 0.987012987012987 and parameters: {'iterations': 179, 'depth': 10, 'l2_leaf_reg': 10, 'learning_rate': 0.08235694804305566}. Best is trial 34 with value: 1.0.\n",
      "[I 2024-04-22 12:58:18,547] Trial 196 finished with value: 0.974025974025974 and parameters: {'iterations': 193, 'depth': 10, 'l2_leaf_reg': 10, 'learning_rate': 0.0860944127546351}. Best is trial 34 with value: 1.0.\n",
      "[I 2024-04-22 12:58:19,765] Trial 197 finished with value: 0.974025974025974 and parameters: {'iterations': 185, 'depth': 10, 'l2_leaf_reg': 10, 'learning_rate': 0.08896221690777016}. Best is trial 34 with value: 1.0.\n",
      "[I 2024-04-22 12:58:20,952] Trial 198 finished with value: 0.9707792207792207 and parameters: {'iterations': 189, 'depth': 10, 'l2_leaf_reg': 10, 'learning_rate': 0.04955754891278812}. Best is trial 34 with value: 1.0.\n",
      "[I 2024-04-22 12:58:22,171] Trial 199 finished with value: 0.9902597402597403 and parameters: {'iterations': 191, 'depth': 10, 'l2_leaf_reg': 10, 'learning_rate': 0.09162536972050381}. Best is trial 34 with value: 1.0.\n"
     ]
    }
   ],
   "source": [
    "study.optimize(func=objective, n_trials=100, show_progress_bar=True)"
   ]
  },
  {
   "cell_type": "code",
   "execution_count": 56,
   "id": "26922c2e-24ed-41e8-b478-878701b1da6c",
   "metadata": {},
   "outputs": [
    {
     "data": {
      "text/plain": [
       "{'iterations': 186,\n",
       " 'depth': 10,\n",
       " 'l2_leaf_reg': 10,\n",
       " 'learning_rate': 0.06306228303570868}"
      ]
     },
     "execution_count": 56,
     "metadata": {},
     "output_type": "execute_result"
    }
   ],
   "source": [
    "study.best_params"
   ]
  },
  {
   "cell_type": "code",
   "execution_count": 57,
   "id": "1cd0a858-a820-463e-8d92-f6b8ff29193f",
   "metadata": {},
   "outputs": [
    {
     "data": {
      "text/plain": [
       "1.0"
      ]
     },
     "execution_count": 57,
     "metadata": {},
     "output_type": "execute_result"
    }
   ],
   "source": [
    "study.best_value"
   ]
  },
  {
   "cell_type": "code",
   "execution_count": 58,
   "id": "a5976918-70b2-426d-8c14-7e37aa955b94",
   "metadata": {},
   "outputs": [
    {
     "data": {
      "application/vnd.plotly.v1+json": {
       "config": {
        "plotlyServerURL": "https://plot.ly"
       },
       "data": [
        {
         "mode": "markers",
         "name": "Objective Value",
         "type": "scatter",
         "x": [
          0,
          1,
          2,
          3,
          4,
          5,
          6,
          7,
          8,
          9,
          10,
          11,
          12,
          13,
          14,
          15,
          16,
          17,
          18,
          19,
          20,
          21,
          22,
          23,
          24,
          25,
          26,
          27,
          28,
          29,
          30,
          31,
          32,
          33,
          34,
          35,
          36,
          37,
          38,
          39,
          40,
          41,
          42,
          43,
          44,
          45,
          46,
          47,
          48,
          49,
          50,
          51,
          52,
          53,
          54,
          55,
          56,
          57,
          58,
          59,
          60,
          61,
          62,
          63,
          64,
          65,
          66,
          67,
          68,
          69,
          70,
          71,
          72,
          73,
          74,
          75,
          76,
          77,
          78,
          79,
          80,
          81,
          82,
          83,
          84,
          85,
          86,
          87,
          88,
          89,
          90,
          91,
          92,
          93,
          94,
          95,
          96,
          97,
          98,
          99,
          100,
          101,
          102,
          103,
          104,
          105,
          106,
          107,
          108,
          109,
          110,
          111,
          112,
          113,
          114,
          115,
          116,
          117,
          118,
          119,
          120,
          121,
          122,
          123,
          124,
          125,
          126,
          127,
          128,
          129,
          130,
          131,
          132,
          133,
          134,
          135,
          136,
          137,
          138,
          139,
          140,
          141,
          142,
          143,
          144,
          145,
          146,
          147,
          148,
          149,
          150,
          151,
          152,
          153,
          154,
          155,
          156,
          157,
          158,
          159,
          160,
          161,
          162,
          163,
          164,
          165,
          166,
          167,
          168,
          169,
          170,
          171,
          172,
          173,
          174,
          175,
          176,
          177,
          178,
          179,
          180,
          181,
          182,
          183,
          184,
          185,
          186,
          187,
          188,
          189,
          190,
          191,
          192,
          193,
          194,
          195,
          196,
          197,
          198,
          199
         ],
         "y": [
          0.8831168831168831,
          0.8993506493506493,
          0.8571428571428571,
          0.9253246753246753,
          0.8896103896103896,
          0.8474025974025974,
          0.8928571428571429,
          0.9123376623376623,
          0.8571428571428571,
          0.9415584415584416,
          0.974025974025974,
          0.9902597402597403,
          0.974025974025974,
          0.9642857142857143,
          0.974025974025974,
          0.9805194805194806,
          0.948051948051948,
          0.9707792207792207,
          0.9675324675324676,
          0.9577922077922078,
          0.9902597402597403,
          0.9772727272727273,
          0.974025974025974,
          0.9448051948051948,
          0.9935064935064936,
          0.9512987012987013,
          0.961038961038961,
          0.9545454545454546,
          0.9090909090909091,
          0.9188311688311688,
          0.9318181818181818,
          0.9805194805194806,
          0.9448051948051948,
          0.9642857142857143,
          1,
          0.9707792207792207,
          0.9707792207792207,
          0.9805194805194806,
          0.8668831168831169,
          0.8928571428571429,
          0.9090909090909091,
          0.922077922077922,
          0.9805194805194806,
          0.9577922077922078,
          0.961038961038961,
          0.9642857142857143,
          0.9577922077922078,
          0.9837662337662337,
          0.9512987012987013,
          0.9448051948051948,
          0.9512987012987013,
          0.9383116883116883,
          0.9707792207792207,
          0.9707792207792207,
          0.974025974025974,
          0.974025974025974,
          0.935064935064935,
          0.9285714285714286,
          0.948051948051948,
          0.9415584415584416,
          0.9837662337662337,
          0.961038961038961,
          0.9967532467532467,
          0.9902597402597403,
          0.9642857142857143,
          0.9772727272727273,
          0.9545454545454546,
          0.9935064935064936,
          0.9642857142857143,
          0.9642857142857143,
          0.9707792207792207,
          0.9577922077922078,
          0.9772727272727273,
          0.8733766233766234,
          0.9512987012987013,
          0.9545454545454546,
          0.8961038961038961,
          0.961038961038961,
          0.961038961038961,
          0.974025974025974,
          0.948051948051948,
          0.9772727272727273,
          0.9772727272727273,
          0.987012987012987,
          1,
          0.9805194805194806,
          0.9805194805194806,
          0.987012987012987,
          0.9902597402597403,
          0.9253246753246753,
          0.9902597402597403,
          0.9707792207792207,
          0.9642857142857143,
          0.9935064935064936,
          0.9707792207792207,
          0.9415584415584416,
          0.974025974025974,
          0.987012987012987,
          0.9448051948051948,
          0.9902597402597403,
          0.9188311688311688,
          0.9675324675324676,
          0.9772727272727273,
          0.987012987012987,
          0.974025974025974,
          0.9707792207792207,
          0.974025974025974,
          0.9837662337662337,
          0.9707792207792207,
          0.9805194805194806,
          0.974025974025974,
          0.9805194805194806,
          0.974025974025974,
          0.9805194805194806,
          0.961038961038961,
          0.9935064935064936,
          0.9383116883116883,
          0.974025974025974,
          0.9415584415584416,
          0.9902597402597403,
          0.9805194805194806,
          0.9837662337662337,
          0.9902597402597403,
          0.9675324675324676,
          0.9805194805194806,
          0.987012987012987,
          1,
          0.9837662337662337,
          0.9935064935064936,
          0.9805194805194806,
          0.9805194805194806,
          0.9772727272727273,
          0.9415584415584416,
          0.9902597402597403,
          0.9902597402597403,
          0.9902597402597403,
          0.9935064935064936,
          0.9805194805194806,
          0.9772727272727273,
          0.9512987012987013,
          0.974025974025974,
          0.9837662337662337,
          0.9935064935064936,
          0.9675324675324676,
          0.9902597402597403,
          0.974025974025974,
          0.9935064935064936,
          0.974025974025974,
          0.987012987012987,
          0.922077922077922,
          0.9707792207792207,
          0.9805194805194806,
          0.9707792207792207,
          0.9902597402597403,
          0.9837662337662337,
          0.9512987012987013,
          0.8506493506493507,
          0.9415584415584416,
          0.974025974025974,
          1,
          0.9642857142857143,
          0.961038961038961,
          0.961038961038961,
          0.9707792207792207,
          0.9577922077922078,
          0.9512987012987013,
          0.987012987012987,
          0.961038961038961,
          0.9935064935064936,
          0.9675324675324676,
          0.9545454545454546,
          0.9837662337662337,
          0.9902597402597403,
          0.9837662337662337,
          1,
          0.9448051948051948,
          0.974025974025974,
          0.9772727272727273,
          0.9318181818181818,
          0.9935064935064936,
          0.974025974025974,
          0.9967532467532467,
          0.987012987012987,
          0.948051948051948,
          0.9675324675324676,
          0.9902597402597403,
          0.9805194805194806,
          0.9512987012987013,
          0.9512987012987013,
          0.8896103896103896,
          0.9935064935064936,
          0.9675324675324676,
          0.9805194805194806,
          1,
          0.987012987012987,
          0.987012987012987,
          0.974025974025974,
          0.974025974025974,
          0.9707792207792207,
          0.9902597402597403
         ]
        },
        {
         "mode": "lines",
         "name": "Best Value",
         "type": "scatter",
         "x": [
          0,
          1,
          2,
          3,
          4,
          5,
          6,
          7,
          8,
          9,
          10,
          11,
          12,
          13,
          14,
          15,
          16,
          17,
          18,
          19,
          20,
          21,
          22,
          23,
          24,
          25,
          26,
          27,
          28,
          29,
          30,
          31,
          32,
          33,
          34,
          35,
          36,
          37,
          38,
          39,
          40,
          41,
          42,
          43,
          44,
          45,
          46,
          47,
          48,
          49,
          50,
          51,
          52,
          53,
          54,
          55,
          56,
          57,
          58,
          59,
          60,
          61,
          62,
          63,
          64,
          65,
          66,
          67,
          68,
          69,
          70,
          71,
          72,
          73,
          74,
          75,
          76,
          77,
          78,
          79,
          80,
          81,
          82,
          83,
          84,
          85,
          86,
          87,
          88,
          89,
          90,
          91,
          92,
          93,
          94,
          95,
          96,
          97,
          98,
          99,
          100,
          101,
          102,
          103,
          104,
          105,
          106,
          107,
          108,
          109,
          110,
          111,
          112,
          113,
          114,
          115,
          116,
          117,
          118,
          119,
          120,
          121,
          122,
          123,
          124,
          125,
          126,
          127,
          128,
          129,
          130,
          131,
          132,
          133,
          134,
          135,
          136,
          137,
          138,
          139,
          140,
          141,
          142,
          143,
          144,
          145,
          146,
          147,
          148,
          149,
          150,
          151,
          152,
          153,
          154,
          155,
          156,
          157,
          158,
          159,
          160,
          161,
          162,
          163,
          164,
          165,
          166,
          167,
          168,
          169,
          170,
          171,
          172,
          173,
          174,
          175,
          176,
          177,
          178,
          179,
          180,
          181,
          182,
          183,
          184,
          185,
          186,
          187,
          188,
          189,
          190,
          191,
          192,
          193,
          194,
          195,
          196,
          197,
          198,
          199
         ],
         "y": [
          0.8831168831168831,
          0.8993506493506493,
          0.8993506493506493,
          0.9253246753246753,
          0.9253246753246753,
          0.9253246753246753,
          0.9253246753246753,
          0.9253246753246753,
          0.9253246753246753,
          0.9415584415584416,
          0.974025974025974,
          0.9902597402597403,
          0.9902597402597403,
          0.9902597402597403,
          0.9902597402597403,
          0.9902597402597403,
          0.9902597402597403,
          0.9902597402597403,
          0.9902597402597403,
          0.9902597402597403,
          0.9902597402597403,
          0.9902597402597403,
          0.9902597402597403,
          0.9902597402597403,
          0.9935064935064936,
          0.9935064935064936,
          0.9935064935064936,
          0.9935064935064936,
          0.9935064935064936,
          0.9935064935064936,
          0.9935064935064936,
          0.9935064935064936,
          0.9935064935064936,
          0.9935064935064936,
          1,
          1,
          1,
          1,
          1,
          1,
          1,
          1,
          1,
          1,
          1,
          1,
          1,
          1,
          1,
          1,
          1,
          1,
          1,
          1,
          1,
          1,
          1,
          1,
          1,
          1,
          1,
          1,
          1,
          1,
          1,
          1,
          1,
          1,
          1,
          1,
          1,
          1,
          1,
          1,
          1,
          1,
          1,
          1,
          1,
          1,
          1,
          1,
          1,
          1,
          1,
          1,
          1,
          1,
          1,
          1,
          1,
          1,
          1,
          1,
          1,
          1,
          1,
          1,
          1,
          1,
          1,
          1,
          1,
          1,
          1,
          1,
          1,
          1,
          1,
          1,
          1,
          1,
          1,
          1,
          1,
          1,
          1,
          1,
          1,
          1,
          1,
          1,
          1,
          1,
          1,
          1,
          1,
          1,
          1,
          1,
          1,
          1,
          1,
          1,
          1,
          1,
          1,
          1,
          1,
          1,
          1,
          1,
          1,
          1,
          1,
          1,
          1,
          1,
          1,
          1,
          1,
          1,
          1,
          1,
          1,
          1,
          1,
          1,
          1,
          1,
          1,
          1,
          1,
          1,
          1,
          1,
          1,
          1,
          1,
          1,
          1,
          1,
          1,
          1,
          1,
          1,
          1,
          1,
          1,
          1,
          1,
          1,
          1,
          1,
          1,
          1,
          1,
          1,
          1,
          1,
          1,
          1,
          1,
          1,
          1,
          1,
          1,
          1,
          1,
          1
         ]
        },
        {
         "marker": {
          "color": "#cccccc"
         },
         "mode": "markers",
         "name": "Infeasible Trial",
         "showlegend": false,
         "type": "scatter",
         "x": [],
         "y": []
        }
       ],
       "layout": {
        "autosize": true,
        "template": {
         "data": {
          "bar": [
           {
            "error_x": {
             "color": "#2a3f5f"
            },
            "error_y": {
             "color": "#2a3f5f"
            },
            "marker": {
             "line": {
              "color": "#E5ECF6",
              "width": 0.5
             },
             "pattern": {
              "fillmode": "overlay",
              "size": 10,
              "solidity": 0.2
             }
            },
            "type": "bar"
           }
          ],
          "barpolar": [
           {
            "marker": {
             "line": {
              "color": "#E5ECF6",
              "width": 0.5
             },
             "pattern": {
              "fillmode": "overlay",
              "size": 10,
              "solidity": 0.2
             }
            },
            "type": "barpolar"
           }
          ],
          "carpet": [
           {
            "aaxis": {
             "endlinecolor": "#2a3f5f",
             "gridcolor": "white",
             "linecolor": "white",
             "minorgridcolor": "white",
             "startlinecolor": "#2a3f5f"
            },
            "baxis": {
             "endlinecolor": "#2a3f5f",
             "gridcolor": "white",
             "linecolor": "white",
             "minorgridcolor": "white",
             "startlinecolor": "#2a3f5f"
            },
            "type": "carpet"
           }
          ],
          "choropleth": [
           {
            "colorbar": {
             "outlinewidth": 0,
             "ticks": ""
            },
            "type": "choropleth"
           }
          ],
          "contour": [
           {
            "colorbar": {
             "outlinewidth": 0,
             "ticks": ""
            },
            "colorscale": [
             [
              0,
              "#0d0887"
             ],
             [
              0.1111111111111111,
              "#46039f"
             ],
             [
              0.2222222222222222,
              "#7201a8"
             ],
             [
              0.3333333333333333,
              "#9c179e"
             ],
             [
              0.4444444444444444,
              "#bd3786"
             ],
             [
              0.5555555555555556,
              "#d8576b"
             ],
             [
              0.6666666666666666,
              "#ed7953"
             ],
             [
              0.7777777777777778,
              "#fb9f3a"
             ],
             [
              0.8888888888888888,
              "#fdca26"
             ],
             [
              1,
              "#f0f921"
             ]
            ],
            "type": "contour"
           }
          ],
          "contourcarpet": [
           {
            "colorbar": {
             "outlinewidth": 0,
             "ticks": ""
            },
            "type": "contourcarpet"
           }
          ],
          "heatmap": [
           {
            "colorbar": {
             "outlinewidth": 0,
             "ticks": ""
            },
            "colorscale": [
             [
              0,
              "#0d0887"
             ],
             [
              0.1111111111111111,
              "#46039f"
             ],
             [
              0.2222222222222222,
              "#7201a8"
             ],
             [
              0.3333333333333333,
              "#9c179e"
             ],
             [
              0.4444444444444444,
              "#bd3786"
             ],
             [
              0.5555555555555556,
              "#d8576b"
             ],
             [
              0.6666666666666666,
              "#ed7953"
             ],
             [
              0.7777777777777778,
              "#fb9f3a"
             ],
             [
              0.8888888888888888,
              "#fdca26"
             ],
             [
              1,
              "#f0f921"
             ]
            ],
            "type": "heatmap"
           }
          ],
          "heatmapgl": [
           {
            "colorbar": {
             "outlinewidth": 0,
             "ticks": ""
            },
            "colorscale": [
             [
              0,
              "#0d0887"
             ],
             [
              0.1111111111111111,
              "#46039f"
             ],
             [
              0.2222222222222222,
              "#7201a8"
             ],
             [
              0.3333333333333333,
              "#9c179e"
             ],
             [
              0.4444444444444444,
              "#bd3786"
             ],
             [
              0.5555555555555556,
              "#d8576b"
             ],
             [
              0.6666666666666666,
              "#ed7953"
             ],
             [
              0.7777777777777778,
              "#fb9f3a"
             ],
             [
              0.8888888888888888,
              "#fdca26"
             ],
             [
              1,
              "#f0f921"
             ]
            ],
            "type": "heatmapgl"
           }
          ],
          "histogram": [
           {
            "marker": {
             "pattern": {
              "fillmode": "overlay",
              "size": 10,
              "solidity": 0.2
             }
            },
            "type": "histogram"
           }
          ],
          "histogram2d": [
           {
            "colorbar": {
             "outlinewidth": 0,
             "ticks": ""
            },
            "colorscale": [
             [
              0,
              "#0d0887"
             ],
             [
              0.1111111111111111,
              "#46039f"
             ],
             [
              0.2222222222222222,
              "#7201a8"
             ],
             [
              0.3333333333333333,
              "#9c179e"
             ],
             [
              0.4444444444444444,
              "#bd3786"
             ],
             [
              0.5555555555555556,
              "#d8576b"
             ],
             [
              0.6666666666666666,
              "#ed7953"
             ],
             [
              0.7777777777777778,
              "#fb9f3a"
             ],
             [
              0.8888888888888888,
              "#fdca26"
             ],
             [
              1,
              "#f0f921"
             ]
            ],
            "type": "histogram2d"
           }
          ],
          "histogram2dcontour": [
           {
            "colorbar": {
             "outlinewidth": 0,
             "ticks": ""
            },
            "colorscale": [
             [
              0,
              "#0d0887"
             ],
             [
              0.1111111111111111,
              "#46039f"
             ],
             [
              0.2222222222222222,
              "#7201a8"
             ],
             [
              0.3333333333333333,
              "#9c179e"
             ],
             [
              0.4444444444444444,
              "#bd3786"
             ],
             [
              0.5555555555555556,
              "#d8576b"
             ],
             [
              0.6666666666666666,
              "#ed7953"
             ],
             [
              0.7777777777777778,
              "#fb9f3a"
             ],
             [
              0.8888888888888888,
              "#fdca26"
             ],
             [
              1,
              "#f0f921"
             ]
            ],
            "type": "histogram2dcontour"
           }
          ],
          "mesh3d": [
           {
            "colorbar": {
             "outlinewidth": 0,
             "ticks": ""
            },
            "type": "mesh3d"
           }
          ],
          "parcoords": [
           {
            "line": {
             "colorbar": {
              "outlinewidth": 0,
              "ticks": ""
             }
            },
            "type": "parcoords"
           }
          ],
          "pie": [
           {
            "automargin": true,
            "type": "pie"
           }
          ],
          "scatter": [
           {
            "fillpattern": {
             "fillmode": "overlay",
             "size": 10,
             "solidity": 0.2
            },
            "type": "scatter"
           }
          ],
          "scatter3d": [
           {
            "line": {
             "colorbar": {
              "outlinewidth": 0,
              "ticks": ""
             }
            },
            "marker": {
             "colorbar": {
              "outlinewidth": 0,
              "ticks": ""
             }
            },
            "type": "scatter3d"
           }
          ],
          "scattercarpet": [
           {
            "marker": {
             "colorbar": {
              "outlinewidth": 0,
              "ticks": ""
             }
            },
            "type": "scattercarpet"
           }
          ],
          "scattergeo": [
           {
            "marker": {
             "colorbar": {
              "outlinewidth": 0,
              "ticks": ""
             }
            },
            "type": "scattergeo"
           }
          ],
          "scattergl": [
           {
            "marker": {
             "colorbar": {
              "outlinewidth": 0,
              "ticks": ""
             }
            },
            "type": "scattergl"
           }
          ],
          "scattermapbox": [
           {
            "marker": {
             "colorbar": {
              "outlinewidth": 0,
              "ticks": ""
             }
            },
            "type": "scattermapbox"
           }
          ],
          "scatterpolar": [
           {
            "marker": {
             "colorbar": {
              "outlinewidth": 0,
              "ticks": ""
             }
            },
            "type": "scatterpolar"
           }
          ],
          "scatterpolargl": [
           {
            "marker": {
             "colorbar": {
              "outlinewidth": 0,
              "ticks": ""
             }
            },
            "type": "scatterpolargl"
           }
          ],
          "scatterternary": [
           {
            "marker": {
             "colorbar": {
              "outlinewidth": 0,
              "ticks": ""
             }
            },
            "type": "scatterternary"
           }
          ],
          "surface": [
           {
            "colorbar": {
             "outlinewidth": 0,
             "ticks": ""
            },
            "colorscale": [
             [
              0,
              "#0d0887"
             ],
             [
              0.1111111111111111,
              "#46039f"
             ],
             [
              0.2222222222222222,
              "#7201a8"
             ],
             [
              0.3333333333333333,
              "#9c179e"
             ],
             [
              0.4444444444444444,
              "#bd3786"
             ],
             [
              0.5555555555555556,
              "#d8576b"
             ],
             [
              0.6666666666666666,
              "#ed7953"
             ],
             [
              0.7777777777777778,
              "#fb9f3a"
             ],
             [
              0.8888888888888888,
              "#fdca26"
             ],
             [
              1,
              "#f0f921"
             ]
            ],
            "type": "surface"
           }
          ],
          "table": [
           {
            "cells": {
             "fill": {
              "color": "#EBF0F8"
             },
             "line": {
              "color": "white"
             }
            },
            "header": {
             "fill": {
              "color": "#C8D4E3"
             },
             "line": {
              "color": "white"
             }
            },
            "type": "table"
           }
          ]
         },
         "layout": {
          "annotationdefaults": {
           "arrowcolor": "#2a3f5f",
           "arrowhead": 0,
           "arrowwidth": 1
          },
          "autotypenumbers": "strict",
          "coloraxis": {
           "colorbar": {
            "outlinewidth": 0,
            "ticks": ""
           }
          },
          "colorscale": {
           "diverging": [
            [
             0,
             "#8e0152"
            ],
            [
             0.1,
             "#c51b7d"
            ],
            [
             0.2,
             "#de77ae"
            ],
            [
             0.3,
             "#f1b6da"
            ],
            [
             0.4,
             "#fde0ef"
            ],
            [
             0.5,
             "#f7f7f7"
            ],
            [
             0.6,
             "#e6f5d0"
            ],
            [
             0.7,
             "#b8e186"
            ],
            [
             0.8,
             "#7fbc41"
            ],
            [
             0.9,
             "#4d9221"
            ],
            [
             1,
             "#276419"
            ]
           ],
           "sequential": [
            [
             0,
             "#0d0887"
            ],
            [
             0.1111111111111111,
             "#46039f"
            ],
            [
             0.2222222222222222,
             "#7201a8"
            ],
            [
             0.3333333333333333,
             "#9c179e"
            ],
            [
             0.4444444444444444,
             "#bd3786"
            ],
            [
             0.5555555555555556,
             "#d8576b"
            ],
            [
             0.6666666666666666,
             "#ed7953"
            ],
            [
             0.7777777777777778,
             "#fb9f3a"
            ],
            [
             0.8888888888888888,
             "#fdca26"
            ],
            [
             1,
             "#f0f921"
            ]
           ],
           "sequentialminus": [
            [
             0,
             "#0d0887"
            ],
            [
             0.1111111111111111,
             "#46039f"
            ],
            [
             0.2222222222222222,
             "#7201a8"
            ],
            [
             0.3333333333333333,
             "#9c179e"
            ],
            [
             0.4444444444444444,
             "#bd3786"
            ],
            [
             0.5555555555555556,
             "#d8576b"
            ],
            [
             0.6666666666666666,
             "#ed7953"
            ],
            [
             0.7777777777777778,
             "#fb9f3a"
            ],
            [
             0.8888888888888888,
             "#fdca26"
            ],
            [
             1,
             "#f0f921"
            ]
           ]
          },
          "colorway": [
           "#636efa",
           "#EF553B",
           "#00cc96",
           "#ab63fa",
           "#FFA15A",
           "#19d3f3",
           "#FF6692",
           "#B6E880",
           "#FF97FF",
           "#FECB52"
          ],
          "font": {
           "color": "#2a3f5f"
          },
          "geo": {
           "bgcolor": "white",
           "lakecolor": "white",
           "landcolor": "#E5ECF6",
           "showlakes": true,
           "showland": true,
           "subunitcolor": "white"
          },
          "hoverlabel": {
           "align": "left"
          },
          "hovermode": "closest",
          "mapbox": {
           "style": "light"
          },
          "paper_bgcolor": "white",
          "plot_bgcolor": "#E5ECF6",
          "polar": {
           "angularaxis": {
            "gridcolor": "white",
            "linecolor": "white",
            "ticks": ""
           },
           "bgcolor": "#E5ECF6",
           "radialaxis": {
            "gridcolor": "white",
            "linecolor": "white",
            "ticks": ""
           }
          },
          "scene": {
           "xaxis": {
            "backgroundcolor": "#E5ECF6",
            "gridcolor": "white",
            "gridwidth": 2,
            "linecolor": "white",
            "showbackground": true,
            "ticks": "",
            "zerolinecolor": "white"
           },
           "yaxis": {
            "backgroundcolor": "#E5ECF6",
            "gridcolor": "white",
            "gridwidth": 2,
            "linecolor": "white",
            "showbackground": true,
            "ticks": "",
            "zerolinecolor": "white"
           },
           "zaxis": {
            "backgroundcolor": "#E5ECF6",
            "gridcolor": "white",
            "gridwidth": 2,
            "linecolor": "white",
            "showbackground": true,
            "ticks": "",
            "zerolinecolor": "white"
           }
          },
          "shapedefaults": {
           "line": {
            "color": "#2a3f5f"
           }
          },
          "ternary": {
           "aaxis": {
            "gridcolor": "white",
            "linecolor": "white",
            "ticks": ""
           },
           "baxis": {
            "gridcolor": "white",
            "linecolor": "white",
            "ticks": ""
           },
           "bgcolor": "#E5ECF6",
           "caxis": {
            "gridcolor": "white",
            "linecolor": "white",
            "ticks": ""
           }
          },
          "title": {
           "x": 0.05
          },
          "xaxis": {
           "automargin": true,
           "gridcolor": "white",
           "linecolor": "white",
           "ticks": "",
           "title": {
            "standoff": 15
           },
           "zerolinecolor": "white",
           "zerolinewidth": 2
          },
          "yaxis": {
           "automargin": true,
           "gridcolor": "white",
           "linecolor": "white",
           "ticks": "",
           "title": {
            "standoff": 15
           },
           "zerolinecolor": "white",
           "zerolinewidth": 2
          }
         }
        },
        "title": {
         "text": "Optimization History Plot"
        },
        "xaxis": {
         "autorange": true,
         "range": [
          -12.143700787401576,
          211.14370078740157
         ],
         "title": {
          "text": "Trial"
         },
         "type": "linear"
        },
        "yaxis": {
         "autorange": true,
         "range": [
          0.8348096078678603,
          1.0125929895347372
         ],
         "title": {
          "text": "Objective Value"
         },
         "type": "linear"
        }
       }
      },
      "image/png": "[encoded data removed]",
      "text/html": [
       "<div>                            <div id=\"c6964e6b-f945-4976-ba30-07e9655b3c00\" class=\"plotly-graph-div\" style=\"height:525px; width:100%;\"></div>            <script type=\"text/javascript\">                require([\"plotly\"], function(Plotly) {                    window.PLOTLYENV=window.PLOTLYENV || {};                                    if (document.getElementById(\"c6964e6b-f945-4976-ba30-07e9655b3c00\")) {                    Plotly.newPlot(                        \"c6964e6b-f945-4976-ba30-07e9655b3c00\",                        [{\"mode\":\"markers\",\"name\":\"Objective Value\",\"x\":[0,1,2,3,4,5,6,7,8,9,10,11,12,13,14,15,16,17,18,19,20,21,22,23,24,25,26,27,28,29,30,31,32,33,34,35,36,37,38,39,40,41,42,43,44,45,46,47,48,49,50,51,52,53,54,55,56,57,58,59,60,61,62,63,64,65,66,67,68,69,70,71,72,73,74,75,76,77,78,79,80,81,82,83,84,85,86,87,88,89,90,91,92,93,94,95,96,97,98,99,100,101,102,103,104,105,106,107,108,109,110,111,112,113,114,115,116,117,118,119,120,121,122,123,124,125,126,127,128,129,130,131,132,133,134,135,136,137,138,139,140,141,142,143,144,145,146,147,148,149,150,151,152,153,154,155,156,157,158,159,160,161,162,163,164,165,166,167,168,169,170,171,172,173,174,175,176,177,178,179,180,181,182,183,184,185,186,187,188,189,190,191,192,193,194,195,196,197,198,199],\"y\":[0.8831168831168831,0.8993506493506493,0.8571428571428571,0.9253246753246753,0.8896103896103896,0.8474025974025974,0.8928571428571429,0.9123376623376623,0.8571428571428571,0.9415584415584416,0.974025974025974,0.9902597402597403,0.974025974025974,0.9642857142857143,0.974025974025974,0.9805194805194806,0.948051948051948,0.9707792207792207,0.9675324675324676,0.9577922077922078,0.9902597402597403,0.9772727272727273,0.974025974025974,0.9448051948051948,0.9935064935064936,0.9512987012987013,0.961038961038961,0.9545454545454546,0.9090909090909091,0.9188311688311688,0.9318181818181818,0.9805194805194806,0.9448051948051948,0.9642857142857143,1.0,0.9707792207792207,0.9707792207792207,0.9805194805194806,0.8668831168831169,0.8928571428571429,0.9090909090909091,0.922077922077922,0.9805194805194806,0.9577922077922078,0.961038961038961,0.9642857142857143,0.9577922077922078,0.9837662337662337,0.9512987012987013,0.9448051948051948,0.9512987012987013,0.9383116883116883,0.9707792207792207,0.9707792207792207,0.974025974025974,0.974025974025974,0.935064935064935,0.9285714285714286,0.948051948051948,0.9415584415584416,0.9837662337662337,0.961038961038961,0.9967532467532467,0.9902597402597403,0.9642857142857143,0.9772727272727273,0.9545454545454546,0.9935064935064936,0.9642857142857143,0.9642857142857143,0.9707792207792207,0.9577922077922078,0.9772727272727273,0.8733766233766234,0.9512987012987013,0.9545454545454546,0.8961038961038961,0.961038961038961,0.961038961038961,0.974025974025974,0.948051948051948,0.9772727272727273,0.9772727272727273,0.987012987012987,1.0,0.9805194805194806,0.9805194805194806,0.987012987012987,0.9902597402597403,0.9253246753246753,0.9902597402597403,0.9707792207792207,0.9642857142857143,0.9935064935064936,0.9707792207792207,0.9415584415584416,0.974025974025974,0.987012987012987,0.9448051948051948,0.9902597402597403,0.9188311688311688,0.9675324675324676,0.9772727272727273,0.987012987012987,0.974025974025974,0.9707792207792207,0.974025974025974,0.9837662337662337,0.9707792207792207,0.9805194805194806,0.974025974025974,0.9805194805194806,0.974025974025974,0.9805194805194806,0.961038961038961,0.9935064935064936,0.9383116883116883,0.974025974025974,0.9415584415584416,0.9902597402597403,0.9805194805194806,0.9837662337662337,0.9902597402597403,0.9675324675324676,0.9805194805194806,0.987012987012987,1.0,0.9837662337662337,0.9935064935064936,0.9805194805194806,0.9805194805194806,0.9772727272727273,0.9415584415584416,0.9902597402597403,0.9902597402597403,0.9902597402597403,0.9935064935064936,0.9805194805194806,0.9772727272727273,0.9512987012987013,0.974025974025974,0.9837662337662337,0.9935064935064936,0.9675324675324676,0.9902597402597403,0.974025974025974,0.9935064935064936,0.974025974025974,0.987012987012987,0.922077922077922,0.9707792207792207,0.9805194805194806,0.9707792207792207,0.9902597402597403,0.9837662337662337,0.9512987012987013,0.8506493506493507,0.9415584415584416,0.974025974025974,1.0,0.9642857142857143,0.961038961038961,0.961038961038961,0.9707792207792207,0.9577922077922078,0.9512987012987013,0.987012987012987,0.961038961038961,0.9935064935064936,0.9675324675324676,0.9545454545454546,0.9837662337662337,0.9902597402597403,0.9837662337662337,1.0,0.9448051948051948,0.974025974025974,0.9772727272727273,0.9318181818181818,0.9935064935064936,0.974025974025974,0.9967532467532467,0.987012987012987,0.948051948051948,0.9675324675324676,0.9902597402597403,0.9805194805194806,0.9512987012987013,0.9512987012987013,0.8896103896103896,0.9935064935064936,0.9675324675324676,0.9805194805194806,1.0,0.987012987012987,0.987012987012987,0.974025974025974,0.974025974025974,0.9707792207792207,0.9902597402597403],\"type\":\"scatter\"},{\"mode\":\"lines\",\"name\":\"Best Value\",\"x\":[0,1,2,3,4,5,6,7,8,9,10,11,12,13,14,15,16,17,18,19,20,21,22,23,24,25,26,27,28,29,30,31,32,33,34,35,36,37,38,39,40,41,42,43,44,45,46,47,48,49,50,51,52,53,54,55,56,57,58,59,60,61,62,63,64,65,66,67,68,69,70,71,72,73,74,75,76,77,78,79,80,81,82,83,84,85,86,87,88,89,90,91,92,93,94,95,96,97,98,99,100,101,102,103,104,105,106,107,108,109,110,111,112,113,114,115,116,117,118,119,120,121,122,123,124,125,126,127,128,129,130,131,132,133,134,135,136,137,138,139,140,141,142,143,144,145,146,147,148,149,150,151,152,153,154,155,156,157,158,159,160,161,162,163,164,165,166,167,168,169,170,171,172,173,174,175,176,177,178,179,180,181,182,183,184,185,186,187,188,189,190,191,192,193,194,195,196,197,198,199],\"y\":[0.8831168831168831,0.8993506493506493,0.8993506493506493,0.9253246753246753,0.9253246753246753,0.9253246753246753,0.9253246753246753,0.9253246753246753,0.9253246753246753,0.9415584415584416,0.974025974025974,0.9902597402597403,0.9902597402597403,0.9902597402597403,0.9902597402597403,0.9902597402597403,0.9902597402597403,0.9902597402597403,0.9902597402597403,0.9902597402597403,0.9902597402597403,0.9902597402597403,0.9902597402597403,0.9902597402597403,0.9935064935064936,0.9935064935064936,0.9935064935064936,0.9935064935064936,0.9935064935064936,0.9935064935064936,0.9935064935064936,0.9935064935064936,0.9935064935064936,0.9935064935064936,1.0,1.0,1.0,1.0,1.0,1.0,1.0,1.0,1.0,1.0,1.0,1.0,1.0,1.0,1.0,1.0,1.0,1.0,1.0,1.0,1.0,1.0,1.0,1.0,1.0,1.0,1.0,1.0,1.0,1.0,1.0,1.0,1.0,1.0,1.0,1.0,1.0,1.0,1.0,1.0,1.0,1.0,1.0,1.0,1.0,1.0,1.0,1.0,1.0,1.0,1.0,1.0,1.0,1.0,1.0,1.0,1.0,1.0,1.0,1.0,1.0,1.0,1.0,1.0,1.0,1.0,1.0,1.0,1.0,1.0,1.0,1.0,1.0,1.0,1.0,1.0,1.0,1.0,1.0,1.0,1.0,1.0,1.0,1.0,1.0,1.0,1.0,1.0,1.0,1.0,1.0,1.0,1.0,1.0,1.0,1.0,1.0,1.0,1.0,1.0,1.0,1.0,1.0,1.0,1.0,1.0,1.0,1.0,1.0,1.0,1.0,1.0,1.0,1.0,1.0,1.0,1.0,1.0,1.0,1.0,1.0,1.0,1.0,1.0,1.0,1.0,1.0,1.0,1.0,1.0,1.0,1.0,1.0,1.0,1.0,1.0,1.0,1.0,1.0,1.0,1.0,1.0,1.0,1.0,1.0,1.0,1.0,1.0,1.0,1.0,1.0,1.0,1.0,1.0,1.0,1.0,1.0,1.0,1.0,1.0,1.0,1.0,1.0,1.0,1.0,1.0],\"type\":\"scatter\"},{\"marker\":{\"color\":\"#cccccc\"},\"mode\":\"markers\",\"name\":\"Infeasible Trial\",\"showlegend\":false,\"x\":[],\"y\":[],\"type\":\"scatter\"}],                        {\"title\":{\"text\":\"Optimization History Plot\"},\"xaxis\":{\"title\":{\"text\":\"Trial\"}},\"yaxis\":{\"title\":{\"text\":\"Objective Value\"}},\"template\":{\"data\":{\"histogram2dcontour\":[{\"type\":\"histogram2dcontour\",\"colorbar\":{\"outlinewidth\":0,\"ticks\":\"\"},\"colorscale\":[[0.0,\"#0d0887\"],[0.1111111111111111,\"#46039f\"],[0.2222222222222222,\"#7201a8\"],[0.3333333333333333,\"#9c179e\"],[0.4444444444444444,\"#bd3786\"],[0.5555555555555556,\"#d8576b\"],[0.6666666666666666,\"#ed7953\"],[0.7777777777777778,\"#fb9f3a\"],[0.8888888888888888,\"#fdca26\"],[1.0,\"#f0f921\"]]}],\"choropleth\":[{\"type\":\"choropleth\",\"colorbar\":{\"outlinewidth\":0,\"ticks\":\"\"}}],\"histogram2d\":[{\"type\":\"histogram2d\",\"colorbar\":{\"outlinewidth\":0,\"ticks\":\"\"},\"colorscale\":[[0.0,\"#0d0887\"],[0.1111111111111111,\"#46039f\"],[0.2222222222222222,\"#7201a8\"],[0.3333333333333333,\"#9c179e\"],[0.4444444444444444,\"#bd3786\"],[0.5555555555555556,\"#d8576b\"],[0.6666666666666666,\"#ed7953\"],[0.7777777777777778,\"#fb9f3a\"],[0.8888888888888888,\"#fdca26\"],[1.0,\"#f0f921\"]]}],\"heatmap\":[{\"type\":\"heatmap\",\"colorbar\":{\"outlinewidth\":0,\"ticks\":\"\"},\"colorscale\":[[0.0,\"#0d0887\"],[0.1111111111111111,\"#46039f\"],[0.2222222222222222,\"#7201a8\"],[0.3333333333333333,\"#9c179e\"],[0.4444444444444444,\"#bd3786\"],[0.5555555555555556,\"#d8576b\"],[0.6666666666666666,\"#ed7953\"],[0.7777777777777778,\"#fb9f3a\"],[0.8888888888888888,\"#fdca26\"],[1.0,\"#f0f921\"]]}],\"heatmapgl\":[{\"type\":\"heatmapgl\",\"colorbar\":{\"outlinewidth\":0,\"ticks\":\"\"},\"colorscale\":[[0.0,\"#0d0887\"],[0.1111111111111111,\"#46039f\"],[0.2222222222222222,\"#7201a8\"],[0.3333333333333333,\"#9c179e\"],[0.4444444444444444,\"#bd3786\"],[0.5555555555555556,\"#d8576b\"],[0.6666666666666666,\"#ed7953\"],[0.7777777777777778,\"#fb9f3a\"],[0.8888888888888888,\"#fdca26\"],[1.0,\"#f0f921\"]]}],\"contourcarpet\":[{\"type\":\"contourcarpet\",\"colorbar\":{\"outlinewidth\":0,\"ticks\":\"\"}}],\"contour\":[{\"type\":\"contour\",\"colorbar\":{\"outlinewidth\":0,\"ticks\":\"\"},\"colorscale\":[[0.0,\"#0d0887\"],[0.1111111111111111,\"#46039f\"],[0.2222222222222222,\"#7201a8\"],[0.3333333333333333,\"#9c179e\"],[0.4444444444444444,\"#bd3786\"],[0.5555555555555556,\"#d8576b\"],[0.6666666666666666,\"#ed7953\"],[0.7777777777777778,\"#fb9f3a\"],[0.8888888888888888,\"#fdca26\"],[1.0,\"#f0f921\"]]}],\"surface\":[{\"type\":\"surface\",\"colorbar\":{\"outlinewidth\":0,\"ticks\":\"\"},\"colorscale\":[[0.0,\"#0d0887\"],[0.1111111111111111,\"#46039f\"],[0.2222222222222222,\"#7201a8\"],[0.3333333333333333,\"#9c179e\"],[0.4444444444444444,\"#bd3786\"],[0.5555555555555556,\"#d8576b\"],[0.6666666666666666,\"#ed7953\"],[0.7777777777777778,\"#fb9f3a\"],[0.8888888888888888,\"#fdca26\"],[1.0,\"#f0f921\"]]}],\"mesh3d\":[{\"type\":\"mesh3d\",\"colorbar\":{\"outlinewidth\":0,\"ticks\":\"\"}}],\"scatter\":[{\"fillpattern\":{\"fillmode\":\"overlay\",\"size\":10,\"solidity\":0.2},\"type\":\"scatter\"}],\"parcoords\":[{\"type\":\"parcoords\",\"line\":{\"colorbar\":{\"outlinewidth\":0,\"ticks\":\"\"}}}],\"scatterpolargl\":[{\"type\":\"scatterpolargl\",\"marker\":{\"colorbar\":{\"outlinewidth\":0,\"ticks\":\"\"}}}],\"bar\":[{\"error_x\":{\"color\":\"#2a3f5f\"},\"error_y\":{\"color\":\"#2a3f5f\"},\"marker\":{\"line\":{\"color\":\"#E5ECF6\",\"width\":0.5},\"pattern\":{\"fillmode\":\"overlay\",\"size\":10,\"solidity\":0.2}},\"type\":\"bar\"}],\"scattergeo\":[{\"type\":\"scattergeo\",\"marker\":{\"colorbar\":{\"outlinewidth\":0,\"ticks\":\"\"}}}],\"scatterpolar\":[{\"type\":\"scatterpolar\",\"marker\":{\"colorbar\":{\"outlinewidth\":0,\"ticks\":\"\"}}}],\"histogram\":[{\"marker\":{\"pattern\":{\"fillmode\":\"overlay\",\"size\":10,\"solidity\":0.2}},\"type\":\"histogram\"}],\"scattergl\":[{\"type\":\"scattergl\",\"marker\":{\"colorbar\":{\"outlinewidth\":0,\"ticks\":\"\"}}}],\"scatter3d\":[{\"type\":\"scatter3d\",\"line\":{\"colorbar\":{\"outlinewidth\":0,\"ticks\":\"\"}},\"marker\":{\"colorbar\":{\"outlinewidth\":0,\"ticks\":\"\"}}}],\"scattermapbox\":[{\"type\":\"scattermapbox\",\"marker\":{\"colorbar\":{\"outlinewidth\":0,\"ticks\":\"\"}}}],\"scatterternary\":[{\"type\":\"scatterternary\",\"marker\":{\"colorbar\":{\"outlinewidth\":0,\"ticks\":\"\"}}}],\"scattercarpet\":[{\"type\":\"scattercarpet\",\"marker\":{\"colorbar\":{\"outlinewidth\":0,\"ticks\":\"\"}}}],\"carpet\":[{\"aaxis\":{\"endlinecolor\":\"#2a3f5f\",\"gridcolor\":\"white\",\"linecolor\":\"white\",\"minorgridcolor\":\"white\",\"startlinecolor\":\"#2a3f5f\"},\"baxis\":{\"endlinecolor\":\"#2a3f5f\",\"gridcolor\":\"white\",\"linecolor\":\"white\",\"minorgridcolor\":\"white\",\"startlinecolor\":\"#2a3f5f\"},\"type\":\"carpet\"}],\"table\":[{\"cells\":{\"fill\":{\"color\":\"#EBF0F8\"},\"line\":{\"color\":\"white\"}},\"header\":{\"fill\":{\"color\":\"#C8D4E3\"},\"line\":{\"color\":\"white\"}},\"type\":\"table\"}],\"barpolar\":[{\"marker\":{\"line\":{\"color\":\"#E5ECF6\",\"width\":0.5},\"pattern\":{\"fillmode\":\"overlay\",\"size\":10,\"solidity\":0.2}},\"type\":\"barpolar\"}],\"pie\":[{\"automargin\":true,\"type\":\"pie\"}]},\"layout\":{\"autotypenumbers\":\"strict\",\"colorway\":[\"#636efa\",\"#EF553B\",\"#00cc96\",\"#ab63fa\",\"#FFA15A\",\"#19d3f3\",\"#FF6692\",\"#B6E880\",\"#FF97FF\",\"#FECB52\"],\"font\":{\"color\":\"#2a3f5f\"},\"hovermode\":\"closest\",\"hoverlabel\":{\"align\":\"left\"},\"paper_bgcolor\":\"white\",\"plot_bgcolor\":\"#E5ECF6\",\"polar\":{\"bgcolor\":\"#E5ECF6\",\"angularaxis\":{\"gridcolor\":\"white\",\"linecolor\":\"white\",\"ticks\":\"\"},\"radialaxis\":{\"gridcolor\":\"white\",\"linecolor\":\"white\",\"ticks\":\"\"}},\"ternary\":{\"bgcolor\":\"#E5ECF6\",\"aaxis\":{\"gridcolor\":\"white\",\"linecolor\":\"white\",\"ticks\":\"\"},\"baxis\":{\"gridcolor\":\"white\",\"linecolor\":\"white\",\"ticks\":\"\"},\"caxis\":{\"gridcolor\":\"white\",\"linecolor\":\"white\",\"ticks\":\"\"}},\"coloraxis\":{\"colorbar\":{\"outlinewidth\":0,\"ticks\":\"\"}},\"colorscale\":{\"sequential\":[[0.0,\"#0d0887\"],[0.1111111111111111,\"#46039f\"],[0.2222222222222222,\"#7201a8\"],[0.3333333333333333,\"#9c179e\"],[0.4444444444444444,\"#bd3786\"],[0.5555555555555556,\"#d8576b\"],[0.6666666666666666,\"#ed7953\"],[0.7777777777777778,\"#fb9f3a\"],[0.8888888888888888,\"#fdca26\"],[1.0,\"#f0f921\"]],\"sequentialminus\":[[0.0,\"#0d0887\"],[0.1111111111111111,\"#46039f\"],[0.2222222222222222,\"#7201a8\"],[0.3333333333333333,\"#9c179e\"],[0.4444444444444444,\"#bd3786\"],[0.5555555555555556,\"#d8576b\"],[0.6666666666666666,\"#ed7953\"],[0.7777777777777778,\"#fb9f3a\"],[0.8888888888888888,\"#fdca26\"],[1.0,\"#f0f921\"]],\"diverging\":[[0,\"#8e0152\"],[0.1,\"#c51b7d\"],[0.2,\"#de77ae\"],[0.3,\"#f1b6da\"],[0.4,\"#fde0ef\"],[0.5,\"#f7f7f7\"],[0.6,\"#e6f5d0\"],[0.7,\"#b8e186\"],[0.8,\"#7fbc41\"],[0.9,\"#4d9221\"],[1,\"#276419\"]]},\"xaxis\":{\"gridcolor\":\"white\",\"linecolor\":\"white\",\"ticks\":\"\",\"title\":{\"standoff\":15},\"zerolinecolor\":\"white\",\"automargin\":true,\"zerolinewidth\":2},\"yaxis\":{\"gridcolor\":\"white\",\"linecolor\":\"white\",\"ticks\":\"\",\"title\":{\"standoff\":15},\"zerolinecolor\":\"white\",\"automargin\":true,\"zerolinewidth\":2},\"scene\":{\"xaxis\":{\"backgroundcolor\":\"#E5ECF6\",\"gridcolor\":\"white\",\"linecolor\":\"white\",\"showbackground\":true,\"ticks\":\"\",\"zerolinecolor\":\"white\",\"gridwidth\":2},\"yaxis\":{\"backgroundcolor\":\"#E5ECF6\",\"gridcolor\":\"white\",\"linecolor\":\"white\",\"showbackground\":true,\"ticks\":\"\",\"zerolinecolor\":\"white\",\"gridwidth\":2},\"zaxis\":{\"backgroundcolor\":\"#E5ECF6\",\"gridcolor\":\"white\",\"linecolor\":\"white\",\"showbackground\":true,\"ticks\":\"\",\"zerolinecolor\":\"white\",\"gridwidth\":2}},\"shapedefaults\":{\"line\":{\"color\":\"#2a3f5f\"}},\"annotationdefaults\":{\"arrowcolor\":\"#2a3f5f\",\"arrowhead\":0,\"arrowwidth\":1},\"geo\":{\"bgcolor\":\"white\",\"landcolor\":\"#E5ECF6\",\"subunitcolor\":\"white\",\"showland\":true,\"showlakes\":true,\"lakecolor\":\"white\"},\"title\":{\"x\":0.05},\"mapbox\":{\"style\":\"light\"}}}},                        {\"responsive\": true}                    ).then(function(){\n",
       "                            \n",
       "var gd = document.getElementById('c6964e6b-f945-4976-ba30-07e9655b3c00');\n",
       "var x = new MutationObserver(function (mutations, observer) {{\n",
       "        var display = window.getComputedStyle(gd).display;\n",
       "        if (!display || display === 'none') {{\n",
       "            console.log([gd, 'removed!']);\n",
       "            Plotly.purge(gd);\n",
       "            observer.disconnect();\n",
       "        }}\n",
       "}});\n",
       "\n",
       "// Listen for the removal of the full notebook cells\n",
       "var notebookContainer = gd.closest('#notebook-container');\n",
       "if (notebookContainer) {{\n",
       "    x.observe(notebookContainer, {childList: true});\n",
       "}}\n",
       "\n",
       "// Listen for the clearing of the current output cell\n",
       "var outputEl = gd.closest('.output');\n",
       "if (outputEl) {{\n",
       "    x.observe(outputEl, {childList: true});\n",
       "}}\n",
       "\n",
       "                        })                };                });            </script>        </div>"
      ]
     },
     "metadata": {},
     "output_type": "display_data"
    }
   ],
   "source": [
    "optuna.visualization.plot_optimization_history(study)"
   ]
  },
  {
   "cell_type": "code",
   "execution_count": 60,
   "id": "50a4f05f-7f4b-43be-840f-2d11ce7eb8d8",
   "metadata": {},
   "outputs": [],
   "source": [
    "X_train, X_valid, y_train, y_valid = train_test_split(X, y, test_size=0.3)"
   ]
  },
  {
   "cell_type": "code",
   "execution_count": 62,
   "id": "b28873bf-cf48-485d-9801-d5cd89b89f66",
   "metadata": {},
   "outputs": [],
   "source": [
    "cb = CatBoostClassifier(iterations=186, depth=10, \n",
    "                       l2_leaf_reg=10, learning_rate=0.06306228303570868, verbose=False).fit(X_train, y_train)"
   ]
  },
  {
   "cell_type": "code",
   "execution_count": null,
   "id": "b8eb49c9-aa93-4948-bb85-0ca646926472",
   "metadata": {},
   "outputs": [],
   "source": []
  }
 ],
 "metadata": {
  "kernelspec": {
   "display_name": "Python 3 (ipykernel)",
   "language": "python",
   "name": "python3"
  },
  "language_info": {
   "codemirror_mode": {
    "name": "ipython",
    "version": 3
   },
   "file_extension": ".py",
   "mimetype": "text/x-python",
   "name": "python",
   "nbconvert_exporter": "python",
   "pygments_lexer": "ipython3",
   "version": "3.9.18"
  }
 },
 "nbformat": 4,
 "nbformat_minor": 5
}
