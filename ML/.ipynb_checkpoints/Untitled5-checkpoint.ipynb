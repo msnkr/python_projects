{
 "cells": [
  {
   "cell_type": "code",
   "execution_count": 1,
   "id": "b312e9fe-3f0c-4741-9017-5623bd25ce49",
   "metadata": {},
   "outputs": [],
   "source": [
    "import pandas as pd\n",
    "import numpy as np\n",
    "\n",
    "from sklearn.datasets import load_breast_cancer\n",
    "from sklearn.model_selection import train_test_split\n",
    "from sklearn.metrics import accuracy_score\n",
    "\n",
    "from catboost import CatBoostClassifier\n",
    "import optuna\n",
    "\n",
    "import matplotlib.pyplot as plt"
   ]
  },
  {
   "cell_type": "code",
   "execution_count": 2,
   "id": "7f523b4a-49ec-4acc-9859-28f2839fd944",
   "metadata": {},
   "outputs": [],
   "source": [
    "X, y = load_breast_cancer(return_X_y=True)"
   ]
  },
  {
   "cell_type": "code",
   "execution_count": 3,
   "id": "ea86a026-4a21-464a-bcdb-be69ee5d6a60",
   "metadata": {},
   "outputs": [],
   "source": [
    "def objective(trial):\n",
    "    X_train, X_valid, y_train, y_valid = train_test_split(X, y, test_size=0.3)\n",
    "\n",
    "    param = {\n",
    "        \"iterations\": trial.suggest_int(\"iterations\", 10, 100),\n",
    "        \"learning_rate\": trial.suggest_float(\"learning_rate\", 0.01, 0.1),\n",
    "        \"depth\": trial.suggest_int(\"depth\", 1, 16),\n",
    "        \"l2_leaf_reg\": trial.suggest_int(\"l2_leaf_reg\", 1, 10)\n",
    "    }\n",
    "    \n",
    "    model = CatBoostClassifier(**param, verbose=False)\n",
    "    model.fit(X_train, y_train, eval_set=(X_valid, y_valid))\n",
    "    preds = model.predict(X_valid)\n",
    "    return accuracy_score(y_valid, preds)"
   ]
  },
  {
   "cell_type": "code",
   "execution_count": 4,
   "id": "7508c013-4ae9-48c6-9e1c-f339e120c124",
   "metadata": {},
   "outputs": [
    {
     "name": "stderr",
     "output_type": "stream",
     "text": [
      "[I 2024-04-23 14:45:55,703] A new study created in memory with name: no-name-6478f920-4d11-45ac-b4ae-b0a306b48df2\n"
     ]
    }
   ],
   "source": [
    "study = optuna.create_study(direction=\"maximize\")"
   ]
  },
  {
   "cell_type": "code",
   "execution_count": 6,
   "id": "94989902-3bb4-472c-ad00-ca0d99c98b77",
   "metadata": {},
   "outputs": [
    {
     "data": {
      "application/vnd.jupyter.widget-view+json": {
       "model_id": "5c4247667d954985aa53a2cc4a513044",
       "version_major": 2,
       "version_minor": 0
      },
      "text/plain": [
       "  0%|          | 0/25 [00:00<?, ?it/s]"
      ]
     },
     "metadata": {},
     "output_type": "display_data"
    },
    {
     "name": "stdout",
     "output_type": "stream",
     "text": [
      "[I 2024-04-23 15:52:50,550] Trial 25 finished with value: 0.9824561403508771 and parameters: {'iterations': 91, 'learning_rate': 0.08597910231927507, 'depth': 9, 'l2_leaf_reg': 6}. Best is trial 19 with value: 0.9883040935672515.\n",
      "[I 2024-04-23 15:56:51,373] Trial 26 finished with value: 0.9532163742690059 and parameters: {'iterations': 92, 'learning_rate': 0.08781548950648851, 'depth': 15, 'l2_leaf_reg': 6}. Best is trial 19 with value: 0.9883040935672515.\n",
      "[I 2024-04-23 15:57:22,272] Trial 27 finished with value: 0.9707602339181286 and parameters: {'iterations': 93, 'learning_rate': 0.0872719273853698, 'depth': 12, 'l2_leaf_reg': 6}. Best is trial 19 with value: 0.9883040935672515.\n",
      "[I 2024-04-23 15:59:08,653] Trial 28 finished with value: 0.9415204678362573 and parameters: {'iterations': 43, 'learning_rate': 0.08727982071553801, 'depth': 15, 'l2_leaf_reg': 9}. Best is trial 19 with value: 0.9883040935672515.\n",
      "[I 2024-04-23 15:59:11,168] Trial 29 finished with value: 0.9707602339181286 and parameters: {'iterations': 74, 'learning_rate': 0.07675829168864018, 'depth': 9, 'l2_leaf_reg': 7}. Best is trial 19 with value: 0.9883040935672515.\n",
      "[I 2024-04-23 15:59:20,760] Trial 30 finished with value: 0.9824561403508771 and parameters: {'iterations': 57, 'learning_rate': 0.07237107247154728, 'depth': 11, 'l2_leaf_reg': 5}. Best is trial 19 with value: 0.9883040935672515.\n",
      "[I 2024-04-23 15:59:30,632] Trial 31 finished with value: 0.9298245614035088 and parameters: {'iterations': 59, 'learning_rate': 0.060341429853242506, 'depth': 11, 'l2_leaf_reg': 5}. Best is trial 19 with value: 0.9883040935672515.\n",
      "[I 2024-04-23 15:59:31,054] Trial 32 finished with value: 0.9766081871345029 and parameters: {'iterations': 38, 'learning_rate': 0.07201763546617548, 'depth': 7, 'l2_leaf_reg': 4}. Best is trial 19 with value: 0.9883040935672515.\n",
      "[I 2024-04-23 15:59:32,929] Trial 33 finished with value: 0.9883040935672515 and parameters: {'iterations': 22, 'learning_rate': 0.08281243388160903, 'depth': 10, 'l2_leaf_reg': 6}. Best is trial 19 with value: 0.9883040935672515.\n",
      "[I 2024-04-23 15:59:34,631] Trial 34 finished with value: 0.9883040935672515 and parameters: {'iterations': 20, 'learning_rate': 0.08099951691171987, 'depth': 10, 'l2_leaf_reg': 4}. Best is trial 19 with value: 0.9883040935672515.\n",
      "[I 2024-04-23 15:59:35,412] Trial 35 finished with value: 0.9824561403508771 and parameters: {'iterations': 22, 'learning_rate': 0.08214039554593784, 'depth': 9, 'l2_leaf_reg': 4}. Best is trial 19 with value: 0.9883040935672515.\n",
      "[I 2024-04-23 15:59:35,866] Trial 36 finished with value: 0.9824561403508771 and parameters: {'iterations': 23, 'learning_rate': 0.0762409124158839, 'depth': 8, 'l2_leaf_reg': 6}. Best is trial 19 with value: 0.9883040935672515.\n",
      "[I 2024-04-23 15:59:37,490] Trial 37 finished with value: 0.9590643274853801 and parameters: {'iterations': 19, 'learning_rate': 0.059233770968801704, 'depth': 10, 'l2_leaf_reg': 4}. Best is trial 19 with value: 0.9883040935672515.\n",
      "[I 2024-04-23 15:59:37,803] Trial 38 finished with value: 0.9473684210526315 and parameters: {'iterations': 27, 'learning_rate': 0.08436056292015971, 'depth': 7, 'l2_leaf_reg': 2}. Best is trial 19 with value: 0.9883040935672515.\n",
      "[I 2024-04-23 15:59:37,959] Trial 39 finished with value: 0.9766081871345029 and parameters: {'iterations': 16, 'learning_rate': 0.06764921172426544, 'depth': 6, 'l2_leaf_reg': 6}. Best is trial 19 with value: 0.9883040935672515.\n",
      "[I 2024-04-23 15:59:54,142] Trial 40 finished with value: 0.9590643274853801 and parameters: {'iterations': 50, 'learning_rate': 0.07704662766125922, 'depth': 12, 'l2_leaf_reg': 5}. Best is trial 19 with value: 0.9883040935672515.\n",
      "[I 2024-04-23 15:59:57,017] Trial 41 finished with value: 0.9590643274853801 and parameters: {'iterations': 34, 'learning_rate': 0.07456302228286865, 'depth': 10, 'l2_leaf_reg': 5}. Best is trial 19 with value: 0.9883040935672515.\n",
      "[I 2024-04-23 16:00:00,360] Trial 42 finished with value: 0.9532163742690059 and parameters: {'iterations': 10, 'learning_rate': 0.06968044493484835, 'depth': 12, 'l2_leaf_reg': 4}. Best is trial 19 with value: 0.9883040935672515.\n",
      "[I 2024-04-23 16:00:01,313] Trial 43 finished with value: 0.9707602339181286 and parameters: {'iterations': 27, 'learning_rate': 0.08973961386879442, 'depth': 9, 'l2_leaf_reg': 7}. Best is trial 19 with value: 0.9883040935672515.\n",
      "[I 2024-04-23 16:00:10,904] Trial 44 finished with value: 0.9649122807017544 and parameters: {'iterations': 57, 'learning_rate': 0.056899320105390415, 'depth': 11, 'l2_leaf_reg': 5}. Best is trial 19 with value: 0.9883040935672515.\n",
      "[I 2024-04-23 16:00:14,388] Trial 45 finished with value: 0.9649122807017544 and parameters: {'iterations': 41, 'learning_rate': 0.08340547750930749, 'depth': 10, 'l2_leaf_reg': 6}. Best is trial 19 with value: 0.9883040935672515.\n",
      "[I 2024-04-23 16:00:14,997] Trial 46 finished with value: 0.9649122807017544 and parameters: {'iterations': 32, 'learning_rate': 0.0802307385880313, 'depth': 8, 'l2_leaf_reg': 5}. Best is trial 19 with value: 0.9883040935672515.\n",
      "[I 2024-04-23 16:00:28,416] Trial 47 finished with value: 0.9824561403508771 and parameters: {'iterations': 80, 'learning_rate': 0.044925306790528745, 'depth': 11, 'l2_leaf_reg': 3}. Best is trial 19 with value: 0.9883040935672515.\n",
      "[I 2024-04-23 16:00:32,602] Trial 48 finished with value: 0.935672514619883 and parameters: {'iterations': 50, 'learning_rate': 0.07192089851824054, 'depth': 10, 'l2_leaf_reg': 4}. Best is trial 19 with value: 0.9883040935672515.\n",
      "[I 2024-04-23 16:01:58,566] Trial 49 finished with value: 0.9415204678362573 and parameters: {'iterations': 68, 'learning_rate': 0.096142244678929, 'depth': 14, 'l2_leaf_reg': 7}. Best is trial 19 with value: 0.9883040935672515.\n"
     ]
    }
   ],
   "source": [
    "study.optimize(func=objective, n_trials=25, show_progress_bar=True)"
   ]
  },
  {
   "cell_type": "code",
   "execution_count": 7,
   "id": "f76fe1db-3d43-4b5e-8ed1-f12a8536ad7c",
   "metadata": {},
   "outputs": [
    {
     "data": {
      "text/plain": [
       "{'iterations': 48,\n",
       " 'learning_rate': 0.07051942642058556,\n",
       " 'depth': 14,\n",
       " 'l2_leaf_reg': 7}"
      ]
     },
     "execution_count": 7,
     "metadata": {},
     "output_type": "execute_result"
    }
   ],
   "source": [
    "study.best_params"
   ]
  },
  {
   "cell_type": "code",
   "execution_count": 10,
   "id": "12d45fea-9e23-4d9f-afb9-851c5a76dcbe",
   "metadata": {},
   "outputs": [],
   "source": [
    "X_train, X_valid, y_train, y_valid = train_test_split(X, y, test_size=0.3)"
   ]
  },
  {
   "cell_type": "code",
   "execution_count": 11,
   "id": "d542494b-84e5-4c15-94ee-9e88a862e551",
   "metadata": {},
   "outputs": [],
   "source": [
    "model = CatBoostClassifier(iterations=48, learning_rate=0.07051942642058556, depth=14, l2_leaf_reg=7)"
   ]
  },
  {
   "cell_type": "code",
   "execution_count": 12,
   "id": "f8f39359-c8a5-415e-83fe-4e410ec2bc6d",
   "metadata": {},
   "outputs": [
    {
     "data": {
      "application/vnd.jupyter.widget-view+json": {
       "model_id": "11b9e199057148da958f83f778dd20f8",
       "version_major": 2,
       "version_minor": 0
      },
      "text/plain": [
       "MetricVisualizer(layout=Layout(align_self='stretch', height='500px'))"
      ]
     },
     "metadata": {},
     "output_type": "display_data"
    }
   ],
   "source": [
    "model.fit(X_train, y_train, eval_set=(X_valid, y_valid), verbose=False, plot=True);"
   ]
  },
  {
   "cell_type": "code",
   "execution_count": 13,
   "id": "ddc1beed-779b-493b-be41-a5fdbf1d9288",
   "metadata": {},
   "outputs": [],
   "source": [
    "preds = model.predict(X_valid)"
   ]
  },
  {
   "cell_type": "code",
   "execution_count": 14,
   "id": "f4b95c11-b3a6-4182-9820-b9ad5b49aa2b",
   "metadata": {},
   "outputs": [
    {
     "data": {
      "text/plain": [
       "0.9590643274853801"
      ]
     },
     "execution_count": 14,
     "metadata": {},
     "output_type": "execute_result"
    }
   ],
   "source": [
    "accuracy_score(y_valid, preds)"
   ]
  },
  {
   "cell_type": "code",
   "execution_count": null,
   "id": "8b9553c2-5dd6-4ecc-b55a-23c23a634a56",
   "metadata": {},
   "outputs": [],
   "source": []
  }
 ],
 "metadata": {
  "kernelspec": {
   "display_name": "Python 3 (ipykernel)",
   "language": "python",
   "name": "python3"
  },
  "language_info": {
   "codemirror_mode": {
    "name": "ipython",
    "version": 3
   },
   "file_extension": ".py",
   "mimetype": "text/x-python",
   "name": "python",
   "nbconvert_exporter": "python",
   "pygments_lexer": "ipython3",
   "version": "3.9.18"
  }
 },
 "nbformat": 4,
 "nbformat_minor": 5
}
