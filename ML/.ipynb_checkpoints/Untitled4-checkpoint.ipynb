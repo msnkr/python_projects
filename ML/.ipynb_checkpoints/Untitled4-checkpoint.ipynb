{
 "cells": [
  {
   "cell_type": "code",
   "execution_count": 1,
   "id": "c550041a-76e7-4b43-801d-dfb4c425c88a",
   "metadata": {},
   "outputs": [],
   "source": [
    "import pandas as pd\n",
    "import numpy as np\n",
    "from catboost import datasets, CatBoostClassifier\n",
    "from sklearn.model_selection import train_test_split\n",
    "import optuna\n",
    "from sklearn.metrics import accuracy_score"
   ]
  },
  {
   "cell_type": "code",
   "execution_count": 7,
   "id": "b40342a3-859e-4a78-aedc-6e95aacdd441",
   "metadata": {},
   "outputs": [],
   "source": [
    "adult_train, adult_valid = datasets.adult()"
   ]
  },
  {
   "cell_type": "code",
   "execution_count": 40,
   "id": "d2db923b-4029-48fc-9ee3-215a955bc71e",
   "metadata": {},
   "outputs": [],
   "source": [
    "X = adult_train.drop(\"income\", axis=1)\n",
    "y = adult_train[\"income\"]"
   ]
  },
  {
   "cell_type": "code",
   "execution_count": 42,
   "id": "6d7fb5bd-1e16-4a08-9469-a86a2221cea0",
   "metadata": {},
   "outputs": [],
   "source": [
    "y.replace({\">50K\": 1, \"<=50K\": 0}, inplace=True)"
   ]
  },
  {
   "cell_type": "code",
   "execution_count": 43,
   "id": "0db29686-dceb-4658-8c5d-61e49e73a104",
   "metadata": {},
   "outputs": [],
   "source": [
    "def preprocess(df):\n",
    "    for label, content in df.items():\n",
    "        if not pd.api.types.is_numeric_dtype(content):\n",
    "            dummies = pd.get_dummies(content, prefix=label)\n",
    "            df = pd.concat([df, dummies], axis=1)\n",
    "            df.drop(label, axis=1, inplace=True)\n",
    "            \n",
    "    return df"
   ]
  },
  {
   "cell_type": "code",
   "execution_count": 51,
   "id": "7e80409d-1a0c-44e6-8d3e-a5607b920ca0",
   "metadata": {},
   "outputs": [],
   "source": [
    "X = preprocess(X)"
   ]
  },
  {
   "cell_type": "code",
   "execution_count": 52,
   "id": "e37df516-eedf-4c34-bb35-becea4e41737",
   "metadata": {},
   "outputs": [],
   "source": [
    "X_train, X_valid, y_train, y_valid = train_test_split(X, y, test_size=0.3)"
   ]
  },
  {
   "cell_type": "code",
   "execution_count": 57,
   "id": "163a5adf-3332-4338-90ec-d2596a297e46",
   "metadata": {},
   "outputs": [],
   "source": [
    "model = CatBoostClassifier()"
   ]
  },
  {
   "cell_type": "code",
   "execution_count": 58,
   "id": "ecdadc1f-dec6-4a5c-87db-1ac656b02179",
   "metadata": {},
   "outputs": [
    {
     "data": {
      "application/vnd.jupyter.widget-view+json": {
       "model_id": "e74ad304a33e4560b131159cc05ee9af",
       "version_major": 2,
       "version_minor": 0
      },
      "text/plain": [
       "MetricVisualizer(layout=Layout(align_self='stretch', height='500px'))"
      ]
     },
     "metadata": {},
     "output_type": "display_data"
    }
   ],
   "source": [
    "model.fit(X_train, y_train, eval_set=(X_valid, y_valid), verbose=False, plot=True);"
   ]
  },
  {
   "cell_type": "code",
   "execution_count": 59,
   "id": "28823df2-ea5f-4e92-b426-ddc05a58f11d",
   "metadata": {},
   "outputs": [],
   "source": [
    "y_preds = model.predict(X_valid)"
   ]
  },
  {
   "cell_type": "code",
   "execution_count": 60,
   "id": "3d405580-cdd3-438c-b69b-294392156f3f",
   "metadata": {},
   "outputs": [
    {
     "data": {
      "text/plain": [
       "0.8824854130412529"
      ]
     },
     "execution_count": 60,
     "metadata": {},
     "output_type": "execute_result"
    }
   ],
   "source": [
    "accuracy_score(y_valid, y_preds)"
   ]
  },
  {
   "cell_type": "code",
   "execution_count": 61,
   "id": "6c149954-935a-4192-adac-5620348d5a17",
   "metadata": {},
   "outputs": [],
   "source": [
    "def objective(trial):\n",
    "    X_train, X_valid, y_train, y_valid = train_test_split(X, y, test_size=0.4)\n",
    "\n",
    "    param = {\n",
    "        \"iterations\": trial.suggest_int(\"iterations\", 100, 1000),\n",
    "        \"learning_rate\": trial.suggest_float(\"learning_rate\", 0.01, 0.1),\n",
    "        \"depth\": trial.suggest_int(\"depth\", 4, 10),\n",
    "        \"l2_leaf_reg\": trial.suggest_int(\"l2_leaf_reg\", 4, 10)\n",
    "    }\n",
    "    \n",
    "    model = CatBoostClassifier(**param, verbose=False, early_stopping_rounds=50)\n",
    "    model.fit(X_train, y_train, eval_set=(X_valid, y_valid))\n",
    "    preds = model.predict(X_valid)\n",
    "    return accuracy_score(y_valid, preds)"
   ]
  },
  {
   "cell_type": "code",
   "execution_count": 62,
   "id": "ea6cf280-8ea7-4a01-b41a-d623c02da953",
   "metadata": {},
   "outputs": [
    {
     "name": "stderr",
     "output_type": "stream",
     "text": [
      "[I 2024-04-24 09:59:12,922] A new study created in memory with name: no-name-8d2b8e63-ce85-41fe-9a2a-03b9e3c9cc88\n"
     ]
    }
   ],
   "source": [
    "study = optuna.create_study(direction=\"maximize\")"
   ]
  },
  {
   "cell_type": "code",
   "execution_count": null,
   "id": "58a16b0a-3949-45ea-92da-161ad68efcb2",
   "metadata": {},
   "outputs": [
    {
     "data": {
      "application/vnd.jupyter.widget-view+json": {
       "model_id": "7b57e2e50f9d4fcb8fdd78a0ce96f5c5",
       "version_major": 2,
       "version_minor": 0
      },
      "text/plain": [
       "  0%|          | 0/200 [00:00<?, ?it/s]"
      ]
     },
     "metadata": {},
     "output_type": "display_data"
    }
   ],
   "source": [
    "study.optimize(func=objective, n_trials=200, show_progress_bar=True)"
   ]
  },
  {
   "cell_type": "code",
   "execution_count": null,
   "id": "5a26f7cf-cc1a-4072-b8fb-563b70b9bf9a",
   "metadata": {},
   "outputs": [],
   "source": [
    "optuna.visualization.plot_optimization_history(study)"
   ]
  },
  {
   "cell_type": "code",
   "execution_count": null,
   "id": "b606b66d-5192-43aa-82ac-abd8f7827f22",
   "metadata": {},
   "outputs": [],
   "source": []
  }
 ],
 "metadata": {
  "kernelspec": {
   "display_name": "Python 3 (ipykernel)",
   "language": "python",
   "name": "python3"
  },
  "language_info": {
   "codemirror_mode": {
    "name": "ipython",
    "version": 3
   },
   "file_extension": ".py",
   "mimetype": "text/x-python",
   "name": "python",
   "nbconvert_exporter": "python",
   "pygments_lexer": "ipython3",
   "version": "3.9.18"
  }
 },
 "nbformat": 4,
 "nbformat_minor": 5
}
