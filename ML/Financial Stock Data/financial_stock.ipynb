{
 "cells": [
  {
   "cell_type": "code",
   "execution_count": null,
   "id": "d02d6217",
   "metadata": {},
   "outputs": [
    {
     "name": "stdout",
     "output_type": "stream",
     "text": [
      "CSV file with 500 rows created: business_data.csv\n"
     ]
    }
   ],
   "source": [
    "# import pandas as pd\n",
    "# import numpy as np\n",
    "# from datetime import datetime, timedelta\n",
    "\n",
    "# # Generate 500 rows of data\n",
    "# num_rows = 500\n",
    "# start_date = datetime(2020, 1, 1)\n",
    "\n",
    "# # Generate random data\n",
    "# data = {\n",
    "#     \"Date\": [(start_date + timedelta(days=30 * i)).strftime(\"%Y-%m-%d\") for i in range(num_rows)],\n",
    "#     \"Total Revenue\": np.random.randint(5000, 20000, size=num_rows),  # Random revenue between 5k and 20k\n",
    "#     \"Monthly Profit\": np.random.randint(1000, 8000, size=num_rows),  # Random profit between 1k and 8k\n",
    "#     \"Expenses\": np.random.randint(3000, 15000, size=num_rows),       # Random expenses between 3k and 15k\n",
    "#     \"Customer Count\": np.random.randint(50, 500, size=num_rows),     # Random customer count between 50 and 500\n",
    "# }\n",
    "\n",
    "# # Create a DataFrame\n",
    "# df = pd.DataFrame(data)\n",
    "\n",
    "# # Save to CSV\n",
    "# csv_file_path = \"business_data.csv\"\n",
    "# df.to_csv(csv_file_path, index=False)\n",
    "\n",
    "# print(f\"CSV file with 500 rows created: {csv_file_path}\")"
   ]
  },
  {
   "cell_type": "code",
   "execution_count": 3,
   "id": "b9e37ca7",
   "metadata": {},
   "outputs": [],
   "source": [
    "import pandas as pd\n",
    "import numpy as np"
   ]
  },
  {
   "cell_type": "code",
   "execution_count": 4,
   "id": "429f0a49",
   "metadata": {},
   "outputs": [],
   "source": [
    "df = pd.read_csv(\"./business_data.csv\")"
   ]
  },
  {
   "cell_type": "code",
   "execution_count": 5,
   "id": "5763656b",
   "metadata": {},
   "outputs": [
    {
     "data": {
      "text/html": [
       "<div>\n",
       "<style scoped>\n",
       "    .dataframe tbody tr th:only-of-type {\n",
       "        vertical-align: middle;\n",
       "    }\n",
       "\n",
       "    .dataframe tbody tr th {\n",
       "        vertical-align: top;\n",
       "    }\n",
       "\n",
       "    .dataframe thead th {\n",
       "        text-align: right;\n",
       "    }\n",
       "</style>\n",
       "<table border=\"1\" class=\"dataframe\">\n",
       "  <thead>\n",
       "    <tr style=\"text-align: right;\">\n",
       "      <th></th>\n",
       "      <th>Date</th>\n",
       "      <th>Total Revenue</th>\n",
       "      <th>Monthly Profit</th>\n",
       "      <th>Expenses</th>\n",
       "      <th>Customer Count</th>\n",
       "    </tr>\n",
       "  </thead>\n",
       "  <tbody>\n",
       "    <tr>\n",
       "      <th>0</th>\n",
       "      <td>2020-01-01</td>\n",
       "      <td>8874</td>\n",
       "      <td>1003</td>\n",
       "      <td>3457</td>\n",
       "      <td>387</td>\n",
       "    </tr>\n",
       "    <tr>\n",
       "      <th>1</th>\n",
       "      <td>2020-01-31</td>\n",
       "      <td>6287</td>\n",
       "      <td>3639</td>\n",
       "      <td>11769</td>\n",
       "      <td>53</td>\n",
       "    </tr>\n",
       "    <tr>\n",
       "      <th>2</th>\n",
       "      <td>2020-03-01</td>\n",
       "      <td>13786</td>\n",
       "      <td>4296</td>\n",
       "      <td>4555</td>\n",
       "      <td>380</td>\n",
       "    </tr>\n",
       "    <tr>\n",
       "      <th>3</th>\n",
       "      <td>2020-03-31</td>\n",
       "      <td>8022</td>\n",
       "      <td>6530</td>\n",
       "      <td>7637</td>\n",
       "      <td>55</td>\n",
       "    </tr>\n",
       "    <tr>\n",
       "      <th>4</th>\n",
       "      <td>2020-04-30</td>\n",
       "      <td>10569</td>\n",
       "      <td>2375</td>\n",
       "      <td>13633</td>\n",
       "      <td>125</td>\n",
       "    </tr>\n",
       "  </tbody>\n",
       "</table>\n",
       "</div>"
      ],
      "text/plain": [
       "         Date  Total Revenue  Monthly Profit  Expenses  Customer Count\n",
       "0  2020-01-01           8874            1003      3457             387\n",
       "1  2020-01-31           6287            3639     11769              53\n",
       "2  2020-03-01          13786            4296      4555             380\n",
       "3  2020-03-31           8022            6530      7637              55\n",
       "4  2020-04-30          10569            2375     13633             125"
      ]
     },
     "execution_count": 5,
     "metadata": {},
     "output_type": "execute_result"
    }
   ],
   "source": [
    "df.head()"
   ]
  },
  {
   "cell_type": "code",
   "execution_count": null,
   "id": "50a9a877",
   "metadata": {},
   "outputs": [],
   "source": []
  }
 ],
 "metadata": {
  "kernelspec": {
   "display_name": "py38",
   "language": "python",
   "name": "python3"
  },
  "language_info": {
   "codemirror_mode": {
    "name": "ipython",
    "version": 3
   },
   "file_extension": ".py",
   "mimetype": "text/x-python",
   "name": "python",
   "nbconvert_exporter": "python",
   "pygments_lexer": "ipython3",
   "version": "3.8.20"
  }
 },
 "nbformat": 4,
 "nbformat_minor": 5
}
