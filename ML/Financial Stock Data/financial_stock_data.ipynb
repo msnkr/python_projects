{
 "cells": [
  {
   "cell_type": "code",
   "execution_count": 2,
   "id": "d82ecea4",
   "metadata": {},
   "outputs": [],
   "source": [
    "import pandas as pd\n",
    "import numpy as np"
   ]
  },
  {
   "cell_type": "code",
   "execution_count": 3,
   "id": "c0c28b75",
   "metadata": {},
   "outputs": [],
   "source": [
    "df = pd.read_csv(\"./financial_stock_data.csv\", parse_dates=[\"Date\"])"
   ]
  },
  {
   "cell_type": "code",
   "execution_count": 4,
   "id": "d955abc7",
   "metadata": {},
   "outputs": [
    {
     "data": {
      "text/html": [
       "<div>\n",
       "<style scoped>\n",
       "    .dataframe tbody tr th:only-of-type {\n",
       "        vertical-align: middle;\n",
       "    }\n",
       "\n",
       "    .dataframe tbody tr th {\n",
       "        vertical-align: top;\n",
       "    }\n",
       "\n",
       "    .dataframe thead th {\n",
       "        text-align: right;\n",
       "    }\n",
       "</style>\n",
       "<table border=\"1\" class=\"dataframe\">\n",
       "  <thead>\n",
       "    <tr style=\"text-align: right;\">\n",
       "      <th></th>\n",
       "      <th>Date</th>\n",
       "      <th>Expenses</th>\n",
       "      <th>Money_In</th>\n",
       "      <th>Total_Money</th>\n",
       "      <th>Money_Spent</th>\n",
       "      <th>Money_Left</th>\n",
       "      <th>Stock_On_Hand</th>\n",
       "      <th>Stock_To_Order</th>\n",
       "    </tr>\n",
       "  </thead>\n",
       "  <tbody>\n",
       "    <tr>\n",
       "      <th>0</th>\n",
       "      <td>2024-01-01</td>\n",
       "      <td>427</td>\n",
       "      <td>428</td>\n",
       "      <td>10428</td>\n",
       "      <td>427</td>\n",
       "      <td>10001</td>\n",
       "      <td>125</td>\n",
       "      <td>479</td>\n",
       "    </tr>\n",
       "    <tr>\n",
       "      <th>1</th>\n",
       "      <td>2024-01-02</td>\n",
       "      <td>240</td>\n",
       "      <td>701</td>\n",
       "      <td>10702</td>\n",
       "      <td>240</td>\n",
       "      <td>10462</td>\n",
       "      <td>328</td>\n",
       "      <td>0</td>\n",
       "    </tr>\n",
       "    <tr>\n",
       "      <th>2</th>\n",
       "      <td>2024-01-03</td>\n",
       "      <td>171</td>\n",
       "      <td>409</td>\n",
       "      <td>10871</td>\n",
       "      <td>171</td>\n",
       "      <td>10700</td>\n",
       "      <td>792</td>\n",
       "      <td>0</td>\n",
       "    </tr>\n",
       "    <tr>\n",
       "      <th>3</th>\n",
       "      <td>2024-01-04</td>\n",
       "      <td>479</td>\n",
       "      <td>1316</td>\n",
       "      <td>12016</td>\n",
       "      <td>479</td>\n",
       "      <td>11537</td>\n",
       "      <td>189</td>\n",
       "      <td>402</td>\n",
       "    </tr>\n",
       "    <tr>\n",
       "      <th>4</th>\n",
       "      <td>2024-01-05</td>\n",
       "      <td>316</td>\n",
       "      <td>265</td>\n",
       "      <td>11802</td>\n",
       "      <td>316</td>\n",
       "      <td>11486</td>\n",
       "      <td>130</td>\n",
       "      <td>147</td>\n",
       "    </tr>\n",
       "  </tbody>\n",
       "</table>\n",
       "</div>"
      ],
      "text/plain": [
       "        Date  Expenses  Money_In  Total_Money  Money_Spent  Money_Left  \\\n",
       "0 2024-01-01       427       428        10428          427       10001   \n",
       "1 2024-01-02       240       701        10702          240       10462   \n",
       "2 2024-01-03       171       409        10871          171       10700   \n",
       "3 2024-01-04       479      1316        12016          479       11537   \n",
       "4 2024-01-05       316       265        11802          316       11486   \n",
       "\n",
       "   Stock_On_Hand  Stock_To_Order  \n",
       "0            125             479  \n",
       "1            328               0  \n",
       "2            792               0  \n",
       "3            189             402  \n",
       "4            130             147  "
      ]
     },
     "execution_count": 4,
     "metadata": {},
     "output_type": "execute_result"
    }
   ],
   "source": [
    "df.head()"
   ]
  },
  {
   "cell_type": "code",
   "execution_count": 5,
   "id": "5e30b9bb",
   "metadata": {},
   "outputs": [],
   "source": [
    "df[\"Day\"] = df[\"Date\"].dt.day\n",
    "df[\"Year\"] = df[\"Date\"].dt.year\n",
    "df[\"Month\"] = df[\"Date\"].dt.month"
   ]
  },
  {
   "cell_type": "code",
   "execution_count": 6,
   "id": "6ae7c080",
   "metadata": {},
   "outputs": [
    {
     "data": {
      "text/plain": [
       "Month\n",
       "1     93\n",
       "3     93\n",
       "5     93\n",
       "7     93\n",
       "8     93\n",
       "4     90\n",
       "6     90\n",
       "9     86\n",
       "2     85\n",
       "10    62\n",
       "12    62\n",
       "11    60\n",
       "Name: count, dtype: int64"
      ]
     },
     "execution_count": 6,
     "metadata": {},
     "output_type": "execute_result"
    }
   ],
   "source": [
    "df[\"Month\"].value_counts()"
   ]
  },
  {
   "cell_type": "code",
   "execution_count": 7,
   "id": "37ccf8ee",
   "metadata": {},
   "outputs": [],
   "source": [
    "import seaborn as sns\n",
    "import matplotlib.pyplot as plt"
   ]
  },
  {
   "cell_type": "code",
   "execution_count": 8,
   "id": "bafb518c",
   "metadata": {},
   "outputs": [
    {
     "data": {
      "text/html": [
       "<div>\n",
       "<style scoped>\n",
       "    .dataframe tbody tr th:only-of-type {\n",
       "        vertical-align: middle;\n",
       "    }\n",
       "\n",
       "    .dataframe tbody tr th {\n",
       "        vertical-align: top;\n",
       "    }\n",
       "\n",
       "    .dataframe thead th {\n",
       "        text-align: right;\n",
       "    }\n",
       "</style>\n",
       "<table border=\"1\" class=\"dataframe\">\n",
       "  <thead>\n",
       "    <tr style=\"text-align: right;\">\n",
       "      <th></th>\n",
       "      <th>Date</th>\n",
       "      <th>Expenses</th>\n",
       "      <th>Money_In</th>\n",
       "      <th>Total_Money</th>\n",
       "      <th>Money_Spent</th>\n",
       "      <th>Money_Left</th>\n",
       "      <th>Stock_On_Hand</th>\n",
       "      <th>Stock_To_Order</th>\n",
       "      <th>Day</th>\n",
       "      <th>Year</th>\n",
       "      <th>Month</th>\n",
       "    </tr>\n",
       "  </thead>\n",
       "  <tbody>\n",
       "    <tr>\n",
       "      <th>0</th>\n",
       "      <td>2024-01-01</td>\n",
       "      <td>427</td>\n",
       "      <td>428</td>\n",
       "      <td>10428</td>\n",
       "      <td>427</td>\n",
       "      <td>10001</td>\n",
       "      <td>125</td>\n",
       "      <td>479</td>\n",
       "      <td>1</td>\n",
       "      <td>2024</td>\n",
       "      <td>1</td>\n",
       "    </tr>\n",
       "    <tr>\n",
       "      <th>1</th>\n",
       "      <td>2024-01-02</td>\n",
       "      <td>240</td>\n",
       "      <td>701</td>\n",
       "      <td>10702</td>\n",
       "      <td>240</td>\n",
       "      <td>10462</td>\n",
       "      <td>328</td>\n",
       "      <td>0</td>\n",
       "      <td>2</td>\n",
       "      <td>2024</td>\n",
       "      <td>1</td>\n",
       "    </tr>\n",
       "    <tr>\n",
       "      <th>2</th>\n",
       "      <td>2024-01-03</td>\n",
       "      <td>171</td>\n",
       "      <td>409</td>\n",
       "      <td>10871</td>\n",
       "      <td>171</td>\n",
       "      <td>10700</td>\n",
       "      <td>792</td>\n",
       "      <td>0</td>\n",
       "      <td>3</td>\n",
       "      <td>2024</td>\n",
       "      <td>1</td>\n",
       "    </tr>\n",
       "    <tr>\n",
       "      <th>3</th>\n",
       "      <td>2024-01-04</td>\n",
       "      <td>479</td>\n",
       "      <td>1316</td>\n",
       "      <td>12016</td>\n",
       "      <td>479</td>\n",
       "      <td>11537</td>\n",
       "      <td>189</td>\n",
       "      <td>402</td>\n",
       "      <td>4</td>\n",
       "      <td>2024</td>\n",
       "      <td>1</td>\n",
       "    </tr>\n",
       "    <tr>\n",
       "      <th>4</th>\n",
       "      <td>2024-01-05</td>\n",
       "      <td>316</td>\n",
       "      <td>265</td>\n",
       "      <td>11802</td>\n",
       "      <td>316</td>\n",
       "      <td>11486</td>\n",
       "      <td>130</td>\n",
       "      <td>147</td>\n",
       "      <td>5</td>\n",
       "      <td>2024</td>\n",
       "      <td>1</td>\n",
       "    </tr>\n",
       "  </tbody>\n",
       "</table>\n",
       "</div>"
      ],
      "text/plain": [
       "        Date  Expenses  Money_In  Total_Money  Money_Spent  Money_Left  \\\n",
       "0 2024-01-01       427       428        10428          427       10001   \n",
       "1 2024-01-02       240       701        10702          240       10462   \n",
       "2 2024-01-03       171       409        10871          171       10700   \n",
       "3 2024-01-04       479      1316        12016          479       11537   \n",
       "4 2024-01-05       316       265        11802          316       11486   \n",
       "\n",
       "   Stock_On_Hand  Stock_To_Order  Day  Year  Month  \n",
       "0            125             479    1  2024      1  \n",
       "1            328               0    2  2024      1  \n",
       "2            792               0    3  2024      1  \n",
       "3            189             402    4  2024      1  \n",
       "4            130             147    5  2024      1  "
      ]
     },
     "execution_count": 8,
     "metadata": {},
     "output_type": "execute_result"
    }
   ],
   "source": [
    "df.head()"
   ]
  },
  {
   "cell_type": "code",
   "execution_count": 9,
   "id": "947ec055",
   "metadata": {},
   "outputs": [],
   "source": [
    "df.drop(\"Date\", axis=1, inplace=True)"
   ]
  },
  {
   "cell_type": "code",
   "execution_count": 10,
   "id": "8c1f3158",
   "metadata": {},
   "outputs": [
    {
     "data": {
      "text/html": [
       "<div>\n",
       "<style scoped>\n",
       "    .dataframe tbody tr th:only-of-type {\n",
       "        vertical-align: middle;\n",
       "    }\n",
       "\n",
       "    .dataframe tbody tr th {\n",
       "        vertical-align: top;\n",
       "    }\n",
       "\n",
       "    .dataframe thead th {\n",
       "        text-align: right;\n",
       "    }\n",
       "</style>\n",
       "<table border=\"1\" class=\"dataframe\">\n",
       "  <thead>\n",
       "    <tr style=\"text-align: right;\">\n",
       "      <th></th>\n",
       "      <th>Expenses</th>\n",
       "      <th>Money_In</th>\n",
       "      <th>Total_Money</th>\n",
       "      <th>Money_Spent</th>\n",
       "      <th>Money_Left</th>\n",
       "      <th>Stock_On_Hand</th>\n",
       "      <th>Stock_To_Order</th>\n",
       "      <th>Day</th>\n",
       "      <th>Year</th>\n",
       "      <th>Month</th>\n",
       "    </tr>\n",
       "  </thead>\n",
       "  <tbody>\n",
       "    <tr>\n",
       "      <th>0</th>\n",
       "      <td>427</td>\n",
       "      <td>428</td>\n",
       "      <td>10428</td>\n",
       "      <td>427</td>\n",
       "      <td>10001</td>\n",
       "      <td>125</td>\n",
       "      <td>479</td>\n",
       "      <td>1</td>\n",
       "      <td>2024</td>\n",
       "      <td>1</td>\n",
       "    </tr>\n",
       "    <tr>\n",
       "      <th>1</th>\n",
       "      <td>240</td>\n",
       "      <td>701</td>\n",
       "      <td>10702</td>\n",
       "      <td>240</td>\n",
       "      <td>10462</td>\n",
       "      <td>328</td>\n",
       "      <td>0</td>\n",
       "      <td>2</td>\n",
       "      <td>2024</td>\n",
       "      <td>1</td>\n",
       "    </tr>\n",
       "    <tr>\n",
       "      <th>2</th>\n",
       "      <td>171</td>\n",
       "      <td>409</td>\n",
       "      <td>10871</td>\n",
       "      <td>171</td>\n",
       "      <td>10700</td>\n",
       "      <td>792</td>\n",
       "      <td>0</td>\n",
       "      <td>3</td>\n",
       "      <td>2024</td>\n",
       "      <td>1</td>\n",
       "    </tr>\n",
       "    <tr>\n",
       "      <th>3</th>\n",
       "      <td>479</td>\n",
       "      <td>1316</td>\n",
       "      <td>12016</td>\n",
       "      <td>479</td>\n",
       "      <td>11537</td>\n",
       "      <td>189</td>\n",
       "      <td>402</td>\n",
       "      <td>4</td>\n",
       "      <td>2024</td>\n",
       "      <td>1</td>\n",
       "    </tr>\n",
       "    <tr>\n",
       "      <th>4</th>\n",
       "      <td>316</td>\n",
       "      <td>265</td>\n",
       "      <td>11802</td>\n",
       "      <td>316</td>\n",
       "      <td>11486</td>\n",
       "      <td>130</td>\n",
       "      <td>147</td>\n",
       "      <td>5</td>\n",
       "      <td>2024</td>\n",
       "      <td>1</td>\n",
       "    </tr>\n",
       "  </tbody>\n",
       "</table>\n",
       "</div>"
      ],
      "text/plain": [
       "   Expenses  Money_In  Total_Money  Money_Spent  Money_Left  Stock_On_Hand  \\\n",
       "0       427       428        10428          427       10001            125   \n",
       "1       240       701        10702          240       10462            328   \n",
       "2       171       409        10871          171       10700            792   \n",
       "3       479      1316        12016          479       11537            189   \n",
       "4       316       265        11802          316       11486            130   \n",
       "\n",
       "   Stock_To_Order  Day  Year  Month  \n",
       "0             479    1  2024      1  \n",
       "1               0    2  2024      1  \n",
       "2               0    3  2024      1  \n",
       "3             402    4  2024      1  \n",
       "4             147    5  2024      1  "
      ]
     },
     "execution_count": 10,
     "metadata": {},
     "output_type": "execute_result"
    }
   ],
   "source": [
    "df.head()"
   ]
  },
  {
   "cell_type": "code",
   "execution_count": 11,
   "id": "82b37144",
   "metadata": {},
   "outputs": [],
   "source": [
    "from sklearn.model_selection import train_test_split"
   ]
  },
  {
   "cell_type": "code",
   "execution_count": null,
   "id": "5f9f0b36",
   "metadata": {},
   "outputs": [],
   "source": [
    "X = df.drop(\"Money_Left\", axis=1)\n",
    "y = df[\"Money_Left\"]\n",
    "\n",
    "X_train, X_test, y_train, y_test = train_test_split(\n",
    "    X, y, test_size=0.2, random_state=42)"
   ]
  },
  {
   "cell_type": "code",
   "execution_count": 30,
   "id": "e3840c9e",
   "metadata": {},
   "outputs": [
    {
     "data": {
      "text/plain": [
       "1000"
      ]
     },
     "execution_count": 30,
     "metadata": {},
     "output_type": "execute_result"
    }
   ],
   "source": [
    "len(df)"
   ]
  },
  {
   "cell_type": "code",
   "execution_count": 31,
   "id": "29c6fbdc",
   "metadata": {},
   "outputs": [],
   "source": [
    "from xgboost import XGBRegressor\n",
    "from sklearn.metrics import mean_squared_log_error"
   ]
  },
  {
   "cell_type": "code",
   "execution_count": 32,
   "id": "cd5b91ce",
   "metadata": {},
   "outputs": [],
   "source": [
    "xgb = XGBRegressor()"
   ]
  },
  {
   "cell_type": "code",
   "execution_count": null,
   "id": "b7ef9a6d",
   "metadata": {},
   "outputs": [],
   "source": [
    "xgb.fit(X_train, y_train)"
   ]
  },
  {
   "cell_type": "code",
   "execution_count": 34,
   "id": "b0da3b08",
   "metadata": {},
   "outputs": [],
   "source": [
    "y_preds = xgb.predict(X_test)"
   ]
  },
  {
   "cell_type": "code",
   "execution_count": 35,
   "id": "ab7d8357",
   "metadata": {},
   "outputs": [
    {
     "data": {
      "text/plain": [
       "0.0003833312933695493"
      ]
     },
     "execution_count": 35,
     "metadata": {},
     "output_type": "execute_result"
    }
   ],
   "source": [
    "mean_squared_log_error(y_test, y_preds)"
   ]
  },
  {
   "cell_type": "code",
   "execution_count": null,
   "id": "908baace",
   "metadata": {},
   "outputs": [],
   "source": []
  }
 ],
 "metadata": {
  "kernelspec": {
   "display_name": "py38",
   "language": "python",
   "name": "python3"
  },
  "language_info": {
   "codemirror_mode": {
    "name": "ipython",
    "version": 3
   },
   "file_extension": ".py",
   "mimetype": "text/x-python",
   "name": "python",
   "nbconvert_exporter": "python",
   "pygments_lexer": "ipython3",
   "version": "3.8.20"
  }
 },
 "nbformat": 4,
 "nbformat_minor": 5
}
