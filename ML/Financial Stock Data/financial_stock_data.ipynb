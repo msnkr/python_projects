{
 "cells": [
  {
   "cell_type": "code",
   "execution_count": 1,
   "id": "d82ecea4",
   "metadata": {},
   "outputs": [],
   "source": [
    "import pandas as pd\n",
    "import numpy as np"
   ]
  },
  {
   "cell_type": "code",
   "execution_count": 4,
   "id": "c0c28b75",
   "metadata": {},
   "outputs": [],
   "source": [
    "df = pd.read_csv(\"./financial_stock_data.csv\", parse_dates=[\"Date\"])"
   ]
  },
  {
   "cell_type": "code",
   "execution_count": 5,
   "id": "d955abc7",
   "metadata": {},
   "outputs": [
    {
     "data": {
      "text/html": [
       "<div>\n",
       "<style scoped>\n",
       "    .dataframe tbody tr th:only-of-type {\n",
       "        vertical-align: middle;\n",
       "    }\n",
       "\n",
       "    .dataframe tbody tr th {\n",
       "        vertical-align: top;\n",
       "    }\n",
       "\n",
       "    .dataframe thead th {\n",
       "        text-align: right;\n",
       "    }\n",
       "</style>\n",
       "<table border=\"1\" class=\"dataframe\">\n",
       "  <thead>\n",
       "    <tr style=\"text-align: right;\">\n",
       "      <th></th>\n",
       "      <th>Date</th>\n",
       "      <th>Expenses</th>\n",
       "      <th>Money_In</th>\n",
       "      <th>Total_Money</th>\n",
       "      <th>Money_Spent</th>\n",
       "      <th>Money_Left</th>\n",
       "      <th>Stock_On_Hand</th>\n",
       "      <th>Stock_To_Order</th>\n",
       "    </tr>\n",
       "  </thead>\n",
       "  <tbody>\n",
       "    <tr>\n",
       "      <th>0</th>\n",
       "      <td>2024-01-01</td>\n",
       "      <td>427</td>\n",
       "      <td>428</td>\n",
       "      <td>10428</td>\n",
       "      <td>427</td>\n",
       "      <td>10001</td>\n",
       "      <td>125</td>\n",
       "      <td>479</td>\n",
       "    </tr>\n",
       "    <tr>\n",
       "      <th>1</th>\n",
       "      <td>2024-01-02</td>\n",
       "      <td>240</td>\n",
       "      <td>701</td>\n",
       "      <td>10702</td>\n",
       "      <td>240</td>\n",
       "      <td>10462</td>\n",
       "      <td>328</td>\n",
       "      <td>0</td>\n",
       "    </tr>\n",
       "    <tr>\n",
       "      <th>2</th>\n",
       "      <td>2024-01-03</td>\n",
       "      <td>171</td>\n",
       "      <td>409</td>\n",
       "      <td>10871</td>\n",
       "      <td>171</td>\n",
       "      <td>10700</td>\n",
       "      <td>792</td>\n",
       "      <td>0</td>\n",
       "    </tr>\n",
       "    <tr>\n",
       "      <th>3</th>\n",
       "      <td>2024-01-04</td>\n",
       "      <td>479</td>\n",
       "      <td>1316</td>\n",
       "      <td>12016</td>\n",
       "      <td>479</td>\n",
       "      <td>11537</td>\n",
       "      <td>189</td>\n",
       "      <td>402</td>\n",
       "    </tr>\n",
       "    <tr>\n",
       "      <th>4</th>\n",
       "      <td>2024-01-05</td>\n",
       "      <td>316</td>\n",
       "      <td>265</td>\n",
       "      <td>11802</td>\n",
       "      <td>316</td>\n",
       "      <td>11486</td>\n",
       "      <td>130</td>\n",
       "      <td>147</td>\n",
       "    </tr>\n",
       "  </tbody>\n",
       "</table>\n",
       "</div>"
      ],
      "text/plain": [
       "        Date  Expenses  Money_In  Total_Money  Money_Spent  Money_Left  \\\n",
       "0 2024-01-01       427       428        10428          427       10001   \n",
       "1 2024-01-02       240       701        10702          240       10462   \n",
       "2 2024-01-03       171       409        10871          171       10700   \n",
       "3 2024-01-04       479      1316        12016          479       11537   \n",
       "4 2024-01-05       316       265        11802          316       11486   \n",
       "\n",
       "   Stock_On_Hand  Stock_To_Order  \n",
       "0            125             479  \n",
       "1            328               0  \n",
       "2            792               0  \n",
       "3            189             402  \n",
       "4            130             147  "
      ]
     },
     "execution_count": 5,
     "metadata": {},
     "output_type": "execute_result"
    }
   ],
   "source": [
    "df.head()"
   ]
  },
  {
   "cell_type": "code",
   "execution_count": 7,
   "id": "5e30b9bb",
   "metadata": {},
   "outputs": [],
   "source": [
    "df[\"Day\"] = df[\"Date\"].dt.day\n",
    "df[\"Year\"] = df[\"Date\"].dt.year\n",
    "df[\"Month\"] = df[\"Date\"].dt.month"
   ]
  },
  {
   "cell_type": "code",
   "execution_count": 10,
   "id": "6ae7c080",
   "metadata": {},
   "outputs": [
    {
     "data": {
      "text/plain": [
       "Month\n",
       "1     93\n",
       "3     93\n",
       "5     93\n",
       "7     93\n",
       "8     93\n",
       "4     90\n",
       "6     90\n",
       "9     86\n",
       "2     85\n",
       "10    62\n",
       "12    62\n",
       "11    60\n",
       "Name: count, dtype: int64"
      ]
     },
     "execution_count": 10,
     "metadata": {},
     "output_type": "execute_result"
    }
   ],
   "source": [
    "df[\"Month\"].value_counts()"
   ]
  },
  {
   "cell_type": "code",
   "execution_count": 11,
   "id": "37ccf8ee",
   "metadata": {},
   "outputs": [],
   "source": [
    "import seaborn as sns\n",
    "import matplotlib.pyplot as plt"
   ]
  },
  {
   "cell_type": "code",
   "execution_count": 15,
   "id": "bafb518c",
   "metadata": {},
   "outputs": [
    {
     "data": {
      "text/html": [
       "<div>\n",
       "<style scoped>\n",
       "    .dataframe tbody tr th:only-of-type {\n",
       "        vertical-align: middle;\n",
       "    }\n",
       "\n",
       "    .dataframe tbody tr th {\n",
       "        vertical-align: top;\n",
       "    }\n",
       "\n",
       "    .dataframe thead th {\n",
       "        text-align: right;\n",
       "    }\n",
       "</style>\n",
       "<table border=\"1\" class=\"dataframe\">\n",
       "  <thead>\n",
       "    <tr style=\"text-align: right;\">\n",
       "      <th></th>\n",
       "      <th>Date</th>\n",
       "      <th>Expenses</th>\n",
       "      <th>Money_In</th>\n",
       "      <th>Total_Money</th>\n",
       "      <th>Money_Spent</th>\n",
       "      <th>Money_Left</th>\n",
       "      <th>Stock_On_Hand</th>\n",
       "      <th>Stock_To_Order</th>\n",
       "      <th>Day</th>\n",
       "      <th>Year</th>\n",
       "      <th>Month</th>\n",
       "    </tr>\n",
       "  </thead>\n",
       "  <tbody>\n",
       "    <tr>\n",
       "      <th>0</th>\n",
       "      <td>2024-01-01</td>\n",
       "      <td>427</td>\n",
       "      <td>428</td>\n",
       "      <td>10428</td>\n",
       "      <td>427</td>\n",
       "      <td>10001</td>\n",
       "      <td>125</td>\n",
       "      <td>479</td>\n",
       "      <td>1</td>\n",
       "      <td>2024</td>\n",
       "      <td>1</td>\n",
       "    </tr>\n",
       "    <tr>\n",
       "      <th>1</th>\n",
       "      <td>2024-01-02</td>\n",
       "      <td>240</td>\n",
       "      <td>701</td>\n",
       "      <td>10702</td>\n",
       "      <td>240</td>\n",
       "      <td>10462</td>\n",
       "      <td>328</td>\n",
       "      <td>0</td>\n",
       "      <td>2</td>\n",
       "      <td>2024</td>\n",
       "      <td>1</td>\n",
       "    </tr>\n",
       "    <tr>\n",
       "      <th>2</th>\n",
       "      <td>2024-01-03</td>\n",
       "      <td>171</td>\n",
       "      <td>409</td>\n",
       "      <td>10871</td>\n",
       "      <td>171</td>\n",
       "      <td>10700</td>\n",
       "      <td>792</td>\n",
       "      <td>0</td>\n",
       "      <td>3</td>\n",
       "      <td>2024</td>\n",
       "      <td>1</td>\n",
       "    </tr>\n",
       "    <tr>\n",
       "      <th>3</th>\n",
       "      <td>2024-01-04</td>\n",
       "      <td>479</td>\n",
       "      <td>1316</td>\n",
       "      <td>12016</td>\n",
       "      <td>479</td>\n",
       "      <td>11537</td>\n",
       "      <td>189</td>\n",
       "      <td>402</td>\n",
       "      <td>4</td>\n",
       "      <td>2024</td>\n",
       "      <td>1</td>\n",
       "    </tr>\n",
       "    <tr>\n",
       "      <th>4</th>\n",
       "      <td>2024-01-05</td>\n",
       "      <td>316</td>\n",
       "      <td>265</td>\n",
       "      <td>11802</td>\n",
       "      <td>316</td>\n",
       "      <td>11486</td>\n",
       "      <td>130</td>\n",
       "      <td>147</td>\n",
       "      <td>5</td>\n",
       "      <td>2024</td>\n",
       "      <td>1</td>\n",
       "    </tr>\n",
       "  </tbody>\n",
       "</table>\n",
       "</div>"
      ],
      "text/plain": [
       "        Date  Expenses  Money_In  Total_Money  Money_Spent  Money_Left  \\\n",
       "0 2024-01-01       427       428        10428          427       10001   \n",
       "1 2024-01-02       240       701        10702          240       10462   \n",
       "2 2024-01-03       171       409        10871          171       10700   \n",
       "3 2024-01-04       479      1316        12016          479       11537   \n",
       "4 2024-01-05       316       265        11802          316       11486   \n",
       "\n",
       "   Stock_On_Hand  Stock_To_Order  Day  Year  Month  \n",
       "0            125             479    1  2024      1  \n",
       "1            328               0    2  2024      1  \n",
       "2            792               0    3  2024      1  \n",
       "3            189             402    4  2024      1  \n",
       "4            130             147    5  2024      1  "
      ]
     },
     "execution_count": 15,
     "metadata": {},
     "output_type": "execute_result"
    }
   ],
   "source": [
    "df.head()"
   ]
  },
  {
   "cell_type": "code",
   "execution_count": 28,
   "id": "2758d1d4",
   "metadata": {},
   "outputs": [
    {
     "data": {
      "image/png": "[encoded data removed]",
      "text/plain": [
       "<Figure size 1400x800 with 4 Axes>"
      ]
     },
     "metadata": {},
     "output_type": "display_data"
    }
   ],
   "source": [
    "\n",
    "fig, ((ax1, ax2), (ax3, ax4)) = plt.subplots(nrows=2, ncols=2, figsize=(14, 8))\n",
    "\n",
    "ax_1 = sns.barplot(x=df[\"Year\"], y=df[\"Money_In\"], ax=ax1)\n",
    "ax_2 = sns.barplot(x=df[\"Year\"], y=df[\"Money_Left\"], ax=ax2)\n",
    "ax_3 = sns.barplot(x=df[\"Year\"], y=df[\"Money_Spent\"], ax=ax3)\n",
    "ax_4 = sns.barplot(x=df[\"Year\"], y=df[\"Stock_On_Hand\"], ax=ax4)"
   ]
  },
  {
   "cell_type": "code",
   "execution_count": null,
   "id": "947ec055",
   "metadata": {},
   "outputs": [],
   "source": []
  }
 ],
 "metadata": {
  "kernelspec": {
   "display_name": "py38",
   "language": "python",
   "name": "python3"
  },
  "language_info": {
   "codemirror_mode": {
    "name": "ipython",
    "version": 3
   },
   "file_extension": ".py",
   "mimetype": "text/x-python",
   "name": "python",
   "nbconvert_exporter": "python",
   "pygments_lexer": "ipython3",
   "version": "3.8.20"
  }
 },
 "nbformat": 4,
 "nbformat_minor": 5
}
