{
 "cells": [
  {
   "cell_type": "code",
   "execution_count": 39,
   "id": "8c602437",
   "metadata": {},
   "outputs": [],
   "source": [
    "import numpy as np"
   ]
  },
  {
   "cell_type": "markdown",
   "id": "49c39ea8",
   "metadata": {},
   "source": [
    "# Datatypes and attributes"
   ]
  },
  {
   "cell_type": "code",
   "execution_count": 40,
   "id": "7533449c",
   "metadata": {},
   "outputs": [
    {
     "data": {
      "text/plain": [
       "array([1, 2, 3])"
      ]
     },
     "execution_count": 40,
     "metadata": {},
     "output_type": "execute_result"
    }
   ],
   "source": [
    "# Nunmpy's main datatype is a ndarray\n",
    "a1 = np.array([1, 2, 3])\n",
    "a1"
   ]
  },
  {
   "cell_type": "code",
   "execution_count": 3,
   "id": "6aad9e00",
   "metadata": {},
   "outputs": [
    {
     "data": {
      "text/plain": [
       "numpy.ndarray"
      ]
     },
     "execution_count": 3,
     "metadata": {},
     "output_type": "execute_result"
    }
   ],
   "source": [
    "type(a1)"
   ]
  },
  {
   "cell_type": "code",
   "execution_count": 41,
   "id": "7239989c",
   "metadata": {},
   "outputs": [],
   "source": [
    "a2 = np.array([[1, 2, 3.0], [4, 5, 6.6]])"
   ]
  },
  {
   "cell_type": "code",
   "execution_count": 42,
   "id": "1568eb62",
   "metadata": {},
   "outputs": [],
   "source": [
    "a3 = np.array([[[1, 2, 3], [4, 5, 6], [7, 8, 9]], [[10, 11, 12], [13, 14, 15], [16, 17, 18]]])"
   ]
  },
  {
   "cell_type": "code",
   "execution_count": 6,
   "id": "a5fd6f82",
   "metadata": {},
   "outputs": [
    {
     "data": {
      "text/plain": [
       "array([[1. , 2. , 3. ],\n",
       "       [4. , 5. , 6.6]])"
      ]
     },
     "execution_count": 6,
     "metadata": {},
     "output_type": "execute_result"
    }
   ],
   "source": [
    "a2"
   ]
  },
  {
   "cell_type": "code",
   "execution_count": 9,
   "id": "521d5e75",
   "metadata": {},
   "outputs": [
    {
     "data": {
      "text/plain": [
       "array([[[ 1,  2,  3],\n",
       "        [ 4,  5,  6],\n",
       "        [ 7,  8,  9]],\n",
       "\n",
       "       [[10, 11, 12],\n",
       "        [13, 14, 15],\n",
       "        [16, 17, 18]]])"
      ]
     },
     "execution_count": 9,
     "metadata": {},
     "output_type": "execute_result"
    }
   ],
   "source": [
    "a3"
   ]
  },
  {
   "cell_type": "code",
   "execution_count": 10,
   "id": "9f19bceb",
   "metadata": {},
   "outputs": [
    {
     "data": {
      "text/plain": [
       "(3,)"
      ]
     },
     "execution_count": 10,
     "metadata": {},
     "output_type": "execute_result"
    }
   ],
   "source": [
    "a1.shape"
   ]
  },
  {
   "cell_type": "code",
   "execution_count": 11,
   "id": "d154cbf9",
   "metadata": {},
   "outputs": [
    {
     "data": {
      "text/plain": [
       "(2, 3)"
      ]
     },
     "execution_count": 11,
     "metadata": {},
     "output_type": "execute_result"
    }
   ],
   "source": [
    "a2.shape"
   ]
  },
  {
   "cell_type": "code",
   "execution_count": 12,
   "id": "6fe10edd",
   "metadata": {},
   "outputs": [
    {
     "data": {
      "text/plain": [
       "(2, 3, 3)"
      ]
     },
     "execution_count": 12,
     "metadata": {},
     "output_type": "execute_result"
    }
   ],
   "source": [
    "a3.shape"
   ]
  },
  {
   "cell_type": "code",
   "execution_count": 13,
   "id": "65d143d1",
   "metadata": {},
   "outputs": [
    {
     "data": {
      "text/plain": [
       "(1, 2, 3)"
      ]
     },
     "execution_count": 13,
     "metadata": {},
     "output_type": "execute_result"
    }
   ],
   "source": [
    "a1.ndim, a2.ndim, a3.ndim"
   ]
  },
  {
   "cell_type": "code",
   "execution_count": 14,
   "id": "b529f1c2",
   "metadata": {},
   "outputs": [
    {
     "data": {
      "text/plain": [
       "(dtype('int32'), dtype('float64'), dtype('int32'))"
      ]
     },
     "execution_count": 14,
     "metadata": {},
     "output_type": "execute_result"
    }
   ],
   "source": [
    "a1.dtype, a2.dtype, a3.dtype"
   ]
  },
  {
   "cell_type": "code",
   "execution_count": 15,
   "id": "3a5b43c8",
   "metadata": {},
   "outputs": [
    {
     "data": {
      "text/plain": [
       "(3, 6, 18)"
      ]
     },
     "execution_count": 15,
     "metadata": {},
     "output_type": "execute_result"
    }
   ],
   "source": [
    "a1.size, a2.size, a3.size"
   ]
  },
  {
   "cell_type": "code",
   "execution_count": 16,
   "id": "0449b745",
   "metadata": {},
   "outputs": [
    {
     "data": {
      "text/plain": [
       "(numpy.ndarray, numpy.ndarray, numpy.ndarray)"
      ]
     },
     "execution_count": 16,
     "metadata": {},
     "output_type": "execute_result"
    }
   ],
   "source": [
    "type(a1), type(a2), type(a3)"
   ]
  },
  {
   "cell_type": "code",
   "execution_count": 17,
   "id": "b74884b6",
   "metadata": {},
   "outputs": [],
   "source": [
    "# Create a dataframe from a numpy array\n",
    "import pandas as pd\n",
    "\n",
    "df = pd.DataFrame(a2)"
   ]
  },
  {
   "cell_type": "code",
   "execution_count": 18,
   "id": "3d470df5",
   "metadata": {
    "scrolled": true
   },
   "outputs": [
    {
     "data": {
      "text/html": [
       "<div>\n",
       "<style scoped>\n",
       "    .dataframe tbody tr th:only-of-type {\n",
       "        vertical-align: middle;\n",
       "    }\n",
       "\n",
       "    .dataframe tbody tr th {\n",
       "        vertical-align: top;\n",
       "    }\n",
       "\n",
       "    .dataframe thead th {\n",
       "        text-align: right;\n",
       "    }\n",
       "</style>\n",
       "<table border=\"1\" class=\"dataframe\">\n",
       "  <thead>\n",
       "    <tr style=\"text-align: right;\">\n",
       "      <th></th>\n",
       "      <th>0</th>\n",
       "      <th>1</th>\n",
       "      <th>2</th>\n",
       "    </tr>\n",
       "  </thead>\n",
       "  <tbody>\n",
       "    <tr>\n",
       "      <th>0</th>\n",
       "      <td>1.0</td>\n",
       "      <td>2.0</td>\n",
       "      <td>3.0</td>\n",
       "    </tr>\n",
       "    <tr>\n",
       "      <th>1</th>\n",
       "      <td>4.0</td>\n",
       "      <td>5.0</td>\n",
       "      <td>6.6</td>\n",
       "    </tr>\n",
       "  </tbody>\n",
       "</table>\n",
       "</div>"
      ],
      "text/plain": [
       "     0    1    2\n",
       "0  1.0  2.0  3.0\n",
       "1  4.0  5.0  6.6"
      ]
     },
     "execution_count": 18,
     "metadata": {},
     "output_type": "execute_result"
    }
   ],
   "source": [
    "df"
   ]
  },
  {
   "cell_type": "markdown",
   "id": "cdded17b",
   "metadata": {},
   "source": [
    "# Creating Numpy arrays"
   ]
  },
  {
   "cell_type": "code",
   "execution_count": 2,
   "id": "9593f57b",
   "metadata": {},
   "outputs": [
    {
     "data": {
      "text/plain": [
       "array([1, 2, 3])"
      ]
     },
     "execution_count": 2,
     "metadata": {},
     "output_type": "execute_result"
    }
   ],
   "source": [
    "import numpy as np\n",
    "sample_array = np.array([1, 2, 3])\n",
    "sample_array"
   ]
  },
  {
   "cell_type": "code",
   "execution_count": 8,
   "id": "1f6b6bae",
   "metadata": {},
   "outputs": [
    {
     "data": {
      "text/plain": [
       "array([[1, 1, 1],\n",
       "       [1, 1, 1]])"
      ]
     },
     "execution_count": 8,
     "metadata": {},
     "output_type": "execute_result"
    }
   ],
   "source": [
    "ones = np.ones((2, 3), dtype=int)\n",
    "ones"
   ]
  },
  {
   "cell_type": "code",
   "execution_count": 9,
   "id": "b7a20de1",
   "metadata": {},
   "outputs": [
    {
     "data": {
      "text/plain": [
       "array([[0, 0, 0],\n",
       "       [0, 0, 0]])"
      ]
     },
     "execution_count": 9,
     "metadata": {},
     "output_type": "execute_result"
    }
   ],
   "source": [
    "zeroes = np.zeros((2, 3), dtype=int)\n",
    "zeroes"
   ]
  },
  {
   "cell_type": "code",
   "execution_count": 10,
   "id": "06aac05a",
   "metadata": {},
   "outputs": [
    {
     "data": {
      "text/plain": [
       "array([0, 2, 4, 6, 8])"
      ]
     },
     "execution_count": 10,
     "metadata": {},
     "output_type": "execute_result"
    }
   ],
   "source": [
    "range_arr = np.arange(0, 10, 2)\n",
    "range_arr"
   ]
  },
  {
   "cell_type": "code",
   "execution_count": 18,
   "id": "79b20d1c",
   "metadata": {},
   "outputs": [
    {
     "data": {
      "text/plain": [
       "array([[1, 6, 7],\n",
       "       [3, 4, 8]])"
      ]
     },
     "execution_count": 18,
     "metadata": {},
     "output_type": "execute_result"
    }
   ],
   "source": [
    "random_arr = np.random.randint(low=1, high=10, size=(2, 3), dtype=int)\n",
    "random_arr"
   ]
  },
  {
   "cell_type": "code",
   "execution_count": 19,
   "id": "4bb8de29",
   "metadata": {},
   "outputs": [
    {
     "data": {
      "text/plain": [
       "(2, 3)"
      ]
     },
     "execution_count": 19,
     "metadata": {},
     "output_type": "execute_result"
    }
   ],
   "source": [
    "random_arr.shape"
   ]
  },
  {
   "cell_type": "code",
   "execution_count": 21,
   "id": "273bba71",
   "metadata": {},
   "outputs": [
    {
     "data": {
      "text/plain": [
       "array([[0.22586593, 0.94955948, 0.15158681],\n",
       "       [0.28114181, 0.48521306, 0.58025331]])"
      ]
     },
     "execution_count": 21,
     "metadata": {},
     "output_type": "execute_result"
    }
   ],
   "source": [
    "random_arr_2 = np.random.random((2, 3))\n",
    "random_arr_2"
   ]
  },
  {
   "cell_type": "code",
   "execution_count": 22,
   "id": "2788fca4",
   "metadata": {},
   "outputs": [
    {
     "data": {
      "text/plain": [
       "array([[0.66699803, 0.97809311, 0.10473065],\n",
       "       [0.19558684, 0.76836832, 0.12607547],\n",
       "       [0.84708004, 0.13940212, 0.8667032 ],\n",
       "       [0.11731768, 0.73594145, 0.10469178],\n",
       "       [0.28919953, 0.96526572, 0.96316882]])"
      ]
     },
     "execution_count": 22,
     "metadata": {},
     "output_type": "execute_result"
    }
   ],
   "source": [
    "random_arr_3 = np.random.rand(5, 3)\n",
    "random_arr_3"
   ]
  },
  {
   "cell_type": "code",
   "execution_count": 23,
   "id": "2ba54c65",
   "metadata": {},
   "outputs": [],
   "source": [
    "# Psuedo-random numbers\n",
    "np.random.seed()"
   ]
  },
  {
   "cell_type": "code",
   "execution_count": 3,
   "id": "17572877",
   "metadata": {},
   "outputs": [
    {
     "data": {
      "text/plain": [
       "array([[5, 0, 3],\n",
       "       [3, 7, 9],\n",
       "       [3, 5, 2],\n",
       "       [4, 7, 6],\n",
       "       [8, 8, 1]])"
      ]
     },
     "execution_count": 3,
     "metadata": {},
     "output_type": "execute_result"
    }
   ],
   "source": [
    "np.random.seed(0)\n",
    "random_arr_4 = np.random.randint(10, size=(5, 3))\n",
    "random_arr_4"
   ]
  },
  {
   "cell_type": "code",
   "execution_count": 36,
   "id": "60ba2e6b",
   "metadata": {
    "scrolled": true
   },
   "outputs": [
    {
     "data": {
      "text/plain": [
       "array([[0.07630829, 0.77991879, 0.43840923],\n",
       "       [0.72346518, 0.97798951, 0.53849587]])"
      ]
     },
     "execution_count": 36,
     "metadata": {},
     "output_type": "execute_result"
    }
   ],
   "source": [
    "np.random.seed(7)\n",
    "random_arr_5 = np.random.random((2, 3))\n",
    "random_arr_5"
   ]
  },
  {
   "cell_type": "markdown",
   "id": "b10ed272",
   "metadata": {},
   "source": [
    "# Viewing arrays and matrices"
   ]
  },
  {
   "cell_type": "code",
   "execution_count": 38,
   "id": "ae857acc",
   "metadata": {},
   "outputs": [
    {
     "data": {
      "text/plain": [
       "array([0, 1, 2, 3, 4, 5, 6, 7, 8, 9])"
      ]
     },
     "execution_count": 38,
     "metadata": {},
     "output_type": "execute_result"
    }
   ],
   "source": [
    "np.unique(random_arr_4)"
   ]
  },
  {
   "cell_type": "code",
   "execution_count": 46,
   "id": "997657cb",
   "metadata": {},
   "outputs": [
    {
     "data": {
      "text/plain": [
       "1"
      ]
     },
     "execution_count": 46,
     "metadata": {},
     "output_type": "execute_result"
    }
   ],
   "source": [
    "a1.shape\n",
    "a1[0]"
   ]
  },
  {
   "cell_type": "code",
   "execution_count": 45,
   "id": "eb06c277",
   "metadata": {},
   "outputs": [
    {
     "data": {
      "text/plain": [
       "array([1., 2., 3.])"
      ]
     },
     "execution_count": 45,
     "metadata": {},
     "output_type": "execute_result"
    }
   ],
   "source": [
    "a2.shape\n",
    "a2[0]"
   ]
  },
  {
   "cell_type": "code",
   "execution_count": 47,
   "id": "783190ad",
   "metadata": {},
   "outputs": [
    {
     "data": {
      "text/plain": [
       "array([[1, 2, 3],\n",
       "       [4, 5, 6],\n",
       "       [7, 8, 9]])"
      ]
     },
     "execution_count": 47,
     "metadata": {},
     "output_type": "execute_result"
    }
   ],
   "source": [
    "a3.shape\n",
    "a3[0]"
   ]
  },
  {
   "cell_type": "code",
   "execution_count": 52,
   "id": "589c8320",
   "metadata": {},
   "outputs": [
    {
     "data": {
      "text/plain": [
       "array([[1., 2., 3.]])"
      ]
     },
     "execution_count": 52,
     "metadata": {},
     "output_type": "execute_result"
    }
   ],
   "source": [
    "a2\n",
    "a2[:1]"
   ]
  },
  {
   "cell_type": "code",
   "execution_count": 60,
   "id": "f4f756e3",
   "metadata": {},
   "outputs": [
    {
     "data": {
      "text/plain": [
       "array([[[ 1,  2,  3],\n",
       "        [ 4,  5,  6],\n",
       "        [ 7,  8,  9]],\n",
       "\n",
       "       [[10, 11, 12],\n",
       "        [13, 14, 15],\n",
       "        [16, 17, 18]]])"
      ]
     },
     "execution_count": 60,
     "metadata": {},
     "output_type": "execute_result"
    }
   ],
   "source": [
    "a3"
   ]
  },
  {
   "cell_type": "code",
   "execution_count": 61,
   "id": "a46f5d30",
   "metadata": {},
   "outputs": [
    {
     "data": {
      "text/plain": [
       "array([[[ 1,  2],\n",
       "        [ 4,  5]],\n",
       "\n",
       "       [[10, 11],\n",
       "        [13, 14]]])"
      ]
     },
     "execution_count": 61,
     "metadata": {},
     "output_type": "execute_result"
    }
   ],
   "source": [
    "a3[:2, :2, :2]"
   ]
  },
  {
   "cell_type": "code",
   "execution_count": 4,
   "id": "2a9cf5ff",
   "metadata": {},
   "outputs": [
    {
     "data": {
      "text/plain": [
       "array([[[[6, 7, 7, 8, 1],\n",
       "         [5, 9, 8, 9, 4],\n",
       "         [3, 0, 3, 5, 0],\n",
       "         [2, 3, 8, 1, 3]],\n",
       "\n",
       "        [[3, 3, 7, 0, 1],\n",
       "         [9, 9, 0, 4, 7],\n",
       "         [3, 2, 7, 2, 0],\n",
       "         [0, 4, 5, 5, 6]],\n",
       "\n",
       "        [[8, 4, 1, 4, 9],\n",
       "         [8, 1, 1, 7, 9],\n",
       "         [9, 3, 6, 7, 2],\n",
       "         [0, 3, 5, 9, 4]]],\n",
       "\n",
       "\n",
       "       [[[4, 6, 4, 4, 3],\n",
       "         [4, 4, 8, 4, 3],\n",
       "         [7, 5, 5, 0, 1],\n",
       "         [5, 9, 3, 0, 5]],\n",
       "\n",
       "        [[0, 1, 2, 4, 2],\n",
       "         [0, 3, 2, 0, 7],\n",
       "         [5, 9, 0, 2, 7],\n",
       "         [2, 9, 2, 3, 3]],\n",
       "\n",
       "        [[2, 3, 4, 1, 2],\n",
       "         [9, 1, 4, 6, 8],\n",
       "         [2, 3, 0, 0, 6],\n",
       "         [0, 6, 3, 3, 8]]]])"
      ]
     },
     "execution_count": 4,
     "metadata": {},
     "output_type": "execute_result"
    }
   ],
   "source": [
    "a4 = np.random.randint(10, size=(2, 3, 4, 5))\n",
    "a4"
   ]
  },
  {
   "cell_type": "code",
   "execution_count": 5,
   "id": "496b6b15",
   "metadata": {},
   "outputs": [
    {
     "data": {
      "text/plain": [
       "array([0, 1, 2, 3, 4, 5, 6, 7, 8, 9])"
      ]
     },
     "execution_count": 5,
     "metadata": {},
     "output_type": "execute_result"
    }
   ],
   "source": [
    "np.unique(a4)"
   ]
  },
  {
   "cell_type": "code",
   "execution_count": 7,
   "id": "e2714f83",
   "metadata": {},
   "outputs": [
    {
     "data": {
      "text/plain": [
       "((2, 3, 4, 5), 4)"
      ]
     },
     "execution_count": 7,
     "metadata": {},
     "output_type": "execute_result"
    }
   ],
   "source": [
    "a4.shape, a4.ndim"
   ]
  },
  {
   "cell_type": "code",
   "execution_count": 10,
   "id": "81fd1ca7",
   "metadata": {},
   "outputs": [
    {
     "data": {
      "text/plain": [
       "array([[[[6, 7],\n",
       "         [5, 9]],\n",
       "\n",
       "        [[3, 3],\n",
       "         [9, 9]]],\n",
       "\n",
       "\n",
       "       [[[4, 6],\n",
       "         [4, 4]],\n",
       "\n",
       "        [[0, 1],\n",
       "         [0, 3]]]])"
      ]
     },
     "execution_count": 10,
     "metadata": {},
     "output_type": "execute_result"
    }
   ],
   "source": [
    "a4[:2, :2, :2, :2]"
   ]
  },
  {
   "cell_type": "code",
   "execution_count": 11,
   "id": "a67dbb35",
   "metadata": {},
   "outputs": [
    {
     "data": {
      "text/plain": [
       "array([[[4, 6, 4, 4, 3],\n",
       "        [4, 4, 8, 4, 3],\n",
       "        [7, 5, 5, 0, 1],\n",
       "        [5, 9, 3, 0, 5]],\n",
       "\n",
       "       [[0, 1, 2, 4, 2],\n",
       "        [0, 3, 2, 0, 7],\n",
       "        [5, 9, 0, 2, 7],\n",
       "        [2, 9, 2, 3, 3]],\n",
       "\n",
       "       [[2, 3, 4, 1, 2],\n",
       "        [9, 1, 4, 6, 8],\n",
       "        [2, 3, 0, 0, 6],\n",
       "        [0, 6, 3, 3, 8]]])"
      ]
     },
     "execution_count": 11,
     "metadata": {},
     "output_type": "execute_result"
    }
   ],
   "source": [
    "a4[1]"
   ]
  },
  {
   "cell_type": "code",
   "execution_count": 13,
   "id": "9636076f",
   "metadata": {},
   "outputs": [
    {
     "data": {
      "text/plain": [
       "array([[[8, 0, 8],\n",
       "        [5, 9, 0],\n",
       "        [9, 6, 5]],\n",
       "\n",
       "       [[3, 1, 8],\n",
       "        [0, 4, 9],\n",
       "        [6, 5, 7]]])"
      ]
     },
     "execution_count": 13,
     "metadata": {},
     "output_type": "execute_result"
    }
   ],
   "source": [
    "a6 = np.random.randint(10, size=(2, 3, 3))\n",
    "a6"
   ]
  },
  {
   "cell_type": "code",
   "execution_count": 17,
   "id": "23b0bf88",
   "metadata": {},
   "outputs": [
    {
     "data": {
      "text/plain": [
       "array([[[8, 0]],\n",
       "\n",
       "       [[3, 1]]])"
      ]
     },
     "execution_count": 17,
     "metadata": {},
     "output_type": "execute_result"
    }
   ],
   "source": [
    "a6[:2, :1, :2]"
   ]
  },
  {
   "cell_type": "code",
   "execution_count": 20,
   "id": "8b2a0038",
   "metadata": {},
   "outputs": [
    {
     "data": {
      "text/plain": [
       "(2, 3, 4, 5)"
      ]
     },
     "execution_count": 20,
     "metadata": {},
     "output_type": "execute_result"
    }
   ],
   "source": [
    "a4.shape"
   ]
  },
  {
   "cell_type": "code",
   "execution_count": 22,
   "id": "6a22fe1f",
   "metadata": {},
   "outputs": [
    {
     "data": {
      "text/plain": [
       "array([[[[6, 7, 7, 8, 1],\n",
       "         [5, 9, 8, 9, 4],\n",
       "         [3, 0, 3, 5, 0],\n",
       "         [2, 3, 8, 1, 3]],\n",
       "\n",
       "        [[3, 3, 7, 0, 1],\n",
       "         [9, 9, 0, 4, 7],\n",
       "         [3, 2, 7, 2, 0],\n",
       "         [0, 4, 5, 5, 6]],\n",
       "\n",
       "        [[8, 4, 1, 4, 9],\n",
       "         [8, 1, 1, 7, 9],\n",
       "         [9, 3, 6, 7, 2],\n",
       "         [0, 3, 5, 9, 4]]],\n",
       "\n",
       "\n",
       "       [[[4, 6, 4, 4, 3],\n",
       "         [4, 4, 8, 4, 3],\n",
       "         [7, 5, 5, 0, 1],\n",
       "         [5, 9, 3, 0, 5]],\n",
       "\n",
       "        [[0, 1, 2, 4, 2],\n",
       "         [0, 3, 2, 0, 7],\n",
       "         [5, 9, 0, 2, 7],\n",
       "         [2, 9, 2, 3, 3]],\n",
       "\n",
       "        [[2, 3, 4, 1, 2],\n",
       "         [9, 1, 4, 6, 8],\n",
       "         [2, 3, 0, 0, 6],\n",
       "         [0, 6, 3, 3, 8]]]])"
      ]
     },
     "execution_count": 22,
     "metadata": {},
     "output_type": "execute_result"
    }
   ],
   "source": [
    "# skip 2, skip 3, skip 4, show the first of each number in array\n",
    "# a4[:, :, :, :1]"
   ]
  },
  {
   "cell_type": "code",
   "execution_count": 26,
   "id": "057c386a",
   "metadata": {},
   "outputs": [
    {
     "data": {
      "text/plain": [
       "1"
      ]
     },
     "execution_count": 26,
     "metadata": {},
     "output_type": "execute_result"
    }
   ],
   "source": [
    "a4[0,0,0,4]"
   ]
  },
  {
   "cell_type": "markdown",
   "id": "0481a9b8",
   "metadata": {},
   "source": [
    "# Manipulating and comparing arrays"
   ]
  },
  {
   "cell_type": "markdown",
   "id": "d7c5a184",
   "metadata": {},
   "source": [
    "### Aritchmetic arrays"
   ]
  },
  {
   "cell_type": "code",
   "execution_count": 1,
   "id": "b3b7ab2b",
   "metadata": {},
   "outputs": [],
   "source": [
    "import numpy as np"
   ]
  },
  {
   "cell_type": "code",
   "execution_count": 2,
   "id": "dd6bef16",
   "metadata": {},
   "outputs": [],
   "source": [
    "ones = np.ones(3, dtype=int)\n",
    "a1 = np.array((1, 2, 3), dtype=int)"
   ]
  },
  {
   "cell_type": "code",
   "execution_count": 3,
   "id": "ce0d22b7",
   "metadata": {},
   "outputs": [
    {
     "data": {
      "text/plain": [
       "(array([1, 1, 1]), array([1, 2, 3]))"
      ]
     },
     "execution_count": 3,
     "metadata": {},
     "output_type": "execute_result"
    }
   ],
   "source": [
    "ones, a1"
   ]
  },
  {
   "cell_type": "code",
   "execution_count": 4,
   "id": "1f7421a6",
   "metadata": {},
   "outputs": [
    {
     "data": {
      "text/plain": [
       "array([2, 3, 4])"
      ]
     },
     "execution_count": 4,
     "metadata": {},
     "output_type": "execute_result"
    }
   ],
   "source": [
    "a1 + ones"
   ]
  },
  {
   "cell_type": "code",
   "execution_count": 5,
   "id": "fb75af9c",
   "metadata": {},
   "outputs": [
    {
     "data": {
      "text/plain": [
       "array([0, 1, 2])"
      ]
     },
     "execution_count": 5,
     "metadata": {},
     "output_type": "execute_result"
    }
   ],
   "source": [
    "a1 - ones"
   ]
  },
  {
   "cell_type": "code",
   "execution_count": 6,
   "id": "f5fe042d",
   "metadata": {},
   "outputs": [
    {
     "data": {
      "text/plain": [
       "array([1, 2, 3])"
      ]
     },
     "execution_count": 6,
     "metadata": {},
     "output_type": "execute_result"
    }
   ],
   "source": [
    "a1 * ones"
   ]
  },
  {
   "cell_type": "code",
   "execution_count": 7,
   "id": "5868f5ab",
   "metadata": {},
   "outputs": [
    {
     "data": {
      "text/plain": [
       "array([[1, 2, 3],\n",
       "       [4, 5, 6]])"
      ]
     },
     "execution_count": 7,
     "metadata": {},
     "output_type": "execute_result"
    }
   ],
   "source": [
    "a2 = np.array([[1,2, 3], [4, 5, 6]], dtype=int)\n",
    "a2"
   ]
  },
  {
   "cell_type": "code",
   "execution_count": 8,
   "id": "67b24a44",
   "metadata": {},
   "outputs": [
    {
     "data": {
      "text/plain": [
       "array([[ 1,  4,  9],\n",
       "       [ 4, 10, 18]])"
      ]
     },
     "execution_count": 8,
     "metadata": {},
     "output_type": "execute_result"
    }
   ],
   "source": [
    "a1 * a2"
   ]
  },
  {
   "cell_type": "code",
   "execution_count": 9,
   "id": "9042b7ed",
   "metadata": {},
   "outputs": [],
   "source": [
    "a3 = np.array([[[1, 2, 3], [4, 5, 6], [7, 8, 9]], [[10, 11, 12], [13, 14, 15], [16, 17, 18]]])"
   ]
  },
  {
   "cell_type": "code",
   "execution_count": 10,
   "id": "f6394521",
   "metadata": {},
   "outputs": [
    {
     "data": {
      "text/plain": [
       "((2, 3), (2, 3, 3))"
      ]
     },
     "execution_count": 10,
     "metadata": {},
     "output_type": "execute_result"
    }
   ],
   "source": [
    "a2.shape, a3.shape"
   ]
  },
  {
   "cell_type": "code",
   "execution_count": 13,
   "id": "9d520f3e",
   "metadata": {},
   "outputs": [
    {
     "data": {
      "text/plain": [
       "array([[[  1,   4,   9],\n",
       "        [  4,  10,  18],\n",
       "        [  7,  16,  27]],\n",
       "\n",
       "       [[ 40,  55,  72],\n",
       "        [ 52,  70,  90],\n",
       "        [ 64,  85, 108]]])"
      ]
     },
     "execution_count": 13,
     "metadata": {},
     "output_type": "execute_result"
    }
   ],
   "source": [
    "a2[:, np.newaxis] * a3"
   ]
  },
  {
   "cell_type": "code",
   "execution_count": 47,
   "id": "f0016582",
   "metadata": {},
   "outputs": [],
   "source": [
    "new_a2 = a2.reshape(2, 3, 1)"
   ]
  },
  {
   "cell_type": "code",
   "execution_count": 48,
   "id": "518c9802",
   "metadata": {},
   "outputs": [
    {
     "data": {
      "text/plain": [
       "array([[[1],\n",
       "        [2],\n",
       "        [3]],\n",
       "\n",
       "       [[4],\n",
       "        [5],\n",
       "        [6]]])"
      ]
     },
     "execution_count": 48,
     "metadata": {},
     "output_type": "execute_result"
    }
   ],
   "source": [
    "new_a2"
   ]
  },
  {
   "cell_type": "code",
   "execution_count": 49,
   "id": "6ef299af",
   "metadata": {},
   "outputs": [
    {
     "data": {
      "text/plain": [
       "array([[[  1,   2,   3],\n",
       "        [  8,  10,  12],\n",
       "        [ 21,  24,  27]],\n",
       "\n",
       "       [[ 40,  44,  48],\n",
       "        [ 65,  70,  75],\n",
       "        [ 96, 102, 108]]])"
      ]
     },
     "execution_count": 49,
     "metadata": {},
     "output_type": "execute_result"
    }
   ],
   "source": [
    "new_a2 * a3"
   ]
  },
  {
   "cell_type": "code",
   "execution_count": 50,
   "id": "89a34c2a",
   "metadata": {},
   "outputs": [
    {
     "data": {
      "text/plain": [
       "array([1., 2., 3.])"
      ]
     },
     "execution_count": 50,
     "metadata": {},
     "output_type": "execute_result"
    }
   ],
   "source": [
    "a1 / ones"
   ]
  },
  {
   "cell_type": "code",
   "execution_count": 51,
   "id": "962ce2a2",
   "metadata": {},
   "outputs": [
    {
     "data": {
      "text/plain": [
       "array([[1, 1, 1],\n",
       "       [4, 2, 2]])"
      ]
     },
     "execution_count": 51,
     "metadata": {},
     "output_type": "execute_result"
    }
   ],
   "source": [
    "a2 // a1"
   ]
  },
  {
   "cell_type": "code",
   "execution_count": 63,
   "id": "e81256a5",
   "metadata": {},
   "outputs": [
    {
     "data": {
      "text/plain": [
       "array([[1, 2, 3],\n",
       "       [4, 5, 6]])"
      ]
     },
     "execution_count": 63,
     "metadata": {},
     "output_type": "execute_result"
    }
   ],
   "source": [
    "a2"
   ]
  },
  {
   "cell_type": "code",
   "execution_count": 65,
   "id": "c5fac423",
   "metadata": {},
   "outputs": [
    {
     "data": {
      "text/plain": [
       "array([[ 1,  4,  9],\n",
       "       [16, 25, 36]])"
      ]
     },
     "execution_count": 65,
     "metadata": {},
     "output_type": "execute_result"
    }
   ],
   "source": [
    "np.square(a2)"
   ]
  },
  {
   "cell_type": "code",
   "execution_count": 66,
   "id": "f29ffa0b",
   "metadata": {},
   "outputs": [
    {
     "data": {
      "text/plain": [
       "array([[[  1,   4,   9],\n",
       "        [ 16,  25,  36],\n",
       "        [ 49,  64,  81]],\n",
       "\n",
       "       [[100, 121, 144],\n",
       "        [169, 196, 225],\n",
       "        [256, 289, 324]]])"
      ]
     },
     "execution_count": 66,
     "metadata": {},
     "output_type": "execute_result"
    }
   ],
   "source": [
    "np.square(a3)"
   ]
  },
  {
   "cell_type": "code",
   "execution_count": 67,
   "id": "59699eeb",
   "metadata": {},
   "outputs": [
    {
     "data": {
      "text/plain": [
       "array([[ 2,  4,  6],\n",
       "       [ 8, 10, 12]])"
      ]
     },
     "execution_count": 67,
     "metadata": {},
     "output_type": "execute_result"
    }
   ],
   "source": [
    "np.add(a2, a2)"
   ]
  },
  {
   "cell_type": "code",
   "execution_count": 68,
   "id": "8663b128",
   "metadata": {},
   "outputs": [
    {
     "data": {
      "text/plain": [
       "array([1, 0, 1], dtype=int32)"
      ]
     },
     "execution_count": 68,
     "metadata": {},
     "output_type": "execute_result"
    }
   ],
   "source": [
    "a1 % 2"
   ]
  },
  {
   "cell_type": "code",
   "execution_count": 69,
   "id": "c45e8a57",
   "metadata": {},
   "outputs": [
    {
     "data": {
      "text/plain": [
       "array([1, 0, 1], dtype=int32)"
      ]
     },
     "execution_count": 69,
     "metadata": {},
     "output_type": "execute_result"
    }
   ],
   "source": [
    "np.mod(a1, 2)"
   ]
  },
  {
   "cell_type": "code",
   "execution_count": 1,
   "id": "556c38ef",
   "metadata": {},
   "outputs": [],
   "source": [
    "import numpy as np"
   ]
  },
  {
   "cell_type": "code",
   "execution_count": 10,
   "id": "c5942220",
   "metadata": {},
   "outputs": [],
   "source": [
    "a1 = np.random.randint(10, size=(2, 3))\n",
    "a2 = np.random.randint(10, size=(2,3,3))"
   ]
  },
  {
   "cell_type": "code",
   "execution_count": 11,
   "id": "544ae0a1",
   "metadata": {},
   "outputs": [
    {
     "data": {
      "text/plain": [
       "(6, (2, 3), 18, (2, 3, 3))"
      ]
     },
     "execution_count": 11,
     "metadata": {},
     "output_type": "execute_result"
    }
   ],
   "source": [
    "a1.size, a1.shape, a2.size, a2.shape"
   ]
  },
  {
   "cell_type": "code",
   "execution_count": 14,
   "id": "77c27a96",
   "metadata": {},
   "outputs": [],
   "source": [
    "new_a1 = np.reshape(a1, newshape=(2, 3, 1))"
   ]
  },
  {
   "cell_type": "code",
   "execution_count": 16,
   "id": "8de18975",
   "metadata": {},
   "outputs": [
    {
     "data": {
      "text/plain": [
       "array([[[ 7,  1,  8],\n",
       "        [32, 16,  0],\n",
       "        [10, 40, 20]],\n",
       "\n",
       "       [[ 8,  8, 48],\n",
       "        [ 0, 25,  0],\n",
       "        [ 8,  8, 16]]])"
      ]
     },
     "execution_count": 16,
     "metadata": {},
     "output_type": "execute_result"
    }
   ],
   "source": [
    "new_a1 * a2"
   ]
  },
  {
   "cell_type": "markdown",
   "id": "ff1fc98c",
   "metadata": {},
   "source": [
    "# Aggregation "
   ]
  },
  {
   "cell_type": "code",
   "execution_count": 17,
   "id": "5c123759",
   "metadata": {},
   "outputs": [],
   "source": [
    "# Aggregation = perfoming the same operation on a number of things"
   ]
  },
  {
   "cell_type": "code",
   "execution_count": 18,
   "id": "6f0d5e22",
   "metadata": {},
   "outputs": [
    {
     "data": {
      "text/plain": [
       "list"
      ]
     },
     "execution_count": 18,
     "metadata": {},
     "output_type": "execute_result"
    }
   ],
   "source": [
    "list_1 = [1, 2, 3]\n",
    "type(list_1)"
   ]
  },
  {
   "cell_type": "code",
   "execution_count": 19,
   "id": "486274f3",
   "metadata": {},
   "outputs": [
    {
     "data": {
      "text/plain": [
       "6"
      ]
     },
     "execution_count": 19,
     "metadata": {},
     "output_type": "execute_result"
    }
   ],
   "source": [
    "sum(list_1)"
   ]
  },
  {
   "cell_type": "code",
   "execution_count": 24,
   "id": "ba533a99",
   "metadata": {},
   "outputs": [
    {
     "data": {
      "text/plain": [
       "numpy.ndarray"
      ]
     },
     "execution_count": 24,
     "metadata": {},
     "output_type": "execute_result"
    }
   ],
   "source": [
    "a1 = np.array([1, 2, 3], dtype=int)\n",
    "type(a1)"
   ]
  },
  {
   "cell_type": "code",
   "execution_count": 25,
   "id": "e7d24ee2",
   "metadata": {},
   "outputs": [
    {
     "data": {
      "text/plain": [
       "6"
      ]
     },
     "execution_count": 25,
     "metadata": {},
     "output_type": "execute_result"
    }
   ],
   "source": [
    "sum(a1)"
   ]
  },
  {
   "cell_type": "code",
   "execution_count": 26,
   "id": "3673e712",
   "metadata": {},
   "outputs": [
    {
     "data": {
      "text/plain": [
       "6"
      ]
     },
     "execution_count": 26,
     "metadata": {},
     "output_type": "execute_result"
    }
   ],
   "source": [
    "np.sum(a1)"
   ]
  },
  {
   "cell_type": "code",
   "execution_count": 27,
   "id": "e4c68c28",
   "metadata": {},
   "outputs": [],
   "source": [
    "# Use pythons methods on python datatypes and use\n",
    "# numpy methods on numpy arrays"
   ]
  },
  {
   "cell_type": "code",
   "execution_count": 29,
   "id": "cdd28430",
   "metadata": {},
   "outputs": [
    {
     "data": {
      "text/plain": [
       "100000"
      ]
     },
     "execution_count": 29,
     "metadata": {},
     "output_type": "execute_result"
    }
   ],
   "source": [
    "massive_arr = np.random.random(100000)\n",
    "massive_arr.size"
   ]
  },
  {
   "cell_type": "code",
   "execution_count": 30,
   "id": "28051af9",
   "metadata": {},
   "outputs": [
    {
     "data": {
      "text/plain": [
       "array([6.40412848e-01, 4.70800010e-01, 8.59696409e-01, 3.91050666e-01,\n",
       "       5.49460057e-01, 2.40928548e-01, 5.41370234e-01, 6.90579984e-01,\n",
       "       8.08576565e-01, 7.47965287e-01, 8.82932112e-01, 9.81544283e-02,\n",
       "       7.62461313e-01, 5.19473258e-01, 8.48757581e-02, 2.50125316e-01,\n",
       "       5.78429888e-01, 2.40360163e-01, 2.39739477e-01, 6.80940315e-01,\n",
       "       5.34267907e-01, 7.70628755e-01, 6.51731609e-05, 4.82745261e-01,\n",
       "       4.78864538e-01, 7.91076197e-02, 2.66314879e-01, 5.02369100e-01,\n",
       "       5.70040096e-01, 3.98541863e-01, 7.42742667e-01, 6.97043937e-01,\n",
       "       2.51879288e-02, 7.69806795e-01, 5.60203633e-01, 2.34389896e-01,\n",
       "       9.72296028e-03, 5.12311636e-01, 5.02695372e-01, 1.27990862e-03,\n",
       "       8.46260681e-01, 7.31972692e-02, 3.84415906e-01, 5.22871130e-01,\n",
       "       6.92381976e-01, 1.22580851e-01, 1.06658386e-01, 2.30629313e-01,\n",
       "       3.99315054e-01, 7.37118700e-01, 6.66813844e-01, 9.84958750e-01,\n",
       "       8.11613491e-01, 4.29444283e-01, 8.61410359e-01, 1.61189841e-01,\n",
       "       1.38500098e-02, 3.24264151e-01, 1.78825027e-01, 6.95772048e-01,\n",
       "       5.17515699e-02, 9.49794260e-01, 1.60416051e-01, 5.09650505e-01,\n",
       "       3.96677459e-02, 9.48352734e-01, 7.25008303e-01, 8.78918603e-02,\n",
       "       3.09613118e-01, 1.80650999e-02, 1.74741346e-01, 6.25684754e-01,\n",
       "       6.34596756e-01, 2.14392788e-02, 5.14004038e-01, 1.86439625e-01,\n",
       "       4.63576256e-01, 7.50863681e-01, 7.87378947e-01, 2.70580108e-01,\n",
       "       8.24031504e-01, 9.59650817e-01, 6.99756391e-01, 5.52890150e-01,\n",
       "       8.63326253e-01, 4.39368602e-01, 1.73987864e-01, 5.22248089e-01,\n",
       "       6.10979931e-02, 7.61828319e-01, 1.46108378e-01, 9.92698577e-01,\n",
       "       5.73661281e-01, 6.20232318e-01, 5.78284691e-01, 7.82768615e-01,\n",
       "       6.53984359e-01, 9.82746540e-01, 3.61880725e-01, 4.05546013e-01])"
      ]
     },
     "execution_count": 30,
     "metadata": {},
     "output_type": "execute_result"
    }
   ],
   "source": [
    "massive_arr[:100]"
   ]
  },
  {
   "cell_type": "code",
   "execution_count": 31,
   "id": "657278b3",
   "metadata": {},
   "outputs": [
    {
     "name": "stdout",
     "output_type": "stream",
     "text": [
      "9.84 ms ± 180 µs per loop (mean ± std. dev. of 7 runs, 100 loops each)\n",
      "53.3 µs ± 867 ns per loop (mean ± std. dev. of 7 runs, 10,000 loops each)\n"
     ]
    }
   ],
   "source": [
    "%timeit sum(massive_arr)\n",
    "%timeit np.sum(massive_arr)"
   ]
  },
  {
   "cell_type": "code",
   "execution_count": 33,
   "id": "6709e036",
   "metadata": {},
   "outputs": [],
   "source": [
    "a2 = np.array([[1, 2, 3], [4, 5, 6]], dtype=int)"
   ]
  },
  {
   "cell_type": "code",
   "execution_count": 34,
   "id": "5a80ff60",
   "metadata": {},
   "outputs": [
    {
     "data": {
      "text/plain": [
       "3.5"
      ]
     },
     "execution_count": 34,
     "metadata": {},
     "output_type": "execute_result"
    }
   ],
   "source": [
    "np.mean(a2)"
   ]
  },
  {
   "cell_type": "code",
   "execution_count": 35,
   "id": "c48750c0",
   "metadata": {},
   "outputs": [
    {
     "data": {
      "text/plain": [
       "6"
      ]
     },
     "execution_count": 35,
     "metadata": {},
     "output_type": "execute_result"
    }
   ],
   "source": [
    "np.max(a2)"
   ]
  },
  {
   "cell_type": "code",
   "execution_count": 36,
   "id": "6be447af",
   "metadata": {},
   "outputs": [
    {
     "data": {
      "text/plain": [
       "1"
      ]
     },
     "execution_count": 36,
     "metadata": {},
     "output_type": "execute_result"
    }
   ],
   "source": [
    "np.min(a2)"
   ]
  },
  {
   "cell_type": "code",
   "execution_count": 37,
   "id": "d273bc92",
   "metadata": {},
   "outputs": [
    {
     "data": {
      "text/plain": [
       "1.707825127659933"
      ]
     },
     "execution_count": 37,
     "metadata": {},
     "output_type": "execute_result"
    }
   ],
   "source": [
    "# Standard deviation = A measure of how spread out a group of numbers is from the mean\n",
    "np.std(a2)"
   ]
  },
  {
   "cell_type": "code",
   "execution_count": 38,
   "id": "7bf102c0",
   "metadata": {},
   "outputs": [
    {
     "data": {
      "text/plain": [
       "2.9166666666666665"
      ]
     },
     "execution_count": 38,
     "metadata": {},
     "output_type": "execute_result"
    }
   ],
   "source": [
    "# Variance = measure of the average degree to which each number is different\n",
    "# Higher variance = higher range of numbers\n",
    "# Lower variance = lower range of numbers\n",
    "np.var(a2)"
   ]
  },
  {
   "cell_type": "code",
   "execution_count": 39,
   "id": "8d926ec0",
   "metadata": {},
   "outputs": [
    {
     "data": {
      "text/plain": [
       "1.707825127659933"
      ]
     },
     "execution_count": 39,
     "metadata": {},
     "output_type": "execute_result"
    }
   ],
   "source": [
    "# Standard deviarion = square root of variance\n",
    "np.sqrt(np.var(a2))"
   ]
  },
  {
   "cell_type": "code",
   "execution_count": null,
   "id": "2349409b",
   "metadata": {},
   "outputs": [],
   "source": [
    "import numpy as np\n",
    "# Demo of std and var\n",
    "\n",
    "high_var_arr = np.array([1, 100, 200, 300, 4000, 5000])\n",
    "low_var_arr = np.array([2, 4, 6, 8, 10])"
   ]
  }
 ],
 "metadata": {
  "kernelspec": {
   "display_name": "Python 3 (ipykernel)",
   "language": "python",
   "name": "python3"
  },
  "language_info": {
   "codemirror_mode": {
    "name": "ipython",
    "version": 3
   },
   "file_extension": ".py",
   "mimetype": "text/x-python",
   "name": "python",
   "nbconvert_exporter": "python",
   "pygments_lexer": "ipython3",
   "version": "3.11.5"
  }
 },
 "nbformat": 4,
 "nbformat_minor": 5
}
