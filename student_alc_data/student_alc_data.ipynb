{
 "cells": [
  {
   "cell_type": "code",
   "execution_count": 28,
   "id": "79feb407-ad44-4f8a-9646-c09c42a2f4f3",
   "metadata": {
    "tags": []
   },
   "outputs": [],
   "source": [
    "import pandas as pd\n",
    "\n",
    "df = pd.read_csv(\"student-mat.csv\")"
   ]
  },
  {
   "cell_type": "code",
   "execution_count": null,
   "id": "e3de59ae-7fe8-4e0d-9f34-48439e9a7852",
   "metadata": {
    "tags": []
   },
   "outputs": [],
   "source": [
    "df.head()"
   ]
  },
  {
   "cell_type": "code",
   "execution_count": 30,
   "id": "475bfcd6-065d-4348-bd05-9065319bf4aa",
   "metadata": {
    "tags": []
   },
   "outputs": [],
   "source": [
    "female_under_30 = df[(df[\"sex\"] == \"F\") & (df[\"age\"] < 30)]"
   ]
  },
  {
   "cell_type": "code",
   "execution_count": null,
   "id": "7981f633-ac14-4317-af2f-3db72045104e",
   "metadata": {},
   "outputs": [],
   "source": []
  }
 ],
 "metadata": {
  "kernelspec": {
   "display_name": "Python 3 (ipykernel)",
   "language": "python",
   "name": "python3"
  },
  "language_info": {
   "codemirror_mode": {
    "name": "ipython",
    "version": 3
   },
   "file_extension": ".py",
   "mimetype": "text/x-python",
   "name": "python",
   "nbconvert_exporter": "python",
   "pygments_lexer": "ipython3",
   "version": "3.11.5"
  }
 },
 "nbformat": 4,
 "nbformat_minor": 5
}
